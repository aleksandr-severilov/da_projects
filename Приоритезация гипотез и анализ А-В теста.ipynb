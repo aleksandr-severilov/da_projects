{
 "cells": [
  {
   "cell_type": "markdown",
   "metadata": {},
   "source": [
    "# Приоритизация гипотез с использованием фреймворков ICE и RICE. Анализ результатов А/В-теста."
   ]
  },
  {
   "cell_type": "markdown",
   "metadata": {},
   "source": [
    "## Описание проекта"
   ]
  },
  {
   "cell_type": "markdown",
   "metadata": {},
   "source": [
    "В крупном интернет-магазине отдел аналитики совместно с отделом маркетинга подготовлен ряд гипотез для увеличения выручки и конверсии пользователей.\n",
    "\n",
    "Необходимо приоритизировать гипотезы и определить ту, которая будет проверена с помощью проведения А/В-теста. Для этого будут использованы фреймворки `ICE` и `RICE`.\n",
    "\n",
    "Затем будет проведено А/В-тестирование, по итогам которого мы будем оценивать две метрики:\n",
    "- конверсию посетителей в покупателей;\n",
    "- сумма среднего чека.\n",
    "\n",
    "Для этого мы проведем ряд действий:\n",
    "1. Предварительно оценим имеющиеся данные и подготовим их к анализу;\n",
    "2. Построим график кумулятивной выручки по группам;\n",
    "3. Построим график кумулятивного среднего чека по группам;\n",
    "4. Построим график относительного изменения кумулятивного чека по группам;\n",
    "5. Построим график кумулятивного среднего количества заказов на покупателся по группам;\n",
    "6. Построим график относительного изменения кумулятивного среднего количества заказов на пользователя;\n",
    "7. Определим выбросы среди количества покупок и суммы чека;\n",
    "8. Проведем статистический тест Манна-Уитни для сравнения среднего количества заказов в группах А и В.\n",
    "9. Проведем статистический тест Манна-Уитни для сравнения средней суммы чека заказа для групп А и В.\n",
    "10. Проведем те же тесты, но предварительно очистим данные от выбросов."
   ]
  },
  {
   "cell_type": "markdown",
   "metadata": {},
   "source": [
    "В ходе проекта используются три набора данных:\n",
    "   1. **hypothesis.csv** - файл, содержащий информацию о гипотезах. В данном файле есть следующие столбцы:\n",
    "      - `Hypothesis` — краткое описание гипотезы;\n",
    "      - `Reach` — охват пользователей по 10-балльной шкале;\n",
    "      - `Impact` — влияние на пользователей по 10-балльной шкале;\n",
    "      - `Confidence` — уверенность в гипотезе по 10-балльной шкале;\n",
    "      - `Efforts` — затраты ресурсов на проверку гипотезы по 10-балльной шкале. Чем больше значение Efforts, тем дороже проверка гипотезы.\n",
    "      \n",
    "   2. **orders.csv** - файл, содержащий информацию о покупках пользователей. В данном файле есть следующие столбцы:\n",
    "      - `transactionId` — идентификатор заказа;\n",
    "      - `visitorId` — идентификатор пользователя, совершившего заказ;\n",
    "      - `date` — дата, когда был совершён заказ;\n",
    "      - `revenue` — выручка заказа;\n",
    "      - `group` — группа A/B-теста, в которую попал заказ.\n",
    "      \n",
    "   3. **visitors.csv** - файл, содержащий информацию о посетителях интернет-магазина. В данном файле есть следующие столбцы:\n",
    "      - `date` — дата;\n",
    "      - `group` — группа A/B-теста;\n",
    "      - `visitors` — количество пользователей в указанную дату в указанной группе A/B-теста"
   ]
  },
  {
   "cell_type": "markdown",
   "metadata": {},
   "source": [
    "## Загрузка библиотек"
   ]
  },
  {
   "cell_type": "code",
   "execution_count": 1,
   "metadata": {},
   "outputs": [],
   "source": [
    "import pandas as pd\n",
    "import scipy.stats as stats\n",
    "import numpy as np\n",
    "import matplotlib.pyplot as plt"
   ]
  },
  {
   "cell_type": "markdown",
   "metadata": {},
   "source": [
    "## Загрузка и предварительная оценка данных"
   ]
  },
  {
   "cell_type": "markdown",
   "metadata": {},
   "source": [
    "Сначала загрузим файл с гипотезами и заодно переведем названия столбцов в нижний регистр."
   ]
  },
  {
   "cell_type": "markdown",
   "metadata": {},
   "source": [
    "### Файл с гипотезами (hypothesis)"
   ]
  },
  {
   "cell_type": "code",
   "execution_count": 2,
   "metadata": {},
   "outputs": [],
   "source": [
    "try:\n",
    "    hypothesis = pd.read_csv('')\n",
    "except:\n",
    "    hypothesis = pd.read_csv('AB-test/hypothesis.csv')"
   ]
  },
  {
   "cell_type": "code",
   "execution_count": 3,
   "metadata": {},
   "outputs": [],
   "source": [
    "hypothesis.columns = hypothesis.columns.str.lower()"
   ]
  },
  {
   "cell_type": "code",
   "execution_count": 4,
   "metadata": {},
   "outputs": [
    {
     "data": {
      "text/html": [
       "<div>\n",
       "<style scoped>\n",
       "    .dataframe tbody tr th:only-of-type {\n",
       "        vertical-align: middle;\n",
       "    }\n",
       "\n",
       "    .dataframe tbody tr th {\n",
       "        vertical-align: top;\n",
       "    }\n",
       "\n",
       "    .dataframe thead th {\n",
       "        text-align: right;\n",
       "    }\n",
       "</style>\n",
       "<table border=\"1\" class=\"dataframe\">\n",
       "  <thead>\n",
       "    <tr style=\"text-align: right;\">\n",
       "      <th></th>\n",
       "      <th>hypothesis</th>\n",
       "      <th>reach</th>\n",
       "      <th>impact</th>\n",
       "      <th>confidence</th>\n",
       "      <th>efforts</th>\n",
       "    </tr>\n",
       "  </thead>\n",
       "  <tbody>\n",
       "    <tr>\n",
       "      <th>0</th>\n",
       "      <td>Добавить два новых канала привлечения трафика,...</td>\n",
       "      <td>3</td>\n",
       "      <td>10</td>\n",
       "      <td>8</td>\n",
       "      <td>6</td>\n",
       "    </tr>\n",
       "    <tr>\n",
       "      <th>1</th>\n",
       "      <td>Запустить собственную службу доставки, что сок...</td>\n",
       "      <td>2</td>\n",
       "      <td>5</td>\n",
       "      <td>4</td>\n",
       "      <td>10</td>\n",
       "    </tr>\n",
       "    <tr>\n",
       "      <th>2</th>\n",
       "      <td>Добавить блоки рекомендаций товаров на сайт ин...</td>\n",
       "      <td>8</td>\n",
       "      <td>3</td>\n",
       "      <td>7</td>\n",
       "      <td>3</td>\n",
       "    </tr>\n",
       "    <tr>\n",
       "      <th>3</th>\n",
       "      <td>Изменить структура категорий, что увеличит кон...</td>\n",
       "      <td>8</td>\n",
       "      <td>3</td>\n",
       "      <td>3</td>\n",
       "      <td>8</td>\n",
       "    </tr>\n",
       "    <tr>\n",
       "      <th>4</th>\n",
       "      <td>Изменить цвет фона главной страницы, чтобы уве...</td>\n",
       "      <td>3</td>\n",
       "      <td>1</td>\n",
       "      <td>1</td>\n",
       "      <td>1</td>\n",
       "    </tr>\n",
       "    <tr>\n",
       "      <th>5</th>\n",
       "      <td>Добавить страницу отзывов клиентов о магазине,...</td>\n",
       "      <td>3</td>\n",
       "      <td>2</td>\n",
       "      <td>2</td>\n",
       "      <td>3</td>\n",
       "    </tr>\n",
       "    <tr>\n",
       "      <th>6</th>\n",
       "      <td>Показать на главной странице баннеры с актуаль...</td>\n",
       "      <td>5</td>\n",
       "      <td>3</td>\n",
       "      <td>8</td>\n",
       "      <td>3</td>\n",
       "    </tr>\n",
       "    <tr>\n",
       "      <th>7</th>\n",
       "      <td>Добавить форму подписки на все основные страни...</td>\n",
       "      <td>10</td>\n",
       "      <td>7</td>\n",
       "      <td>8</td>\n",
       "      <td>5</td>\n",
       "    </tr>\n",
       "    <tr>\n",
       "      <th>8</th>\n",
       "      <td>Запустить акцию, дающую скидку на товар в день...</td>\n",
       "      <td>1</td>\n",
       "      <td>9</td>\n",
       "      <td>9</td>\n",
       "      <td>5</td>\n",
       "    </tr>\n",
       "  </tbody>\n",
       "</table>\n",
       "</div>"
      ],
      "text/plain": [
       "                                          hypothesis  reach  impact  \\\n",
       "0  Добавить два новых канала привлечения трафика,...      3      10   \n",
       "1  Запустить собственную службу доставки, что сок...      2       5   \n",
       "2  Добавить блоки рекомендаций товаров на сайт ин...      8       3   \n",
       "3  Изменить структура категорий, что увеличит кон...      8       3   \n",
       "4  Изменить цвет фона главной страницы, чтобы уве...      3       1   \n",
       "5  Добавить страницу отзывов клиентов о магазине,...      3       2   \n",
       "6  Показать на главной странице баннеры с актуаль...      5       3   \n",
       "7  Добавить форму подписки на все основные страни...     10       7   \n",
       "8  Запустить акцию, дающую скидку на товар в день...      1       9   \n",
       "\n",
       "   confidence  efforts  \n",
       "0           8        6  \n",
       "1           4       10  \n",
       "2           7        3  \n",
       "3           3        8  \n",
       "4           1        1  \n",
       "5           2        3  \n",
       "6           8        3  \n",
       "7           8        5  \n",
       "8           9        5  "
      ]
     },
     "execution_count": 4,
     "metadata": {},
     "output_type": "execute_result"
    }
   ],
   "source": [
    "hypothesis"
   ]
  },
  {
   "cell_type": "code",
   "execution_count": 5,
   "metadata": {},
   "outputs": [
    {
     "name": "stdout",
     "output_type": "stream",
     "text": [
      "<class 'pandas.core.frame.DataFrame'>\n",
      "RangeIndex: 9 entries, 0 to 8\n",
      "Data columns (total 5 columns):\n",
      " #   Column      Non-Null Count  Dtype \n",
      "---  ------      --------------  ----- \n",
      " 0   hypothesis  9 non-null      object\n",
      " 1   reach       9 non-null      int64 \n",
      " 2   impact      9 non-null      int64 \n",
      " 3   confidence  9 non-null      int64 \n",
      " 4   efforts     9 non-null      int64 \n",
      "dtypes: int64(4), object(1)\n",
      "memory usage: 488.0+ bytes\n",
      "****************************************\n"
     ]
    },
    {
     "data": {
      "text/plain": [
       "(9, 5)"
      ]
     },
     "execution_count": 5,
     "metadata": {},
     "output_type": "execute_result"
    }
   ],
   "source": [
    "hypothesis.info()\n",
    "print('*'*40)\n",
    "hypothesis.shape"
   ]
  },
  {
   "cell_type": "markdown",
   "metadata": {},
   "source": [
    "У нас  есть **9 гипотез**, пропуски и дубликаты отсутствуют. "
   ]
  },
  {
   "cell_type": "markdown",
   "metadata": {},
   "source": [
    "### Файл с покупками (orders)"
   ]
  },
  {
   "cell_type": "markdown",
   "metadata": {},
   "source": [
    "Так как структура файлов с данными о покупках и посетителях имеет схожую структуру, создадим функцию, которая позволит нам открыть файлы, произвести предварительную обработку данных и посмотреть основную информацию о датафреймах."
   ]
  },
  {
   "cell_type": "code",
   "execution_count": 6,
   "metadata": {},
   "outputs": [],
   "source": [
    "def opening(path_1, path_2, date=[]):\n",
    "    try:\n",
    "        data = pd.read_csv(path_1)\n",
    "        data = pd.read_csv(path_1, parse_dates=date)\n",
    "        data.columns=data.columns.str.replace(' ', '_').str.lower()\n",
    "    except:\n",
    "        data = pd.read_csv(path_2)\n",
    "        data = pd.read_csv(path_2, parse_dates=date)\n",
    "        data.columns=data.columns.str.replace(' ', '_').str.lower()\n",
    "        data['date']=data['date']\n",
    "    display(data.sample(5, random_state=5))\n",
    "    print('*'*50)\n",
    "    data.info()\n",
    "    print('*'*50)\n",
    "    print('Самая ранняя дата в данных:', min(data['date']).date(), ',самая поздняя дата в данных:', max(data['date']).date())\n",
    "    print('*'*50)\n",
    "    display(data.shape)\n",
    "    print('*'*50)\n",
    "    print(f'Количество дубликатов:', data.duplicated().sum())\n",
    "    return data"
   ]
  },
  {
   "cell_type": "code",
   "execution_count": 7,
   "metadata": {
    "scrolled": false
   },
   "outputs": [
    {
     "data": {
      "text/html": [
       "<div>\n",
       "<style scoped>\n",
       "    .dataframe tbody tr th:only-of-type {\n",
       "        vertical-align: middle;\n",
       "    }\n",
       "\n",
       "    .dataframe tbody tr th {\n",
       "        vertical-align: top;\n",
       "    }\n",
       "\n",
       "    .dataframe thead th {\n",
       "        text-align: right;\n",
       "    }\n",
       "</style>\n",
       "<table border=\"1\" class=\"dataframe\">\n",
       "  <thead>\n",
       "    <tr style=\"text-align: right;\">\n",
       "      <th></th>\n",
       "      <th>transactionid</th>\n",
       "      <th>visitorid</th>\n",
       "      <th>date</th>\n",
       "      <th>revenue</th>\n",
       "      <th>group</th>\n",
       "    </tr>\n",
       "  </thead>\n",
       "  <tbody>\n",
       "    <tr>\n",
       "      <th>982</th>\n",
       "      <td>3778147089</td>\n",
       "      <td>4243832526</td>\n",
       "      <td>2019-08-10</td>\n",
       "      <td>8290</td>\n",
       "      <td>A</td>\n",
       "    </tr>\n",
       "    <tr>\n",
       "      <th>885</th>\n",
       "      <td>335158381</td>\n",
       "      <td>947532470</td>\n",
       "      <td>2019-08-05</td>\n",
       "      <td>5280</td>\n",
       "      <td>A</td>\n",
       "    </tr>\n",
       "    <tr>\n",
       "      <th>11</th>\n",
       "      <td>1919444843</td>\n",
       "      <td>927791387</td>\n",
       "      <td>2019-08-15</td>\n",
       "      <td>4499</td>\n",
       "      <td>B</td>\n",
       "    </tr>\n",
       "    <tr>\n",
       "      <th>235</th>\n",
       "      <td>395889669</td>\n",
       "      <td>2873491771</td>\n",
       "      <td>2019-08-23</td>\n",
       "      <td>599</td>\n",
       "      <td>B</td>\n",
       "    </tr>\n",
       "    <tr>\n",
       "      <th>578</th>\n",
       "      <td>1570911533</td>\n",
       "      <td>2038680547</td>\n",
       "      <td>2019-08-04</td>\n",
       "      <td>1530</td>\n",
       "      <td>A</td>\n",
       "    </tr>\n",
       "  </tbody>\n",
       "</table>\n",
       "</div>"
      ],
      "text/plain": [
       "     transactionid   visitorid       date  revenue group\n",
       "982     3778147089  4243832526 2019-08-10     8290     A\n",
       "885      335158381   947532470 2019-08-05     5280     A\n",
       "11      1919444843   927791387 2019-08-15     4499     B\n",
       "235      395889669  2873491771 2019-08-23      599     B\n",
       "578     1570911533  2038680547 2019-08-04     1530     A"
      ]
     },
     "metadata": {},
     "output_type": "display_data"
    },
    {
     "name": "stdout",
     "output_type": "stream",
     "text": [
      "**************************************************\n",
      "<class 'pandas.core.frame.DataFrame'>\n",
      "RangeIndex: 1197 entries, 0 to 1196\n",
      "Data columns (total 5 columns):\n",
      " #   Column         Non-Null Count  Dtype         \n",
      "---  ------         --------------  -----         \n",
      " 0   transactionid  1197 non-null   int64         \n",
      " 1   visitorid      1197 non-null   int64         \n",
      " 2   date           1197 non-null   datetime64[ns]\n",
      " 3   revenue        1197 non-null   int64         \n",
      " 4   group          1197 non-null   object        \n",
      "dtypes: datetime64[ns](1), int64(3), object(1)\n",
      "memory usage: 46.9+ KB\n",
      "**************************************************\n",
      "Самая ранняя дата в данных: 2019-08-01 ,самая поздняя дата в данных: 2019-08-31\n",
      "**************************************************\n"
     ]
    },
    {
     "data": {
      "text/plain": [
       "(1197, 5)"
      ]
     },
     "metadata": {},
     "output_type": "display_data"
    },
    {
     "name": "stdout",
     "output_type": "stream",
     "text": [
      "**************************************************\n",
      "Количество дубликатов: 0\n"
     ]
    }
   ],
   "source": [
    "orders = opening('https://code.s3.yandex.net/datasets/orders.csv', 'AB-test/visits.csv', date=['date'])"
   ]
  },
  {
   "cell_type": "markdown",
   "metadata": {},
   "source": [
    "Предварительная оценка данных о покупках показала, что у нас есть информация о 1197 покупках. Все столбцы имеют нужный тип данных. Данные представлены за август 2019 года. Дубликаты отсутствуют."
   ]
  },
  {
   "cell_type": "markdown",
   "metadata": {},
   "source": [
    "### Файл с посетителями (visitors)"
   ]
  },
  {
   "cell_type": "code",
   "execution_count": 8,
   "metadata": {},
   "outputs": [
    {
     "data": {
      "text/html": [
       "<div>\n",
       "<style scoped>\n",
       "    .dataframe tbody tr th:only-of-type {\n",
       "        vertical-align: middle;\n",
       "    }\n",
       "\n",
       "    .dataframe tbody tr th {\n",
       "        vertical-align: top;\n",
       "    }\n",
       "\n",
       "    .dataframe thead th {\n",
       "        text-align: right;\n",
       "    }\n",
       "</style>\n",
       "<table border=\"1\" class=\"dataframe\">\n",
       "  <thead>\n",
       "    <tr style=\"text-align: right;\">\n",
       "      <th></th>\n",
       "      <th>date</th>\n",
       "      <th>group</th>\n",
       "      <th>visitors</th>\n",
       "    </tr>\n",
       "  </thead>\n",
       "  <tbody>\n",
       "    <tr>\n",
       "      <th>42</th>\n",
       "      <td>2019-08-12</td>\n",
       "      <td>B</td>\n",
       "      <td>543</td>\n",
       "    </tr>\n",
       "    <tr>\n",
       "      <th>10</th>\n",
       "      <td>2019-08-11</td>\n",
       "      <td>A</td>\n",
       "      <td>718</td>\n",
       "    </tr>\n",
       "    <tr>\n",
       "      <th>17</th>\n",
       "      <td>2019-08-18</td>\n",
       "      <td>A</td>\n",
       "      <td>668</td>\n",
       "    </tr>\n",
       "    <tr>\n",
       "      <th>41</th>\n",
       "      <td>2019-08-11</td>\n",
       "      <td>B</td>\n",
       "      <td>721</td>\n",
       "    </tr>\n",
       "    <tr>\n",
       "      <th>40</th>\n",
       "      <td>2019-08-10</td>\n",
       "      <td>B</td>\n",
       "      <td>369</td>\n",
       "    </tr>\n",
       "  </tbody>\n",
       "</table>\n",
       "</div>"
      ],
      "text/plain": [
       "         date group  visitors\n",
       "42 2019-08-12     B       543\n",
       "10 2019-08-11     A       718\n",
       "17 2019-08-18     A       668\n",
       "41 2019-08-11     B       721\n",
       "40 2019-08-10     B       369"
      ]
     },
     "metadata": {},
     "output_type": "display_data"
    },
    {
     "name": "stdout",
     "output_type": "stream",
     "text": [
      "**************************************************\n",
      "<class 'pandas.core.frame.DataFrame'>\n",
      "RangeIndex: 62 entries, 0 to 61\n",
      "Data columns (total 3 columns):\n",
      " #   Column    Non-Null Count  Dtype         \n",
      "---  ------    --------------  -----         \n",
      " 0   date      62 non-null     datetime64[ns]\n",
      " 1   group     62 non-null     object        \n",
      " 2   visitors  62 non-null     int64         \n",
      "dtypes: datetime64[ns](1), int64(1), object(1)\n",
      "memory usage: 1.6+ KB\n",
      "**************************************************\n",
      "Самая ранняя дата в данных: 2019-08-01 ,самая поздняя дата в данных: 2019-08-31\n",
      "**************************************************\n"
     ]
    },
    {
     "data": {
      "text/plain": [
       "(62, 3)"
      ]
     },
     "metadata": {},
     "output_type": "display_data"
    },
    {
     "name": "stdout",
     "output_type": "stream",
     "text": [
      "**************************************************\n",
      "Количество дубликатов: 0\n"
     ]
    }
   ],
   "source": [
    "visitors = opening('https://code.s3.yandex.net/datasets/visitors.csv', 'AB-test/visitors.csv', date=['date'])"
   ]
  },
  {
   "cell_type": "markdown",
   "metadata": {},
   "source": [
    "Предварительная оценка данных показала, что у нас есть информация о посетителях интернет-магазина за август 2019 года. Все столбцы имеют нужный тип данных. Дубликаты отсутствуют. Количество строк (62) говорит о том, что для обеих групп есть данные за каждый день (31 день в августе)."
   ]
  },
  {
   "cell_type": "markdown",
   "metadata": {},
   "source": [
    "Данные готовы к дальнейшей работе."
   ]
  },
  {
   "cell_type": "markdown",
   "metadata": {},
   "source": [
    "## Приоритизация гипотез"
   ]
  },
  {
   "cell_type": "markdown",
   "metadata": {},
   "source": [
    "Сначала проведем приоритизация гипотез с использованием фреймворка ICE"
   ]
  },
  {
   "cell_type": "code",
   "execution_count": 9,
   "metadata": {},
   "outputs": [],
   "source": [
    "pd.set_option('max_colwidth', 130)"
   ]
  },
  {
   "cell_type": "markdown",
   "metadata": {},
   "source": [
    "Так как нам предстоит дальше анализ и обсуждение гипотез, изменим индекс датафрейма, содержащего гипотезы так, чтобы у нас не гипотезы с индексом 0, так при анализе будет неудобно оперерировать \"нулевой\" гипотезой."
   ]
  },
  {
   "cell_type": "code",
   "execution_count": 10,
   "metadata": {},
   "outputs": [],
   "source": [
    "hypothesis.index = range(1,10)"
   ]
  },
  {
   "cell_type": "code",
   "execution_count": 11,
   "metadata": {},
   "outputs": [
    {
     "data": {
      "text/html": [
       "<div>\n",
       "<style scoped>\n",
       "    .dataframe tbody tr th:only-of-type {\n",
       "        vertical-align: middle;\n",
       "    }\n",
       "\n",
       "    .dataframe tbody tr th {\n",
       "        vertical-align: top;\n",
       "    }\n",
       "\n",
       "    .dataframe thead th {\n",
       "        text-align: right;\n",
       "    }\n",
       "</style>\n",
       "<table border=\"1\" class=\"dataframe\">\n",
       "  <thead>\n",
       "    <tr style=\"text-align: right;\">\n",
       "      <th></th>\n",
       "      <th>hypothesis</th>\n",
       "      <th>reach</th>\n",
       "      <th>impact</th>\n",
       "      <th>confidence</th>\n",
       "      <th>efforts</th>\n",
       "    </tr>\n",
       "  </thead>\n",
       "  <tbody>\n",
       "    <tr>\n",
       "      <th>1</th>\n",
       "      <td>Добавить два новых канала привлечения трафика, что позволит привлекать на 30% больше пользователей</td>\n",
       "      <td>3</td>\n",
       "      <td>10</td>\n",
       "      <td>8</td>\n",
       "      <td>6</td>\n",
       "    </tr>\n",
       "    <tr>\n",
       "      <th>2</th>\n",
       "      <td>Запустить собственную службу доставки, что сократит срок доставки заказов</td>\n",
       "      <td>2</td>\n",
       "      <td>5</td>\n",
       "      <td>4</td>\n",
       "      <td>10</td>\n",
       "    </tr>\n",
       "    <tr>\n",
       "      <th>3</th>\n",
       "      <td>Добавить блоки рекомендаций товаров на сайт интернет магазина, чтобы повысить конверсию и средний чек заказа</td>\n",
       "      <td>8</td>\n",
       "      <td>3</td>\n",
       "      <td>7</td>\n",
       "      <td>3</td>\n",
       "    </tr>\n",
       "    <tr>\n",
       "      <th>4</th>\n",
       "      <td>Изменить структура категорий, что увеличит конверсию, т.к. пользователи быстрее найдут нужный товар</td>\n",
       "      <td>8</td>\n",
       "      <td>3</td>\n",
       "      <td>3</td>\n",
       "      <td>8</td>\n",
       "    </tr>\n",
       "    <tr>\n",
       "      <th>5</th>\n",
       "      <td>Изменить цвет фона главной страницы, чтобы увеличить вовлеченность пользователей</td>\n",
       "      <td>3</td>\n",
       "      <td>1</td>\n",
       "      <td>1</td>\n",
       "      <td>1</td>\n",
       "    </tr>\n",
       "    <tr>\n",
       "      <th>6</th>\n",
       "      <td>Добавить страницу отзывов клиентов о магазине, что позволит увеличить количество заказов</td>\n",
       "      <td>3</td>\n",
       "      <td>2</td>\n",
       "      <td>2</td>\n",
       "      <td>3</td>\n",
       "    </tr>\n",
       "    <tr>\n",
       "      <th>7</th>\n",
       "      <td>Показать на главной странице баннеры с актуальными акциями и распродажами, чтобы увеличить конверсию</td>\n",
       "      <td>5</td>\n",
       "      <td>3</td>\n",
       "      <td>8</td>\n",
       "      <td>3</td>\n",
       "    </tr>\n",
       "    <tr>\n",
       "      <th>8</th>\n",
       "      <td>Добавить форму подписки на все основные страницы, чтобы собрать базу клиентов для email-рассылок</td>\n",
       "      <td>10</td>\n",
       "      <td>7</td>\n",
       "      <td>8</td>\n",
       "      <td>5</td>\n",
       "    </tr>\n",
       "    <tr>\n",
       "      <th>9</th>\n",
       "      <td>Запустить акцию, дающую скидку на товар в день рождения</td>\n",
       "      <td>1</td>\n",
       "      <td>9</td>\n",
       "      <td>9</td>\n",
       "      <td>5</td>\n",
       "    </tr>\n",
       "  </tbody>\n",
       "</table>\n",
       "</div>"
      ],
      "text/plain": [
       "                                                                                                     hypothesis  \\\n",
       "1            Добавить два новых канала привлечения трафика, что позволит привлекать на 30% больше пользователей   \n",
       "2                                     Запустить собственную службу доставки, что сократит срок доставки заказов   \n",
       "3  Добавить блоки рекомендаций товаров на сайт интернет магазина, чтобы повысить конверсию и средний чек заказа   \n",
       "4           Изменить структура категорий, что увеличит конверсию, т.к. пользователи быстрее найдут нужный товар   \n",
       "5                              Изменить цвет фона главной страницы, чтобы увеличить вовлеченность пользователей   \n",
       "6                      Добавить страницу отзывов клиентов о магазине, что позволит увеличить количество заказов   \n",
       "7          Показать на главной странице баннеры с актуальными акциями и распродажами, чтобы увеличить конверсию   \n",
       "8              Добавить форму подписки на все основные страницы, чтобы собрать базу клиентов для email-рассылок   \n",
       "9                                                       Запустить акцию, дающую скидку на товар в день рождения   \n",
       "\n",
       "   reach  impact  confidence  efforts  \n",
       "1      3      10           8        6  \n",
       "2      2       5           4       10  \n",
       "3      8       3           7        3  \n",
       "4      8       3           3        8  \n",
       "5      3       1           1        1  \n",
       "6      3       2           2        3  \n",
       "7      5       3           8        3  \n",
       "8     10       7           8        5  \n",
       "9      1       9           9        5  "
      ]
     },
     "execution_count": 11,
     "metadata": {},
     "output_type": "execute_result"
    }
   ],
   "source": [
    "hypothesis"
   ]
  },
  {
   "cell_type": "markdown",
   "metadata": {},
   "source": [
    "#### Фреймворк ICE"
   ]
  },
  {
   "cell_type": "markdown",
   "metadata": {},
   "source": [
    "Сначала приоритезируем гипотезы с помощью фреймворка ICE. Для его расчета нам необходимо оценить влияние гипотезы на пользователей (Impact), затраты на реализацию гипотезы (Effort) и наша уверенность в оценках, которые мы дали первым двум криетериям (Confidence). Оценка рассчитывается как произведение Impact на Confidence, деленное на Effort."
   ]
  },
  {
   "cell_type": "code",
   "execution_count": 12,
   "metadata": {},
   "outputs": [
    {
     "data": {
      "text/html": [
       "<div>\n",
       "<style scoped>\n",
       "    .dataframe tbody tr th:only-of-type {\n",
       "        vertical-align: middle;\n",
       "    }\n",
       "\n",
       "    .dataframe tbody tr th {\n",
       "        vertical-align: top;\n",
       "    }\n",
       "\n",
       "    .dataframe thead th {\n",
       "        text-align: right;\n",
       "    }\n",
       "</style>\n",
       "<table border=\"1\" class=\"dataframe\">\n",
       "  <thead>\n",
       "    <tr style=\"text-align: right;\">\n",
       "      <th></th>\n",
       "      <th>hypothesis</th>\n",
       "      <th>ICE</th>\n",
       "    </tr>\n",
       "  </thead>\n",
       "  <tbody>\n",
       "    <tr>\n",
       "      <th>9</th>\n",
       "      <td>Запустить акцию, дающую скидку на товар в день рождения</td>\n",
       "      <td>16.200000</td>\n",
       "    </tr>\n",
       "    <tr>\n",
       "      <th>1</th>\n",
       "      <td>Добавить два новых канала привлечения трафика, что позволит привлекать на 30% больше пользователей</td>\n",
       "      <td>13.333333</td>\n",
       "    </tr>\n",
       "    <tr>\n",
       "      <th>8</th>\n",
       "      <td>Добавить форму подписки на все основные страницы, чтобы собрать базу клиентов для email-рассылок</td>\n",
       "      <td>11.200000</td>\n",
       "    </tr>\n",
       "    <tr>\n",
       "      <th>7</th>\n",
       "      <td>Показать на главной странице баннеры с актуальными акциями и распродажами, чтобы увеличить конверсию</td>\n",
       "      <td>8.000000</td>\n",
       "    </tr>\n",
       "    <tr>\n",
       "      <th>3</th>\n",
       "      <td>Добавить блоки рекомендаций товаров на сайт интернет магазина, чтобы повысить конверсию и средний чек заказа</td>\n",
       "      <td>7.000000</td>\n",
       "    </tr>\n",
       "    <tr>\n",
       "      <th>2</th>\n",
       "      <td>Запустить собственную службу доставки, что сократит срок доставки заказов</td>\n",
       "      <td>2.000000</td>\n",
       "    </tr>\n",
       "    <tr>\n",
       "      <th>6</th>\n",
       "      <td>Добавить страницу отзывов клиентов о магазине, что позволит увеличить количество заказов</td>\n",
       "      <td>1.333333</td>\n",
       "    </tr>\n",
       "    <tr>\n",
       "      <th>4</th>\n",
       "      <td>Изменить структура категорий, что увеличит конверсию, т.к. пользователи быстрее найдут нужный товар</td>\n",
       "      <td>1.125000</td>\n",
       "    </tr>\n",
       "    <tr>\n",
       "      <th>5</th>\n",
       "      <td>Изменить цвет фона главной страницы, чтобы увеличить вовлеченность пользователей</td>\n",
       "      <td>1.000000</td>\n",
       "    </tr>\n",
       "  </tbody>\n",
       "</table>\n",
       "</div>"
      ],
      "text/plain": [
       "                                                                                                     hypothesis  \\\n",
       "9                                                       Запустить акцию, дающую скидку на товар в день рождения   \n",
       "1            Добавить два новых канала привлечения трафика, что позволит привлекать на 30% больше пользователей   \n",
       "8              Добавить форму подписки на все основные страницы, чтобы собрать базу клиентов для email-рассылок   \n",
       "7          Показать на главной странице баннеры с актуальными акциями и распродажами, чтобы увеличить конверсию   \n",
       "3  Добавить блоки рекомендаций товаров на сайт интернет магазина, чтобы повысить конверсию и средний чек заказа   \n",
       "2                                     Запустить собственную службу доставки, что сократит срок доставки заказов   \n",
       "6                      Добавить страницу отзывов клиентов о магазине, что позволит увеличить количество заказов   \n",
       "4           Изменить структура категорий, что увеличит конверсию, т.к. пользователи быстрее найдут нужный товар   \n",
       "5                              Изменить цвет фона главной страницы, чтобы увеличить вовлеченность пользователей   \n",
       "\n",
       "         ICE  \n",
       "9  16.200000  \n",
       "1  13.333333  \n",
       "8  11.200000  \n",
       "7   8.000000  \n",
       "3   7.000000  \n",
       "2   2.000000  \n",
       "6   1.333333  \n",
       "4   1.125000  \n",
       "5   1.000000  "
      ]
     },
     "execution_count": 12,
     "metadata": {},
     "output_type": "execute_result"
    }
   ],
   "source": [
    "hypothesis['ICE']=(hypothesis['impact']*hypothesis['confidence'])/hypothesis['efforts']\n",
    "hypothesis.sort_values(by='ICE', ascending=False)[['hypothesis', 'ICE']]"
   ]
  },
  {
   "cell_type": "markdown",
   "metadata": {},
   "source": [
    "Тройка лидеров, идущих с заметным отрывом, такова:\n",
    "   1. Запустить акцию, дающую скидку на товар в день рождения (№ 9);\n",
    "   2. Добавить два новых канала привлечения трафика, что позволит привлекать на 30% больше пользователей (№ 1);\n",
    "   3. Добавить форму подписки на все основные страницы, чтобы собрать базу клиентов для email-рассылок (№ 8)."
   ]
  },
  {
   "cell_type": "code",
   "execution_count": 13,
   "metadata": {
    "scrolled": true
   },
   "outputs": [
    {
     "data": {
      "text/html": [
       "<div>\n",
       "<style scoped>\n",
       "    .dataframe tbody tr th:only-of-type {\n",
       "        vertical-align: middle;\n",
       "    }\n",
       "\n",
       "    .dataframe tbody tr th {\n",
       "        vertical-align: top;\n",
       "    }\n",
       "\n",
       "    .dataframe thead th {\n",
       "        text-align: right;\n",
       "    }\n",
       "</style>\n",
       "<table border=\"1\" class=\"dataframe\">\n",
       "  <thead>\n",
       "    <tr style=\"text-align: right;\">\n",
       "      <th></th>\n",
       "      <th>hypothesis</th>\n",
       "      <th>reach</th>\n",
       "      <th>impact</th>\n",
       "      <th>confidence</th>\n",
       "      <th>efforts</th>\n",
       "      <th>ICE</th>\n",
       "    </tr>\n",
       "  </thead>\n",
       "  <tbody>\n",
       "    <tr>\n",
       "      <th>9</th>\n",
       "      <td>Запустить акцию, дающую скидку на товар в день рождения</td>\n",
       "      <td>1</td>\n",
       "      <td>9</td>\n",
       "      <td>9</td>\n",
       "      <td>5</td>\n",
       "      <td>16.200000</td>\n",
       "    </tr>\n",
       "    <tr>\n",
       "      <th>1</th>\n",
       "      <td>Добавить два новых канала привлечения трафика, что позволит привлекать на 30% больше пользователей</td>\n",
       "      <td>3</td>\n",
       "      <td>10</td>\n",
       "      <td>8</td>\n",
       "      <td>6</td>\n",
       "      <td>13.333333</td>\n",
       "    </tr>\n",
       "    <tr>\n",
       "      <th>8</th>\n",
       "      <td>Добавить форму подписки на все основные страницы, чтобы собрать базу клиентов для email-рассылок</td>\n",
       "      <td>10</td>\n",
       "      <td>7</td>\n",
       "      <td>8</td>\n",
       "      <td>5</td>\n",
       "      <td>11.200000</td>\n",
       "    </tr>\n",
       "  </tbody>\n",
       "</table>\n",
       "</div>"
      ],
      "text/plain": [
       "                                                                                           hypothesis  \\\n",
       "9                                             Запустить акцию, дающую скидку на товар в день рождения   \n",
       "1  Добавить два новых канала привлечения трафика, что позволит привлекать на 30% больше пользователей   \n",
       "8    Добавить форму подписки на все основные страницы, чтобы собрать базу клиентов для email-рассылок   \n",
       "\n",
       "   reach  impact  confidence  efforts        ICE  \n",
       "9      1       9           9        5  16.200000  \n",
       "1      3      10           8        6  13.333333  \n",
       "8     10       7           8        5  11.200000  "
      ]
     },
     "execution_count": 13,
     "metadata": {},
     "output_type": "execute_result"
    }
   ],
   "source": [
    "hypothesis.iloc[[8,0,7]]"
   ]
  },
  {
   "cell_type": "markdown",
   "metadata": {},
   "source": [
    "#### Фрейморк RICE"
   ]
  },
  {
   "cell_type": "markdown",
   "metadata": {},
   "source": [
    "Фреймворк RICE схож по своей сути с ICE, но добавляется еще оценка охвата пользователей, на которых реализация гипотезы окадет влияние (Reach). Рассчитывается RICE как `Reach`x`Impact`x`Confidence`/`Effort`."
   ]
  },
  {
   "cell_type": "code",
   "execution_count": 14,
   "metadata": {},
   "outputs": [
    {
     "data": {
      "text/html": [
       "<div>\n",
       "<style scoped>\n",
       "    .dataframe tbody tr th:only-of-type {\n",
       "        vertical-align: middle;\n",
       "    }\n",
       "\n",
       "    .dataframe tbody tr th {\n",
       "        vertical-align: top;\n",
       "    }\n",
       "\n",
       "    .dataframe thead th {\n",
       "        text-align: right;\n",
       "    }\n",
       "</style>\n",
       "<table border=\"1\" class=\"dataframe\">\n",
       "  <thead>\n",
       "    <tr style=\"text-align: right;\">\n",
       "      <th></th>\n",
       "      <th>hypothesis</th>\n",
       "      <th>RICE</th>\n",
       "    </tr>\n",
       "  </thead>\n",
       "  <tbody>\n",
       "    <tr>\n",
       "      <th>8</th>\n",
       "      <td>Добавить форму подписки на все основные страницы, чтобы собрать базу клиентов для email-рассылок</td>\n",
       "      <td>112.0</td>\n",
       "    </tr>\n",
       "    <tr>\n",
       "      <th>3</th>\n",
       "      <td>Добавить блоки рекомендаций товаров на сайт интернет магазина, чтобы повысить конверсию и средний чек заказа</td>\n",
       "      <td>56.0</td>\n",
       "    </tr>\n",
       "    <tr>\n",
       "      <th>1</th>\n",
       "      <td>Добавить два новых канала привлечения трафика, что позволит привлекать на 30% больше пользователей</td>\n",
       "      <td>40.0</td>\n",
       "    </tr>\n",
       "    <tr>\n",
       "      <th>7</th>\n",
       "      <td>Показать на главной странице баннеры с актуальными акциями и распродажами, чтобы увеличить конверсию</td>\n",
       "      <td>40.0</td>\n",
       "    </tr>\n",
       "    <tr>\n",
       "      <th>9</th>\n",
       "      <td>Запустить акцию, дающую скидку на товар в день рождения</td>\n",
       "      <td>16.2</td>\n",
       "    </tr>\n",
       "    <tr>\n",
       "      <th>4</th>\n",
       "      <td>Изменить структура категорий, что увеличит конверсию, т.к. пользователи быстрее найдут нужный товар</td>\n",
       "      <td>9.0</td>\n",
       "    </tr>\n",
       "    <tr>\n",
       "      <th>2</th>\n",
       "      <td>Запустить собственную службу доставки, что сократит срок доставки заказов</td>\n",
       "      <td>4.0</td>\n",
       "    </tr>\n",
       "    <tr>\n",
       "      <th>6</th>\n",
       "      <td>Добавить страницу отзывов клиентов о магазине, что позволит увеличить количество заказов</td>\n",
       "      <td>4.0</td>\n",
       "    </tr>\n",
       "    <tr>\n",
       "      <th>5</th>\n",
       "      <td>Изменить цвет фона главной страницы, чтобы увеличить вовлеченность пользователей</td>\n",
       "      <td>3.0</td>\n",
       "    </tr>\n",
       "  </tbody>\n",
       "</table>\n",
       "</div>"
      ],
      "text/plain": [
       "                                                                                                     hypothesis  \\\n",
       "8              Добавить форму подписки на все основные страницы, чтобы собрать базу клиентов для email-рассылок   \n",
       "3  Добавить блоки рекомендаций товаров на сайт интернет магазина, чтобы повысить конверсию и средний чек заказа   \n",
       "1            Добавить два новых канала привлечения трафика, что позволит привлекать на 30% больше пользователей   \n",
       "7          Показать на главной странице баннеры с актуальными акциями и распродажами, чтобы увеличить конверсию   \n",
       "9                                                       Запустить акцию, дающую скидку на товар в день рождения   \n",
       "4           Изменить структура категорий, что увеличит конверсию, т.к. пользователи быстрее найдут нужный товар   \n",
       "2                                     Запустить собственную службу доставки, что сократит срок доставки заказов   \n",
       "6                      Добавить страницу отзывов клиентов о магазине, что позволит увеличить количество заказов   \n",
       "5                              Изменить цвет фона главной страницы, чтобы увеличить вовлеченность пользователей   \n",
       "\n",
       "    RICE  \n",
       "8  112.0  \n",
       "3   56.0  \n",
       "1   40.0  \n",
       "7   40.0  \n",
       "9   16.2  \n",
       "4    9.0  \n",
       "2    4.0  \n",
       "6    4.0  \n",
       "5    3.0  "
      ]
     },
     "execution_count": 14,
     "metadata": {},
     "output_type": "execute_result"
    }
   ],
   "source": [
    "hypothesis['RICE']=(hypothesis['reach']*hypothesis['impact']*hypothesis['confidence'])/hypothesis['efforts']\n",
    "hypothesis.sort_values(by='RICE', ascending=False)[['hypothesis', 'RICE']]"
   ]
  },
  {
   "cell_type": "code",
   "execution_count": 15,
   "metadata": {},
   "outputs": [
    {
     "data": {
      "text/html": [
       "<div>\n",
       "<style scoped>\n",
       "    .dataframe tbody tr th:only-of-type {\n",
       "        vertical-align: middle;\n",
       "    }\n",
       "\n",
       "    .dataframe tbody tr th {\n",
       "        vertical-align: top;\n",
       "    }\n",
       "\n",
       "    .dataframe thead th {\n",
       "        text-align: right;\n",
       "    }\n",
       "</style>\n",
       "<table border=\"1\" class=\"dataframe\">\n",
       "  <thead>\n",
       "    <tr style=\"text-align: right;\">\n",
       "      <th></th>\n",
       "      <th>hypothesis</th>\n",
       "      <th>reach</th>\n",
       "      <th>impact</th>\n",
       "      <th>confidence</th>\n",
       "      <th>efforts</th>\n",
       "      <th>ICE</th>\n",
       "      <th>RICE</th>\n",
       "    </tr>\n",
       "  </thead>\n",
       "  <tbody>\n",
       "    <tr>\n",
       "      <th>8</th>\n",
       "      <td>Добавить форму подписки на все основные страницы, чтобы собрать базу клиентов для email-рассылок</td>\n",
       "      <td>10</td>\n",
       "      <td>7</td>\n",
       "      <td>8</td>\n",
       "      <td>5</td>\n",
       "      <td>11.200000</td>\n",
       "      <td>112.0</td>\n",
       "    </tr>\n",
       "    <tr>\n",
       "      <th>3</th>\n",
       "      <td>Добавить блоки рекомендаций товаров на сайт интернет магазина, чтобы повысить конверсию и средний чек заказа</td>\n",
       "      <td>8</td>\n",
       "      <td>3</td>\n",
       "      <td>7</td>\n",
       "      <td>3</td>\n",
       "      <td>7.000000</td>\n",
       "      <td>56.0</td>\n",
       "    </tr>\n",
       "    <tr>\n",
       "      <th>1</th>\n",
       "      <td>Добавить два новых канала привлечения трафика, что позволит привлекать на 30% больше пользователей</td>\n",
       "      <td>3</td>\n",
       "      <td>10</td>\n",
       "      <td>8</td>\n",
       "      <td>6</td>\n",
       "      <td>13.333333</td>\n",
       "      <td>40.0</td>\n",
       "    </tr>\n",
       "  </tbody>\n",
       "</table>\n",
       "</div>"
      ],
      "text/plain": [
       "                                                                                                     hypothesis  \\\n",
       "8              Добавить форму подписки на все основные страницы, чтобы собрать базу клиентов для email-рассылок   \n",
       "3  Добавить блоки рекомендаций товаров на сайт интернет магазина, чтобы повысить конверсию и средний чек заказа   \n",
       "1            Добавить два новых канала привлечения трафика, что позволит привлекать на 30% больше пользователей   \n",
       "\n",
       "   reach  impact  confidence  efforts        ICE   RICE  \n",
       "8     10       7           8        5  11.200000  112.0  \n",
       "3      8       3           7        3   7.000000   56.0  \n",
       "1      3      10           8        6  13.333333   40.0  "
      ]
     },
     "execution_count": 15,
     "metadata": {},
     "output_type": "execute_result"
    }
   ],
   "source": [
    "hypothesis.iloc[[7,2,0]]"
   ]
  },
  {
   "cell_type": "markdown",
   "metadata": {},
   "source": [
    "Теперь, когда мы учли так же охват пользователей, на которых реализация гипотез оказала влияние, то тройка лидеров несколько изменилась:\n",
    "Гипотеза под номером 8 оказалась на первом месте, вдвое опережая ближайшего преследователя. Это связано с тем, что она дает максимальный охват пользователей.\n",
    "Гипотеза под номером 9 наоборот выпала из тройки лидеров,, так как имела минимальный охват, вместо нее в тройке оказалась гипотеза № 3, о которой мы довольно уверенно можем сказать, что она окажет небольшое воздействие на большой сегмент пользователей и не потребует больших затрат на реализацию."
   ]
  },
  {
   "cell_type": "markdown",
   "metadata": {},
   "source": [
    "Исходя из анализа `ICE` и `RICE` наилучшие значения показала **гипотеза номер 8 \"Добавить форму подписки на все основные страницы, чтобы собрать базу клиентов для email-рассылок\"**. С большой долей уверенности мы можем предполагать, что она охватит всех пользователей и сможет оказать достаточно большое воздействие на них, но при этом реализация данной гипотезы потребует средних затрат.\n",
    "Можно рассмотреть данную гипотезу в качестве приоритетной и провести А/В-тест для оценки реакции пользователей на форму подписки на все основные страницы."
   ]
  },
  {
   "cell_type": "markdown",
   "metadata": {},
   "source": [
    "## Анализ результатов А/В-теста"
   ]
  },
  {
   "cell_type": "markdown",
   "metadata": {},
   "source": [
    "### Подготовка к проведению теста"
   ]
  },
  {
   "cell_type": "markdown",
   "metadata": {},
   "source": [
    "Для правильного проведения теста и формирования результатов важно избежать характерных для А/В-тестов ошибок, а именно:\n",
    "   - количество пользователей в группах должно быть достаточно большим;\n",
    "   - количество пользователей в группах должно быть примерно равным;\n",
    "   - длительность проведения теста не должна быть слишком маленькой или слишком большой;\n",
    "   - необходимо обработать аномальные значения в случае их появления.\n",
    "\n",
    "В рамках данного исследования длительность теста задана услвоием - **31 день**.\n",
    "\n",
    "Аномальные значения можно выявить не следующих этапах исследования.\n",
    "\n",
    "Достаточный размер групп и их равность мы проверим сразу. Для этого посчитаем количество уникальных покупателе"
   ]
  },
  {
   "cell_type": "markdown",
   "metadata": {},
   "source": [
    "Размер групп достаточно большой, чтобы значения отдельного покупателя не влияли на общие тенденции."
   ]
  },
  {
   "cell_type": "code",
   "execution_count": 16,
   "metadata": {},
   "outputs": [
    {
     "data": {
      "text/plain": [
       "18916"
      ]
     },
     "execution_count": 16,
     "metadata": {},
     "output_type": "execute_result"
    }
   ],
   "source": [
    "groupB = visitors[visitors['group'] == 'B']['visitors'].sum()\n",
    "groupB"
   ]
  },
  {
   "cell_type": "code",
   "execution_count": 17,
   "metadata": {
    "scrolled": true
   },
   "outputs": [
    {
     "data": {
      "text/plain": [
       "18736"
      ]
     },
     "execution_count": 17,
     "metadata": {},
     "output_type": "execute_result"
    }
   ],
   "source": [
    "groupA = visitors[visitors['group'] == 'A']['visitors'].sum()\n",
    "groupA"
   ]
  },
  {
   "cell_type": "code",
   "execution_count": 18,
   "metadata": {},
   "outputs": [
    {
     "name": "stdout",
     "output_type": "stream",
     "text": [
      "Относительное различие между группами теста составляет: 0.95%\n"
     ]
    }
   ],
   "source": [
    "print('Относительное различие между группами теста составляет:', '{0:.2%}'.format(1 - groupA/groupB))"
   ]
  },
  {
   "cell_type": "markdown",
   "metadata": {},
   "source": [
    "Относительная разница между группами составляет менее 1%. Это приемлимый результат для проведения теста."
   ]
  },
  {
   "cell_type": "markdown",
   "metadata": {},
   "source": [
    "При проведении А/В-тестов могут возникать ситуации, когда один и тот же покупатель попадает в обе группы. Это негативно сказывается на результатах теста.\n",
    "\n",
    "Проверим, есть ли в нашем тесте такие и пользователи, и если есть, то удалим их данные."
   ]
  },
  {
   "cell_type": "code",
   "execution_count": 19,
   "metadata": {},
   "outputs": [
    {
     "data": {
      "text/plain": [
       "1031"
      ]
     },
     "execution_count": 19,
     "metadata": {},
     "output_type": "execute_result"
    }
   ],
   "source": [
    "orders['visitorid'].drop_duplicates().count()"
   ]
  },
  {
   "cell_type": "markdown",
   "metadata": {},
   "source": [
    "В сырых данных у нас есть информация о 1031 покупателе."
   ]
  },
  {
   "cell_type": "code",
   "execution_count": 20,
   "metadata": {},
   "outputs": [],
   "source": [
    "ordersA = orders[orders['group'] == 'A']['visitorid'].drop_duplicates()"
   ]
  },
  {
   "cell_type": "code",
   "execution_count": 21,
   "metadata": {},
   "outputs": [],
   "source": [
    "ordersB = orders[orders['group'] == 'B']['visitorid'].drop_duplicates()"
   ]
  },
  {
   "cell_type": "code",
   "execution_count": 22,
   "metadata": {
    "scrolled": false
   },
   "outputs": [
    {
     "data": {
      "text/plain": [
       "58"
      ]
     },
     "execution_count": 22,
     "metadata": {},
     "output_type": "execute_result"
    }
   ],
   "source": [
    "len(np.intersect1d(ordersA, ordersB).tolist())"
   ]
  },
  {
   "cell_type": "markdown",
   "metadata": {},
   "source": [
    "58 пользователей совершали покупки, будучи и в группе А и в группе В, по крайней мере логи дают именно такую картину. Удалим таких пользователей из датафрейма."
   ]
  },
  {
   "cell_type": "code",
   "execution_count": 23,
   "metadata": {},
   "outputs": [
    {
     "data": {
      "text/plain": [
       "973"
      ]
     },
     "execution_count": 23,
     "metadata": {},
     "output_type": "execute_result"
    }
   ],
   "source": [
    "orders = orders[orders['visitorid'].isin(np.intersect1d(ordersA, ordersB).tolist())==False]\n",
    "orders['visitorid'].drop_duplicates().count()"
   ]
  },
  {
   "cell_type": "markdown",
   "metadata": {},
   "source": [
    "Итого в дальнейшем анализе мы будем работать с 973 покупателями.\n",
    "\n",
    "Важно отметить, что мы не удаляли пользователей, которые попали в 2 группы из данных о посещениях, так как это невозможно из-за того, что у нас только обобщенные сведения по посещениям. Однако так как количество заказов всего чуть более 1000, то \"двойные\" заказы 58 пользователей могут оказать заметное влияние, при этом количество посетителей исчисляется десятками тысяч, и соответственно посещения 58 \"лишних\" пользователей не окажет большого влияния на расчеты."
   ]
  },
  {
   "cell_type": "markdown",
   "metadata": {},
   "source": [
    "### Построение графика кумулятивной выручки по группам"
   ]
  },
  {
   "cell_type": "markdown",
   "metadata": {},
   "source": [
    "Сначала создадим таблицу с уникальными сочетаниями дат и групп."
   ]
  },
  {
   "cell_type": "code",
   "execution_count": 24,
   "metadata": {},
   "outputs": [
    {
     "data": {
      "text/html": [
       "<div>\n",
       "<style scoped>\n",
       "    .dataframe tbody tr th:only-of-type {\n",
       "        vertical-align: middle;\n",
       "    }\n",
       "\n",
       "    .dataframe tbody tr th {\n",
       "        vertical-align: top;\n",
       "    }\n",
       "\n",
       "    .dataframe thead th {\n",
       "        text-align: right;\n",
       "    }\n",
       "</style>\n",
       "<table border=\"1\" class=\"dataframe\">\n",
       "  <thead>\n",
       "    <tr style=\"text-align: right;\">\n",
       "      <th></th>\n",
       "      <th>date</th>\n",
       "      <th>group</th>\n",
       "    </tr>\n",
       "  </thead>\n",
       "  <tbody>\n",
       "    <tr>\n",
       "      <th>0</th>\n",
       "      <td>2019-08-15</td>\n",
       "      <td>B</td>\n",
       "    </tr>\n",
       "    <tr>\n",
       "      <th>7</th>\n",
       "      <td>2019-08-15</td>\n",
       "      <td>A</td>\n",
       "    </tr>\n",
       "    <tr>\n",
       "      <th>45</th>\n",
       "      <td>2019-08-16</td>\n",
       "      <td>A</td>\n",
       "    </tr>\n",
       "    <tr>\n",
       "      <th>47</th>\n",
       "      <td>2019-08-16</td>\n",
       "      <td>B</td>\n",
       "    </tr>\n",
       "    <tr>\n",
       "      <th>55</th>\n",
       "      <td>2019-08-01</td>\n",
       "      <td>A</td>\n",
       "    </tr>\n",
       "    <tr>\n",
       "      <th>...</th>\n",
       "      <td>...</td>\n",
       "      <td>...</td>\n",
       "    </tr>\n",
       "    <tr>\n",
       "      <th>1068</th>\n",
       "      <td>2019-08-12</td>\n",
       "      <td>A</td>\n",
       "    </tr>\n",
       "    <tr>\n",
       "      <th>1114</th>\n",
       "      <td>2019-08-13</td>\n",
       "      <td>B</td>\n",
       "    </tr>\n",
       "    <tr>\n",
       "      <th>1116</th>\n",
       "      <td>2019-08-13</td>\n",
       "      <td>A</td>\n",
       "    </tr>\n",
       "    <tr>\n",
       "      <th>1149</th>\n",
       "      <td>2019-08-14</td>\n",
       "      <td>B</td>\n",
       "    </tr>\n",
       "    <tr>\n",
       "      <th>1150</th>\n",
       "      <td>2019-08-14</td>\n",
       "      <td>A</td>\n",
       "    </tr>\n",
       "  </tbody>\n",
       "</table>\n",
       "<p>62 rows × 2 columns</p>\n",
       "</div>"
      ],
      "text/plain": [
       "           date group\n",
       "0    2019-08-15     B\n",
       "7    2019-08-15     A\n",
       "45   2019-08-16     A\n",
       "47   2019-08-16     B\n",
       "55   2019-08-01     A\n",
       "...         ...   ...\n",
       "1068 2019-08-12     A\n",
       "1114 2019-08-13     B\n",
       "1116 2019-08-13     A\n",
       "1149 2019-08-14     B\n",
       "1150 2019-08-14     A\n",
       "\n",
       "[62 rows x 2 columns]"
      ]
     },
     "execution_count": 24,
     "metadata": {},
     "output_type": "execute_result"
    }
   ],
   "source": [
    "dates_groups = orders[['date', 'group']].drop_duplicates()\n",
    "dates_groups"
   ]
  },
  {
   "cell_type": "markdown",
   "metadata": {},
   "source": [
    "Создадим таблицу, в которой для каждой группы на каждую дату будут содержаться кумулятивные значения количества покупок, количества покупателей и выручки."
   ]
  },
  {
   "cell_type": "code",
   "execution_count": 25,
   "metadata": {},
   "outputs": [
    {
     "data": {
      "text/html": [
       "<div>\n",
       "<style scoped>\n",
       "    .dataframe tbody tr th:only-of-type {\n",
       "        vertical-align: middle;\n",
       "    }\n",
       "\n",
       "    .dataframe tbody tr th {\n",
       "        vertical-align: top;\n",
       "    }\n",
       "\n",
       "    .dataframe thead th {\n",
       "        text-align: right;\n",
       "    }\n",
       "</style>\n",
       "<table border=\"1\" class=\"dataframe\">\n",
       "  <thead>\n",
       "    <tr style=\"text-align: right;\">\n",
       "      <th></th>\n",
       "      <th>date</th>\n",
       "      <th>group</th>\n",
       "      <th>orders</th>\n",
       "      <th>buyers</th>\n",
       "      <th>revenue</th>\n",
       "    </tr>\n",
       "  </thead>\n",
       "  <tbody>\n",
       "    <tr>\n",
       "      <th>0</th>\n",
       "      <td>2019-08-01</td>\n",
       "      <td>A</td>\n",
       "      <td>23</td>\n",
       "      <td>19</td>\n",
       "      <td>142779</td>\n",
       "    </tr>\n",
       "    <tr>\n",
       "      <th>1</th>\n",
       "      <td>2019-08-01</td>\n",
       "      <td>B</td>\n",
       "      <td>17</td>\n",
       "      <td>17</td>\n",
       "      <td>59758</td>\n",
       "    </tr>\n",
       "    <tr>\n",
       "      <th>2</th>\n",
       "      <td>2019-08-02</td>\n",
       "      <td>A</td>\n",
       "      <td>42</td>\n",
       "      <td>36</td>\n",
       "      <td>234381</td>\n",
       "    </tr>\n",
       "    <tr>\n",
       "      <th>3</th>\n",
       "      <td>2019-08-02</td>\n",
       "      <td>B</td>\n",
       "      <td>40</td>\n",
       "      <td>39</td>\n",
       "      <td>221801</td>\n",
       "    </tr>\n",
       "    <tr>\n",
       "      <th>4</th>\n",
       "      <td>2019-08-03</td>\n",
       "      <td>A</td>\n",
       "      <td>66</td>\n",
       "      <td>60</td>\n",
       "      <td>346854</td>\n",
       "    </tr>\n",
       "    <tr>\n",
       "      <th>...</th>\n",
       "      <td>...</td>\n",
       "      <td>...</td>\n",
       "      <td>...</td>\n",
       "      <td>...</td>\n",
       "      <td>...</td>\n",
       "    </tr>\n",
       "    <tr>\n",
       "      <th>57</th>\n",
       "      <td>2019-08-29</td>\n",
       "      <td>B</td>\n",
       "      <td>510</td>\n",
       "      <td>490</td>\n",
       "      <td>4746610</td>\n",
       "    </tr>\n",
       "    <tr>\n",
       "      <th>58</th>\n",
       "      <td>2019-08-30</td>\n",
       "      <td>A</td>\n",
       "      <td>460</td>\n",
       "      <td>437</td>\n",
       "      <td>3311413</td>\n",
       "    </tr>\n",
       "    <tr>\n",
       "      <th>59</th>\n",
       "      <td>2019-08-30</td>\n",
       "      <td>B</td>\n",
       "      <td>531</td>\n",
       "      <td>511</td>\n",
       "      <td>4955833</td>\n",
       "    </tr>\n",
       "    <tr>\n",
       "      <th>60</th>\n",
       "      <td>2019-08-31</td>\n",
       "      <td>A</td>\n",
       "      <td>468</td>\n",
       "      <td>445</td>\n",
       "      <td>3364656</td>\n",
       "    </tr>\n",
       "    <tr>\n",
       "      <th>61</th>\n",
       "      <td>2019-08-31</td>\n",
       "      <td>B</td>\n",
       "      <td>548</td>\n",
       "      <td>528</td>\n",
       "      <td>5068972</td>\n",
       "    </tr>\n",
       "  </tbody>\n",
       "</table>\n",
       "<p>62 rows × 5 columns</p>\n",
       "</div>"
      ],
      "text/plain": [
       "         date group  orders  buyers  revenue\n",
       "0  2019-08-01     A      23      19   142779\n",
       "1  2019-08-01     B      17      17    59758\n",
       "2  2019-08-02     A      42      36   234381\n",
       "3  2019-08-02     B      40      39   221801\n",
       "4  2019-08-03     A      66      60   346854\n",
       "..        ...   ...     ...     ...      ...\n",
       "57 2019-08-29     B     510     490  4746610\n",
       "58 2019-08-30     A     460     437  3311413\n",
       "59 2019-08-30     B     531     511  4955833\n",
       "60 2019-08-31     A     468     445  3364656\n",
       "61 2019-08-31     B     548     528  5068972\n",
       "\n",
       "[62 rows x 5 columns]"
      ]
     },
     "execution_count": 25,
     "metadata": {},
     "output_type": "execute_result"
    }
   ],
   "source": [
    "orders_agg = (dates_groups\n",
    "              .apply(\n",
    "                  lambda x: orders[np.logical_and(orders['date'] <= x['date'], orders['group'] == x['group'])]\n",
    "                  .agg({'date':'max', 'group':'max', 'transactionid':'nunique', 'visitorid':'nunique', 'revenue':'sum'}), \n",
    "                  axis=1)\n",
    "              .sort_values(by=['date', 'group']).reset_index(drop=True)\n",
    "             )\n",
    "orders_agg = orders_agg.rename(columns={'transactionid':'orders', 'visitorid':'buyers'})\n",
    "orders_agg"
   ]
  },
  {
   "cell_type": "markdown",
   "metadata": {},
   "source": [
    "Для расчета средней выручки не требуются данные о количестве посетителей, но для последующих расчетов нам потребуются данные и из датафрейма `orders` и из датафрейма `visitors`. Поэтому сразу сделаем кумулятивные расчеты для посетителей и объединим все данные в один датафрейм."
   ]
  },
  {
   "cell_type": "code",
   "execution_count": 26,
   "metadata": {},
   "outputs": [
    {
     "data": {
      "text/html": [
       "<div>\n",
       "<style scoped>\n",
       "    .dataframe tbody tr th:only-of-type {\n",
       "        vertical-align: middle;\n",
       "    }\n",
       "\n",
       "    .dataframe tbody tr th {\n",
       "        vertical-align: top;\n",
       "    }\n",
       "\n",
       "    .dataframe thead th {\n",
       "        text-align: right;\n",
       "    }\n",
       "</style>\n",
       "<table border=\"1\" class=\"dataframe\">\n",
       "  <thead>\n",
       "    <tr style=\"text-align: right;\">\n",
       "      <th></th>\n",
       "      <th>date</th>\n",
       "      <th>group</th>\n",
       "      <th>visitors</th>\n",
       "    </tr>\n",
       "  </thead>\n",
       "  <tbody>\n",
       "    <tr>\n",
       "      <th>0</th>\n",
       "      <td>2019-08-01</td>\n",
       "      <td>A</td>\n",
       "      <td>719</td>\n",
       "    </tr>\n",
       "    <tr>\n",
       "      <th>1</th>\n",
       "      <td>2019-08-01</td>\n",
       "      <td>B</td>\n",
       "      <td>713</td>\n",
       "    </tr>\n",
       "    <tr>\n",
       "      <th>2</th>\n",
       "      <td>2019-08-02</td>\n",
       "      <td>A</td>\n",
       "      <td>1338</td>\n",
       "    </tr>\n",
       "    <tr>\n",
       "      <th>3</th>\n",
       "      <td>2019-08-02</td>\n",
       "      <td>B</td>\n",
       "      <td>1294</td>\n",
       "    </tr>\n",
       "    <tr>\n",
       "      <th>4</th>\n",
       "      <td>2019-08-03</td>\n",
       "      <td>A</td>\n",
       "      <td>1845</td>\n",
       "    </tr>\n",
       "    <tr>\n",
       "      <th>...</th>\n",
       "      <td>...</td>\n",
       "      <td>...</td>\n",
       "      <td>...</td>\n",
       "    </tr>\n",
       "    <tr>\n",
       "      <th>57</th>\n",
       "      <td>2019-08-29</td>\n",
       "      <td>B</td>\n",
       "      <td>17708</td>\n",
       "    </tr>\n",
       "    <tr>\n",
       "      <th>58</th>\n",
       "      <td>2019-08-30</td>\n",
       "      <td>A</td>\n",
       "      <td>18037</td>\n",
       "    </tr>\n",
       "    <tr>\n",
       "      <th>59</th>\n",
       "      <td>2019-08-30</td>\n",
       "      <td>B</td>\n",
       "      <td>18198</td>\n",
       "    </tr>\n",
       "    <tr>\n",
       "      <th>60</th>\n",
       "      <td>2019-08-31</td>\n",
       "      <td>A</td>\n",
       "      <td>18736</td>\n",
       "    </tr>\n",
       "    <tr>\n",
       "      <th>61</th>\n",
       "      <td>2019-08-31</td>\n",
       "      <td>B</td>\n",
       "      <td>18916</td>\n",
       "    </tr>\n",
       "  </tbody>\n",
       "</table>\n",
       "<p>62 rows × 3 columns</p>\n",
       "</div>"
      ],
      "text/plain": [
       "         date group  visitors\n",
       "0  2019-08-01     A       719\n",
       "1  2019-08-01     B       713\n",
       "2  2019-08-02     A      1338\n",
       "3  2019-08-02     B      1294\n",
       "4  2019-08-03     A      1845\n",
       "..        ...   ...       ...\n",
       "57 2019-08-29     B     17708\n",
       "58 2019-08-30     A     18037\n",
       "59 2019-08-30     B     18198\n",
       "60 2019-08-31     A     18736\n",
       "61 2019-08-31     B     18916\n",
       "\n",
       "[62 rows x 3 columns]"
      ]
     },
     "execution_count": 26,
     "metadata": {},
     "output_type": "execute_result"
    }
   ],
   "source": [
    "visitors_agg= (dates_groups\n",
    "               .apply(lambda x: visitors[np.logical_and(visitors['date'] <= x['date'], visitors['group'] == x['group'])]\n",
    "                     .agg({'date':'max', 'group':'max', 'visitors':'sum'}), axis=1)\n",
    "               .sort_values(by=['date', 'group']).reset_index(drop=True)\n",
    "              )\n",
    "visitors_agg"
   ]
  },
  {
   "cell_type": "code",
   "execution_count": 27,
   "metadata": {},
   "outputs": [
    {
     "data": {
      "text/html": [
       "<div>\n",
       "<style scoped>\n",
       "    .dataframe tbody tr th:only-of-type {\n",
       "        vertical-align: middle;\n",
       "    }\n",
       "\n",
       "    .dataframe tbody tr th {\n",
       "        vertical-align: top;\n",
       "    }\n",
       "\n",
       "    .dataframe thead th {\n",
       "        text-align: right;\n",
       "    }\n",
       "</style>\n",
       "<table border=\"1\" class=\"dataframe\">\n",
       "  <thead>\n",
       "    <tr style=\"text-align: right;\">\n",
       "      <th></th>\n",
       "      <th>date</th>\n",
       "      <th>group</th>\n",
       "      <th>orders</th>\n",
       "      <th>buyers</th>\n",
       "      <th>revenue</th>\n",
       "      <th>visitors</th>\n",
       "    </tr>\n",
       "  </thead>\n",
       "  <tbody>\n",
       "    <tr>\n",
       "      <th>0</th>\n",
       "      <td>2019-08-01</td>\n",
       "      <td>A</td>\n",
       "      <td>23</td>\n",
       "      <td>19</td>\n",
       "      <td>142779</td>\n",
       "      <td>719</td>\n",
       "    </tr>\n",
       "    <tr>\n",
       "      <th>1</th>\n",
       "      <td>2019-08-01</td>\n",
       "      <td>B</td>\n",
       "      <td>17</td>\n",
       "      <td>17</td>\n",
       "      <td>59758</td>\n",
       "      <td>713</td>\n",
       "    </tr>\n",
       "    <tr>\n",
       "      <th>2</th>\n",
       "      <td>2019-08-02</td>\n",
       "      <td>A</td>\n",
       "      <td>42</td>\n",
       "      <td>36</td>\n",
       "      <td>234381</td>\n",
       "      <td>1338</td>\n",
       "    </tr>\n",
       "    <tr>\n",
       "      <th>3</th>\n",
       "      <td>2019-08-02</td>\n",
       "      <td>B</td>\n",
       "      <td>40</td>\n",
       "      <td>39</td>\n",
       "      <td>221801</td>\n",
       "      <td>1294</td>\n",
       "    </tr>\n",
       "    <tr>\n",
       "      <th>4</th>\n",
       "      <td>2019-08-03</td>\n",
       "      <td>A</td>\n",
       "      <td>66</td>\n",
       "      <td>60</td>\n",
       "      <td>346854</td>\n",
       "      <td>1845</td>\n",
       "    </tr>\n",
       "    <tr>\n",
       "      <th>...</th>\n",
       "      <td>...</td>\n",
       "      <td>...</td>\n",
       "      <td>...</td>\n",
       "      <td>...</td>\n",
       "      <td>...</td>\n",
       "      <td>...</td>\n",
       "    </tr>\n",
       "    <tr>\n",
       "      <th>57</th>\n",
       "      <td>2019-08-29</td>\n",
       "      <td>B</td>\n",
       "      <td>510</td>\n",
       "      <td>490</td>\n",
       "      <td>4746610</td>\n",
       "      <td>17708</td>\n",
       "    </tr>\n",
       "    <tr>\n",
       "      <th>58</th>\n",
       "      <td>2019-08-30</td>\n",
       "      <td>A</td>\n",
       "      <td>460</td>\n",
       "      <td>437</td>\n",
       "      <td>3311413</td>\n",
       "      <td>18037</td>\n",
       "    </tr>\n",
       "    <tr>\n",
       "      <th>59</th>\n",
       "      <td>2019-08-30</td>\n",
       "      <td>B</td>\n",
       "      <td>531</td>\n",
       "      <td>511</td>\n",
       "      <td>4955833</td>\n",
       "      <td>18198</td>\n",
       "    </tr>\n",
       "    <tr>\n",
       "      <th>60</th>\n",
       "      <td>2019-08-31</td>\n",
       "      <td>A</td>\n",
       "      <td>468</td>\n",
       "      <td>445</td>\n",
       "      <td>3364656</td>\n",
       "      <td>18736</td>\n",
       "    </tr>\n",
       "    <tr>\n",
       "      <th>61</th>\n",
       "      <td>2019-08-31</td>\n",
       "      <td>B</td>\n",
       "      <td>548</td>\n",
       "      <td>528</td>\n",
       "      <td>5068972</td>\n",
       "      <td>18916</td>\n",
       "    </tr>\n",
       "  </tbody>\n",
       "</table>\n",
       "<p>62 rows × 6 columns</p>\n",
       "</div>"
      ],
      "text/plain": [
       "         date group  orders  buyers  revenue  visitors\n",
       "0  2019-08-01     A      23      19   142779       719\n",
       "1  2019-08-01     B      17      17    59758       713\n",
       "2  2019-08-02     A      42      36   234381      1338\n",
       "3  2019-08-02     B      40      39   221801      1294\n",
       "4  2019-08-03     A      66      60   346854      1845\n",
       "..        ...   ...     ...     ...      ...       ...\n",
       "57 2019-08-29     B     510     490  4746610     17708\n",
       "58 2019-08-30     A     460     437  3311413     18037\n",
       "59 2019-08-30     B     531     511  4955833     18198\n",
       "60 2019-08-31     A     468     445  3364656     18736\n",
       "61 2019-08-31     B     548     528  5068972     18916\n",
       "\n",
       "[62 rows x 6 columns]"
      ]
     },
     "execution_count": 27,
     "metadata": {},
     "output_type": "execute_result"
    }
   ],
   "source": [
    "cumdata_agg = orders_agg.merge(visitors_agg, on=['date', 'group'])\n",
    "cumdata_agg"
   ]
  },
  {
   "cell_type": "markdown",
   "metadata": {},
   "source": [
    "Разобьем кумулятивные данные о покупках по группам."
   ]
  },
  {
   "cell_type": "code",
   "execution_count": 28,
   "metadata": {},
   "outputs": [
    {
     "data": {
      "text/html": [
       "<div>\n",
       "<style scoped>\n",
       "    .dataframe tbody tr th:only-of-type {\n",
       "        vertical-align: middle;\n",
       "    }\n",
       "\n",
       "    .dataframe tbody tr th {\n",
       "        vertical-align: top;\n",
       "    }\n",
       "\n",
       "    .dataframe thead th {\n",
       "        text-align: right;\n",
       "    }\n",
       "</style>\n",
       "<table border=\"1\" class=\"dataframe\">\n",
       "  <thead>\n",
       "    <tr style=\"text-align: right;\">\n",
       "      <th></th>\n",
       "      <th>date</th>\n",
       "      <th>group</th>\n",
       "      <th>orders</th>\n",
       "      <th>buyers</th>\n",
       "      <th>revenue</th>\n",
       "      <th>visitors</th>\n",
       "    </tr>\n",
       "  </thead>\n",
       "  <tbody>\n",
       "    <tr>\n",
       "      <th>0</th>\n",
       "      <td>2019-08-01</td>\n",
       "      <td>A</td>\n",
       "      <td>23</td>\n",
       "      <td>19</td>\n",
       "      <td>142779</td>\n",
       "      <td>719</td>\n",
       "    </tr>\n",
       "    <tr>\n",
       "      <th>1</th>\n",
       "      <td>2019-08-02</td>\n",
       "      <td>A</td>\n",
       "      <td>42</td>\n",
       "      <td>36</td>\n",
       "      <td>234381</td>\n",
       "      <td>1338</td>\n",
       "    </tr>\n",
       "    <tr>\n",
       "      <th>2</th>\n",
       "      <td>2019-08-03</td>\n",
       "      <td>A</td>\n",
       "      <td>66</td>\n",
       "      <td>60</td>\n",
       "      <td>346854</td>\n",
       "      <td>1845</td>\n",
       "    </tr>\n",
       "    <tr>\n",
       "      <th>3</th>\n",
       "      <td>2019-08-04</td>\n",
       "      <td>A</td>\n",
       "      <td>77</td>\n",
       "      <td>71</td>\n",
       "      <td>388030</td>\n",
       "      <td>2562</td>\n",
       "    </tr>\n",
       "    <tr>\n",
       "      <th>4</th>\n",
       "      <td>2019-08-05</td>\n",
       "      <td>A</td>\n",
       "      <td>99</td>\n",
       "      <td>92</td>\n",
       "      <td>474413</td>\n",
       "      <td>3318</td>\n",
       "    </tr>\n",
       "  </tbody>\n",
       "</table>\n",
       "</div>"
      ],
      "text/plain": [
       "        date group  orders  buyers  revenue  visitors\n",
       "0 2019-08-01     A      23      19   142779       719\n",
       "1 2019-08-02     A      42      36   234381      1338\n",
       "2 2019-08-03     A      66      60   346854      1845\n",
       "3 2019-08-04     A      77      71   388030      2562\n",
       "4 2019-08-05     A      99      92   474413      3318"
      ]
     },
     "execution_count": 28,
     "metadata": {},
     "output_type": "execute_result"
    }
   ],
   "source": [
    "cumrevenueA=cumdata_agg[orders_agg['group'] == 'A'].reset_index(drop=True)\n",
    "cumrevenueA.head(5)"
   ]
  },
  {
   "cell_type": "code",
   "execution_count": 29,
   "metadata": {},
   "outputs": [
    {
     "data": {
      "text/html": [
       "<div>\n",
       "<style scoped>\n",
       "    .dataframe tbody tr th:only-of-type {\n",
       "        vertical-align: middle;\n",
       "    }\n",
       "\n",
       "    .dataframe tbody tr th {\n",
       "        vertical-align: top;\n",
       "    }\n",
       "\n",
       "    .dataframe thead th {\n",
       "        text-align: right;\n",
       "    }\n",
       "</style>\n",
       "<table border=\"1\" class=\"dataframe\">\n",
       "  <thead>\n",
       "    <tr style=\"text-align: right;\">\n",
       "      <th></th>\n",
       "      <th>date</th>\n",
       "      <th>group</th>\n",
       "      <th>orders</th>\n",
       "      <th>buyers</th>\n",
       "      <th>revenue</th>\n",
       "      <th>visitors</th>\n",
       "    </tr>\n",
       "  </thead>\n",
       "  <tbody>\n",
       "    <tr>\n",
       "      <th>0</th>\n",
       "      <td>2019-08-01</td>\n",
       "      <td>B</td>\n",
       "      <td>17</td>\n",
       "      <td>17</td>\n",
       "      <td>59758</td>\n",
       "      <td>713</td>\n",
       "    </tr>\n",
       "    <tr>\n",
       "      <th>1</th>\n",
       "      <td>2019-08-02</td>\n",
       "      <td>B</td>\n",
       "      <td>40</td>\n",
       "      <td>39</td>\n",
       "      <td>221801</td>\n",
       "      <td>1294</td>\n",
       "    </tr>\n",
       "    <tr>\n",
       "      <th>2</th>\n",
       "      <td>2019-08-03</td>\n",
       "      <td>B</td>\n",
       "      <td>54</td>\n",
       "      <td>53</td>\n",
       "      <td>288850</td>\n",
       "      <td>1803</td>\n",
       "    </tr>\n",
       "    <tr>\n",
       "      <th>3</th>\n",
       "      <td>2019-08-04</td>\n",
       "      <td>B</td>\n",
       "      <td>68</td>\n",
       "      <td>66</td>\n",
       "      <td>385740</td>\n",
       "      <td>2573</td>\n",
       "    </tr>\n",
       "    <tr>\n",
       "      <th>4</th>\n",
       "      <td>2019-08-05</td>\n",
       "      <td>B</td>\n",
       "      <td>89</td>\n",
       "      <td>87</td>\n",
       "      <td>475648</td>\n",
       "      <td>3280</td>\n",
       "    </tr>\n",
       "  </tbody>\n",
       "</table>\n",
       "</div>"
      ],
      "text/plain": [
       "        date group  orders  buyers  revenue  visitors\n",
       "0 2019-08-01     B      17      17    59758       713\n",
       "1 2019-08-02     B      40      39   221801      1294\n",
       "2 2019-08-03     B      54      53   288850      1803\n",
       "3 2019-08-04     B      68      66   385740      2573\n",
       "4 2019-08-05     B      89      87   475648      3280"
      ]
     },
     "execution_count": 29,
     "metadata": {},
     "output_type": "execute_result"
    }
   ],
   "source": [
    "cumrevenueB=cumdata_agg[orders_agg['group'] == 'B'].reset_index(drop=True)\n",
    "cumrevenueB.head(5)"
   ]
  },
  {
   "cell_type": "code",
   "execution_count": 30,
   "metadata": {
    "scrolled": true
   },
   "outputs": [
    {
     "data": {
      "image/png": "[encoded data removed]",
      "text/plain": [
       "<Figure size 1008x360 with 1 Axes>"
      ]
     },
     "metadata": {
      "needs_background": "light"
     },
     "output_type": "display_data"
    }
   ],
   "source": [
    "plt.figure(figsize=(14,5))\n",
    "plt.plot(cumrevenueA['date'], cumrevenueA['revenue'], label='A')\n",
    "plt.plot(cumrevenueB['date'], cumrevenueB['revenue'], label='B')\n",
    "plt.legend()\n",
    "plt.title('График кумулятивной выручки по группам', fontsize=20)\n",
    "plt.xlabel('Дата', fontsize=20)\n",
    "plt.ylabel(\"Выручка (млн.)\",  fontsize=20);"
   ]
  },
  {
   "cell_type": "markdown",
   "metadata": {},
   "source": [
    "Мы можем наблюдать, что выручка в обеих группах стабильно растет. В первой половине тестирования заметно небольшое преимущество выручки в группе `B`, после чего в группе `B` выручка резко выросла и далее вплоть до конца теста имела такую же динамику, что и группа `A`. Практически наверняка в результатах есть выброс - какая-то одна супер-покупка, которая значительно повлияла на поведение графика группы `B`, либо резкий всплеск покупательской активности."
   ]
  },
  {
   "cell_type": "markdown",
   "metadata": {},
   "source": [
    "### Построение графика кумулятивного среднего чека по группам"
   ]
  },
  {
   "cell_type": "code",
   "execution_count": 31,
   "metadata": {},
   "outputs": [
    {
     "data": {
      "image/png": "[encoded data removed]",
      "text/plain": [
       "<Figure size 1008x360 with 1 Axes>"
      ]
     },
     "metadata": {
      "needs_background": "light"
     },
     "output_type": "display_data"
    }
   ],
   "source": [
    "plt.figure(figsize=(14,5))\n",
    "plt.plot(cumrevenueA['date'], cumrevenueA['revenue']/cumrevenueA['orders'], label='A')\n",
    "plt.plot(cumrevenueB['date'], cumrevenueB['revenue']/cumrevenueB['orders'], label='B')\n",
    "plt.legend()\n",
    "plt.title('График кумулятивного среднего чека по группам', fontsize=20)\n",
    "plt.xlabel('Дата', fontsize=20)\n",
    "plt.ylabel(\"Сумма среднего чека\",  fontsize=18);"
   ]
  },
  {
   "cell_type": "markdown",
   "metadata": {},
   "source": [
    "Мы видим колебания в начале графика, после чего кривая группы `B` стабилизировалась вплоть до окончания теста, а кривая группы `A` резко выросла, а затем начала постепенное снижение. Из этого мы можем сделать вывод, что выброс на графике кумулятивной средней выручки связан не со скачком количества покупателей, а с одной большой покупкой, которая также оказала большое влияние на кумулятивный средний чек."
   ]
  },
  {
   "cell_type": "markdown",
   "metadata": {},
   "source": [
    "### Построение графика относительного изменения кумулятивного среднего чека группы B к группе A."
   ]
  },
  {
   "cell_type": "code",
   "execution_count": 32,
   "metadata": {},
   "outputs": [
    {
     "data": {
      "image/png": "[encoded data removed]",
      "text/plain": [
       "<Figure size 1008x360 with 1 Axes>"
      ]
     },
     "metadata": {
      "needs_background": "light"
     },
     "output_type": "display_data"
    }
   ],
   "source": [
    "plt.figure(figsize=(14,5))\n",
    "plt.plot(cumrevenueA['date'], (cumrevenueB['revenue']/cumrevenueB['orders'])/(cumrevenueA['revenue']/cumrevenueA['orders']) - 1)\n",
    "plt.title('График относительного изменения кумулятивного среднего чека группы В к группе А', fontsize=20)\n",
    "plt.xlabel('Дата', fontsize=20)\n",
    "plt.ylabel(\"Отношение\",  fontsize=18)\n",
    "plt.axhline(y=0, color='black', linestyle='--');"
   ]
  },
  {
   "cell_type": "markdown",
   "metadata": {},
   "source": [
    "Мы видим, что в начале графика соотношение сильно колеблется. Такое поведение характерно для ранних этапов теста, особенно учитывая, что выборка покупателей не слишком велика. В середине теста появляется тренд на стабилизацию соотношения в районе 0, однако затем происходит резкий скачок вверх, после которого следует постепенное снижение. Выброс сильно искажает картину и не дает оценить результаты группы В."
   ]
  },
  {
   "cell_type": "markdown",
   "metadata": {},
   "source": [
    "### Построение графика кумулятивного среднего количества заказов на посетителя по группам"
   ]
  },
  {
   "cell_type": "code",
   "execution_count": 33,
   "metadata": {},
   "outputs": [
    {
     "data": {
      "image/png": "[encoded data removed]",
      "text/plain": [
       "<Figure size 1008x360 with 1 Axes>"
      ]
     },
     "metadata": {
      "needs_background": "light"
     },
     "output_type": "display_data"
    }
   ],
   "source": [
    "plt.figure(figsize=(14,5))\n",
    "plt.plot(cumrevenueA['date'], cumrevenueA['orders']/cumrevenueA['visitors'], label='A')\n",
    "plt.plot(cumrevenueB['date'], cumrevenueB['orders']/cumrevenueB['visitors'], label='B')\n",
    "plt.legend()\n",
    "plt.title('График кумулятивного среднего количества заказов на посетителя (конверсии) по группам', fontsize=16)\n",
    "plt.xlabel('Дата', fontsize=20)\n",
    "plt.ylabel(\"Значение конверсии\",  fontsize=14);"
   ]
  },
  {
   "cell_type": "markdown",
   "metadata": {},
   "source": [
    "Мы можем наблюдать нестабильные графики в начале теста, после чего они стабилизируются с незначительными колебаниями на уровне примерно **2.6%** для группы `А` и **2.9-3%** для группы `В`. Конверсия группы `B` стабильно выше конверсии группы `A`."
   ]
  },
  {
   "cell_type": "markdown",
   "metadata": {},
   "source": [
    "### Построение графика относительного изменения кумулятивного среднего количества заказов на посетителя группы B к группе A"
   ]
  },
  {
   "cell_type": "code",
   "execution_count": 34,
   "metadata": {},
   "outputs": [
    {
     "data": {
      "image/png": "[encoded data removed]",
      "text/plain": [
       "<Figure size 1008x360 with 1 Axes>"
      ]
     },
     "metadata": {
      "needs_background": "light"
     },
     "output_type": "display_data"
    }
   ],
   "source": [
    "plt.figure(figsize=(14,5))\n",
    "plt.plot(cumrevenueA['date'], (cumrevenueB['orders']/cumrevenueB['visitors'])/(cumrevenueA['orders']/cumrevenueA['visitors']) - 1)\n",
    "plt.title('График кумулятивного среднего количества заказов на посетителя (конверсии) по группам', fontsize=16)\n",
    "plt.xlabel('Дата', fontsize=20)\n",
    "plt.ylabel(\"Соотношение\",  fontsize=14)\n",
    "plt.axhline(y=0, color='black', linestyle='--');"
   ]
  },
  {
   "cell_type": "markdown",
   "metadata": {},
   "source": [
    "Конверсия пользователей из группы B заметно выше конверсии пользователей их группы А - окодо 20% на протяжении почти всего теста. Можно предположить, что нововведение сделало процесс покупки проще или быстрее."
   ]
  },
  {
   "cell_type": "markdown",
   "metadata": {},
   "source": [
    "### Построение точечного графика количества заказов по пользователям"
   ]
  },
  {
   "cell_type": "markdown",
   "metadata": {},
   "source": [
    "Создадим датафрейм, содержащий информацию о пользователях и количестве их заказов."
   ]
  },
  {
   "cell_type": "code",
   "execution_count": 35,
   "metadata": {},
   "outputs": [
    {
     "data": {
      "text/html": [
       "<div>\n",
       "<style scoped>\n",
       "    .dataframe tbody tr th:only-of-type {\n",
       "        vertical-align: middle;\n",
       "    }\n",
       "\n",
       "    .dataframe tbody tr th {\n",
       "        vertical-align: top;\n",
       "    }\n",
       "\n",
       "    .dataframe thead th {\n",
       "        text-align: right;\n",
       "    }\n",
       "</style>\n",
       "<table border=\"1\" class=\"dataframe\">\n",
       "  <thead>\n",
       "    <tr style=\"text-align: right;\">\n",
       "      <th></th>\n",
       "      <th>users</th>\n",
       "      <th>orders</th>\n",
       "    </tr>\n",
       "  </thead>\n",
       "  <tbody>\n",
       "    <tr>\n",
       "      <th>908</th>\n",
       "      <td>3967698036</td>\n",
       "      <td>3</td>\n",
       "    </tr>\n",
       "    <tr>\n",
       "      <th>55</th>\n",
       "      <td>249864742</td>\n",
       "      <td>3</td>\n",
       "    </tr>\n",
       "    <tr>\n",
       "      <th>478</th>\n",
       "      <td>2108163459</td>\n",
       "      <td>3</td>\n",
       "    </tr>\n",
       "    <tr>\n",
       "      <th>687</th>\n",
       "      <td>2988190573</td>\n",
       "      <td>3</td>\n",
       "    </tr>\n",
       "    <tr>\n",
       "      <th>890</th>\n",
       "      <td>3908431265</td>\n",
       "      <td>3</td>\n",
       "    </tr>\n",
       "    <tr>\n",
       "      <th>138</th>\n",
       "      <td>611059232</td>\n",
       "      <td>3</td>\n",
       "    </tr>\n",
       "    <tr>\n",
       "      <th>632</th>\n",
       "      <td>2742574263</td>\n",
       "      <td>3</td>\n",
       "    </tr>\n",
       "    <tr>\n",
       "      <th>157</th>\n",
       "      <td>678354126</td>\n",
       "      <td>2</td>\n",
       "    </tr>\n",
       "    <tr>\n",
       "      <th>323</th>\n",
       "      <td>1404560065</td>\n",
       "      <td>2</td>\n",
       "    </tr>\n",
       "    <tr>\n",
       "      <th>452</th>\n",
       "      <td>1985475298</td>\n",
       "      <td>2</td>\n",
       "    </tr>\n",
       "  </tbody>\n",
       "</table>\n",
       "</div>"
      ],
      "text/plain": [
       "          users  orders\n",
       "908  3967698036       3\n",
       "55    249864742       3\n",
       "478  2108163459       3\n",
       "687  2988190573       3\n",
       "890  3908431265       3\n",
       "138   611059232       3\n",
       "632  2742574263       3\n",
       "157   678354126       2\n",
       "323  1404560065       2\n",
       "452  1985475298       2"
      ]
     },
     "execution_count": 35,
     "metadata": {},
     "output_type": "execute_result"
    }
   ],
   "source": [
    "orders_by_users = orders.groupby('visitorid', as_index=False).agg({'transactionid':'nunique'})\n",
    "orders_by_users.columns = ['users', 'orders']\n",
    "orders_by_users.sort_values(by='orders', ascending=False).head(10)"
   ]
  },
  {
   "cell_type": "markdown",
   "metadata": {},
   "source": [
    "У нас есть несколько пользователей с тремя покупками. У остальных 2 или 1 покупка."
   ]
  },
  {
   "cell_type": "markdown",
   "metadata": {},
   "source": [
    "Для построение графика создадим объект Series, в котором будет количество элементов равное количеству покупателей."
   ]
  },
  {
   "cell_type": "code",
   "execution_count": 36,
   "metadata": {},
   "outputs": [],
   "source": [
    "x_values = range(len(orders_by_users))"
   ]
  },
  {
   "cell_type": "code",
   "execution_count": 37,
   "metadata": {},
   "outputs": [
    {
     "data": {
      "image/png": "[encoded data removed]",
      "text/plain": [
       "<Figure size 720x432 with 1 Axes>"
      ]
     },
     "metadata": {
      "needs_background": "light"
     },
     "output_type": "display_data"
    }
   ],
   "source": [
    "plt.figure(figsize=(10,6))\n",
    "plt.scatter(x_values, orders_by_users['orders'])\n",
    "plt.xlabel('Покупатели', fontsize=14)\n",
    "plt.ylabel('Количество покупок', fontsize=14)\n",
    "plt.title('Точечный график количества заказов по пользователям', fontsize=14);"
   ]
  },
  {
   "cell_type": "markdown",
   "metadata": {},
   "source": [
    "Подавляющее колиечство покупателей совершили всего одну покупку, также есть небольшое количество покупателей с двумя покупками и всего несколько покупателей с тремя покупками. Возможно, стоит разобраться, в чем причина такого нихкого уровня удержания пользователей. Для того, чтобы точно определить, что считать выбросом, посмотрим 95-й и 99-й процентили."
   ]
  },
  {
   "cell_type": "markdown",
   "metadata": {},
   "source": [
    "### Расчет 95-го и 99-го перцентилей для количества заказов по пользователям."
   ]
  },
  {
   "cell_type": "code",
   "execution_count": 38,
   "metadata": {},
   "outputs": [],
   "source": [
    "percent1 = np.percentile(orders_by_users['orders'],[95, 99])"
   ]
  },
  {
   "cell_type": "code",
   "execution_count": 39,
   "metadata": {},
   "outputs": [
    {
     "name": "stdout",
     "output_type": "stream",
     "text": [
      "95-й перцентиль для количества покупок на пользователя равен 1.0, а 99-й перцентиль равен 2.0.\n"
     ]
    }
   ],
   "source": [
    "print(f'95-й перцентиль для количества покупок на пользователя равен {percent1[0]}, а 99-й перцентиль равен {percent1[1]}.')"
   ]
  },
  {
   "cell_type": "markdown",
   "metadata": {},
   "source": [
    "Не более 5% пользователей оформили более одной покупки и не более 1% пользователей оформили более 2 покупок. Стоит признать выбросами пользователей с двумя и более покупками."
   ]
  },
  {
   "cell_type": "markdown",
   "metadata": {},
   "source": [
    "### Построение  точечного графика стоимостей заказов"
   ]
  },
  {
   "cell_type": "markdown",
   "metadata": {},
   "source": [
    "Порядок действий схож с тем, который был при построении точечного графика количества покупок, только не проводить группировку."
   ]
  },
  {
   "cell_type": "code",
   "execution_count": 40,
   "metadata": {},
   "outputs": [],
   "source": [
    "x1_values = range(len(orders['revenue']))"
   ]
  },
  {
   "cell_type": "code",
   "execution_count": 41,
   "metadata": {},
   "outputs": [
    {
     "data": {
      "image/png": "[encoded data removed]",
      "text/plain": [
       "<Figure size 720x432 with 1 Axes>"
      ]
     },
     "metadata": {
      "needs_background": "light"
     },
     "output_type": "display_data"
    }
   ],
   "source": [
    "plt.figure(figsize=(10,6))\n",
    "plt.scatter(x1_values, orders['revenue'])\n",
    "plt.xlabel('Заказы', fontsize=14)\n",
    "plt.ylabel('Стоимость (млн.)', fontsize=14)\n",
    "plt.title('Точечный график стимости заказов', fontsize=14);"
   ]
  },
  {
   "cell_type": "markdown",
   "metadata": {},
   "source": [
    "Мы видим, что стимость практически всех заказов не превышает 100 000. Но есть два явных выброса: один около 200 000 и один более 1 200 000. Воспользуемся процентилями, чтобы определиться с выбросами наверняка."
   ]
  },
  {
   "cell_type": "markdown",
   "metadata": {},
   "source": [
    "###  Расчет 95-го и 99-го перцентилей стоимости заказов"
   ]
  },
  {
   "cell_type": "code",
   "execution_count": 42,
   "metadata": {},
   "outputs": [],
   "source": [
    "percent2 = np.percentile(orders['revenue'], [95, 99])"
   ]
  },
  {
   "cell_type": "code",
   "execution_count": 43,
   "metadata": {},
   "outputs": [
    {
     "name": "stdout",
     "output_type": "stream",
     "text": [
      "95-й перцентиль для количества покупок на пользователя равен 26785.0, а 99-й перцентиль равен 53904.0.\n"
     ]
    }
   ],
   "source": [
    "print(f'95-й перцентиль для количества покупок на пользователя равен {percent2[0]}, а 99-й перцентиль равен {percent2[1]}.')"
   ]
  },
  {
   "cell_type": "markdown",
   "metadata": {},
   "source": [
    "Только 5% покупок были дороже 26785 и лишь 1% покупок был дороже 53904."
   ]
  },
  {
   "cell_type": "markdown",
   "metadata": {},
   "source": [
    "### Подготовка к расчету статистических значимостей."
   ]
  },
  {
   "cell_type": "markdown",
   "metadata": {},
   "source": [
    "Для понимания результатов А/В-тест нам необходимо:\n",
    "- Посчитать статистическую значимость различий в среднем количестве заказов на посетителя между группами по «сырым» данным;\n",
    "- Посчитать статистическую значимость различий в среднем чеке заказа между группами по «сырым» данным;\n",
    "- Посчитать статистическую значимость различий в среднем количестве заказов на посетителя между группами по «очищенным» данным;\n",
    "- Посчитать статистическую значимость различий в среднем чеке заказа между группами по «очищенным» данным.\n",
    "***\n",
    "Под \"очищенными\" данными понимаются данные с удаленными выбросами.\n",
    "***\n",
    "Для проведения указанных расчетов необходимо сначала подготовить данные. Нам потребуется:\n",
    "\n",
    "1) дата (`date`);\n",
    "\n",
    "2) количество заказов в выбранную дату в группе A (`orders_per_date_A`);\n",
    "\n",
    "3) суммарная выручка в выбранную дату в группе A (`revenue_per_date_A`);\n",
    "\n",
    "4) количество заказов в выбранную дату в группе B (`orders_per_date_B`);\n",
    "\n",
    "5) суммарная выручка в выбранную дату в группе B (`revenue_per_date_A`);\n",
    "\n",
    "6) суммарное количество заказов до выбранной даты включительно в группе A (`orders_cum_B`);\n",
    "\n",
    "7) суммарная выручка до выбранной даты включительно в группе A (`revenue_cum_A`);\n",
    "\n",
    "8) суммарное количество заказов до выбранной даты включительно в группе B (`orders_cum_B`);\n",
    "\n",
    "9) суммарная выручка до выбранной даты включительно в группе B(`revenue_cum_A`);\n",
    "\n",
    "10) количество пользователей в выбранную дату в группе A (`visitors_per_dateA`);\n",
    "\n",
    "11) количество пользователей в выбранную дату в группе B (`visitors_per_date_B`);\n",
    "\n",
    "12) количество пользователей до выбранной даты включительно в группе A (`visitors_cum_A`);\n",
    "\n",
    "13) количество пользователей до выбранной даты включительно в группе B (`visitors_cum_B`).\n",
    "***"
   ]
  },
  {
   "cell_type": "code",
   "execution_count": 44,
   "metadata": {},
   "outputs": [
    {
     "data": {
      "text/html": [
       "<div>\n",
       "<style scoped>\n",
       "    .dataframe tbody tr th:only-of-type {\n",
       "        vertical-align: middle;\n",
       "    }\n",
       "\n",
       "    .dataframe tbody tr th {\n",
       "        vertical-align: top;\n",
       "    }\n",
       "\n",
       "    .dataframe thead th {\n",
       "        text-align: right;\n",
       "    }\n",
       "</style>\n",
       "<table border=\"1\" class=\"dataframe\">\n",
       "  <thead>\n",
       "    <tr style=\"text-align: right;\">\n",
       "      <th></th>\n",
       "      <th>date</th>\n",
       "      <th>orders_per_date_A</th>\n",
       "      <th>revenue_per_date_A</th>\n",
       "    </tr>\n",
       "  </thead>\n",
       "  <tbody>\n",
       "    <tr>\n",
       "      <th>0</th>\n",
       "      <td>2019-08-01</td>\n",
       "      <td>23</td>\n",
       "      <td>142779</td>\n",
       "    </tr>\n",
       "    <tr>\n",
       "      <th>1</th>\n",
       "      <td>2019-08-02</td>\n",
       "      <td>19</td>\n",
       "      <td>91602</td>\n",
       "    </tr>\n",
       "    <tr>\n",
       "      <th>2</th>\n",
       "      <td>2019-08-03</td>\n",
       "      <td>24</td>\n",
       "      <td>112473</td>\n",
       "    </tr>\n",
       "    <tr>\n",
       "      <th>3</th>\n",
       "      <td>2019-08-04</td>\n",
       "      <td>11</td>\n",
       "      <td>41176</td>\n",
       "    </tr>\n",
       "    <tr>\n",
       "      <th>4</th>\n",
       "      <td>2019-08-05</td>\n",
       "      <td>22</td>\n",
       "      <td>86383</td>\n",
       "    </tr>\n",
       "  </tbody>\n",
       "</table>\n",
       "</div>"
      ],
      "text/plain": [
       "        date  orders_per_date_A  revenue_per_date_A\n",
       "0 2019-08-01                 23              142779\n",
       "1 2019-08-02                 19               91602\n",
       "2 2019-08-03                 24              112473\n",
       "3 2019-08-04                 11               41176\n",
       "4 2019-08-05                 22               86383"
      ]
     },
     "execution_count": 44,
     "metadata": {},
     "output_type": "execute_result"
    }
   ],
   "source": [
    "orders_daily_A = orders[orders['group'] == 'A'].groupby('date', as_index=False).agg({'transactionid': pd.Series.nunique, 'revenue':'sum'})\n",
    "orders_daily_A.columns= ['date', 'orders_per_date_A', 'revenue_per_date_A']\n",
    "orders_daily_A.head()"
   ]
  },
  {
   "cell_type": "code",
   "execution_count": 45,
   "metadata": {
    "scrolled": false
   },
   "outputs": [
    {
     "data": {
      "text/html": [
       "<div>\n",
       "<style scoped>\n",
       "    .dataframe tbody tr th:only-of-type {\n",
       "        vertical-align: middle;\n",
       "    }\n",
       "\n",
       "    .dataframe tbody tr th {\n",
       "        vertical-align: top;\n",
       "    }\n",
       "\n",
       "    .dataframe thead th {\n",
       "        text-align: right;\n",
       "    }\n",
       "</style>\n",
       "<table border=\"1\" class=\"dataframe\">\n",
       "  <thead>\n",
       "    <tr style=\"text-align: right;\">\n",
       "      <th></th>\n",
       "      <th>date</th>\n",
       "      <th>orders_per_date_B</th>\n",
       "      <th>revenue_per_date_B</th>\n",
       "    </tr>\n",
       "  </thead>\n",
       "  <tbody>\n",
       "    <tr>\n",
       "      <th>0</th>\n",
       "      <td>2019-08-01</td>\n",
       "      <td>17</td>\n",
       "      <td>59758</td>\n",
       "    </tr>\n",
       "    <tr>\n",
       "      <th>1</th>\n",
       "      <td>2019-08-02</td>\n",
       "      <td>23</td>\n",
       "      <td>162043</td>\n",
       "    </tr>\n",
       "    <tr>\n",
       "      <th>2</th>\n",
       "      <td>2019-08-03</td>\n",
       "      <td>14</td>\n",
       "      <td>67049</td>\n",
       "    </tr>\n",
       "    <tr>\n",
       "      <th>3</th>\n",
       "      <td>2019-08-04</td>\n",
       "      <td>14</td>\n",
       "      <td>96890</td>\n",
       "    </tr>\n",
       "    <tr>\n",
       "      <th>4</th>\n",
       "      <td>2019-08-05</td>\n",
       "      <td>21</td>\n",
       "      <td>89908</td>\n",
       "    </tr>\n",
       "  </tbody>\n",
       "</table>\n",
       "</div>"
      ],
      "text/plain": [
       "        date  orders_per_date_B  revenue_per_date_B\n",
       "0 2019-08-01                 17               59758\n",
       "1 2019-08-02                 23              162043\n",
       "2 2019-08-03                 14               67049\n",
       "3 2019-08-04                 14               96890\n",
       "4 2019-08-05                 21               89908"
      ]
     },
     "execution_count": 45,
     "metadata": {},
     "output_type": "execute_result"
    }
   ],
   "source": [
    "orders_daily_B = orders[orders['group'] == 'B'].groupby('date', as_index=False).agg({'transactionid': pd.Series.nunique, 'revenue':'sum'})\n",
    "orders_daily_B.columns= ['date', 'orders_per_date_B', 'revenue_per_date_B']\n",
    "orders_daily_B.head()"
   ]
  },
  {
   "cell_type": "code",
   "execution_count": 46,
   "metadata": {},
   "outputs": [
    {
     "data": {
      "text/html": [
       "<div>\n",
       "<style scoped>\n",
       "    .dataframe tbody tr th:only-of-type {\n",
       "        vertical-align: middle;\n",
       "    }\n",
       "\n",
       "    .dataframe tbody tr th {\n",
       "        vertical-align: top;\n",
       "    }\n",
       "\n",
       "    .dataframe thead th {\n",
       "        text-align: right;\n",
       "    }\n",
       "</style>\n",
       "<table border=\"1\" class=\"dataframe\">\n",
       "  <thead>\n",
       "    <tr style=\"text-align: right;\">\n",
       "      <th></th>\n",
       "      <th>date</th>\n",
       "      <th>orders_cum_A</th>\n",
       "      <th>revenue_cum_A</th>\n",
       "    </tr>\n",
       "  </thead>\n",
       "  <tbody>\n",
       "    <tr>\n",
       "      <th>0</th>\n",
       "      <td>2019-08-01</td>\n",
       "      <td>23</td>\n",
       "      <td>142779</td>\n",
       "    </tr>\n",
       "    <tr>\n",
       "      <th>1</th>\n",
       "      <td>2019-08-02</td>\n",
       "      <td>42</td>\n",
       "      <td>234381</td>\n",
       "    </tr>\n",
       "    <tr>\n",
       "      <th>2</th>\n",
       "      <td>2019-08-03</td>\n",
       "      <td>66</td>\n",
       "      <td>346854</td>\n",
       "    </tr>\n",
       "    <tr>\n",
       "      <th>3</th>\n",
       "      <td>2019-08-04</td>\n",
       "      <td>77</td>\n",
       "      <td>388030</td>\n",
       "    </tr>\n",
       "    <tr>\n",
       "      <th>4</th>\n",
       "      <td>2019-08-05</td>\n",
       "      <td>99</td>\n",
       "      <td>474413</td>\n",
       "    </tr>\n",
       "  </tbody>\n",
       "</table>\n",
       "</div>"
      ],
      "text/plain": [
       "        date  orders_cum_A  revenue_cum_A\n",
       "0 2019-08-01            23         142779\n",
       "1 2019-08-02            42         234381\n",
       "2 2019-08-03            66         346854\n",
       "3 2019-08-04            77         388030\n",
       "4 2019-08-05            99         474413"
      ]
     },
     "execution_count": 46,
     "metadata": {},
     "output_type": "execute_result"
    }
   ],
   "source": [
    "orders_cum_data_A = (\n",
    "    orders_daily_A\n",
    "    .apply(lambda x: orders_daily_A[orders_daily_A['date'] <= x['date']]\n",
    "           .agg({'date':'max', 'orders_per_date_A':'sum', 'revenue_per_date_A':'sum'}), axis=1)\n",
    ")\n",
    "orders_cum_data_A.columns = ['date', 'orders_cum_A','revenue_cum_A']\n",
    "orders_cum_data_A.head()"
   ]
  },
  {
   "cell_type": "code",
   "execution_count": 47,
   "metadata": {},
   "outputs": [
    {
     "data": {
      "text/html": [
       "<div>\n",
       "<style scoped>\n",
       "    .dataframe tbody tr th:only-of-type {\n",
       "        vertical-align: middle;\n",
       "    }\n",
       "\n",
       "    .dataframe tbody tr th {\n",
       "        vertical-align: top;\n",
       "    }\n",
       "\n",
       "    .dataframe thead th {\n",
       "        text-align: right;\n",
       "    }\n",
       "</style>\n",
       "<table border=\"1\" class=\"dataframe\">\n",
       "  <thead>\n",
       "    <tr style=\"text-align: right;\">\n",
       "      <th></th>\n",
       "      <th>date</th>\n",
       "      <th>orders_cum_B</th>\n",
       "      <th>revenue_cum_B</th>\n",
       "    </tr>\n",
       "  </thead>\n",
       "  <tbody>\n",
       "    <tr>\n",
       "      <th>0</th>\n",
       "      <td>2019-08-01</td>\n",
       "      <td>17</td>\n",
       "      <td>59758</td>\n",
       "    </tr>\n",
       "    <tr>\n",
       "      <th>1</th>\n",
       "      <td>2019-08-02</td>\n",
       "      <td>40</td>\n",
       "      <td>221801</td>\n",
       "    </tr>\n",
       "    <tr>\n",
       "      <th>2</th>\n",
       "      <td>2019-08-03</td>\n",
       "      <td>54</td>\n",
       "      <td>288850</td>\n",
       "    </tr>\n",
       "    <tr>\n",
       "      <th>3</th>\n",
       "      <td>2019-08-04</td>\n",
       "      <td>68</td>\n",
       "      <td>385740</td>\n",
       "    </tr>\n",
       "    <tr>\n",
       "      <th>4</th>\n",
       "      <td>2019-08-05</td>\n",
       "      <td>89</td>\n",
       "      <td>475648</td>\n",
       "    </tr>\n",
       "  </tbody>\n",
       "</table>\n",
       "</div>"
      ],
      "text/plain": [
       "        date  orders_cum_B  revenue_cum_B\n",
       "0 2019-08-01            17          59758\n",
       "1 2019-08-02            40         221801\n",
       "2 2019-08-03            54         288850\n",
       "3 2019-08-04            68         385740\n",
       "4 2019-08-05            89         475648"
      ]
     },
     "execution_count": 47,
     "metadata": {},
     "output_type": "execute_result"
    }
   ],
   "source": [
    "orders_cum_data_B = (\n",
    "    orders_daily_B\n",
    "    .apply(lambda x: orders_daily_B[orders_daily_B['date'] <= x['date']]\n",
    "           .agg({'date':'max', 'orders_per_date_B':'sum', 'revenue_per_date_B':'sum'}), axis=1)\n",
    ")\n",
    "orders_cum_data_B.columns = ['date', 'orders_cum_B','revenue_cum_B']\n",
    "orders_cum_data_B.head()"
   ]
  },
  {
   "cell_type": "code",
   "execution_count": 48,
   "metadata": {},
   "outputs": [
    {
     "data": {
      "text/html": [
       "<div>\n",
       "<style scoped>\n",
       "    .dataframe tbody tr th:only-of-type {\n",
       "        vertical-align: middle;\n",
       "    }\n",
       "\n",
       "    .dataframe tbody tr th {\n",
       "        vertical-align: top;\n",
       "    }\n",
       "\n",
       "    .dataframe thead th {\n",
       "        text-align: right;\n",
       "    }\n",
       "</style>\n",
       "<table border=\"1\" class=\"dataframe\">\n",
       "  <thead>\n",
       "    <tr style=\"text-align: right;\">\n",
       "      <th></th>\n",
       "      <th>date</th>\n",
       "      <th>visitors_per_date_A</th>\n",
       "    </tr>\n",
       "  </thead>\n",
       "  <tbody>\n",
       "    <tr>\n",
       "      <th>0</th>\n",
       "      <td>2019-08-01</td>\n",
       "      <td>719</td>\n",
       "    </tr>\n",
       "    <tr>\n",
       "      <th>1</th>\n",
       "      <td>2019-08-02</td>\n",
       "      <td>619</td>\n",
       "    </tr>\n",
       "    <tr>\n",
       "      <th>2</th>\n",
       "      <td>2019-08-03</td>\n",
       "      <td>507</td>\n",
       "    </tr>\n",
       "    <tr>\n",
       "      <th>3</th>\n",
       "      <td>2019-08-04</td>\n",
       "      <td>717</td>\n",
       "    </tr>\n",
       "    <tr>\n",
       "      <th>4</th>\n",
       "      <td>2019-08-05</td>\n",
       "      <td>756</td>\n",
       "    </tr>\n",
       "  </tbody>\n",
       "</table>\n",
       "</div>"
      ],
      "text/plain": [
       "        date  visitors_per_date_A\n",
       "0 2019-08-01                  719\n",
       "1 2019-08-02                  619\n",
       "2 2019-08-03                  507\n",
       "3 2019-08-04                  717\n",
       "4 2019-08-05                  756"
      ]
     },
     "execution_count": 48,
     "metadata": {},
     "output_type": "execute_result"
    }
   ],
   "source": [
    "visitors_daily_A = visitors[visitors['group'] == 'A'].groupby('date', as_index=False).agg({'visitors':'sum'})\n",
    "visitors_daily_A.columns= ['date','visitors_per_date_A']\n",
    "visitors_daily_A.head()"
   ]
  },
  {
   "cell_type": "code",
   "execution_count": 49,
   "metadata": {},
   "outputs": [
    {
     "data": {
      "text/html": [
       "<div>\n",
       "<style scoped>\n",
       "    .dataframe tbody tr th:only-of-type {\n",
       "        vertical-align: middle;\n",
       "    }\n",
       "\n",
       "    .dataframe tbody tr th {\n",
       "        vertical-align: top;\n",
       "    }\n",
       "\n",
       "    .dataframe thead th {\n",
       "        text-align: right;\n",
       "    }\n",
       "</style>\n",
       "<table border=\"1\" class=\"dataframe\">\n",
       "  <thead>\n",
       "    <tr style=\"text-align: right;\">\n",
       "      <th></th>\n",
       "      <th>date</th>\n",
       "      <th>visitors_per_date_B</th>\n",
       "    </tr>\n",
       "  </thead>\n",
       "  <tbody>\n",
       "    <tr>\n",
       "      <th>0</th>\n",
       "      <td>2019-08-01</td>\n",
       "      <td>713</td>\n",
       "    </tr>\n",
       "    <tr>\n",
       "      <th>1</th>\n",
       "      <td>2019-08-02</td>\n",
       "      <td>581</td>\n",
       "    </tr>\n",
       "    <tr>\n",
       "      <th>2</th>\n",
       "      <td>2019-08-03</td>\n",
       "      <td>509</td>\n",
       "    </tr>\n",
       "    <tr>\n",
       "      <th>3</th>\n",
       "      <td>2019-08-04</td>\n",
       "      <td>770</td>\n",
       "    </tr>\n",
       "    <tr>\n",
       "      <th>4</th>\n",
       "      <td>2019-08-05</td>\n",
       "      <td>707</td>\n",
       "    </tr>\n",
       "  </tbody>\n",
       "</table>\n",
       "</div>"
      ],
      "text/plain": [
       "        date  visitors_per_date_B\n",
       "0 2019-08-01                  713\n",
       "1 2019-08-02                  581\n",
       "2 2019-08-03                  509\n",
       "3 2019-08-04                  770\n",
       "4 2019-08-05                  707"
      ]
     },
     "execution_count": 49,
     "metadata": {},
     "output_type": "execute_result"
    }
   ],
   "source": [
    "visitors_daily_B = visitors[visitors['group'] == 'B'].groupby('date', as_index=False).agg({'visitors':'sum'})\n",
    "visitors_daily_B.columns= ['date','visitors_per_date_B']\n",
    "visitors_daily_B.head()"
   ]
  },
  {
   "cell_type": "code",
   "execution_count": 50,
   "metadata": {},
   "outputs": [
    {
     "data": {
      "text/html": [
       "<div>\n",
       "<style scoped>\n",
       "    .dataframe tbody tr th:only-of-type {\n",
       "        vertical-align: middle;\n",
       "    }\n",
       "\n",
       "    .dataframe tbody tr th {\n",
       "        vertical-align: top;\n",
       "    }\n",
       "\n",
       "    .dataframe thead th {\n",
       "        text-align: right;\n",
       "    }\n",
       "</style>\n",
       "<table border=\"1\" class=\"dataframe\">\n",
       "  <thead>\n",
       "    <tr style=\"text-align: right;\">\n",
       "      <th></th>\n",
       "      <th>date</th>\n",
       "      <th>visitors_cum_A</th>\n",
       "    </tr>\n",
       "  </thead>\n",
       "  <tbody>\n",
       "    <tr>\n",
       "      <th>0</th>\n",
       "      <td>2019-08-01</td>\n",
       "      <td>719</td>\n",
       "    </tr>\n",
       "    <tr>\n",
       "      <th>1</th>\n",
       "      <td>2019-08-02</td>\n",
       "      <td>1338</td>\n",
       "    </tr>\n",
       "    <tr>\n",
       "      <th>2</th>\n",
       "      <td>2019-08-03</td>\n",
       "      <td>1845</td>\n",
       "    </tr>\n",
       "    <tr>\n",
       "      <th>3</th>\n",
       "      <td>2019-08-04</td>\n",
       "      <td>2562</td>\n",
       "    </tr>\n",
       "    <tr>\n",
       "      <th>4</th>\n",
       "      <td>2019-08-05</td>\n",
       "      <td>3318</td>\n",
       "    </tr>\n",
       "  </tbody>\n",
       "</table>\n",
       "</div>"
      ],
      "text/plain": [
       "        date  visitors_cum_A\n",
       "0 2019-08-01             719\n",
       "1 2019-08-02            1338\n",
       "2 2019-08-03            1845\n",
       "3 2019-08-04            2562\n",
       "4 2019-08-05            3318"
      ]
     },
     "execution_count": 50,
     "metadata": {},
     "output_type": "execute_result"
    }
   ],
   "source": [
    "visitors_cum_data_A = (\n",
    "    visitors_daily_A\n",
    "    .apply(lambda x: visitors_daily_A[visitors_daily_A['date'] <= x['date']]\n",
    "           .agg({'date':'max', 'visitors_per_date_A':'sum'}), axis=1)\n",
    ")\n",
    "visitors_cum_data_A.columns = ['date', 'visitors_cum_A']\n",
    "visitors_cum_data_A.head()"
   ]
  },
  {
   "cell_type": "code",
   "execution_count": 51,
   "metadata": {},
   "outputs": [
    {
     "data": {
      "text/html": [
       "<div>\n",
       "<style scoped>\n",
       "    .dataframe tbody tr th:only-of-type {\n",
       "        vertical-align: middle;\n",
       "    }\n",
       "\n",
       "    .dataframe tbody tr th {\n",
       "        vertical-align: top;\n",
       "    }\n",
       "\n",
       "    .dataframe thead th {\n",
       "        text-align: right;\n",
       "    }\n",
       "</style>\n",
       "<table border=\"1\" class=\"dataframe\">\n",
       "  <thead>\n",
       "    <tr style=\"text-align: right;\">\n",
       "      <th></th>\n",
       "      <th>date</th>\n",
       "      <th>visitors_cum_B</th>\n",
       "    </tr>\n",
       "  </thead>\n",
       "  <tbody>\n",
       "    <tr>\n",
       "      <th>0</th>\n",
       "      <td>2019-08-01</td>\n",
       "      <td>713</td>\n",
       "    </tr>\n",
       "    <tr>\n",
       "      <th>1</th>\n",
       "      <td>2019-08-02</td>\n",
       "      <td>1294</td>\n",
       "    </tr>\n",
       "    <tr>\n",
       "      <th>2</th>\n",
       "      <td>2019-08-03</td>\n",
       "      <td>1803</td>\n",
       "    </tr>\n",
       "    <tr>\n",
       "      <th>3</th>\n",
       "      <td>2019-08-04</td>\n",
       "      <td>2573</td>\n",
       "    </tr>\n",
       "    <tr>\n",
       "      <th>4</th>\n",
       "      <td>2019-08-05</td>\n",
       "      <td>3280</td>\n",
       "    </tr>\n",
       "  </tbody>\n",
       "</table>\n",
       "</div>"
      ],
      "text/plain": [
       "        date  visitors_cum_B\n",
       "0 2019-08-01             713\n",
       "1 2019-08-02            1294\n",
       "2 2019-08-03            1803\n",
       "3 2019-08-04            2573\n",
       "4 2019-08-05            3280"
      ]
     },
     "execution_count": 51,
     "metadata": {},
     "output_type": "execute_result"
    }
   ],
   "source": [
    "visitors_cum_data_B = (\n",
    "    visitors_daily_B\n",
    "    .apply(lambda x: visitors_daily_B[visitors_daily_B['date'] <= x['date']]\n",
    "           .agg({'date':'max', 'visitors_per_date_B':'sum'}), axis=1)\n",
    ")\n",
    "visitors_cum_data_B.columns = ['date', 'visitors_cum_B']\n",
    "visitors_cum_data_B.head()"
   ]
  },
  {
   "cell_type": "code",
   "execution_count": 52,
   "metadata": {
    "scrolled": true
   },
   "outputs": [
    {
     "data": {
      "text/html": [
       "<div>\n",
       "<style scoped>\n",
       "    .dataframe tbody tr th:only-of-type {\n",
       "        vertical-align: middle;\n",
       "    }\n",
       "\n",
       "    .dataframe tbody tr th {\n",
       "        vertical-align: top;\n",
       "    }\n",
       "\n",
       "    .dataframe thead th {\n",
       "        text-align: right;\n",
       "    }\n",
       "</style>\n",
       "<table border=\"1\" class=\"dataframe\">\n",
       "  <thead>\n",
       "    <tr style=\"text-align: right;\">\n",
       "      <th></th>\n",
       "      <th>date</th>\n",
       "      <th>orders_per_date_A</th>\n",
       "      <th>revenue_per_date_A</th>\n",
       "      <th>orders_per_date_B</th>\n",
       "      <th>revenue_per_date_B</th>\n",
       "      <th>orders_cum_A</th>\n",
       "      <th>revenue_cum_A</th>\n",
       "      <th>orders_cum_B</th>\n",
       "      <th>revenue_cum_B</th>\n",
       "      <th>visitors_per_date_A</th>\n",
       "      <th>visitors_per_date_B</th>\n",
       "      <th>visitors_cum_A</th>\n",
       "      <th>visitors_cum_B</th>\n",
       "    </tr>\n",
       "  </thead>\n",
       "  <tbody>\n",
       "    <tr>\n",
       "      <th>0</th>\n",
       "      <td>2019-08-01</td>\n",
       "      <td>23</td>\n",
       "      <td>142779</td>\n",
       "      <td>17</td>\n",
       "      <td>59758</td>\n",
       "      <td>23</td>\n",
       "      <td>142779</td>\n",
       "      <td>17</td>\n",
       "      <td>59758</td>\n",
       "      <td>719</td>\n",
       "      <td>713</td>\n",
       "      <td>719</td>\n",
       "      <td>713</td>\n",
       "    </tr>\n",
       "    <tr>\n",
       "      <th>1</th>\n",
       "      <td>2019-08-02</td>\n",
       "      <td>19</td>\n",
       "      <td>91602</td>\n",
       "      <td>23</td>\n",
       "      <td>162043</td>\n",
       "      <td>42</td>\n",
       "      <td>234381</td>\n",
       "      <td>40</td>\n",
       "      <td>221801</td>\n",
       "      <td>619</td>\n",
       "      <td>581</td>\n",
       "      <td>1338</td>\n",
       "      <td>1294</td>\n",
       "    </tr>\n",
       "    <tr>\n",
       "      <th>2</th>\n",
       "      <td>2019-08-03</td>\n",
       "      <td>24</td>\n",
       "      <td>112473</td>\n",
       "      <td>14</td>\n",
       "      <td>67049</td>\n",
       "      <td>66</td>\n",
       "      <td>346854</td>\n",
       "      <td>54</td>\n",
       "      <td>288850</td>\n",
       "      <td>507</td>\n",
       "      <td>509</td>\n",
       "      <td>1845</td>\n",
       "      <td>1803</td>\n",
       "    </tr>\n",
       "    <tr>\n",
       "      <th>3</th>\n",
       "      <td>2019-08-04</td>\n",
       "      <td>11</td>\n",
       "      <td>41176</td>\n",
       "      <td>14</td>\n",
       "      <td>96890</td>\n",
       "      <td>77</td>\n",
       "      <td>388030</td>\n",
       "      <td>68</td>\n",
       "      <td>385740</td>\n",
       "      <td>717</td>\n",
       "      <td>770</td>\n",
       "      <td>2562</td>\n",
       "      <td>2573</td>\n",
       "    </tr>\n",
       "    <tr>\n",
       "      <th>4</th>\n",
       "      <td>2019-08-05</td>\n",
       "      <td>22</td>\n",
       "      <td>86383</td>\n",
       "      <td>21</td>\n",
       "      <td>89908</td>\n",
       "      <td>99</td>\n",
       "      <td>474413</td>\n",
       "      <td>89</td>\n",
       "      <td>475648</td>\n",
       "      <td>756</td>\n",
       "      <td>707</td>\n",
       "      <td>3318</td>\n",
       "      <td>3280</td>\n",
       "    </tr>\n",
       "  </tbody>\n",
       "</table>\n",
       "</div>"
      ],
      "text/plain": [
       "        date  orders_per_date_A  revenue_per_date_A  orders_per_date_B  \\\n",
       "0 2019-08-01                 23              142779                 17   \n",
       "1 2019-08-02                 19               91602                 23   \n",
       "2 2019-08-03                 24              112473                 14   \n",
       "3 2019-08-04                 11               41176                 14   \n",
       "4 2019-08-05                 22               86383                 21   \n",
       "\n",
       "   revenue_per_date_B  orders_cum_A  revenue_cum_A  orders_cum_B  \\\n",
       "0               59758            23         142779            17   \n",
       "1              162043            42         234381            40   \n",
       "2               67049            66         346854            54   \n",
       "3               96890            77         388030            68   \n",
       "4               89908            99         474413            89   \n",
       "\n",
       "   revenue_cum_B  visitors_per_date_A  visitors_per_date_B  visitors_cum_A  \\\n",
       "0          59758                  719                  713             719   \n",
       "1         221801                  619                  581            1338   \n",
       "2         288850                  507                  509            1845   \n",
       "3         385740                  717                  770            2562   \n",
       "4         475648                  756                  707            3318   \n",
       "\n",
       "   visitors_cum_B  \n",
       "0             713  \n",
       "1            1294  \n",
       "2            1803  \n",
       "3            2573  \n",
       "4            3280  "
      ]
     },
     "execution_count": 52,
     "metadata": {},
     "output_type": "execute_result"
    }
   ],
   "source": [
    "total = (\n",
    "    orders_daily_A\n",
    "    .merge(orders_daily_B, on=['date'])\n",
    "    .merge(orders_cum_data_A, on=['date'])\n",
    "    .merge(orders_cum_data_B, on=['date'])\n",
    "    .merge(visitors_daily_A, on=['date'])\n",
    "    .merge(visitors_daily_B, on=['date'])\n",
    "    .merge(visitors_cum_data_A, on=['date'])\n",
    "    .merge(visitors_cum_data_B, on=['date'])\n",
    ")\n",
    "total.head()"
   ]
  },
  {
   "cell_type": "markdown",
   "metadata": {},
   "source": [
    "**Данные готовы, можно приступать к проверке гипотез.**"
   ]
  },
  {
   "cell_type": "markdown",
   "metadata": {},
   "source": [
    "### Проверка наличия статистической значимости различий в среднем количестве заказов на посетителя между группами по «сырым» данным"
   ]
  },
  {
   "cell_type": "markdown",
   "metadata": {},
   "source": [
    "Сначала нужно сформулировать нулевую и альтернативную гипотезы и определить уровень значимости.\n",
    "\n",
    "***Нулевая гипотеза (H0):*** Различий в среднем количестве заказов на посетителя в группе А и в группе В нет.\n",
    "\n",
    "***Альтернативная гипотеза (H1):*** Различия в среднем количестве заказов на посетителя в группе А и в группе В есть.\n",
    "\n",
    "Уровень значимости возьмем **0.05**."
   ]
  },
  {
   "cell_type": "markdown",
   "metadata": {},
   "source": [
    "Сначала подготовим данные, создав объекты Series, в которых будет количество элементов равное количество посетителей в каждой группе, а также будет учтено количество покупок в каждой группе."
   ]
  },
  {
   "cell_type": "code",
   "execution_count": 53,
   "metadata": {
    "scrolled": true
   },
   "outputs": [
    {
     "data": {
      "text/html": [
       "<div>\n",
       "<style scoped>\n",
       "    .dataframe tbody tr th:only-of-type {\n",
       "        vertical-align: middle;\n",
       "    }\n",
       "\n",
       "    .dataframe tbody tr th {\n",
       "        vertical-align: top;\n",
       "    }\n",
       "\n",
       "    .dataframe thead th {\n",
       "        text-align: right;\n",
       "    }\n",
       "</style>\n",
       "<table border=\"1\" class=\"dataframe\">\n",
       "  <thead>\n",
       "    <tr style=\"text-align: right;\">\n",
       "      <th></th>\n",
       "      <th>user_id</th>\n",
       "      <th>orders</th>\n",
       "    </tr>\n",
       "  </thead>\n",
       "  <tbody>\n",
       "    <tr>\n",
       "      <th>0</th>\n",
       "      <td>11685486</td>\n",
       "      <td>1</td>\n",
       "    </tr>\n",
       "    <tr>\n",
       "      <th>1</th>\n",
       "      <td>54447517</td>\n",
       "      <td>1</td>\n",
       "    </tr>\n",
       "    <tr>\n",
       "      <th>2</th>\n",
       "      <td>66685450</td>\n",
       "      <td>1</td>\n",
       "    </tr>\n",
       "    <tr>\n",
       "      <th>3</th>\n",
       "      <td>78758296</td>\n",
       "      <td>1</td>\n",
       "    </tr>\n",
       "    <tr>\n",
       "      <th>4</th>\n",
       "      <td>85103373</td>\n",
       "      <td>1</td>\n",
       "    </tr>\n",
       "  </tbody>\n",
       "</table>\n",
       "</div>"
      ],
      "text/plain": [
       "    user_id  orders\n",
       "0  11685486       1\n",
       "1  54447517       1\n",
       "2  66685450       1\n",
       "3  78758296       1\n",
       "4  85103373       1"
      ]
     },
     "execution_count": 53,
     "metadata": {},
     "output_type": "execute_result"
    }
   ],
   "source": [
    "orders_by_users_A = orders[orders['group'] == 'A'].groupby('visitorid', as_index=False).agg({'transactionid':pd.Series.nunique})\n",
    "orders_by_users_A.columns = ['user_id', 'orders']\n",
    "orders_by_users_A.head()"
   ]
  },
  {
   "cell_type": "code",
   "execution_count": 54,
   "metadata": {
    "scrolled": true
   },
   "outputs": [
    {
     "data": {
      "text/html": [
       "<div>\n",
       "<style scoped>\n",
       "    .dataframe tbody tr th:only-of-type {\n",
       "        vertical-align: middle;\n",
       "    }\n",
       "\n",
       "    .dataframe tbody tr th {\n",
       "        vertical-align: top;\n",
       "    }\n",
       "\n",
       "    .dataframe thead th {\n",
       "        text-align: right;\n",
       "    }\n",
       "</style>\n",
       "<table border=\"1\" class=\"dataframe\">\n",
       "  <thead>\n",
       "    <tr style=\"text-align: right;\">\n",
       "      <th></th>\n",
       "      <th>user_id</th>\n",
       "      <th>orders</th>\n",
       "    </tr>\n",
       "  </thead>\n",
       "  <tbody>\n",
       "    <tr>\n",
       "      <th>0</th>\n",
       "      <td>5114589</td>\n",
       "      <td>1</td>\n",
       "    </tr>\n",
       "    <tr>\n",
       "      <th>1</th>\n",
       "      <td>6958315</td>\n",
       "      <td>1</td>\n",
       "    </tr>\n",
       "    <tr>\n",
       "      <th>2</th>\n",
       "      <td>39475350</td>\n",
       "      <td>1</td>\n",
       "    </tr>\n",
       "    <tr>\n",
       "      <th>3</th>\n",
       "      <td>47206413</td>\n",
       "      <td>1</td>\n",
       "    </tr>\n",
       "    <tr>\n",
       "      <th>4</th>\n",
       "      <td>48147722</td>\n",
       "      <td>1</td>\n",
       "    </tr>\n",
       "  </tbody>\n",
       "</table>\n",
       "</div>"
      ],
      "text/plain": [
       "    user_id  orders\n",
       "0   5114589       1\n",
       "1   6958315       1\n",
       "2  39475350       1\n",
       "3  47206413       1\n",
       "4  48147722       1"
      ]
     },
     "execution_count": 54,
     "metadata": {},
     "output_type": "execute_result"
    }
   ],
   "source": [
    "orders_by_users_B = orders[orders['group'] == 'B'].groupby('visitorid', as_index=False).agg({'transactionid':pd.Series.nunique})\n",
    "orders_by_users_B.columns = ['user_id', 'orders']\n",
    "orders_by_users_B.head()"
   ]
  },
  {
   "cell_type": "code",
   "execution_count": 55,
   "metadata": {},
   "outputs": [
    {
     "data": {
      "text/plain": [
       "0        1\n",
       "1        1\n",
       "2        1\n",
       "3        1\n",
       "4        1\n",
       "        ..\n",
       "18286    0\n",
       "18287    0\n",
       "18288    0\n",
       "18289    0\n",
       "18290    0\n",
       "Length: 18736, dtype: int64"
      ]
     },
     "execution_count": 55,
     "metadata": {},
     "output_type": "execute_result"
    }
   ],
   "source": [
    "sample_A = (\n",
    "    pd.concat\n",
    "    ([orders_by_users_A['orders'], \n",
    "      pd.Series(\n",
    "          0, np.arange(total['visitors_per_date_A'].sum()-len(orders_by_users_A['orders'])))], axis=0)\n",
    ")\n",
    "sample_A"
   ]
  },
  {
   "cell_type": "code",
   "execution_count": 56,
   "metadata": {},
   "outputs": [
    {
     "data": {
      "text/plain": [
       "0        1\n",
       "1        1\n",
       "2        1\n",
       "3        1\n",
       "4        1\n",
       "        ..\n",
       "18383    0\n",
       "18384    0\n",
       "18385    0\n",
       "18386    0\n",
       "18387    0\n",
       "Length: 18916, dtype: int64"
      ]
     },
     "execution_count": 56,
     "metadata": {},
     "output_type": "execute_result"
    }
   ],
   "source": [
    "sample_B = (\n",
    "    pd.concat\n",
    "    ([orders_by_users_B['orders'], \n",
    "      pd.Series(\n",
    "          0, np.arange(total['visitors_per_date_B'].sum()-len(orders_by_users_B['orders'])))], axis=0)\n",
    ")\n",
    "sample_B"
   ]
  },
  {
   "cell_type": "markdown",
   "metadata": {},
   "source": [
    "Теперь проведем статистический тест Манна-Уитни, так как количество заказов характеризует человеческую активность, распределение которой, как известно, распределеяется ненормально."
   ]
  },
  {
   "cell_type": "code",
   "execution_count": 57,
   "metadata": {},
   "outputs": [
    {
     "name": "stdout",
     "output_type": "stream",
     "text": [
      "P-value равен: 0.011018\n",
      "Относительный прирост среднего количества заказов на покупателя в группе В относительно группы А равно: 15.980%\n"
     ]
    }
   ],
   "source": [
    "print('P-value равен:','{0:.5}'.format(stats.mannwhitneyu(sample_B, sample_A)[1]))\n",
    "print('Относительный прирост среднего количества заказов на покупателя в группе В относительно группы А равно:', \n",
    "      '{0:.3%}'.format(sample_B.mean()/sample_A.mean()-1))"
   ]
  },
  {
   "cell_type": "markdown",
   "metadata": {},
   "source": [
    "По результатам теста мы видим, на \"сырых\" данных что p-value меньше 0.05, следовательно разница статистически значима и у нас **есть основания отвергнуть нулевую гипотезу, которая гласит, что  различий в среднем количестве заказов на посетителя в группе А и в группе В нет**.\n",
    "\n",
    "При этом относительный прирост среднего количества покупок на посетителя в группе В больше практически на 16% чем в группе А."
   ]
  },
  {
   "cell_type": "markdown",
   "metadata": {},
   "source": [
    "### Проверка наличия статистической значимости различий в среднем чеке заказа между группами по «сырым» данным"
   ]
  },
  {
   "cell_type": "markdown",
   "metadata": {},
   "source": [
    "Опять же сначала сформируем гипотезы и определим уровень значимости:\n",
    "\n",
    "- ***Н0:*** Различий в среднем чеке заказа между группами нет.\n",
    "- ***Н1:*** Различия в среднем чеке заказа у групп А и В есть.\n",
    "\n",
    "Уровень значимости равен 0.05."
   ]
  },
  {
   "cell_type": "code",
   "execution_count": 58,
   "metadata": {},
   "outputs": [
    {
     "name": "stdout",
     "output_type": "stream",
     "text": [
      "P-value равно: 0.82949\n",
      "Относительный прирост среднего чека в группе В относительно группы А составил: 28.660%\n"
     ]
    }
   ],
   "source": [
    "print('P-value равно:', '{0:.5}'\n",
    "      .format(stats.mannwhitneyu(orders[orders['group'] == 'A']['revenue'], orders[orders['group'] == 'B']['revenue'])[1]))\n",
    "print('Относительный прирост среднего чека в группе В относительно группы А составил:',\n",
    "     '{0:.3%}'.format(orders[orders['group'] == 'B']['revenue'].mean()/orders[orders['group'] == 'A']['revenue'].mean() - 1))"
   ]
  },
  {
   "cell_type": "markdown",
   "metadata": {},
   "source": [
    "По результатам теста мы видим, что на \"сырых\" данных p-value значительно выше 0.05, значит разница статистически незначима и у нас **нет оснований отвергнуть нулевую гипотезу \"Различий в среднем чеке заказа между группами нет\"**.\n",
    "\n",
    "При этом относительный прирост среднего чека у группы В относительно группы А составил **28.7%**."
   ]
  },
  {
   "cell_type": "markdown",
   "metadata": {},
   "source": [
    "### Очистка данных от выбросов"
   ]
  },
  {
   "cell_type": "markdown",
   "metadata": {},
   "source": [
    "Расчет процентилей показал, что 5% пользователей делают более одной покупки и лишь 1% делает более 2 покупок. Относительно стимости заказов у нас получились такие результаты: 5% заказов стоят дороже 26785 рублей и лишь 1% заказов получился на сумму более 53904 рублей.\n",
    "\n",
    "Чтобы не потерять слишком большое количество данных, оптимальным выбором будет отсечь пользователей с 3 и более покупками, а также заказы на более чем 53000 рублей.\n",
    "\n",
    "Подготовим \"очищенные\" данные для проведения повторных тестов."
   ]
  },
  {
   "cell_type": "code",
   "execution_count": 59,
   "metadata": {
    "scrolled": true
   },
   "outputs": [
    {
     "data": {
      "text/plain": [
       "0     249864742\n",
       "1     611059232\n",
       "2    2108163459\n",
       "3    2742574263\n",
       "4    2988190573\n",
       "dtype: int64"
      ]
     },
     "execution_count": 59,
     "metadata": {},
     "output_type": "execute_result"
    }
   ],
   "source": [
    "abnormal_users = pd.concat([orders_by_users[orders_by_users['orders'] > 2]['users'].reset_index(drop=True), orders[orders['revenue'] > 53000]['visitorid'].reset_index(drop=True)]).reset_index(drop=True)\n",
    "abnormal_users.columns = ['user_id']\n",
    "abnormal_users.head()"
   ]
  },
  {
   "cell_type": "code",
   "execution_count": 60,
   "metadata": {},
   "outputs": [
    {
     "data": {
      "text/plain": [
       "(19,)"
      ]
     },
     "execution_count": 60,
     "metadata": {},
     "output_type": "execute_result"
    }
   ],
   "source": [
    "abnormal_users.shape"
   ]
  },
  {
   "cell_type": "markdown",
   "metadata": {},
   "source": [
    "Мы получили список аномальных пользователей. Всего 19 человек."
   ]
  },
  {
   "cell_type": "markdown",
   "metadata": {},
   "source": [
    "### Проверка наличия статистической значимости различий в среднем количестве заказов на посетителя между группами по очищенным  данным"
   ]
  },
  {
   "cell_type": "markdown",
   "metadata": {},
   "source": [
    "Оставим нулевую и альтернативную гипотезы, а также уровень значимости теми же, что и в аналогичном тесте по сырым данным.\n",
    "\n",
    "***(H0):*** Различий в среднем количестве заказов на посетителя в группе А и в группе В нет.\n",
    "\n",
    "***(H1):*** Различия в среднем количестве заказов на посетителя в группе А и в группе В есть.\n",
    "\n",
    "Уровень значимости - **0.05**."
   ]
  },
  {
   "cell_type": "code",
   "execution_count": 61,
   "metadata": {},
   "outputs": [
    {
     "data": {
      "text/html": [
       "<div>\n",
       "<style scoped>\n",
       "    .dataframe tbody tr th:only-of-type {\n",
       "        vertical-align: middle;\n",
       "    }\n",
       "\n",
       "    .dataframe tbody tr th {\n",
       "        vertical-align: top;\n",
       "    }\n",
       "\n",
       "    .dataframe thead th {\n",
       "        text-align: right;\n",
       "    }\n",
       "</style>\n",
       "<table border=\"1\" class=\"dataframe\">\n",
       "  <thead>\n",
       "    <tr style=\"text-align: right;\">\n",
       "      <th></th>\n",
       "      <th>user_id</th>\n",
       "      <th>orders</th>\n",
       "    </tr>\n",
       "  </thead>\n",
       "  <tbody>\n",
       "    <tr>\n",
       "      <th>0</th>\n",
       "      <td>11685486</td>\n",
       "      <td>1</td>\n",
       "    </tr>\n",
       "    <tr>\n",
       "      <th>1</th>\n",
       "      <td>54447517</td>\n",
       "      <td>1</td>\n",
       "    </tr>\n",
       "    <tr>\n",
       "      <th>2</th>\n",
       "      <td>66685450</td>\n",
       "      <td>1</td>\n",
       "    </tr>\n",
       "    <tr>\n",
       "      <th>3</th>\n",
       "      <td>78758296</td>\n",
       "      <td>1</td>\n",
       "    </tr>\n",
       "    <tr>\n",
       "      <th>4</th>\n",
       "      <td>85103373</td>\n",
       "      <td>1</td>\n",
       "    </tr>\n",
       "  </tbody>\n",
       "</table>\n",
       "</div>"
      ],
      "text/plain": [
       "    user_id  orders\n",
       "0  11685486       1\n",
       "1  54447517       1\n",
       "2  66685450       1\n",
       "3  78758296       1\n",
       "4  85103373       1"
      ]
     },
     "execution_count": 61,
     "metadata": {},
     "output_type": "execute_result"
    }
   ],
   "source": [
    "filtered_obu_A = (\n",
    "    orders[\n",
    "        np.logical_and(\n",
    "        orders['group'] == 'A', np.logical_not(\n",
    "            orders['visitorid'].isin(abnormal_users)\n",
    "        )\n",
    "    )\n",
    "    ]\n",
    "    .groupby('visitorid', as_index=False)\n",
    "    .agg({'transactionid':pd.Series.nunique})\n",
    ")\n",
    "filtered_obu_A.columns = ['user_id', 'orders']\n",
    "filtered_obu_A.head()"
   ]
  },
  {
   "cell_type": "code",
   "execution_count": 62,
   "metadata": {},
   "outputs": [
    {
     "data": {
      "text/html": [
       "<div>\n",
       "<style scoped>\n",
       "    .dataframe tbody tr th:only-of-type {\n",
       "        vertical-align: middle;\n",
       "    }\n",
       "\n",
       "    .dataframe tbody tr th {\n",
       "        vertical-align: top;\n",
       "    }\n",
       "\n",
       "    .dataframe thead th {\n",
       "        text-align: right;\n",
       "    }\n",
       "</style>\n",
       "<table border=\"1\" class=\"dataframe\">\n",
       "  <thead>\n",
       "    <tr style=\"text-align: right;\">\n",
       "      <th></th>\n",
       "      <th>user_id</th>\n",
       "      <th>orders</th>\n",
       "    </tr>\n",
       "  </thead>\n",
       "  <tbody>\n",
       "    <tr>\n",
       "      <th>0</th>\n",
       "      <td>5114589</td>\n",
       "      <td>1</td>\n",
       "    </tr>\n",
       "    <tr>\n",
       "      <th>1</th>\n",
       "      <td>6958315</td>\n",
       "      <td>1</td>\n",
       "    </tr>\n",
       "    <tr>\n",
       "      <th>2</th>\n",
       "      <td>39475350</td>\n",
       "      <td>1</td>\n",
       "    </tr>\n",
       "    <tr>\n",
       "      <th>3</th>\n",
       "      <td>47206413</td>\n",
       "      <td>1</td>\n",
       "    </tr>\n",
       "    <tr>\n",
       "      <th>4</th>\n",
       "      <td>48147722</td>\n",
       "      <td>1</td>\n",
       "    </tr>\n",
       "  </tbody>\n",
       "</table>\n",
       "</div>"
      ],
      "text/plain": [
       "    user_id  orders\n",
       "0   5114589       1\n",
       "1   6958315       1\n",
       "2  39475350       1\n",
       "3  47206413       1\n",
       "4  48147722       1"
      ]
     },
     "execution_count": 62,
     "metadata": {},
     "output_type": "execute_result"
    }
   ],
   "source": [
    "filtered_obu_B = (\n",
    "    orders[np.logical_and(\n",
    "        orders['group'] == 'B', np.logical_not(\n",
    "            orders['visitorid'].isin(abnormal_users)\n",
    "        )\n",
    "    )\n",
    "          ].groupby('visitorid', as_index=False)\n",
    "    .agg({'transactionid':pd.Series.nunique})\n",
    ")\n",
    "filtered_obu_B.columns = ['user_id', 'orders']\n",
    "filtered_obu_B.head()"
   ]
  },
  {
   "cell_type": "code",
   "execution_count": 63,
   "metadata": {},
   "outputs": [
    {
     "data": {
      "text/plain": [
       "0    1\n",
       "1    1\n",
       "2    1\n",
       "3    1\n",
       "4    1\n",
       "dtype: int64"
      ]
     },
     "execution_count": 63,
     "metadata": {},
     "output_type": "execute_result"
    }
   ],
   "source": [
    "filtered_sample_A = (\n",
    "    pd.concat(\n",
    "    [\n",
    "        filtered_obu_A['orders'], pd.Series(\n",
    "        0, np.arange(total['visitors_per_date_A'].sum() - len(filtered_obu_A['orders']))\n",
    "        )\n",
    "    ], axis=0)\n",
    ")\n",
    "\n",
    "filtered_sample_A.head()"
   ]
  },
  {
   "cell_type": "code",
   "execution_count": 64,
   "metadata": {},
   "outputs": [
    {
     "data": {
      "text/plain": [
       "(18736,)"
      ]
     },
     "execution_count": 64,
     "metadata": {},
     "output_type": "execute_result"
    }
   ],
   "source": [
    "filtered_sample_A.shape"
   ]
  },
  {
   "cell_type": "code",
   "execution_count": 65,
   "metadata": {},
   "outputs": [
    {
     "data": {
      "text/plain": [
       "0    1\n",
       "1    1\n",
       "2    1\n",
       "3    1\n",
       "4    1\n",
       "dtype: int64"
      ]
     },
     "execution_count": 65,
     "metadata": {},
     "output_type": "execute_result"
    }
   ],
   "source": [
    "filtered_sample_B = (\n",
    "    pd.concat(\n",
    "    [\n",
    "        filtered_obu_B['orders'], pd.Series(\n",
    "        0, np.arange(total['visitors_per_date_B'].sum() - len(filtered_obu_B['orders']))\n",
    "        )\n",
    "    ], axis=0)\n",
    ")\n",
    "\n",
    "filtered_sample_B.head()"
   ]
  },
  {
   "cell_type": "code",
   "execution_count": 66,
   "metadata": {},
   "outputs": [
    {
     "data": {
      "text/plain": [
       "(18916,)"
      ]
     },
     "execution_count": 66,
     "metadata": {},
     "output_type": "execute_result"
    }
   ],
   "source": [
    "filtered_sample_B.shape"
   ]
  },
  {
   "cell_type": "markdown",
   "metadata": {},
   "source": [
    "Данные подготовлены, проведем статистический тест."
   ]
  },
  {
   "cell_type": "code",
   "execution_count": 67,
   "metadata": {},
   "outputs": [
    {
     "name": "stdout",
     "output_type": "stream",
     "text": [
      "P-value для \"очищенных\" данных равен: 0.0062083\n",
      "Относительный прирост среднего количества заказов на покупателя в группе В относительно группы А при расчете \"очищенных\" данных равно: 19.258%\n"
     ]
    }
   ],
   "source": [
    "print('P-value для \"очищенных\" данных равен:','{0:.5}'.format(stats.mannwhitneyu(filtered_sample_B, filtered_sample_A)[1]))\n",
    "print('Относительный прирост среднего количества заказов на покупателя в группе В относительно группы А при расчете \"очищенных\" данных равно:', \n",
    "      '{0:.3%}'.format(filtered_sample_B.mean()/filtered_sample_A.mean()-1))"
   ]
  },
  {
   "cell_type": "markdown",
   "metadata": {},
   "source": [
    "P-value меньше 0.05, следовательно у нас есть основания отвергнуть нулевую гипотезу о том, что различий в среднем количестве заказов на посетителя в группе А и в группе В нет. При этом относительный прирост среднего количества заказов в группе В относительно группы А по \"очищенным\" данным составил 19.26% - это значительный прирост. В данном случае выбросы повлияли минимально, что можно было предположить по графикам кумулятивного среднего количества заказов и относительного изменения кумулятивного среднего количества заказов, где кривая группы В на протяжении почти всего теста была стабильно выше кривой группы А, при этом отсутствовали резкие скачки, говорящие нам о выбросах в значениях."
   ]
  },
  {
   "cell_type": "markdown",
   "metadata": {},
   "source": [
    "### Проверка наличия статистической значимости различий в среднем чеке заказа между группами по «очищенным» данным"
   ]
  },
  {
   "cell_type": "markdown",
   "metadata": {},
   "source": [
    "Повторим наши гипотезы и уровень статистической значимости:\n",
    "- ***Н0:*** Различий в среднем чеке заказа между группами нет.\n",
    "- ***Н1:*** Различия в среднем чеке заказа у групп А и В есть.\n",
    "\n",
    "Уровень значимости равен 0.05.   "
   ]
  },
  {
   "cell_type": "code",
   "execution_count": 68,
   "metadata": {},
   "outputs": [
    {
     "name": "stdout",
     "output_type": "stream",
     "text": [
      "P-value равно: 0.84171\n",
      "На \"очищенных\" данных относительный прирост среднего чека в группе В относительно группы А составил: 1.387%\n"
     ]
    }
   ],
   "source": [
    "print('P-value равно:', '{0:.5}'\n",
    "      .format(\n",
    "          stats.mannwhitneyu(\n",
    "              orders[\n",
    "                  np.logical_and(\n",
    "                      orders['group'] == 'A', np.logical_not(orders['visitorid'].isin(abnormal_users))\n",
    "                  )\n",
    "              ]['revenue'], \n",
    "              orders[\n",
    "                  np.logical_and(\n",
    "                      orders['group'] == 'B', np.logical_not(orders['visitorid'].isin(abnormal_users))\n",
    "                  )\n",
    "              ]['revenue']\n",
    "          )[1]\n",
    "      )\n",
    "     )\n",
    "print('На \"очищенных\" данных относительный прирост среднего чека в группе В относительно группы А составил:',\n",
    "     '{:.3%}'.format(\n",
    "         orders[\n",
    "                  np.logical_and(\n",
    "                      orders['group'] == 'A', np.logical_not(orders['visitorid'].isin(abnormal_users))\n",
    "                  )\n",
    "              ]['revenue'].mean()/orders[\n",
    "                  np.logical_and(\n",
    "                      orders['group'] == 'B', np.logical_not(orders['visitorid'].isin(abnormal_users))\n",
    "                  )\n",
    "              ]['revenue'].mean() - 1))"
   ]
  },
  {
   "cell_type": "markdown",
   "metadata": {},
   "source": [
    "На \"очищенных\" данных значение P-value заметно превышает порог в 0.05, следовательно у нас нет оснований отвергнуть нулевую гипотезу о том, что различий в среднем чеке заказа между группами нет. При этом относительный прирост среднего чека в группе А относительно группы В составил 1.39% по сравнению с 28.66% на \"сырых\" данных, т.е. выбросы оказали очень большое влияние на результаты. \n",
    "\n",
    "Есть смысл построить график относительного изменения кумулятивного среднего чека уже по \"очищенным\" данным, чтобы посмотреть, как он изменится."
   ]
  },
  {
   "cell_type": "code",
   "execution_count": 69,
   "metadata": {},
   "outputs": [
    {
     "data": {
      "text/html": [
       "<div>\n",
       "<style scoped>\n",
       "    .dataframe tbody tr th:only-of-type {\n",
       "        vertical-align: middle;\n",
       "    }\n",
       "\n",
       "    .dataframe tbody tr th {\n",
       "        vertical-align: top;\n",
       "    }\n",
       "\n",
       "    .dataframe thead th {\n",
       "        text-align: right;\n",
       "    }\n",
       "</style>\n",
       "<table border=\"1\" class=\"dataframe\">\n",
       "  <thead>\n",
       "    <tr style=\"text-align: right;\">\n",
       "      <th></th>\n",
       "      <th>transactionid</th>\n",
       "      <th>visitorid</th>\n",
       "      <th>date</th>\n",
       "      <th>revenue</th>\n",
       "      <th>group</th>\n",
       "    </tr>\n",
       "  </thead>\n",
       "  <tbody>\n",
       "    <tr>\n",
       "      <th>0</th>\n",
       "      <td>3667963787</td>\n",
       "      <td>3312258926</td>\n",
       "      <td>2019-08-15</td>\n",
       "      <td>1650</td>\n",
       "      <td>B</td>\n",
       "    </tr>\n",
       "    <tr>\n",
       "      <th>1</th>\n",
       "      <td>2804400009</td>\n",
       "      <td>3642806036</td>\n",
       "      <td>2019-08-15</td>\n",
       "      <td>730</td>\n",
       "      <td>B</td>\n",
       "    </tr>\n",
       "    <tr>\n",
       "      <th>3</th>\n",
       "      <td>3797467345</td>\n",
       "      <td>1196621759</td>\n",
       "      <td>2019-08-15</td>\n",
       "      <td>9759</td>\n",
       "      <td>B</td>\n",
       "    </tr>\n",
       "    <tr>\n",
       "      <th>4</th>\n",
       "      <td>2282983706</td>\n",
       "      <td>2322279887</td>\n",
       "      <td>2019-08-15</td>\n",
       "      <td>2308</td>\n",
       "      <td>B</td>\n",
       "    </tr>\n",
       "    <tr>\n",
       "      <th>5</th>\n",
       "      <td>182168103</td>\n",
       "      <td>935554773</td>\n",
       "      <td>2019-08-15</td>\n",
       "      <td>2210</td>\n",
       "      <td>B</td>\n",
       "    </tr>\n",
       "    <tr>\n",
       "      <th>...</th>\n",
       "      <td>...</td>\n",
       "      <td>...</td>\n",
       "      <td>...</td>\n",
       "      <td>...</td>\n",
       "      <td>...</td>\n",
       "    </tr>\n",
       "    <tr>\n",
       "      <th>1190</th>\n",
       "      <td>38478481</td>\n",
       "      <td>1197745035</td>\n",
       "      <td>2019-08-14</td>\n",
       "      <td>8600</td>\n",
       "      <td>B</td>\n",
       "    </tr>\n",
       "    <tr>\n",
       "      <th>1191</th>\n",
       "      <td>3592955527</td>\n",
       "      <td>608641596</td>\n",
       "      <td>2019-08-14</td>\n",
       "      <td>16490</td>\n",
       "      <td>B</td>\n",
       "    </tr>\n",
       "    <tr>\n",
       "      <th>1192</th>\n",
       "      <td>2662137336</td>\n",
       "      <td>3733762160</td>\n",
       "      <td>2019-08-14</td>\n",
       "      <td>6490</td>\n",
       "      <td>B</td>\n",
       "    </tr>\n",
       "    <tr>\n",
       "      <th>1193</th>\n",
       "      <td>2203539145</td>\n",
       "      <td>370388673</td>\n",
       "      <td>2019-08-14</td>\n",
       "      <td>3190</td>\n",
       "      <td>A</td>\n",
       "    </tr>\n",
       "    <tr>\n",
       "      <th>1194</th>\n",
       "      <td>1807773912</td>\n",
       "      <td>573423106</td>\n",
       "      <td>2019-08-14</td>\n",
       "      <td>10550</td>\n",
       "      <td>A</td>\n",
       "    </tr>\n",
       "  </tbody>\n",
       "</table>\n",
       "<p>983 rows × 5 columns</p>\n",
       "</div>"
      ],
      "text/plain": [
       "      transactionid   visitorid       date  revenue group\n",
       "0        3667963787  3312258926 2019-08-15     1650     B\n",
       "1        2804400009  3642806036 2019-08-15      730     B\n",
       "3        3797467345  1196621759 2019-08-15     9759     B\n",
       "4        2282983706  2322279887 2019-08-15     2308     B\n",
       "5         182168103   935554773 2019-08-15     2210     B\n",
       "...             ...         ...        ...      ...   ...\n",
       "1190       38478481  1197745035 2019-08-14     8600     B\n",
       "1191     3592955527   608641596 2019-08-14    16490     B\n",
       "1192     2662137336  3733762160 2019-08-14     6490     B\n",
       "1193     2203539145   370388673 2019-08-14     3190     A\n",
       "1194     1807773912   573423106 2019-08-14    10550     A\n",
       "\n",
       "[983 rows x 5 columns]"
      ]
     },
     "execution_count": 69,
     "metadata": {},
     "output_type": "execute_result"
    }
   ],
   "source": [
    "fil_orders = orders[np.logical_not(orders['visitorid'].isin(abnormal_users))]\n",
    "fil_orders"
   ]
  },
  {
   "cell_type": "code",
   "execution_count": 70,
   "metadata": {},
   "outputs": [
    {
     "data": {
      "text/html": [
       "<div>\n",
       "<style scoped>\n",
       "    .dataframe tbody tr th:only-of-type {\n",
       "        vertical-align: middle;\n",
       "    }\n",
       "\n",
       "    .dataframe tbody tr th {\n",
       "        vertical-align: top;\n",
       "    }\n",
       "\n",
       "    .dataframe thead th {\n",
       "        text-align: right;\n",
       "    }\n",
       "</style>\n",
       "<table border=\"1\" class=\"dataframe\">\n",
       "  <thead>\n",
       "    <tr style=\"text-align: right;\">\n",
       "      <th></th>\n",
       "      <th>date</th>\n",
       "      <th>group</th>\n",
       "      <th>orders</th>\n",
       "      <th>buyers</th>\n",
       "      <th>revenue</th>\n",
       "    </tr>\n",
       "  </thead>\n",
       "  <tbody>\n",
       "    <tr>\n",
       "      <th>0</th>\n",
       "      <td>2019-08-01</td>\n",
       "      <td>A</td>\n",
       "      <td>18</td>\n",
       "      <td>17</td>\n",
       "      <td>112340</td>\n",
       "    </tr>\n",
       "    <tr>\n",
       "      <th>1</th>\n",
       "      <td>2019-08-01</td>\n",
       "      <td>B</td>\n",
       "      <td>17</td>\n",
       "      <td>17</td>\n",
       "      <td>59758</td>\n",
       "    </tr>\n",
       "    <tr>\n",
       "      <th>2</th>\n",
       "      <td>2019-08-02</td>\n",
       "      <td>A</td>\n",
       "      <td>36</td>\n",
       "      <td>34</td>\n",
       "      <td>202252</td>\n",
       "    </tr>\n",
       "    <tr>\n",
       "      <th>3</th>\n",
       "      <td>2019-08-02</td>\n",
       "      <td>B</td>\n",
       "      <td>40</td>\n",
       "      <td>39</td>\n",
       "      <td>221801</td>\n",
       "    </tr>\n",
       "    <tr>\n",
       "      <th>4</th>\n",
       "      <td>2019-08-03</td>\n",
       "      <td>A</td>\n",
       "      <td>60</td>\n",
       "      <td>58</td>\n",
       "      <td>314725</td>\n",
       "    </tr>\n",
       "    <tr>\n",
       "      <th>...</th>\n",
       "      <td>...</td>\n",
       "      <td>...</td>\n",
       "      <td>...</td>\n",
       "      <td>...</td>\n",
       "      <td>...</td>\n",
       "    </tr>\n",
       "    <tr>\n",
       "      <th>57</th>\n",
       "      <td>2019-08-29</td>\n",
       "      <td>B</td>\n",
       "      <td>499</td>\n",
       "      <td>483</td>\n",
       "      <td>3000903</td>\n",
       "    </tr>\n",
       "    <tr>\n",
       "      <th>58</th>\n",
       "      <td>2019-08-30</td>\n",
       "      <td>A</td>\n",
       "      <td>438</td>\n",
       "      <td>425</td>\n",
       "      <td>2745136</td>\n",
       "    </tr>\n",
       "    <tr>\n",
       "      <th>59</th>\n",
       "      <td>2019-08-30</td>\n",
       "      <td>B</td>\n",
       "      <td>520</td>\n",
       "      <td>504</td>\n",
       "      <td>3210126</td>\n",
       "    </tr>\n",
       "    <tr>\n",
       "      <th>60</th>\n",
       "      <td>2019-08-31</td>\n",
       "      <td>A</td>\n",
       "      <td>446</td>\n",
       "      <td>433</td>\n",
       "      <td>2798379</td>\n",
       "    </tr>\n",
       "    <tr>\n",
       "      <th>61</th>\n",
       "      <td>2019-08-31</td>\n",
       "      <td>B</td>\n",
       "      <td>537</td>\n",
       "      <td>521</td>\n",
       "      <td>3323265</td>\n",
       "    </tr>\n",
       "  </tbody>\n",
       "</table>\n",
       "<p>62 rows × 5 columns</p>\n",
       "</div>"
      ],
      "text/plain": [
       "         date group  orders  buyers  revenue\n",
       "0  2019-08-01     A      18      17   112340\n",
       "1  2019-08-01     B      17      17    59758\n",
       "2  2019-08-02     A      36      34   202252\n",
       "3  2019-08-02     B      40      39   221801\n",
       "4  2019-08-03     A      60      58   314725\n",
       "..        ...   ...     ...     ...      ...\n",
       "57 2019-08-29     B     499     483  3000903\n",
       "58 2019-08-30     A     438     425  2745136\n",
       "59 2019-08-30     B     520     504  3210126\n",
       "60 2019-08-31     A     446     433  2798379\n",
       "61 2019-08-31     B     537     521  3323265\n",
       "\n",
       "[62 rows x 5 columns]"
      ]
     },
     "execution_count": 70,
     "metadata": {},
     "output_type": "execute_result"
    }
   ],
   "source": [
    "filtered_orders_agg = (dates_groups\n",
    "              .apply(\n",
    "                  lambda x: fil_orders[np.logical_and(fil_orders['date'] <= x['date'], fil_orders['group'] == x['group'])]\n",
    "                  .agg({'date':'max', 'group':'max', 'transactionid':'nunique', 'visitorid':'nunique', 'revenue':'sum'}), \n",
    "                  axis=1)\n",
    "              .sort_values(by=['date', 'group']).reset_index(drop=True)\n",
    "             )\n",
    "filtered_orders_agg = filtered_orders_agg.rename(columns={'transactionid':'orders', 'visitorid':'buyers'})\n",
    "filtered_orders_agg"
   ]
  },
  {
   "cell_type": "code",
   "execution_count": 71,
   "metadata": {
    "scrolled": false
   },
   "outputs": [
    {
     "data": {
      "text/html": [
       "<div>\n",
       "<style scoped>\n",
       "    .dataframe tbody tr th:only-of-type {\n",
       "        vertical-align: middle;\n",
       "    }\n",
       "\n",
       "    .dataframe tbody tr th {\n",
       "        vertical-align: top;\n",
       "    }\n",
       "\n",
       "    .dataframe thead th {\n",
       "        text-align: right;\n",
       "    }\n",
       "</style>\n",
       "<table border=\"1\" class=\"dataframe\">\n",
       "  <thead>\n",
       "    <tr style=\"text-align: right;\">\n",
       "      <th></th>\n",
       "      <th>date</th>\n",
       "      <th>group</th>\n",
       "      <th>orders</th>\n",
       "      <th>buyers</th>\n",
       "      <th>revenue</th>\n",
       "      <th>visitors</th>\n",
       "    </tr>\n",
       "  </thead>\n",
       "  <tbody>\n",
       "    <tr>\n",
       "      <th>0</th>\n",
       "      <td>2019-08-01</td>\n",
       "      <td>A</td>\n",
       "      <td>18</td>\n",
       "      <td>17</td>\n",
       "      <td>112340</td>\n",
       "      <td>719</td>\n",
       "    </tr>\n",
       "    <tr>\n",
       "      <th>1</th>\n",
       "      <td>2019-08-01</td>\n",
       "      <td>B</td>\n",
       "      <td>17</td>\n",
       "      <td>17</td>\n",
       "      <td>59758</td>\n",
       "      <td>713</td>\n",
       "    </tr>\n",
       "    <tr>\n",
       "      <th>2</th>\n",
       "      <td>2019-08-02</td>\n",
       "      <td>A</td>\n",
       "      <td>36</td>\n",
       "      <td>34</td>\n",
       "      <td>202252</td>\n",
       "      <td>1338</td>\n",
       "    </tr>\n",
       "    <tr>\n",
       "      <th>3</th>\n",
       "      <td>2019-08-02</td>\n",
       "      <td>B</td>\n",
       "      <td>40</td>\n",
       "      <td>39</td>\n",
       "      <td>221801</td>\n",
       "      <td>1294</td>\n",
       "    </tr>\n",
       "    <tr>\n",
       "      <th>4</th>\n",
       "      <td>2019-08-03</td>\n",
       "      <td>A</td>\n",
       "      <td>60</td>\n",
       "      <td>58</td>\n",
       "      <td>314725</td>\n",
       "      <td>1845</td>\n",
       "    </tr>\n",
       "    <tr>\n",
       "      <th>...</th>\n",
       "      <td>...</td>\n",
       "      <td>...</td>\n",
       "      <td>...</td>\n",
       "      <td>...</td>\n",
       "      <td>...</td>\n",
       "      <td>...</td>\n",
       "    </tr>\n",
       "    <tr>\n",
       "      <th>57</th>\n",
       "      <td>2019-08-29</td>\n",
       "      <td>B</td>\n",
       "      <td>499</td>\n",
       "      <td>483</td>\n",
       "      <td>3000903</td>\n",
       "      <td>17708</td>\n",
       "    </tr>\n",
       "    <tr>\n",
       "      <th>58</th>\n",
       "      <td>2019-08-30</td>\n",
       "      <td>A</td>\n",
       "      <td>438</td>\n",
       "      <td>425</td>\n",
       "      <td>2745136</td>\n",
       "      <td>18037</td>\n",
       "    </tr>\n",
       "    <tr>\n",
       "      <th>59</th>\n",
       "      <td>2019-08-30</td>\n",
       "      <td>B</td>\n",
       "      <td>520</td>\n",
       "      <td>504</td>\n",
       "      <td>3210126</td>\n",
       "      <td>18198</td>\n",
       "    </tr>\n",
       "    <tr>\n",
       "      <th>60</th>\n",
       "      <td>2019-08-31</td>\n",
       "      <td>A</td>\n",
       "      <td>446</td>\n",
       "      <td>433</td>\n",
       "      <td>2798379</td>\n",
       "      <td>18736</td>\n",
       "    </tr>\n",
       "    <tr>\n",
       "      <th>61</th>\n",
       "      <td>2019-08-31</td>\n",
       "      <td>B</td>\n",
       "      <td>537</td>\n",
       "      <td>521</td>\n",
       "      <td>3323265</td>\n",
       "      <td>18916</td>\n",
       "    </tr>\n",
       "  </tbody>\n",
       "</table>\n",
       "<p>62 rows × 6 columns</p>\n",
       "</div>"
      ],
      "text/plain": [
       "         date group  orders  buyers  revenue  visitors\n",
       "0  2019-08-01     A      18      17   112340       719\n",
       "1  2019-08-01     B      17      17    59758       713\n",
       "2  2019-08-02     A      36      34   202252      1338\n",
       "3  2019-08-02     B      40      39   221801      1294\n",
       "4  2019-08-03     A      60      58   314725      1845\n",
       "..        ...   ...     ...     ...      ...       ...\n",
       "57 2019-08-29     B     499     483  3000903     17708\n",
       "58 2019-08-30     A     438     425  2745136     18037\n",
       "59 2019-08-30     B     520     504  3210126     18198\n",
       "60 2019-08-31     A     446     433  2798379     18736\n",
       "61 2019-08-31     B     537     521  3323265     18916\n",
       "\n",
       "[62 rows x 6 columns]"
      ]
     },
     "execution_count": 71,
     "metadata": {},
     "output_type": "execute_result"
    }
   ],
   "source": [
    "fil_cumdata_agg = filtered_orders_agg.merge(visitors_agg, on=['date', 'group'])\n",
    "fil_cumdata_agg"
   ]
  },
  {
   "cell_type": "code",
   "execution_count": 72,
   "metadata": {
    "scrolled": false
   },
   "outputs": [
    {
     "data": {
      "text/html": [
       "<div>\n",
       "<style scoped>\n",
       "    .dataframe tbody tr th:only-of-type {\n",
       "        vertical-align: middle;\n",
       "    }\n",
       "\n",
       "    .dataframe tbody tr th {\n",
       "        vertical-align: top;\n",
       "    }\n",
       "\n",
       "    .dataframe thead th {\n",
       "        text-align: right;\n",
       "    }\n",
       "</style>\n",
       "<table border=\"1\" class=\"dataframe\">\n",
       "  <thead>\n",
       "    <tr style=\"text-align: right;\">\n",
       "      <th></th>\n",
       "      <th>date</th>\n",
       "      <th>group</th>\n",
       "      <th>orders</th>\n",
       "      <th>buyers</th>\n",
       "      <th>revenue</th>\n",
       "      <th>visitors</th>\n",
       "    </tr>\n",
       "  </thead>\n",
       "  <tbody>\n",
       "    <tr>\n",
       "      <th>0</th>\n",
       "      <td>2019-08-01</td>\n",
       "      <td>A</td>\n",
       "      <td>18</td>\n",
       "      <td>17</td>\n",
       "      <td>112340</td>\n",
       "      <td>719</td>\n",
       "    </tr>\n",
       "    <tr>\n",
       "      <th>1</th>\n",
       "      <td>2019-08-02</td>\n",
       "      <td>A</td>\n",
       "      <td>36</td>\n",
       "      <td>34</td>\n",
       "      <td>202252</td>\n",
       "      <td>1338</td>\n",
       "    </tr>\n",
       "    <tr>\n",
       "      <th>2</th>\n",
       "      <td>2019-08-03</td>\n",
       "      <td>A</td>\n",
       "      <td>60</td>\n",
       "      <td>58</td>\n",
       "      <td>314725</td>\n",
       "      <td>1845</td>\n",
       "    </tr>\n",
       "    <tr>\n",
       "      <th>3</th>\n",
       "      <td>2019-08-04</td>\n",
       "      <td>A</td>\n",
       "      <td>71</td>\n",
       "      <td>69</td>\n",
       "      <td>355901</td>\n",
       "      <td>2562</td>\n",
       "    </tr>\n",
       "    <tr>\n",
       "      <th>4</th>\n",
       "      <td>2019-08-05</td>\n",
       "      <td>A</td>\n",
       "      <td>93</td>\n",
       "      <td>90</td>\n",
       "      <td>442284</td>\n",
       "      <td>3318</td>\n",
       "    </tr>\n",
       "  </tbody>\n",
       "</table>\n",
       "</div>"
      ],
      "text/plain": [
       "        date group  orders  buyers  revenue  visitors\n",
       "0 2019-08-01     A      18      17   112340       719\n",
       "1 2019-08-02     A      36      34   202252      1338\n",
       "2 2019-08-03     A      60      58   314725      1845\n",
       "3 2019-08-04     A      71      69   355901      2562\n",
       "4 2019-08-05     A      93      90   442284      3318"
      ]
     },
     "execution_count": 72,
     "metadata": {},
     "output_type": "execute_result"
    }
   ],
   "source": [
    "fil_cumrevenueA=fil_cumdata_agg[filtered_orders_agg['group'] == 'A'].reset_index(drop=True)\n",
    "fil_cumrevenueA.head(5)"
   ]
  },
  {
   "cell_type": "code",
   "execution_count": 73,
   "metadata": {},
   "outputs": [
    {
     "data": {
      "text/html": [
       "<div>\n",
       "<style scoped>\n",
       "    .dataframe tbody tr th:only-of-type {\n",
       "        vertical-align: middle;\n",
       "    }\n",
       "\n",
       "    .dataframe tbody tr th {\n",
       "        vertical-align: top;\n",
       "    }\n",
       "\n",
       "    .dataframe thead th {\n",
       "        text-align: right;\n",
       "    }\n",
       "</style>\n",
       "<table border=\"1\" class=\"dataframe\">\n",
       "  <thead>\n",
       "    <tr style=\"text-align: right;\">\n",
       "      <th></th>\n",
       "      <th>date</th>\n",
       "      <th>group</th>\n",
       "      <th>orders</th>\n",
       "      <th>buyers</th>\n",
       "      <th>revenue</th>\n",
       "      <th>visitors</th>\n",
       "    </tr>\n",
       "  </thead>\n",
       "  <tbody>\n",
       "    <tr>\n",
       "      <th>0</th>\n",
       "      <td>2019-08-01</td>\n",
       "      <td>B</td>\n",
       "      <td>17</td>\n",
       "      <td>17</td>\n",
       "      <td>59758</td>\n",
       "      <td>713</td>\n",
       "    </tr>\n",
       "    <tr>\n",
       "      <th>1</th>\n",
       "      <td>2019-08-02</td>\n",
       "      <td>B</td>\n",
       "      <td>40</td>\n",
       "      <td>39</td>\n",
       "      <td>221801</td>\n",
       "      <td>1294</td>\n",
       "    </tr>\n",
       "    <tr>\n",
       "      <th>2</th>\n",
       "      <td>2019-08-03</td>\n",
       "      <td>B</td>\n",
       "      <td>54</td>\n",
       "      <td>53</td>\n",
       "      <td>288850</td>\n",
       "      <td>1803</td>\n",
       "    </tr>\n",
       "    <tr>\n",
       "      <th>3</th>\n",
       "      <td>2019-08-04</td>\n",
       "      <td>B</td>\n",
       "      <td>68</td>\n",
       "      <td>66</td>\n",
       "      <td>385740</td>\n",
       "      <td>2573</td>\n",
       "    </tr>\n",
       "    <tr>\n",
       "      <th>4</th>\n",
       "      <td>2019-08-05</td>\n",
       "      <td>B</td>\n",
       "      <td>89</td>\n",
       "      <td>87</td>\n",
       "      <td>475648</td>\n",
       "      <td>3280</td>\n",
       "    </tr>\n",
       "  </tbody>\n",
       "</table>\n",
       "</div>"
      ],
      "text/plain": [
       "        date group  orders  buyers  revenue  visitors\n",
       "0 2019-08-01     B      17      17    59758       713\n",
       "1 2019-08-02     B      40      39   221801      1294\n",
       "2 2019-08-03     B      54      53   288850      1803\n",
       "3 2019-08-04     B      68      66   385740      2573\n",
       "4 2019-08-05     B      89      87   475648      3280"
      ]
     },
     "execution_count": 73,
     "metadata": {},
     "output_type": "execute_result"
    }
   ],
   "source": [
    "fil_cumrevenueB=fil_cumdata_agg[filtered_orders_agg['group'] == 'B'].reset_index(drop=True)\n",
    "fil_cumrevenueB.head(5)"
   ]
  },
  {
   "cell_type": "code",
   "execution_count": 74,
   "metadata": {
    "scrolled": true
   },
   "outputs": [
    {
     "data": {
      "image/png": "[encoded data removed]",
      "text/plain": [
       "<Figure size 1008x360 with 1 Axes>"
      ]
     },
     "metadata": {
      "needs_background": "light"
     },
     "output_type": "display_data"
    }
   ],
   "source": [
    "plt.figure(figsize=(14,5))\n",
    "plt.plot(fil_cumrevenueA['date'], (fil_cumrevenueB['revenue']/fil_cumrevenueB['orders'])/(fil_cumrevenueA['revenue']/fil_cumrevenueA['orders']) - 1)\n",
    "plt.title('График относительного изменения кумулятивного среднего чека группы В к группе А на \"очищенных\" данных', fontsize=20)\n",
    "plt.xlabel('Дата', fontsize=20)\n",
    "plt.ylabel(\"Отношение\",  fontsize=18)\n",
    "plt.axhline(y=0, color='black', linestyle='--');"
   ]
  },
  {
   "cell_type": "markdown",
   "metadata": {},
   "source": [
    "На графике, построенном по \"очищенным\" данным, мы видим, что сначала средний чек группы В значительно превысил средний чек группы А, но потом сравнялся с ней и находился примерно на тех же значениях до конца теста."
   ]
  },
  {
   "cell_type": "markdown",
   "metadata": {},
   "source": [
    "## Подведение итогов и принятие решения по тесту."
   ]
  },
  {
   "attachments": {
    "image-2.png": {
     "image/png": "[encoded data removed]"
    },
    "image-3.png": {
     "image/png": "[encoded data removed]"
    },
    "image-4.png": {
     "image/png": "[encoded data removed]"
    }
   },
   "cell_type": "markdown",
   "metadata": {},
   "source": [
    "По итогам месяца проведения А/В-теста мы должны принять одно из трех решений:\n",
    "1. Остановить тест, зафиксировать победу одной из групп;\n",
    "2. Остановить тест, зафиксировать отсутствие различий между группами;\n",
    "3. Продолжить тест.\n",
    "\n",
    "Напомним, что мы проверяли следующую бизнес-гипотезу: **\"Добавить блоки рекомендаций товаров на сайт интернет магазина, чтобы повысить конверсию и средний чек заказа\"**.\n",
    "\n",
    "Особенностью проведения данного А/В-теста является то, что нами были обнаружены 58 пользователей, которые совершили покупки, находясь и в группе `A` и в группе `B`. Вероятно, возник какой-то сбой в записи логов, либо в распределении пользователей по группам. Мы исключили данные о покупках таких пользователей, так как они составляли значительную часть от общего количества покупок, что могло негативно сказаться на результатах. Однако у нас нет возможности удалить информацию об этих пользователях из данных по посещениям, по причине того, что у нас есть только обезличенные данные, но так как количество посещений измеряется в десятках тысяч, то посещения 58 пользователей не окажут большого влияния.\n",
    "\n",
    "Также мы определили выбросы: пользователи, у которых 3 и более покупок, а также пользователей с заказами дороже 53000 рублей.\n",
    "***\n",
    "Подведем итоги, которые мы получили в ходе анализа результатов теста:\n",
    "\n",
    "1. При проведении статистических тестов на \"сырых\" данных:\n",
    "   - у нас есть основания для того, чтобы отвергнуть нулевую гипотезу о том, что  различий в среднем количестве заказов на посетителя в группе А и в группе В нет. При этом относительный прирост кумулятивной средней конверсии в группе В по отношению к группе А составил 16%.![image-2.png](attachment:image-2.png) На графике мы видим, как группа В на протяжении большей части теста достаточно стабильно превосходит группу А.\n",
    "\n",
    "\n",
    "   - у нас нет оснований отвергнуть нулевую гипотезу, которая гласит, что различий в среднем чеке заказа между группами нет. При этом относительный прирост кумулятивного среднего чека в группе В относительно группы А составил 28.7%.\n",
    "![image-3.png](attachment:image-3.png) На графике мы видим, как выброс сильно исказил кривую группы В.\n",
    "***\n",
    "2. При проведении статистических тестов на \"очищенных\" данных:\n",
    "   - есть основания для того, чтобы отвергнуть нулевую гипотезу о том, что  различий в среднем количестве заказов на посетителя в группе А и в группе В нет. При этом относительный прирост кумулятивной средней конверсии в группе В по отношению к группе А на очищенных данных составил 19.26%, то есть стал еще больше чем при анализе \"сырых\" данных.\n",
    "   - у нас снова нет оснований отвергнуть нулевую гипотезу, которая гласит, что различий в среднем чеке заказа между группами нет, даже на \"очищенных\" данных. При этом прирост кумулятивного среднего чека в группе В относительно группы А составил всего чуть больше одного процента, что подтверждает наше предположение об искажающих картину выбросах.\n",
    "![image-4.png](attachment:image-4.png)\n",
    "***\n",
    "**Мы видим, что графики стабилизировались и нет оснований ожидать, что они в дальнейшем начнут заметно колебаться. В настоящий момент мы можем с большой долей вероятности утверждать, что добавление формы подписки на все основные страницы, чтобы повысить конверсию и средний чек заказа позволит нам значительно увеличить конверсию посетителей в покупателей, однако ожидать роста суммы среднего чека не приходится.**\n",
    "\n",
    "***Стоит остановить тест и признать группу В победителем с учетом, что победа одержана наполовину: в части конверсии пользователей в покупателей, а статистически значимых изменений в сумме среднего чека обнаружить не удалось.***\n",
    "\n"
   ]
  }
 ],
 "metadata": {
  "ExecuteTimeLog": [
   {
    "duration": 127,
    "start_time": "2023-12-16T08:36:07.432Z"
   },
   {
    "duration": 1100,
    "start_time": "2023-12-16T08:45:54.574Z"
   },
   {
    "duration": 135,
    "start_time": "2023-12-16T08:50:20.060Z"
   },
   {
    "duration": 1525,
    "start_time": "2023-12-16T08:51:20.708Z"
   },
   {
    "duration": 83,
    "start_time": "2023-12-16T08:53:42.779Z"
   },
   {
    "duration": 42,
    "start_time": "2023-12-16T08:57:22.125Z"
   },
   {
    "duration": 10,
    "start_time": "2023-12-16T09:02:09.343Z"
   },
   {
    "duration": 3,
    "start_time": "2023-12-16T09:02:57.307Z"
   },
   {
    "duration": 7,
    "start_time": "2023-12-16T09:03:21.085Z"
   },
   {
    "duration": 3,
    "start_time": "2023-12-16T09:03:58.760Z"
   },
   {
    "duration": 3,
    "start_time": "2023-12-16T09:04:21.237Z"
   },
   {
    "duration": 2,
    "start_time": "2023-12-16T09:05:25.694Z"
   },
   {
    "duration": 5,
    "start_time": "2023-12-16T09:05:45.424Z"
   },
   {
    "duration": 7,
    "start_time": "2023-12-16T09:05:45.762Z"
   },
   {
    "duration": 13,
    "start_time": "2023-12-16T09:06:00.260Z"
   },
   {
    "duration": 12,
    "start_time": "2023-12-16T09:06:31.865Z"
   },
   {
    "duration": 9,
    "start_time": "2023-12-16T09:06:36.498Z"
   },
   {
    "duration": 9,
    "start_time": "2023-12-16T09:08:11.650Z"
   },
   {
    "duration": 954,
    "start_time": "2023-12-16T09:08:32.747Z"
   },
   {
    "duration": 72,
    "start_time": "2023-12-16T09:08:33.703Z"
   },
   {
    "duration": 0,
    "start_time": "2023-12-16T09:08:33.777Z"
   },
   {
    "duration": 0,
    "start_time": "2023-12-16T09:08:33.778Z"
   },
   {
    "duration": 0,
    "start_time": "2023-12-16T09:08:33.779Z"
   },
   {
    "duration": 0,
    "start_time": "2023-12-16T09:08:33.780Z"
   },
   {
    "duration": 80,
    "start_time": "2023-12-16T09:51:29.583Z"
   },
   {
    "duration": 13,
    "start_time": "2023-12-16T09:51:47.808Z"
   },
   {
    "duration": 9,
    "start_time": "2023-12-16T09:51:57.060Z"
   },
   {
    "duration": 269,
    "start_time": "2023-12-16T09:52:42.930Z"
   },
   {
    "duration": 8,
    "start_time": "2023-12-16T09:52:43.340Z"
   },
   {
    "duration": 34,
    "start_time": "2023-12-16T09:52:52.298Z"
   },
   {
    "duration": 8,
    "start_time": "2023-12-16T09:52:52.623Z"
   },
   {
    "duration": 91,
    "start_time": "2023-12-16T09:53:02.806Z"
   },
   {
    "duration": 27,
    "start_time": "2023-12-16T09:53:47.260Z"
   },
   {
    "duration": 8,
    "start_time": "2023-12-16T09:53:48.049Z"
   },
   {
    "duration": 56,
    "start_time": "2023-12-16T09:53:58.429Z"
   },
   {
    "duration": 9,
    "start_time": "2023-12-16T09:53:58.921Z"
   },
   {
    "duration": 5,
    "start_time": "2023-12-16T09:54:18.523Z"
   },
   {
    "duration": 11,
    "start_time": "2023-12-16T09:54:29.171Z"
   },
   {
    "duration": 5,
    "start_time": "2023-12-16T09:54:41.879Z"
   },
   {
    "duration": 5,
    "start_time": "2023-12-16T09:54:45.996Z"
   },
   {
    "duration": 4,
    "start_time": "2023-12-16T10:00:09.369Z"
   },
   {
    "duration": 7,
    "start_time": "2023-12-16T10:01:08.210Z"
   },
   {
    "duration": 103,
    "start_time": "2023-12-16T10:01:19.947Z"
   },
   {
    "duration": 4,
    "start_time": "2023-12-16T10:01:40.797Z"
   },
   {
    "duration": 72,
    "start_time": "2023-12-16T10:01:41.221Z"
   },
   {
    "duration": 3,
    "start_time": "2023-12-16T10:02:56.654Z"
   },
   {
    "duration": 89,
    "start_time": "2023-12-16T10:02:57.204Z"
   },
   {
    "duration": 4,
    "start_time": "2023-12-16T10:03:06.343Z"
   },
   {
    "duration": 86,
    "start_time": "2023-12-16T10:03:06.832Z"
   },
   {
    "duration": 5,
    "start_time": "2023-12-16T10:03:18.207Z"
   },
   {
    "duration": 69,
    "start_time": "2023-12-16T10:03:19.455Z"
   },
   {
    "duration": 4,
    "start_time": "2023-12-16T10:03:23.596Z"
   },
   {
    "duration": 87,
    "start_time": "2023-12-16T10:03:23.928Z"
   },
   {
    "duration": 4,
    "start_time": "2023-12-16T10:03:35.106Z"
   },
   {
    "duration": 71,
    "start_time": "2023-12-16T10:03:35.396Z"
   },
   {
    "duration": 208,
    "start_time": "2023-12-16T10:07:49.032Z"
   },
   {
    "duration": 6,
    "start_time": "2023-12-16T10:07:50.674Z"
   },
   {
    "duration": 909,
    "start_time": "2023-12-16T10:07:56.120Z"
   },
   {
    "duration": 129,
    "start_time": "2023-12-16T10:08:30.811Z"
   },
   {
    "duration": 4,
    "start_time": "2023-12-16T10:11:05.281Z"
   },
   {
    "duration": 82,
    "start_time": "2023-12-16T10:11:05.738Z"
   },
   {
    "duration": 4,
    "start_time": "2023-12-16T10:11:15.517Z"
   },
   {
    "duration": 4,
    "start_time": "2023-12-16T10:11:56.791Z"
   },
   {
    "duration": 79,
    "start_time": "2023-12-16T10:11:57.165Z"
   },
   {
    "duration": 4,
    "start_time": "2023-12-16T10:12:09.614Z"
   },
   {
    "duration": 82,
    "start_time": "2023-12-16T10:12:09.842Z"
   },
   {
    "duration": 4,
    "start_time": "2023-12-16T10:12:54.637Z"
   },
   {
    "duration": 165,
    "start_time": "2023-12-16T10:12:55.196Z"
   },
   {
    "duration": 6,
    "start_time": "2023-12-16T10:13:03.174Z"
   },
   {
    "duration": 69,
    "start_time": "2023-12-16T10:13:03.542Z"
   },
   {
    "duration": 4,
    "start_time": "2023-12-16T10:13:21.484Z"
   },
   {
    "duration": 5,
    "start_time": "2023-12-16T10:13:35.483Z"
   },
   {
    "duration": 93,
    "start_time": "2023-12-16T10:13:35.840Z"
   },
   {
    "duration": 5,
    "start_time": "2023-12-16T10:13:43.287Z"
   },
   {
    "duration": 70,
    "start_time": "2023-12-16T10:13:43.628Z"
   },
   {
    "duration": 5,
    "start_time": "2023-12-16T10:13:56.447Z"
   },
   {
    "duration": 63,
    "start_time": "2023-12-16T10:13:56.777Z"
   },
   {
    "duration": 4,
    "start_time": "2023-12-16T10:14:14.154Z"
   },
   {
    "duration": 125,
    "start_time": "2023-12-16T10:14:14.484Z"
   },
   {
    "duration": 4,
    "start_time": "2023-12-16T10:14:31.896Z"
   },
   {
    "duration": 92,
    "start_time": "2023-12-16T10:14:32.223Z"
   },
   {
    "duration": 4,
    "start_time": "2023-12-16T10:14:39.756Z"
   },
   {
    "duration": 80,
    "start_time": "2023-12-16T10:14:40.703Z"
   },
   {
    "duration": 95,
    "start_time": "2023-12-16T10:14:45.275Z"
   },
   {
    "duration": 157,
    "start_time": "2023-12-16T10:16:10.492Z"
   },
   {
    "duration": 98,
    "start_time": "2023-12-16T10:21:22.055Z"
   },
   {
    "duration": 70,
    "start_time": "2023-12-16T10:21:39.294Z"
   },
   {
    "duration": 7,
    "start_time": "2023-12-16T10:33:44.957Z"
   },
   {
    "duration": 941,
    "start_time": "2023-12-16T10:34:02.215Z"
   },
   {
    "duration": 129,
    "start_time": "2023-12-16T10:34:03.158Z"
   },
   {
    "duration": 3,
    "start_time": "2023-12-16T10:34:03.288Z"
   },
   {
    "duration": 20,
    "start_time": "2023-12-16T10:34:03.292Z"
   },
   {
    "duration": 9,
    "start_time": "2023-12-16T10:34:03.313Z"
   },
   {
    "duration": 8,
    "start_time": "2023-12-16T10:34:03.323Z"
   },
   {
    "duration": 204,
    "start_time": "2023-12-16T10:34:03.332Z"
   },
   {
    "duration": 0,
    "start_time": "2023-12-16T10:34:03.538Z"
   },
   {
    "duration": 0,
    "start_time": "2023-12-16T10:34:03.539Z"
   },
   {
    "duration": 7,
    "start_time": "2023-12-16T10:35:01.575Z"
   },
   {
    "duration": 105,
    "start_time": "2023-12-16T10:35:02.057Z"
   },
   {
    "duration": 76,
    "start_time": "2023-12-16T10:35:07.555Z"
   },
   {
    "duration": 7,
    "start_time": "2023-12-16T10:35:12.337Z"
   },
   {
    "duration": 8,
    "start_time": "2023-12-16T10:36:57.516Z"
   },
   {
    "duration": 11,
    "start_time": "2023-12-16T10:37:28.250Z"
   },
   {
    "duration": 9,
    "start_time": "2023-12-16T10:38:27.091Z"
   },
   {
    "duration": 12,
    "start_time": "2023-12-16T10:39:02.763Z"
   },
   {
    "duration": 4,
    "start_time": "2023-12-16T10:40:37.265Z"
   },
   {
    "duration": 4,
    "start_time": "2023-12-16T10:44:19.555Z"
   },
   {
    "duration": 14,
    "start_time": "2023-12-16T10:44:38.673Z"
   },
   {
    "duration": 78,
    "start_time": "2023-12-16T10:44:43.631Z"
   },
   {
    "duration": 11,
    "start_time": "2023-12-16T10:44:47.061Z"
   },
   {
    "duration": 8,
    "start_time": "2023-12-16T10:46:46.549Z"
   },
   {
    "duration": 4,
    "start_time": "2023-12-16T10:51:03.056Z"
   },
   {
    "duration": 8,
    "start_time": "2023-12-16T10:51:48.259Z"
   },
   {
    "duration": 4,
    "start_time": "2023-12-16T10:52:02.967Z"
   },
   {
    "duration": 5,
    "start_time": "2023-12-16T10:52:09.909Z"
   },
   {
    "duration": 893,
    "start_time": "2023-12-16T11:07:18.071Z"
   },
   {
    "duration": 84,
    "start_time": "2023-12-16T11:07:18.965Z"
   },
   {
    "duration": 3,
    "start_time": "2023-12-16T11:07:19.050Z"
   },
   {
    "duration": 11,
    "start_time": "2023-12-16T11:07:19.055Z"
   },
   {
    "duration": 17,
    "start_time": "2023-12-16T11:07:19.067Z"
   },
   {
    "duration": 4,
    "start_time": "2023-12-16T11:07:19.085Z"
   },
   {
    "duration": 160,
    "start_time": "2023-12-16T11:07:19.090Z"
   },
   {
    "duration": 83,
    "start_time": "2023-12-16T11:07:19.251Z"
   },
   {
    "duration": 11,
    "start_time": "2023-12-16T11:07:19.335Z"
   },
   {
    "duration": 8,
    "start_time": "2023-12-16T11:07:19.348Z"
   },
   {
    "duration": 11,
    "start_time": "2023-12-16T11:07:19.358Z"
   },
   {
    "duration": 10,
    "start_time": "2023-12-16T11:07:19.370Z"
   },
   {
    "duration": 7,
    "start_time": "2023-12-16T11:11:13.340Z"
   },
   {
    "duration": 8,
    "start_time": "2023-12-16T11:11:17.468Z"
   },
   {
    "duration": 7,
    "start_time": "2023-12-16T11:11:28.089Z"
   },
   {
    "duration": 9,
    "start_time": "2023-12-16T12:21:23.879Z"
   },
   {
    "duration": 5,
    "start_time": "2023-12-16T12:24:45.779Z"
   },
   {
    "duration": 4,
    "start_time": "2023-12-16T12:24:57.922Z"
   },
   {
    "duration": 10,
    "start_time": "2023-12-16T12:25:07.948Z"
   },
   {
    "duration": 10,
    "start_time": "2023-12-16T12:28:16.029Z"
   },
   {
    "duration": 74,
    "start_time": "2023-12-16T12:32:27.526Z"
   },
   {
    "duration": 72,
    "start_time": "2023-12-16T12:32:35.518Z"
   },
   {
    "duration": 134,
    "start_time": "2023-12-16T12:32:43.251Z"
   },
   {
    "duration": 9,
    "start_time": "2023-12-16T12:32:47.969Z"
   },
   {
    "duration": 133,
    "start_time": "2023-12-16T12:33:04.021Z"
   },
   {
    "duration": 72,
    "start_time": "2023-12-16T12:35:14.350Z"
   },
   {
    "duration": 3,
    "start_time": "2023-12-16T12:37:24.337Z"
   },
   {
    "duration": 2,
    "start_time": "2023-12-16T12:37:26.501Z"
   },
   {
    "duration": 186,
    "start_time": "2023-12-16T12:38:07.396Z"
   },
   {
    "duration": 123,
    "start_time": "2023-12-16T12:38:19.780Z"
   },
   {
    "duration": 143,
    "start_time": "2023-12-16T12:40:05.834Z"
   },
   {
    "duration": 164,
    "start_time": "2023-12-16T12:40:12.817Z"
   },
   {
    "duration": 218,
    "start_time": "2023-12-16T12:40:30.635Z"
   },
   {
    "duration": 167,
    "start_time": "2023-12-16T12:41:03.358Z"
   },
   {
    "duration": 151,
    "start_time": "2023-12-16T12:41:08.074Z"
   },
   {
    "duration": 161,
    "start_time": "2023-12-16T12:41:20.122Z"
   },
   {
    "duration": 172,
    "start_time": "2023-12-16T12:42:10.063Z"
   },
   {
    "duration": 226,
    "start_time": "2023-12-16T12:42:37.114Z"
   },
   {
    "duration": 159,
    "start_time": "2023-12-16T12:42:42.540Z"
   },
   {
    "duration": 173,
    "start_time": "2023-12-16T12:42:54.248Z"
   },
   {
    "duration": 173,
    "start_time": "2023-12-16T12:43:00.090Z"
   },
   {
    "duration": 172,
    "start_time": "2023-12-16T12:43:07.607Z"
   },
   {
    "duration": 140,
    "start_time": "2023-12-16T12:43:20.019Z"
   },
   {
    "duration": 170,
    "start_time": "2023-12-16T12:43:38.425Z"
   },
   {
    "duration": 167,
    "start_time": "2023-12-16T12:43:58.748Z"
   },
   {
    "duration": 179,
    "start_time": "2023-12-16T12:44:19.266Z"
   },
   {
    "duration": 191,
    "start_time": "2023-12-16T12:44:37.880Z"
   },
   {
    "duration": 177,
    "start_time": "2023-12-16T12:44:47.066Z"
   },
   {
    "duration": 181,
    "start_time": "2023-12-16T12:45:28.815Z"
   },
   {
    "duration": 227,
    "start_time": "2023-12-16T12:45:43.424Z"
   },
   {
    "duration": 182,
    "start_time": "2023-12-16T12:47:22.822Z"
   },
   {
    "duration": 185,
    "start_time": "2023-12-16T12:47:28.012Z"
   },
   {
    "duration": 168,
    "start_time": "2023-12-16T12:47:32.516Z"
   },
   {
    "duration": 165,
    "start_time": "2023-12-16T12:47:39.941Z"
   },
   {
    "duration": 162,
    "start_time": "2023-12-16T12:47:51.198Z"
   },
   {
    "duration": 165,
    "start_time": "2023-12-16T12:47:58.503Z"
   },
   {
    "duration": 170,
    "start_time": "2023-12-16T12:48:03.724Z"
   },
   {
    "duration": 165,
    "start_time": "2023-12-16T12:48:07.672Z"
   },
   {
    "duration": 137,
    "start_time": "2023-12-16T12:56:38.979Z"
   },
   {
    "duration": 132,
    "start_time": "2023-12-16T12:58:16.368Z"
   },
   {
    "duration": 126,
    "start_time": "2023-12-16T12:58:29.339Z"
   },
   {
    "duration": 136,
    "start_time": "2023-12-16T12:58:36.956Z"
   },
   {
    "duration": 8,
    "start_time": "2023-12-16T13:07:04.676Z"
   },
   {
    "duration": 198,
    "start_time": "2023-12-16T13:08:46.026Z"
   },
   {
    "duration": 103,
    "start_time": "2023-12-16T13:08:52.912Z"
   },
   {
    "duration": 11,
    "start_time": "2023-12-16T13:09:00.345Z"
   },
   {
    "duration": 138,
    "start_time": "2023-12-16T13:11:00.583Z"
   },
   {
    "duration": 142,
    "start_time": "2023-12-16T13:11:27.756Z"
   },
   {
    "duration": 133,
    "start_time": "2023-12-16T13:11:35.219Z"
   },
   {
    "duration": 139,
    "start_time": "2023-12-16T13:11:51.704Z"
   },
   {
    "duration": 89,
    "start_time": "2023-12-16T13:12:33.519Z"
   },
   {
    "duration": 89,
    "start_time": "2023-12-16T13:12:41.614Z"
   },
   {
    "duration": 137,
    "start_time": "2023-12-16T13:12:49.729Z"
   },
   {
    "duration": 95,
    "start_time": "2023-12-16T13:12:51.927Z"
   },
   {
    "duration": 95,
    "start_time": "2023-12-16T13:13:01.401Z"
   },
   {
    "duration": 5,
    "start_time": "2023-12-16T13:14:33.860Z"
   },
   {
    "duration": 12,
    "start_time": "2023-12-16T13:14:40.012Z"
   },
   {
    "duration": 14,
    "start_time": "2023-12-16T13:15:17.185Z"
   },
   {
    "duration": 2,
    "start_time": "2023-12-16T13:16:58.963Z"
   },
   {
    "duration": 3,
    "start_time": "2023-12-16T13:16:59.309Z"
   },
   {
    "duration": 3,
    "start_time": "2023-12-16T13:20:38.056Z"
   },
   {
    "duration": 3,
    "start_time": "2023-12-16T13:20:38.393Z"
   },
   {
    "duration": 183,
    "start_time": "2023-12-16T13:20:39.114Z"
   },
   {
    "duration": 2,
    "start_time": "2023-12-16T13:22:58.414Z"
   },
   {
    "duration": 8,
    "start_time": "2023-12-16T13:22:59.147Z"
   },
   {
    "duration": 7,
    "start_time": "2023-12-16T13:23:02.334Z"
   },
   {
    "duration": 9,
    "start_time": "2023-12-16T13:23:04.549Z"
   },
   {
    "duration": 167,
    "start_time": "2023-12-16T13:26:38.873Z"
   },
   {
    "duration": 175,
    "start_time": "2023-12-16T13:27:05.969Z"
   },
   {
    "duration": 227,
    "start_time": "2023-12-16T13:27:56.255Z"
   },
   {
    "duration": 176,
    "start_time": "2023-12-16T13:29:31.375Z"
   },
   {
    "duration": 11,
    "start_time": "2023-12-16T13:32:26.081Z"
   },
   {
    "duration": 4,
    "start_time": "2023-12-16T13:33:18.740Z"
   },
   {
    "duration": 4,
    "start_time": "2023-12-16T13:33:27.360Z"
   },
   {
    "duration": 80,
    "start_time": "2023-12-16T13:34:29.489Z"
   },
   {
    "duration": 4,
    "start_time": "2023-12-16T13:34:33.522Z"
   },
   {
    "duration": 4,
    "start_time": "2023-12-16T13:34:40.664Z"
   },
   {
    "duration": 4,
    "start_time": "2023-12-16T13:34:53.256Z"
   },
   {
    "duration": 5,
    "start_time": "2023-12-16T13:34:59.254Z"
   },
   {
    "duration": 3,
    "start_time": "2023-12-16T13:36:24.798Z"
   },
   {
    "duration": 3,
    "start_time": "2023-12-16T13:37:52.241Z"
   },
   {
    "duration": 7,
    "start_time": "2023-12-16T13:38:03.428Z"
   },
   {
    "duration": 3,
    "start_time": "2023-12-16T13:38:08.869Z"
   },
   {
    "duration": 92,
    "start_time": "2023-12-16T13:45:53.920Z"
   },
   {
    "duration": 1162,
    "start_time": "2023-12-17T19:32:05.775Z"
   },
   {
    "duration": 158,
    "start_time": "2023-12-17T19:32:06.939Z"
   },
   {
    "duration": 4,
    "start_time": "2023-12-17T19:32:07.098Z"
   },
   {
    "duration": 23,
    "start_time": "2023-12-17T19:32:07.103Z"
   },
   {
    "duration": 19,
    "start_time": "2023-12-17T19:32:07.129Z"
   },
   {
    "duration": 7,
    "start_time": "2023-12-17T19:32:07.150Z"
   },
   {
    "duration": 140,
    "start_time": "2023-12-17T19:32:07.158Z"
   },
   {
    "duration": 135,
    "start_time": "2023-12-17T19:32:07.300Z"
   },
   {
    "duration": 3,
    "start_time": "2023-12-17T19:32:07.436Z"
   },
   {
    "duration": 16,
    "start_time": "2023-12-17T19:32:07.440Z"
   },
   {
    "duration": 8,
    "start_time": "2023-12-17T19:32:07.457Z"
   },
   {
    "duration": 28,
    "start_time": "2023-12-17T19:32:07.466Z"
   },
   {
    "duration": 9,
    "start_time": "2023-12-17T19:32:07.496Z"
   },
   {
    "duration": 9,
    "start_time": "2023-12-17T19:32:07.508Z"
   },
   {
    "duration": 10,
    "start_time": "2023-12-17T19:32:07.518Z"
   },
   {
    "duration": 11,
    "start_time": "2023-12-17T19:32:07.530Z"
   },
   {
    "duration": 1337,
    "start_time": "2023-12-17T19:32:07.542Z"
   },
   {
    "duration": 0,
    "start_time": "2023-12-17T19:32:08.880Z"
   },
   {
    "duration": 0,
    "start_time": "2023-12-17T19:32:08.881Z"
   },
   {
    "duration": 0,
    "start_time": "2023-12-17T19:32:08.883Z"
   },
   {
    "duration": 0,
    "start_time": "2023-12-17T19:32:08.884Z"
   },
   {
    "duration": 0,
    "start_time": "2023-12-17T19:32:08.885Z"
   },
   {
    "duration": 0,
    "start_time": "2023-12-17T19:32:08.887Z"
   },
   {
    "duration": 0,
    "start_time": "2023-12-17T19:32:08.888Z"
   },
   {
    "duration": 0,
    "start_time": "2023-12-17T19:32:08.889Z"
   },
   {
    "duration": 0,
    "start_time": "2023-12-17T19:32:08.890Z"
   },
   {
    "duration": 9,
    "start_time": "2023-12-17T19:32:36.958Z"
   },
   {
    "duration": 1121,
    "start_time": "2023-12-17T19:32:51.191Z"
   },
   {
    "duration": 5,
    "start_time": "2023-12-17T19:32:57.774Z"
   },
   {
    "duration": 5,
    "start_time": "2023-12-17T19:33:05.088Z"
   },
   {
    "duration": 5,
    "start_time": "2023-12-17T19:33:12.196Z"
   },
   {
    "duration": 4,
    "start_time": "2023-12-17T19:33:35.190Z"
   },
   {
    "duration": 3,
    "start_time": "2023-12-17T19:34:00.521Z"
   },
   {
    "duration": 0,
    "start_time": "2023-12-17T19:35:42.705Z"
   },
   {
    "duration": 0,
    "start_time": "2023-12-17T19:35:42.706Z"
   },
   {
    "duration": 0,
    "start_time": "2023-12-17T19:35:42.707Z"
   },
   {
    "duration": 0,
    "start_time": "2023-12-17T19:35:42.708Z"
   },
   {
    "duration": 0,
    "start_time": "2023-12-17T19:35:42.708Z"
   },
   {
    "duration": 0,
    "start_time": "2023-12-17T19:35:42.710Z"
   },
   {
    "duration": 0,
    "start_time": "2023-12-17T19:35:42.711Z"
   },
   {
    "duration": 0,
    "start_time": "2023-12-17T19:35:42.712Z"
   },
   {
    "duration": 0,
    "start_time": "2023-12-17T19:35:42.713Z"
   },
   {
    "duration": 0,
    "start_time": "2023-12-17T19:35:42.714Z"
   },
   {
    "duration": 0,
    "start_time": "2023-12-17T19:35:42.714Z"
   },
   {
    "duration": 0,
    "start_time": "2023-12-17T19:35:42.715Z"
   },
   {
    "duration": 0,
    "start_time": "2023-12-17T19:35:42.716Z"
   },
   {
    "duration": 0,
    "start_time": "2023-12-17T19:35:42.717Z"
   },
   {
    "duration": 0,
    "start_time": "2023-12-17T19:35:42.718Z"
   },
   {
    "duration": 0,
    "start_time": "2023-12-17T19:35:42.719Z"
   },
   {
    "duration": 0,
    "start_time": "2023-12-17T19:35:42.720Z"
   },
   {
    "duration": 0,
    "start_time": "2023-12-17T19:35:42.721Z"
   },
   {
    "duration": 0,
    "start_time": "2023-12-17T19:35:42.752Z"
   },
   {
    "duration": 0,
    "start_time": "2023-12-17T19:35:42.753Z"
   },
   {
    "duration": 0,
    "start_time": "2023-12-17T19:35:42.754Z"
   },
   {
    "duration": 0,
    "start_time": "2023-12-17T19:35:42.755Z"
   },
   {
    "duration": 0,
    "start_time": "2023-12-17T19:35:42.756Z"
   },
   {
    "duration": 0,
    "start_time": "2023-12-17T19:35:42.757Z"
   },
   {
    "duration": 0,
    "start_time": "2023-12-17T19:35:42.758Z"
   },
   {
    "duration": 2,
    "start_time": "2023-12-17T19:35:53.558Z"
   },
   {
    "duration": 58,
    "start_time": "2023-12-17T19:36:02.441Z"
   },
   {
    "duration": 3,
    "start_time": "2023-12-17T19:36:02.822Z"
   },
   {
    "duration": 982,
    "start_time": "2023-12-17T19:36:09.193Z"
   },
   {
    "duration": 86,
    "start_time": "2023-12-17T19:36:10.177Z"
   },
   {
    "duration": 2,
    "start_time": "2023-12-17T19:36:10.265Z"
   },
   {
    "duration": 33,
    "start_time": "2023-12-17T19:36:10.269Z"
   },
   {
    "duration": 9,
    "start_time": "2023-12-17T19:36:10.304Z"
   },
   {
    "duration": 32,
    "start_time": "2023-12-17T19:36:10.314Z"
   },
   {
    "duration": 115,
    "start_time": "2023-12-17T19:36:10.347Z"
   },
   {
    "duration": 93,
    "start_time": "2023-12-17T19:36:10.463Z"
   },
   {
    "duration": 3,
    "start_time": "2023-12-17T19:36:10.557Z"
   },
   {
    "duration": 15,
    "start_time": "2023-12-17T19:36:10.562Z"
   },
   {
    "duration": 28,
    "start_time": "2023-12-17T19:36:10.579Z"
   },
   {
    "duration": 16,
    "start_time": "2023-12-17T19:36:10.608Z"
   },
   {
    "duration": 10,
    "start_time": "2023-12-17T19:36:10.626Z"
   },
   {
    "duration": 15,
    "start_time": "2023-12-17T19:36:10.638Z"
   },
   {
    "duration": 7,
    "start_time": "2023-12-17T19:36:10.654Z"
   },
   {
    "duration": 9,
    "start_time": "2023-12-17T19:36:10.662Z"
   },
   {
    "duration": 15,
    "start_time": "2023-12-17T19:36:10.672Z"
   },
   {
    "duration": 166,
    "start_time": "2023-12-17T19:36:10.688Z"
   },
   {
    "duration": 122,
    "start_time": "2023-12-17T19:36:10.855Z"
   },
   {
    "duration": 13,
    "start_time": "2023-12-17T19:36:10.978Z"
   },
   {
    "duration": 3,
    "start_time": "2023-12-17T19:36:10.993Z"
   },
   {
    "duration": 17,
    "start_time": "2023-12-17T19:36:10.997Z"
   },
   {
    "duration": 94,
    "start_time": "2023-12-17T19:36:11.016Z"
   },
   {
    "duration": 0,
    "start_time": "2023-12-17T19:36:11.111Z"
   },
   {
    "duration": 0,
    "start_time": "2023-12-17T19:36:11.112Z"
   },
   {
    "duration": 11,
    "start_time": "2023-12-17T19:37:17.673Z"
   },
   {
    "duration": 11,
    "start_time": "2023-12-17T19:37:21.163Z"
   },
   {
    "duration": 260,
    "start_time": "2023-12-17T19:37:52.402Z"
   },
   {
    "duration": 215,
    "start_time": "2023-12-17T19:38:25.011Z"
   },
   {
    "duration": 9,
    "start_time": "2023-12-17T19:38:40.720Z"
   },
   {
    "duration": 9,
    "start_time": "2023-12-17T19:38:46.920Z"
   },
   {
    "duration": 1140,
    "start_time": "2023-12-18T16:09:39.064Z"
   },
   {
    "duration": 147,
    "start_time": "2023-12-18T16:09:40.206Z"
   },
   {
    "duration": 3,
    "start_time": "2023-12-18T16:09:40.354Z"
   },
   {
    "duration": 16,
    "start_time": "2023-12-18T16:09:40.359Z"
   },
   {
    "duration": 12,
    "start_time": "2023-12-18T16:09:40.377Z"
   },
   {
    "duration": 5,
    "start_time": "2023-12-18T16:09:40.390Z"
   },
   {
    "duration": 139,
    "start_time": "2023-12-18T16:09:40.396Z"
   },
   {
    "duration": 118,
    "start_time": "2023-12-18T16:09:40.536Z"
   },
   {
    "duration": 3,
    "start_time": "2023-12-18T16:09:40.655Z"
   },
   {
    "duration": 14,
    "start_time": "2023-12-18T16:09:40.659Z"
   },
   {
    "duration": 17,
    "start_time": "2023-12-18T16:09:40.674Z"
   },
   {
    "duration": 11,
    "start_time": "2023-12-18T16:09:40.693Z"
   },
   {
    "duration": 21,
    "start_time": "2023-12-18T16:09:40.705Z"
   },
   {
    "duration": 8,
    "start_time": "2023-12-18T16:09:40.728Z"
   },
   {
    "duration": 6,
    "start_time": "2023-12-18T16:09:40.737Z"
   },
   {
    "duration": 7,
    "start_time": "2023-12-18T16:09:40.744Z"
   },
   {
    "duration": 10,
    "start_time": "2023-12-18T16:09:40.752Z"
   },
   {
    "duration": 160,
    "start_time": "2023-12-18T16:09:40.763Z"
   },
   {
    "duration": 116,
    "start_time": "2023-12-18T16:09:40.924Z"
   },
   {
    "duration": 20,
    "start_time": "2023-12-18T16:09:41.041Z"
   },
   {
    "duration": 8,
    "start_time": "2023-12-18T16:09:41.062Z"
   },
   {
    "duration": 7,
    "start_time": "2023-12-18T16:09:41.072Z"
   },
   {
    "duration": 279,
    "start_time": "2023-12-18T16:09:41.080Z"
   },
   {
    "duration": 193,
    "start_time": "2023-12-18T16:09:41.361Z"
   },
   {
    "duration": 76,
    "start_time": "2023-12-18T16:09:41.555Z"
   },
   {
    "duration": 5,
    "start_time": "2023-12-18T16:14:01.114Z"
   },
   {
    "duration": 5,
    "start_time": "2023-12-18T16:14:09.595Z"
   },
   {
    "duration": 4,
    "start_time": "2023-12-18T16:14:15.162Z"
   },
   {
    "duration": 92,
    "start_time": "2023-12-18T16:14:40.441Z"
   },
   {
    "duration": 11,
    "start_time": "2023-12-18T16:16:35.974Z"
   },
   {
    "duration": 5,
    "start_time": "2023-12-18T16:16:58.341Z"
   },
   {
    "duration": 6,
    "start_time": "2023-12-18T16:17:20.910Z"
   },
   {
    "duration": 8,
    "start_time": "2023-12-18T16:17:36.541Z"
   },
   {
    "duration": 7,
    "start_time": "2023-12-18T16:18:20.721Z"
   },
   {
    "duration": 5,
    "start_time": "2023-12-18T16:18:47.044Z"
   },
   {
    "duration": 5,
    "start_time": "2023-12-18T16:18:55.143Z"
   },
   {
    "duration": 7,
    "start_time": "2023-12-18T16:18:58.818Z"
   },
   {
    "duration": 5,
    "start_time": "2023-12-18T16:20:15.224Z"
   },
   {
    "duration": 5,
    "start_time": "2023-12-18T16:20:23.954Z"
   },
   {
    "duration": 3,
    "start_time": "2023-12-18T16:20:26.224Z"
   },
   {
    "duration": 7,
    "start_time": "2023-12-18T16:20:50.613Z"
   },
   {
    "duration": 9,
    "start_time": "2023-12-18T16:21:09.794Z"
   },
   {
    "duration": 3,
    "start_time": "2023-12-18T16:21:34.552Z"
   },
   {
    "duration": 10,
    "start_time": "2023-12-18T16:21:51.048Z"
   },
   {
    "duration": 1185,
    "start_time": "2023-12-18T16:23:15.114Z"
   },
   {
    "duration": 12,
    "start_time": "2023-12-18T16:23:24.424Z"
   },
   {
    "duration": 4,
    "start_time": "2023-12-18T16:23:31.766Z"
   },
   {
    "duration": 4,
    "start_time": "2023-12-18T16:24:03.616Z"
   },
   {
    "duration": 5,
    "start_time": "2023-12-18T16:24:04.305Z"
   },
   {
    "duration": 5,
    "start_time": "2023-12-18T16:24:22.461Z"
   },
   {
    "duration": 8,
    "start_time": "2023-12-18T16:24:28.688Z"
   },
   {
    "duration": 8,
    "start_time": "2023-12-18T16:24:40.958Z"
   },
   {
    "duration": 5,
    "start_time": "2023-12-18T16:24:57.465Z"
   },
   {
    "duration": 4,
    "start_time": "2023-12-18T16:25:10.427Z"
   },
   {
    "duration": 5,
    "start_time": "2023-12-18T16:25:27.386Z"
   },
   {
    "duration": 5,
    "start_time": "2023-12-18T16:25:27.665Z"
   },
   {
    "duration": 4,
    "start_time": "2023-12-18T16:25:27.959Z"
   },
   {
    "duration": 10,
    "start_time": "2023-12-18T16:27:43.910Z"
   },
   {
    "duration": 6,
    "start_time": "2023-12-18T16:28:42.224Z"
   },
   {
    "duration": 6,
    "start_time": "2023-12-18T16:28:49.565Z"
   },
   {
    "duration": 10,
    "start_time": "2023-12-18T16:29:30.734Z"
   },
   {
    "duration": 65,
    "start_time": "2023-12-18T16:30:17.813Z"
   },
   {
    "duration": 13,
    "start_time": "2023-12-18T16:30:22.490Z"
   },
   {
    "duration": 12,
    "start_time": "2023-12-18T16:30:34.233Z"
   },
   {
    "duration": 8,
    "start_time": "2023-12-18T16:30:44.923Z"
   },
   {
    "duration": 12,
    "start_time": "2023-12-18T16:31:13.448Z"
   },
   {
    "duration": 6,
    "start_time": "2023-12-18T16:31:31.206Z"
   },
   {
    "duration": 4,
    "start_time": "2023-12-18T16:35:57.510Z"
   },
   {
    "duration": 4,
    "start_time": "2023-12-18T16:35:57.872Z"
   },
   {
    "duration": 4,
    "start_time": "2023-12-18T16:36:44.783Z"
   },
   {
    "duration": 6,
    "start_time": "2023-12-18T16:37:01.789Z"
   },
   {
    "duration": 4,
    "start_time": "2023-12-18T16:37:28.867Z"
   },
   {
    "duration": 1014,
    "start_time": "2023-12-18T16:38:12.026Z"
   },
   {
    "duration": 109,
    "start_time": "2023-12-18T16:38:13.042Z"
   },
   {
    "duration": 3,
    "start_time": "2023-12-18T16:38:13.153Z"
   },
   {
    "duration": 24,
    "start_time": "2023-12-18T16:38:13.158Z"
   },
   {
    "duration": 15,
    "start_time": "2023-12-18T16:38:13.183Z"
   },
   {
    "duration": 68,
    "start_time": "2023-12-18T16:38:13.199Z"
   },
   {
    "duration": 107,
    "start_time": "2023-12-18T16:38:13.269Z"
   },
   {
    "duration": 84,
    "start_time": "2023-12-18T16:38:13.377Z"
   },
   {
    "duration": 3,
    "start_time": "2023-12-18T16:38:13.462Z"
   },
   {
    "duration": 48,
    "start_time": "2023-12-18T16:38:13.467Z"
   },
   {
    "duration": 28,
    "start_time": "2023-12-18T16:38:13.516Z"
   },
   {
    "duration": 36,
    "start_time": "2023-12-18T16:38:13.547Z"
   },
   {
    "duration": 15,
    "start_time": "2023-12-18T16:38:13.584Z"
   },
   {
    "duration": 12,
    "start_time": "2023-12-18T16:38:13.601Z"
   },
   {
    "duration": 12,
    "start_time": "2023-12-18T16:38:13.614Z"
   },
   {
    "duration": 7,
    "start_time": "2023-12-18T16:38:13.627Z"
   },
   {
    "duration": 8,
    "start_time": "2023-12-18T16:38:13.635Z"
   },
   {
    "duration": 4,
    "start_time": "2023-12-18T16:38:13.644Z"
   },
   {
    "duration": 6,
    "start_time": "2023-12-18T16:38:13.650Z"
   },
   {
    "duration": 10,
    "start_time": "2023-12-18T16:38:13.657Z"
   },
   {
    "duration": 6,
    "start_time": "2023-12-18T16:38:13.669Z"
   },
   {
    "duration": 11,
    "start_time": "2023-12-18T16:38:13.676Z"
   },
   {
    "duration": 161,
    "start_time": "2023-12-18T16:38:13.688Z"
   },
   {
    "duration": 116,
    "start_time": "2023-12-18T16:38:13.850Z"
   },
   {
    "duration": 14,
    "start_time": "2023-12-18T16:38:13.968Z"
   },
   {
    "duration": 31,
    "start_time": "2023-12-18T16:38:13.983Z"
   },
   {
    "duration": 13,
    "start_time": "2023-12-18T16:38:14.015Z"
   },
   {
    "duration": 258,
    "start_time": "2023-12-18T16:38:14.031Z"
   },
   {
    "duration": 202,
    "start_time": "2023-12-18T16:38:14.291Z"
   },
   {
    "duration": 5,
    "start_time": "2023-12-18T16:38:34.338Z"
   },
   {
    "duration": 5,
    "start_time": "2023-12-18T16:40:51.932Z"
   },
   {
    "duration": 6,
    "start_time": "2023-12-18T16:41:34.241Z"
   },
   {
    "duration": 992,
    "start_time": "2023-12-18T16:42:18.945Z"
   },
   {
    "duration": 108,
    "start_time": "2023-12-18T16:42:19.939Z"
   },
   {
    "duration": 3,
    "start_time": "2023-12-18T16:42:20.049Z"
   },
   {
    "duration": 26,
    "start_time": "2023-12-18T16:42:20.053Z"
   },
   {
    "duration": 12,
    "start_time": "2023-12-18T16:42:20.081Z"
   },
   {
    "duration": 9,
    "start_time": "2023-12-18T16:42:20.095Z"
   },
   {
    "duration": 118,
    "start_time": "2023-12-18T16:42:20.105Z"
   },
   {
    "duration": 89,
    "start_time": "2023-12-18T16:42:20.224Z"
   },
   {
    "duration": 3,
    "start_time": "2023-12-18T16:42:20.314Z"
   },
   {
    "duration": 16,
    "start_time": "2023-12-18T16:42:20.319Z"
   },
   {
    "duration": 9,
    "start_time": "2023-12-18T16:42:20.337Z"
   },
   {
    "duration": 13,
    "start_time": "2023-12-18T16:42:20.348Z"
   },
   {
    "duration": 13,
    "start_time": "2023-12-18T16:42:20.362Z"
   },
   {
    "duration": 7,
    "start_time": "2023-12-18T16:42:20.377Z"
   },
   {
    "duration": 16,
    "start_time": "2023-12-18T16:42:20.385Z"
   },
   {
    "duration": 6,
    "start_time": "2023-12-18T16:42:20.402Z"
   },
   {
    "duration": 8,
    "start_time": "2023-12-18T16:42:20.409Z"
   },
   {
    "duration": 4,
    "start_time": "2023-12-18T16:42:20.418Z"
   },
   {
    "duration": 5,
    "start_time": "2023-12-18T16:42:20.423Z"
   },
   {
    "duration": 8,
    "start_time": "2023-12-18T16:42:20.430Z"
   },
   {
    "duration": 5,
    "start_time": "2023-12-18T16:42:20.453Z"
   },
   {
    "duration": 11,
    "start_time": "2023-12-18T16:42:20.459Z"
   },
   {
    "duration": 34,
    "start_time": "2023-12-18T16:42:20.471Z"
   },
   {
    "duration": 154,
    "start_time": "2023-12-18T16:42:20.507Z"
   },
   {
    "duration": 123,
    "start_time": "2023-12-18T16:42:20.663Z"
   },
   {
    "duration": 13,
    "start_time": "2023-12-18T16:42:20.787Z"
   },
   {
    "duration": 8,
    "start_time": "2023-12-18T16:42:20.801Z"
   },
   {
    "duration": 10,
    "start_time": "2023-12-18T16:42:20.851Z"
   },
   {
    "duration": 514,
    "start_time": "2023-12-18T16:42:20.862Z"
   },
   {
    "duration": 399,
    "start_time": "2023-12-18T16:42:21.377Z"
   },
   {
    "duration": 6,
    "start_time": "2023-12-18T16:43:19.271Z"
   },
   {
    "duration": 959,
    "start_time": "2023-12-18T16:43:34.702Z"
   },
   {
    "duration": 121,
    "start_time": "2023-12-18T16:43:35.663Z"
   },
   {
    "duration": 4,
    "start_time": "2023-12-18T16:43:35.785Z"
   },
   {
    "duration": 11,
    "start_time": "2023-12-18T16:43:35.790Z"
   },
   {
    "duration": 10,
    "start_time": "2023-12-18T16:43:35.802Z"
   },
   {
    "duration": 5,
    "start_time": "2023-12-18T16:43:35.813Z"
   },
   {
    "duration": 99,
    "start_time": "2023-12-18T16:43:35.819Z"
   },
   {
    "duration": 74,
    "start_time": "2023-12-18T16:43:35.919Z"
   },
   {
    "duration": 3,
    "start_time": "2023-12-18T16:43:35.994Z"
   },
   {
    "duration": 16,
    "start_time": "2023-12-18T16:43:35.999Z"
   },
   {
    "duration": 7,
    "start_time": "2023-12-18T16:43:36.016Z"
   },
   {
    "duration": 33,
    "start_time": "2023-12-18T16:43:36.024Z"
   },
   {
    "duration": 16,
    "start_time": "2023-12-18T16:43:36.059Z"
   },
   {
    "duration": 8,
    "start_time": "2023-12-18T16:43:36.077Z"
   },
   {
    "duration": 9,
    "start_time": "2023-12-18T16:43:36.086Z"
   },
   {
    "duration": 6,
    "start_time": "2023-12-18T16:43:36.096Z"
   },
   {
    "duration": 23,
    "start_time": "2023-12-18T16:43:36.103Z"
   },
   {
    "duration": 19,
    "start_time": "2023-12-18T16:43:36.127Z"
   },
   {
    "duration": 8,
    "start_time": "2023-12-18T16:43:36.147Z"
   },
   {
    "duration": 8,
    "start_time": "2023-12-18T16:43:36.157Z"
   },
   {
    "duration": 5,
    "start_time": "2023-12-18T16:43:36.166Z"
   },
   {
    "duration": 10,
    "start_time": "2023-12-18T16:43:36.173Z"
   },
   {
    "duration": 160,
    "start_time": "2023-12-18T16:43:36.184Z"
   },
   {
    "duration": 121,
    "start_time": "2023-12-18T16:43:36.346Z"
   },
   {
    "duration": 13,
    "start_time": "2023-12-18T16:43:36.469Z"
   },
   {
    "duration": 7,
    "start_time": "2023-12-18T16:43:36.484Z"
   },
   {
    "duration": 10,
    "start_time": "2023-12-18T16:43:36.492Z"
   },
   {
    "duration": 274,
    "start_time": "2023-12-18T16:43:36.505Z"
   },
   {
    "duration": 184,
    "start_time": "2023-12-18T16:43:36.780Z"
   },
   {
    "duration": 242,
    "start_time": "2023-12-18T16:45:30.648Z"
   },
   {
    "duration": 7,
    "start_time": "2023-12-18T16:46:04.107Z"
   },
   {
    "duration": 5,
    "start_time": "2023-12-18T16:46:16.235Z"
   },
   {
    "duration": 6,
    "start_time": "2023-12-18T16:47:12.962Z"
   },
   {
    "duration": 5,
    "start_time": "2023-12-18T16:47:34.009Z"
   },
   {
    "duration": 4,
    "start_time": "2023-12-18T16:47:47.767Z"
   },
   {
    "duration": 5,
    "start_time": "2023-12-18T16:47:49.761Z"
   },
   {
    "duration": 6,
    "start_time": "2023-12-18T16:48:10.201Z"
   },
   {
    "duration": 6,
    "start_time": "2023-12-18T16:48:31.116Z"
   },
   {
    "duration": 10,
    "start_time": "2023-12-18T16:48:57.284Z"
   },
   {
    "duration": 9,
    "start_time": "2023-12-18T16:48:58.408Z"
   },
   {
    "duration": 171,
    "start_time": "2023-12-18T16:49:00.314Z"
   },
   {
    "duration": 177,
    "start_time": "2023-12-18T16:49:03.811Z"
   },
   {
    "duration": 153,
    "start_time": "2023-12-18T16:49:07.864Z"
   },
   {
    "duration": 167,
    "start_time": "2023-12-18T16:49:24.479Z"
   },
   {
    "duration": 186,
    "start_time": "2023-12-18T16:49:50.666Z"
   },
   {
    "duration": 85,
    "start_time": "2023-12-18T16:51:36.290Z"
   },
   {
    "duration": 342,
    "start_time": "2023-12-18T16:51:57.363Z"
   },
   {
    "duration": 282,
    "start_time": "2023-12-18T16:53:01.441Z"
   },
   {
    "duration": 185,
    "start_time": "2023-12-18T16:57:35.701Z"
   },
   {
    "duration": 201,
    "start_time": "2023-12-18T16:58:19.530Z"
   },
   {
    "duration": 199,
    "start_time": "2023-12-18T16:59:43.807Z"
   },
   {
    "duration": 193,
    "start_time": "2023-12-18T16:59:49.500Z"
   },
   {
    "duration": 191,
    "start_time": "2023-12-18T16:59:56.256Z"
   },
   {
    "duration": 198,
    "start_time": "2023-12-18T17:00:09.732Z"
   },
   {
    "duration": 218,
    "start_time": "2023-12-18T17:00:17.955Z"
   },
   {
    "duration": 228,
    "start_time": "2023-12-18T17:04:26.806Z"
   },
   {
    "duration": 191,
    "start_time": "2023-12-18T17:05:12.000Z"
   },
   {
    "duration": 265,
    "start_time": "2023-12-18T17:05:15.517Z"
   },
   {
    "duration": 188,
    "start_time": "2023-12-18T17:05:19.861Z"
   },
   {
    "duration": 141,
    "start_time": "2023-12-18T17:05:34.940Z"
   },
   {
    "duration": 137,
    "start_time": "2023-12-18T17:05:40.806Z"
   },
   {
    "duration": 189,
    "start_time": "2023-12-18T17:05:51.590Z"
   },
   {
    "duration": 302,
    "start_time": "2023-12-18T17:06:07.458Z"
   },
   {
    "duration": 192,
    "start_time": "2023-12-18T17:06:35.752Z"
   },
   {
    "duration": 4,
    "start_time": "2023-12-18T17:11:39.016Z"
   },
   {
    "duration": 3,
    "start_time": "2023-12-18T17:11:43.275Z"
   },
   {
    "duration": 5,
    "start_time": "2023-12-18T17:12:01.874Z"
   },
   {
    "duration": 5,
    "start_time": "2023-12-18T17:12:11.444Z"
   },
   {
    "duration": 7,
    "start_time": "2023-12-18T17:13:31.448Z"
   },
   {
    "duration": 3,
    "start_time": "2023-12-18T17:13:37.308Z"
   },
   {
    "duration": 104,
    "start_time": "2023-12-18T17:13:38.223Z"
   },
   {
    "duration": 120,
    "start_time": "2023-12-18T17:14:03.642Z"
   },
   {
    "duration": 109,
    "start_time": "2023-12-18T17:14:11.472Z"
   },
   {
    "duration": 108,
    "start_time": "2023-12-18T17:14:21.543Z"
   },
   {
    "duration": 177,
    "start_time": "2023-12-18T17:14:28.243Z"
   },
   {
    "duration": 12,
    "start_time": "2023-12-18T17:18:01.516Z"
   },
   {
    "duration": 12,
    "start_time": "2023-12-18T17:18:08.703Z"
   },
   {
    "duration": 6,
    "start_time": "2023-12-18T17:18:25.137Z"
   },
   {
    "duration": 10,
    "start_time": "2023-12-18T17:18:33.119Z"
   },
   {
    "duration": 6,
    "start_time": "2023-12-18T17:20:00.484Z"
   },
   {
    "duration": 11,
    "start_time": "2023-12-18T17:20:05.731Z"
   },
   {
    "duration": 3,
    "start_time": "2023-12-18T17:21:00.379Z"
   },
   {
    "duration": 3,
    "start_time": "2023-12-18T17:22:55.072Z"
   },
   {
    "duration": 10,
    "start_time": "2023-12-18T17:23:24.277Z"
   },
   {
    "duration": 9,
    "start_time": "2023-12-18T17:23:31.335Z"
   },
   {
    "duration": 114,
    "start_time": "2023-12-18T17:23:37.831Z"
   },
   {
    "duration": 15,
    "start_time": "2023-12-18T17:25:11.683Z"
   },
   {
    "duration": 11,
    "start_time": "2023-12-18T17:25:33.135Z"
   },
   {
    "duration": 9,
    "start_time": "2023-12-18T17:25:47.523Z"
   },
   {
    "duration": 126,
    "start_time": "2023-12-18T17:26:58.868Z"
   },
   {
    "duration": 118,
    "start_time": "2023-12-18T17:27:08.034Z"
   },
   {
    "duration": 122,
    "start_time": "2023-12-18T17:27:17.782Z"
   },
   {
    "duration": 123,
    "start_time": "2023-12-18T17:27:23.258Z"
   },
   {
    "duration": 152,
    "start_time": "2023-12-18T17:27:46.227Z"
   },
   {
    "duration": 150,
    "start_time": "2023-12-18T17:27:54.967Z"
   },
   {
    "duration": 9,
    "start_time": "2023-12-18T17:31:14.928Z"
   },
   {
    "duration": 5,
    "start_time": "2023-12-18T17:31:50.183Z"
   },
   {
    "duration": 4,
    "start_time": "2023-12-18T17:32:18.224Z"
   },
   {
    "duration": 5,
    "start_time": "2023-12-18T17:32:51.767Z"
   },
   {
    "duration": 3,
    "start_time": "2023-12-18T17:33:12.551Z"
   },
   {
    "duration": 96,
    "start_time": "2023-12-18T17:33:26.812Z"
   },
   {
    "duration": 3,
    "start_time": "2023-12-18T17:33:33.980Z"
   },
   {
    "duration": 3,
    "start_time": "2023-12-18T17:34:21.911Z"
   },
   {
    "duration": 4,
    "start_time": "2023-12-18T17:38:24.159Z"
   },
   {
    "duration": 3,
    "start_time": "2023-12-18T17:38:24.653Z"
   },
   {
    "duration": 4,
    "start_time": "2023-12-18T17:38:30.887Z"
   },
   {
    "duration": 3,
    "start_time": "2023-12-18T17:38:31.668Z"
   },
   {
    "duration": 4,
    "start_time": "2023-12-18T17:38:38.980Z"
   },
   {
    "duration": 4,
    "start_time": "2023-12-18T17:38:39.988Z"
   },
   {
    "duration": 11,
    "start_time": "2023-12-18T17:41:58.810Z"
   },
   {
    "duration": 102,
    "start_time": "2023-12-18T17:43:01.272Z"
   },
   {
    "duration": 2,
    "start_time": "2023-12-18T17:43:50.218Z"
   },
   {
    "duration": 7,
    "start_time": "2023-12-18T17:44:01.514Z"
   },
   {
    "duration": 100,
    "start_time": "2023-12-18T17:44:05.856Z"
   },
   {
    "duration": 135,
    "start_time": "2023-12-18T17:45:47.050Z"
   },
   {
    "duration": 8,
    "start_time": "2023-12-18T17:49:04.731Z"
   },
   {
    "duration": 7,
    "start_time": "2023-12-18T17:49:48.082Z"
   },
   {
    "duration": 2,
    "start_time": "2023-12-18T17:49:50.433Z"
   },
   {
    "duration": 3,
    "start_time": "2023-12-18T17:49:50.675Z"
   },
   {
    "duration": 4,
    "start_time": "2023-12-18T17:50:05.940Z"
   },
   {
    "duration": 15,
    "start_time": "2023-12-18T17:51:43.776Z"
   },
   {
    "duration": 3,
    "start_time": "2023-12-18T17:51:50.298Z"
   },
   {
    "duration": 4,
    "start_time": "2023-12-18T17:51:52.302Z"
   },
   {
    "duration": 15,
    "start_time": "2023-12-18T18:36:07.278Z"
   },
   {
    "duration": 8,
    "start_time": "2023-12-18T18:36:27.200Z"
   },
   {
    "duration": 13,
    "start_time": "2023-12-18T18:37:54.843Z"
   },
   {
    "duration": 304,
    "start_time": "2023-12-18T18:38:39.944Z"
   },
   {
    "duration": 8,
    "start_time": "2023-12-18T18:39:04.154Z"
   },
   {
    "duration": 11,
    "start_time": "2023-12-18T18:39:06.687Z"
   },
   {
    "duration": 12,
    "start_time": "2023-12-18T18:39:12.728Z"
   },
   {
    "duration": 13,
    "start_time": "2023-12-18T18:39:31.292Z"
   },
   {
    "duration": 11,
    "start_time": "2023-12-18T18:40:07.748Z"
   },
   {
    "duration": 12,
    "start_time": "2023-12-18T18:40:34.381Z"
   },
   {
    "duration": 10,
    "start_time": "2023-12-18T18:46:23.903Z"
   },
   {
    "duration": 15,
    "start_time": "2023-12-18T18:47:27.291Z"
   },
   {
    "duration": 11,
    "start_time": "2023-12-18T18:47:36.942Z"
   },
   {
    "duration": 12,
    "start_time": "2023-12-18T18:48:01.577Z"
   },
   {
    "duration": 14,
    "start_time": "2023-12-18T18:48:02.163Z"
   },
   {
    "duration": 7,
    "start_time": "2023-12-18T18:48:34.697Z"
   },
   {
    "duration": 7,
    "start_time": "2023-12-18T18:48:37.995Z"
   },
   {
    "duration": 8,
    "start_time": "2023-12-18T18:48:59.022Z"
   },
   {
    "duration": 70,
    "start_time": "2023-12-18T18:53:39.345Z"
   },
   {
    "duration": 12,
    "start_time": "2023-12-18T18:53:52.908Z"
   },
   {
    "duration": 11,
    "start_time": "2023-12-18T18:54:05.628Z"
   },
   {
    "duration": 13,
    "start_time": "2023-12-18T18:54:21.811Z"
   },
   {
    "duration": 4,
    "start_time": "2023-12-18T18:54:34.687Z"
   },
   {
    "duration": 13,
    "start_time": "2023-12-18T18:54:48.025Z"
   },
   {
    "duration": 19,
    "start_time": "2023-12-18T18:55:04.341Z"
   },
   {
    "duration": 858,
    "start_time": "2023-12-18T18:57:12.802Z"
   },
   {
    "duration": 862,
    "start_time": "2023-12-18T18:57:46.959Z"
   },
   {
    "duration": 833,
    "start_time": "2023-12-18T18:58:34.832Z"
   },
   {
    "duration": 11,
    "start_time": "2023-12-18T18:58:59.041Z"
   },
   {
    "duration": 13,
    "start_time": "2023-12-18T18:59:08.509Z"
   },
   {
    "duration": 1014,
    "start_time": "2023-12-18T18:59:10.058Z"
   },
   {
    "duration": 999,
    "start_time": "2023-12-18T19:00:04.140Z"
   },
   {
    "duration": 4,
    "start_time": "2023-12-18T19:00:19.207Z"
   },
   {
    "duration": 3,
    "start_time": "2023-12-18T19:00:27.465Z"
   },
   {
    "duration": 7,
    "start_time": "2023-12-18T19:00:42.957Z"
   },
   {
    "duration": 9,
    "start_time": "2023-12-18T19:00:47.797Z"
   },
   {
    "duration": 16,
    "start_time": "2023-12-18T19:01:30.791Z"
   },
   {
    "duration": 873,
    "start_time": "2023-12-18T19:01:35.380Z"
   },
   {
    "duration": 879,
    "start_time": "2023-12-18T19:01:54.603Z"
   },
   {
    "duration": 18,
    "start_time": "2023-12-18T19:02:16.241Z"
   },
   {
    "duration": 43,
    "start_time": "2023-12-18T19:02:27.892Z"
   },
   {
    "duration": 53,
    "start_time": "2023-12-18T19:02:34.187Z"
   },
   {
    "duration": 17,
    "start_time": "2023-12-18T19:02:43.326Z"
   },
   {
    "duration": 53,
    "start_time": "2023-12-18T19:03:03.554Z"
   },
   {
    "duration": 20,
    "start_time": "2023-12-18T19:03:32.853Z"
   },
   {
    "duration": 16,
    "start_time": "2023-12-18T19:03:44.383Z"
   },
   {
    "duration": 19,
    "start_time": "2023-12-18T19:03:50.350Z"
   },
   {
    "duration": 45,
    "start_time": "2023-12-18T19:04:26.250Z"
   },
   {
    "duration": 13,
    "start_time": "2023-12-18T19:07:15.029Z"
   },
   {
    "duration": 11,
    "start_time": "2023-12-18T19:07:15.734Z"
   },
   {
    "duration": 9,
    "start_time": "2023-12-18T19:07:42.016Z"
   },
   {
    "duration": 19,
    "start_time": "2023-12-18T19:07:52.732Z"
   },
   {
    "duration": 42,
    "start_time": "2023-12-18T19:08:06.505Z"
   },
   {
    "duration": 50,
    "start_time": "2023-12-18T19:08:29.102Z"
   },
   {
    "duration": 43,
    "start_time": "2023-12-18T19:08:35.321Z"
   },
   {
    "duration": 47,
    "start_time": "2023-12-18T19:09:00.594Z"
   },
   {
    "duration": 46,
    "start_time": "2023-12-18T19:10:15.855Z"
   },
   {
    "duration": 46,
    "start_time": "2023-12-18T19:10:23.302Z"
   },
   {
    "duration": 11,
    "start_time": "2023-12-18T19:11:14.237Z"
   },
   {
    "duration": 7,
    "start_time": "2023-12-18T19:11:24.129Z"
   },
   {
    "duration": 11,
    "start_time": "2023-12-18T19:11:38.776Z"
   },
   {
    "duration": 24,
    "start_time": "2023-12-18T19:13:01.137Z"
   },
   {
    "duration": 16,
    "start_time": "2023-12-18T19:14:21.919Z"
   },
   {
    "duration": 22,
    "start_time": "2023-12-18T19:14:52.095Z"
   },
   {
    "duration": 20,
    "start_time": "2023-12-18T19:14:57.096Z"
   },
   {
    "duration": 22,
    "start_time": "2023-12-18T19:15:04.543Z"
   },
   {
    "duration": 1013,
    "start_time": "2023-12-18T19:15:12.059Z"
   },
   {
    "duration": 133,
    "start_time": "2023-12-18T19:15:13.073Z"
   },
   {
    "duration": 4,
    "start_time": "2023-12-18T19:15:13.207Z"
   },
   {
    "duration": 14,
    "start_time": "2023-12-18T19:15:13.212Z"
   },
   {
    "duration": 11,
    "start_time": "2023-12-18T19:15:13.227Z"
   },
   {
    "duration": 6,
    "start_time": "2023-12-18T19:15:13.240Z"
   },
   {
    "duration": 182,
    "start_time": "2023-12-18T19:15:13.247Z"
   },
   {
    "duration": 128,
    "start_time": "2023-12-18T19:15:13.431Z"
   },
   {
    "duration": 3,
    "start_time": "2023-12-18T19:15:13.560Z"
   },
   {
    "duration": 49,
    "start_time": "2023-12-18T19:15:13.564Z"
   },
   {
    "duration": 7,
    "start_time": "2023-12-18T19:15:13.614Z"
   },
   {
    "duration": 21,
    "start_time": "2023-12-18T19:15:13.622Z"
   },
   {
    "duration": 12,
    "start_time": "2023-12-18T19:15:13.645Z"
   },
   {
    "duration": 4,
    "start_time": "2023-12-18T19:15:13.660Z"
   },
   {
    "duration": 5,
    "start_time": "2023-12-18T19:15:13.665Z"
   },
   {
    "duration": 7,
    "start_time": "2023-12-18T19:15:13.671Z"
   },
   {
    "duration": 11,
    "start_time": "2023-12-18T19:15:13.679Z"
   },
   {
    "duration": 7,
    "start_time": "2023-12-18T19:15:13.691Z"
   },
   {
    "duration": 35,
    "start_time": "2023-12-18T19:15:13.699Z"
   },
   {
    "duration": 45,
    "start_time": "2023-12-18T19:15:13.736Z"
   },
   {
    "duration": 32,
    "start_time": "2023-12-18T19:15:13.782Z"
   },
   {
    "duration": 47,
    "start_time": "2023-12-18T19:15:13.815Z"
   },
   {
    "duration": 173,
    "start_time": "2023-12-18T19:15:13.863Z"
   },
   {
    "duration": 125,
    "start_time": "2023-12-18T19:15:14.037Z"
   },
   {
    "duration": 13,
    "start_time": "2023-12-18T19:15:14.163Z"
   },
   {
    "duration": 44,
    "start_time": "2023-12-18T19:15:14.177Z"
   },
   {
    "duration": 33,
    "start_time": "2023-12-18T19:15:14.222Z"
   },
   {
    "duration": 283,
    "start_time": "2023-12-18T19:15:14.256Z"
   },
   {
    "duration": 192,
    "start_time": "2023-12-18T19:15:14.541Z"
   },
   {
    "duration": 286,
    "start_time": "2023-12-18T19:15:14.734Z"
   },
   {
    "duration": 248,
    "start_time": "2023-12-18T19:15:15.022Z"
   },
   {
    "duration": 290,
    "start_time": "2023-12-18T19:15:15.272Z"
   },
   {
    "duration": 10,
    "start_time": "2023-12-18T19:15:15.564Z"
   },
   {
    "duration": 12,
    "start_time": "2023-12-18T19:15:15.576Z"
   },
   {
    "duration": 143,
    "start_time": "2023-12-18T19:15:15.589Z"
   },
   {
    "duration": 3,
    "start_time": "2023-12-18T19:15:15.734Z"
   },
   {
    "duration": 15,
    "start_time": "2023-12-18T19:15:15.738Z"
   },
   {
    "duration": 4,
    "start_time": "2023-12-18T19:15:15.754Z"
   },
   {
    "duration": 137,
    "start_time": "2023-12-18T19:15:15.759Z"
   },
   {
    "duration": 3,
    "start_time": "2023-12-18T19:15:15.898Z"
   },
   {
    "duration": 10,
    "start_time": "2023-12-18T19:15:15.905Z"
   },
   {
    "duration": 22,
    "start_time": "2023-12-18T19:15:15.916Z"
   },
   {
    "duration": 27,
    "start_time": "2023-12-18T19:15:15.940Z"
   },
   {
    "duration": 50,
    "start_time": "2023-12-18T19:15:15.970Z"
   },
   {
    "duration": 65,
    "start_time": "2023-12-18T19:15:16.022Z"
   },
   {
    "duration": 23,
    "start_time": "2023-12-18T19:15:16.088Z"
   },
   {
    "duration": 13,
    "start_time": "2023-12-18T19:15:16.113Z"
   },
   {
    "duration": 46,
    "start_time": "2023-12-18T19:15:16.127Z"
   },
   {
    "duration": 51,
    "start_time": "2023-12-18T19:15:16.174Z"
   },
   {
    "duration": 32,
    "start_time": "2023-12-18T19:15:16.226Z"
   },
   {
    "duration": 1033,
    "start_time": "2023-12-18T19:16:02.329Z"
   },
   {
    "duration": 104,
    "start_time": "2023-12-18T19:16:03.364Z"
   },
   {
    "duration": 3,
    "start_time": "2023-12-18T19:16:03.469Z"
   },
   {
    "duration": 11,
    "start_time": "2023-12-18T19:16:03.473Z"
   },
   {
    "duration": 10,
    "start_time": "2023-12-18T19:16:03.486Z"
   },
   {
    "duration": 10,
    "start_time": "2023-12-18T19:16:03.498Z"
   },
   {
    "duration": 104,
    "start_time": "2023-12-18T19:16:03.509Z"
   },
   {
    "duration": 78,
    "start_time": "2023-12-18T19:16:03.614Z"
   },
   {
    "duration": 3,
    "start_time": "2023-12-18T19:16:03.693Z"
   },
   {
    "duration": 13,
    "start_time": "2023-12-18T19:16:03.697Z"
   },
   {
    "duration": 9,
    "start_time": "2023-12-18T19:16:03.711Z"
   },
   {
    "duration": 11,
    "start_time": "2023-12-18T19:16:03.721Z"
   },
   {
    "duration": 8,
    "start_time": "2023-12-18T19:16:03.734Z"
   },
   {
    "duration": 4,
    "start_time": "2023-12-18T19:16:03.753Z"
   },
   {
    "duration": 12,
    "start_time": "2023-12-18T19:16:03.758Z"
   },
   {
    "duration": 8,
    "start_time": "2023-12-18T19:16:03.771Z"
   },
   {
    "duration": 11,
    "start_time": "2023-12-18T19:16:03.780Z"
   },
   {
    "duration": 6,
    "start_time": "2023-12-18T19:16:03.792Z"
   },
   {
    "duration": 8,
    "start_time": "2023-12-18T19:16:03.800Z"
   },
   {
    "duration": 7,
    "start_time": "2023-12-18T19:16:03.809Z"
   },
   {
    "duration": 6,
    "start_time": "2023-12-18T19:16:03.818Z"
   },
   {
    "duration": 22,
    "start_time": "2023-12-18T19:16:03.826Z"
   },
   {
    "duration": 160,
    "start_time": "2023-12-18T19:16:03.852Z"
   },
   {
    "duration": 121,
    "start_time": "2023-12-18T19:16:04.014Z"
   },
   {
    "duration": 21,
    "start_time": "2023-12-18T19:16:04.137Z"
   },
   {
    "duration": 9,
    "start_time": "2023-12-18T19:16:04.159Z"
   },
   {
    "duration": 8,
    "start_time": "2023-12-18T19:16:04.169Z"
   },
   {
    "duration": 282,
    "start_time": "2023-12-18T19:16:04.178Z"
   },
   {
    "duration": 203,
    "start_time": "2023-12-18T19:16:04.462Z"
   },
   {
    "duration": 288,
    "start_time": "2023-12-18T19:16:04.666Z"
   },
   {
    "duration": 223,
    "start_time": "2023-12-18T19:16:04.956Z"
   },
   {
    "duration": 259,
    "start_time": "2023-12-18T19:16:05.181Z"
   },
   {
    "duration": 18,
    "start_time": "2023-12-18T19:16:05.441Z"
   },
   {
    "duration": 16,
    "start_time": "2023-12-18T19:16:05.460Z"
   },
   {
    "duration": 160,
    "start_time": "2023-12-18T19:16:05.478Z"
   },
   {
    "duration": 3,
    "start_time": "2023-12-18T19:16:05.640Z"
   },
   {
    "duration": 4,
    "start_time": "2023-12-18T19:16:05.651Z"
   },
   {
    "duration": 16,
    "start_time": "2023-12-18T19:16:05.657Z"
   },
   {
    "duration": 139,
    "start_time": "2023-12-18T19:16:05.675Z"
   },
   {
    "duration": 3,
    "start_time": "2023-12-18T19:16:05.815Z"
   },
   {
    "duration": 11,
    "start_time": "2023-12-18T19:16:05.821Z"
   },
   {
    "duration": 19,
    "start_time": "2023-12-18T19:16:05.834Z"
   },
   {
    "duration": 21,
    "start_time": "2023-12-18T19:16:05.854Z"
   },
   {
    "duration": 47,
    "start_time": "2023-12-18T19:16:05.876Z"
   },
   {
    "duration": 52,
    "start_time": "2023-12-18T19:16:05.925Z"
   },
   {
    "duration": 10,
    "start_time": "2023-12-18T19:16:05.978Z"
   },
   {
    "duration": 9,
    "start_time": "2023-12-18T19:16:05.989Z"
   },
   {
    "duration": 59,
    "start_time": "2023-12-18T19:16:05.999Z"
   },
   {
    "duration": 44,
    "start_time": "2023-12-18T19:16:06.059Z"
   },
   {
    "duration": 22,
    "start_time": "2023-12-18T19:16:06.104Z"
   },
   {
    "duration": 22,
    "start_time": "2023-12-18T19:16:57.566Z"
   },
   {
    "duration": 453,
    "start_time": "2023-12-18T19:18:57.335Z"
   },
   {
    "duration": 371,
    "start_time": "2023-12-18T19:19:04.618Z"
   },
   {
    "duration": 49,
    "start_time": "2023-12-18T19:19:25.507Z"
   },
   {
    "duration": 47,
    "start_time": "2023-12-18T19:19:34.172Z"
   },
   {
    "duration": 31,
    "start_time": "2023-12-18T19:20:59.151Z"
   },
   {
    "duration": 26,
    "start_time": "2023-12-18T19:21:08.541Z"
   },
   {
    "duration": 9,
    "start_time": "2023-12-18T19:25:00.913Z"
   },
   {
    "duration": 7,
    "start_time": "2023-12-18T19:25:07.987Z"
   },
   {
    "duration": 4,
    "start_time": "2023-12-18T19:25:21.909Z"
   },
   {
    "duration": 6,
    "start_time": "2023-12-18T19:25:36.647Z"
   },
   {
    "duration": 5,
    "start_time": "2023-12-18T19:25:41.831Z"
   },
   {
    "duration": 4,
    "start_time": "2023-12-18T19:25:59.402Z"
   },
   {
    "duration": 48,
    "start_time": "2023-12-19T16:31:34.708Z"
   },
   {
    "duration": 1157,
    "start_time": "2023-12-19T16:31:39.377Z"
   },
   {
    "duration": 119,
    "start_time": "2023-12-19T16:31:40.536Z"
   },
   {
    "duration": 2,
    "start_time": "2023-12-19T16:31:40.657Z"
   },
   {
    "duration": 23,
    "start_time": "2023-12-19T16:31:40.661Z"
   },
   {
    "duration": 10,
    "start_time": "2023-12-19T16:31:40.685Z"
   },
   {
    "duration": 5,
    "start_time": "2023-12-19T16:31:40.696Z"
   },
   {
    "duration": 132,
    "start_time": "2023-12-19T16:31:40.703Z"
   },
   {
    "duration": 94,
    "start_time": "2023-12-19T16:31:40.836Z"
   },
   {
    "duration": 2,
    "start_time": "2023-12-19T16:31:40.932Z"
   },
   {
    "duration": 9,
    "start_time": "2023-12-19T16:31:40.936Z"
   },
   {
    "duration": 7,
    "start_time": "2023-12-19T16:31:40.946Z"
   },
   {
    "duration": 21,
    "start_time": "2023-12-19T16:31:40.954Z"
   },
   {
    "duration": 13,
    "start_time": "2023-12-19T16:31:40.976Z"
   },
   {
    "duration": 22,
    "start_time": "2023-12-19T16:31:40.990Z"
   },
   {
    "duration": 8,
    "start_time": "2023-12-19T16:31:41.014Z"
   },
   {
    "duration": 11,
    "start_time": "2023-12-19T16:31:41.024Z"
   },
   {
    "duration": 5,
    "start_time": "2023-12-19T16:31:41.036Z"
   },
   {
    "duration": 17,
    "start_time": "2023-12-19T16:31:41.043Z"
   },
   {
    "duration": 10,
    "start_time": "2023-12-19T16:31:41.062Z"
   },
   {
    "duration": 4,
    "start_time": "2023-12-19T16:31:41.073Z"
   },
   {
    "duration": 15,
    "start_time": "2023-12-19T16:31:41.078Z"
   },
   {
    "duration": 9,
    "start_time": "2023-12-19T16:31:41.094Z"
   },
   {
    "duration": 149,
    "start_time": "2023-12-19T16:31:41.104Z"
   },
   {
    "duration": 106,
    "start_time": "2023-12-19T16:31:41.254Z"
   },
   {
    "duration": 11,
    "start_time": "2023-12-19T16:31:41.362Z"
   },
   {
    "duration": 15,
    "start_time": "2023-12-19T16:31:41.374Z"
   },
   {
    "duration": 22,
    "start_time": "2023-12-19T16:31:41.390Z"
   },
   {
    "duration": 254,
    "start_time": "2023-12-19T16:31:41.415Z"
   },
   {
    "duration": 181,
    "start_time": "2023-12-19T16:31:41.670Z"
   },
   {
    "duration": 329,
    "start_time": "2023-12-19T16:31:41.852Z"
   },
   {
    "duration": 187,
    "start_time": "2023-12-19T16:31:42.182Z"
   },
   {
    "duration": 274,
    "start_time": "2023-12-19T16:31:42.370Z"
   },
   {
    "duration": 9,
    "start_time": "2023-12-19T16:31:42.645Z"
   },
   {
    "duration": 2,
    "start_time": "2023-12-19T16:31:42.656Z"
   },
   {
    "duration": 150,
    "start_time": "2023-12-19T16:31:42.660Z"
   },
   {
    "duration": 3,
    "start_time": "2023-12-19T16:31:42.811Z"
   },
   {
    "duration": 4,
    "start_time": "2023-12-19T16:31:42.816Z"
   },
   {
    "duration": 3,
    "start_time": "2023-12-19T16:31:42.822Z"
   },
   {
    "duration": 135,
    "start_time": "2023-12-19T16:31:42.826Z"
   },
   {
    "duration": 3,
    "start_time": "2023-12-19T16:31:42.962Z"
   },
   {
    "duration": 27,
    "start_time": "2023-12-19T16:31:42.967Z"
   },
   {
    "duration": 22,
    "start_time": "2023-12-19T16:31:42.996Z"
   },
   {
    "duration": 15,
    "start_time": "2023-12-19T16:31:43.019Z"
   },
   {
    "duration": 47,
    "start_time": "2023-12-19T16:31:43.035Z"
   },
   {
    "duration": 59,
    "start_time": "2023-12-19T16:31:43.084Z"
   },
   {
    "duration": 9,
    "start_time": "2023-12-19T16:31:43.145Z"
   },
   {
    "duration": 16,
    "start_time": "2023-12-19T16:31:43.156Z"
   },
   {
    "duration": 55,
    "start_time": "2023-12-19T16:31:43.173Z"
   },
   {
    "duration": 37,
    "start_time": "2023-12-19T16:31:43.229Z"
   },
   {
    "duration": 37,
    "start_time": "2023-12-19T16:31:43.268Z"
   },
   {
    "duration": 87,
    "start_time": "2023-12-19T16:31:43.306Z"
   },
   {
    "duration": 0,
    "start_time": "2023-12-19T16:31:43.394Z"
   },
   {
    "duration": 10,
    "start_time": "2023-12-19T16:31:47.329Z"
   },
   {
    "duration": 54,
    "start_time": "2023-12-19T16:32:50.244Z"
   },
   {
    "duration": 54,
    "start_time": "2023-12-19T16:33:32.186Z"
   },
   {
    "duration": 57,
    "start_time": "2023-12-19T16:33:47.827Z"
   },
   {
    "duration": 60,
    "start_time": "2023-12-19T16:34:10.388Z"
   },
   {
    "duration": 9,
    "start_time": "2023-12-19T16:39:34.993Z"
   },
   {
    "duration": 4,
    "start_time": "2023-12-19T16:39:40.683Z"
   },
   {
    "duration": 5,
    "start_time": "2023-12-19T16:39:46.681Z"
   },
   {
    "duration": 5,
    "start_time": "2023-12-19T16:44:57.676Z"
   },
   {
    "duration": 8,
    "start_time": "2023-12-19T16:45:17.691Z"
   },
   {
    "duration": 6,
    "start_time": "2023-12-19T16:45:56.454Z"
   },
   {
    "duration": 6,
    "start_time": "2023-12-19T16:46:03.331Z"
   },
   {
    "duration": 4,
    "start_time": "2023-12-19T16:47:51.511Z"
   },
   {
    "duration": 4,
    "start_time": "2023-12-19T16:48:16.236Z"
   },
   {
    "duration": 7,
    "start_time": "2023-12-19T16:50:34.314Z"
   },
   {
    "duration": 7,
    "start_time": "2023-12-19T16:50:56.891Z"
   },
   {
    "duration": 5,
    "start_time": "2023-12-19T16:51:03.415Z"
   },
   {
    "duration": 5,
    "start_time": "2023-12-19T16:51:08.050Z"
   },
   {
    "duration": 20,
    "start_time": "2023-12-19T16:51:33.527Z"
   },
   {
    "duration": 32,
    "start_time": "2023-12-19T16:57:01.257Z"
   },
   {
    "duration": 32,
    "start_time": "2023-12-19T16:58:58.740Z"
   },
   {
    "duration": 19,
    "start_time": "2023-12-19T16:59:21.522Z"
   },
   {
    "duration": 19,
    "start_time": "2023-12-19T16:59:52.276Z"
   },
   {
    "duration": 32,
    "start_time": "2023-12-19T17:00:11.563Z"
   },
   {
    "duration": 18,
    "start_time": "2023-12-19T17:04:47.573Z"
   },
   {
    "duration": 6,
    "start_time": "2023-12-19T17:12:23.638Z"
   },
   {
    "duration": 12,
    "start_time": "2023-12-19T17:14:11.545Z"
   },
   {
    "duration": 12,
    "start_time": "2023-12-19T17:14:42.320Z"
   },
   {
    "duration": 80,
    "start_time": "2023-12-19T17:19:06.434Z"
   },
   {
    "duration": 46,
    "start_time": "2023-12-20T17:59:15.691Z"
   },
   {
    "duration": 1137,
    "start_time": "2023-12-20T17:59:19.652Z"
   },
   {
    "duration": 163,
    "start_time": "2023-12-20T17:59:20.791Z"
   },
   {
    "duration": 3,
    "start_time": "2023-12-20T17:59:20.956Z"
   },
   {
    "duration": 15,
    "start_time": "2023-12-20T17:59:20.961Z"
   },
   {
    "duration": 13,
    "start_time": "2023-12-20T17:59:20.978Z"
   },
   {
    "duration": 6,
    "start_time": "2023-12-20T17:59:20.993Z"
   },
   {
    "duration": 165,
    "start_time": "2023-12-20T17:59:21.001Z"
   },
   {
    "duration": 175,
    "start_time": "2023-12-20T17:59:21.168Z"
   },
   {
    "duration": 3,
    "start_time": "2023-12-20T17:59:21.345Z"
   },
   {
    "duration": 29,
    "start_time": "2023-12-20T17:59:21.349Z"
   },
   {
    "duration": 7,
    "start_time": "2023-12-20T17:59:21.380Z"
   },
   {
    "duration": 11,
    "start_time": "2023-12-20T17:59:21.389Z"
   },
   {
    "duration": 24,
    "start_time": "2023-12-20T17:59:21.402Z"
   },
   {
    "duration": 13,
    "start_time": "2023-12-20T17:59:21.428Z"
   },
   {
    "duration": 21,
    "start_time": "2023-12-20T17:59:21.442Z"
   },
   {
    "duration": 5,
    "start_time": "2023-12-20T17:59:21.465Z"
   },
   {
    "duration": 7,
    "start_time": "2023-12-20T17:59:21.472Z"
   },
   {
    "duration": 6,
    "start_time": "2023-12-20T17:59:21.480Z"
   },
   {
    "duration": 4,
    "start_time": "2023-12-20T17:59:21.487Z"
   },
   {
    "duration": 4,
    "start_time": "2023-12-20T17:59:21.493Z"
   },
   {
    "duration": 14,
    "start_time": "2023-12-20T17:59:21.498Z"
   },
   {
    "duration": 11,
    "start_time": "2023-12-20T17:59:21.513Z"
   },
   {
    "duration": 176,
    "start_time": "2023-12-20T17:59:21.526Z"
   },
   {
    "duration": 130,
    "start_time": "2023-12-20T17:59:21.703Z"
   },
   {
    "duration": 15,
    "start_time": "2023-12-20T17:59:21.835Z"
   },
   {
    "duration": 9,
    "start_time": "2023-12-20T17:59:21.851Z"
   },
   {
    "duration": 8,
    "start_time": "2023-12-20T17:59:21.862Z"
   },
   {
    "duration": 545,
    "start_time": "2023-12-20T17:59:21.872Z"
   },
   {
    "duration": 415,
    "start_time": "2023-12-20T17:59:22.419Z"
   },
   {
    "duration": 510,
    "start_time": "2023-12-20T17:59:22.836Z"
   },
   {
    "duration": 330,
    "start_time": "2023-12-20T17:59:23.347Z"
   },
   {
    "duration": 322,
    "start_time": "2023-12-20T17:59:23.678Z"
   },
   {
    "duration": 17,
    "start_time": "2023-12-20T17:59:24.001Z"
   },
   {
    "duration": 2,
    "start_time": "2023-12-20T17:59:24.020Z"
   },
   {
    "duration": 159,
    "start_time": "2023-12-20T17:59:24.024Z"
   },
   {
    "duration": 3,
    "start_time": "2023-12-20T17:59:24.185Z"
   },
   {
    "duration": 14,
    "start_time": "2023-12-20T17:59:24.190Z"
   },
   {
    "duration": 8,
    "start_time": "2023-12-20T17:59:24.205Z"
   },
   {
    "duration": 145,
    "start_time": "2023-12-20T17:59:24.214Z"
   },
   {
    "duration": 3,
    "start_time": "2023-12-20T17:59:24.361Z"
   },
   {
    "duration": 3,
    "start_time": "2023-12-20T17:59:24.368Z"
   },
   {
    "duration": 15,
    "start_time": "2023-12-20T17:59:24.372Z"
   },
   {
    "duration": 32,
    "start_time": "2023-12-20T17:59:24.389Z"
   },
   {
    "duration": 52,
    "start_time": "2023-12-20T17:59:24.422Z"
   },
   {
    "duration": 56,
    "start_time": "2023-12-20T17:59:24.475Z"
   },
   {
    "duration": 15,
    "start_time": "2023-12-20T17:59:24.533Z"
   },
   {
    "duration": 10,
    "start_time": "2023-12-20T17:59:24.550Z"
   },
   {
    "duration": 67,
    "start_time": "2023-12-20T17:59:24.562Z"
   },
   {
    "duration": 45,
    "start_time": "2023-12-20T17:59:24.631Z"
   },
   {
    "duration": 47,
    "start_time": "2023-12-20T17:59:24.678Z"
   },
   {
    "duration": 60,
    "start_time": "2023-12-20T17:59:24.727Z"
   },
   {
    "duration": 78,
    "start_time": "2023-12-20T17:59:24.788Z"
   },
   {
    "duration": 6,
    "start_time": "2023-12-20T17:59:24.867Z"
   },
   {
    "duration": 6,
    "start_time": "2023-12-20T17:59:24.875Z"
   },
   {
    "duration": 51,
    "start_time": "2023-12-20T17:59:24.883Z"
   },
   {
    "duration": 11,
    "start_time": "2023-12-20T17:59:24.936Z"
   },
   {
    "duration": 13,
    "start_time": "2023-12-20T17:59:24.949Z"
   },
   {
    "duration": 9,
    "start_time": "2023-12-20T18:00:31.405Z"
   },
   {
    "duration": 5,
    "start_time": "2023-12-20T18:01:16.925Z"
   },
   {
    "duration": 6,
    "start_time": "2023-12-20T18:01:19.808Z"
   },
   {
    "duration": 5,
    "start_time": "2023-12-20T18:01:40.189Z"
   },
   {
    "duration": 6,
    "start_time": "2023-12-20T18:01:47.240Z"
   },
   {
    "duration": 8,
    "start_time": "2023-12-20T18:02:10.584Z"
   },
   {
    "duration": 8,
    "start_time": "2023-12-20T18:02:24.749Z"
   },
   {
    "duration": 6,
    "start_time": "2023-12-20T18:02:46.911Z"
   },
   {
    "duration": 6,
    "start_time": "2023-12-20T18:02:56.277Z"
   },
   {
    "duration": 5,
    "start_time": "2023-12-20T18:03:00.385Z"
   },
   {
    "duration": 6,
    "start_time": "2023-12-20T18:03:17.154Z"
   },
   {
    "duration": 9,
    "start_time": "2023-12-20T18:03:22.865Z"
   },
   {
    "duration": 8,
    "start_time": "2023-12-20T18:03:48.780Z"
   },
   {
    "duration": 11,
    "start_time": "2023-12-20T18:03:54.890Z"
   },
   {
    "duration": 11,
    "start_time": "2023-12-20T18:04:58.698Z"
   },
   {
    "duration": 1262,
    "start_time": "2023-12-20T18:05:23.017Z"
   },
   {
    "duration": 5,
    "start_time": "2023-12-20T18:05:29.510Z"
   },
   {
    "duration": 81,
    "start_time": "2023-12-20T18:05:40.695Z"
   },
   {
    "duration": 13,
    "start_time": "2023-12-20T18:05:44.099Z"
   },
   {
    "duration": 13,
    "start_time": "2023-12-20T18:07:42.828Z"
   },
   {
    "duration": 5,
    "start_time": "2023-12-20T18:16:39.835Z"
   },
   {
    "duration": 6,
    "start_time": "2023-12-20T18:16:40.311Z"
   },
   {
    "duration": 11,
    "start_time": "2023-12-20T18:16:41.552Z"
   },
   {
    "duration": 4,
    "start_time": "2023-12-20T18:17:14.720Z"
   },
   {
    "duration": 8,
    "start_time": "2023-12-20T18:17:18.860Z"
   },
   {
    "duration": 74,
    "start_time": "2023-12-20T18:22:58.782Z"
   },
   {
    "duration": 8,
    "start_time": "2023-12-20T18:23:11.404Z"
   },
   {
    "duration": 7,
    "start_time": "2023-12-20T18:23:21.356Z"
   },
   {
    "duration": 7,
    "start_time": "2023-12-20T18:23:30.649Z"
   },
   {
    "duration": 7,
    "start_time": "2023-12-20T18:23:34.117Z"
   },
   {
    "duration": 8,
    "start_time": "2023-12-20T18:23:44.073Z"
   },
   {
    "duration": 58,
    "start_time": "2023-12-20T18:25:05.638Z"
   },
   {
    "duration": 60,
    "start_time": "2023-12-20T18:26:51.477Z"
   },
   {
    "duration": 67,
    "start_time": "2023-12-20T18:27:37.006Z"
   },
   {
    "duration": 77,
    "start_time": "2023-12-20T18:30:45.453Z"
   },
   {
    "duration": 5,
    "start_time": "2023-12-20T18:30:48.418Z"
   },
   {
    "duration": 11,
    "start_time": "2023-12-20T18:30:59.181Z"
   },
   {
    "duration": 1107,
    "start_time": "2023-12-20T18:33:05.719Z"
   },
   {
    "duration": 1183,
    "start_time": "2023-12-20T18:34:09.427Z"
   },
   {
    "duration": 9,
    "start_time": "2023-12-20T18:34:18.956Z"
   },
   {
    "duration": 69,
    "start_time": "2023-12-20T18:34:48.081Z"
   },
   {
    "duration": 87,
    "start_time": "2023-12-20T18:34:50.191Z"
   },
   {
    "duration": 5,
    "start_time": "2023-12-20T18:34:51.501Z"
   },
   {
    "duration": 5,
    "start_time": "2023-12-20T18:35:02.732Z"
   },
   {
    "duration": 1219,
    "start_time": "2023-12-20T18:35:40.167Z"
   },
   {
    "duration": 94,
    "start_time": "2023-12-20T18:35:56.351Z"
   },
   {
    "duration": 6,
    "start_time": "2023-12-20T18:35:57.647Z"
   },
   {
    "duration": 6,
    "start_time": "2023-12-20T18:35:58.037Z"
   },
   {
    "duration": 4,
    "start_time": "2023-12-20T18:36:15.421Z"
   },
   {
    "duration": 4,
    "start_time": "2023-12-20T18:36:23.755Z"
   },
   {
    "duration": 25,
    "start_time": "2023-12-20T18:37:55.857Z"
   },
   {
    "duration": 24,
    "start_time": "2023-12-20T18:38:51.538Z"
   },
   {
    "duration": 24,
    "start_time": "2023-12-20T18:39:46.894Z"
   },
   {
    "duration": 10,
    "start_time": "2023-12-20T18:50:23.679Z"
   },
   {
    "duration": 11,
    "start_time": "2023-12-20T18:53:34.465Z"
   },
   {
    "duration": 13,
    "start_time": "2023-12-20T18:55:09.719Z"
   },
   {
    "duration": 14,
    "start_time": "2023-12-20T18:56:28.868Z"
   },
   {
    "duration": 10,
    "start_time": "2023-12-20T18:56:54.563Z"
   },
   {
    "duration": 66,
    "start_time": "2023-12-20T18:57:31.865Z"
   },
   {
    "duration": 14,
    "start_time": "2023-12-20T18:57:38.690Z"
   },
   {
    "duration": 15,
    "start_time": "2023-12-20T19:17:21.804Z"
   },
   {
    "duration": 11,
    "start_time": "2023-12-20T19:37:23.454Z"
   },
   {
    "duration": 4,
    "start_time": "2023-12-20T19:39:55.086Z"
   },
   {
    "duration": 21,
    "start_time": "2023-12-20T19:40:15.689Z"
   },
   {
    "duration": 12,
    "start_time": "2023-12-20T19:40:28.392Z"
   },
   {
    "duration": 149,
    "start_time": "2023-12-20T19:40:48.004Z"
   },
   {
    "duration": 172,
    "start_time": "2023-12-20T19:41:17.932Z"
   },
   {
    "duration": 1033,
    "start_time": "2023-12-20T19:41:38.195Z"
   },
   {
    "duration": 230,
    "start_time": "2023-12-20T19:41:39.230Z"
   },
   {
    "duration": 3,
    "start_time": "2023-12-20T19:41:39.461Z"
   },
   {
    "duration": 12,
    "start_time": "2023-12-20T19:41:39.466Z"
   },
   {
    "duration": 10,
    "start_time": "2023-12-20T19:41:39.480Z"
   },
   {
    "duration": 5,
    "start_time": "2023-12-20T19:41:39.492Z"
   },
   {
    "duration": 133,
    "start_time": "2023-12-20T19:41:39.498Z"
   },
   {
    "duration": 98,
    "start_time": "2023-12-20T19:41:39.632Z"
   },
   {
    "duration": 2,
    "start_time": "2023-12-20T19:41:39.732Z"
   },
   {
    "duration": 11,
    "start_time": "2023-12-20T19:41:39.736Z"
   },
   {
    "duration": 8,
    "start_time": "2023-12-20T19:41:39.749Z"
   },
   {
    "duration": 10,
    "start_time": "2023-12-20T19:41:39.758Z"
   },
   {
    "duration": 9,
    "start_time": "2023-12-20T19:41:39.769Z"
   },
   {
    "duration": 6,
    "start_time": "2023-12-20T19:41:39.811Z"
   },
   {
    "duration": 7,
    "start_time": "2023-12-20T19:41:39.818Z"
   },
   {
    "duration": 3,
    "start_time": "2023-12-20T19:41:39.827Z"
   },
   {
    "duration": 9,
    "start_time": "2023-12-20T19:41:39.831Z"
   },
   {
    "duration": 12,
    "start_time": "2023-12-20T19:41:39.841Z"
   },
   {
    "duration": 9,
    "start_time": "2023-12-20T19:41:39.854Z"
   },
   {
    "duration": 4,
    "start_time": "2023-12-20T19:41:39.865Z"
   },
   {
    "duration": 14,
    "start_time": "2023-12-20T19:41:39.871Z"
   },
   {
    "duration": 35,
    "start_time": "2023-12-20T19:41:39.886Z"
   },
   {
    "duration": 169,
    "start_time": "2023-12-20T19:41:39.922Z"
   },
   {
    "duration": 125,
    "start_time": "2023-12-20T19:41:40.092Z"
   },
   {
    "duration": 12,
    "start_time": "2023-12-20T19:41:40.219Z"
   },
   {
    "duration": 8,
    "start_time": "2023-12-20T19:41:40.233Z"
   },
   {
    "duration": 16,
    "start_time": "2023-12-20T19:41:40.242Z"
   },
   {
    "duration": 280,
    "start_time": "2023-12-20T19:41:40.260Z"
   },
   {
    "duration": 201,
    "start_time": "2023-12-20T19:41:40.542Z"
   },
   {
    "duration": 292,
    "start_time": "2023-12-20T19:41:40.744Z"
   },
   {
    "duration": 215,
    "start_time": "2023-12-20T19:41:41.037Z"
   },
   {
    "duration": 262,
    "start_time": "2023-12-20T19:41:41.254Z"
   },
   {
    "duration": 11,
    "start_time": "2023-12-20T19:41:41.518Z"
   },
   {
    "duration": 3,
    "start_time": "2023-12-20T19:41:41.530Z"
   },
   {
    "duration": 164,
    "start_time": "2023-12-20T19:41:41.534Z"
   },
   {
    "duration": 3,
    "start_time": "2023-12-20T19:41:41.700Z"
   },
   {
    "duration": 9,
    "start_time": "2023-12-20T19:41:41.711Z"
   },
   {
    "duration": 7,
    "start_time": "2023-12-20T19:41:41.721Z"
   },
   {
    "duration": 141,
    "start_time": "2023-12-20T19:41:41.730Z"
   },
   {
    "duration": 3,
    "start_time": "2023-12-20T19:41:41.872Z"
   },
   {
    "duration": 3,
    "start_time": "2023-12-20T19:41:41.879Z"
   },
   {
    "duration": 38,
    "start_time": "2023-12-20T19:41:41.883Z"
   },
   {
    "duration": 19,
    "start_time": "2023-12-20T19:41:41.923Z"
   },
   {
    "duration": 52,
    "start_time": "2023-12-20T19:41:41.944Z"
   },
   {
    "duration": 51,
    "start_time": "2023-12-20T19:41:42.011Z"
   },
   {
    "duration": 12,
    "start_time": "2023-12-20T19:41:42.063Z"
   },
   {
    "duration": 10,
    "start_time": "2023-12-20T19:41:42.077Z"
   },
   {
    "duration": 45,
    "start_time": "2023-12-20T19:41:42.111Z"
   },
   {
    "duration": 64,
    "start_time": "2023-12-20T19:41:42.158Z"
   },
   {
    "duration": 33,
    "start_time": "2023-12-20T19:41:42.224Z"
   },
   {
    "duration": 73,
    "start_time": "2023-12-20T19:41:42.258Z"
   },
   {
    "duration": 81,
    "start_time": "2023-12-20T19:41:42.332Z"
   },
   {
    "duration": 7,
    "start_time": "2023-12-20T19:41:42.414Z"
   },
   {
    "duration": 8,
    "start_time": "2023-12-20T19:41:42.422Z"
   },
   {
    "duration": 23,
    "start_time": "2023-12-20T19:41:42.431Z"
   },
   {
    "duration": 10,
    "start_time": "2023-12-20T19:41:42.455Z"
   },
   {
    "duration": 6,
    "start_time": "2023-12-20T19:41:42.466Z"
   },
   {
    "duration": 38,
    "start_time": "2023-12-20T19:41:42.473Z"
   },
   {
    "duration": 56,
    "start_time": "2023-12-20T19:41:42.512Z"
   },
   {
    "duration": 82,
    "start_time": "2023-12-20T19:41:42.569Z"
   },
   {
    "duration": 5,
    "start_time": "2023-12-20T19:41:42.653Z"
   },
   {
    "duration": 6,
    "start_time": "2023-12-20T19:41:42.660Z"
   },
   {
    "duration": 23,
    "start_time": "2023-12-20T19:41:42.667Z"
   },
   {
    "duration": 9,
    "start_time": "2023-12-20T19:41:42.692Z"
   },
   {
    "duration": 31,
    "start_time": "2023-12-20T19:41:42.702Z"
   },
   {
    "duration": 13,
    "start_time": "2023-12-20T19:41:42.734Z"
   },
   {
    "duration": 13,
    "start_time": "2023-12-20T19:41:42.748Z"
   },
   {
    "duration": 175,
    "start_time": "2023-12-20T19:41:42.763Z"
   },
   {
    "duration": 13,
    "start_time": "2023-12-20T19:41:42.940Z"
   },
   {
    "duration": 10,
    "start_time": "2023-12-20T19:41:42.954Z"
   },
   {
    "duration": 267,
    "start_time": "2023-12-20T19:41:42.966Z"
   },
   {
    "duration": 13,
    "start_time": "2023-12-20T19:42:07.071Z"
   },
   {
    "duration": 14,
    "start_time": "2023-12-20T19:42:15.559Z"
   },
   {
    "duration": 10,
    "start_time": "2023-12-20T19:43:58.573Z"
   },
   {
    "duration": 9,
    "start_time": "2023-12-20T19:44:11.488Z"
   },
   {
    "duration": 91,
    "start_time": "2023-12-20T19:44:30.456Z"
   },
   {
    "duration": 11,
    "start_time": "2023-12-20T19:44:36.122Z"
   },
   {
    "duration": 10,
    "start_time": "2023-12-20T19:44:47.185Z"
   },
   {
    "duration": 9,
    "start_time": "2023-12-20T19:45:47.406Z"
   },
   {
    "duration": 378,
    "start_time": "2023-12-20T19:46:33.321Z"
   },
   {
    "duration": 46,
    "start_time": "2023-12-21T17:45:33.278Z"
   },
   {
    "duration": 1170,
    "start_time": "2023-12-21T17:45:38.746Z"
   },
   {
    "duration": 135,
    "start_time": "2023-12-21T17:45:39.918Z"
   },
   {
    "duration": 3,
    "start_time": "2023-12-21T17:45:40.055Z"
   },
   {
    "duration": 37,
    "start_time": "2023-12-21T17:45:40.059Z"
   },
   {
    "duration": 20,
    "start_time": "2023-12-21T17:45:40.098Z"
   },
   {
    "duration": 10,
    "start_time": "2023-12-21T17:45:40.120Z"
   },
   {
    "duration": 124,
    "start_time": "2023-12-21T17:45:40.131Z"
   },
   {
    "duration": 108,
    "start_time": "2023-12-21T17:45:40.256Z"
   },
   {
    "duration": 3,
    "start_time": "2023-12-21T17:45:40.366Z"
   },
   {
    "duration": 20,
    "start_time": "2023-12-21T17:45:40.372Z"
   },
   {
    "duration": 39,
    "start_time": "2023-12-21T17:45:40.394Z"
   },
   {
    "duration": 24,
    "start_time": "2023-12-21T17:45:40.434Z"
   },
   {
    "duration": 34,
    "start_time": "2023-12-21T17:45:40.460Z"
   },
   {
    "duration": 24,
    "start_time": "2023-12-21T17:45:40.495Z"
   },
   {
    "duration": 23,
    "start_time": "2023-12-21T17:45:40.521Z"
   },
   {
    "duration": 22,
    "start_time": "2023-12-21T17:45:40.545Z"
   },
   {
    "duration": 24,
    "start_time": "2023-12-21T17:45:40.568Z"
   },
   {
    "duration": 29,
    "start_time": "2023-12-21T17:45:40.593Z"
   },
   {
    "duration": 5,
    "start_time": "2023-12-21T17:45:40.624Z"
   },
   {
    "duration": 10,
    "start_time": "2023-12-21T17:45:40.630Z"
   },
   {
    "duration": 6,
    "start_time": "2023-12-21T17:45:40.641Z"
   },
   {
    "duration": 12,
    "start_time": "2023-12-21T17:45:40.648Z"
   },
   {
    "duration": 194,
    "start_time": "2023-12-21T17:45:40.661Z"
   },
   {
    "duration": 126,
    "start_time": "2023-12-21T17:45:40.857Z"
   },
   {
    "duration": 15,
    "start_time": "2023-12-21T17:45:40.985Z"
   },
   {
    "duration": 44,
    "start_time": "2023-12-21T17:45:41.002Z"
   },
   {
    "duration": 22,
    "start_time": "2023-12-21T17:45:41.048Z"
   },
   {
    "duration": 286,
    "start_time": "2023-12-21T17:45:41.074Z"
   },
   {
    "duration": 234,
    "start_time": "2023-12-21T17:45:41.362Z"
   },
   {
    "duration": 356,
    "start_time": "2023-12-21T17:45:41.598Z"
   },
   {
    "duration": 216,
    "start_time": "2023-12-21T17:45:41.956Z"
   },
   {
    "duration": 266,
    "start_time": "2023-12-21T17:45:42.174Z"
   },
   {
    "duration": 11,
    "start_time": "2023-12-21T17:45:42.441Z"
   },
   {
    "duration": 2,
    "start_time": "2023-12-21T17:45:42.454Z"
   },
   {
    "duration": 172,
    "start_time": "2023-12-21T17:45:42.458Z"
   },
   {
    "duration": 3,
    "start_time": "2023-12-21T17:45:42.632Z"
   },
   {
    "duration": 4,
    "start_time": "2023-12-21T17:45:42.637Z"
   },
   {
    "duration": 3,
    "start_time": "2023-12-21T17:45:42.642Z"
   },
   {
    "duration": 167,
    "start_time": "2023-12-21T17:45:42.647Z"
   },
   {
    "duration": 7,
    "start_time": "2023-12-21T17:45:42.816Z"
   },
   {
    "duration": 10,
    "start_time": "2023-12-21T17:45:42.825Z"
   },
   {
    "duration": 21,
    "start_time": "2023-12-21T17:45:42.836Z"
   },
   {
    "duration": 41,
    "start_time": "2023-12-21T17:45:42.858Z"
   },
   {
    "duration": 49,
    "start_time": "2023-12-21T17:45:42.901Z"
   },
   {
    "duration": 49,
    "start_time": "2023-12-21T17:45:42.952Z"
   },
   {
    "duration": 25,
    "start_time": "2023-12-21T17:45:43.003Z"
   },
   {
    "duration": 23,
    "start_time": "2023-12-21T17:45:43.030Z"
   },
   {
    "duration": 47,
    "start_time": "2023-12-21T17:45:43.055Z"
   },
   {
    "duration": 50,
    "start_time": "2023-12-21T17:45:43.104Z"
   },
   {
    "duration": 26,
    "start_time": "2023-12-21T17:45:43.155Z"
   },
   {
    "duration": 72,
    "start_time": "2023-12-21T17:45:43.182Z"
   },
   {
    "duration": 87,
    "start_time": "2023-12-21T17:45:43.256Z"
   },
   {
    "duration": 6,
    "start_time": "2023-12-21T17:45:43.344Z"
   },
   {
    "duration": 11,
    "start_time": "2023-12-21T17:45:43.351Z"
   },
   {
    "duration": 23,
    "start_time": "2023-12-21T17:45:43.364Z"
   },
   {
    "duration": 36,
    "start_time": "2023-12-21T17:45:43.389Z"
   },
   {
    "duration": 8,
    "start_time": "2023-12-21T17:45:43.426Z"
   },
   {
    "duration": 13,
    "start_time": "2023-12-21T17:45:43.435Z"
   },
   {
    "duration": 83,
    "start_time": "2023-12-21T17:45:43.450Z"
   },
   {
    "duration": 98,
    "start_time": "2023-12-21T17:45:43.535Z"
   },
   {
    "duration": 6,
    "start_time": "2023-12-21T17:45:43.634Z"
   },
   {
    "duration": 4,
    "start_time": "2023-12-21T17:45:43.642Z"
   },
   {
    "duration": 7,
    "start_time": "2023-12-21T17:45:43.648Z"
   },
   {
    "duration": 8,
    "start_time": "2023-12-21T17:45:43.656Z"
   },
   {
    "duration": 27,
    "start_time": "2023-12-21T17:45:43.666Z"
   },
   {
    "duration": 41,
    "start_time": "2023-12-21T17:45:43.694Z"
   },
   {
    "duration": 20,
    "start_time": "2023-12-21T17:45:43.737Z"
   },
   {
    "duration": 180,
    "start_time": "2023-12-21T17:45:43.758Z"
   },
   {
    "duration": 15,
    "start_time": "2023-12-21T17:45:43.940Z"
   },
   {
    "duration": 10,
    "start_time": "2023-12-21T17:45:43.956Z"
   },
   {
    "duration": 18,
    "start_time": "2023-12-21T17:45:43.967Z"
   },
   {
    "duration": 352,
    "start_time": "2023-12-21T17:45:43.987Z"
   },
   {
    "duration": 1321,
    "start_time": "2023-12-21T17:45:44.340Z"
   },
   {
    "duration": 4,
    "start_time": "2023-12-21T17:46:08.338Z"
   },
   {
    "duration": 10,
    "start_time": "2023-12-21T17:51:43.272Z"
   },
   {
    "duration": 8,
    "start_time": "2023-12-21T17:52:10.755Z"
   },
   {
    "duration": 16,
    "start_time": "2023-12-21T17:52:27.890Z"
   },
   {
    "duration": 12,
    "start_time": "2023-12-21T17:52:47.738Z"
   },
   {
    "duration": 4,
    "start_time": "2023-12-21T17:53:07.131Z"
   },
   {
    "duration": 5,
    "start_time": "2023-12-21T17:53:19.716Z"
   },
   {
    "duration": 866,
    "start_time": "2023-12-21T17:53:36.546Z"
   },
   {
    "duration": 6,
    "start_time": "2023-12-21T17:53:56.578Z"
   },
   {
    "duration": 8,
    "start_time": "2023-12-21T17:54:00.451Z"
   },
   {
    "duration": 6,
    "start_time": "2023-12-21T17:54:36.566Z"
   },
   {
    "duration": 8,
    "start_time": "2023-12-21T17:59:17.034Z"
   },
   {
    "duration": 5,
    "start_time": "2023-12-21T17:59:17.575Z"
   },
   {
    "duration": 1055,
    "start_time": "2023-12-21T17:59:49.316Z"
   },
   {
    "duration": 111,
    "start_time": "2023-12-21T17:59:50.373Z"
   },
   {
    "duration": 4,
    "start_time": "2023-12-21T17:59:50.485Z"
   },
   {
    "duration": 31,
    "start_time": "2023-12-21T17:59:50.490Z"
   },
   {
    "duration": 30,
    "start_time": "2023-12-21T17:59:50.523Z"
   },
   {
    "duration": 30,
    "start_time": "2023-12-21T17:59:50.554Z"
   },
   {
    "duration": 128,
    "start_time": "2023-12-21T17:59:50.586Z"
   },
   {
    "duration": 83,
    "start_time": "2023-12-21T17:59:50.716Z"
   },
   {
    "duration": 3,
    "start_time": "2023-12-21T17:59:50.800Z"
   },
   {
    "duration": 17,
    "start_time": "2023-12-21T17:59:50.804Z"
   },
   {
    "duration": 11,
    "start_time": "2023-12-21T17:59:50.823Z"
   },
   {
    "duration": 42,
    "start_time": "2023-12-21T17:59:50.835Z"
   },
   {
    "duration": 39,
    "start_time": "2023-12-21T17:59:50.879Z"
   },
   {
    "duration": 15,
    "start_time": "2023-12-21T17:59:50.920Z"
   },
   {
    "duration": 7,
    "start_time": "2023-12-21T17:59:50.936Z"
   },
   {
    "duration": 10,
    "start_time": "2023-12-21T17:59:50.945Z"
   },
   {
    "duration": 10,
    "start_time": "2023-12-21T17:59:50.956Z"
   },
   {
    "duration": 23,
    "start_time": "2023-12-21T17:59:50.967Z"
   },
   {
    "duration": 17,
    "start_time": "2023-12-21T17:59:50.992Z"
   },
   {
    "duration": 25,
    "start_time": "2023-12-21T17:59:51.010Z"
   },
   {
    "duration": 26,
    "start_time": "2023-12-21T17:59:51.036Z"
   },
   {
    "duration": 24,
    "start_time": "2023-12-21T17:59:51.064Z"
   },
   {
    "duration": 166,
    "start_time": "2023-12-21T17:59:51.089Z"
   },
   {
    "duration": 129,
    "start_time": "2023-12-21T17:59:51.257Z"
   },
   {
    "duration": 14,
    "start_time": "2023-12-21T17:59:51.387Z"
   },
   {
    "duration": 26,
    "start_time": "2023-12-21T17:59:51.403Z"
   },
   {
    "duration": 27,
    "start_time": "2023-12-21T17:59:51.431Z"
   },
   {
    "duration": 340,
    "start_time": "2023-12-21T17:59:51.460Z"
   },
   {
    "duration": 221,
    "start_time": "2023-12-21T17:59:51.802Z"
   },
   {
    "duration": 307,
    "start_time": "2023-12-21T17:59:52.024Z"
   },
   {
    "duration": 216,
    "start_time": "2023-12-21T17:59:52.333Z"
   },
   {
    "duration": 284,
    "start_time": "2023-12-21T17:59:52.551Z"
   },
   {
    "duration": 11,
    "start_time": "2023-12-21T17:59:52.836Z"
   },
   {
    "duration": 4,
    "start_time": "2023-12-21T17:59:52.848Z"
   },
   {
    "duration": 171,
    "start_time": "2023-12-21T17:59:52.853Z"
   },
   {
    "duration": 3,
    "start_time": "2023-12-21T17:59:53.026Z"
   },
   {
    "duration": 16,
    "start_time": "2023-12-21T17:59:53.030Z"
   },
   {
    "duration": 5,
    "start_time": "2023-12-21T17:59:53.047Z"
   },
   {
    "duration": 145,
    "start_time": "2023-12-21T17:59:53.053Z"
   },
   {
    "duration": 4,
    "start_time": "2023-12-21T17:59:53.199Z"
   },
   {
    "duration": 13,
    "start_time": "2023-12-21T17:59:53.207Z"
   },
   {
    "duration": 19,
    "start_time": "2023-12-21T17:59:53.222Z"
   },
   {
    "duration": 17,
    "start_time": "2023-12-21T17:59:53.243Z"
   },
   {
    "duration": 64,
    "start_time": "2023-12-21T17:59:53.261Z"
   },
   {
    "duration": 49,
    "start_time": "2023-12-21T17:59:53.327Z"
   },
   {
    "duration": 48,
    "start_time": "2023-12-21T17:59:53.377Z"
   },
   {
    "duration": 116,
    "start_time": "2023-12-21T17:59:53.426Z"
   },
   {
    "duration": 111,
    "start_time": "2023-12-21T17:59:53.544Z"
   },
   {
    "duration": 76,
    "start_time": "2023-12-21T17:59:53.657Z"
   },
   {
    "duration": 61,
    "start_time": "2023-12-21T17:59:53.735Z"
   },
   {
    "duration": 74,
    "start_time": "2023-12-21T17:59:53.798Z"
   },
   {
    "duration": 77,
    "start_time": "2023-12-21T17:59:53.873Z"
   },
   {
    "duration": 6,
    "start_time": "2023-12-21T17:59:53.952Z"
   },
   {
    "duration": 20,
    "start_time": "2023-12-21T17:59:53.959Z"
   },
   {
    "duration": 36,
    "start_time": "2023-12-21T17:59:53.980Z"
   },
   {
    "duration": 11,
    "start_time": "2023-12-21T17:59:54.018Z"
   },
   {
    "duration": 8,
    "start_time": "2023-12-21T17:59:54.030Z"
   },
   {
    "duration": 12,
    "start_time": "2023-12-21T17:59:54.040Z"
   },
   {
    "duration": 87,
    "start_time": "2023-12-21T17:59:54.054Z"
   },
   {
    "duration": 84,
    "start_time": "2023-12-21T17:59:54.143Z"
   },
   {
    "duration": 6,
    "start_time": "2023-12-21T17:59:54.228Z"
   },
   {
    "duration": 106,
    "start_time": "2023-12-21T17:59:54.235Z"
   },
   {
    "duration": 126,
    "start_time": "2023-12-21T17:59:54.343Z"
   },
   {
    "duration": 123,
    "start_time": "2023-12-21T17:59:54.471Z"
   },
   {
    "duration": 57,
    "start_time": "2023-12-21T17:59:54.596Z"
   },
   {
    "duration": 14,
    "start_time": "2023-12-21T17:59:54.655Z"
   },
   {
    "duration": 14,
    "start_time": "2023-12-21T17:59:54.670Z"
   },
   {
    "duration": 195,
    "start_time": "2023-12-21T17:59:54.685Z"
   },
   {
    "duration": 14,
    "start_time": "2023-12-21T17:59:54.882Z"
   },
   {
    "duration": 23,
    "start_time": "2023-12-21T17:59:54.898Z"
   },
   {
    "duration": 8,
    "start_time": "2023-12-21T17:59:54.923Z"
   },
   {
    "duration": 324,
    "start_time": "2023-12-21T17:59:54.933Z"
   },
   {
    "duration": 8,
    "start_time": "2023-12-21T18:03:36.046Z"
   },
   {
    "duration": 4,
    "start_time": "2023-12-21T18:03:37.522Z"
   },
   {
    "duration": 1054,
    "start_time": "2023-12-21T18:03:50.207Z"
   },
   {
    "duration": 111,
    "start_time": "2023-12-21T18:03:51.263Z"
   },
   {
    "duration": 3,
    "start_time": "2023-12-21T18:03:51.376Z"
   },
   {
    "duration": 11,
    "start_time": "2023-12-21T18:03:51.381Z"
   },
   {
    "duration": 11,
    "start_time": "2023-12-21T18:03:51.394Z"
   },
   {
    "duration": 13,
    "start_time": "2023-12-21T18:03:51.406Z"
   },
   {
    "duration": 101,
    "start_time": "2023-12-21T18:03:51.421Z"
   },
   {
    "duration": 140,
    "start_time": "2023-12-21T18:03:51.523Z"
   },
   {
    "duration": 2,
    "start_time": "2023-12-21T18:03:51.665Z"
   },
   {
    "duration": 15,
    "start_time": "2023-12-21T18:03:51.670Z"
   },
   {
    "duration": 8,
    "start_time": "2023-12-21T18:03:51.686Z"
   },
   {
    "duration": 13,
    "start_time": "2023-12-21T18:03:51.695Z"
   },
   {
    "duration": 13,
    "start_time": "2023-12-21T18:03:51.709Z"
   },
   {
    "duration": 12,
    "start_time": "2023-12-21T18:03:51.723Z"
   },
   {
    "duration": 6,
    "start_time": "2023-12-21T18:03:51.737Z"
   },
   {
    "duration": 3,
    "start_time": "2023-12-21T18:03:51.744Z"
   },
   {
    "duration": 7,
    "start_time": "2023-12-21T18:03:51.748Z"
   },
   {
    "duration": 6,
    "start_time": "2023-12-21T18:03:51.756Z"
   },
   {
    "duration": 13,
    "start_time": "2023-12-21T18:03:51.764Z"
   },
   {
    "duration": 25,
    "start_time": "2023-12-21T18:03:51.779Z"
   },
   {
    "duration": 7,
    "start_time": "2023-12-21T18:03:51.805Z"
   },
   {
    "duration": 19,
    "start_time": "2023-12-21T18:03:51.813Z"
   },
   {
    "duration": 161,
    "start_time": "2023-12-21T18:03:51.833Z"
   },
   {
    "duration": 136,
    "start_time": "2023-12-21T18:03:51.996Z"
   },
   {
    "duration": 17,
    "start_time": "2023-12-21T18:03:52.133Z"
   },
   {
    "duration": 9,
    "start_time": "2023-12-21T18:03:52.151Z"
   },
   {
    "duration": 10,
    "start_time": "2023-12-21T18:03:52.161Z"
   },
   {
    "duration": 294,
    "start_time": "2023-12-21T18:03:52.175Z"
   },
   {
    "duration": 210,
    "start_time": "2023-12-21T18:03:52.470Z"
   },
   {
    "duration": 368,
    "start_time": "2023-12-21T18:03:52.681Z"
   },
   {
    "duration": 474,
    "start_time": "2023-12-21T18:03:53.051Z"
   },
   {
    "duration": 416,
    "start_time": "2023-12-21T18:03:53.527Z"
   },
   {
    "duration": 11,
    "start_time": "2023-12-21T18:03:53.944Z"
   },
   {
    "duration": 66,
    "start_time": "2023-12-21T18:03:53.956Z"
   },
   {
    "duration": 302,
    "start_time": "2023-12-21T18:03:54.024Z"
   },
   {
    "duration": 4,
    "start_time": "2023-12-21T18:03:54.327Z"
   },
   {
    "duration": 13,
    "start_time": "2023-12-21T18:03:54.332Z"
   },
   {
    "duration": 18,
    "start_time": "2023-12-21T18:03:54.346Z"
   },
   {
    "duration": 169,
    "start_time": "2023-12-21T18:03:54.365Z"
   },
   {
    "duration": 3,
    "start_time": "2023-12-21T18:03:54.536Z"
   },
   {
    "duration": 27,
    "start_time": "2023-12-21T18:03:54.541Z"
   },
   {
    "duration": 36,
    "start_time": "2023-12-21T18:03:54.570Z"
   },
   {
    "duration": 21,
    "start_time": "2023-12-21T18:03:54.608Z"
   },
   {
    "duration": 58,
    "start_time": "2023-12-21T18:03:54.630Z"
   },
   {
    "duration": 56,
    "start_time": "2023-12-21T18:03:54.689Z"
   },
   {
    "duration": 30,
    "start_time": "2023-12-21T18:03:54.747Z"
   },
   {
    "duration": 18,
    "start_time": "2023-12-21T18:03:54.778Z"
   },
   {
    "duration": 48,
    "start_time": "2023-12-21T18:03:54.798Z"
   },
   {
    "duration": 49,
    "start_time": "2023-12-21T18:03:54.848Z"
   },
   {
    "duration": 38,
    "start_time": "2023-12-21T18:03:54.898Z"
   },
   {
    "duration": 62,
    "start_time": "2023-12-21T18:03:54.937Z"
   },
   {
    "duration": 87,
    "start_time": "2023-12-21T18:03:55.001Z"
   },
   {
    "duration": 6,
    "start_time": "2023-12-21T18:03:55.089Z"
   },
   {
    "duration": 11,
    "start_time": "2023-12-21T18:03:55.096Z"
   },
   {
    "duration": 35,
    "start_time": "2023-12-21T18:03:55.108Z"
   },
   {
    "duration": 10,
    "start_time": "2023-12-21T18:03:55.145Z"
   },
   {
    "duration": 16,
    "start_time": "2023-12-21T18:03:55.156Z"
   },
   {
    "duration": 9,
    "start_time": "2023-12-21T18:03:55.173Z"
   },
   {
    "duration": 69,
    "start_time": "2023-12-21T18:03:55.183Z"
   },
   {
    "duration": 79,
    "start_time": "2023-12-21T18:03:55.254Z"
   },
   {
    "duration": 6,
    "start_time": "2023-12-21T18:03:55.335Z"
   },
   {
    "duration": 10,
    "start_time": "2023-12-21T18:03:55.343Z"
   },
   {
    "duration": 16,
    "start_time": "2023-12-21T18:03:55.355Z"
   },
   {
    "duration": 5,
    "start_time": "2023-12-21T18:03:55.372Z"
   },
   {
    "duration": 44,
    "start_time": "2023-12-21T18:03:55.379Z"
   },
   {
    "duration": 14,
    "start_time": "2023-12-21T18:03:55.424Z"
   },
   {
    "duration": 64,
    "start_time": "2023-12-21T18:03:55.439Z"
   },
   {
    "duration": 174,
    "start_time": "2023-12-21T18:03:55.505Z"
   },
   {
    "duration": 13,
    "start_time": "2023-12-21T18:03:55.681Z"
   },
   {
    "duration": 20,
    "start_time": "2023-12-21T18:03:55.696Z"
   },
   {
    "duration": 10,
    "start_time": "2023-12-21T18:03:55.717Z"
   },
   {
    "duration": 323,
    "start_time": "2023-12-21T18:03:55.729Z"
   },
   {
    "duration": 1068,
    "start_time": "2023-12-21T18:27:42.552Z"
   },
   {
    "duration": 121,
    "start_time": "2023-12-21T18:27:43.622Z"
   },
   {
    "duration": 4,
    "start_time": "2023-12-21T18:27:43.744Z"
   },
   {
    "duration": 17,
    "start_time": "2023-12-21T18:27:43.749Z"
   },
   {
    "duration": 32,
    "start_time": "2023-12-21T18:27:43.768Z"
   },
   {
    "duration": 18,
    "start_time": "2023-12-21T18:27:43.802Z"
   },
   {
    "duration": 103,
    "start_time": "2023-12-21T18:27:43.822Z"
   },
   {
    "duration": 87,
    "start_time": "2023-12-21T18:27:43.927Z"
   },
   {
    "duration": 3,
    "start_time": "2023-12-21T18:27:44.016Z"
   },
   {
    "duration": 29,
    "start_time": "2023-12-21T18:27:44.021Z"
   },
   {
    "duration": 11,
    "start_time": "2023-12-21T18:27:44.052Z"
   },
   {
    "duration": 19,
    "start_time": "2023-12-21T18:27:44.065Z"
   },
   {
    "duration": 15,
    "start_time": "2023-12-21T18:27:44.086Z"
   },
   {
    "duration": 11,
    "start_time": "2023-12-21T18:27:44.105Z"
   },
   {
    "duration": 8,
    "start_time": "2023-12-21T18:27:44.117Z"
   },
   {
    "duration": 16,
    "start_time": "2023-12-21T18:27:44.126Z"
   },
   {
    "duration": 12,
    "start_time": "2023-12-21T18:27:44.144Z"
   },
   {
    "duration": 10,
    "start_time": "2023-12-21T18:27:44.157Z"
   },
   {
    "duration": 7,
    "start_time": "2023-12-21T18:27:44.169Z"
   },
   {
    "duration": 38,
    "start_time": "2023-12-21T18:27:44.177Z"
   },
   {
    "duration": 11,
    "start_time": "2023-12-21T18:27:44.218Z"
   },
   {
    "duration": 24,
    "start_time": "2023-12-21T18:27:44.231Z"
   },
   {
    "duration": 202,
    "start_time": "2023-12-21T18:27:44.257Z"
   },
   {
    "duration": 142,
    "start_time": "2023-12-21T18:27:44.461Z"
   },
   {
    "duration": 71,
    "start_time": "2023-12-21T18:27:44.604Z"
   },
   {
    "duration": 40,
    "start_time": "2023-12-21T18:27:44.676Z"
   },
   {
    "duration": 29,
    "start_time": "2023-12-21T18:27:44.717Z"
   },
   {
    "duration": 311,
    "start_time": "2023-12-21T18:27:44.748Z"
   },
   {
    "duration": 220,
    "start_time": "2023-12-21T18:27:45.061Z"
   },
   {
    "duration": 346,
    "start_time": "2023-12-21T18:27:45.282Z"
   },
   {
    "duration": 238,
    "start_time": "2023-12-21T18:27:45.630Z"
   },
   {
    "duration": 286,
    "start_time": "2023-12-21T18:27:45.869Z"
   },
   {
    "duration": 11,
    "start_time": "2023-12-21T18:27:46.157Z"
   },
   {
    "duration": 2,
    "start_time": "2023-12-21T18:27:46.170Z"
   },
   {
    "duration": 187,
    "start_time": "2023-12-21T18:27:46.174Z"
   },
   {
    "duration": 4,
    "start_time": "2023-12-21T18:27:46.363Z"
   },
   {
    "duration": 8,
    "start_time": "2023-12-21T18:27:46.368Z"
   },
   {
    "duration": 4,
    "start_time": "2023-12-21T18:27:46.378Z"
   },
   {
    "duration": 205,
    "start_time": "2023-12-21T18:27:46.383Z"
   },
   {
    "duration": 4,
    "start_time": "2023-12-21T18:27:46.590Z"
   },
   {
    "duration": 4,
    "start_time": "2023-12-21T18:27:46.598Z"
   },
   {
    "duration": 36,
    "start_time": "2023-12-21T18:27:46.604Z"
   },
   {
    "duration": 23,
    "start_time": "2023-12-21T18:27:46.643Z"
   },
   {
    "duration": 84,
    "start_time": "2023-12-21T18:27:46.668Z"
   },
   {
    "duration": 53,
    "start_time": "2023-12-21T18:27:46.754Z"
   },
   {
    "duration": 12,
    "start_time": "2023-12-21T18:27:46.822Z"
   },
   {
    "duration": 16,
    "start_time": "2023-12-21T18:27:46.836Z"
   },
   {
    "duration": 73,
    "start_time": "2023-12-21T18:27:46.855Z"
   },
   {
    "duration": 54,
    "start_time": "2023-12-21T18:27:46.930Z"
   },
   {
    "duration": 41,
    "start_time": "2023-12-21T18:27:46.985Z"
   },
   {
    "duration": 67,
    "start_time": "2023-12-21T18:27:47.028Z"
   },
   {
    "duration": 83,
    "start_time": "2023-12-21T18:27:47.097Z"
   },
   {
    "duration": 6,
    "start_time": "2023-12-21T18:27:47.182Z"
   },
   {
    "duration": 7,
    "start_time": "2023-12-21T18:27:47.189Z"
   },
   {
    "duration": 42,
    "start_time": "2023-12-21T18:27:47.198Z"
   },
   {
    "duration": 11,
    "start_time": "2023-12-21T18:27:47.241Z"
   },
   {
    "duration": 9,
    "start_time": "2023-12-21T18:27:47.253Z"
   },
   {
    "duration": 6,
    "start_time": "2023-12-21T18:27:47.263Z"
   },
   {
    "duration": 84,
    "start_time": "2023-12-21T18:27:47.270Z"
   },
   {
    "duration": 80,
    "start_time": "2023-12-21T18:27:47.355Z"
   },
   {
    "duration": 6,
    "start_time": "2023-12-21T18:27:47.437Z"
   },
   {
    "duration": 22,
    "start_time": "2023-12-21T18:27:47.444Z"
   },
   {
    "duration": 10,
    "start_time": "2023-12-21T18:27:47.467Z"
   },
   {
    "duration": 17,
    "start_time": "2023-12-21T18:27:47.479Z"
   },
   {
    "duration": 33,
    "start_time": "2023-12-21T18:27:47.497Z"
   },
   {
    "duration": 13,
    "start_time": "2023-12-21T18:27:47.532Z"
   },
   {
    "duration": 13,
    "start_time": "2023-12-21T18:27:47.547Z"
   },
   {
    "duration": 201,
    "start_time": "2023-12-21T18:27:47.561Z"
   },
   {
    "duration": 17,
    "start_time": "2023-12-21T18:27:47.764Z"
   },
   {
    "duration": 19,
    "start_time": "2023-12-21T18:27:47.783Z"
   },
   {
    "duration": 24,
    "start_time": "2023-12-21T18:27:47.804Z"
   },
   {
    "duration": 333,
    "start_time": "2023-12-21T18:27:47.830Z"
   },
   {
    "duration": 48,
    "start_time": "2023-12-22T17:40:09.802Z"
   },
   {
    "duration": 1300,
    "start_time": "2023-12-22T17:40:22.725Z"
   },
   {
    "duration": 127,
    "start_time": "2023-12-22T17:40:24.027Z"
   },
   {
    "duration": 3,
    "start_time": "2023-12-22T17:40:24.155Z"
   },
   {
    "duration": 19,
    "start_time": "2023-12-22T17:40:24.160Z"
   },
   {
    "duration": 30,
    "start_time": "2023-12-22T17:40:24.181Z"
   },
   {
    "duration": 9,
    "start_time": "2023-12-22T17:40:24.213Z"
   },
   {
    "duration": 170,
    "start_time": "2023-12-22T17:40:24.224Z"
   },
   {
    "duration": 110,
    "start_time": "2023-12-22T17:40:24.395Z"
   },
   {
    "duration": 3,
    "start_time": "2023-12-22T17:40:24.507Z"
   },
   {
    "duration": 20,
    "start_time": "2023-12-22T17:40:24.512Z"
   },
   {
    "duration": 9,
    "start_time": "2023-12-22T17:40:24.533Z"
   },
   {
    "duration": 11,
    "start_time": "2023-12-22T17:40:24.543Z"
   },
   {
    "duration": 39,
    "start_time": "2023-12-22T17:40:24.555Z"
   },
   {
    "duration": 6,
    "start_time": "2023-12-22T17:40:24.597Z"
   },
   {
    "duration": 14,
    "start_time": "2023-12-22T17:40:24.604Z"
   },
   {
    "duration": 6,
    "start_time": "2023-12-22T17:40:24.619Z"
   },
   {
    "duration": 11,
    "start_time": "2023-12-22T17:40:24.626Z"
   },
   {
    "duration": 8,
    "start_time": "2023-12-22T17:40:24.639Z"
   },
   {
    "duration": 9,
    "start_time": "2023-12-22T17:40:24.649Z"
   },
   {
    "duration": 6,
    "start_time": "2023-12-22T17:40:24.659Z"
   },
   {
    "duration": 22,
    "start_time": "2023-12-22T17:40:24.666Z"
   },
   {
    "duration": 12,
    "start_time": "2023-12-22T17:40:24.690Z"
   },
   {
    "duration": 176,
    "start_time": "2023-12-22T17:40:24.703Z"
   },
   {
    "duration": 135,
    "start_time": "2023-12-22T17:40:24.880Z"
   },
   {
    "duration": 15,
    "start_time": "2023-12-22T17:40:25.017Z"
   },
   {
    "duration": 14,
    "start_time": "2023-12-22T17:40:25.034Z"
   },
   {
    "duration": 10,
    "start_time": "2023-12-22T17:40:25.050Z"
   },
   {
    "duration": 318,
    "start_time": "2023-12-22T17:40:25.062Z"
   },
   {
    "duration": 223,
    "start_time": "2023-12-22T17:40:25.388Z"
   },
   {
    "duration": 341,
    "start_time": "2023-12-22T17:40:25.613Z"
   },
   {
    "duration": 234,
    "start_time": "2023-12-22T17:40:25.956Z"
   },
   {
    "duration": 314,
    "start_time": "2023-12-22T17:40:26.192Z"
   },
   {
    "duration": 13,
    "start_time": "2023-12-22T17:40:26.507Z"
   },
   {
    "duration": 25,
    "start_time": "2023-12-22T17:40:26.521Z"
   },
   {
    "duration": 195,
    "start_time": "2023-12-22T17:40:26.547Z"
   },
   {
    "duration": 3,
    "start_time": "2023-12-22T17:40:26.744Z"
   },
   {
    "duration": 34,
    "start_time": "2023-12-22T17:40:26.749Z"
   },
   {
    "duration": 62,
    "start_time": "2023-12-22T17:40:26.784Z"
   },
   {
    "duration": 154,
    "start_time": "2023-12-22T17:40:26.848Z"
   },
   {
    "duration": 4,
    "start_time": "2023-12-22T17:40:27.003Z"
   },
   {
    "duration": 30,
    "start_time": "2023-12-22T17:40:27.012Z"
   },
   {
    "duration": 50,
    "start_time": "2023-12-22T17:40:27.044Z"
   },
   {
    "duration": 46,
    "start_time": "2023-12-22T17:40:27.096Z"
   },
   {
    "duration": 52,
    "start_time": "2023-12-22T17:40:27.143Z"
   },
   {
    "duration": 79,
    "start_time": "2023-12-22T17:40:27.197Z"
   },
   {
    "duration": 34,
    "start_time": "2023-12-22T17:40:27.278Z"
   },
   {
    "duration": 72,
    "start_time": "2023-12-22T17:40:27.314Z"
   },
   {
    "duration": 82,
    "start_time": "2023-12-22T17:40:27.389Z"
   },
   {
    "duration": 48,
    "start_time": "2023-12-22T17:40:27.473Z"
   },
   {
    "duration": 59,
    "start_time": "2023-12-22T17:40:27.523Z"
   },
   {
    "duration": 101,
    "start_time": "2023-12-22T17:40:27.583Z"
   },
   {
    "duration": 115,
    "start_time": "2023-12-22T17:40:27.685Z"
   },
   {
    "duration": 31,
    "start_time": "2023-12-22T17:40:27.802Z"
   },
   {
    "duration": 35,
    "start_time": "2023-12-22T17:40:27.835Z"
   },
   {
    "duration": 45,
    "start_time": "2023-12-22T17:40:27.871Z"
   },
   {
    "duration": 21,
    "start_time": "2023-12-22T17:40:27.918Z"
   },
   {
    "duration": 40,
    "start_time": "2023-12-22T17:40:27.941Z"
   },
   {
    "duration": 38,
    "start_time": "2023-12-22T17:40:27.982Z"
   },
   {
    "duration": 84,
    "start_time": "2023-12-22T17:40:28.022Z"
   },
   {
    "duration": 82,
    "start_time": "2023-12-22T17:40:28.107Z"
   },
   {
    "duration": 7,
    "start_time": "2023-12-22T17:40:28.191Z"
   },
   {
    "duration": 26,
    "start_time": "2023-12-22T17:40:28.199Z"
   },
   {
    "duration": 16,
    "start_time": "2023-12-22T17:40:28.227Z"
   },
   {
    "duration": 26,
    "start_time": "2023-12-22T17:40:28.245Z"
   },
   {
    "duration": 37,
    "start_time": "2023-12-22T17:40:28.273Z"
   },
   {
    "duration": 17,
    "start_time": "2023-12-22T17:40:28.311Z"
   },
   {
    "duration": 31,
    "start_time": "2023-12-22T17:40:28.330Z"
   },
   {
    "duration": 197,
    "start_time": "2023-12-22T17:40:28.362Z"
   },
   {
    "duration": 15,
    "start_time": "2023-12-22T17:40:28.560Z"
   },
   {
    "duration": 19,
    "start_time": "2023-12-22T17:40:28.576Z"
   },
   {
    "duration": 28,
    "start_time": "2023-12-22T17:40:28.596Z"
   },
   {
    "duration": 311,
    "start_time": "2023-12-22T17:40:28.625Z"
   },
   {
    "duration": 10,
    "start_time": "2023-12-22T17:42:26.568Z"
   },
   {
    "duration": 70,
    "start_time": "2023-12-22T17:43:45.233Z"
   },
   {
    "duration": 1132,
    "start_time": "2023-12-22T17:45:22.650Z"
   },
   {
    "duration": 101,
    "start_time": "2023-12-22T17:45:23.783Z"
   },
   {
    "duration": 4,
    "start_time": "2023-12-22T17:45:23.886Z"
   },
   {
    "duration": 34,
    "start_time": "2023-12-22T17:45:23.892Z"
   },
   {
    "duration": 13,
    "start_time": "2023-12-22T17:45:23.928Z"
   },
   {
    "duration": 6,
    "start_time": "2023-12-22T17:45:23.943Z"
   },
   {
    "duration": 133,
    "start_time": "2023-12-22T17:45:23.950Z"
   },
   {
    "duration": 191,
    "start_time": "2023-12-22T17:45:24.084Z"
   },
   {
    "duration": 3,
    "start_time": "2023-12-22T17:45:24.277Z"
   },
   {
    "duration": 20,
    "start_time": "2023-12-22T17:45:24.282Z"
   },
   {
    "duration": 10,
    "start_time": "2023-12-22T17:45:24.304Z"
   },
   {
    "duration": 25,
    "start_time": "2023-12-22T17:45:24.316Z"
   },
   {
    "duration": 14,
    "start_time": "2023-12-22T17:45:24.343Z"
   },
   {
    "duration": 6,
    "start_time": "2023-12-22T17:45:24.358Z"
   },
   {
    "duration": 8,
    "start_time": "2023-12-22T17:45:24.365Z"
   },
   {
    "duration": 16,
    "start_time": "2023-12-22T17:45:24.374Z"
   },
   {
    "duration": 20,
    "start_time": "2023-12-22T17:45:24.391Z"
   },
   {
    "duration": 8,
    "start_time": "2023-12-22T17:45:24.412Z"
   },
   {
    "duration": 6,
    "start_time": "2023-12-22T17:45:24.422Z"
   },
   {
    "duration": 9,
    "start_time": "2023-12-22T17:45:24.429Z"
   },
   {
    "duration": 12,
    "start_time": "2023-12-22T17:45:24.439Z"
   },
   {
    "duration": 12,
    "start_time": "2023-12-22T17:45:24.452Z"
   },
   {
    "duration": 180,
    "start_time": "2023-12-22T17:45:24.465Z"
   },
   {
    "duration": 146,
    "start_time": "2023-12-22T17:45:24.647Z"
   },
   {
    "duration": 15,
    "start_time": "2023-12-22T17:45:24.795Z"
   },
   {
    "duration": 12,
    "start_time": "2023-12-22T17:45:24.811Z"
   },
   {
    "duration": 10,
    "start_time": "2023-12-22T17:45:24.824Z"
   },
   {
    "duration": 311,
    "start_time": "2023-12-22T17:45:24.838Z"
   },
   {
    "duration": 222,
    "start_time": "2023-12-22T17:45:25.151Z"
   },
   {
    "duration": 345,
    "start_time": "2023-12-22T17:45:25.375Z"
   },
   {
    "duration": 238,
    "start_time": "2023-12-22T17:45:25.722Z"
   },
   {
    "duration": 328,
    "start_time": "2023-12-22T17:45:25.962Z"
   },
   {
    "duration": 10,
    "start_time": "2023-12-22T17:45:26.292Z"
   },
   {
    "duration": 7,
    "start_time": "2023-12-22T17:45:26.304Z"
   },
   {
    "duration": 167,
    "start_time": "2023-12-22T17:45:26.313Z"
   },
   {
    "duration": 8,
    "start_time": "2023-12-22T17:45:26.482Z"
   },
   {
    "duration": 17,
    "start_time": "2023-12-22T17:45:26.491Z"
   },
   {
    "duration": 6,
    "start_time": "2023-12-22T17:45:26.510Z"
   },
   {
    "duration": 169,
    "start_time": "2023-12-22T17:45:26.517Z"
   },
   {
    "duration": 3,
    "start_time": "2023-12-22T17:45:26.688Z"
   },
   {
    "duration": 18,
    "start_time": "2023-12-22T17:45:26.693Z"
   },
   {
    "duration": 31,
    "start_time": "2023-12-22T17:45:26.713Z"
   },
   {
    "duration": 31,
    "start_time": "2023-12-22T17:45:26.746Z"
   },
   {
    "duration": 53,
    "start_time": "2023-12-22T17:45:26.778Z"
   },
   {
    "duration": 63,
    "start_time": "2023-12-22T17:45:26.832Z"
   },
   {
    "duration": 21,
    "start_time": "2023-12-22T17:45:26.896Z"
   },
   {
    "duration": 18,
    "start_time": "2023-12-22T17:45:26.918Z"
   },
   {
    "duration": 61,
    "start_time": "2023-12-22T17:45:26.938Z"
   },
   {
    "duration": 48,
    "start_time": "2023-12-22T17:45:27.001Z"
   },
   {
    "duration": 43,
    "start_time": "2023-12-22T17:45:27.051Z"
   },
   {
    "duration": 61,
    "start_time": "2023-12-22T17:45:27.096Z"
   },
   {
    "duration": 91,
    "start_time": "2023-12-22T17:45:27.159Z"
   },
   {
    "duration": 8,
    "start_time": "2023-12-22T17:45:27.251Z"
   },
   {
    "duration": 50,
    "start_time": "2023-12-22T17:45:27.261Z"
   },
   {
    "duration": 41,
    "start_time": "2023-12-22T17:45:27.313Z"
   },
   {
    "duration": 11,
    "start_time": "2023-12-22T17:45:27.356Z"
   },
   {
    "duration": 27,
    "start_time": "2023-12-22T17:45:27.369Z"
   },
   {
    "duration": 29,
    "start_time": "2023-12-22T17:45:27.398Z"
   },
   {
    "duration": 69,
    "start_time": "2023-12-22T17:45:27.428Z"
   },
   {
    "duration": 67,
    "start_time": "2023-12-22T17:45:27.499Z"
   },
   {
    "duration": 21,
    "start_time": "2023-12-22T17:45:27.568Z"
   },
   {
    "duration": 4,
    "start_time": "2023-12-22T17:45:27.592Z"
   },
   {
    "duration": 30,
    "start_time": "2023-12-22T17:45:27.598Z"
   },
   {
    "duration": 21,
    "start_time": "2023-12-22T17:45:27.630Z"
   },
   {
    "duration": 50,
    "start_time": "2023-12-22T17:45:27.653Z"
   },
   {
    "duration": 16,
    "start_time": "2023-12-22T17:45:27.705Z"
   },
   {
    "duration": 41,
    "start_time": "2023-12-22T17:45:27.723Z"
   },
   {
    "duration": 164,
    "start_time": "2023-12-22T17:45:27.765Z"
   },
   {
    "duration": 15,
    "start_time": "2023-12-22T17:45:27.931Z"
   },
   {
    "duration": 30,
    "start_time": "2023-12-22T17:45:27.947Z"
   },
   {
    "duration": 30,
    "start_time": "2023-12-22T17:45:27.978Z"
   },
   {
    "duration": 341,
    "start_time": "2023-12-22T17:45:28.009Z"
   },
   {
    "duration": 8,
    "start_time": "2023-12-22T17:46:00.136Z"
   },
   {
    "duration": 79,
    "start_time": "2023-12-22T17:49:17.717Z"
   },
   {
    "duration": 80,
    "start_time": "2023-12-22T17:49:27.666Z"
   },
   {
    "duration": 113,
    "start_time": "2023-12-22T17:49:38.715Z"
   },
   {
    "duration": 11,
    "start_time": "2023-12-22T17:49:46.838Z"
   },
   {
    "duration": 14,
    "start_time": "2023-12-22T17:49:55.207Z"
   },
   {
    "duration": 9,
    "start_time": "2023-12-22T17:50:13.196Z"
   },
   {
    "duration": 70,
    "start_time": "2023-12-22T17:52:19.380Z"
   },
   {
    "duration": 89,
    "start_time": "2023-12-22T17:54:10.815Z"
   },
   {
    "duration": 4,
    "start_time": "2023-12-22T17:54:50.948Z"
   },
   {
    "duration": 8,
    "start_time": "2023-12-22T17:55:07.815Z"
   },
   {
    "duration": 4,
    "start_time": "2023-12-22T17:56:05.385Z"
   },
   {
    "duration": 4,
    "start_time": "2023-12-22T17:56:16.224Z"
   },
   {
    "duration": 15,
    "start_time": "2023-12-22T17:56:31.553Z"
   },
   {
    "duration": 4,
    "start_time": "2023-12-22T17:56:53.851Z"
   },
   {
    "duration": 11,
    "start_time": "2023-12-22T17:56:56.167Z"
   },
   {
    "duration": 1124,
    "start_time": "2023-12-22T18:01:54.209Z"
   },
   {
    "duration": 123,
    "start_time": "2023-12-22T18:01:55.335Z"
   },
   {
    "duration": 4,
    "start_time": "2023-12-22T18:01:55.460Z"
   },
   {
    "duration": 11,
    "start_time": "2023-12-22T18:01:55.466Z"
   },
   {
    "duration": 25,
    "start_time": "2023-12-22T18:01:55.479Z"
   },
   {
    "duration": 7,
    "start_time": "2023-12-22T18:01:55.505Z"
   },
   {
    "duration": 128,
    "start_time": "2023-12-22T18:01:55.513Z"
   },
   {
    "duration": 98,
    "start_time": "2023-12-22T18:01:55.643Z"
   },
   {
    "duration": 3,
    "start_time": "2023-12-22T18:01:55.743Z"
   },
   {
    "duration": 18,
    "start_time": "2023-12-22T18:01:55.750Z"
   },
   {
    "duration": 21,
    "start_time": "2023-12-22T18:01:55.770Z"
   },
   {
    "duration": 109,
    "start_time": "2023-12-22T18:01:55.793Z"
   },
   {
    "duration": 0,
    "start_time": "2023-12-22T18:01:55.905Z"
   },
   {
    "duration": 0,
    "start_time": "2023-12-22T18:01:55.906Z"
   },
   {
    "duration": 0,
    "start_time": "2023-12-22T18:01:55.907Z"
   },
   {
    "duration": 0,
    "start_time": "2023-12-22T18:01:55.908Z"
   },
   {
    "duration": 0,
    "start_time": "2023-12-22T18:01:55.909Z"
   },
   {
    "duration": 0,
    "start_time": "2023-12-22T18:01:55.910Z"
   },
   {
    "duration": 0,
    "start_time": "2023-12-22T18:01:55.912Z"
   },
   {
    "duration": 0,
    "start_time": "2023-12-22T18:01:55.913Z"
   },
   {
    "duration": 0,
    "start_time": "2023-12-22T18:01:55.914Z"
   },
   {
    "duration": 0,
    "start_time": "2023-12-22T18:01:55.915Z"
   },
   {
    "duration": 0,
    "start_time": "2023-12-22T18:01:55.916Z"
   },
   {
    "duration": 0,
    "start_time": "2023-12-22T18:01:55.917Z"
   },
   {
    "duration": 0,
    "start_time": "2023-12-22T18:01:55.918Z"
   },
   {
    "duration": 0,
    "start_time": "2023-12-22T18:01:55.919Z"
   },
   {
    "duration": 0,
    "start_time": "2023-12-22T18:01:55.920Z"
   },
   {
    "duration": 0,
    "start_time": "2023-12-22T18:01:55.921Z"
   },
   {
    "duration": 0,
    "start_time": "2023-12-22T18:01:55.922Z"
   },
   {
    "duration": 0,
    "start_time": "2023-12-22T18:01:55.923Z"
   },
   {
    "duration": 0,
    "start_time": "2023-12-22T18:01:55.924Z"
   },
   {
    "duration": 0,
    "start_time": "2023-12-22T18:01:55.925Z"
   },
   {
    "duration": 0,
    "start_time": "2023-12-22T18:01:55.926Z"
   },
   {
    "duration": 0,
    "start_time": "2023-12-22T18:01:55.927Z"
   },
   {
    "duration": 0,
    "start_time": "2023-12-22T18:01:55.928Z"
   },
   {
    "duration": 0,
    "start_time": "2023-12-22T18:01:55.929Z"
   },
   {
    "duration": 0,
    "start_time": "2023-12-22T18:01:55.930Z"
   },
   {
    "duration": 0,
    "start_time": "2023-12-22T18:01:55.931Z"
   },
   {
    "duration": 0,
    "start_time": "2023-12-22T18:01:55.932Z"
   },
   {
    "duration": 0,
    "start_time": "2023-12-22T18:01:55.934Z"
   },
   {
    "duration": 0,
    "start_time": "2023-12-22T18:01:55.987Z"
   },
   {
    "duration": 0,
    "start_time": "2023-12-22T18:01:55.989Z"
   },
   {
    "duration": 0,
    "start_time": "2023-12-22T18:01:55.990Z"
   },
   {
    "duration": 0,
    "start_time": "2023-12-22T18:01:55.991Z"
   },
   {
    "duration": 0,
    "start_time": "2023-12-22T18:01:55.992Z"
   },
   {
    "duration": 0,
    "start_time": "2023-12-22T18:01:55.994Z"
   },
   {
    "duration": 0,
    "start_time": "2023-12-22T18:01:55.995Z"
   },
   {
    "duration": 0,
    "start_time": "2023-12-22T18:01:55.996Z"
   },
   {
    "duration": 0,
    "start_time": "2023-12-22T18:01:55.996Z"
   },
   {
    "duration": 0,
    "start_time": "2023-12-22T18:01:55.998Z"
   },
   {
    "duration": 0,
    "start_time": "2023-12-22T18:01:55.998Z"
   },
   {
    "duration": 0,
    "start_time": "2023-12-22T18:01:56.000Z"
   },
   {
    "duration": 0,
    "start_time": "2023-12-22T18:01:56.001Z"
   },
   {
    "duration": 0,
    "start_time": "2023-12-22T18:01:56.002Z"
   },
   {
    "duration": 0,
    "start_time": "2023-12-22T18:01:56.003Z"
   },
   {
    "duration": 0,
    "start_time": "2023-12-22T18:01:56.004Z"
   },
   {
    "duration": 0,
    "start_time": "2023-12-22T18:01:56.006Z"
   },
   {
    "duration": 0,
    "start_time": "2023-12-22T18:01:56.007Z"
   },
   {
    "duration": 0,
    "start_time": "2023-12-22T18:01:56.008Z"
   },
   {
    "duration": 0,
    "start_time": "2023-12-22T18:01:56.009Z"
   },
   {
    "duration": 0,
    "start_time": "2023-12-22T18:01:56.010Z"
   },
   {
    "duration": 0,
    "start_time": "2023-12-22T18:01:56.010Z"
   },
   {
    "duration": 0,
    "start_time": "2023-12-22T18:01:56.012Z"
   },
   {
    "duration": 0,
    "start_time": "2023-12-22T18:01:56.013Z"
   },
   {
    "duration": 0,
    "start_time": "2023-12-22T18:01:56.015Z"
   },
   {
    "duration": 0,
    "start_time": "2023-12-22T18:01:56.016Z"
   },
   {
    "duration": 0,
    "start_time": "2023-12-22T18:01:56.017Z"
   },
   {
    "duration": 0,
    "start_time": "2023-12-22T18:01:56.018Z"
   },
   {
    "duration": 0,
    "start_time": "2023-12-22T18:01:56.019Z"
   },
   {
    "duration": 0,
    "start_time": "2023-12-22T18:01:56.019Z"
   },
   {
    "duration": 0,
    "start_time": "2023-12-22T18:01:56.021Z"
   },
   {
    "duration": 0,
    "start_time": "2023-12-22T18:01:56.022Z"
   },
   {
    "duration": 0,
    "start_time": "2023-12-22T18:01:56.023Z"
   },
   {
    "duration": 0,
    "start_time": "2023-12-22T18:01:56.024Z"
   },
   {
    "duration": 0,
    "start_time": "2023-12-22T18:01:56.025Z"
   },
   {
    "duration": 12,
    "start_time": "2023-12-22T18:02:43.207Z"
   },
   {
    "duration": 4,
    "start_time": "2023-12-22T18:03:10.528Z"
   },
   {
    "duration": 3,
    "start_time": "2023-12-22T18:03:28.152Z"
   },
   {
    "duration": 7,
    "start_time": "2023-12-22T18:03:37.471Z"
   },
   {
    "duration": 11,
    "start_time": "2023-12-22T18:05:00.107Z"
   },
   {
    "duration": 16,
    "start_time": "2023-12-22T18:09:32.421Z"
   },
   {
    "duration": 1093,
    "start_time": "2023-12-22T18:09:49.093Z"
   },
   {
    "duration": 105,
    "start_time": "2023-12-22T18:09:50.187Z"
   },
   {
    "duration": 4,
    "start_time": "2023-12-22T18:09:50.293Z"
   },
   {
    "duration": 17,
    "start_time": "2023-12-22T18:09:50.299Z"
   },
   {
    "duration": 25,
    "start_time": "2023-12-22T18:09:50.318Z"
   },
   {
    "duration": 6,
    "start_time": "2023-12-22T18:09:50.344Z"
   },
   {
    "duration": 148,
    "start_time": "2023-12-22T18:09:50.351Z"
   },
   {
    "duration": 89,
    "start_time": "2023-12-22T18:09:50.500Z"
   },
   {
    "duration": 3,
    "start_time": "2023-12-22T18:09:50.591Z"
   },
   {
    "duration": 19,
    "start_time": "2023-12-22T18:09:50.596Z"
   },
   {
    "duration": 26,
    "start_time": "2023-12-22T18:09:50.617Z"
   },
   {
    "duration": 47,
    "start_time": "2023-12-22T18:09:50.645Z"
   },
   {
    "duration": 126,
    "start_time": "2023-12-22T18:09:50.694Z"
   },
   {
    "duration": 0,
    "start_time": "2023-12-22T18:09:50.824Z"
   },
   {
    "duration": 0,
    "start_time": "2023-12-22T18:09:50.825Z"
   },
   {
    "duration": 0,
    "start_time": "2023-12-22T18:09:50.827Z"
   },
   {
    "duration": 0,
    "start_time": "2023-12-22T18:09:50.828Z"
   },
   {
    "duration": 0,
    "start_time": "2023-12-22T18:09:50.829Z"
   },
   {
    "duration": 0,
    "start_time": "2023-12-22T18:09:50.831Z"
   },
   {
    "duration": 0,
    "start_time": "2023-12-22T18:09:50.833Z"
   },
   {
    "duration": 0,
    "start_time": "2023-12-22T18:09:50.834Z"
   },
   {
    "duration": 0,
    "start_time": "2023-12-22T18:09:50.836Z"
   },
   {
    "duration": 0,
    "start_time": "2023-12-22T18:09:50.837Z"
   },
   {
    "duration": 0,
    "start_time": "2023-12-22T18:09:50.838Z"
   },
   {
    "duration": 0,
    "start_time": "2023-12-22T18:09:50.840Z"
   },
   {
    "duration": 0,
    "start_time": "2023-12-22T18:09:50.841Z"
   },
   {
    "duration": 0,
    "start_time": "2023-12-22T18:09:50.843Z"
   },
   {
    "duration": 0,
    "start_time": "2023-12-22T18:09:50.844Z"
   },
   {
    "duration": 0,
    "start_time": "2023-12-22T18:09:50.846Z"
   },
   {
    "duration": 0,
    "start_time": "2023-12-22T18:09:50.848Z"
   },
   {
    "duration": 0,
    "start_time": "2023-12-22T18:09:50.849Z"
   },
   {
    "duration": 0,
    "start_time": "2023-12-22T18:09:50.850Z"
   },
   {
    "duration": 0,
    "start_time": "2023-12-22T18:09:50.889Z"
   },
   {
    "duration": 0,
    "start_time": "2023-12-22T18:09:50.890Z"
   },
   {
    "duration": 0,
    "start_time": "2023-12-22T18:09:50.892Z"
   },
   {
    "duration": 0,
    "start_time": "2023-12-22T18:09:50.893Z"
   },
   {
    "duration": 0,
    "start_time": "2023-12-22T18:09:50.895Z"
   },
   {
    "duration": 0,
    "start_time": "2023-12-22T18:09:50.896Z"
   },
   {
    "duration": 0,
    "start_time": "2023-12-22T18:09:50.898Z"
   },
   {
    "duration": 0,
    "start_time": "2023-12-22T18:09:50.899Z"
   },
   {
    "duration": 0,
    "start_time": "2023-12-22T18:09:50.900Z"
   },
   {
    "duration": 0,
    "start_time": "2023-12-22T18:09:50.902Z"
   },
   {
    "duration": 0,
    "start_time": "2023-12-22T18:09:50.903Z"
   },
   {
    "duration": 0,
    "start_time": "2023-12-22T18:09:50.904Z"
   },
   {
    "duration": 0,
    "start_time": "2023-12-22T18:09:50.905Z"
   },
   {
    "duration": 0,
    "start_time": "2023-12-22T18:09:50.906Z"
   },
   {
    "duration": 0,
    "start_time": "2023-12-22T18:09:50.907Z"
   },
   {
    "duration": 0,
    "start_time": "2023-12-22T18:09:50.908Z"
   },
   {
    "duration": 0,
    "start_time": "2023-12-22T18:09:50.909Z"
   },
   {
    "duration": 0,
    "start_time": "2023-12-22T18:09:50.910Z"
   },
   {
    "duration": 0,
    "start_time": "2023-12-22T18:09:50.911Z"
   },
   {
    "duration": 0,
    "start_time": "2023-12-22T18:09:50.912Z"
   },
   {
    "duration": 0,
    "start_time": "2023-12-22T18:09:50.912Z"
   },
   {
    "duration": 0,
    "start_time": "2023-12-22T18:09:50.913Z"
   },
   {
    "duration": 0,
    "start_time": "2023-12-22T18:09:50.914Z"
   },
   {
    "duration": 0,
    "start_time": "2023-12-22T18:09:50.915Z"
   },
   {
    "duration": 0,
    "start_time": "2023-12-22T18:09:50.916Z"
   },
   {
    "duration": 0,
    "start_time": "2023-12-22T18:09:50.917Z"
   },
   {
    "duration": 0,
    "start_time": "2023-12-22T18:09:50.918Z"
   },
   {
    "duration": 0,
    "start_time": "2023-12-22T18:09:50.919Z"
   },
   {
    "duration": 0,
    "start_time": "2023-12-22T18:09:50.920Z"
   },
   {
    "duration": 0,
    "start_time": "2023-12-22T18:09:50.921Z"
   },
   {
    "duration": 0,
    "start_time": "2023-12-22T18:09:50.922Z"
   },
   {
    "duration": 0,
    "start_time": "2023-12-22T18:09:50.923Z"
   },
   {
    "duration": 0,
    "start_time": "2023-12-22T18:09:50.924Z"
   },
   {
    "duration": 0,
    "start_time": "2023-12-22T18:09:50.925Z"
   },
   {
    "duration": 0,
    "start_time": "2023-12-22T18:09:50.989Z"
   },
   {
    "duration": 0,
    "start_time": "2023-12-22T18:09:50.990Z"
   },
   {
    "duration": 0,
    "start_time": "2023-12-22T18:09:50.991Z"
   },
   {
    "duration": 0,
    "start_time": "2023-12-22T18:09:50.992Z"
   },
   {
    "duration": 0,
    "start_time": "2023-12-22T18:09:50.992Z"
   },
   {
    "duration": 0,
    "start_time": "2023-12-22T18:09:50.993Z"
   },
   {
    "duration": 1,
    "start_time": "2023-12-22T18:09:50.994Z"
   },
   {
    "duration": 0,
    "start_time": "2023-12-22T18:09:50.996Z"
   },
   {
    "duration": 9,
    "start_time": "2023-12-22T18:10:14.429Z"
   },
   {
    "duration": 8,
    "start_time": "2023-12-22T18:10:36.909Z"
   },
   {
    "duration": 11,
    "start_time": "2023-12-22T18:27:33.611Z"
   },
   {
    "duration": 9,
    "start_time": "2023-12-22T18:27:36.136Z"
   },
   {
    "duration": 3,
    "start_time": "2023-12-22T18:56:52.406Z"
   },
   {
    "duration": 1054,
    "start_time": "2023-12-23T12:27:58.784Z"
   },
   {
    "duration": 115,
    "start_time": "2023-12-23T12:27:59.840Z"
   },
   {
    "duration": 3,
    "start_time": "2023-12-23T12:27:59.957Z"
   },
   {
    "duration": 13,
    "start_time": "2023-12-23T12:27:59.962Z"
   },
   {
    "duration": 11,
    "start_time": "2023-12-23T12:27:59.977Z"
   },
   {
    "duration": 6,
    "start_time": "2023-12-23T12:27:59.990Z"
   },
   {
    "duration": 174,
    "start_time": "2023-12-23T12:27:59.997Z"
   },
   {
    "duration": 127,
    "start_time": "2023-12-23T12:28:00.173Z"
   },
   {
    "duration": 3,
    "start_time": "2023-12-23T12:28:00.302Z"
   },
   {
    "duration": 31,
    "start_time": "2023-12-23T12:28:00.307Z"
   },
   {
    "duration": 30,
    "start_time": "2023-12-23T12:28:00.339Z"
   },
   {
    "duration": 38,
    "start_time": "2023-12-23T12:28:00.371Z"
   },
   {
    "duration": 77,
    "start_time": "2023-12-23T12:28:00.411Z"
   },
   {
    "duration": 56,
    "start_time": "2023-12-23T12:28:00.490Z"
   },
   {
    "duration": 83,
    "start_time": "2023-12-23T12:28:00.548Z"
   },
   {
    "duration": 54,
    "start_time": "2023-12-23T12:28:00.633Z"
   },
   {
    "duration": 52,
    "start_time": "2023-12-23T12:28:00.688Z"
   },
   {
    "duration": 102,
    "start_time": "2023-12-23T12:28:00.741Z"
   },
   {
    "duration": 87,
    "start_time": "2023-12-23T12:28:00.845Z"
   },
   {
    "duration": 128,
    "start_time": "2023-12-23T12:28:00.934Z"
   },
   {
    "duration": 82,
    "start_time": "2023-12-23T12:28:01.064Z"
   },
   {
    "duration": 151,
    "start_time": "2023-12-23T12:28:01.147Z"
   },
   {
    "duration": 241,
    "start_time": "2023-12-23T12:28:01.300Z"
   },
   {
    "duration": 190,
    "start_time": "2023-12-23T12:28:01.543Z"
   },
   {
    "duration": 224,
    "start_time": "2023-12-23T12:28:01.734Z"
   },
   {
    "duration": 135,
    "start_time": "2023-12-23T12:28:01.960Z"
   },
   {
    "duration": 66,
    "start_time": "2023-12-23T12:28:02.097Z"
   },
   {
    "duration": 34,
    "start_time": "2023-12-23T12:28:02.167Z"
   },
   {
    "duration": 13,
    "start_time": "2023-12-23T12:28:02.202Z"
   },
   {
    "duration": 314,
    "start_time": "2023-12-23T12:28:02.217Z"
   },
   {
    "duration": 230,
    "start_time": "2023-12-23T12:28:02.533Z"
   },
   {
    "duration": 355,
    "start_time": "2023-12-23T12:28:02.765Z"
   },
   {
    "duration": 239,
    "start_time": "2023-12-23T12:28:03.121Z"
   },
   {
    "duration": 330,
    "start_time": "2023-12-23T12:28:03.361Z"
   },
   {
    "duration": 10,
    "start_time": "2023-12-23T12:28:03.693Z"
   },
   {
    "duration": 14,
    "start_time": "2023-12-23T12:28:03.705Z"
   },
   {
    "duration": 173,
    "start_time": "2023-12-23T12:28:03.721Z"
   },
   {
    "duration": 4,
    "start_time": "2023-12-23T12:28:03.896Z"
   },
   {
    "duration": 18,
    "start_time": "2023-12-23T12:28:03.901Z"
   },
   {
    "duration": 31,
    "start_time": "2023-12-23T12:28:03.921Z"
   },
   {
    "duration": 183,
    "start_time": "2023-12-23T12:28:03.953Z"
   },
   {
    "duration": 3,
    "start_time": "2023-12-23T12:28:04.138Z"
   },
   {
    "duration": 20,
    "start_time": "2023-12-23T12:28:04.142Z"
   },
   {
    "duration": 32,
    "start_time": "2023-12-23T12:28:04.164Z"
   },
   {
    "duration": 29,
    "start_time": "2023-12-23T12:28:04.197Z"
   },
   {
    "duration": 68,
    "start_time": "2023-12-23T12:28:04.228Z"
   },
   {
    "duration": 50,
    "start_time": "2023-12-23T12:28:04.298Z"
   },
   {
    "duration": 30,
    "start_time": "2023-12-23T12:28:04.349Z"
   },
   {
    "duration": 24,
    "start_time": "2023-12-23T12:28:04.381Z"
   },
   {
    "duration": 62,
    "start_time": "2023-12-23T12:28:04.407Z"
   },
   {
    "duration": 49,
    "start_time": "2023-12-23T12:28:04.471Z"
   },
   {
    "duration": 27,
    "start_time": "2023-12-23T12:28:04.522Z"
   },
   {
    "duration": 76,
    "start_time": "2023-12-23T12:28:04.551Z"
   },
   {
    "duration": 81,
    "start_time": "2023-12-23T12:28:04.629Z"
   },
   {
    "duration": 93,
    "start_time": "2023-12-23T12:28:04.712Z"
   },
   {
    "duration": 23,
    "start_time": "2023-12-23T12:28:04.806Z"
   },
   {
    "duration": 38,
    "start_time": "2023-12-23T12:28:04.831Z"
   },
   {
    "duration": 11,
    "start_time": "2023-12-23T12:28:04.870Z"
   },
   {
    "duration": 16,
    "start_time": "2023-12-23T12:28:04.883Z"
   },
   {
    "duration": 17,
    "start_time": "2023-12-23T12:28:04.900Z"
   },
   {
    "duration": 74,
    "start_time": "2023-12-23T12:28:04.919Z"
   },
   {
    "duration": 71,
    "start_time": "2023-12-23T12:28:04.995Z"
   },
   {
    "duration": 21,
    "start_time": "2023-12-23T12:28:05.068Z"
   },
   {
    "duration": 6,
    "start_time": "2023-12-23T12:28:05.091Z"
   },
   {
    "duration": 105,
    "start_time": "2023-12-23T12:28:05.099Z"
   },
   {
    "duration": 109,
    "start_time": "2023-12-23T12:28:05.206Z"
   },
   {
    "duration": 45,
    "start_time": "2023-12-23T12:28:05.317Z"
   },
   {
    "duration": 14,
    "start_time": "2023-12-23T12:28:05.364Z"
   },
   {
    "duration": 48,
    "start_time": "2023-12-23T12:28:05.379Z"
   },
   {
    "duration": 187,
    "start_time": "2023-12-23T12:28:05.429Z"
   },
   {
    "duration": 15,
    "start_time": "2023-12-23T12:28:05.617Z"
   },
   {
    "duration": 34,
    "start_time": "2023-12-23T12:28:05.633Z"
   },
   {
    "duration": 26,
    "start_time": "2023-12-23T12:28:05.669Z"
   },
   {
    "duration": 358,
    "start_time": "2023-12-23T12:28:05.697Z"
   },
   {
    "duration": 962,
    "start_time": "2023-12-26T17:09:05.026Z"
   },
   {
    "duration": 110,
    "start_time": "2023-12-26T17:09:05.990Z"
   },
   {
    "duration": 3,
    "start_time": "2023-12-26T17:09:06.102Z"
   },
   {
    "duration": 12,
    "start_time": "2023-12-26T17:09:06.106Z"
   },
   {
    "duration": 11,
    "start_time": "2023-12-26T17:09:06.120Z"
   },
   {
    "duration": 7,
    "start_time": "2023-12-26T17:09:06.133Z"
   },
   {
    "duration": 149,
    "start_time": "2023-12-26T17:09:06.141Z"
   },
   {
    "duration": 120,
    "start_time": "2023-12-26T17:09:06.292Z"
   },
   {
    "duration": 3,
    "start_time": "2023-12-26T17:09:06.413Z"
   },
   {
    "duration": 23,
    "start_time": "2023-12-26T17:09:06.417Z"
   },
   {
    "duration": 9,
    "start_time": "2023-12-26T17:09:06.441Z"
   },
   {
    "duration": 11,
    "start_time": "2023-12-26T17:09:06.452Z"
   },
   {
    "duration": 7,
    "start_time": "2023-12-26T17:09:06.464Z"
   },
   {
    "duration": 10,
    "start_time": "2023-12-26T17:09:06.474Z"
   },
   {
    "duration": 19,
    "start_time": "2023-12-26T17:09:06.485Z"
   },
   {
    "duration": 12,
    "start_time": "2023-12-26T17:09:06.506Z"
   },
   {
    "duration": 22,
    "start_time": "2023-12-26T17:09:06.519Z"
   },
   {
    "duration": 6,
    "start_time": "2023-12-26T17:09:06.542Z"
   },
   {
    "duration": 17,
    "start_time": "2023-12-26T17:09:06.549Z"
   },
   {
    "duration": 12,
    "start_time": "2023-12-26T17:09:06.568Z"
   },
   {
    "duration": 5,
    "start_time": "2023-12-26T17:09:06.582Z"
   },
   {
    "duration": 18,
    "start_time": "2023-12-26T17:09:06.588Z"
   },
   {
    "duration": 8,
    "start_time": "2023-12-26T17:09:06.608Z"
   },
   {
    "duration": 14,
    "start_time": "2023-12-26T17:09:06.618Z"
   },
   {
    "duration": 176,
    "start_time": "2023-12-26T17:09:06.634Z"
   },
   {
    "duration": 122,
    "start_time": "2023-12-26T17:09:06.811Z"
   },
   {
    "duration": 13,
    "start_time": "2023-12-26T17:09:06.935Z"
   },
   {
    "duration": 8,
    "start_time": "2023-12-26T17:09:06.949Z"
   },
   {
    "duration": 48,
    "start_time": "2023-12-26T17:09:06.958Z"
   },
   {
    "duration": 266,
    "start_time": "2023-12-26T17:09:07.007Z"
   },
   {
    "duration": 195,
    "start_time": "2023-12-26T17:09:07.275Z"
   },
   {
    "duration": 5,
    "start_time": "2023-12-26T17:09:07.472Z"
   },
   {
    "duration": 101,
    "start_time": "2023-12-26T17:09:07.478Z"
   },
   {
    "duration": 0,
    "start_time": "2023-12-26T17:09:07.581Z"
   },
   {
    "duration": 0,
    "start_time": "2023-12-26T17:09:07.582Z"
   },
   {
    "duration": 0,
    "start_time": "2023-12-26T17:09:07.583Z"
   },
   {
    "duration": 0,
    "start_time": "2023-12-26T17:09:07.584Z"
   },
   {
    "duration": 0,
    "start_time": "2023-12-26T17:09:07.585Z"
   },
   {
    "duration": 0,
    "start_time": "2023-12-26T17:09:07.586Z"
   },
   {
    "duration": 0,
    "start_time": "2023-12-26T17:09:07.599Z"
   },
   {
    "duration": 0,
    "start_time": "2023-12-26T17:09:07.600Z"
   },
   {
    "duration": 0,
    "start_time": "2023-12-26T17:09:07.601Z"
   },
   {
    "duration": 0,
    "start_time": "2023-12-26T17:09:07.602Z"
   },
   {
    "duration": 0,
    "start_time": "2023-12-26T17:09:07.603Z"
   },
   {
    "duration": 0,
    "start_time": "2023-12-26T17:09:07.604Z"
   },
   {
    "duration": 0,
    "start_time": "2023-12-26T17:09:07.605Z"
   },
   {
    "duration": 0,
    "start_time": "2023-12-26T17:09:07.606Z"
   },
   {
    "duration": 0,
    "start_time": "2023-12-26T17:09:07.606Z"
   },
   {
    "duration": 0,
    "start_time": "2023-12-26T17:09:07.607Z"
   },
   {
    "duration": 0,
    "start_time": "2023-12-26T17:09:07.608Z"
   },
   {
    "duration": 0,
    "start_time": "2023-12-26T17:09:07.609Z"
   },
   {
    "duration": 0,
    "start_time": "2023-12-26T17:09:07.610Z"
   },
   {
    "duration": 0,
    "start_time": "2023-12-26T17:09:07.611Z"
   },
   {
    "duration": 0,
    "start_time": "2023-12-26T17:09:07.611Z"
   },
   {
    "duration": 0,
    "start_time": "2023-12-26T17:09:07.612Z"
   },
   {
    "duration": 0,
    "start_time": "2023-12-26T17:09:07.613Z"
   },
   {
    "duration": 0,
    "start_time": "2023-12-26T17:09:07.614Z"
   },
   {
    "duration": 0,
    "start_time": "2023-12-26T17:09:07.615Z"
   },
   {
    "duration": 0,
    "start_time": "2023-12-26T17:09:07.616Z"
   },
   {
    "duration": 0,
    "start_time": "2023-12-26T17:09:07.617Z"
   },
   {
    "duration": 0,
    "start_time": "2023-12-26T17:09:07.618Z"
   },
   {
    "duration": 0,
    "start_time": "2023-12-26T17:09:07.619Z"
   },
   {
    "duration": 0,
    "start_time": "2023-12-26T17:09:07.620Z"
   },
   {
    "duration": 0,
    "start_time": "2023-12-26T17:09:07.621Z"
   },
   {
    "duration": 0,
    "start_time": "2023-12-26T17:09:07.622Z"
   },
   {
    "duration": 0,
    "start_time": "2023-12-26T17:09:07.623Z"
   },
   {
    "duration": 0,
    "start_time": "2023-12-26T17:09:07.624Z"
   },
   {
    "duration": 0,
    "start_time": "2023-12-26T17:09:07.625Z"
   },
   {
    "duration": 0,
    "start_time": "2023-12-26T17:09:07.627Z"
   },
   {
    "duration": 0,
    "start_time": "2023-12-26T17:09:07.627Z"
   },
   {
    "duration": 0,
    "start_time": "2023-12-26T17:09:07.628Z"
   },
   {
    "duration": 0,
    "start_time": "2023-12-26T17:09:07.629Z"
   },
   {
    "duration": 0,
    "start_time": "2023-12-26T17:09:07.630Z"
   },
   {
    "duration": 0,
    "start_time": "2023-12-26T17:09:07.631Z"
   },
   {
    "duration": 0,
    "start_time": "2023-12-26T17:09:07.632Z"
   },
   {
    "duration": 0,
    "start_time": "2023-12-26T17:09:07.633Z"
   },
   {
    "duration": 1070,
    "start_time": "2023-12-29T06:30:52.516Z"
   },
   {
    "duration": 123,
    "start_time": "2023-12-29T06:30:53.588Z"
   },
   {
    "duration": 3,
    "start_time": "2023-12-29T06:30:53.712Z"
   },
   {
    "duration": 15,
    "start_time": "2023-12-29T06:30:53.717Z"
   },
   {
    "duration": 14,
    "start_time": "2023-12-29T06:30:53.734Z"
   },
   {
    "duration": 6,
    "start_time": "2023-12-29T06:30:53.749Z"
   },
   {
    "duration": 141,
    "start_time": "2023-12-29T06:30:53.757Z"
   },
   {
    "duration": 101,
    "start_time": "2023-12-29T06:30:53.900Z"
   },
   {
    "duration": 3,
    "start_time": "2023-12-29T06:30:54.002Z"
   },
   {
    "duration": 8,
    "start_time": "2023-12-29T06:30:54.007Z"
   },
   {
    "duration": 15,
    "start_time": "2023-12-29T06:30:54.016Z"
   },
   {
    "duration": 34,
    "start_time": "2023-12-29T06:30:54.033Z"
   },
   {
    "duration": 12,
    "start_time": "2023-12-29T06:30:54.068Z"
   },
   {
    "duration": 24,
    "start_time": "2023-12-29T06:30:54.083Z"
   },
   {
    "duration": 14,
    "start_time": "2023-12-29T06:30:54.109Z"
   },
   {
    "duration": 13,
    "start_time": "2023-12-29T06:30:54.124Z"
   },
   {
    "duration": 15,
    "start_time": "2023-12-29T06:30:54.139Z"
   },
   {
    "duration": 5,
    "start_time": "2023-12-29T06:30:54.155Z"
   },
   {
    "duration": 17,
    "start_time": "2023-12-29T06:30:54.162Z"
   },
   {
    "duration": 5,
    "start_time": "2023-12-29T06:30:54.181Z"
   },
   {
    "duration": 7,
    "start_time": "2023-12-29T06:30:54.187Z"
   },
   {
    "duration": 6,
    "start_time": "2023-12-29T06:30:54.195Z"
   },
   {
    "duration": 6,
    "start_time": "2023-12-29T06:30:54.202Z"
   },
   {
    "duration": 20,
    "start_time": "2023-12-29T06:30:54.209Z"
   },
   {
    "duration": 167,
    "start_time": "2023-12-29T06:30:54.230Z"
   },
   {
    "duration": 121,
    "start_time": "2023-12-29T06:30:54.399Z"
   },
   {
    "duration": 23,
    "start_time": "2023-12-29T06:30:54.522Z"
   },
   {
    "duration": 16,
    "start_time": "2023-12-29T06:30:54.546Z"
   },
   {
    "duration": 22,
    "start_time": "2023-12-29T06:30:54.564Z"
   },
   {
    "duration": 279,
    "start_time": "2023-12-29T06:30:54.587Z"
   },
   {
    "duration": 208,
    "start_time": "2023-12-29T06:30:54.867Z"
   },
   {
    "duration": 277,
    "start_time": "2023-12-29T06:30:55.076Z"
   },
   {
    "duration": 223,
    "start_time": "2023-12-29T06:30:55.355Z"
   },
   {
    "duration": 291,
    "start_time": "2023-12-29T06:30:55.580Z"
   },
   {
    "duration": 14,
    "start_time": "2023-12-29T06:30:55.873Z"
   },
   {
    "duration": 3,
    "start_time": "2023-12-29T06:30:55.889Z"
   },
   {
    "duration": 355,
    "start_time": "2023-12-29T06:30:55.894Z"
   },
   {
    "duration": 3,
    "start_time": "2023-12-29T06:30:56.251Z"
   },
   {
    "duration": 46,
    "start_time": "2023-12-29T06:30:56.255Z"
   },
   {
    "duration": 8,
    "start_time": "2023-12-29T06:30:56.302Z"
   },
   {
    "duration": 301,
    "start_time": "2023-12-29T06:30:56.346Z"
   },
   {
    "duration": 3,
    "start_time": "2023-12-29T06:30:56.648Z"
   },
   {
    "duration": 20,
    "start_time": "2023-12-29T06:30:56.652Z"
   },
   {
    "duration": 68,
    "start_time": "2023-12-29T06:30:56.674Z"
   },
   {
    "duration": 19,
    "start_time": "2023-12-29T06:30:56.744Z"
   },
   {
    "duration": 99,
    "start_time": "2023-12-29T06:30:56.765Z"
   },
   {
    "duration": 114,
    "start_time": "2023-12-29T06:30:56.866Z"
   },
   {
    "duration": 63,
    "start_time": "2023-12-29T06:30:56.981Z"
   },
   {
    "duration": 17,
    "start_time": "2023-12-29T06:30:57.046Z"
   },
   {
    "duration": 112,
    "start_time": "2023-12-29T06:30:57.064Z"
   },
   {
    "duration": 107,
    "start_time": "2023-12-29T06:30:57.178Z"
   },
   {
    "duration": 68,
    "start_time": "2023-12-29T06:30:57.287Z"
   },
   {
    "duration": 64,
    "start_time": "2023-12-29T06:30:57.357Z"
   },
   {
    "duration": 83,
    "start_time": "2023-12-29T06:30:57.423Z"
   },
   {
    "duration": 6,
    "start_time": "2023-12-29T06:30:57.508Z"
   },
   {
    "duration": 6,
    "start_time": "2023-12-29T06:30:57.516Z"
   },
   {
    "duration": 24,
    "start_time": "2023-12-29T06:30:57.543Z"
   },
   {
    "duration": 10,
    "start_time": "2023-12-29T06:30:57.569Z"
   },
   {
    "duration": 7,
    "start_time": "2023-12-29T06:30:57.581Z"
   },
   {
    "duration": 7,
    "start_time": "2023-12-29T06:30:57.589Z"
   },
   {
    "duration": 105,
    "start_time": "2023-12-29T06:30:57.598Z"
   },
   {
    "duration": 105,
    "start_time": "2023-12-29T06:30:57.705Z"
   },
   {
    "duration": 9,
    "start_time": "2023-12-29T06:30:57.812Z"
   },
   {
    "duration": 23,
    "start_time": "2023-12-29T06:30:57.823Z"
   },
   {
    "duration": 8,
    "start_time": "2023-12-29T06:30:57.848Z"
   },
   {
    "duration": 4,
    "start_time": "2023-12-29T06:30:57.858Z"
   },
   {
    "duration": 27,
    "start_time": "2023-12-29T06:30:57.863Z"
   },
   {
    "duration": 14,
    "start_time": "2023-12-29T06:30:57.892Z"
   },
   {
    "duration": 46,
    "start_time": "2023-12-29T06:30:57.907Z"
   },
   {
    "duration": 175,
    "start_time": "2023-12-29T06:30:57.954Z"
   },
   {
    "duration": 20,
    "start_time": "2023-12-29T06:30:58.130Z"
   },
   {
    "duration": 9,
    "start_time": "2023-12-29T06:30:58.152Z"
   },
   {
    "duration": 15,
    "start_time": "2023-12-29T06:30:58.162Z"
   },
   {
    "duration": 318,
    "start_time": "2023-12-29T06:30:58.178Z"
   },
   {
    "duration": 1264,
    "start_time": "2024-02-12T16:47:40.704Z"
   },
   {
    "duration": 133,
    "start_time": "2024-02-12T16:47:41.970Z"
   },
   {
    "duration": 4,
    "start_time": "2024-02-12T16:47:42.105Z"
   },
   {
    "duration": 12,
    "start_time": "2024-02-12T16:47:42.110Z"
   },
   {
    "duration": 10,
    "start_time": "2024-02-12T16:47:42.125Z"
   },
   {
    "duration": 6,
    "start_time": "2024-02-12T16:47:42.137Z"
   },
   {
    "duration": 92,
    "start_time": "2024-02-12T16:47:42.145Z"
   },
   {
    "duration": 144,
    "start_time": "2024-02-12T16:47:42.238Z"
   },
   {
    "duration": 3,
    "start_time": "2024-02-12T16:47:42.384Z"
   },
   {
    "duration": 5,
    "start_time": "2024-02-12T16:47:42.388Z"
   },
   {
    "duration": 9,
    "start_time": "2024-02-12T16:47:42.394Z"
   },
   {
    "duration": 11,
    "start_time": "2024-02-12T16:47:42.404Z"
   },
   {
    "duration": 8,
    "start_time": "2024-02-12T16:47:42.416Z"
   },
   {
    "duration": 9,
    "start_time": "2024-02-12T16:47:42.427Z"
   },
   {
    "duration": 22,
    "start_time": "2024-02-12T16:47:42.437Z"
   },
   {
    "duration": 11,
    "start_time": "2024-02-12T16:47:42.460Z"
   },
   {
    "duration": 6,
    "start_time": "2024-02-12T16:47:42.472Z"
   },
   {
    "duration": 32,
    "start_time": "2024-02-12T16:47:42.479Z"
   },
   {
    "duration": 12,
    "start_time": "2024-02-12T16:47:42.513Z"
   },
   {
    "duration": 5,
    "start_time": "2024-02-12T16:47:42.526Z"
   },
   {
    "duration": 5,
    "start_time": "2024-02-12T16:47:42.532Z"
   },
   {
    "duration": 5,
    "start_time": "2024-02-12T16:47:42.538Z"
   },
   {
    "duration": 7,
    "start_time": "2024-02-12T16:47:42.544Z"
   },
   {
    "duration": 11,
    "start_time": "2024-02-12T16:47:42.552Z"
   },
   {
    "duration": 173,
    "start_time": "2024-02-12T16:47:42.565Z"
   },
   {
    "duration": 131,
    "start_time": "2024-02-12T16:47:42.740Z"
   },
   {
    "duration": 25,
    "start_time": "2024-02-12T16:47:42.873Z"
   },
   {
    "duration": 9,
    "start_time": "2024-02-12T16:47:42.900Z"
   },
   {
    "duration": 9,
    "start_time": "2024-02-12T16:47:42.910Z"
   },
   {
    "duration": 292,
    "start_time": "2024-02-12T16:47:42.920Z"
   },
   {
    "duration": 215,
    "start_time": "2024-02-12T16:47:43.213Z"
   },
   {
    "duration": 302,
    "start_time": "2024-02-12T16:47:43.430Z"
   },
   {
    "duration": 214,
    "start_time": "2024-02-12T16:47:43.733Z"
   },
   {
    "duration": 294,
    "start_time": "2024-02-12T16:47:43.948Z"
   },
   {
    "duration": 10,
    "start_time": "2024-02-12T16:47:44.243Z"
   },
   {
    "duration": 19,
    "start_time": "2024-02-12T16:47:44.255Z"
   },
   {
    "duration": 151,
    "start_time": "2024-02-12T16:47:44.275Z"
   },
   {
    "duration": 3,
    "start_time": "2024-02-12T16:47:44.428Z"
   },
   {
    "duration": 10,
    "start_time": "2024-02-12T16:47:44.432Z"
   },
   {
    "duration": 6,
    "start_time": "2024-02-12T16:47:44.443Z"
   },
   {
    "duration": 150,
    "start_time": "2024-02-12T16:47:44.453Z"
   },
   {
    "duration": 3,
    "start_time": "2024-02-12T16:47:44.605Z"
   },
   {
    "duration": 9,
    "start_time": "2024-02-12T16:47:44.610Z"
   },
   {
    "duration": 18,
    "start_time": "2024-02-12T16:47:44.621Z"
   },
   {
    "duration": 16,
    "start_time": "2024-02-12T16:47:44.641Z"
   },
   {
    "duration": 70,
    "start_time": "2024-02-12T16:47:44.658Z"
   },
   {
    "duration": 59,
    "start_time": "2024-02-12T16:47:44.730Z"
   },
   {
    "duration": 16,
    "start_time": "2024-02-12T16:47:44.790Z"
   },
   {
    "duration": 13,
    "start_time": "2024-02-12T16:47:44.808Z"
   },
   {
    "duration": 47,
    "start_time": "2024-02-12T16:47:44.823Z"
   },
   {
    "duration": 62,
    "start_time": "2024-02-12T16:47:44.871Z"
   },
   {
    "duration": 40,
    "start_time": "2024-02-12T16:47:44.934Z"
   },
   {
    "duration": 72,
    "start_time": "2024-02-12T16:47:44.976Z"
   },
   {
    "duration": 146,
    "start_time": "2024-02-12T16:47:45.050Z"
   },
   {
    "duration": 7,
    "start_time": "2024-02-12T16:47:45.198Z"
   },
   {
    "duration": 36,
    "start_time": "2024-02-12T16:47:45.206Z"
   },
   {
    "duration": 47,
    "start_time": "2024-02-12T16:47:45.243Z"
   },
   {
    "duration": 37,
    "start_time": "2024-02-12T16:47:45.292Z"
   },
   {
    "duration": 38,
    "start_time": "2024-02-12T16:47:45.331Z"
   },
   {
    "duration": 46,
    "start_time": "2024-02-12T16:47:45.370Z"
   },
   {
    "duration": 103,
    "start_time": "2024-02-12T16:47:45.418Z"
   },
   {
    "duration": 73,
    "start_time": "2024-02-12T16:47:45.522Z"
   },
   {
    "duration": 6,
    "start_time": "2024-02-12T16:47:45.596Z"
   },
   {
    "duration": 28,
    "start_time": "2024-02-12T16:47:45.603Z"
   },
   {
    "duration": 30,
    "start_time": "2024-02-12T16:47:45.632Z"
   },
   {
    "duration": 29,
    "start_time": "2024-02-12T16:47:45.664Z"
   },
   {
    "duration": 50,
    "start_time": "2024-02-12T16:47:45.694Z"
   },
   {
    "duration": 66,
    "start_time": "2024-02-12T16:47:45.746Z"
   },
   {
    "duration": 30,
    "start_time": "2024-02-12T16:47:45.813Z"
   },
   {
    "duration": 168,
    "start_time": "2024-02-12T16:47:45.844Z"
   },
   {
    "duration": 13,
    "start_time": "2024-02-12T16:47:46.013Z"
   },
   {
    "duration": 48,
    "start_time": "2024-02-12T16:47:46.027Z"
   },
   {
    "duration": 20,
    "start_time": "2024-02-12T16:47:46.076Z"
   },
   {
    "duration": 311,
    "start_time": "2024-02-12T16:47:46.098Z"
   }
  ],
  "kernelspec": {
   "display_name": "Python 3 (ipykernel)",
   "language": "python",
   "name": "python3"
  },
  "language_info": {
   "codemirror_mode": {
    "name": "ipython",
    "version": 3
   },
   "file_extension": ".py",
   "mimetype": "text/x-python",
   "name": "python",
   "nbconvert_exporter": "python",
   "pygments_lexer": "ipython3",
   "version": "3.9.5"
  },
  "toc": {
   "base_numbering": 1,
   "nav_menu": {},
   "number_sections": true,
   "sideBar": true,
   "skip_h1_title": true,
   "title_cell": "Table of Contents",
   "title_sidebar": "Contents",
   "toc_cell": false,
   "toc_position": {
    "height": "calc(100% - 180px)",
    "left": "10px",
    "top": "150px",
    "width": "447.6px"
   },
   "toc_section_display": true,
   "toc_window_display": true
  }
 },
 "nbformat": 4,
 "nbformat_minor": 2
}
