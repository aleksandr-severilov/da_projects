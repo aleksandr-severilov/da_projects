{
 "cells": [
  {
   "cell_type": "markdown",
   "id": "386f2ae7",
   "metadata": {
    "deletable": false,
    "editable": false,
    "id": "386f2ae7"
   },
   "source": [
    "# Исследование надежности заемщиков\n"
   ]
  },
  {
   "cell_type": "markdown",
   "id": "ffe86f65",
   "metadata": {
    "deletable": false,
    "editable": false,
    "id": "ffe86f65"
   },
   "source": [
    "Во второй части проекта вы выполните шаги 3 и 4. Их вручную проверит ревьюер.\n",
    "Чтобы вам не пришлось писать код заново для шагов 1 и 2, мы добавили авторские решения в ячейки с кодом. \n",
    "\n"
   ]
  },
  {
   "cell_type": "markdown",
   "id": "26613308",
   "metadata": {
    "deletable": false,
    "editable": false,
    "id": "26613308"
   },
   "source": [
    "## Откройте таблицу и изучите общую информацию о данных"
   ]
  },
  {
   "cell_type": "markdown",
   "id": "3c9f838e",
   "metadata": {
    "deletable": false,
    "editable": false,
    "id": "3c9f838e"
   },
   "source": [
    "**Задание 1. Импортируйте библиотеку pandas. Считайте данные из csv-файла в датафрейм и сохраните в переменную `data`. Путь к файлу:**\n",
    "\n",
    "`/datasets/data.csv`"
   ]
  },
  {
   "cell_type": "code",
   "execution_count": 1,
   "id": "77a68a90",
   "metadata": {
    "deletable": false,
    "id": "77a68a90"
   },
   "outputs": [],
   "source": [
    "import pandas as pd\n",
    "\n",
    "try:\n",
    "    data = pd.read_csv('/datasets/data.csv')\n",
    "except:\n",
    "    data = pd.read_csv('')"
   ]
  },
  {
   "cell_type": "markdown",
   "id": "45365635",
   "metadata": {
    "deletable": false,
    "editable": false,
    "id": "45365635"
   },
   "source": [
    "**Задание 2. Выведите первые 20 строчек датафрейма `data` на экран.**"
   ]
  },
  {
   "cell_type": "code",
   "execution_count": 2,
   "id": "b0451a9a",
   "metadata": {
    "deletable": false,
    "id": "b0451a9a",
    "outputId": "1a8f3ef2-d323-4ec2-ddf7-89670b5944c4"
   },
   "outputs": [
    {
     "data": {
      "text/html": [
       "<div>\n",
       "<style scoped>\n",
       "    .dataframe tbody tr th:only-of-type {\n",
       "        vertical-align: middle;\n",
       "    }\n",
       "\n",
       "    .dataframe tbody tr th {\n",
       "        vertical-align: top;\n",
       "    }\n",
       "\n",
       "    .dataframe thead th {\n",
       "        text-align: right;\n",
       "    }\n",
       "</style>\n",
       "<table border=\"1\" class=\"dataframe\">\n",
       "  <thead>\n",
       "    <tr style=\"text-align: right;\">\n",
       "      <th></th>\n",
       "      <th>children</th>\n",
       "      <th>days_employed</th>\n",
       "      <th>dob_years</th>\n",
       "      <th>education</th>\n",
       "      <th>education_id</th>\n",
       "      <th>family_status</th>\n",
       "      <th>family_status_id</th>\n",
       "      <th>gender</th>\n",
       "      <th>income_type</th>\n",
       "      <th>debt</th>\n",
       "      <th>total_income</th>\n",
       "      <th>purpose</th>\n",
       "    </tr>\n",
       "  </thead>\n",
       "  <tbody>\n",
       "    <tr>\n",
       "      <th>0</th>\n",
       "      <td>1</td>\n",
       "      <td>-8437.673028</td>\n",
       "      <td>42</td>\n",
       "      <td>высшее</td>\n",
       "      <td>0</td>\n",
       "      <td>женат / замужем</td>\n",
       "      <td>0</td>\n",
       "      <td>F</td>\n",
       "      <td>сотрудник</td>\n",
       "      <td>0</td>\n",
       "      <td>253875.639453</td>\n",
       "      <td>покупка жилья</td>\n",
       "    </tr>\n",
       "    <tr>\n",
       "      <th>1</th>\n",
       "      <td>1</td>\n",
       "      <td>-4024.803754</td>\n",
       "      <td>36</td>\n",
       "      <td>среднее</td>\n",
       "      <td>1</td>\n",
       "      <td>женат / замужем</td>\n",
       "      <td>0</td>\n",
       "      <td>F</td>\n",
       "      <td>сотрудник</td>\n",
       "      <td>0</td>\n",
       "      <td>112080.014102</td>\n",
       "      <td>приобретение автомобиля</td>\n",
       "    </tr>\n",
       "    <tr>\n",
       "      <th>2</th>\n",
       "      <td>0</td>\n",
       "      <td>-5623.422610</td>\n",
       "      <td>33</td>\n",
       "      <td>Среднее</td>\n",
       "      <td>1</td>\n",
       "      <td>женат / замужем</td>\n",
       "      <td>0</td>\n",
       "      <td>M</td>\n",
       "      <td>сотрудник</td>\n",
       "      <td>0</td>\n",
       "      <td>145885.952297</td>\n",
       "      <td>покупка жилья</td>\n",
       "    </tr>\n",
       "    <tr>\n",
       "      <th>3</th>\n",
       "      <td>3</td>\n",
       "      <td>-4124.747207</td>\n",
       "      <td>32</td>\n",
       "      <td>среднее</td>\n",
       "      <td>1</td>\n",
       "      <td>женат / замужем</td>\n",
       "      <td>0</td>\n",
       "      <td>M</td>\n",
       "      <td>сотрудник</td>\n",
       "      <td>0</td>\n",
       "      <td>267628.550329</td>\n",
       "      <td>дополнительное образование</td>\n",
       "    </tr>\n",
       "    <tr>\n",
       "      <th>4</th>\n",
       "      <td>0</td>\n",
       "      <td>340266.072047</td>\n",
       "      <td>53</td>\n",
       "      <td>среднее</td>\n",
       "      <td>1</td>\n",
       "      <td>гражданский брак</td>\n",
       "      <td>1</td>\n",
       "      <td>F</td>\n",
       "      <td>пенсионер</td>\n",
       "      <td>0</td>\n",
       "      <td>158616.077870</td>\n",
       "      <td>сыграть свадьбу</td>\n",
       "    </tr>\n",
       "    <tr>\n",
       "      <th>5</th>\n",
       "      <td>0</td>\n",
       "      <td>-926.185831</td>\n",
       "      <td>27</td>\n",
       "      <td>высшее</td>\n",
       "      <td>0</td>\n",
       "      <td>гражданский брак</td>\n",
       "      <td>1</td>\n",
       "      <td>M</td>\n",
       "      <td>компаньон</td>\n",
       "      <td>0</td>\n",
       "      <td>255763.565419</td>\n",
       "      <td>покупка жилья</td>\n",
       "    </tr>\n",
       "    <tr>\n",
       "      <th>6</th>\n",
       "      <td>0</td>\n",
       "      <td>-2879.202052</td>\n",
       "      <td>43</td>\n",
       "      <td>высшее</td>\n",
       "      <td>0</td>\n",
       "      <td>женат / замужем</td>\n",
       "      <td>0</td>\n",
       "      <td>F</td>\n",
       "      <td>компаньон</td>\n",
       "      <td>0</td>\n",
       "      <td>240525.971920</td>\n",
       "      <td>операции с жильем</td>\n",
       "    </tr>\n",
       "    <tr>\n",
       "      <th>7</th>\n",
       "      <td>0</td>\n",
       "      <td>-152.779569</td>\n",
       "      <td>50</td>\n",
       "      <td>СРЕДНЕЕ</td>\n",
       "      <td>1</td>\n",
       "      <td>женат / замужем</td>\n",
       "      <td>0</td>\n",
       "      <td>M</td>\n",
       "      <td>сотрудник</td>\n",
       "      <td>0</td>\n",
       "      <td>135823.934197</td>\n",
       "      <td>образование</td>\n",
       "    </tr>\n",
       "    <tr>\n",
       "      <th>8</th>\n",
       "      <td>2</td>\n",
       "      <td>-6929.865299</td>\n",
       "      <td>35</td>\n",
       "      <td>ВЫСШЕЕ</td>\n",
       "      <td>0</td>\n",
       "      <td>гражданский брак</td>\n",
       "      <td>1</td>\n",
       "      <td>F</td>\n",
       "      <td>сотрудник</td>\n",
       "      <td>0</td>\n",
       "      <td>95856.832424</td>\n",
       "      <td>на проведение свадьбы</td>\n",
       "    </tr>\n",
       "    <tr>\n",
       "      <th>9</th>\n",
       "      <td>0</td>\n",
       "      <td>-2188.756445</td>\n",
       "      <td>41</td>\n",
       "      <td>среднее</td>\n",
       "      <td>1</td>\n",
       "      <td>женат / замужем</td>\n",
       "      <td>0</td>\n",
       "      <td>M</td>\n",
       "      <td>сотрудник</td>\n",
       "      <td>0</td>\n",
       "      <td>144425.938277</td>\n",
       "      <td>покупка жилья для семьи</td>\n",
       "    </tr>\n",
       "    <tr>\n",
       "      <th>10</th>\n",
       "      <td>2</td>\n",
       "      <td>-4171.483647</td>\n",
       "      <td>36</td>\n",
       "      <td>высшее</td>\n",
       "      <td>0</td>\n",
       "      <td>женат / замужем</td>\n",
       "      <td>0</td>\n",
       "      <td>M</td>\n",
       "      <td>компаньон</td>\n",
       "      <td>0</td>\n",
       "      <td>113943.491460</td>\n",
       "      <td>покупка недвижимости</td>\n",
       "    </tr>\n",
       "    <tr>\n",
       "      <th>11</th>\n",
       "      <td>0</td>\n",
       "      <td>-792.701887</td>\n",
       "      <td>40</td>\n",
       "      <td>среднее</td>\n",
       "      <td>1</td>\n",
       "      <td>женат / замужем</td>\n",
       "      <td>0</td>\n",
       "      <td>F</td>\n",
       "      <td>сотрудник</td>\n",
       "      <td>0</td>\n",
       "      <td>77069.234271</td>\n",
       "      <td>покупка коммерческой недвижимости</td>\n",
       "    </tr>\n",
       "    <tr>\n",
       "      <th>12</th>\n",
       "      <td>0</td>\n",
       "      <td>NaN</td>\n",
       "      <td>65</td>\n",
       "      <td>среднее</td>\n",
       "      <td>1</td>\n",
       "      <td>гражданский брак</td>\n",
       "      <td>1</td>\n",
       "      <td>M</td>\n",
       "      <td>пенсионер</td>\n",
       "      <td>0</td>\n",
       "      <td>NaN</td>\n",
       "      <td>сыграть свадьбу</td>\n",
       "    </tr>\n",
       "    <tr>\n",
       "      <th>13</th>\n",
       "      <td>0</td>\n",
       "      <td>-1846.641941</td>\n",
       "      <td>54</td>\n",
       "      <td>неоконченное высшее</td>\n",
       "      <td>2</td>\n",
       "      <td>женат / замужем</td>\n",
       "      <td>0</td>\n",
       "      <td>F</td>\n",
       "      <td>сотрудник</td>\n",
       "      <td>0</td>\n",
       "      <td>130458.228857</td>\n",
       "      <td>приобретение автомобиля</td>\n",
       "    </tr>\n",
       "    <tr>\n",
       "      <th>14</th>\n",
       "      <td>0</td>\n",
       "      <td>-1844.956182</td>\n",
       "      <td>56</td>\n",
       "      <td>высшее</td>\n",
       "      <td>0</td>\n",
       "      <td>гражданский брак</td>\n",
       "      <td>1</td>\n",
       "      <td>F</td>\n",
       "      <td>компаньон</td>\n",
       "      <td>1</td>\n",
       "      <td>165127.911772</td>\n",
       "      <td>покупка жилой недвижимости</td>\n",
       "    </tr>\n",
       "    <tr>\n",
       "      <th>15</th>\n",
       "      <td>1</td>\n",
       "      <td>-972.364419</td>\n",
       "      <td>26</td>\n",
       "      <td>среднее</td>\n",
       "      <td>1</td>\n",
       "      <td>женат / замужем</td>\n",
       "      <td>0</td>\n",
       "      <td>F</td>\n",
       "      <td>сотрудник</td>\n",
       "      <td>0</td>\n",
       "      <td>116820.904450</td>\n",
       "      <td>строительство собственной недвижимости</td>\n",
       "    </tr>\n",
       "    <tr>\n",
       "      <th>16</th>\n",
       "      <td>0</td>\n",
       "      <td>-1719.934226</td>\n",
       "      <td>35</td>\n",
       "      <td>среднее</td>\n",
       "      <td>1</td>\n",
       "      <td>женат / замужем</td>\n",
       "      <td>0</td>\n",
       "      <td>F</td>\n",
       "      <td>сотрудник</td>\n",
       "      <td>0</td>\n",
       "      <td>289202.704229</td>\n",
       "      <td>недвижимость</td>\n",
       "    </tr>\n",
       "    <tr>\n",
       "      <th>17</th>\n",
       "      <td>0</td>\n",
       "      <td>-2369.999720</td>\n",
       "      <td>33</td>\n",
       "      <td>высшее</td>\n",
       "      <td>0</td>\n",
       "      <td>гражданский брак</td>\n",
       "      <td>1</td>\n",
       "      <td>M</td>\n",
       "      <td>сотрудник</td>\n",
       "      <td>0</td>\n",
       "      <td>90410.586745</td>\n",
       "      <td>строительство недвижимости</td>\n",
       "    </tr>\n",
       "    <tr>\n",
       "      <th>18</th>\n",
       "      <td>0</td>\n",
       "      <td>400281.136913</td>\n",
       "      <td>53</td>\n",
       "      <td>среднее</td>\n",
       "      <td>1</td>\n",
       "      <td>вдовец / вдова</td>\n",
       "      <td>2</td>\n",
       "      <td>F</td>\n",
       "      <td>пенсионер</td>\n",
       "      <td>0</td>\n",
       "      <td>56823.777243</td>\n",
       "      <td>на покупку подержанного автомобиля</td>\n",
       "    </tr>\n",
       "    <tr>\n",
       "      <th>19</th>\n",
       "      <td>0</td>\n",
       "      <td>-10038.818549</td>\n",
       "      <td>48</td>\n",
       "      <td>СРЕДНЕЕ</td>\n",
       "      <td>1</td>\n",
       "      <td>в разводе</td>\n",
       "      <td>3</td>\n",
       "      <td>F</td>\n",
       "      <td>сотрудник</td>\n",
       "      <td>0</td>\n",
       "      <td>242831.107982</td>\n",
       "      <td>на покупку своего автомобиля</td>\n",
       "    </tr>\n",
       "  </tbody>\n",
       "</table>\n",
       "</div>"
      ],
      "text/plain": [
       "    children  days_employed  dob_years            education  education_id  \\\n",
       "0          1   -8437.673028         42               высшее             0   \n",
       "1          1   -4024.803754         36              среднее             1   \n",
       "2          0   -5623.422610         33              Среднее             1   \n",
       "3          3   -4124.747207         32              среднее             1   \n",
       "4          0  340266.072047         53              среднее             1   \n",
       "5          0    -926.185831         27               высшее             0   \n",
       "6          0   -2879.202052         43               высшее             0   \n",
       "7          0    -152.779569         50              СРЕДНЕЕ             1   \n",
       "8          2   -6929.865299         35               ВЫСШЕЕ             0   \n",
       "9          0   -2188.756445         41              среднее             1   \n",
       "10         2   -4171.483647         36               высшее             0   \n",
       "11         0    -792.701887         40              среднее             1   \n",
       "12         0            NaN         65              среднее             1   \n",
       "13         0   -1846.641941         54  неоконченное высшее             2   \n",
       "14         0   -1844.956182         56               высшее             0   \n",
       "15         1    -972.364419         26              среднее             1   \n",
       "16         0   -1719.934226         35              среднее             1   \n",
       "17         0   -2369.999720         33               высшее             0   \n",
       "18         0  400281.136913         53              среднее             1   \n",
       "19         0  -10038.818549         48              СРЕДНЕЕ             1   \n",
       "\n",
       "       family_status  family_status_id gender income_type  debt  \\\n",
       "0    женат / замужем                 0      F   сотрудник     0   \n",
       "1    женат / замужем                 0      F   сотрудник     0   \n",
       "2    женат / замужем                 0      M   сотрудник     0   \n",
       "3    женат / замужем                 0      M   сотрудник     0   \n",
       "4   гражданский брак                 1      F   пенсионер     0   \n",
       "5   гражданский брак                 1      M   компаньон     0   \n",
       "6    женат / замужем                 0      F   компаньон     0   \n",
       "7    женат / замужем                 0      M   сотрудник     0   \n",
       "8   гражданский брак                 1      F   сотрудник     0   \n",
       "9    женат / замужем                 0      M   сотрудник     0   \n",
       "10   женат / замужем                 0      M   компаньон     0   \n",
       "11   женат / замужем                 0      F   сотрудник     0   \n",
       "12  гражданский брак                 1      M   пенсионер     0   \n",
       "13   женат / замужем                 0      F   сотрудник     0   \n",
       "14  гражданский брак                 1      F   компаньон     1   \n",
       "15   женат / замужем                 0      F   сотрудник     0   \n",
       "16   женат / замужем                 0      F   сотрудник     0   \n",
       "17  гражданский брак                 1      M   сотрудник     0   \n",
       "18    вдовец / вдова                 2      F   пенсионер     0   \n",
       "19         в разводе                 3      F   сотрудник     0   \n",
       "\n",
       "     total_income                                 purpose  \n",
       "0   253875.639453                           покупка жилья  \n",
       "1   112080.014102                 приобретение автомобиля  \n",
       "2   145885.952297                           покупка жилья  \n",
       "3   267628.550329              дополнительное образование  \n",
       "4   158616.077870                         сыграть свадьбу  \n",
       "5   255763.565419                           покупка жилья  \n",
       "6   240525.971920                       операции с жильем  \n",
       "7   135823.934197                             образование  \n",
       "8    95856.832424                   на проведение свадьбы  \n",
       "9   144425.938277                 покупка жилья для семьи  \n",
       "10  113943.491460                    покупка недвижимости  \n",
       "11   77069.234271       покупка коммерческой недвижимости  \n",
       "12            NaN                         сыграть свадьбу  \n",
       "13  130458.228857                 приобретение автомобиля  \n",
       "14  165127.911772              покупка жилой недвижимости  \n",
       "15  116820.904450  строительство собственной недвижимости  \n",
       "16  289202.704229                            недвижимость  \n",
       "17   90410.586745              строительство недвижимости  \n",
       "18   56823.777243      на покупку подержанного автомобиля  \n",
       "19  242831.107982            на покупку своего автомобиля  "
      ]
     },
     "execution_count": 2,
     "metadata": {},
     "output_type": "execute_result"
    }
   ],
   "source": [
    "data.head(20)"
   ]
  },
  {
   "cell_type": "markdown",
   "id": "0ed8f27f",
   "metadata": {
    "deletable": false,
    "editable": false,
    "id": "0ed8f27f"
   },
   "source": [
    "**Задание 3. Выведите основную информацию о датафрейме с помощью метода `info()`.**"
   ]
  },
  {
   "cell_type": "code",
   "execution_count": 3,
   "id": "ab3f863b",
   "metadata": {
    "deletable": false,
    "id": "ab3f863b",
    "outputId": "15376089-8dad-46c9-b520-c05248d43158"
   },
   "outputs": [
    {
     "name": "stdout",
     "output_type": "stream",
     "text": [
      "<class 'pandas.core.frame.DataFrame'>\n",
      "RangeIndex: 21525 entries, 0 to 21524\n",
      "Data columns (total 12 columns):\n",
      " #   Column            Non-Null Count  Dtype  \n",
      "---  ------            --------------  -----  \n",
      " 0   children          21525 non-null  int64  \n",
      " 1   days_employed     19351 non-null  float64\n",
      " 2   dob_years         21525 non-null  int64  \n",
      " 3   education         21525 non-null  object \n",
      " 4   education_id      21525 non-null  int64  \n",
      " 5   family_status     21525 non-null  object \n",
      " 6   family_status_id  21525 non-null  int64  \n",
      " 7   gender            21525 non-null  object \n",
      " 8   income_type       21525 non-null  object \n",
      " 9   debt              21525 non-null  int64  \n",
      " 10  total_income      19351 non-null  float64\n",
      " 11  purpose           21525 non-null  object \n",
      "dtypes: float64(2), int64(5), object(5)\n",
      "memory usage: 2.0+ MB\n"
     ]
    }
   ],
   "source": [
    "data.info()"
   ]
  },
  {
   "cell_type": "markdown",
   "id": "60e3e22d",
   "metadata": {
    "deletable": false,
    "editable": false,
    "id": "60e3e22d"
   },
   "source": [
    "## Предобработка данных"
   ]
  },
  {
   "cell_type": "markdown",
   "id": "03dc170c",
   "metadata": {
    "deletable": false,
    "editable": false,
    "id": "03dc170c"
   },
   "source": [
    "### Удаление пропусков"
   ]
  },
  {
   "cell_type": "markdown",
   "id": "a4f54eef",
   "metadata": {
    "deletable": false,
    "editable": false,
    "id": "a4f54eef"
   },
   "source": [
    "**Задание 4. Выведите количество пропущенных значений для каждого столбца. Используйте комбинацию двух методов.**"
   ]
  },
  {
   "cell_type": "code",
   "execution_count": 4,
   "id": "2dc372b2",
   "metadata": {
    "deletable": false,
    "id": "2dc372b2",
    "outputId": "81f4d817-781c-465c-ed15-91ce4446810d"
   },
   "outputs": [
    {
     "data": {
      "text/plain": [
       "children               0\n",
       "days_employed       2174\n",
       "dob_years              0\n",
       "education              0\n",
       "education_id           0\n",
       "family_status          0\n",
       "family_status_id       0\n",
       "gender                 0\n",
       "income_type            0\n",
       "debt                   0\n",
       "total_income        2174\n",
       "purpose                0\n",
       "dtype: int64"
      ]
     },
     "execution_count": 4,
     "metadata": {},
     "output_type": "execute_result"
    }
   ],
   "source": [
    "data.isna().sum()"
   ]
  },
  {
   "cell_type": "markdown",
   "id": "14f011b1",
   "metadata": {
    "deletable": false,
    "editable": false,
    "id": "14f011b1"
   },
   "source": [
    "**Задание 5. В двух столбцах есть пропущенные значения. Один из них — `days_employed`. Пропуски в этом столбце вы обработаете на следующем этапе. Другой столбец с пропущенными значениями — `total_income` — хранит данные о доходах. На сумму дохода сильнее всего влияет тип занятости, поэтому заполнить пропуски в этом столбце нужно медианным значением по каждому типу из столбца `income_type`. Например, у человека с типом занятости `сотрудник` пропуск в столбце `total_income` должен быть заполнен медианным доходом среди всех записей с тем же типом.**"
   ]
  },
  {
   "cell_type": "code",
   "execution_count": 5,
   "id": "bdabfb6e",
   "metadata": {
    "deletable": false,
    "id": "bdabfb6e"
   },
   "outputs": [],
   "source": [
    "for t in data['income_type'].unique():\n",
    "    data.loc[(data['income_type'] == t) & (data['total_income'].isna()), 'total_income'] = \\\n",
    "    data.loc[(data['income_type'] == t), 'total_income'].median()"
   ]
  },
  {
   "cell_type": "markdown",
   "id": "5be34059",
   "metadata": {
    "deletable": false,
    "editable": false,
    "id": "5be34059"
   },
   "source": [
    "### Обработка аномальных значений"
   ]
  },
  {
   "cell_type": "markdown",
   "id": "a87606cb",
   "metadata": {
    "deletable": false,
    "editable": false,
    "id": "a87606cb"
   },
   "source": [
    "**Задание 6. В данных могут встречаться артефакты (аномалии) — значения, которые не отражают действительность и появились по какой-то ошибке. таким артефактом будет отрицательное количество дней трудового стажа в столбце `days_employed`. Для реальных данных это нормально. Обработайте значения в этом столбце: замените все отрицательные значения положительными с помощью метода `abs()`.**"
   ]
  },
  {
   "cell_type": "code",
   "execution_count": 6,
   "id": "020c46cc",
   "metadata": {
    "deletable": false,
    "id": "020c46cc"
   },
   "outputs": [],
   "source": [
    "data['days_employed'] = data['days_employed'].abs()"
   ]
  },
  {
   "cell_type": "markdown",
   "id": "45538a3a",
   "metadata": {
    "deletable": false,
    "editable": false,
    "id": "45538a3a"
   },
   "source": [
    "**Задание 7. Для каждого типа занятости выведите медианное значение трудового стажа `days_employed` в днях.**"
   ]
  },
  {
   "cell_type": "code",
   "execution_count": 7,
   "id": "cd3e6328",
   "metadata": {
    "deletable": false,
    "id": "cd3e6328",
    "outputId": "801ef80e-522b-4668-f34e-565af7432bcf"
   },
   "outputs": [
    {
     "data": {
      "text/plain": [
       "income_type\n",
       "безработный        366413.652744\n",
       "в декрете            3296.759962\n",
       "госслужащий          2689.368353\n",
       "компаньон            1547.382223\n",
       "пенсионер          365213.306266\n",
       "предприниматель       520.848083\n",
       "сотрудник            1574.202821\n",
       "студент               578.751554\n",
       "Name: days_employed, dtype: float64"
      ]
     },
     "execution_count": 7,
     "metadata": {},
     "output_type": "execute_result"
    }
   ],
   "source": [
    "data.groupby('income_type')['days_employed'].agg('median')"
   ]
  },
  {
   "cell_type": "markdown",
   "id": "90c5f058",
   "metadata": {
    "deletable": false,
    "editable": false,
    "id": "90c5f058"
   },
   "source": [
    "У двух типов (безработные и пенсионеры) получатся аномально большие значения. Исправить такие значения сложно, поэтому оставьте их как есть."
   ]
  },
  {
   "cell_type": "markdown",
   "id": "9652e50d",
   "metadata": {
    "deletable": false,
    "editable": false,
    "id": "9652e50d"
   },
   "source": [
    "**Задание 8. Выведите перечень уникальных значений столбца `children`.**"
   ]
  },
  {
   "cell_type": "code",
   "execution_count": 8,
   "id": "dbb37b8e",
   "metadata": {
    "deletable": false,
    "id": "dbb37b8e",
    "outputId": "6975b15c-7f95-4697-d16d-a0c79b657b03"
   },
   "outputs": [
    {
     "data": {
      "text/plain": [
       "array([ 1,  0,  3,  2, -1,  4, 20,  5])"
      ]
     },
     "execution_count": 8,
     "metadata": {},
     "output_type": "execute_result"
    }
   ],
   "source": [
    "data['children'].unique()"
   ]
  },
  {
   "cell_type": "markdown",
   "id": "2b8b0715",
   "metadata": {
    "deletable": false,
    "editable": false,
    "id": "2b8b0715"
   },
   "source": [
    "**Задание 9. В столбце `children` есть два аномальных значения. Удалите строки, в которых встречаются такие аномальные значения из датафрейма `data`.**"
   ]
  },
  {
   "cell_type": "code",
   "execution_count": 9,
   "id": "20009df8",
   "metadata": {
    "deletable": false,
    "id": "20009df8"
   },
   "outputs": [],
   "source": [
    "data = data[(data['children'] != -1) & (data['children'] != 20)]"
   ]
  },
  {
   "cell_type": "markdown",
   "id": "8c6ac9f1",
   "metadata": {
    "deletable": false,
    "editable": false,
    "id": "8c6ac9f1"
   },
   "source": [
    "**Задание 10. Ещё раз выведите перечень уникальных значений столбца `children`, чтобы убедиться, что артефакты удалены.**"
   ]
  },
  {
   "cell_type": "code",
   "execution_count": 10,
   "id": "07337b81",
   "metadata": {
    "deletable": false,
    "id": "07337b81",
    "outputId": "b2097101-d49d-44d9-901b-32a65c9463d1"
   },
   "outputs": [
    {
     "data": {
      "text/plain": [
       "array([1, 0, 3, 2, 4, 5])"
      ]
     },
     "execution_count": 10,
     "metadata": {},
     "output_type": "execute_result"
    }
   ],
   "source": [
    "data['children'].unique()"
   ]
  },
  {
   "cell_type": "markdown",
   "id": "ee3f52d4",
   "metadata": {
    "deletable": false,
    "editable": false,
    "id": "ee3f52d4"
   },
   "source": [
    "### Удаление пропусков (продолжение)"
   ]
  },
  {
   "cell_type": "markdown",
   "id": "a700b0e4",
   "metadata": {
    "deletable": false,
    "editable": false,
    "id": "a700b0e4"
   },
   "source": [
    "**Задание 11. Заполните пропуски в столбце `days_employed` медианными значениями по каждого типа занятости `income_type`.**"
   ]
  },
  {
   "cell_type": "code",
   "execution_count": 11,
   "id": "61946b83",
   "metadata": {
    "deletable": false,
    "id": "61946b83"
   },
   "outputs": [],
   "source": [
    "for t in data['income_type'].unique():\n",
    "    data.loc[(data['income_type'] == t) & (data['days_employed'].isna()), 'days_employed'] = \\\n",
    "    data.loc[(data['income_type'] == t), 'days_employed'].median()"
   ]
  },
  {
   "cell_type": "markdown",
   "id": "550dcd9b",
   "metadata": {
    "deletable": false,
    "editable": false,
    "id": "550dcd9b"
   },
   "source": [
    "**Задание 12. Убедитесь, что все пропуски заполнены. Проверьте себя и ещё раз выведите количество пропущенных значений для каждого столбца с помощью двух методов.**"
   ]
  },
  {
   "cell_type": "code",
   "execution_count": 12,
   "id": "937c7014",
   "metadata": {
    "deletable": false,
    "id": "937c7014",
    "outputId": "8da1e4e1-358e-4e87-98c9-f261bce0a7b2"
   },
   "outputs": [
    {
     "data": {
      "text/plain": [
       "children            0\n",
       "days_employed       0\n",
       "dob_years           0\n",
       "education           0\n",
       "education_id        0\n",
       "family_status       0\n",
       "family_status_id    0\n",
       "gender              0\n",
       "income_type         0\n",
       "debt                0\n",
       "total_income        0\n",
       "purpose             0\n",
       "dtype: int64"
      ]
     },
     "execution_count": 12,
     "metadata": {},
     "output_type": "execute_result"
    }
   ],
   "source": [
    "data.isna().sum()"
   ]
  },
  {
   "cell_type": "markdown",
   "id": "d522e295",
   "metadata": {
    "deletable": false,
    "editable": false,
    "id": "d522e295"
   },
   "source": [
    "### Изменение типов данных"
   ]
  },
  {
   "cell_type": "markdown",
   "id": "c229c581",
   "metadata": {
    "deletable": false,
    "editable": false,
    "id": "c229c581"
   },
   "source": [
    "**Задание 13. Замените вещественный тип данных в столбце `total_income` на целочисленный с помощью метода `astype()`.**"
   ]
  },
  {
   "cell_type": "code",
   "execution_count": 13,
   "id": "31036462",
   "metadata": {
    "deletable": false,
    "id": "31036462"
   },
   "outputs": [],
   "source": [
    "data['total_income'] = data['total_income'].astype(int)"
   ]
  },
  {
   "cell_type": "markdown",
   "id": "b8e3d1d9",
   "metadata": {
    "deletable": false,
    "editable": false,
    "id": "b8e3d1d9"
   },
   "source": [
    "### Обработка дубликатов"
   ]
  },
  {
   "cell_type": "markdown",
   "id": "9be53c49",
   "metadata": {
    "deletable": false,
    "editable": false,
    "id": "9be53c49"
   },
   "source": [
    "**Задание 14. Обработайте неявные дубликаты в столбце `education`. В этом столбце есть одни и те же значения, но записанные по-разному: с использованием заглавных и строчных букв. Приведите их к нижнему регистру.**"
   ]
  },
  {
   "cell_type": "code",
   "execution_count": 14,
   "id": "d89e73e1",
   "metadata": {
    "deletable": false,
    "id": "d89e73e1"
   },
   "outputs": [],
   "source": [
    "data['education'] = data['education'].str.lower()"
   ]
  },
  {
   "cell_type": "markdown",
   "id": "01d4500e",
   "metadata": {
    "deletable": false,
    "editable": false,
    "id": "01d4500e"
   },
   "source": [
    "**Задание 15. Выведите на экран количество строк-дубликатов в данных. Если такие строки присутствуют, удалите их.**"
   ]
  },
  {
   "cell_type": "code",
   "execution_count": 15,
   "id": "e10efb23",
   "metadata": {
    "deletable": false,
    "id": "e10efb23",
    "outputId": "9684deba-1934-42d1-99e1-cda61740f822"
   },
   "outputs": [
    {
     "data": {
      "text/plain": [
       "71"
      ]
     },
     "execution_count": 15,
     "metadata": {},
     "output_type": "execute_result"
    }
   ],
   "source": [
    "data.duplicated().sum()"
   ]
  },
  {
   "cell_type": "code",
   "execution_count": 16,
   "id": "df853f20",
   "metadata": {
    "deletable": false,
    "id": "df853f20"
   },
   "outputs": [],
   "source": [
    "data = data.drop_duplicates()"
   ]
  },
  {
   "cell_type": "markdown",
   "id": "627be38f",
   "metadata": {
    "deletable": false,
    "editable": false,
    "id": "627be38f"
   },
   "source": [
    "### Категоризация данных"
   ]
  },
  {
   "cell_type": "markdown",
   "id": "4684c3e0",
   "metadata": {
    "deletable": false,
    "editable": false,
    "id": "4684c3e0"
   },
   "source": [
    "**Задание 16. На основании диапазонов, указанных ниже, создайте в датафрейме `data` столбец `total_income_category` с категориями:**\n",
    "\n",
    "- 0–30000 — `'E'`;\n",
    "- 30001–50000 — `'D'`;\n",
    "- 50001–200000 — `'C'`;\n",
    "- 200001–1000000 — `'B'`;\n",
    "- 1000001 и выше — `'A'`.\n",
    "\n",
    "\n",
    "**Например, кредитополучателю с доходом 25000 нужно назначить категорию `'E'`, а клиенту, получающему 235000, — `'B'`. Используйте собственную функцию с именем `categorize_income()` и метод `apply()`.**"
   ]
  },
  {
   "cell_type": "code",
   "execution_count": 17,
   "id": "78965238",
   "metadata": {
    "deletable": false,
    "id": "78965238"
   },
   "outputs": [],
   "source": [
    "def categorize_income(income):\n",
    "    try:\n",
    "        if 0 <= income <= 30000:\n",
    "            return 'E'\n",
    "        elif 30001 <= income <= 50000:\n",
    "            return 'D'\n",
    "        elif 50001 <= income <= 200000:\n",
    "            return 'C'\n",
    "        elif 200001 <= income <= 1000000:\n",
    "            return 'B'\n",
    "        elif income >= 1000001:\n",
    "            return 'A'\n",
    "    except:\n",
    "        pass"
   ]
  },
  {
   "cell_type": "code",
   "execution_count": 18,
   "id": "0980ada1",
   "metadata": {
    "deletable": false,
    "id": "0980ada1"
   },
   "outputs": [],
   "source": [
    "data['total_income_category'] = data['total_income'].apply(categorize_income)"
   ]
  },
  {
   "cell_type": "markdown",
   "id": "9917bba0",
   "metadata": {
    "deletable": false,
    "editable": false,
    "id": "9917bba0"
   },
   "source": [
    "**Задание 17. Выведите на экран перечень уникальных целей взятия кредита из столбца `purpose`.**"
   ]
  },
  {
   "cell_type": "code",
   "execution_count": 19,
   "id": "ee07b65e",
   "metadata": {
    "deletable": false,
    "id": "ee07b65e",
    "outputId": "673c12d9-7d7e-4ae0-9812-c622c89dd244"
   },
   "outputs": [
    {
     "data": {
      "text/plain": [
       "array(['покупка жилья', 'приобретение автомобиля',\n",
       "       'дополнительное образование', 'сыграть свадьбу',\n",
       "       'операции с жильем', 'образование', 'на проведение свадьбы',\n",
       "       'покупка жилья для семьи', 'покупка недвижимости',\n",
       "       'покупка коммерческой недвижимости', 'покупка жилой недвижимости',\n",
       "       'строительство собственной недвижимости', 'недвижимость',\n",
       "       'строительство недвижимости', 'на покупку подержанного автомобиля',\n",
       "       'на покупку своего автомобиля',\n",
       "       'операции с коммерческой недвижимостью',\n",
       "       'строительство жилой недвижимости', 'жилье',\n",
       "       'операции со своей недвижимостью', 'автомобили',\n",
       "       'заняться образованием', 'сделка с подержанным автомобилем',\n",
       "       'получение образования', 'автомобиль', 'свадьба',\n",
       "       'получение дополнительного образования', 'покупка своего жилья',\n",
       "       'операции с недвижимостью', 'получение высшего образования',\n",
       "       'свой автомобиль', 'сделка с автомобилем',\n",
       "       'профильное образование', 'высшее образование',\n",
       "       'покупка жилья для сдачи', 'на покупку автомобиля', 'ремонт жилью',\n",
       "       'заняться высшим образованием'], dtype=object)"
      ]
     },
     "execution_count": 19,
     "metadata": {},
     "output_type": "execute_result"
    }
   ],
   "source": [
    "data['purpose'].unique()"
   ]
  },
  {
   "cell_type": "markdown",
   "id": "52b79d56",
   "metadata": {
    "deletable": false,
    "editable": false,
    "id": "52b79d56"
   },
   "source": [
    "**Задание 18. Создайте функцию, которая на основании данных из столбца `purpose` сформирует новый столбец `purpose_category`, в который войдут следующие категории:**\n",
    "\n",
    "- `'операции с автомобилем'`,\n",
    "- `'операции с недвижимостью'`,\n",
    "- `'проведение свадьбы'`,\n",
    "- `'получение образования'`.\n",
    "\n",
    "**Например, если в столбце `purpose` находится подстрока `'на покупку автомобиля'`, то в столбце `purpose_category` должна появиться строка `'операции с автомобилем'`.**\n",
    "\n",
    "**Используйте собственную функцию с именем `categorize_purpose()` и метод `apply()`. Изучите данные в столбце `purpose` и определите, какие подстроки помогут вам правильно определить категорию.**"
   ]
  },
  {
   "cell_type": "code",
   "execution_count": 20,
   "id": "be41da5d",
   "metadata": {
    "deletable": false,
    "id": "be41da5d"
   },
   "outputs": [],
   "source": [
    "def categorize_purpose(row):\n",
    "    try:\n",
    "        if 'автом' in row:\n",
    "            return 'операции с автомобилем'\n",
    "        elif 'жил' in row or 'недвиж' in row:\n",
    "            return 'операции с недвижимостью'\n",
    "        elif 'свад' in row:\n",
    "            return 'проведение свадьбы'\n",
    "        elif 'образов' in row:\n",
    "            return 'получение образования'\n",
    "    except:\n",
    "        return 'нет категории'"
   ]
  },
  {
   "cell_type": "code",
   "execution_count": 21,
   "id": "94c4a19a",
   "metadata": {
    "deletable": false,
    "id": "94c4a19a"
   },
   "outputs": [
    {
     "data": {
      "text/plain": [
       "0        операции с недвижимостью\n",
       "1          операции с автомобилем\n",
       "2        операции с недвижимостью\n",
       "3           получение образования\n",
       "4              проведение свадьбы\n",
       "                   ...           \n",
       "21520    операции с недвижимостью\n",
       "21521      операции с автомобилем\n",
       "21522    операции с недвижимостью\n",
       "21523      операции с автомобилем\n",
       "21524      операции с автомобилем\n",
       "Name: purpose_category, Length: 21331, dtype: object"
      ]
     },
     "execution_count": 21,
     "metadata": {},
     "output_type": "execute_result"
    }
   ],
   "source": [
    "data['purpose_category'] = data['purpose'].apply(categorize_purpose)\n",
    "data['purpose_category']"
   ]
  },
  {
   "cell_type": "markdown",
   "id": "3d596c34",
   "metadata": {
    "deletable": false,
    "editable": false,
    "id": "3d596c34"
   },
   "source": [
    "### Шаг 3. Исследуйте данные и ответьте на вопросы"
   ]
  },
  {
   "cell_type": "markdown",
   "id": "84e49e81",
   "metadata": {},
   "source": [
    "**Предварительная оценка заданий**\n",
    "\n",
    "Вопросы, заданные в пунктах 2.7.1 - 2.7.4 имеют схожую структуру, и для ответа на них требуется расчет одного \n",
    "и того же показателя - \n",
    "процентного отношения невыплаченных в срок кредитов к общему количеству кредитов. Отличаются только категориии заемщиков.\n",
    "\n",
    "В таком случае целесообразно создать функцию, в аргументе которой указывается столбец датафрейма, содержащий показатель, \n",
    "по которому необходимо категорирование.\n",
    "**Функция должна:**\n",
    "- группировать датафрейм по столбцу, указанному в аргументе функции.\n",
    "- считать количество просроченных и взятых кредитов по столбцу `debt` для каждой из категорий.\n",
    "- находить отношение количества просроченных кредитов к количеству взятых кредитов.\n",
    "- сводить всю получившуюся информацию в единую таблицу."
   ]
  },
  {
   "cell_type": "code",
   "execution_count": 22,
   "id": "3bcd375a",
   "metadata": {
    "deletable": false,
    "id": "7fcff25e"
   },
   "outputs": [],
   "source": [
    "# создаем функцию pivot_debt, в аргументе которой будет указываться столбец датафрейма, по которому требуется группировка\n",
    "def pivot_debt(column):\n",
    "# объявляем переменную table_debt, которой присваевается сводная таблица, где index берется из аргумента функции pivot_debt,\n",
    "# значения из столбца debt, а производимые действия - это sum и count.\n",
    "    table_debt = data.pivot_table(index=column,values='debt',aggfunc=['sum','count'])\n",
    "# Создаем новый столбец для table_debt, в котором будет соотношение количества должников и количество взятых кредитов.\n",
    "    table_debt['debtors_to_debts_ratio'] = table_debt['sum']['debt']/table_debt['count']['debt']\n",
    "# для более понятного и красивого отображения заголвков столбцов датафрейма применим метод reset_index.\n",
    "    table_debt_res = table_debt.reset_index()\n",
    "# переименуем столбцы так, чтобы было понятно, какая информация в них указана.\n",
    "    table_debt_res.rename(columns ={'sum':'debtors','count':'debts','debt':''},inplace=True)\n",
    "# Отсечем нерепрезентативные категории по признаку количества выданных кредитов. Я установил порог отсева равный 500.\n",
    "# для генеральной совокупности равной 21331 - это нормальный порог отсева или должен быть ниже?\n",
    "# Также в этой строке кода отсортируем строки по столбцу debtors_to_debts_ratio, чтобы на первом месте были самые высокорисковые группы.\n",
    "    table_debt_res_sort = table_debt_res.loc[table_debt_res['debts'] >= 500].sort_values(by='debtors_to_debts_ratio', ascending=False)\n",
    "# Добавим в датафрейм новый столбец, где соотношение должников к общему количеству кредитов будет отображено в процентах.\n",
    "    table_debt_res_sort['debtors_to_debts_ratio_percent'] = table_dhttps://k8s.jupyterhub.praktikum-services.ru/user/user-0-1591616925/notebooks/a078c6bc-6195-45c7-a4b2-a60eff4bc866.ipynb#3.1-%D0%95%D1%81%D1%82%D1%8C-%D0%BB%D0%B8-%D0%B7%D0%B0%D0%B2%D0%B8%D1%81%D0%B8%D0%BC%D0%BE%D1%81%D1%82%D1%8C-%D0%BC%D0%B5%D0%B6%D0%B4%D1%83-%D0%BA%D0%BE%D0%BB%D0%B8%D1%87%D0%B5%D1%81%D1%82%D0%B2%D0%BE%D0%BC-%D0%B4%D0%B5%D1%82%D0%B5%D0%B9-%D0%B8-%D0%B2%D0%BE%D0%B7%D0%B2%D1%80%D0%B0%D1%82%D0%BE%D0%BC-%D0%BA%D1%80%D0%B5%D0%B4%D0%B8%D1%82%D0%B0-%D0%B2-%D1%81%D1%80%D0%BE%D0%BA?ebt_res['debtors_to_debts_ratio'].apply('{:.2%}'.format)\n",
    "    return table_debt_res_sort"
   ]
  },
  {
   "cell_type": "markdown",
   "id": "648db036",
   "metadata": {
    "deletable": false,
    "editable": false,
    "id": "648db036"
   },
   "source": [
    "#### 3.1 Есть ли зависимость между количеством детей и возвратом кредита в срок?"
   ]
  },
  {
   "cell_type": "code",
   "execution_count": 23,
   "id": "c5eed380",
   "metadata": {},
   "outputs": [
    {
     "data": {
      "text/html": [
       "<div>\n",
       "<style scoped>\n",
       "    .dataframe tbody tr th:only-of-type {\n",
       "        vertical-align: middle;\n",
       "    }\n",
       "\n",
       "    .dataframe tbody tr th {\n",
       "        vertical-align: top;\n",
       "    }\n",
       "\n",
       "    .dataframe thead tr th {\n",
       "        text-align: left;\n",
       "    }\n",
       "</style>\n",
       "<table border=\"1\" class=\"dataframe\">\n",
       "  <thead>\n",
       "    <tr>\n",
       "      <th></th>\n",
       "      <th>children</th>\n",
       "      <th>debtors</th>\n",
       "      <th>debts</th>\n",
       "      <th>debtors_to_debts_ratio</th>\n",
       "      <th>debtors_to_debts_ratio_percent</th>\n",
       "    </tr>\n",
       "    <tr>\n",
       "      <th></th>\n",
       "      <th></th>\n",
       "      <th></th>\n",
       "      <th></th>\n",
       "      <th></th>\n",
       "      <th></th>\n",
       "    </tr>\n",
       "  </thead>\n",
       "  <tbody>\n",
       "    <tr>\n",
       "      <th>2</th>\n",
       "      <td>2</td>\n",
       "      <td>194</td>\n",
       "      <td>2052</td>\n",
       "      <td>0.094542</td>\n",
       "      <td>9.45%</td>\n",
       "    </tr>\n",
       "    <tr>\n",
       "      <th>1</th>\n",
       "      <td>1</td>\n",
       "      <td>444</td>\n",
       "      <td>4808</td>\n",
       "      <td>0.092346</td>\n",
       "      <td>9.23%</td>\n",
       "    </tr>\n",
       "    <tr>\n",
       "      <th>0</th>\n",
       "      <td>0</td>\n",
       "      <td>1063</td>\n",
       "      <td>14091</td>\n",
       "      <td>0.075438</td>\n",
       "      <td>7.54%</td>\n",
       "    </tr>\n",
       "  </tbody>\n",
       "</table>\n",
       "</div>"
      ],
      "text/plain": [
       "  children debtors  debts debtors_to_debts_ratio  \\\n",
       "                                                   \n",
       "2        2     194   2052               0.094542   \n",
       "1        1     444   4808               0.092346   \n",
       "0        0    1063  14091               0.075438   \n",
       "\n",
       "  debtors_to_debts_ratio_percent  \n",
       "                                  \n",
       "2                          9.45%  \n",
       "1                          9.23%  \n",
       "0                          7.54%  "
      ]
     },
     "execution_count": 23,
     "metadata": {},
     "output_type": "execute_result"
    }
   ],
   "source": [
    "children_debt = pivot_debt(data['children'])\n",
    "children_debt"
   ]
  },
  {
   "cell_type": "markdown",
   "id": "2eb9088e",
   "metadata": {
    "deletable": false,
    "id": "2eb9088e"
   },
   "source": [
    "<a id='children'></a>\n",
    "**Вывод:** Мы получили сводную таблицу, в которой представлены следующие данные:\n",
    "- `children` — количество детей у заемщика.\n",
    "- `debtors` — количество должников по кредиту.\n",
    "- `debts` — количество взятых кредитов.\n",
    "- `debtors_to_debts_ratio` — отношение количества должников к количеству взятых кредитов.\n",
    "- `debtors_to_debts_ratio_percent` — отношение количества должников к количеству взятых кредитов в процентах.\n",
    "\n",
    "По итогам отсева нерепрезентативных категорий (менее 500 выданных кредитов), осталось три категории:\n",
    "- безедетные заёмщики.\n",
    "- заёмщики с одним ребенком.\n",
    "- заёмщики с двумя детьми.\n",
    "\n",
    "Видно, что должников с 1 ребенком **на 1.69% больше**, чем бездетных должников: **7.54%** от количества бездетных заемщиков и **9.23%** должников от количества заемщиков с 1 ребенком. Также наблюдается тренд на дальнейшее увеличение количества должников в зависимости от количества детей. Так у заемщиков с двумя детьми процент должников составляет **9.45%**, что на **0.22% больше**, чем процент должников среди заемщиков с одним ребенком. Выборки для замещиков с 3 и более детьми оказались нерепрезентативными, в связи с чем невозможно проследить дальнейшее развитие тренда."
   ]
  },
  {
   "cell_type": "markdown",
   "id": "0e608105",
   "metadata": {},
   "source": [
    "[К итогам](#final)"
   ]
  },
  {
   "cell_type": "code",
   "execution_count": 24,
   "id": "76994c8a",
   "metadata": {},
   "outputs": [
    {
     "data": {
      "text/plain": [
       "9"
      ]
     },
     "execution_count": 24,
     "metadata": {},
     "output_type": "execute_result"
    }
   ],
   "source": [
    "data.loc[data['children'] == 5,'children'].count() #Посмотрим, сколько всего в датафрейме представлено людей, у которых 5 детей.\n",
    "#С помощью логической индексации отберем все строки с людьми, у которых 5 детей и с помощью метода count() считаем их количество."
   ]
  },
  {
   "cell_type": "code",
   "execution_count": 25,
   "id": "1d6f2d87",
   "metadata": {},
   "outputs": [
    {
     "data": {
      "text/plain": [
       "21331"
      ]
     },
     "execution_count": 25,
     "metadata": {},
     "output_type": "execute_result"
    }
   ],
   "source": [
    "data['children'].count() #Для сравнения посмотрим общее количество строк с информацией о детях."
   ]
  },
  {
   "cell_type": "markdown",
   "id": "6dd717b1",
   "metadata": {},
   "source": [
    "**Вывод:** Группа людей, у которых 5 детей, слишком незначительна относительно всего объема данных и поэтому нерепрезентативна. Поэтому при сравнении процента невыплаченных вовремя кредитов данную группу можно не учитывать."
   ]
  },
  {
   "cell_type": "markdown",
   "id": "74c9b3a7",
   "metadata": {
    "deletable": false,
    "editable": false,
    "id": "74c9b3a7"
   },
   "source": [
    "#### 3.2 Есть ли зависимость между семейным положением и возвратом кредита в срок?"
   ]
  },
  {
   "cell_type": "code",
   "execution_count": 26,
   "id": "8098ab3b",
   "metadata": {
    "deletable": false,
    "id": "8098ab3b"
   },
   "outputs": [
    {
     "data": {
      "text/plain": [
       "array(['женат / замужем', 'гражданский брак', 'вдовец / вдова',\n",
       "       'в разводе', 'Не женат / не замужем'], dtype=object)"
      ]
     },
     "execution_count": 26,
     "metadata": {},
     "output_type": "execute_result"
    }
   ],
   "source": [
    "data['family_status'].unique() # определим количество уникальных семейных положений, чтобы иметь представление, \n",
    "#с каким количеством категорий предстоит работать.\n",
    "\n"
   ]
  },
  {
   "cell_type": "markdown",
   "id": "cb51503b",
   "metadata": {},
   "source": [
    "**Вывод:** В переменной `family_status` всего 5 уникальных значений. Дополнительная категоризация не требуется. Можно переходить к определению доли невыплаченных в срок кредитов для каждой категории. "
   ]
  },
  {
   "cell_type": "code",
   "execution_count": 27,
   "id": "83d75851",
   "metadata": {},
   "outputs": [
    {
     "data": {
      "text/html": [
       "<div>\n",
       "<style scoped>\n",
       "    .dataframe tbody tr th:only-of-type {\n",
       "        vertical-align: middle;\n",
       "    }\n",
       "\n",
       "    .dataframe tbody tr th {\n",
       "        vertical-align: top;\n",
       "    }\n",
       "\n",
       "    .dataframe thead tr th {\n",
       "        text-align: left;\n",
       "    }\n",
       "</style>\n",
       "<table border=\"1\" class=\"dataframe\">\n",
       "  <thead>\n",
       "    <tr>\n",
       "      <th></th>\n",
       "      <th>family_status</th>\n",
       "      <th>debtors</th>\n",
       "      <th>debts</th>\n",
       "      <th>debtors_to_debts_ratio</th>\n",
       "      <th>debtors_to_debts_ratio_percent</th>\n",
       "    </tr>\n",
       "    <tr>\n",
       "      <th></th>\n",
       "      <th></th>\n",
       "      <th></th>\n",
       "      <th></th>\n",
       "      <th></th>\n",
       "      <th></th>\n",
       "    </tr>\n",
       "  </thead>\n",
       "  <tbody>\n",
       "    <tr>\n",
       "      <th>0</th>\n",
       "      <td>Не женат / не замужем</td>\n",
       "      <td>273</td>\n",
       "      <td>2796</td>\n",
       "      <td>0.097639</td>\n",
       "      <td>9.76%</td>\n",
       "    </tr>\n",
       "    <tr>\n",
       "      <th>3</th>\n",
       "      <td>гражданский брак</td>\n",
       "      <td>385</td>\n",
       "      <td>4134</td>\n",
       "      <td>0.093130</td>\n",
       "      <td>9.31%</td>\n",
       "    </tr>\n",
       "    <tr>\n",
       "      <th>4</th>\n",
       "      <td>женат / замужем</td>\n",
       "      <td>927</td>\n",
       "      <td>12261</td>\n",
       "      <td>0.075606</td>\n",
       "      <td>7.56%</td>\n",
       "    </tr>\n",
       "    <tr>\n",
       "      <th>1</th>\n",
       "      <td>в разводе</td>\n",
       "      <td>84</td>\n",
       "      <td>1189</td>\n",
       "      <td>0.070648</td>\n",
       "      <td>7.06%</td>\n",
       "    </tr>\n",
       "    <tr>\n",
       "      <th>2</th>\n",
       "      <td>вдовец / вдова</td>\n",
       "      <td>63</td>\n",
       "      <td>951</td>\n",
       "      <td>0.066246</td>\n",
       "      <td>6.62%</td>\n",
       "    </tr>\n",
       "  </tbody>\n",
       "</table>\n",
       "</div>"
      ],
      "text/plain": [
       "           family_status debtors  debts debtors_to_debts_ratio  \\\n",
       "                                                                 \n",
       "0  Не женат / не замужем     273   2796               0.097639   \n",
       "3       гражданский брак     385   4134               0.093130   \n",
       "4        женат / замужем     927  12261               0.075606   \n",
       "1              в разводе      84   1189               0.070648   \n",
       "2         вдовец / вдова      63    951               0.066246   \n",
       "\n",
       "  debtors_to_debts_ratio_percent  \n",
       "                                  \n",
       "0                          9.76%  \n",
       "3                          9.31%  \n",
       "4                          7.56%  \n",
       "1                          7.06%  \n",
       "2                          6.62%  "
      ]
     },
     "execution_count": 27,
     "metadata": {},
     "output_type": "execute_result"
    }
   ],
   "source": [
    "fam_status_debt = pivot_debt(data['family_status']) # применяем функцию pivot_debt, указав для группировки столбец 'family_status'\n",
    "fam_status_debt # выводим результат на экран"
   ]
  },
  {
   "cell_type": "markdown",
   "id": "c389ca63",
   "metadata": {
    "deletable": false,
    "id": "c389ca63"
   },
   "source": [
    "<a id='children'></a>\n",
    "**Вывод:** \n",
    "\n",
    "Мы получили сводную таблицу, в которой представлены следующие данные:\n",
    "- `children` — количество детей у заемщика.\n",
    "- `debtors` — количество должников по кредиту.\n",
    "- `debts` — количество взятых кредитов.\n",
    "- `debtors_to_debts_ratio` — отношение количества должников к количеству взятых кредитов.\n",
    "- `debtors_to_debts_ratio_percent` — отношение количества должников к количеству взятых кредитов в процентах.\n",
    "\n",
    "Для начала обращаем внимание, что все категории достаточно репрезентативны, чтобы попасть в итоговую выборку.\n",
    "Также можно заметить, что результаты по категориям разделяются на две группы:\n",
    "- Люди, которые состоят/состояли в официальном браке.\n",
    "- Люди, которые не состоят/состояли в официальном браке.\n",
    "\n",
    "Рассмотрим долю должников для указанных групп."
   ]
  },
  {
   "cell_type": "code",
   "execution_count": 28,
   "id": "e00a7eeb",
   "metadata": {},
   "outputs": [],
   "source": [
    "def categorize_family_status(row): # создаем функцию, которая категоризирует значения столбца family_status по двум группам.\n",
    "        if ('не замужем' in row) or ('гражданский брак' in row):\n",
    "            return 'Холостые люди.'\n",
    "        else:\n",
    "            return 'Люди, которые состоят/состояли в официальном браке.'"
   ]
  },
  {
   "cell_type": "code",
   "execution_count": 29,
   "id": "ba3b613e",
   "metadata": {
    "scrolled": true
   },
   "outputs": [
    {
     "data": {
      "text/html": [
       "<div>\n",
       "<style scoped>\n",
       "    .dataframe tbody tr th:only-of-type {\n",
       "        vertical-align: middle;\n",
       "    }\n",
       "\n",
       "    .dataframe tbody tr th {\n",
       "        vertical-align: top;\n",
       "    }\n",
       "\n",
       "    .dataframe thead tr th {\n",
       "        text-align: left;\n",
       "    }\n",
       "</style>\n",
       "<table border=\"1\" class=\"dataframe\">\n",
       "  <thead>\n",
       "    <tr>\n",
       "      <th></th>\n",
       "      <th>family_status</th>\n",
       "      <th>debtors</th>\n",
       "      <th>debts</th>\n",
       "      <th>debtors_to_debts_ratio</th>\n",
       "      <th>debtors_to_debts_ratio_percent</th>\n",
       "      <th>fam_status_category</th>\n",
       "    </tr>\n",
       "    <tr>\n",
       "      <th></th>\n",
       "      <th></th>\n",
       "      <th></th>\n",
       "      <th></th>\n",
       "      <th></th>\n",
       "      <th></th>\n",
       "      <th></th>\n",
       "    </tr>\n",
       "  </thead>\n",
       "  <tbody>\n",
       "    <tr>\n",
       "      <th>0</th>\n",
       "      <td>Не женат / не замужем</td>\n",
       "      <td>273</td>\n",
       "      <td>2796</td>\n",
       "      <td>0.097639</td>\n",
       "      <td>9.76%</td>\n",
       "      <td>Холостые люди.</td>\n",
       "    </tr>\n",
       "    <tr>\n",
       "      <th>3</th>\n",
       "      <td>гражданский брак</td>\n",
       "      <td>385</td>\n",
       "      <td>4134</td>\n",
       "      <td>0.093130</td>\n",
       "      <td>9.31%</td>\n",
       "      <td>Холостые люди.</td>\n",
       "    </tr>\n",
       "    <tr>\n",
       "      <th>4</th>\n",
       "      <td>женат / замужем</td>\n",
       "      <td>927</td>\n",
       "      <td>12261</td>\n",
       "      <td>0.075606</td>\n",
       "      <td>7.56%</td>\n",
       "      <td>Люди, которые состоят/состояли в официальном б...</td>\n",
       "    </tr>\n",
       "    <tr>\n",
       "      <th>1</th>\n",
       "      <td>в разводе</td>\n",
       "      <td>84</td>\n",
       "      <td>1189</td>\n",
       "      <td>0.070648</td>\n",
       "      <td>7.06%</td>\n",
       "      <td>Люди, которые состоят/состояли в официальном б...</td>\n",
       "    </tr>\n",
       "    <tr>\n",
       "      <th>2</th>\n",
       "      <td>вдовец / вдова</td>\n",
       "      <td>63</td>\n",
       "      <td>951</td>\n",
       "      <td>0.066246</td>\n",
       "      <td>6.62%</td>\n",
       "      <td>Люди, которые состоят/состояли в официальном б...</td>\n",
       "    </tr>\n",
       "  </tbody>\n",
       "</table>\n",
       "</div>"
      ],
      "text/plain": [
       "           family_status debtors  debts debtors_to_debts_ratio  \\\n",
       "                                                                 \n",
       "0  Не женат / не замужем     273   2796               0.097639   \n",
       "3       гражданский брак     385   4134               0.093130   \n",
       "4        женат / замужем     927  12261               0.075606   \n",
       "1              в разводе      84   1189               0.070648   \n",
       "2         вдовец / вдова      63    951               0.066246   \n",
       "\n",
       "  debtors_to_debts_ratio_percent  \\\n",
       "                                   \n",
       "0                          9.76%   \n",
       "3                          9.31%   \n",
       "4                          7.56%   \n",
       "1                          7.06%   \n",
       "2                          6.62%   \n",
       "\n",
       "                                 fam_status_category  \n",
       "                                                      \n",
       "0                                     Холостые люди.  \n",
       "3                                     Холостые люди.  \n",
       "4  Люди, которые состоят/состояли в официальном б...  \n",
       "1  Люди, которые состоят/состояли в официальном б...  \n",
       "2  Люди, которые состоят/состояли в официальном б...  "
      ]
     },
     "execution_count": 29,
     "metadata": {},
     "output_type": "execute_result"
    }
   ],
   "source": [
    "# Применим функцию categorize_family_status к столбцу family_status датафрейма fam_status_debt.\n",
    "fam_status_debt['fam_status_category'] = fam_status_debt['family_status'].apply(categorize_family_status)\n",
    "fam_status_debt"
   ]
  },
  {
   "cell_type": "markdown",
   "id": "d226eb28",
   "metadata": {},
   "source": [
    "Мы получили сводную таблицу, в которой представлены следующие данные:\n",
    "- `family_status` — семейное положение.\n",
    "- `debtors` — количество должников по кредиту.\n",
    "- `debts` — количество взятых кредитов.\n",
    "- `debtors_to_debts_ratio` — отношение количества должников к количеству взятых кредитов.\n",
    "- `debtors_to_debts_ratio_percent` — отношение количества должников к количеству взятых кредитов в процентах.\n",
    "- `fam_status_category` — категории людей относительно официального брака.\n",
    "\n",
    "Посчитаем процент должников для каждой из категории столбца `fam_status_category`."
   ]
  },
  {
   "cell_type": "code",
   "execution_count": 30,
   "id": "f92de858",
   "metadata": {},
   "outputs": [
    {
     "data": {
      "text/plain": [
       "fam_status_category\n",
       "Люди, которые состоят/состояли в официальном браке.    7.08%\n",
       "Холостые люди.                                         9.54%\n",
       "Name: debtors_to_debts_ratio, dtype: object"
      ]
     },
     "execution_count": 30,
     "metadata": {},
     "output_type": "execute_result"
    }
   ],
   "source": [
    "fam_status_debt.groupby('fam_status_category')['debtors_to_debts_ratio'].mean().apply('{:.2%}'.format)\n",
    "# находим средний процент должников для каждой из групп"
   ]
  },
  {
   "cell_type": "markdown",
   "id": "58db0aee",
   "metadata": {},
   "source": [
    "<a id='family'></a>\n",
    "**Вывод:** Исходя из полученных данных люди, которые состоят/состояли в официальном браке **на 2.46% \"надежнее\"** холостых людей (7.08% должников у людей с опытом офицального брака и 9.54% у холостых людей)."
   ]
  },
  {
   "cell_type": "markdown",
   "id": "d0b4625f",
   "metadata": {},
   "source": [
    "[К итогам](#final)"
   ]
  },
  {
   "cell_type": "markdown",
   "id": "9529de68",
   "metadata": {
    "deletable": false,
    "editable": false,
    "id": "9529de68"
   },
   "source": [
    "#### 3.3 Есть ли зависимость между уровнем дохода и возвратом кредита в срок?"
   ]
  },
  {
   "cell_type": "markdown",
   "id": "7823c581",
   "metadata": {
    "deletable": false,
    "id": "8787f44a"
   },
   "source": [
    "Уровень дохода — количественная величина, требующая категорирования. Однако в предыдущих заданиях проекта категорирование значений переменной `total_income` уже было осуществлено. Поэтому можно просто воспользоваться им."
   ]
  },
  {
   "cell_type": "code",
   "execution_count": 31,
   "id": "b2941d91",
   "metadata": {
    "scrolled": true
   },
   "outputs": [
    {
     "data": {
      "text/plain": [
       "array(['B', 'C', 'D', 'E', 'A'], dtype=object)"
      ]
     },
     "execution_count": 31,
     "metadata": {},
     "output_type": "execute_result"
    }
   ],
   "source": [
    "data['total_income_category'].unique()# выведем на экран все уникальные значения столбца total_income_category."
   ]
  },
  {
   "cell_type": "code",
   "execution_count": 32,
   "id": "b8617bb0",
   "metadata": {},
   "outputs": [
    {
     "data": {
      "text/html": [
       "<div>\n",
       "<style scoped>\n",
       "    .dataframe tbody tr th:only-of-type {\n",
       "        vertical-align: middle;\n",
       "    }\n",
       "\n",
       "    .dataframe tbody tr th {\n",
       "        vertical-align: top;\n",
       "    }\n",
       "\n",
       "    .dataframe thead tr th {\n",
       "        text-align: left;\n",
       "    }\n",
       "</style>\n",
       "<table border=\"1\" class=\"dataframe\">\n",
       "  <thead>\n",
       "    <tr>\n",
       "      <th></th>\n",
       "      <th>total_income_category</th>\n",
       "      <th>debtors</th>\n",
       "      <th>debts</th>\n",
       "      <th>debtors_to_debts_ratio</th>\n",
       "      <th>debtors_to_debts_ratio_percent</th>\n",
       "    </tr>\n",
       "    <tr>\n",
       "      <th></th>\n",
       "      <th></th>\n",
       "      <th></th>\n",
       "      <th></th>\n",
       "      <th></th>\n",
       "      <th></th>\n",
       "    </tr>\n",
       "  </thead>\n",
       "  <tbody>\n",
       "    <tr>\n",
       "      <th>2</th>\n",
       "      <td>C</td>\n",
       "      <td>1353</td>\n",
       "      <td>15921</td>\n",
       "      <td>0.084982</td>\n",
       "      <td>8.50%</td>\n",
       "    </tr>\n",
       "    <tr>\n",
       "      <th>1</th>\n",
       "      <td>B</td>\n",
       "      <td>354</td>\n",
       "      <td>5014</td>\n",
       "      <td>0.070602</td>\n",
       "      <td>7.06%</td>\n",
       "    </tr>\n",
       "  </tbody>\n",
       "</table>\n",
       "</div>"
      ],
      "text/plain": [
       "  total_income_category debtors  debts debtors_to_debts_ratio  \\\n",
       "                                                                \n",
       "2                     C    1353  15921               0.084982   \n",
       "1                     B     354   5014               0.070602   \n",
       "\n",
       "  debtors_to_debts_ratio_percent  \n",
       "                                  \n",
       "2                          8.50%  \n",
       "1                          7.06%  "
      ]
     },
     "execution_count": 32,
     "metadata": {},
     "output_type": "execute_result"
    }
   ],
   "source": [
    "fam_income_debt = pivot_debt(data['total_income_category'])\n",
    "fam_income_debt"
   ]
  },
  {
   "cell_type": "markdown",
   "id": "6dd14b57",
   "metadata": {
    "deletable": false,
    "id": "6dd14b57"
   },
   "source": [
    "<a id='income'></a>\n",
    "**Вывод:** \n",
    "Мы получили сводную таблицу, в которой представлены следующие данные:\n",
    "- `total_income_category` — категория ежемесячного дохода заемщиков.\n",
    "- `debtors` — количество должников по кредиту.\n",
    "- `debts` — количество взятых кредитов.\n",
    "- `debtors_to_debts_ratio` — отношение количества должников к количеству взятых кредитов.\n",
    "- `debtors_to_debts_ratio_percent` — отношение количества должников к количеству взятых кредитов в процентах.\n",
    "\n",
    "При расчетах отсеялись категории `А`, `D`, `E`. Это значит, что количество выданных кредитов для каждой из этих категорий не превышает 500. Указанные категории не будут рассматриваться в дальнейшем ввиду их нерепрезентативности.\n",
    "\n",
    "Для оставшихся категорий `B ` и `C` получились следующие результаты:\n",
    "- B (люди с ежемесячным доходом от 200 000 руб. и до 1000 000 руб.) — 7.06% должников.\n",
    "- C (люди с ежемесячным доходом от 50 000 руб. и до 200 000 руб.)— 8.50% должников.\n",
    "\n",
    "Это говорит нам о том, что должников с доходом от 50 000 руб.до 200 000 руб. на **1.44% больше** чем должников с зарплатой от 200 000 руб. и до 1000 000 руб. \n",
    "\n",
    "Следовательно, можно сделать вывод, что доход заемщика влияет на возврат кредита. Однако для построения тренда нужно больше данных для других категорий заработных плат."
   ]
  },
  {
   "cell_type": "markdown",
   "id": "63aef76a",
   "metadata": {},
   "source": [
    "[К итогам](#final)"
   ]
  },
  {
   "cell_type": "markdown",
   "id": "1dcc9b12",
   "metadata": {
    "deletable": false,
    "editable": false,
    "id": "1dcc9b12"
   },
   "source": [
    "#### 3.4 Как разные цели кредита влияют на его возврат в срок?"
   ]
  },
  {
   "cell_type": "markdown",
   "id": "1f9f6cca",
   "metadata": {},
   "source": [
    "Переменная `purpose` является категориальной, однако она заполняется людьми в свободной форме, что вызывает большое количество возможных вариантов значений. В ходе выполнения проекта нами уже проведена категоризация значений указанного столбца. Для поиска ответа на поставленный вопрос можно воспользоваться данной категоризацией."
   ]
  },
  {
   "cell_type": "code",
   "execution_count": 33,
   "id": "c602bc8b",
   "metadata": {
    "deletable": false,
    "id": "c602bc8b"
   },
   "outputs": [
    {
     "data": {
      "text/html": [
       "<div>\n",
       "<style scoped>\n",
       "    .dataframe tbody tr th:only-of-type {\n",
       "        vertical-align: middle;\n",
       "    }\n",
       "\n",
       "    .dataframe tbody tr th {\n",
       "        vertical-align: top;\n",
       "    }\n",
       "\n",
       "    .dataframe thead tr th {\n",
       "        text-align: left;\n",
       "    }\n",
       "</style>\n",
       "<table border=\"1\" class=\"dataframe\">\n",
       "  <thead>\n",
       "    <tr>\n",
       "      <th></th>\n",
       "      <th>purpose_category</th>\n",
       "      <th>debtors</th>\n",
       "      <th>debts</th>\n",
       "      <th>debtors_to_debts_ratio</th>\n",
       "      <th>debtors_to_debts_ratio_percent</th>\n",
       "    </tr>\n",
       "    <tr>\n",
       "      <th></th>\n",
       "      <th></th>\n",
       "      <th></th>\n",
       "      <th></th>\n",
       "      <th></th>\n",
       "      <th></th>\n",
       "    </tr>\n",
       "  </thead>\n",
       "  <tbody>\n",
       "    <tr>\n",
       "      <th>0</th>\n",
       "      <td>операции с автомобилем</td>\n",
       "      <td>400</td>\n",
       "      <td>4279</td>\n",
       "      <td>0.093480</td>\n",
       "      <td>9.35%</td>\n",
       "    </tr>\n",
       "    <tr>\n",
       "      <th>2</th>\n",
       "      <td>получение образования</td>\n",
       "      <td>369</td>\n",
       "      <td>3988</td>\n",
       "      <td>0.092528</td>\n",
       "      <td>9.25%</td>\n",
       "    </tr>\n",
       "    <tr>\n",
       "      <th>3</th>\n",
       "      <td>проведение свадьбы</td>\n",
       "      <td>183</td>\n",
       "      <td>2313</td>\n",
       "      <td>0.079118</td>\n",
       "      <td>7.91%</td>\n",
       "    </tr>\n",
       "    <tr>\n",
       "      <th>1</th>\n",
       "      <td>операции с недвижимостью</td>\n",
       "      <td>780</td>\n",
       "      <td>10751</td>\n",
       "      <td>0.072551</td>\n",
       "      <td>7.26%</td>\n",
       "    </tr>\n",
       "  </tbody>\n",
       "</table>\n",
       "</div>"
      ],
      "text/plain": [
       "           purpose_category debtors  debts debtors_to_debts_ratio  \\\n",
       "                                                                    \n",
       "0    операции с автомобилем     400   4279               0.093480   \n",
       "2     получение образования     369   3988               0.092528   \n",
       "3        проведение свадьбы     183   2313               0.079118   \n",
       "1  операции с недвижимостью     780  10751               0.072551   \n",
       "\n",
       "  debtors_to_debts_ratio_percent  \n",
       "                                  \n",
       "0                          9.35%  \n",
       "2                          9.25%  \n",
       "3                          7.91%  \n",
       "1                          7.26%  "
      ]
     },
     "execution_count": 33,
     "metadata": {},
     "output_type": "execute_result"
    }
   ],
   "source": [
    "fam_purpose_debt = pivot_debt(data['purpose_category']) # применяем функцию pivot_debt, указав для группировки столбец 'purpose_category'\n",
    "fam_purpose_debt # выводим результат на экран"
   ]
  },
  {
   "cell_type": "markdown",
   "id": "cf05ed63",
   "metadata": {
    "deletable": false,
    "id": "cf05ed63"
   },
   "source": [
    "<a id='purpose'></a>\n",
    "**Вывод:** \n",
    "Мы получили сводную таблицу, в которой представлены следующие данные:\n",
    "- `purpose_category` — категория цели кредита.\n",
    "- `debtors` — количество должников по кредиту.\n",
    "- `debts` — количество взятых кредитов.\n",
    "- `debtors_to_debts_ratio` — отношение количества должников к количеству взятых кредитов.\n",
    "- `debtors_to_debts_ratio_percent` — отношение количества должников к количеству взятых кредитов в процентах.\n",
    "\n",
    "Из полученных данных можно сделать вывод, что наиболее рисковоми являются кредиты с целью операций с автомобилем **(9.35% должников)** и получения образования **(9.25% должников)** должников по каждой из категорий. Менее рискованными являются кредиты с целью операций с недвижимостью **(7.26% должников)** и проведения свадебных мероприятий **(7.91% должников)**."
   ]
  },
  {
   "cell_type": "markdown",
   "id": "46c1f10b",
   "metadata": {
    "deletable": false,
    "editable": false,
    "id": "46c1f10b"
   },
   "source": [
    "#### 3.5 Приведите возможные причины появления пропусков в исходных данных."
   ]
  },
  {
   "cell_type": "markdown",
   "id": "3697d2a9",
   "metadata": {
    "deletable": false,
    "id": "3697d2a9"
   },
   "source": [
    "*Ответ:* В исходных данных пропущенные данные есть в двух столбцах: days_employed (общий трудовой стаж в днях) и total_income (ежемесячный доход). Однако за кредитом могут обращаться люди, которые ещё не начали свою трудовую деятельность, и у них пока нет трудового стажа, либо люди, которые в настоящее время не работают и не имеют ежемесячного дохода. Такие люди могут заполнять соответствующие графы в заявке на кредит различными способами: писать \"нет\", \"не работаю\", ставить прочерк и т.д., что в свою очередь может вызвать затруднения при переносе информации в электронный вид."
   ]
  },
  {
   "cell_type": "markdown",
   "id": "3137d257",
   "metadata": {
    "deletable": false,
    "editable": false,
    "id": "3137d257"
   },
   "source": [
    "#### 3.6 Объясните, почему заполнить пропуски медианным значением — лучшее решение для количественных переменных."
   ]
  },
  {
   "cell_type": "markdown",
   "id": "cf40012a",
   "metadata": {
    "deletable": false,
    "id": "cf40012a"
   },
   "source": [
    "*Ответ:* Заполнение пропусков медианным значением влечет за собой наименьшее искажение данных столбца в целом."
   ]
  },
  {
   "cell_type": "code",
   "execution_count": 34,
   "id": "51c39978",
   "metadata": {},
   "outputs": [
    {
     "data": {
      "text/plain": [
       "67148.97213258488"
      ]
     },
     "metadata": {},
     "output_type": "display_data"
    },
    {
     "data": {
      "text/plain": [
       "1996.732855437927"
      ]
     },
     "metadata": {},
     "output_type": "display_data"
    }
   ],
   "source": [
    "display(data['days_employed'].mean())\n",
    "display(data['days_employed'].median())"
   ]
  },
  {
   "cell_type": "markdown",
   "id": "57bc304e",
   "metadata": {
    "deletable": false,
    "editable": false,
    "id": "57bc304e"
   },
   "source": [
    "### Шаг 4: общий вывод."
   ]
  },
  {
   "cell_type": "markdown",
   "id": "1ab75d1c",
   "metadata": {
    "deletable": false,
    "id": "1ab75d1c"
   },
   "source": [
    "<a id='final'></a>\n",
    "Для ответа на поставленные вопросы мы работали со следующими данными:\n",
    "- `children` — количество детей в семье.\n",
    "- `days_employed` — общий трудовой стаж в днях.\n",
    "- `dob_years` — возраст клиента в годах.\n",
    "- `education` — уровень образования клиента.\n",
    "- `education_id` — идентификатор уровня образования.\n",
    "- `family_status` — семейное положение.\n",
    "- `family_status_id` — идентификатор семейного положения.\n",
    "- `gender` — пол клиента.\n",
    "- `income_type` — тип занятости.\n",
    "- `debt` — имел ли задолженность по возврату кредитов.\n",
    "- `total_income` — ежемесячный доход.\n",
    "- `purpose` — цель получения кредита.\n",
    "\n",
    "На этапе предобработки нами были обработаны пропуски в столбцах `days_employed` и `total_income`, удалены аномальные значения из столбца `children`, а также удалены дубликаты по всему датафрейму. Также проведена категоризациия данных в столбцах `total_income` и `purpose`.\n",
    "\n",
    "При рассмотрении категорий заемщиков не учитывались категории, по которым выдано менее 500 кредитов.\n",
    "\n",
    "По вопросу **\"Есть ли зависимость между количеством детей и возвратом кредита в срок?\"** мы получили [следующие результаты](#children):\n",
    "\n",
    "Должников с 1 ребенком **на 1.69% больше**, чем бездетных должников: **7.54%** от количества бездетных заемщиков и **9.23%** должников от количества заемщиков с 1 ребенком. Также наблюдается тренд на дальнейшее увеличение количества должников в зависимости от количества детей. Так у заемщиков с двумя детьми процент должников составляет **9.45%**, что на **0.22% больше**, чем процент должников среди заемщиков с одним ребенком. Выборки для замещиков с 3 и более детьми оказались нерепрезентативными, в связи с чем невозможно проследить дальнейшее развитие тренда.\n",
    "\n",
    "***Наблюдается зависимость между количеством детей и возвратом кредита в срок. Наличие детей увеличивает риск просрочек по кредиту.***\n",
    "\n",
    "По вопросу **\"Есть ли зависимость между семейным положением и возвратом кредита в срок?\"** мы получили [следующие результаты](#family):\n",
    "\n",
    "Категории семейного положения были разделены на 2 группы:\n",
    "- Люди,которые состоят/состояли в браке.\n",
    "- Холостые люди.\n",
    "\n",
    "По указанным группам можно сделать следующий вывод:\n",
    "\n",
    "люди, которые состоят/состояли в официальном браке **на 2.46% \"надежнее\"** холостых людей (7.08% должников у людей с опытом офицального брака и 9.54% у холостых людей).\n",
    "\n",
    "По вопросу **\"Есть ли зависимость между уровнем заработной платы и возвратом кредита в срок?\"** мы получили [следующие результаты](#income):\n",
    "\n",
    "При расчетах отсеялись категории `А` (зарпалата более 1000 000 руб.), `D` (зарплата от 30 000 руб. до 50 000 руб.), `E` (зарпалата до 30 000 руб.). Это значит, что количество выданных кредитов для каждой из этих категорий не превышает 500. Указанные категории не будут рассматриваться в дальнейшем ввиду их нерепрезентативности.\n",
    "\n",
    "Для оставшихся категорий `B ` и `C` получились следующие результаты:\n",
    "- B (люди с ежемесячным доходом от 200 000 руб. и до 1000 000 руб.) — 7.06% должников.\n",
    "- C (люди с ежемесячным доходом от 50 000 руб. и до 200 000 руб.)— 8.50% должников.\n",
    "\n",
    "Это говорит нам о том, что должников с доходом от 50 000 руб.до 200 000 руб. на **1.44% больше** чем должников с зарплатой от 200 000 руб. и до 1000 000 руб. \n",
    "\n",
    "***Следовательно, можно сделать вывод, что доход заемщика влияет на возврат кредита. Чем выше зарплата, тем надежнее заемщик. Однако для построения тренда нужно больше данных для других категорий заработных плат.***\n",
    "\n",
    "По вопросу **\"Есть ли зависимость между целью получения кредита и возвратом кредита в срок?\"** мы получили [следующие результаты](#purpose):\n",
    "\n",
    "Так как цели кредита излагаются заявителями в свободной форме потребовалась дополнительная категоризация данных столбца `purpose`, сформировано 4 категории:\n",
    "\n",
    "- операции с недвижимостью.\n",
    "- операции с автомобилем.\n",
    "- получение образования.\n",
    "- проведение свадьбы.\n",
    "\n",
    "Из полученных данных можно сделать вывод, что наиболее рисковоми являются кредиты с целью операций с автомобилем **(9.35% должников)** и получения образования **(9.25% должников)** должников по каждой из категорий. Менее рискованными являются кредиты с целью операций с недвижимостью **(7.26% должников)** и проведения свадебных мероприятий **(7.91% должников)**.\n",
    "\n",
    "***Наблюдается взаимосвязь между целью кредита и вовзратом кредита в срок.***\n",
    "\n",
    "По итогам исследования удалось выявить как наиболее рисковые группы *(например холостяк с зарпалтой 45 000 руб., который берет кредит для покупки автомобиля)*, так и наиболее безопасные *(например женатый заемщик без детей и с доходом 150 000 руб., который берет кредит для покупки недвижимости)*\n",
    "\n",
    "При работе с данными обнаружены достаточно многочисленные пропуски в информации о количестве рабочих дней и заработной плате. Возможно, стоит обратить внимание на процесс сбора и обработки указанных данных.\n",
    "\n",
    "Также целесообразно предлагать заемщику выбирать цель кредита из предложенных вариантов, оставив возможность свободного ответа только в случае отсутствия подходящего варианта.\n"
   ]
  }
 ],
 "metadata": {
  "ExecuteTimeLog": [
   {
    "duration": 47,
    "start_time": "2023-09-09T09:49:13.658Z"
   },
   {
    "duration": 657,
    "start_time": "2023-09-09T09:49:21.588Z"
   },
   {
    "duration": 21,
    "start_time": "2023-09-09T09:49:22.247Z"
   },
   {
    "duration": 15,
    "start_time": "2023-09-09T09:49:22.269Z"
   },
   {
    "duration": 9,
    "start_time": "2023-09-09T09:49:22.286Z"
   },
   {
    "duration": 54,
    "start_time": "2023-09-09T09:49:22.296Z"
   },
   {
    "duration": 3,
    "start_time": "2023-09-09T09:49:22.351Z"
   },
   {
    "duration": 10,
    "start_time": "2023-09-09T09:49:22.356Z"
   },
   {
    "duration": 3,
    "start_time": "2023-09-09T09:49:22.367Z"
   },
   {
    "duration": 8,
    "start_time": "2023-09-09T09:49:22.371Z"
   },
   {
    "duration": 5,
    "start_time": "2023-09-09T09:49:22.383Z"
   },
   {
    "duration": 63,
    "start_time": "2023-09-09T09:49:22.389Z"
   },
   {
    "duration": 12,
    "start_time": "2023-09-09T09:49:22.454Z"
   },
   {
    "duration": 4,
    "start_time": "2023-09-09T09:49:22.467Z"
   },
   {
    "duration": 13,
    "start_time": "2023-09-09T09:49:22.473Z"
   },
   {
    "duration": 19,
    "start_time": "2023-09-09T09:49:22.487Z"
   },
   {
    "duration": 46,
    "start_time": "2023-09-09T09:49:22.507Z"
   },
   {
    "duration": 3,
    "start_time": "2023-09-09T09:49:22.555Z"
   },
   {
    "duration": 24,
    "start_time": "2023-09-09T09:49:22.560Z"
   },
   {
    "duration": 6,
    "start_time": "2023-09-09T09:49:22.586Z"
   },
   {
    "duration": 4,
    "start_time": "2023-09-09T09:49:22.593Z"
   },
   {
    "duration": 20,
    "start_time": "2023-09-09T09:49:22.598Z"
   },
   {
    "duration": 6,
    "start_time": "2023-09-09T09:49:22.620Z"
   },
   {
    "duration": 3,
    "start_time": "2023-09-09T09:49:22.628Z"
   },
   {
    "duration": 6,
    "start_time": "2023-09-09T09:49:22.643Z"
   },
   {
    "duration": 6,
    "start_time": "2023-09-09T09:49:22.651Z"
   },
   {
    "duration": 10,
    "start_time": "2023-09-09T09:52:17.270Z"
   },
   {
    "duration": 1450,
    "start_time": "2023-09-09T09:54:45.162Z"
   },
   {
    "duration": 16,
    "start_time": "2023-09-09T09:55:15.082Z"
   },
   {
    "duration": 16,
    "start_time": "2023-09-09T09:59:39.736Z"
   },
   {
    "duration": 11,
    "start_time": "2023-09-09T10:05:35.098Z"
   },
   {
    "duration": 961,
    "start_time": "2023-09-09T10:06:46.711Z"
   },
   {
    "duration": 11,
    "start_time": "2023-09-09T10:10:20.858Z"
   },
   {
    "duration": 7,
    "start_time": "2023-09-09T10:22:11.662Z"
   },
   {
    "duration": 6,
    "start_time": "2023-09-09T10:22:46.536Z"
   },
   {
    "duration": 75,
    "start_time": "2023-09-09T10:25:26.660Z"
   },
   {
    "duration": 7,
    "start_time": "2023-09-09T10:25:35.738Z"
   },
   {
    "duration": 7,
    "start_time": "2023-09-09T10:26:12.706Z"
   },
   {
    "duration": 6,
    "start_time": "2023-09-09T10:27:58.960Z"
   },
   {
    "duration": 7,
    "start_time": "2023-09-09T10:28:03.369Z"
   },
   {
    "duration": 7,
    "start_time": "2023-09-09T10:30:34.434Z"
   },
   {
    "duration": 7,
    "start_time": "2023-09-09T10:31:42.732Z"
   },
   {
    "duration": 7,
    "start_time": "2023-09-09T10:32:04.174Z"
   },
   {
    "duration": 8,
    "start_time": "2023-09-09T10:32:13.867Z"
   },
   {
    "duration": 444,
    "start_time": "2023-09-09T10:32:27.166Z"
   },
   {
    "duration": 20,
    "start_time": "2023-09-09T10:32:27.613Z"
   },
   {
    "duration": 14,
    "start_time": "2023-09-09T10:32:27.634Z"
   },
   {
    "duration": 13,
    "start_time": "2023-09-09T10:32:27.650Z"
   },
   {
    "duration": 38,
    "start_time": "2023-09-09T10:32:27.665Z"
   },
   {
    "duration": 4,
    "start_time": "2023-09-09T10:32:27.705Z"
   },
   {
    "duration": 20,
    "start_time": "2023-09-09T10:32:27.710Z"
   },
   {
    "duration": 12,
    "start_time": "2023-09-09T10:32:27.732Z"
   },
   {
    "duration": 13,
    "start_time": "2023-09-09T10:32:27.745Z"
   },
   {
    "duration": 8,
    "start_time": "2023-09-09T10:32:27.761Z"
   },
   {
    "duration": 47,
    "start_time": "2023-09-09T10:32:27.770Z"
   },
   {
    "duration": 9,
    "start_time": "2023-09-09T10:32:27.819Z"
   },
   {
    "duration": 9,
    "start_time": "2023-09-09T10:32:27.829Z"
   },
   {
    "duration": 22,
    "start_time": "2023-09-09T10:32:27.839Z"
   },
   {
    "duration": 18,
    "start_time": "2023-09-09T10:32:27.862Z"
   },
   {
    "duration": 15,
    "start_time": "2023-09-09T10:32:27.882Z"
   },
   {
    "duration": 16,
    "start_time": "2023-09-09T10:32:27.899Z"
   },
   {
    "duration": 21,
    "start_time": "2023-09-09T10:32:27.916Z"
   },
   {
    "duration": 12,
    "start_time": "2023-09-09T10:32:27.939Z"
   },
   {
    "duration": 6,
    "start_time": "2023-09-09T10:32:27.952Z"
   },
   {
    "duration": 17,
    "start_time": "2023-09-09T10:32:27.959Z"
   },
   {
    "duration": 15,
    "start_time": "2023-09-09T10:32:27.978Z"
   },
   {
    "duration": 64,
    "start_time": "2023-09-09T10:32:27.994Z"
   },
   {
    "duration": 0,
    "start_time": "2023-09-09T10:32:28.060Z"
   },
   {
    "duration": 0,
    "start_time": "2023-09-09T10:32:28.061Z"
   },
   {
    "duration": 0,
    "start_time": "2023-09-09T10:32:28.062Z"
   },
   {
    "duration": 4,
    "start_time": "2023-09-09T10:32:41.569Z"
   },
   {
    "duration": 3,
    "start_time": "2023-09-09T10:32:54.215Z"
   },
   {
    "duration": 8,
    "start_time": "2023-09-09T10:34:42.370Z"
   },
   {
    "duration": 7,
    "start_time": "2023-09-09T10:34:49.740Z"
   },
   {
    "duration": 3,
    "start_time": "2023-09-09T10:34:51.913Z"
   },
   {
    "duration": 9,
    "start_time": "2023-09-09T10:35:08.713Z"
   },
   {
    "duration": 10,
    "start_time": "2023-09-09T10:35:49.657Z"
   },
   {
    "duration": 9,
    "start_time": "2023-09-09T10:36:03.659Z"
   },
   {
    "duration": 4,
    "start_time": "2023-09-09T10:36:05.899Z"
   },
   {
    "duration": 7,
    "start_time": "2023-09-09T10:37:11.186Z"
   },
   {
    "duration": 7,
    "start_time": "2023-09-09T10:37:29.657Z"
   },
   {
    "duration": 7,
    "start_time": "2023-09-09T10:40:22.546Z"
   },
   {
    "duration": 7,
    "start_time": "2023-09-09T10:40:28.753Z"
   },
   {
    "duration": 92,
    "start_time": "2023-09-09T10:42:21.131Z"
   },
   {
    "duration": 113,
    "start_time": "2023-09-09T10:42:35.644Z"
   },
   {
    "duration": 8,
    "start_time": "2023-09-09T10:42:50.913Z"
   },
   {
    "duration": 83,
    "start_time": "2023-09-09T10:42:53.909Z"
   },
   {
    "duration": 4,
    "start_time": "2023-09-09T10:43:24.734Z"
   },
   {
    "duration": 3,
    "start_time": "2023-09-09T10:45:57.083Z"
   },
   {
    "duration": 1802,
    "start_time": "2023-09-09T10:46:27.931Z"
   },
   {
    "duration": 929,
    "start_time": "2023-09-09T10:46:37.649Z"
   },
   {
    "duration": 6,
    "start_time": "2023-09-09T10:48:47.495Z"
   },
   {
    "duration": 4,
    "start_time": "2023-09-09T10:49:46.916Z"
   },
   {
    "duration": 5,
    "start_time": "2023-09-09T10:49:53.598Z"
   },
   {
    "duration": 100,
    "start_time": "2023-09-09T10:52:51.288Z"
   },
   {
    "duration": 111,
    "start_time": "2023-09-09T10:53:01.490Z"
   },
   {
    "duration": 7,
    "start_time": "2023-09-09T10:53:09.724Z"
   },
   {
    "duration": 8,
    "start_time": "2023-09-09T10:53:33.746Z"
   },
   {
    "duration": 7,
    "start_time": "2023-09-09T10:55:58.093Z"
   },
   {
    "duration": 8,
    "start_time": "2023-09-09T10:56:06.088Z"
   },
   {
    "duration": 527,
    "start_time": "2023-09-09T10:56:23.799Z"
   },
   {
    "duration": 23,
    "start_time": "2023-09-09T10:56:24.328Z"
   },
   {
    "duration": 16,
    "start_time": "2023-09-09T10:56:24.352Z"
   },
   {
    "duration": 19,
    "start_time": "2023-09-09T10:56:24.370Z"
   },
   {
    "duration": 59,
    "start_time": "2023-09-09T10:56:24.392Z"
   },
   {
    "duration": 4,
    "start_time": "2023-09-09T10:56:24.454Z"
   },
   {
    "duration": 23,
    "start_time": "2023-09-09T10:56:24.460Z"
   },
   {
    "duration": 6,
    "start_time": "2023-09-09T10:56:24.485Z"
   },
   {
    "duration": 19,
    "start_time": "2023-09-09T10:56:24.493Z"
   },
   {
    "duration": 13,
    "start_time": "2023-09-09T10:56:24.515Z"
   },
   {
    "duration": 77,
    "start_time": "2023-09-09T10:56:24.530Z"
   },
   {
    "duration": 14,
    "start_time": "2023-09-09T10:56:24.609Z"
   },
   {
    "duration": 12,
    "start_time": "2023-09-09T10:56:24.624Z"
   },
   {
    "duration": 38,
    "start_time": "2023-09-09T10:56:24.640Z"
   },
   {
    "duration": 26,
    "start_time": "2023-09-09T10:56:24.681Z"
   },
   {
    "duration": 25,
    "start_time": "2023-09-09T10:56:24.709Z"
   },
   {
    "duration": 4,
    "start_time": "2023-09-09T10:56:24.736Z"
   },
   {
    "duration": 20,
    "start_time": "2023-09-09T10:56:24.743Z"
   },
   {
    "duration": 19,
    "start_time": "2023-09-09T10:56:24.764Z"
   },
   {
    "duration": 8,
    "start_time": "2023-09-09T10:56:24.785Z"
   },
   {
    "duration": 13,
    "start_time": "2023-09-09T10:56:24.795Z"
   },
   {
    "duration": 11,
    "start_time": "2023-09-09T10:56:24.810Z"
   },
   {
    "duration": 7,
    "start_time": "2023-09-09T10:56:24.824Z"
   },
   {
    "duration": 6,
    "start_time": "2023-09-09T10:56:24.833Z"
   },
   {
    "duration": 12,
    "start_time": "2023-09-09T10:56:24.841Z"
   },
   {
    "duration": 12,
    "start_time": "2023-09-09T10:56:24.854Z"
   },
   {
    "duration": 3,
    "start_time": "2023-09-09T10:59:40.895Z"
   },
   {
    "duration": 4,
    "start_time": "2023-09-09T11:17:33.490Z"
   },
   {
    "duration": 13,
    "start_time": "2023-09-09T11:18:26.659Z"
   },
   {
    "duration": 5,
    "start_time": "2023-09-09T11:18:39.262Z"
   },
   {
    "duration": 17,
    "start_time": "2023-09-09T11:22:00.186Z"
   },
   {
    "duration": 4,
    "start_time": "2023-09-09T11:22:41.488Z"
   },
   {
    "duration": 8,
    "start_time": "2023-09-09T12:42:08.202Z"
   },
   {
    "duration": 5,
    "start_time": "2023-09-09T12:48:55.509Z"
   },
   {
    "duration": 73,
    "start_time": "2023-09-09T12:54:40.844Z"
   },
   {
    "duration": 5,
    "start_time": "2023-09-09T13:02:06.474Z"
   },
   {
    "duration": 11,
    "start_time": "2023-09-09T13:09:57.318Z"
   },
   {
    "duration": 5,
    "start_time": "2023-09-09T13:10:35.384Z"
   },
   {
    "duration": 7,
    "start_time": "2023-09-09T13:10:48.673Z"
   },
   {
    "duration": 4,
    "start_time": "2023-09-09T13:15:26.486Z"
   },
   {
    "duration": 68,
    "start_time": "2023-09-09T13:15:47.303Z"
   },
   {
    "duration": 7,
    "start_time": "2023-09-09T13:16:07.815Z"
   },
   {
    "duration": 5,
    "start_time": "2023-09-09T13:19:18.389Z"
   },
   {
    "duration": 13,
    "start_time": "2023-09-09T13:20:23.012Z"
   },
   {
    "duration": 7,
    "start_time": "2023-09-09T13:20:34.210Z"
   },
   {
    "duration": 4,
    "start_time": "2023-09-09T13:24:08.727Z"
   },
   {
    "duration": 7,
    "start_time": "2023-09-09T13:24:15.257Z"
   },
   {
    "duration": 7,
    "start_time": "2023-09-09T13:25:51.627Z"
   },
   {
    "duration": 4,
    "start_time": "2023-09-09T13:26:07.049Z"
   },
   {
    "duration": 4,
    "start_time": "2023-09-09T13:26:20.777Z"
   },
   {
    "duration": 7,
    "start_time": "2023-09-09T13:26:47.074Z"
   },
   {
    "duration": 1272,
    "start_time": "2023-09-09T13:27:29.399Z"
   },
   {
    "duration": 81,
    "start_time": "2023-09-09T13:27:42.499Z"
   },
   {
    "duration": 7,
    "start_time": "2023-09-09T13:28:22.842Z"
   },
   {
    "duration": 4,
    "start_time": "2023-09-09T13:28:34.039Z"
   },
   {
    "duration": 4,
    "start_time": "2023-09-09T13:28:41.481Z"
   },
   {
    "duration": 9,
    "start_time": "2023-09-09T13:29:18.912Z"
   },
   {
    "duration": 8,
    "start_time": "2023-09-09T13:29:40.014Z"
   },
   {
    "duration": 8,
    "start_time": "2023-09-09T13:29:57.754Z"
   },
   {
    "duration": 3,
    "start_time": "2023-09-09T13:31:45.391Z"
   },
   {
    "duration": 7,
    "start_time": "2023-09-09T13:31:51.849Z"
   },
   {
    "duration": 87,
    "start_time": "2023-09-09T13:34:31.214Z"
   },
   {
    "duration": 4,
    "start_time": "2023-09-09T13:34:37.143Z"
   },
   {
    "duration": 87,
    "start_time": "2023-09-09T13:36:58.832Z"
   },
   {
    "duration": 4,
    "start_time": "2023-09-09T13:37:07.220Z"
   },
   {
    "duration": 64,
    "start_time": "2023-09-09T13:37:44.059Z"
   },
   {
    "duration": 10,
    "start_time": "2023-09-09T13:39:50.539Z"
   },
   {
    "duration": 1170,
    "start_time": "2023-09-09T13:40:48.835Z"
   },
   {
    "duration": 7,
    "start_time": "2023-09-09T13:41:48.980Z"
   },
   {
    "duration": 5,
    "start_time": "2023-09-09T13:41:57.665Z"
   },
   {
    "duration": 4,
    "start_time": "2023-09-09T13:42:10.285Z"
   },
   {
    "duration": 4,
    "start_time": "2023-09-09T13:43:43.030Z"
   },
   {
    "duration": 4,
    "start_time": "2023-09-09T13:43:48.322Z"
   },
   {
    "duration": 4,
    "start_time": "2023-09-09T13:45:03.633Z"
   },
   {
    "duration": 4,
    "start_time": "2023-09-09T13:45:07.466Z"
   },
   {
    "duration": 75,
    "start_time": "2023-09-09T13:47:37.710Z"
   },
   {
    "duration": 3,
    "start_time": "2023-09-09T13:49:03.216Z"
   },
   {
    "duration": 5,
    "start_time": "2023-09-09T13:49:43.683Z"
   },
   {
    "duration": 3,
    "start_time": "2023-09-09T13:51:06.983Z"
   },
   {
    "duration": 10,
    "start_time": "2023-09-09T13:53:14.239Z"
   },
   {
    "duration": 4,
    "start_time": "2023-09-09T13:53:36.440Z"
   },
   {
    "duration": 4,
    "start_time": "2023-09-09T13:54:10.667Z"
   },
   {
    "duration": 4,
    "start_time": "2023-09-09T13:54:32.447Z"
   },
   {
    "duration": 65,
    "start_time": "2023-09-10T07:27:51.956Z"
   },
   {
    "duration": 764,
    "start_time": "2023-09-10T07:27:59.222Z"
   },
   {
    "duration": 22,
    "start_time": "2023-09-10T07:27:59.988Z"
   },
   {
    "duration": 42,
    "start_time": "2023-09-10T07:28:00.013Z"
   },
   {
    "duration": 52,
    "start_time": "2023-09-10T07:28:00.057Z"
   },
   {
    "duration": 66,
    "start_time": "2023-09-10T07:28:00.111Z"
   },
   {
    "duration": 4,
    "start_time": "2023-09-10T07:28:00.179Z"
   },
   {
    "duration": 50,
    "start_time": "2023-09-10T07:28:00.184Z"
   },
   {
    "duration": 25,
    "start_time": "2023-09-10T07:28:00.235Z"
   },
   {
    "duration": 42,
    "start_time": "2023-09-10T07:28:00.261Z"
   },
   {
    "duration": 18,
    "start_time": "2023-09-10T07:28:00.306Z"
   },
   {
    "duration": 69,
    "start_time": "2023-09-10T07:28:00.326Z"
   },
   {
    "duration": 22,
    "start_time": "2023-09-10T07:28:00.397Z"
   },
   {
    "duration": 26,
    "start_time": "2023-09-10T07:28:00.422Z"
   },
   {
    "duration": 46,
    "start_time": "2023-09-10T07:28:00.450Z"
   },
   {
    "duration": 61,
    "start_time": "2023-09-10T07:28:00.499Z"
   },
   {
    "duration": 37,
    "start_time": "2023-09-10T07:28:00.562Z"
   },
   {
    "duration": 16,
    "start_time": "2023-09-10T07:28:00.601Z"
   },
   {
    "duration": 66,
    "start_time": "2023-09-10T07:28:00.619Z"
   },
   {
    "duration": 48,
    "start_time": "2023-09-10T07:28:00.687Z"
   },
   {
    "duration": 47,
    "start_time": "2023-09-10T07:28:00.737Z"
   },
   {
    "duration": 55,
    "start_time": "2023-09-10T07:28:00.787Z"
   },
   {
    "duration": 46,
    "start_time": "2023-09-10T07:28:00.844Z"
   },
   {
    "duration": 40,
    "start_time": "2023-09-10T07:28:00.892Z"
   },
   {
    "duration": 50,
    "start_time": "2023-09-10T07:28:00.934Z"
   },
   {
    "duration": 102,
    "start_time": "2023-09-10T07:28:00.985Z"
   },
   {
    "duration": 0,
    "start_time": "2023-09-10T07:28:01.088Z"
   },
   {
    "duration": 0,
    "start_time": "2023-09-10T07:28:01.089Z"
   },
   {
    "duration": 0,
    "start_time": "2023-09-10T07:28:01.091Z"
   },
   {
    "duration": 0,
    "start_time": "2023-09-10T07:28:01.092Z"
   },
   {
    "duration": 0,
    "start_time": "2023-09-10T07:28:01.093Z"
   },
   {
    "duration": 0,
    "start_time": "2023-09-10T07:28:01.094Z"
   },
   {
    "duration": 0,
    "start_time": "2023-09-10T07:28:01.095Z"
   },
   {
    "duration": 0,
    "start_time": "2023-09-10T07:28:01.096Z"
   },
   {
    "duration": 10,
    "start_time": "2023-09-10T07:28:16.236Z"
   },
   {
    "duration": 8,
    "start_time": "2023-09-10T07:28:31.254Z"
   },
   {
    "duration": 20,
    "start_time": "2023-09-10T07:28:59.357Z"
   },
   {
    "duration": 78,
    "start_time": "2023-09-10T07:30:48.185Z"
   },
   {
    "duration": 9,
    "start_time": "2023-09-10T07:30:56.345Z"
   },
   {
    "duration": 12,
    "start_time": "2023-09-10T07:31:08.579Z"
   },
   {
    "duration": 5,
    "start_time": "2023-09-10T07:35:00.486Z"
   },
   {
    "duration": 8,
    "start_time": "2023-09-10T07:35:11.023Z"
   },
   {
    "duration": 8,
    "start_time": "2023-09-10T07:35:36.427Z"
   },
   {
    "duration": 4,
    "start_time": "2023-09-10T07:35:50.545Z"
   },
   {
    "duration": 468,
    "start_time": "2023-09-10T07:36:08.399Z"
   },
   {
    "duration": 23,
    "start_time": "2023-09-10T07:36:08.869Z"
   },
   {
    "duration": 25,
    "start_time": "2023-09-10T07:36:08.894Z"
   },
   {
    "duration": 33,
    "start_time": "2023-09-10T07:36:08.922Z"
   },
   {
    "duration": 59,
    "start_time": "2023-09-10T07:36:08.958Z"
   },
   {
    "duration": 4,
    "start_time": "2023-09-10T07:36:09.019Z"
   },
   {
    "duration": 31,
    "start_time": "2023-09-10T07:36:09.025Z"
   },
   {
    "duration": 6,
    "start_time": "2023-09-10T07:36:09.058Z"
   },
   {
    "duration": 19,
    "start_time": "2023-09-10T07:36:09.066Z"
   },
   {
    "duration": 14,
    "start_time": "2023-09-10T07:36:09.087Z"
   },
   {
    "duration": 56,
    "start_time": "2023-09-10T07:36:09.103Z"
   },
   {
    "duration": 14,
    "start_time": "2023-09-10T07:36:09.161Z"
   },
   {
    "duration": 4,
    "start_time": "2023-09-10T07:36:09.178Z"
   },
   {
    "duration": 19,
    "start_time": "2023-09-10T07:36:09.186Z"
   },
   {
    "duration": 56,
    "start_time": "2023-09-10T07:36:09.207Z"
   },
   {
    "duration": 26,
    "start_time": "2023-09-10T07:36:09.266Z"
   },
   {
    "duration": 5,
    "start_time": "2023-09-10T07:36:09.295Z"
   },
   {
    "duration": 18,
    "start_time": "2023-09-10T07:36:09.302Z"
   },
   {
    "duration": 30,
    "start_time": "2023-09-10T07:36:09.322Z"
   },
   {
    "duration": 4,
    "start_time": "2023-09-10T07:36:09.355Z"
   },
   {
    "duration": 10,
    "start_time": "2023-09-10T07:36:09.361Z"
   },
   {
    "duration": 22,
    "start_time": "2023-09-10T07:36:09.373Z"
   },
   {
    "duration": 15,
    "start_time": "2023-09-10T07:36:09.396Z"
   },
   {
    "duration": 6,
    "start_time": "2023-09-10T07:36:09.414Z"
   },
   {
    "duration": 82,
    "start_time": "2023-09-10T07:36:09.424Z"
   },
   {
    "duration": 0,
    "start_time": "2023-09-10T07:36:09.508Z"
   },
   {
    "duration": 0,
    "start_time": "2023-09-10T07:36:09.510Z"
   },
   {
    "duration": 0,
    "start_time": "2023-09-10T07:36:09.510Z"
   },
   {
    "duration": 0,
    "start_time": "2023-09-10T07:36:09.512Z"
   },
   {
    "duration": 0,
    "start_time": "2023-09-10T07:36:09.514Z"
   },
   {
    "duration": 0,
    "start_time": "2023-09-10T07:36:09.515Z"
   },
   {
    "duration": 0,
    "start_time": "2023-09-10T07:36:09.517Z"
   },
   {
    "duration": 0,
    "start_time": "2023-09-10T07:36:09.518Z"
   },
   {
    "duration": 0,
    "start_time": "2023-09-10T07:36:09.519Z"
   },
   {
    "duration": 13,
    "start_time": "2023-09-10T07:36:25.888Z"
   },
   {
    "duration": 6,
    "start_time": "2023-09-10T07:36:35.040Z"
   },
   {
    "duration": 4,
    "start_time": "2023-09-10T07:36:38.807Z"
   },
   {
    "duration": 7,
    "start_time": "2023-09-10T07:37:03.766Z"
   },
   {
    "duration": 8,
    "start_time": "2023-09-10T07:37:19.029Z"
   },
   {
    "duration": 5,
    "start_time": "2023-09-10T07:38:31.294Z"
   },
   {
    "duration": 6,
    "start_time": "2023-09-10T07:38:46.110Z"
   },
   {
    "duration": 4,
    "start_time": "2023-09-10T07:38:49.586Z"
   },
   {
    "duration": 5,
    "start_time": "2023-09-10T07:38:53.040Z"
   },
   {
    "duration": 11,
    "start_time": "2023-09-10T07:38:55.404Z"
   },
   {
    "duration": 9,
    "start_time": "2023-09-10T07:38:57.684Z"
   },
   {
    "duration": 6,
    "start_time": "2023-09-10T07:39:06.443Z"
   },
   {
    "duration": 10,
    "start_time": "2023-09-10T07:39:11.332Z"
   },
   {
    "duration": 7,
    "start_time": "2023-09-10T07:39:13.586Z"
   },
   {
    "duration": 7,
    "start_time": "2023-09-10T07:41:17.713Z"
   },
   {
    "duration": 5,
    "start_time": "2023-09-10T07:41:26.508Z"
   },
   {
    "duration": 8,
    "start_time": "2023-09-10T07:41:28.444Z"
   },
   {
    "duration": 10,
    "start_time": "2023-09-10T07:41:32.365Z"
   },
   {
    "duration": 4,
    "start_time": "2023-09-10T07:41:35.021Z"
   },
   {
    "duration": 4,
    "start_time": "2023-09-10T07:45:50.221Z"
   },
   {
    "duration": 15,
    "start_time": "2023-09-10T07:46:22.662Z"
   },
   {
    "duration": 9,
    "start_time": "2023-09-10T07:46:37.031Z"
   },
   {
    "duration": 3,
    "start_time": "2023-09-10T08:03:11.433Z"
   },
   {
    "duration": 6,
    "start_time": "2023-09-10T08:05:33.135Z"
   },
   {
    "duration": 3,
    "start_time": "2023-09-10T08:05:40.563Z"
   },
   {
    "duration": 7,
    "start_time": "2023-09-10T08:05:44.265Z"
   },
   {
    "duration": 10,
    "start_time": "2023-09-10T08:05:51.002Z"
   },
   {
    "duration": 6,
    "start_time": "2023-09-10T08:07:08.783Z"
   },
   {
    "duration": 9,
    "start_time": "2023-09-10T08:07:10.985Z"
   },
   {
    "duration": 14,
    "start_time": "2023-09-10T08:07:18.246Z"
   },
   {
    "duration": 9,
    "start_time": "2023-09-10T08:10:25.703Z"
   },
   {
    "duration": 4,
    "start_time": "2023-09-10T08:13:50.770Z"
   },
   {
    "duration": 5,
    "start_time": "2023-09-10T08:14:03.765Z"
   },
   {
    "duration": 4,
    "start_time": "2023-09-10T08:14:07.145Z"
   },
   {
    "duration": 13,
    "start_time": "2023-09-10T08:14:41.165Z"
   },
   {
    "duration": 10,
    "start_time": "2023-09-10T08:14:51.363Z"
   },
   {
    "duration": 5,
    "start_time": "2023-09-10T08:14:53.731Z"
   },
   {
    "duration": 8,
    "start_time": "2023-09-10T08:15:11.900Z"
   },
   {
    "duration": 9,
    "start_time": "2023-09-10T08:15:19.497Z"
   },
   {
    "duration": 5,
    "start_time": "2023-09-10T08:17:09.082Z"
   },
   {
    "duration": 10,
    "start_time": "2023-09-10T08:21:50.380Z"
   },
   {
    "duration": 9,
    "start_time": "2023-09-10T08:22:42.964Z"
   },
   {
    "duration": 5,
    "start_time": "2023-09-10T08:25:47.874Z"
   },
   {
    "duration": 11,
    "start_time": "2023-09-10T08:34:01.170Z"
   },
   {
    "duration": 13,
    "start_time": "2023-09-10T08:34:10.477Z"
   },
   {
    "duration": 6,
    "start_time": "2023-09-10T08:34:22.937Z"
   },
   {
    "duration": 7,
    "start_time": "2023-09-10T08:35:33.990Z"
   },
   {
    "duration": 16,
    "start_time": "2023-09-10T08:43:25.156Z"
   },
   {
    "duration": 5,
    "start_time": "2023-09-10T08:43:30.978Z"
   },
   {
    "duration": 9,
    "start_time": "2023-09-10T08:44:00.963Z"
   },
   {
    "duration": 5,
    "start_time": "2023-09-10T08:44:12.630Z"
   },
   {
    "duration": 11,
    "start_time": "2023-09-10T08:45:07.969Z"
   },
   {
    "duration": 5,
    "start_time": "2023-09-10T08:46:04.306Z"
   },
   {
    "duration": 4,
    "start_time": "2023-09-10T08:46:40.949Z"
   },
   {
    "duration": 13,
    "start_time": "2023-09-10T08:46:48.946Z"
   },
   {
    "duration": 5,
    "start_time": "2023-09-10T08:47:08.571Z"
   },
   {
    "duration": 9,
    "start_time": "2023-09-10T08:57:07.993Z"
   },
   {
    "duration": 7,
    "start_time": "2023-09-10T08:58:43.187Z"
   },
   {
    "duration": 4,
    "start_time": "2023-09-10T08:58:56.990Z"
   },
   {
    "duration": 3,
    "start_time": "2023-09-10T08:59:05.225Z"
   },
   {
    "duration": 4,
    "start_time": "2023-09-10T09:11:53.216Z"
   },
   {
    "duration": 5,
    "start_time": "2023-09-10T09:12:08.317Z"
   },
   {
    "duration": 466,
    "start_time": "2023-09-10T09:12:21.740Z"
   },
   {
    "duration": 20,
    "start_time": "2023-09-10T09:12:22.208Z"
   },
   {
    "duration": 19,
    "start_time": "2023-09-10T09:12:22.229Z"
   },
   {
    "duration": 44,
    "start_time": "2023-09-10T09:12:22.249Z"
   },
   {
    "duration": 43,
    "start_time": "2023-09-10T09:12:22.294Z"
   },
   {
    "duration": 4,
    "start_time": "2023-09-10T09:12:22.338Z"
   },
   {
    "duration": 12,
    "start_time": "2023-09-10T09:12:22.344Z"
   },
   {
    "duration": 15,
    "start_time": "2023-09-10T09:12:22.357Z"
   },
   {
    "duration": 37,
    "start_time": "2023-09-10T09:12:22.373Z"
   },
   {
    "duration": 6,
    "start_time": "2023-09-10T09:12:22.413Z"
   },
   {
    "duration": 56,
    "start_time": "2023-09-10T09:12:22.420Z"
   },
   {
    "duration": 10,
    "start_time": "2023-09-10T09:12:22.478Z"
   },
   {
    "duration": 23,
    "start_time": "2023-09-10T09:12:22.490Z"
   },
   {
    "duration": 42,
    "start_time": "2023-09-10T09:12:22.514Z"
   },
   {
    "duration": 31,
    "start_time": "2023-09-10T09:12:22.558Z"
   },
   {
    "duration": 30,
    "start_time": "2023-09-10T09:12:22.590Z"
   },
   {
    "duration": 6,
    "start_time": "2023-09-10T09:12:22.621Z"
   },
   {
    "duration": 19,
    "start_time": "2023-09-10T09:12:22.628Z"
   },
   {
    "duration": 24,
    "start_time": "2023-09-10T09:12:22.649Z"
   },
   {
    "duration": 9,
    "start_time": "2023-09-10T09:12:22.674Z"
   },
   {
    "duration": 12,
    "start_time": "2023-09-10T09:12:22.684Z"
   },
   {
    "duration": 9,
    "start_time": "2023-09-10T09:12:22.697Z"
   },
   {
    "duration": 25,
    "start_time": "2023-09-10T09:12:22.707Z"
   },
   {
    "duration": 16,
    "start_time": "2023-09-10T09:12:22.733Z"
   },
   {
    "duration": 67,
    "start_time": "2023-09-10T09:12:22.751Z"
   },
   {
    "duration": 0,
    "start_time": "2023-09-10T09:12:22.819Z"
   },
   {
    "duration": 0,
    "start_time": "2023-09-10T09:12:22.821Z"
   },
   {
    "duration": 0,
    "start_time": "2023-09-10T09:12:22.822Z"
   },
   {
    "duration": 0,
    "start_time": "2023-09-10T09:12:22.822Z"
   },
   {
    "duration": 0,
    "start_time": "2023-09-10T09:12:22.823Z"
   },
   {
    "duration": 0,
    "start_time": "2023-09-10T09:12:22.824Z"
   },
   {
    "duration": 0,
    "start_time": "2023-09-10T09:12:22.825Z"
   },
   {
    "duration": 0,
    "start_time": "2023-09-10T09:12:22.826Z"
   },
   {
    "duration": 0,
    "start_time": "2023-09-10T09:12:22.827Z"
   },
   {
    "duration": 5,
    "start_time": "2023-09-10T09:12:44.430Z"
   },
   {
    "duration": 12,
    "start_time": "2023-09-10T09:12:56.008Z"
   },
   {
    "duration": 4,
    "start_time": "2023-09-10T09:12:58.511Z"
   },
   {
    "duration": 4,
    "start_time": "2023-09-10T09:13:01.814Z"
   },
   {
    "duration": 9,
    "start_time": "2023-09-10T09:13:04.788Z"
   },
   {
    "duration": 6,
    "start_time": "2023-09-10T09:13:06.949Z"
   },
   {
    "duration": 11,
    "start_time": "2023-09-10T09:13:09.879Z"
   },
   {
    "duration": 4,
    "start_time": "2023-09-10T09:13:12.570Z"
   },
   {
    "duration": 5,
    "start_time": "2023-09-10T09:20:05.980Z"
   },
   {
    "duration": 6,
    "start_time": "2023-09-10T09:20:08.689Z"
   },
   {
    "duration": 5,
    "start_time": "2023-09-10T09:20:11.951Z"
   },
   {
    "duration": 4,
    "start_time": "2023-09-10T09:30:18.482Z"
   },
   {
    "duration": 71,
    "start_time": "2023-09-10T09:39:31.206Z"
   },
   {
    "duration": 720,
    "start_time": "2023-09-10T11:56:23.550Z"
   },
   {
    "duration": 28,
    "start_time": "2023-09-10T11:56:24.273Z"
   },
   {
    "duration": 23,
    "start_time": "2023-09-10T11:56:24.303Z"
   },
   {
    "duration": 12,
    "start_time": "2023-09-10T11:56:24.328Z"
   },
   {
    "duration": 67,
    "start_time": "2023-09-10T11:56:24.343Z"
   },
   {
    "duration": 3,
    "start_time": "2023-09-10T11:56:24.412Z"
   },
   {
    "duration": 30,
    "start_time": "2023-09-10T11:56:24.417Z"
   },
   {
    "duration": 24,
    "start_time": "2023-09-10T11:56:24.449Z"
   },
   {
    "duration": 14,
    "start_time": "2023-09-10T11:56:24.475Z"
   },
   {
    "duration": 6,
    "start_time": "2023-09-10T11:56:24.491Z"
   },
   {
    "duration": 53,
    "start_time": "2023-09-10T11:56:24.499Z"
   },
   {
    "duration": 14,
    "start_time": "2023-09-10T11:56:24.554Z"
   },
   {
    "duration": 4,
    "start_time": "2023-09-10T11:56:24.570Z"
   },
   {
    "duration": 32,
    "start_time": "2023-09-10T11:56:24.579Z"
   },
   {
    "duration": 32,
    "start_time": "2023-09-10T11:56:24.614Z"
   },
   {
    "duration": 28,
    "start_time": "2023-09-10T11:56:24.649Z"
   },
   {
    "duration": 5,
    "start_time": "2023-09-10T11:56:24.701Z"
   },
   {
    "duration": 15,
    "start_time": "2023-09-10T11:56:24.708Z"
   },
   {
    "duration": 9,
    "start_time": "2023-09-10T11:56:24.726Z"
   },
   {
    "duration": 5,
    "start_time": "2023-09-10T11:56:24.737Z"
   },
   {
    "duration": 22,
    "start_time": "2023-09-10T11:56:24.744Z"
   },
   {
    "duration": 6,
    "start_time": "2023-09-10T11:56:24.800Z"
   },
   {
    "duration": 10,
    "start_time": "2023-09-10T11:56:24.809Z"
   },
   {
    "duration": 14,
    "start_time": "2023-09-10T11:56:24.822Z"
   },
   {
    "duration": 5,
    "start_time": "2023-09-10T11:56:24.838Z"
   },
   {
    "duration": 23,
    "start_time": "2023-09-10T11:56:24.845Z"
   },
   {
    "duration": 10,
    "start_time": "2023-09-10T11:56:24.870Z"
   },
   {
    "duration": 14,
    "start_time": "2023-09-10T11:56:24.902Z"
   },
   {
    "duration": 25,
    "start_time": "2023-09-10T11:56:24.918Z"
   },
   {
    "duration": 10,
    "start_time": "2023-09-10T11:56:24.945Z"
   },
   {
    "duration": 24,
    "start_time": "2023-09-10T11:56:24.957Z"
   },
   {
    "duration": 18,
    "start_time": "2023-09-10T11:56:24.983Z"
   },
   {
    "duration": 27,
    "start_time": "2023-09-10T11:56:25.003Z"
   },
   {
    "duration": 20,
    "start_time": "2023-09-10T11:56:25.032Z"
   },
   {
    "duration": 46,
    "start_time": "2023-09-11T08:16:40.580Z"
   },
   {
    "duration": 738,
    "start_time": "2023-09-11T08:16:47.316Z"
   },
   {
    "duration": 21,
    "start_time": "2023-09-11T08:16:48.056Z"
   },
   {
    "duration": 36,
    "start_time": "2023-09-11T08:16:48.079Z"
   },
   {
    "duration": 10,
    "start_time": "2023-09-11T08:16:48.117Z"
   },
   {
    "duration": 42,
    "start_time": "2023-09-11T08:16:48.129Z"
   },
   {
    "duration": 3,
    "start_time": "2023-09-11T08:16:48.173Z"
   },
   {
    "duration": 32,
    "start_time": "2023-09-11T08:16:48.178Z"
   },
   {
    "duration": 31,
    "start_time": "2023-09-11T08:16:48.211Z"
   },
   {
    "duration": 25,
    "start_time": "2023-09-11T08:16:48.244Z"
   },
   {
    "duration": 38,
    "start_time": "2023-09-11T08:16:48.270Z"
   },
   {
    "duration": 66,
    "start_time": "2023-09-11T08:16:48.309Z"
   },
   {
    "duration": 10,
    "start_time": "2023-09-11T08:16:48.376Z"
   },
   {
    "duration": 4,
    "start_time": "2023-09-11T08:16:48.387Z"
   },
   {
    "duration": 28,
    "start_time": "2023-09-11T08:16:48.393Z"
   },
   {
    "duration": 29,
    "start_time": "2023-09-11T08:16:48.422Z"
   },
   {
    "duration": 23,
    "start_time": "2023-09-11T08:16:48.454Z"
   },
   {
    "duration": 4,
    "start_time": "2023-09-11T08:16:48.481Z"
   },
   {
    "duration": 19,
    "start_time": "2023-09-11T08:16:48.486Z"
   },
   {
    "duration": 10,
    "start_time": "2023-09-11T08:16:48.507Z"
   },
   {
    "duration": 4,
    "start_time": "2023-09-11T08:16:48.519Z"
   },
   {
    "duration": 11,
    "start_time": "2023-09-11T08:16:48.524Z"
   },
   {
    "duration": 3,
    "start_time": "2023-09-11T08:16:48.549Z"
   },
   {
    "duration": 7,
    "start_time": "2023-09-11T08:16:48.554Z"
   },
   {
    "duration": 10,
    "start_time": "2023-09-11T08:16:48.563Z"
   },
   {
    "duration": 13,
    "start_time": "2023-09-11T08:16:48.574Z"
   },
   {
    "duration": 3,
    "start_time": "2023-09-11T08:16:48.589Z"
   },
   {
    "duration": 11,
    "start_time": "2023-09-11T08:16:48.593Z"
   },
   {
    "duration": 6,
    "start_time": "2023-09-11T08:16:48.606Z"
   },
   {
    "duration": 6,
    "start_time": "2023-09-11T08:16:48.614Z"
   },
   {
    "duration": 37,
    "start_time": "2023-09-11T08:16:48.621Z"
   },
   {
    "duration": 4,
    "start_time": "2023-09-11T08:16:48.660Z"
   },
   {
    "duration": 13,
    "start_time": "2023-09-11T08:16:48.666Z"
   },
   {
    "duration": 5,
    "start_time": "2023-09-11T08:16:48.680Z"
   },
   {
    "duration": 16,
    "start_time": "2023-09-11T08:16:48.687Z"
   },
   {
    "duration": 11,
    "start_time": "2023-09-11T08:16:48.704Z"
   },
   {
    "duration": 63,
    "start_time": "2023-09-11T08:20:29.442Z"
   },
   {
    "duration": 17,
    "start_time": "2023-09-11T08:22:19.663Z"
   },
   {
    "duration": 13,
    "start_time": "2023-09-11T08:22:31.535Z"
   },
   {
    "duration": 25,
    "start_time": "2023-09-11T08:22:50.885Z"
   },
   {
    "duration": 26,
    "start_time": "2023-09-11T08:23:36.170Z"
   },
   {
    "duration": 120,
    "start_time": "2023-09-11T08:24:46.880Z"
   },
   {
    "duration": 33,
    "start_time": "2023-09-11T08:25:01.911Z"
   },
   {
    "duration": 25,
    "start_time": "2023-09-11T08:25:24.737Z"
   },
   {
    "duration": 10,
    "start_time": "2023-09-11T08:26:16.436Z"
   },
   {
    "duration": 13,
    "start_time": "2023-09-11T08:26:22.494Z"
   },
   {
    "duration": 26,
    "start_time": "2023-09-11T08:27:43.190Z"
   },
   {
    "duration": 62,
    "start_time": "2023-09-11T08:28:38.901Z"
   },
   {
    "duration": 11,
    "start_time": "2023-09-11T08:29:16.946Z"
   },
   {
    "duration": 38,
    "start_time": "2023-09-11T08:29:46.005Z"
   },
   {
    "duration": 29,
    "start_time": "2023-09-11T08:33:47.449Z"
   },
   {
    "duration": 16,
    "start_time": "2023-09-11T08:35:39.603Z"
   },
   {
    "duration": 17,
    "start_time": "2023-09-11T08:36:06.038Z"
   },
   {
    "duration": 17,
    "start_time": "2023-09-11T08:36:16.903Z"
   },
   {
    "duration": 16,
    "start_time": "2023-09-11T08:36:31.671Z"
   },
   {
    "duration": 20,
    "start_time": "2023-09-11T08:36:39.633Z"
   },
   {
    "duration": 25,
    "start_time": "2023-09-11T08:41:07.186Z"
   },
   {
    "duration": 31,
    "start_time": "2023-09-11T08:41:26.970Z"
   },
   {
    "duration": 21,
    "start_time": "2023-09-11T08:43:00.725Z"
   },
   {
    "duration": 23,
    "start_time": "2023-09-11T08:45:20.647Z"
   },
   {
    "duration": 21,
    "start_time": "2023-09-11T08:45:51.104Z"
   },
   {
    "duration": 33,
    "start_time": "2023-09-11T08:46:12.008Z"
   },
   {
    "duration": 32,
    "start_time": "2023-09-11T08:46:45.748Z"
   },
   {
    "duration": 30,
    "start_time": "2023-09-11T08:47:10.194Z"
   },
   {
    "duration": 33,
    "start_time": "2023-09-11T08:47:24.656Z"
   },
   {
    "duration": 79,
    "start_time": "2023-09-11T08:48:31.955Z"
   },
   {
    "duration": 21,
    "start_time": "2023-09-11T08:48:51.827Z"
   },
   {
    "duration": 23,
    "start_time": "2023-09-11T08:49:17.159Z"
   },
   {
    "duration": 21,
    "start_time": "2023-09-11T08:49:30.583Z"
   },
   {
    "duration": 5,
    "start_time": "2023-09-11T08:52:30.167Z"
   },
   {
    "duration": 21,
    "start_time": "2023-09-11T08:52:48.321Z"
   },
   {
    "duration": 4,
    "start_time": "2023-09-11T08:53:47.868Z"
   },
   {
    "duration": 42,
    "start_time": "2023-09-11T08:53:52.408Z"
   },
   {
    "duration": 5,
    "start_time": "2023-09-11T08:54:32.331Z"
   },
   {
    "duration": 4,
    "start_time": "2023-09-11T08:54:46.745Z"
   },
   {
    "duration": 3,
    "start_time": "2023-09-11T08:58:34.786Z"
   },
   {
    "duration": 22,
    "start_time": "2023-09-11T08:58:48.890Z"
   },
   {
    "duration": 4,
    "start_time": "2023-09-11T08:59:29.597Z"
   },
   {
    "duration": 21,
    "start_time": "2023-09-11T08:59:32.307Z"
   },
   {
    "duration": 22,
    "start_time": "2023-09-11T08:59:43.055Z"
   },
   {
    "duration": 4,
    "start_time": "2023-09-11T08:59:44.726Z"
   },
   {
    "duration": 39,
    "start_time": "2023-09-11T08:59:46.337Z"
   },
   {
    "duration": 4,
    "start_time": "2023-09-11T09:00:02.701Z"
   },
   {
    "duration": 22,
    "start_time": "2023-09-11T09:00:08.622Z"
   },
   {
    "duration": 4,
    "start_time": "2023-09-11T09:00:33.503Z"
   },
   {
    "duration": 23,
    "start_time": "2023-09-11T09:00:35.674Z"
   },
   {
    "duration": 4,
    "start_time": "2023-09-11T09:02:17.672Z"
   },
   {
    "duration": 21,
    "start_time": "2023-09-11T09:02:19.564Z"
   },
   {
    "duration": 4,
    "start_time": "2023-09-11T09:02:47.294Z"
   },
   {
    "duration": 4,
    "start_time": "2023-09-11T09:02:53.876Z"
   },
   {
    "duration": 20,
    "start_time": "2023-09-11T09:02:55.061Z"
   },
   {
    "duration": 22,
    "start_time": "2023-09-11T09:04:22.547Z"
   },
   {
    "duration": 101,
    "start_time": "2023-09-11T09:04:30.874Z"
   },
   {
    "duration": 22,
    "start_time": "2023-09-11T09:04:37.200Z"
   },
   {
    "duration": 4,
    "start_time": "2023-09-11T09:06:51.136Z"
   },
   {
    "duration": 35,
    "start_time": "2023-09-11T09:06:53.837Z"
   },
   {
    "duration": 4,
    "start_time": "2023-09-11T09:07:14.709Z"
   },
   {
    "duration": 23,
    "start_time": "2023-09-11T09:07:17.267Z"
   },
   {
    "duration": 10,
    "start_time": "2023-09-11T09:08:11.673Z"
   },
   {
    "duration": 13,
    "start_time": "2023-09-11T09:08:28.049Z"
   },
   {
    "duration": 13,
    "start_time": "2023-09-11T09:09:10.169Z"
   },
   {
    "duration": 6,
    "start_time": "2023-09-11T09:21:19.940Z"
   },
   {
    "duration": 8,
    "start_time": "2023-09-11T09:21:44.238Z"
   },
   {
    "duration": 9,
    "start_time": "2023-09-11T09:22:06.841Z"
   },
   {
    "duration": 9,
    "start_time": "2023-09-11T09:22:25.973Z"
   },
   {
    "duration": 4,
    "start_time": "2023-09-11T09:22:45.689Z"
   },
   {
    "duration": 4,
    "start_time": "2023-09-11T09:22:57.732Z"
   },
   {
    "duration": 10,
    "start_time": "2023-09-11T09:23:03.404Z"
   },
   {
    "duration": 6,
    "start_time": "2023-09-11T09:23:35.089Z"
   },
   {
    "duration": 13,
    "start_time": "2023-09-11T09:23:42.268Z"
   },
   {
    "duration": 11,
    "start_time": "2023-09-11T09:24:03.476Z"
   },
   {
    "duration": 3,
    "start_time": "2023-09-11T09:24:39.444Z"
   },
   {
    "duration": 7,
    "start_time": "2023-09-11T09:25:02.176Z"
   },
   {
    "duration": 3690,
    "start_time": "2023-09-11T09:27:43.590Z"
   },
   {
    "duration": 94,
    "start_time": "2023-09-11T09:28:19.568Z"
   },
   {
    "duration": 3996,
    "start_time": "2023-09-11T09:28:24.641Z"
   },
   {
    "duration": 4,
    "start_time": "2023-09-11T09:28:49.616Z"
   },
   {
    "duration": 1914,
    "start_time": "2023-09-11T09:28:58.520Z"
   },
   {
    "duration": 2513,
    "start_time": "2023-09-11T09:29:38.463Z"
   },
   {
    "duration": 1256,
    "start_time": "2023-09-11T10:43:57.325Z"
   },
   {
    "duration": 3,
    "start_time": "2023-09-11T10:46:58.151Z"
   },
   {
    "duration": 20,
    "start_time": "2023-09-11T10:47:00.458Z"
   },
   {
    "duration": 3,
    "start_time": "2023-09-11T10:47:11.647Z"
   },
   {
    "duration": 22,
    "start_time": "2023-09-11T10:47:14.405Z"
   },
   {
    "duration": 1602,
    "start_time": "2023-09-11T10:47:30.132Z"
   },
   {
    "duration": 20,
    "start_time": "2023-09-11T10:47:52.300Z"
   },
   {
    "duration": 16,
    "start_time": "2023-09-11T10:49:16.400Z"
   },
   {
    "duration": 19,
    "start_time": "2023-09-11T10:49:25.039Z"
   },
   {
    "duration": 3,
    "start_time": "2023-09-11T10:49:44.927Z"
   },
   {
    "duration": 20,
    "start_time": "2023-09-11T10:49:46.616Z"
   },
   {
    "duration": 3,
    "start_time": "2023-09-11T10:49:53.572Z"
   },
   {
    "duration": 18,
    "start_time": "2023-09-11T10:49:55.404Z"
   },
   {
    "duration": 545,
    "start_time": "2023-09-11T10:50:23.041Z"
   },
   {
    "duration": 20,
    "start_time": "2023-09-11T10:50:23.587Z"
   },
   {
    "duration": 28,
    "start_time": "2023-09-11T10:50:23.609Z"
   },
   {
    "duration": 25,
    "start_time": "2023-09-11T10:50:23.639Z"
   },
   {
    "duration": 59,
    "start_time": "2023-09-11T10:50:23.666Z"
   },
   {
    "duration": 3,
    "start_time": "2023-09-11T10:50:23.726Z"
   },
   {
    "duration": 27,
    "start_time": "2023-09-11T10:50:23.730Z"
   },
   {
    "duration": 20,
    "start_time": "2023-09-11T10:50:23.760Z"
   },
   {
    "duration": 31,
    "start_time": "2023-09-11T10:50:23.781Z"
   },
   {
    "duration": 16,
    "start_time": "2023-09-11T10:50:23.816Z"
   },
   {
    "duration": 52,
    "start_time": "2023-09-11T10:50:23.833Z"
   },
   {
    "duration": 10,
    "start_time": "2023-09-11T10:50:23.886Z"
   },
   {
    "duration": 23,
    "start_time": "2023-09-11T10:50:23.897Z"
   },
   {
    "duration": 21,
    "start_time": "2023-09-11T10:50:23.921Z"
   },
   {
    "duration": 57,
    "start_time": "2023-09-11T10:50:23.943Z"
   },
   {
    "duration": 31,
    "start_time": "2023-09-11T10:50:24.002Z"
   },
   {
    "duration": 26,
    "start_time": "2023-09-11T10:50:24.034Z"
   },
   {
    "duration": 48,
    "start_time": "2023-09-11T10:50:24.062Z"
   },
   {
    "duration": 29,
    "start_time": "2023-09-11T10:50:24.112Z"
   },
   {
    "duration": 19,
    "start_time": "2023-09-11T10:50:24.142Z"
   },
   {
    "duration": 34,
    "start_time": "2023-09-11T10:50:24.163Z"
   },
   {
    "duration": 11,
    "start_time": "2023-09-11T10:50:24.199Z"
   },
   {
    "duration": 96,
    "start_time": "2023-09-11T10:50:24.211Z"
   },
   {
    "duration": 0,
    "start_time": "2023-09-11T10:50:24.309Z"
   },
   {
    "duration": 0,
    "start_time": "2023-09-11T10:50:24.310Z"
   },
   {
    "duration": 0,
    "start_time": "2023-09-11T10:50:24.312Z"
   },
   {
    "duration": 0,
    "start_time": "2023-09-11T10:50:24.314Z"
   },
   {
    "duration": 0,
    "start_time": "2023-09-11T10:50:24.315Z"
   },
   {
    "duration": 0,
    "start_time": "2023-09-11T10:50:24.317Z"
   },
   {
    "duration": 0,
    "start_time": "2023-09-11T10:50:24.318Z"
   },
   {
    "duration": 0,
    "start_time": "2023-09-11T10:50:24.320Z"
   },
   {
    "duration": 0,
    "start_time": "2023-09-11T10:50:24.321Z"
   },
   {
    "duration": 0,
    "start_time": "2023-09-11T10:50:24.322Z"
   },
   {
    "duration": 0,
    "start_time": "2023-09-11T10:50:24.323Z"
   },
   {
    "duration": 28,
    "start_time": "2023-09-11T10:50:37.316Z"
   },
   {
    "duration": 22,
    "start_time": "2023-09-11T10:52:41.771Z"
   },
   {
    "duration": 22,
    "start_time": "2023-09-11T10:53:00.134Z"
   },
   {
    "duration": 23,
    "start_time": "2023-09-11T10:55:11.568Z"
   },
   {
    "duration": 25,
    "start_time": "2023-09-11T10:55:41.233Z"
   },
   {
    "duration": 23,
    "start_time": "2023-09-11T10:55:49.988Z"
   },
   {
    "duration": 22,
    "start_time": "2023-09-11T10:56:37.464Z"
   },
   {
    "duration": 28,
    "start_time": "2023-09-11T10:57:01.584Z"
   },
   {
    "duration": 3,
    "start_time": "2023-09-11T10:57:37.656Z"
   },
   {
    "duration": 20,
    "start_time": "2023-09-11T10:57:39.766Z"
   },
   {
    "duration": 4,
    "start_time": "2023-09-11T10:59:58.195Z"
   },
   {
    "duration": 23,
    "start_time": "2023-09-11T11:00:00.694Z"
   },
   {
    "duration": 4,
    "start_time": "2023-09-11T11:00:08.606Z"
   },
   {
    "duration": 21,
    "start_time": "2023-09-11T11:00:10.783Z"
   },
   {
    "duration": 3,
    "start_time": "2023-09-11T11:00:25.671Z"
   },
   {
    "duration": 20,
    "start_time": "2023-09-11T11:00:27.613Z"
   },
   {
    "duration": 3,
    "start_time": "2023-09-11T11:00:37.115Z"
   },
   {
    "duration": 21,
    "start_time": "2023-09-11T11:00:39.321Z"
   },
   {
    "duration": 3,
    "start_time": "2023-09-11T11:00:47.859Z"
   },
   {
    "duration": 23,
    "start_time": "2023-09-11T11:00:50.271Z"
   },
   {
    "duration": 502,
    "start_time": "2023-09-11T11:01:06.125Z"
   },
   {
    "duration": 20,
    "start_time": "2023-09-11T11:01:06.629Z"
   },
   {
    "duration": 39,
    "start_time": "2023-09-11T11:01:06.651Z"
   },
   {
    "duration": 31,
    "start_time": "2023-09-11T11:01:06.692Z"
   },
   {
    "duration": 52,
    "start_time": "2023-09-11T11:01:06.725Z"
   },
   {
    "duration": 4,
    "start_time": "2023-09-11T11:01:06.778Z"
   },
   {
    "duration": 29,
    "start_time": "2023-09-11T11:01:06.786Z"
   },
   {
    "duration": 29,
    "start_time": "2023-09-11T11:01:06.816Z"
   },
   {
    "duration": 22,
    "start_time": "2023-09-11T11:01:06.847Z"
   },
   {
    "duration": 9,
    "start_time": "2023-09-11T11:01:06.871Z"
   },
   {
    "duration": 79,
    "start_time": "2023-09-11T11:01:06.882Z"
   },
   {
    "duration": 20,
    "start_time": "2023-09-11T11:01:06.963Z"
   },
   {
    "duration": 5,
    "start_time": "2023-09-11T11:01:06.985Z"
   },
   {
    "duration": 36,
    "start_time": "2023-09-11T11:01:06.993Z"
   },
   {
    "duration": 29,
    "start_time": "2023-09-11T11:01:07.031Z"
   },
   {
    "duration": 16,
    "start_time": "2023-09-11T11:01:07.061Z"
   },
   {
    "duration": 4,
    "start_time": "2023-09-11T11:01:07.078Z"
   },
   {
    "duration": 29,
    "start_time": "2023-09-11T11:01:07.083Z"
   },
   {
    "duration": 8,
    "start_time": "2023-09-11T11:01:07.114Z"
   },
   {
    "duration": 10,
    "start_time": "2023-09-11T11:01:07.124Z"
   },
   {
    "duration": 22,
    "start_time": "2023-09-11T11:01:07.136Z"
   },
   {
    "duration": 5,
    "start_time": "2023-09-11T11:01:07.160Z"
   },
   {
    "duration": 131,
    "start_time": "2023-09-11T11:01:07.166Z"
   },
   {
    "duration": 0,
    "start_time": "2023-09-11T11:01:07.298Z"
   },
   {
    "duration": 0,
    "start_time": "2023-09-11T11:01:07.300Z"
   },
   {
    "duration": 0,
    "start_time": "2023-09-11T11:01:07.301Z"
   },
   {
    "duration": 0,
    "start_time": "2023-09-11T11:01:07.302Z"
   },
   {
    "duration": 1,
    "start_time": "2023-09-11T11:01:07.303Z"
   },
   {
    "duration": 0,
    "start_time": "2023-09-11T11:01:07.305Z"
   },
   {
    "duration": 0,
    "start_time": "2023-09-11T11:01:07.306Z"
   },
   {
    "duration": 0,
    "start_time": "2023-09-11T11:01:07.306Z"
   },
   {
    "duration": 0,
    "start_time": "2023-09-11T11:01:07.308Z"
   },
   {
    "duration": 0,
    "start_time": "2023-09-11T11:01:07.309Z"
   },
   {
    "duration": 0,
    "start_time": "2023-09-11T11:01:07.310Z"
   },
   {
    "duration": 4,
    "start_time": "2023-09-11T11:01:33.656Z"
   },
   {
    "duration": 26,
    "start_time": "2023-09-11T11:01:36.457Z"
   },
   {
    "duration": 4,
    "start_time": "2023-09-11T11:02:01.863Z"
   },
   {
    "duration": 22,
    "start_time": "2023-09-11T11:02:04.263Z"
   },
   {
    "duration": 5,
    "start_time": "2023-09-11T11:02:10.877Z"
   },
   {
    "duration": 20,
    "start_time": "2023-09-11T11:02:12.604Z"
   },
   {
    "duration": 3,
    "start_time": "2023-09-11T11:02:24.236Z"
   },
   {
    "duration": 27,
    "start_time": "2023-09-11T11:02:26.071Z"
   },
   {
    "duration": 4,
    "start_time": "2023-09-11T11:02:34.215Z"
   },
   {
    "duration": 29,
    "start_time": "2023-09-11T11:02:36.140Z"
   },
   {
    "duration": 3,
    "start_time": "2023-09-11T11:02:43.215Z"
   },
   {
    "duration": 21,
    "start_time": "2023-09-11T11:02:45.568Z"
   },
   {
    "duration": 14,
    "start_time": "2023-09-11T11:03:39.886Z"
   },
   {
    "duration": 12,
    "start_time": "2023-09-11T11:04:35.745Z"
   },
   {
    "duration": 13,
    "start_time": "2023-09-11T11:07:43.445Z"
   },
   {
    "duration": 11,
    "start_time": "2023-09-11T11:07:53.071Z"
   },
   {
    "duration": 8,
    "start_time": "2023-09-11T11:08:01.569Z"
   },
   {
    "duration": 12,
    "start_time": "2023-09-11T11:08:17.666Z"
   },
   {
    "duration": 16,
    "start_time": "2023-09-11T11:09:45.327Z"
   },
   {
    "duration": 89,
    "start_time": "2023-09-11T11:10:52.242Z"
   },
   {
    "duration": 13,
    "start_time": "2023-09-11T11:10:57.972Z"
   },
   {
    "duration": 11,
    "start_time": "2023-09-11T11:19:10.786Z"
   },
   {
    "duration": 14,
    "start_time": "2023-09-11T11:19:21.747Z"
   },
   {
    "duration": 114,
    "start_time": "2023-09-11T11:19:29.125Z"
   },
   {
    "duration": 186,
    "start_time": "2023-09-11T11:19:52.480Z"
   },
   {
    "duration": 14,
    "start_time": "2023-09-11T11:19:59.223Z"
   },
   {
    "duration": 10,
    "start_time": "2023-09-11T11:20:18.234Z"
   },
   {
    "duration": 13,
    "start_time": "2023-09-11T11:22:20.177Z"
   },
   {
    "duration": 14,
    "start_time": "2023-09-11T11:22:26.336Z"
   },
   {
    "duration": 9,
    "start_time": "2023-09-11T11:23:34.280Z"
   },
   {
    "duration": 16,
    "start_time": "2023-09-11T11:23:47.028Z"
   },
   {
    "duration": 20,
    "start_time": "2023-09-11T11:24:08.156Z"
   },
   {
    "duration": 16,
    "start_time": "2023-09-11T11:24:24.602Z"
   },
   {
    "duration": 18,
    "start_time": "2023-09-11T11:24:39.067Z"
   },
   {
    "duration": 16,
    "start_time": "2023-09-11T11:24:45.811Z"
   },
   {
    "duration": 16,
    "start_time": "2023-09-11T11:24:50.505Z"
   },
   {
    "duration": 4,
    "start_time": "2023-09-11T11:26:01.936Z"
   },
   {
    "duration": 23,
    "start_time": "2023-09-11T11:26:04.270Z"
   },
   {
    "duration": 5,
    "start_time": "2023-09-11T11:29:02.776Z"
   },
   {
    "duration": 4,
    "start_time": "2023-09-11T11:29:09.996Z"
   },
   {
    "duration": 28,
    "start_time": "2023-09-11T11:29:11.976Z"
   },
   {
    "duration": 5,
    "start_time": "2023-09-11T11:46:41.249Z"
   },
   {
    "duration": 28,
    "start_time": "2023-09-11T11:46:42.988Z"
   },
   {
    "duration": 6,
    "start_time": "2023-09-11T12:35:14.804Z"
   },
   {
    "duration": 32,
    "start_time": "2023-09-11T12:35:30.969Z"
   },
   {
    "duration": 8,
    "start_time": "2023-09-11T12:36:09.932Z"
   },
   {
    "duration": 3,
    "start_time": "2023-09-11T12:46:47.205Z"
   },
   {
    "duration": 80,
    "start_time": "2023-09-11T12:51:18.205Z"
   },
   {
    "duration": 3,
    "start_time": "2023-09-11T12:51:25.961Z"
   },
   {
    "duration": 93,
    "start_time": "2023-09-11T12:58:42.644Z"
   },
   {
    "duration": 4,
    "start_time": "2023-09-11T12:58:54.532Z"
   },
   {
    "duration": 32,
    "start_time": "2023-09-11T12:59:01.573Z"
   },
   {
    "duration": 117,
    "start_time": "2023-09-11T12:59:43.373Z"
   },
   {
    "duration": 11,
    "start_time": "2023-09-11T12:59:49.169Z"
   },
   {
    "duration": 4,
    "start_time": "2023-09-11T13:00:13.254Z"
   },
   {
    "duration": 12,
    "start_time": "2023-09-11T13:00:14.870Z"
   },
   {
    "duration": 4,
    "start_time": "2023-09-11T13:00:37.621Z"
   },
   {
    "duration": 13,
    "start_time": "2023-09-11T13:00:39.709Z"
   },
   {
    "duration": 1670,
    "start_time": "2023-09-11T13:01:41.775Z"
   },
   {
    "duration": 6,
    "start_time": "2023-09-11T13:01:59.622Z"
   },
   {
    "duration": 6,
    "start_time": "2023-09-11T13:02:35.565Z"
   },
   {
    "duration": 10,
    "start_time": "2023-09-11T13:02:46.148Z"
   },
   {
    "duration": 6,
    "start_time": "2023-09-11T13:02:56.284Z"
   },
   {
    "duration": 6,
    "start_time": "2023-09-11T13:03:02.891Z"
   },
   {
    "duration": 6,
    "start_time": "2023-09-11T13:03:06.495Z"
   },
   {
    "duration": 6,
    "start_time": "2023-09-11T13:03:11.555Z"
   },
   {
    "duration": 6,
    "start_time": "2023-09-11T13:03:16.679Z"
   },
   {
    "duration": 7,
    "start_time": "2023-09-11T13:07:59.685Z"
   },
   {
    "duration": 3,
    "start_time": "2023-09-11T13:08:03.188Z"
   },
   {
    "duration": 6,
    "start_time": "2023-09-11T13:08:05.295Z"
   },
   {
    "duration": 13,
    "start_time": "2023-09-11T13:08:15.096Z"
   },
   {
    "duration": 3,
    "start_time": "2023-09-11T13:08:50.491Z"
   },
   {
    "duration": 13,
    "start_time": "2023-09-11T13:08:52.832Z"
   },
   {
    "duration": 3,
    "start_time": "2023-09-11T13:09:26.311Z"
   },
   {
    "duration": 19,
    "start_time": "2023-09-11T13:09:27.891Z"
   },
   {
    "duration": 3,
    "start_time": "2023-09-11T13:10:17.623Z"
   },
   {
    "duration": 12,
    "start_time": "2023-09-11T13:10:19.748Z"
   },
   {
    "duration": 7,
    "start_time": "2023-09-11T13:11:26.908Z"
   },
   {
    "duration": 5,
    "start_time": "2023-09-11T13:11:59.430Z"
   },
   {
    "duration": 81,
    "start_time": "2023-09-11T13:13:07.761Z"
   },
   {
    "duration": 6,
    "start_time": "2023-09-11T13:13:34.604Z"
   },
   {
    "duration": 8,
    "start_time": "2023-09-11T13:13:57.046Z"
   },
   {
    "duration": 9,
    "start_time": "2023-09-11T13:14:44.041Z"
   },
   {
    "duration": 6,
    "start_time": "2023-09-11T13:14:53.878Z"
   },
   {
    "duration": 3,
    "start_time": "2023-09-11T13:18:43.964Z"
   },
   {
    "duration": 13,
    "start_time": "2023-09-11T13:18:47.727Z"
   },
   {
    "duration": 3,
    "start_time": "2023-09-11T13:19:04.483Z"
   },
   {
    "duration": 13,
    "start_time": "2023-09-11T13:19:06.650Z"
   },
   {
    "duration": 3,
    "start_time": "2023-09-11T13:19:35.609Z"
   },
   {
    "duration": 14,
    "start_time": "2023-09-11T13:19:38.261Z"
   },
   {
    "duration": 8,
    "start_time": "2023-09-11T13:20:08.276Z"
   },
   {
    "duration": 10,
    "start_time": "2023-09-11T13:20:18.882Z"
   },
   {
    "duration": 12,
    "start_time": "2023-09-11T13:21:01.129Z"
   },
   {
    "duration": 3,
    "start_time": "2023-09-11T13:24:56.136Z"
   },
   {
    "duration": 13,
    "start_time": "2023-09-11T13:24:58.595Z"
   },
   {
    "duration": 5,
    "start_time": "2023-09-11T13:25:20.689Z"
   },
   {
    "duration": 13,
    "start_time": "2023-09-11T13:25:27.288Z"
   },
   {
    "duration": 2,
    "start_time": "2023-09-11T13:25:40.924Z"
   },
   {
    "duration": 13,
    "start_time": "2023-09-11T13:25:43.728Z"
   },
   {
    "duration": 7,
    "start_time": "2023-09-11T15:07:33.153Z"
   },
   {
    "duration": 39,
    "start_time": "2023-09-11T15:07:35.571Z"
   },
   {
    "duration": 6,
    "start_time": "2023-09-11T15:07:49.978Z"
   },
   {
    "duration": 514,
    "start_time": "2023-09-11T15:07:53.983Z"
   },
   {
    "duration": 20,
    "start_time": "2023-09-11T15:07:54.499Z"
   },
   {
    "duration": 14,
    "start_time": "2023-09-11T15:07:54.521Z"
   },
   {
    "duration": 9,
    "start_time": "2023-09-11T15:07:54.536Z"
   },
   {
    "duration": 41,
    "start_time": "2023-09-11T15:07:54.547Z"
   },
   {
    "duration": 3,
    "start_time": "2023-09-11T15:07:54.590Z"
   },
   {
    "duration": 12,
    "start_time": "2023-09-11T15:07:54.595Z"
   },
   {
    "duration": 4,
    "start_time": "2023-09-11T15:07:54.608Z"
   },
   {
    "duration": 8,
    "start_time": "2023-09-11T15:07:54.613Z"
   },
   {
    "duration": 4,
    "start_time": "2023-09-11T15:07:54.623Z"
   },
   {
    "duration": 36,
    "start_time": "2023-09-11T15:07:54.643Z"
   },
   {
    "duration": 10,
    "start_time": "2023-09-11T15:07:54.680Z"
   },
   {
    "duration": 4,
    "start_time": "2023-09-11T15:07:54.691Z"
   },
   {
    "duration": 12,
    "start_time": "2023-09-11T15:07:54.696Z"
   },
   {
    "duration": 46,
    "start_time": "2023-09-11T15:07:54.709Z"
   },
   {
    "duration": 15,
    "start_time": "2023-09-11T15:07:54.757Z"
   },
   {
    "duration": 3,
    "start_time": "2023-09-11T15:07:54.774Z"
   },
   {
    "duration": 14,
    "start_time": "2023-09-11T15:07:54.779Z"
   },
   {
    "duration": 6,
    "start_time": "2023-09-11T15:07:54.794Z"
   },
   {
    "duration": 4,
    "start_time": "2023-09-11T15:07:54.801Z"
   },
   {
    "duration": 12,
    "start_time": "2023-09-11T15:07:54.806Z"
   },
   {
    "duration": 3,
    "start_time": "2023-09-11T15:07:54.845Z"
   },
   {
    "duration": 41,
    "start_time": "2023-09-11T15:07:54.850Z"
   },
   {
    "duration": 5,
    "start_time": "2023-09-11T15:07:54.892Z"
   },
   {
    "duration": 10,
    "start_time": "2023-09-11T15:07:54.898Z"
   },
   {
    "duration": 7,
    "start_time": "2023-09-11T15:07:54.910Z"
   },
   {
    "duration": 42,
    "start_time": "2023-09-11T15:07:54.918Z"
   },
   {
    "duration": 3,
    "start_time": "2023-09-11T15:07:54.962Z"
   },
   {
    "duration": 79,
    "start_time": "2023-09-11T15:07:54.966Z"
   },
   {
    "duration": 0,
    "start_time": "2023-09-11T15:07:55.047Z"
   },
   {
    "duration": 0,
    "start_time": "2023-09-11T15:07:55.048Z"
   },
   {
    "duration": 0,
    "start_time": "2023-09-11T15:07:55.049Z"
   },
   {
    "duration": 0,
    "start_time": "2023-09-11T15:07:55.050Z"
   },
   {
    "duration": 13,
    "start_time": "2023-09-11T15:08:14.583Z"
   },
   {
    "duration": 3,
    "start_time": "2023-09-11T15:08:50.353Z"
   },
   {
    "duration": 13,
    "start_time": "2023-09-11T15:08:52.483Z"
   },
   {
    "duration": 3,
    "start_time": "2023-09-11T15:09:11.887Z"
   },
   {
    "duration": 12,
    "start_time": "2023-09-11T15:09:13.770Z"
   },
   {
    "duration": 3,
    "start_time": "2023-09-11T15:09:33.444Z"
   },
   {
    "duration": 258,
    "start_time": "2023-09-11T15:09:35.153Z"
   },
   {
    "duration": 3,
    "start_time": "2023-09-11T15:10:04.167Z"
   },
   {
    "duration": 15,
    "start_time": "2023-09-11T15:10:06.998Z"
   },
   {
    "duration": 3,
    "start_time": "2023-09-11T15:10:23.069Z"
   },
   {
    "duration": 16,
    "start_time": "2023-09-11T15:10:25.040Z"
   },
   {
    "duration": 20,
    "start_time": "2023-09-11T15:12:01.584Z"
   },
   {
    "duration": 13,
    "start_time": "2023-09-11T15:12:30.590Z"
   },
   {
    "duration": 8,
    "start_time": "2023-09-11T15:12:42.816Z"
   },
   {
    "duration": 60,
    "start_time": "2023-09-11T15:16:55.693Z"
   },
   {
    "duration": 8,
    "start_time": "2023-09-11T15:17:08.186Z"
   },
   {
    "duration": 3,
    "start_time": "2023-09-11T15:25:20.090Z"
   },
   {
    "duration": 6,
    "start_time": "2023-09-11T15:25:21.263Z"
   },
   {
    "duration": 6,
    "start_time": "2023-09-11T15:25:27.688Z"
   },
   {
    "duration": 3,
    "start_time": "2023-09-11T15:25:32.137Z"
   },
   {
    "duration": 8,
    "start_time": "2023-09-11T15:25:35.086Z"
   },
   {
    "duration": 9,
    "start_time": "2023-09-11T15:25:48.791Z"
   },
   {
    "duration": 14,
    "start_time": "2023-09-11T15:25:53.061Z"
   },
   {
    "duration": 3,
    "start_time": "2023-09-11T15:26:15.328Z"
   },
   {
    "duration": 14,
    "start_time": "2023-09-11T15:26:17.274Z"
   },
   {
    "duration": 3,
    "start_time": "2023-09-11T15:26:23.550Z"
   },
   {
    "duration": 13,
    "start_time": "2023-09-11T15:26:25.721Z"
   },
   {
    "duration": 9,
    "start_time": "2023-09-11T15:26:27.903Z"
   },
   {
    "duration": 3,
    "start_time": "2023-09-11T15:27:02.674Z"
   },
   {
    "duration": 17,
    "start_time": "2023-09-11T15:27:04.237Z"
   },
   {
    "duration": 8,
    "start_time": "2023-09-11T15:27:07.278Z"
   },
   {
    "duration": 30,
    "start_time": "2023-09-11T15:28:25.966Z"
   },
   {
    "duration": 5,
    "start_time": "2023-09-11T15:30:26.823Z"
   },
   {
    "duration": 29,
    "start_time": "2023-09-11T15:32:41.154Z"
   },
   {
    "duration": 78,
    "start_time": "2023-09-11T15:50:45.461Z"
   },
   {
    "duration": 31,
    "start_time": "2023-09-11T16:07:51.536Z"
   },
   {
    "duration": 7,
    "start_time": "2023-09-11T16:22:11.088Z"
   },
   {
    "duration": 5,
    "start_time": "2023-09-11T16:22:20.001Z"
   },
   {
    "duration": 8,
    "start_time": "2023-09-11T16:22:38.451Z"
   },
   {
    "duration": 14,
    "start_time": "2023-09-11T16:31:12.348Z"
   },
   {
    "duration": 44,
    "start_time": "2023-09-12T06:09:56.079Z"
   },
   {
    "duration": 515,
    "start_time": "2023-09-12T06:10:03.310Z"
   },
   {
    "duration": 22,
    "start_time": "2023-09-12T06:10:03.827Z"
   },
   {
    "duration": 22,
    "start_time": "2023-09-12T06:10:03.851Z"
   },
   {
    "duration": 21,
    "start_time": "2023-09-12T06:10:03.875Z"
   },
   {
    "duration": 48,
    "start_time": "2023-09-12T06:10:03.899Z"
   },
   {
    "duration": 3,
    "start_time": "2023-09-12T06:10:03.949Z"
   },
   {
    "duration": 15,
    "start_time": "2023-09-12T06:10:03.954Z"
   },
   {
    "duration": 15,
    "start_time": "2023-09-12T06:10:03.971Z"
   },
   {
    "duration": 25,
    "start_time": "2023-09-12T06:10:03.988Z"
   },
   {
    "duration": 23,
    "start_time": "2023-09-12T06:10:04.015Z"
   },
   {
    "duration": 60,
    "start_time": "2023-09-12T06:10:04.040Z"
   },
   {
    "duration": 12,
    "start_time": "2023-09-12T06:10:04.102Z"
   },
   {
    "duration": 16,
    "start_time": "2023-09-12T06:10:04.116Z"
   },
   {
    "duration": 24,
    "start_time": "2023-09-12T06:10:04.136Z"
   },
   {
    "duration": 28,
    "start_time": "2023-09-12T06:10:04.162Z"
   },
   {
    "duration": 23,
    "start_time": "2023-09-12T06:10:04.192Z"
   },
   {
    "duration": 4,
    "start_time": "2023-09-12T06:10:04.217Z"
   },
   {
    "duration": 28,
    "start_time": "2023-09-12T06:10:04.223Z"
   },
   {
    "duration": 23,
    "start_time": "2023-09-12T06:10:04.252Z"
   },
   {
    "duration": 18,
    "start_time": "2023-09-12T06:10:04.277Z"
   },
   {
    "duration": 19,
    "start_time": "2023-09-12T06:10:04.297Z"
   },
   {
    "duration": 14,
    "start_time": "2023-09-12T06:10:04.318Z"
   },
   {
    "duration": 68,
    "start_time": "2023-09-12T06:10:04.334Z"
   },
   {
    "duration": 52,
    "start_time": "2023-09-12T06:10:04.404Z"
   },
   {
    "duration": 31,
    "start_time": "2023-09-12T06:10:04.457Z"
   },
   {
    "duration": 23,
    "start_time": "2023-09-12T06:10:04.490Z"
   },
   {
    "duration": 49,
    "start_time": "2023-09-12T06:10:04.515Z"
   },
   {
    "duration": 3,
    "start_time": "2023-09-12T06:10:04.565Z"
   },
   {
    "duration": 19,
    "start_time": "2023-09-12T06:10:04.569Z"
   },
   {
    "duration": 20,
    "start_time": "2023-09-12T06:10:04.590Z"
   },
   {
    "duration": 25,
    "start_time": "2023-09-12T06:10:04.611Z"
   },
   {
    "duration": 34,
    "start_time": "2023-09-12T06:10:04.638Z"
   },
   {
    "duration": 29,
    "start_time": "2023-09-12T06:10:04.674Z"
   },
   {
    "duration": 6,
    "start_time": "2023-09-12T06:10:04.704Z"
   },
   {
    "duration": 35,
    "start_time": "2023-09-12T06:10:04.711Z"
   }
  ],
  "colab": {
   "provenance": []
  },
  "kernelspec": {
   "display_name": "Python 3 (ipykernel)",
   "language": "python",
   "name": "python3"
  },
  "language_info": {
   "codemirror_mode": {
    "name": "ipython",
    "version": 3
   },
   "file_extension": ".py",
   "mimetype": "text/x-python",
   "name": "python",
   "nbconvert_exporter": "python",
   "pygments_lexer": "ipython3",
   "version": "3.9.5"
  },
  "toc": {
   "base_numbering": 1,
   "nav_menu": {},
   "number_sections": true,
   "sideBar": true,
   "skip_h1_title": true,
   "title_cell": "Table of Contents",
   "title_sidebar": "Contents",
   "toc_cell": false,
   "toc_position": {
    "height": "calc(100% - 180px)",
    "left": "10px",
    "top": "150px",
    "width": "294.4px"
   },
   "toc_section_display": true,
   "toc_window_display": true
  }
 },
 "nbformat": 4,
 "nbformat_minor": 5
}
