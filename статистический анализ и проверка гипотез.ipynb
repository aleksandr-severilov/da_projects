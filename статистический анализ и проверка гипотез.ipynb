{
 "cells": [
  {
   "cell_type": "markdown",
   "id": "4376d357",
   "metadata": {},
   "source": [
    "# Исследовательский и статистический анализ данных сервиса аренда самокатов."
   ]
  },
  {
   "cell_type": "markdown",
   "id": "cbc82de3",
   "metadata": {},
   "source": [
    "В нашем распоряжении следующие данные сервиса аренды самокатов:\n",
    "\n",
    "**Датафрейм 1:**\n",
    "- `user_id` - уникальный идентификатор пользователя\n",
    "- `name` - имя пользователя\n",
    "- `age` - возраст\n",
    "- `city` - город\n",
    "- `subscription_type` - тип подписки (free, ultra)\n",
    "\n",
    "**Датафрейм 2:**\n",
    "- `user_id` - уникальный идентификатор пользователя\n",
    "- `distance` -\tрасстояние, которое пользователь проехал в текущей сессии (в метрах)\n",
    "- `duration` -\tпродолжительность сессии (в минутах) — время с того момента, как пользователь нажал кнопку «Начать поездку» до момента, как он нажал кнопку «Завершить поездку»\n",
    "- `date` -\tдата совершения поездки\n",
    "\n",
    "**Датафрейм 3:**\n",
    "- `subscription_type`\tтип подписки\n",
    "- `minute_price` -\tстоимость одной минуты поездки по данной подписке\n",
    "- `start_ride_price` -\tстоимость начала поездки\n",
    "- `subscription_fee` -\tстоимость ежемесячного платежа\n",
    "\n",
    "Рассмторим их и проведем предобработку данных."
   ]
  },
  {
   "cell_type": "code",
   "execution_count": 1,
   "id": "72576667",
   "metadata": {},
   "outputs": [],
   "source": [
    "import pandas as pd\n",
    "import matplotlib as plt\n",
    "import numpy as np\n",
    "from scipy import stats as st\n",
    "from scipy.stats import binom, norm\n",
    "from matplotlib import pyplot as plt\n",
    "from math import sqrt"
   ]
  },
  {
   "cell_type": "markdown",
   "id": "c42cbe00",
   "metadata": {},
   "source": [
    "## Шаг 1. Загрузка данных \n",
    "<a id='download'></a>"
   ]
  },
  {
   "cell_type": "code",
   "execution_count": 2,
   "id": "eff9f206",
   "metadata": {},
   "outputs": [],
   "source": [
    "\n",
    "try:\n",
    "    data_users = pd.read_csv('')\n",
    "    data_rides = pd.read_csv('', parse_dates=['date'])\n",
    "    data_sub = pd.read_csv('')\n",
    "except:\n",
    "    data_users = pd.read_csv('users_go.csv')\n",
    "    data_rides = pd.read_csv('rides_go.csv')\n",
    "    data_sub = pd.read_csv('subscriptions_go.csv')\n",
    "    print('Произошел сбой внешней загрузки!')"
   ]
  },
  {
   "cell_type": "markdown",
   "id": "d5dd54a7",
   "metadata": {},
   "source": [
    "Предварительно оценим датафреймы и информацию в них."
   ]
  },
  {
   "cell_type": "code",
   "execution_count": 3,
   "id": "a248224b",
   "metadata": {
    "scrolled": true
   },
   "outputs": [
    {
     "name": "stdout",
     "output_type": "stream",
     "text": [
      "<class 'pandas.core.frame.DataFrame'>\n",
      "RangeIndex: 1565 entries, 0 to 1564\n",
      "Data columns (total 5 columns):\n",
      " #   Column             Non-Null Count  Dtype \n",
      "---  ------             --------------  ----- \n",
      " 0   user_id            1565 non-null   int64 \n",
      " 1   name               1565 non-null   object\n",
      " 2   age                1565 non-null   int64 \n",
      " 3   city               1565 non-null   object\n",
      " 4   subscription_type  1565 non-null   object\n",
      "dtypes: int64(2), object(3)\n",
      "memory usage: 61.3+ KB\n"
     ]
    }
   ],
   "source": [
    "data_users.info()"
   ]
  },
  {
   "cell_type": "code",
   "execution_count": 4,
   "id": "40780703",
   "metadata": {},
   "outputs": [
    {
     "data": {
      "text/html": [
       "<div>\n",
       "<style scoped>\n",
       "    .dataframe tbody tr th:only-of-type {\n",
       "        vertical-align: middle;\n",
       "    }\n",
       "\n",
       "    .dataframe tbody tr th {\n",
       "        vertical-align: top;\n",
       "    }\n",
       "\n",
       "    .dataframe thead th {\n",
       "        text-align: right;\n",
       "    }\n",
       "</style>\n",
       "<table border=\"1\" class=\"dataframe\">\n",
       "  <thead>\n",
       "    <tr style=\"text-align: right;\">\n",
       "      <th></th>\n",
       "      <th>user_id</th>\n",
       "      <th>name</th>\n",
       "      <th>age</th>\n",
       "      <th>city</th>\n",
       "      <th>subscription_type</th>\n",
       "    </tr>\n",
       "  </thead>\n",
       "  <tbody>\n",
       "    <tr>\n",
       "      <th>0</th>\n",
       "      <td>1</td>\n",
       "      <td>Кира</td>\n",
       "      <td>22</td>\n",
       "      <td>Тюмень</td>\n",
       "      <td>ultra</td>\n",
       "    </tr>\n",
       "    <tr>\n",
       "      <th>1</th>\n",
       "      <td>2</td>\n",
       "      <td>Станислав</td>\n",
       "      <td>31</td>\n",
       "      <td>Омск</td>\n",
       "      <td>ultra</td>\n",
       "    </tr>\n",
       "    <tr>\n",
       "      <th>2</th>\n",
       "      <td>3</td>\n",
       "      <td>Алексей</td>\n",
       "      <td>20</td>\n",
       "      <td>Москва</td>\n",
       "      <td>ultra</td>\n",
       "    </tr>\n",
       "    <tr>\n",
       "      <th>3</th>\n",
       "      <td>4</td>\n",
       "      <td>Константин</td>\n",
       "      <td>26</td>\n",
       "      <td>Ростов-на-Дону</td>\n",
       "      <td>ultra</td>\n",
       "    </tr>\n",
       "    <tr>\n",
       "      <th>4</th>\n",
       "      <td>5</td>\n",
       "      <td>Адель</td>\n",
       "      <td>28</td>\n",
       "      <td>Омск</td>\n",
       "      <td>ultra</td>\n",
       "    </tr>\n",
       "    <tr>\n",
       "      <th>5</th>\n",
       "      <td>6</td>\n",
       "      <td>Регина</td>\n",
       "      <td>25</td>\n",
       "      <td>Краснодар</td>\n",
       "      <td>ultra</td>\n",
       "    </tr>\n",
       "    <tr>\n",
       "      <th>6</th>\n",
       "      <td>7</td>\n",
       "      <td>Игорь</td>\n",
       "      <td>23</td>\n",
       "      <td>Омск</td>\n",
       "      <td>ultra</td>\n",
       "    </tr>\n",
       "    <tr>\n",
       "      <th>7</th>\n",
       "      <td>8</td>\n",
       "      <td>Юрий</td>\n",
       "      <td>23</td>\n",
       "      <td>Краснодар</td>\n",
       "      <td>ultra</td>\n",
       "    </tr>\n",
       "    <tr>\n",
       "      <th>8</th>\n",
       "      <td>9</td>\n",
       "      <td>Ян</td>\n",
       "      <td>21</td>\n",
       "      <td>Пятигорск</td>\n",
       "      <td>ultra</td>\n",
       "    </tr>\n",
       "    <tr>\n",
       "      <th>9</th>\n",
       "      <td>10</td>\n",
       "      <td>Валерий</td>\n",
       "      <td>18</td>\n",
       "      <td>Екатеринбург</td>\n",
       "      <td>ultra</td>\n",
       "    </tr>\n",
       "  </tbody>\n",
       "</table>\n",
       "</div>"
      ],
      "text/plain": [
       "   user_id        name  age            city subscription_type\n",
       "0        1        Кира   22          Тюмень             ultra\n",
       "1        2   Станислав   31            Омск             ultra\n",
       "2        3     Алексей   20          Москва             ultra\n",
       "3        4  Константин   26  Ростов-на-Дону             ultra\n",
       "4        5       Адель   28            Омск             ultra\n",
       "5        6      Регина   25       Краснодар             ultra\n",
       "6        7       Игорь   23            Омск             ultra\n",
       "7        8        Юрий   23       Краснодар             ultra\n",
       "8        9          Ян   21       Пятигорск             ultra\n",
       "9       10     Валерий   18    Екатеринбург             ultra"
      ]
     },
     "execution_count": 4,
     "metadata": {},
     "output_type": "execute_result"
    }
   ],
   "source": [
    "data_users.head(10)"
   ]
  },
  {
   "cell_type": "code",
   "execution_count": 5,
   "id": "f380216d",
   "metadata": {},
   "outputs": [
    {
     "name": "stdout",
     "output_type": "stream",
     "text": [
      "<class 'pandas.core.frame.DataFrame'>\n",
      "RangeIndex: 18068 entries, 0 to 18067\n",
      "Data columns (total 4 columns):\n",
      " #   Column    Non-Null Count  Dtype         \n",
      "---  ------    --------------  -----         \n",
      " 0   user_id   18068 non-null  int64         \n",
      " 1   distance  18068 non-null  float64       \n",
      " 2   duration  18068 non-null  float64       \n",
      " 3   date      18068 non-null  datetime64[ns]\n",
      "dtypes: datetime64[ns](1), float64(2), int64(1)\n",
      "memory usage: 564.8 KB\n"
     ]
    }
   ],
   "source": [
    "data_rides.info()"
   ]
  },
  {
   "cell_type": "code",
   "execution_count": 6,
   "id": "be7c24fd",
   "metadata": {},
   "outputs": [
    {
     "data": {
      "text/html": [
       "<div>\n",
       "<style scoped>\n",
       "    .dataframe tbody tr th:only-of-type {\n",
       "        vertical-align: middle;\n",
       "    }\n",
       "\n",
       "    .dataframe tbody tr th {\n",
       "        vertical-align: top;\n",
       "    }\n",
       "\n",
       "    .dataframe thead th {\n",
       "        text-align: right;\n",
       "    }\n",
       "</style>\n",
       "<table border=\"1\" class=\"dataframe\">\n",
       "  <thead>\n",
       "    <tr style=\"text-align: right;\">\n",
       "      <th></th>\n",
       "      <th>user_id</th>\n",
       "      <th>distance</th>\n",
       "      <th>duration</th>\n",
       "      <th>date</th>\n",
       "    </tr>\n",
       "  </thead>\n",
       "  <tbody>\n",
       "    <tr>\n",
       "      <th>0</th>\n",
       "      <td>1</td>\n",
       "      <td>4409.919140</td>\n",
       "      <td>25.599769</td>\n",
       "      <td>2021-01-01</td>\n",
       "    </tr>\n",
       "    <tr>\n",
       "      <th>1</th>\n",
       "      <td>1</td>\n",
       "      <td>2617.592153</td>\n",
       "      <td>15.816871</td>\n",
       "      <td>2021-01-18</td>\n",
       "    </tr>\n",
       "    <tr>\n",
       "      <th>2</th>\n",
       "      <td>1</td>\n",
       "      <td>754.159807</td>\n",
       "      <td>6.232113</td>\n",
       "      <td>2021-04-20</td>\n",
       "    </tr>\n",
       "    <tr>\n",
       "      <th>3</th>\n",
       "      <td>1</td>\n",
       "      <td>2694.783254</td>\n",
       "      <td>18.511000</td>\n",
       "      <td>2021-08-11</td>\n",
       "    </tr>\n",
       "    <tr>\n",
       "      <th>4</th>\n",
       "      <td>1</td>\n",
       "      <td>4028.687306</td>\n",
       "      <td>26.265803</td>\n",
       "      <td>2021-08-28</td>\n",
       "    </tr>\n",
       "    <tr>\n",
       "      <th>5</th>\n",
       "      <td>1</td>\n",
       "      <td>2770.890808</td>\n",
       "      <td>16.650138</td>\n",
       "      <td>2021-10-09</td>\n",
       "    </tr>\n",
       "    <tr>\n",
       "      <th>6</th>\n",
       "      <td>1</td>\n",
       "      <td>3039.020292</td>\n",
       "      <td>14.927879</td>\n",
       "      <td>2021-10-19</td>\n",
       "    </tr>\n",
       "    <tr>\n",
       "      <th>7</th>\n",
       "      <td>1</td>\n",
       "      <td>2842.118050</td>\n",
       "      <td>23.117468</td>\n",
       "      <td>2021-11-06</td>\n",
       "    </tr>\n",
       "    <tr>\n",
       "      <th>8</th>\n",
       "      <td>1</td>\n",
       "      <td>3412.690668</td>\n",
       "      <td>15.238072</td>\n",
       "      <td>2021-11-14</td>\n",
       "    </tr>\n",
       "    <tr>\n",
       "      <th>9</th>\n",
       "      <td>1</td>\n",
       "      <td>748.690645</td>\n",
       "      <td>15.041884</td>\n",
       "      <td>2021-11-22</td>\n",
       "    </tr>\n",
       "  </tbody>\n",
       "</table>\n",
       "</div>"
      ],
      "text/plain": [
       "   user_id     distance   duration       date\n",
       "0        1  4409.919140  25.599769 2021-01-01\n",
       "1        1  2617.592153  15.816871 2021-01-18\n",
       "2        1   754.159807   6.232113 2021-04-20\n",
       "3        1  2694.783254  18.511000 2021-08-11\n",
       "4        1  4028.687306  26.265803 2021-08-28\n",
       "5        1  2770.890808  16.650138 2021-10-09\n",
       "6        1  3039.020292  14.927879 2021-10-19\n",
       "7        1  2842.118050  23.117468 2021-11-06\n",
       "8        1  3412.690668  15.238072 2021-11-14\n",
       "9        1   748.690645  15.041884 2021-11-22"
      ]
     },
     "execution_count": 6,
     "metadata": {},
     "output_type": "execute_result"
    }
   ],
   "source": [
    "data_rides.head(10)"
   ]
  },
  {
   "cell_type": "code",
   "execution_count": 7,
   "id": "2e20d7b7",
   "metadata": {},
   "outputs": [
    {
     "name": "stdout",
     "output_type": "stream",
     "text": [
      "<class 'pandas.core.frame.DataFrame'>\n",
      "RangeIndex: 2 entries, 0 to 1\n",
      "Data columns (total 4 columns):\n",
      " #   Column             Non-Null Count  Dtype \n",
      "---  ------             --------------  ----- \n",
      " 0   subscription_type  2 non-null      object\n",
      " 1   minute_price       2 non-null      int64 \n",
      " 2   start_ride_price   2 non-null      int64 \n",
      " 3   subscription_fee   2 non-null      int64 \n",
      "dtypes: int64(3), object(1)\n",
      "memory usage: 192.0+ bytes\n"
     ]
    }
   ],
   "source": [
    "data_sub.info()"
   ]
  },
  {
   "cell_type": "code",
   "execution_count": 8,
   "id": "ed89bc57",
   "metadata": {
    "scrolled": true
   },
   "outputs": [
    {
     "data": {
      "text/html": [
       "<div>\n",
       "<style scoped>\n",
       "    .dataframe tbody tr th:only-of-type {\n",
       "        vertical-align: middle;\n",
       "    }\n",
       "\n",
       "    .dataframe tbody tr th {\n",
       "        vertical-align: top;\n",
       "    }\n",
       "\n",
       "    .dataframe thead th {\n",
       "        text-align: right;\n",
       "    }\n",
       "</style>\n",
       "<table border=\"1\" class=\"dataframe\">\n",
       "  <thead>\n",
       "    <tr style=\"text-align: right;\">\n",
       "      <th></th>\n",
       "      <th>subscription_type</th>\n",
       "      <th>minute_price</th>\n",
       "      <th>start_ride_price</th>\n",
       "      <th>subscription_fee</th>\n",
       "    </tr>\n",
       "  </thead>\n",
       "  <tbody>\n",
       "    <tr>\n",
       "      <th>0</th>\n",
       "      <td>free</td>\n",
       "      <td>8</td>\n",
       "      <td>50</td>\n",
       "      <td>0</td>\n",
       "    </tr>\n",
       "    <tr>\n",
       "      <th>1</th>\n",
       "      <td>ultra</td>\n",
       "      <td>6</td>\n",
       "      <td>0</td>\n",
       "      <td>199</td>\n",
       "    </tr>\n",
       "  </tbody>\n",
       "</table>\n",
       "</div>"
      ],
      "text/plain": [
       "  subscription_type  minute_price  start_ride_price  subscription_fee\n",
       "0              free             8                50                 0\n",
       "1             ultra             6                 0               199"
      ]
     },
     "execution_count": 8,
     "metadata": {},
     "output_type": "execute_result"
    }
   ],
   "source": [
    "data_sub.head()"
   ]
  },
  {
   "cell_type": "markdown",
   "id": "519f9a11",
   "metadata": {},
   "source": [
    "После первого рассмотрения данных стоит выделить основные моменты:\n",
    "\n",
    "В датафрейме с информацией о пользователях 1565 строк, то есть дана информация о 1565 пользователях, однако, необходимо проверить датафрейм на дубликаты. В этом датафрейме для данных указаны подходящие типы данных, дополнительных действий с ним не требуется.\n",
    "\n",
    "В датафрейме с информацией о поездках 18068 строк. Эти данные также требуется проверить на наличие дубликатов. Изначально столбец, содержащий дату поездки был представлен в формат object, однако на этапе загрузки данных мы перевели его в корректный формат даты. Также информация о длительности поездки и расстоянии даны с точностью 6 знаков после запятой, такая точность в целом излишне, но пока оставим данные в исходном виде и округлим их в случае необходимости.\n",
    "\n",
    "Датафрейм с информацией о подписках содержит всего 2 строки. Одна строка с информацией о цене старта, цене за минуту и плате за подписку для владельцев подписки, а вторая - с аналогичной информацией для пользователей без подписки."
   ]
  },
  {
   "cell_type": "markdown",
   "id": "e95ebca7",
   "metadata": {},
   "source": [
    "## Шаг 2. Предобработка данных\n",
    "<a id='preproc'></a>"
   ]
  },
  {
   "cell_type": "markdown",
   "id": "d316bd5e",
   "metadata": {},
   "source": [
    "### 2.1 Преобразование столбцов к подоходящему типу данных."
   ]
  },
  {
   "cell_type": "markdown",
   "id": "7c0eb674",
   "metadata": {},
   "source": [
    "В результате первичной оценки данных, установлено, что единственный столбец, требующий преобразования типа данных - это столбец `date` датафрейма `data_rides`. Однако мы преобразовали его на этапе загрузки данных."
   ]
  },
  {
   "cell_type": "markdown",
   "id": "c08ba0a2",
   "metadata": {},
   "source": [
    "### 2.2 Добавление новых столбцов."
   ]
  },
  {
   "cell_type": "markdown",
   "id": "985607d7",
   "metadata": {},
   "source": [
    "Добавим в датафрейм `data_rides` столбец `ride_month`, содержащий информацию о порядковом номере месяца, в котором была совершена поездка."
   ]
  },
  {
   "cell_type": "code",
   "execution_count": 9,
   "id": "48dc99d9",
   "metadata": {},
   "outputs": [
    {
     "data": {
      "text/plain": [
       "0         1\n",
       "1         1\n",
       "2         4\n",
       "3         8\n",
       "4         8\n",
       "         ..\n",
       "18063    11\n",
       "18064    11\n",
       "18065    11\n",
       "18066    11\n",
       "18067    12\n",
       "Name: ride_month, Length: 18068, dtype: int64"
      ]
     },
     "execution_count": 9,
     "metadata": {},
     "output_type": "execute_result"
    }
   ],
   "source": [
    "# Создадим столбец содержащий порядковый номер месяца с помощью метода dt.month\n",
    "data_rides['ride_month'] = data_rides['date'].dt.month\n",
    "# Посмотрим результат\n",
    "data_rides['ride_month']"
   ]
  },
  {
   "cell_type": "code",
   "execution_count": 10,
   "id": "de0ee536",
   "metadata": {},
   "outputs": [
    {
     "data": {
      "text/plain": [
       "Timestamp('2021-01-01 00:00:00')"
      ]
     },
     "execution_count": 10,
     "metadata": {},
     "output_type": "execute_result"
    }
   ],
   "source": [
    "min(data_rides['date'])"
   ]
  },
  {
   "cell_type": "code",
   "execution_count": 11,
   "id": "74a8f837",
   "metadata": {
    "scrolled": true
   },
   "outputs": [
    {
     "data": {
      "text/plain": [
       "Timestamp('2021-12-30 00:00:00')"
      ]
     },
     "execution_count": 11,
     "metadata": {},
     "output_type": "execute_result"
    }
   ],
   "source": [
    "max(data_rides['date'])"
   ]
  },
  {
   "cell_type": "markdown",
   "id": "f764a525",
   "metadata": {},
   "source": [
    "В нашем распоряжении данные за 2021 год."
   ]
  },
  {
   "cell_type": "markdown",
   "id": "a04b1b30",
   "metadata": {},
   "source": [
    "<div style>\n",
    "<font size=\"4\"><b></b></font>\n",
    "<font size=\"5\", color = \"black\">\n",
    "👍"
   ]
  },
  {
   "cell_type": "markdown",
   "id": "772f06c7",
   "metadata": {},
   "source": [
    "### 2.3 Проверка на наличие пропусков."
   ]
  },
  {
   "cell_type": "code",
   "execution_count": 12,
   "id": "c6796601",
   "metadata": {},
   "outputs": [
    {
     "data": {
      "text/plain": [
       "user_id              0\n",
       "name                 0\n",
       "age                  0\n",
       "city                 0\n",
       "subscription_type    0\n",
       "dtype: int64"
      ]
     },
     "execution_count": 12,
     "metadata": {},
     "output_type": "execute_result"
    }
   ],
   "source": [
    "data_users.isna().sum()"
   ]
  },
  {
   "cell_type": "code",
   "execution_count": 13,
   "id": "dd1935d6",
   "metadata": {},
   "outputs": [
    {
     "data": {
      "text/plain": [
       "user_id       0\n",
       "distance      0\n",
       "duration      0\n",
       "date          0\n",
       "ride_month    0\n",
       "dtype: int64"
      ]
     },
     "execution_count": 13,
     "metadata": {},
     "output_type": "execute_result"
    }
   ],
   "source": [
    "data_rides.isna().sum()"
   ]
  },
  {
   "cell_type": "code",
   "execution_count": 14,
   "id": "e95ecd19",
   "metadata": {
    "scrolled": true
   },
   "outputs": [
    {
     "data": {
      "text/plain": [
       "subscription_type    0\n",
       "minute_price         0\n",
       "start_ride_price     0\n",
       "subscription_fee     0\n",
       "dtype: int64"
      ]
     },
     "execution_count": 14,
     "metadata": {},
     "output_type": "execute_result"
    }
   ],
   "source": [
    "data_sub.isna().sum()"
   ]
  },
  {
   "cell_type": "markdown",
   "id": "72b742e0",
   "metadata": {},
   "source": [
    "Во всех трёх датафреймах отсутствуют пропуски."
   ]
  },
  {
   "cell_type": "markdown",
   "id": "9961d0d2",
   "metadata": {},
   "source": [
    "### 2.4 Проверка на наличие дубликатов."
   ]
  },
  {
   "cell_type": "code",
   "execution_count": 15,
   "id": "c6804958",
   "metadata": {},
   "outputs": [
    {
     "data": {
      "text/plain": [
       "31"
      ]
     },
     "execution_count": 15,
     "metadata": {},
     "output_type": "execute_result"
    }
   ],
   "source": [
    "# Применем метод duplicated, а затем посчитаем с помощью метода sum количество дубликатов.\n",
    "data_users.duplicated().sum()"
   ]
  },
  {
   "cell_type": "code",
   "execution_count": 16,
   "id": "d8940568",
   "metadata": {},
   "outputs": [
    {
     "data": {
      "text/plain": [
       "(1565, 5)"
      ]
     },
     "execution_count": 16,
     "metadata": {},
     "output_type": "execute_result"
    }
   ],
   "source": [
    "data_users.shape"
   ]
  },
  {
   "cell_type": "markdown",
   "id": "de00d284",
   "metadata": {},
   "source": [
    "Найден 31 дубликат. Удалим их."
   ]
  },
  {
   "cell_type": "code",
   "execution_count": 17,
   "id": "e883927c",
   "metadata": {},
   "outputs": [],
   "source": [
    "# Удалим дубликаты и обновим индексы датафрейма.\n",
    "data_users = data_users.drop_duplicates().reset_index(drop=True)"
   ]
  },
  {
   "cell_type": "code",
   "execution_count": 18,
   "id": "51dd3b97",
   "metadata": {},
   "outputs": [
    {
     "data": {
      "text/plain": [
       "(1534, 5)"
      ]
     },
     "execution_count": 18,
     "metadata": {},
     "output_type": "execute_result"
    }
   ],
   "source": [
    "data_users.shape"
   ]
  },
  {
   "cell_type": "code",
   "execution_count": 19,
   "id": "feb2a95d",
   "metadata": {},
   "outputs": [
    {
     "data": {
      "text/plain": [
       "0"
      ]
     },
     "execution_count": 19,
     "metadata": {},
     "output_type": "execute_result"
    }
   ],
   "source": [
    "data_rides.duplicated().sum()"
   ]
  },
  {
   "cell_type": "markdown",
   "id": "dcbc9dab",
   "metadata": {},
   "source": [
    "Проверять датафрейм `data_sub` на наличие дубликатов не имеет смысла."
   ]
  },
  {
   "cell_type": "markdown",
   "id": "9714a459",
   "metadata": {},
   "source": [
    "На этапе предобработки данных проведены следующие действия:\n",
    "\n",
    "* Столбец `date` датафрейма `data_rides` переведен в формат `datetime`\n",
    "* В датафрейм `data_rides` добавлен столбец `ride_month`, содержащий информацию о порядковом номере месяца, в котором была совершена поездка\n",
    "* Проведена проверка на наличие пропусков. Пропускм отсутствуют.\n",
    "* Проведена проверка на наличие дубликатов. Обнаружены и удалены 31 дубликат в столбце `data_users`"
   ]
  },
  {
   "cell_type": "markdown",
   "id": "212593c7",
   "metadata": {},
   "source": [
    "## Шаг 3. Исследовательский анализ данных\n",
    "<a id='data_analysis'></a>"
   ]
  },
  {
   "cell_type": "markdown",
   "id": "24ec5b74",
   "metadata": {},
   "source": [
    "### 3.1 Частота встречаемости городов."
   ]
  },
  {
   "cell_type": "code",
   "execution_count": 20,
   "id": "710d8caa",
   "metadata": {},
   "outputs": [
    {
     "data": {
      "text/plain": [
       "city\n",
       "Пятигорск         219\n",
       "Екатеринбург      204\n",
       "Ростов-на-Дону    198\n",
       "Краснодар         193\n",
       "Сочи              189\n",
       "Омск              183\n",
       "Тюмень            180\n",
       "Москва            168\n",
       "dtype: int64"
      ]
     },
     "execution_count": 20,
     "metadata": {},
     "output_type": "execute_result"
    }
   ],
   "source": [
    "data_users.value_counts('city')"
   ]
  },
  {
   "cell_type": "code",
   "execution_count": 21,
   "id": "0dc423f3",
   "metadata": {},
   "outputs": [
    {
     "data": {
      "text/plain": [
       "count      8.000000\n",
       "mean     191.750000\n",
       "std       15.672998\n",
       "min      168.000000\n",
       "25%      182.250000\n",
       "50%      191.000000\n",
       "75%      199.500000\n",
       "max      219.000000\n",
       "dtype: float64"
      ]
     },
     "execution_count": 21,
     "metadata": {},
     "output_type": "execute_result"
    }
   ],
   "source": [
    "data_users.value_counts('city').describe()"
   ]
  },
  {
   "cell_type": "code",
   "execution_count": 22,
   "id": "f4728fee",
   "metadata": {
    "scrolled": true
   },
   "outputs": [
    {
     "data": {
      "image/png": "[encoded data removed]",
      "text/plain": [
       "<Figure size 720x288 with 1 Axes>"
      ]
     },
     "metadata": {
      "needs_background": "light"
     },
     "output_type": "display_data"
    }
   ],
   "source": [
    "data_users.value_counts('city').plot.bar(rot=30,title='Распределение пользователей по городам',\\\n",
    "grid=True, figsize=(10,4), fontsize=12)\\\n",
    ".set_xlabel('Название города', fontsize=16);"
   ]
  },
  {
   "cell_type": "code",
   "execution_count": 23,
   "id": "60ab6de5",
   "metadata": {},
   "outputs": [
    {
     "data": {
      "text/plain": [
       "city\n",
       "Пятигорск         14.28\n",
       "Екатеринбург      13.30\n",
       "Ростов-на-Дону    12.91\n",
       "Краснодар         12.58\n",
       "Сочи              12.32\n",
       "Омск              11.93\n",
       "Тюмень            11.73\n",
       "Москва            10.95\n",
       "dtype: float64"
      ]
     },
     "execution_count": 23,
     "metadata": {},
     "output_type": "execute_result"
    }
   ],
   "source": [
    "(data_users.value_counts('city')/data_users.value_counts('city').sum()*100).round(2)"
   ]
  },
  {
   "cell_type": "markdown",
   "id": "bd9f83d7",
   "metadata": {},
   "source": [
    "Как мы видим по таблице частот, общему описанию, а также столбчатой диаграмме в датафрейме представлены пользователи из 8 городов. Больше всего пользователей в Пятигорске - **219**, а меньше всего в Москве - **168**. Если рассматривать в процентах, то разница между самым популярным и самым непопулярным городом составляет чуть менее **2.5%**. Это не слишком много, но учитывая, что самый непопулярный город - это Москва, то стоит обратить внимание на потенциал развития в данном мегаполисе."
   ]
  },
  {
   "cell_type": "markdown",
   "id": "bcd74088",
   "metadata": {},
   "source": [
    "### 3.2 Соотношение пользователей с подпиской и без подписки"
   ]
  },
  {
   "cell_type": "code",
   "execution_count": 24,
   "id": "f46f053a",
   "metadata": {},
   "outputs": [
    {
     "data": {
      "text/html": [
       "<div>\n",
       "<style scoped>\n",
       "    .dataframe tbody tr th:only-of-type {\n",
       "        vertical-align: middle;\n",
       "    }\n",
       "\n",
       "    .dataframe tbody tr th {\n",
       "        vertical-align: top;\n",
       "    }\n",
       "\n",
       "    .dataframe thead th {\n",
       "        text-align: right;\n",
       "    }\n",
       "</style>\n",
       "<table border=\"1\" class=\"dataframe\">\n",
       "  <thead>\n",
       "    <tr style=\"text-align: right;\">\n",
       "      <th></th>\n",
       "      <th>user_id</th>\n",
       "    </tr>\n",
       "    <tr>\n",
       "      <th>subscription_type</th>\n",
       "      <th></th>\n",
       "    </tr>\n",
       "  </thead>\n",
       "  <tbody>\n",
       "    <tr>\n",
       "      <th>free</th>\n",
       "      <td>835</td>\n",
       "    </tr>\n",
       "    <tr>\n",
       "      <th>ultra</th>\n",
       "      <td>699</td>\n",
       "    </tr>\n",
       "  </tbody>\n",
       "</table>\n",
       "</div>"
      ],
      "text/plain": [
       "                   user_id\n",
       "subscription_type         \n",
       "free                   835\n",
       "ultra                  699"
      ]
     },
     "execution_count": 24,
     "metadata": {},
     "output_type": "execute_result"
    }
   ],
   "source": [
    "subscription_users = data_users.pivot_table(index='subscription_type', values='user_id',aggfunc='count')\n",
    "subscription_users"
   ]
  },
  {
   "cell_type": "code",
   "execution_count": 25,
   "id": "a74b1f87",
   "metadata": {},
   "outputs": [
    {
     "data": {
      "text/html": [
       "<div>\n",
       "<style scoped>\n",
       "    .dataframe tbody tr th:only-of-type {\n",
       "        vertical-align: middle;\n",
       "    }\n",
       "\n",
       "    .dataframe tbody tr th {\n",
       "        vertical-align: top;\n",
       "    }\n",
       "\n",
       "    .dataframe thead th {\n",
       "        text-align: right;\n",
       "    }\n",
       "</style>\n",
       "<table border=\"1\" class=\"dataframe\">\n",
       "  <thead>\n",
       "    <tr style=\"text-align: right;\">\n",
       "      <th></th>\n",
       "      <th>user_id</th>\n",
       "      <th>proportion</th>\n",
       "    </tr>\n",
       "    <tr>\n",
       "      <th>subscription_type</th>\n",
       "      <th></th>\n",
       "      <th></th>\n",
       "    </tr>\n",
       "  </thead>\n",
       "  <tbody>\n",
       "    <tr>\n",
       "      <th>free</th>\n",
       "      <td>835</td>\n",
       "      <td>0.544329</td>\n",
       "    </tr>\n",
       "    <tr>\n",
       "      <th>ultra</th>\n",
       "      <td>699</td>\n",
       "      <td>0.455671</td>\n",
       "    </tr>\n",
       "  </tbody>\n",
       "</table>\n",
       "</div>"
      ],
      "text/plain": [
       "                   user_id  proportion\n",
       "subscription_type                     \n",
       "free                   835    0.544329\n",
       "ultra                  699    0.455671"
      ]
     },
     "execution_count": 25,
     "metadata": {},
     "output_type": "execute_result"
    }
   ],
   "source": [
    "subscription_users['proportion'] = subscription_users['user_id']/len(data_users)\n",
    "subscription_users"
   ]
  },
  {
   "cell_type": "code",
   "execution_count": 26,
   "id": "73fd1403",
   "metadata": {},
   "outputs": [
    {
     "data": {
      "image/png": "[encoded data removed]",
      "text/plain": [
       "<Figure size 432x288 with 1 Axes>"
      ]
     },
     "metadata": {},
     "output_type": "display_data"
    }
   ],
   "source": [
    "subscription_users['proportion'].plot.pie(xlabel='Тип подписки', grid=True, rot=0, fontsize=14)\\\n",
    ".set_title('Доли пользователей с подпиской и без подписки', fontsize=16);"
   ]
  },
  {
   "cell_type": "markdown",
   "id": "595d3817",
   "metadata": {},
   "source": [
    "Доля пользователей приложения, не имеющих подписку, больше примерно на 9% (54,5% пользователей без подписки и 45,5% пользователей с подпиской)."
   ]
  },
  {
   "cell_type": "markdown",
   "id": "b7d94e5f",
   "metadata": {},
   "source": [
    "### 3.3 Возраст пользователей."
   ]
  },
  {
   "cell_type": "code",
   "execution_count": 27,
   "id": "8e98d988",
   "metadata": {},
   "outputs": [
    {
     "data": {
      "text/html": [
       "<div>\n",
       "<style scoped>\n",
       "    .dataframe tbody tr th:only-of-type {\n",
       "        vertical-align: middle;\n",
       "    }\n",
       "\n",
       "    .dataframe tbody tr th {\n",
       "        vertical-align: top;\n",
       "    }\n",
       "\n",
       "    .dataframe thead th {\n",
       "        text-align: right;\n",
       "    }\n",
       "</style>\n",
       "<table border=\"1\" class=\"dataframe\">\n",
       "  <thead>\n",
       "    <tr style=\"text-align: right;\">\n",
       "      <th></th>\n",
       "      <th>user_id</th>\n",
       "    </tr>\n",
       "    <tr>\n",
       "      <th>age</th>\n",
       "      <th></th>\n",
       "    </tr>\n",
       "  </thead>\n",
       "  <tbody>\n",
       "    <tr>\n",
       "      <th>12</th>\n",
       "      <td>4</td>\n",
       "    </tr>\n",
       "    <tr>\n",
       "      <th>13</th>\n",
       "      <td>8</td>\n",
       "    </tr>\n",
       "    <tr>\n",
       "      <th>14</th>\n",
       "      <td>9</td>\n",
       "    </tr>\n",
       "    <tr>\n",
       "      <th>15</th>\n",
       "      <td>13</td>\n",
       "    </tr>\n",
       "    <tr>\n",
       "      <th>16</th>\n",
       "      <td>19</td>\n",
       "    </tr>\n",
       "    <tr>\n",
       "      <th>17</th>\n",
       "      <td>26</td>\n",
       "    </tr>\n",
       "    <tr>\n",
       "      <th>18</th>\n",
       "      <td>46</td>\n",
       "    </tr>\n",
       "    <tr>\n",
       "      <th>19</th>\n",
       "      <td>47</td>\n",
       "    </tr>\n",
       "    <tr>\n",
       "      <th>20</th>\n",
       "      <td>71</td>\n",
       "    </tr>\n",
       "    <tr>\n",
       "      <th>21</th>\n",
       "      <td>93</td>\n",
       "    </tr>\n",
       "    <tr>\n",
       "      <th>22</th>\n",
       "      <td>119</td>\n",
       "    </tr>\n",
       "    <tr>\n",
       "      <th>23</th>\n",
       "      <td>129</td>\n",
       "    </tr>\n",
       "    <tr>\n",
       "      <th>24</th>\n",
       "      <td>132</td>\n",
       "    </tr>\n",
       "    <tr>\n",
       "      <th>25</th>\n",
       "      <td>145</td>\n",
       "    </tr>\n",
       "    <tr>\n",
       "      <th>26</th>\n",
       "      <td>131</td>\n",
       "    </tr>\n",
       "    <tr>\n",
       "      <th>27</th>\n",
       "      <td>119</td>\n",
       "    </tr>\n",
       "    <tr>\n",
       "      <th>28</th>\n",
       "      <td>112</td>\n",
       "    </tr>\n",
       "    <tr>\n",
       "      <th>29</th>\n",
       "      <td>68</td>\n",
       "    </tr>\n",
       "    <tr>\n",
       "      <th>30</th>\n",
       "      <td>68</td>\n",
       "    </tr>\n",
       "    <tr>\n",
       "      <th>31</th>\n",
       "      <td>48</td>\n",
       "    </tr>\n",
       "    <tr>\n",
       "      <th>32</th>\n",
       "      <td>41</td>\n",
       "    </tr>\n",
       "    <tr>\n",
       "      <th>33</th>\n",
       "      <td>39</td>\n",
       "    </tr>\n",
       "    <tr>\n",
       "      <th>34</th>\n",
       "      <td>19</td>\n",
       "    </tr>\n",
       "    <tr>\n",
       "      <th>35</th>\n",
       "      <td>15</td>\n",
       "    </tr>\n",
       "    <tr>\n",
       "      <th>36</th>\n",
       "      <td>6</td>\n",
       "    </tr>\n",
       "    <tr>\n",
       "      <th>37</th>\n",
       "      <td>2</td>\n",
       "    </tr>\n",
       "    <tr>\n",
       "      <th>38</th>\n",
       "      <td>3</td>\n",
       "    </tr>\n",
       "    <tr>\n",
       "      <th>39</th>\n",
       "      <td>1</td>\n",
       "    </tr>\n",
       "    <tr>\n",
       "      <th>43</th>\n",
       "      <td>1</td>\n",
       "    </tr>\n",
       "  </tbody>\n",
       "</table>\n",
       "</div>"
      ],
      "text/plain": [
       "     user_id\n",
       "age         \n",
       "12         4\n",
       "13         8\n",
       "14         9\n",
       "15        13\n",
       "16        19\n",
       "17        26\n",
       "18        46\n",
       "19        47\n",
       "20        71\n",
       "21        93\n",
       "22       119\n",
       "23       129\n",
       "24       132\n",
       "25       145\n",
       "26       131\n",
       "27       119\n",
       "28       112\n",
       "29        68\n",
       "30        68\n",
       "31        48\n",
       "32        41\n",
       "33        39\n",
       "34        19\n",
       "35        15\n",
       "36         6\n",
       "37         2\n",
       "38         3\n",
       "39         1\n",
       "43         1"
      ]
     },
     "execution_count": 27,
     "metadata": {},
     "output_type": "execute_result"
    }
   ],
   "source": [
    "data_users.pivot_table(index='age', values='user_id', aggfunc='count')"
   ]
  },
  {
   "cell_type": "code",
   "execution_count": 28,
   "id": "2dea12fa",
   "metadata": {
    "scrolled": true
   },
   "outputs": [
    {
     "data": {
      "image/png": "[encoded data removed]",
      "text/plain": [
       "<Figure size 720x288 with 1 Axes>"
      ]
     },
     "metadata": {
      "needs_background": "light"
     },
     "output_type": "display_data"
    }
   ],
   "source": [
    "data_users.pivot_table(index='age', values='user_id', aggfunc='count')\\\n",
    ".plot.bar(\n",
    "legend=False,\n",
    "rot=0, \n",
    "figsize=(10,4), \n",
    "xlabel='Возраст', \n",
    "ylabel='Количество пользователей',\n",
    "title='Распределение пользователей по их возрасту',\n",
    "grid=True);"
   ]
  },
  {
   "cell_type": "code",
   "execution_count": 29,
   "id": "97f8f2a7",
   "metadata": {
    "scrolled": true
   },
   "outputs": [
    {
     "data": {
      "image/png": "[encoded data removed]",
      "text/plain": [
       "<Figure size 432x288 with 1 Axes>"
      ]
     },
     "metadata": {
      "needs_background": "light"
     },
     "output_type": "display_data"
    }
   ],
   "source": [
    "data_users.boxplot('age');"
   ]
  },
  {
   "cell_type": "code",
   "execution_count": 30,
   "id": "660c28e8",
   "metadata": {},
   "outputs": [
    {
     "data": {
      "text/plain": [
       "0.25    22.0\n",
       "0.75    28.0\n",
       "Name: age, dtype: float64"
      ]
     },
     "execution_count": 30,
     "metadata": {},
     "output_type": "execute_result"
    }
   ],
   "source": [
    "data_users['age'].quantile([0.25,0.75])"
   ]
  },
  {
   "cell_type": "code",
   "execution_count": 31,
   "id": "762a37d0",
   "metadata": {},
   "outputs": [
    {
     "data": {
      "text/plain": [
       "13.0"
      ]
     },
     "execution_count": 31,
     "metadata": {},
     "output_type": "execute_result"
    }
   ],
   "source": [
    "22 - (28 - 22) * 1.5"
   ]
  },
  {
   "cell_type": "code",
   "execution_count": 32,
   "id": "6eabda82",
   "metadata": {
    "scrolled": true
   },
   "outputs": [
    {
     "data": {
      "text/plain": [
       "37.0"
      ]
     },
     "execution_count": 32,
     "metadata": {},
     "output_type": "execute_result"
    }
   ],
   "source": [
    "28 + (28 - 22) * 1.5"
   ]
  },
  {
   "cell_type": "markdown",
   "id": "5d86389f",
   "metadata": {},
   "source": [
    "Возраст меньше 13 и больше 37 лет можно признать выбросами."
   ]
  },
  {
   "cell_type": "code",
   "execution_count": 33,
   "id": "8b8431a1",
   "metadata": {},
   "outputs": [
    {
     "data": {
      "text/plain": [
       "0.5867014341590613"
      ]
     },
     "execution_count": 33,
     "metadata": {},
     "output_type": "execute_result"
    }
   ],
   "source": [
    "data_users.query('age < 13 or age > 37')['age'].count()/data_users['age'].count()*100"
   ]
  },
  {
   "cell_type": "markdown",
   "id": "e731712e",
   "metadata": {},
   "source": [
    "выбросы составляют менее 1% от общего объема данных по возрасту."
   ]
  },
  {
   "cell_type": "markdown",
   "id": "61214d9d",
   "metadata": {},
   "source": [
    "Можно наблюдать, что график распределения пользователей приложения по возрасту соответствует графику нормального распределения с центром распределения в районе 25 лет. Пользователи приложения расположены в диапазоне от 12 до 43 лет. Также можно заметить, что данный график имеет больше аномальных значений справа - то есть для более возрастных пользователей. Вероятно, это объясняется тем, что сервис недоступен для детей младше 12 лет."
   ]
  },
  {
   "cell_type": "code",
   "execution_count": 34,
   "id": "d220e728",
   "metadata": {},
   "outputs": [
    {
     "data": {
      "image/png": "[encoded data removed]",
      "text/plain": [
       "<Figure size 1080x216 with 1 Axes>"
      ]
     },
     "metadata": {
      "needs_background": "light"
     },
     "output_type": "display_data"
    }
   ],
   "source": [
    "data_users.age.hist(bins=100, figsize=(15,3));"
   ]
  },
  {
   "cell_type": "code",
   "execution_count": 35,
   "id": "ff7101ff",
   "metadata": {},
   "outputs": [
    {
     "name": "stdout",
     "output_type": "stream",
     "text": [
      "<class 'pandas.core.frame.DataFrame'>\n",
      "RangeIndex: 18068 entries, 0 to 18067\n",
      "Data columns (total 5 columns):\n",
      " #   Column      Non-Null Count  Dtype         \n",
      "---  ------      --------------  -----         \n",
      " 0   user_id     18068 non-null  int64         \n",
      " 1   distance    18068 non-null  float64       \n",
      " 2   duration    18068 non-null  float64       \n",
      " 3   date        18068 non-null  datetime64[ns]\n",
      " 4   ride_month  18068 non-null  int64         \n",
      "dtypes: datetime64[ns](1), float64(2), int64(2)\n",
      "memory usage: 705.9 KB\n"
     ]
    }
   ],
   "source": [
    "data_rides.info()"
   ]
  },
  {
   "cell_type": "markdown",
   "id": "1d8488d2",
   "metadata": {},
   "source": [
    "### 3.4 Расстояние, которое пользователь преодолел за одну поездку"
   ]
  },
  {
   "cell_type": "code",
   "execution_count": 36,
   "id": "ce428244",
   "metadata": {},
   "outputs": [
    {
     "data": {
      "image/png": "[encoded data removed]",
      "text/plain": [
       "<Figure size 1080x288 with 1 Axes>"
      ]
     },
     "metadata": {
      "needs_background": "light"
     },
     "output_type": "display_data"
    }
   ],
   "source": [
    "data_rides['distance'].plot.hist(\n",
    "bins=300,\n",
    "figsize=(15,4),\n",
    "grid=True,\n",
    "title='Гистограмма дистанций поездок пользователей',\n",
    "legend=False)\\\n",
    ".set_xlabel('Расстояние', fontsize=14);"
   ]
  },
  {
   "cell_type": "markdown",
   "id": "3d9b8efb",
   "metadata": {},
   "source": [
    "По гистограмме мы видим, что основное количество поездое имелю длину в районе 3000 метров. Однако присутствуют выбросы, значительно отличающиеся, как в большую, так и в меньшую сторону. Так как задачи отбросить выбросы не стоит, то оставим эти значения. На графике заметны два пика: большой в районе 3100 метров и малый в районе 700 метров. Можно предположить, что пик в районе 3100 метров вызван тем, что это расстояние, для преодоления которого люди с наибольшей вероятностью воспользуются арендой самоката, так как меньшее расстояние можно пройти пешком, а чтобы преодолеть большее расстояние, целесообразнее уже заказать такси/поехать на общественном транспорте.\n",
    "\n",
    "Пик в районе 700 метров - это скорее всего первые пробные поездки."
   ]
  },
  {
   "cell_type": "code",
   "execution_count": 37,
   "id": "d59730d6",
   "metadata": {},
   "outputs": [
    {
     "data": {
      "text/plain": [
       "3071.0"
      ]
     },
     "execution_count": 37,
     "metadata": {},
     "output_type": "execute_result"
    }
   ],
   "source": [
    "data_rides['distance'].mean().round(0)"
   ]
  },
  {
   "cell_type": "markdown",
   "id": "5edb6cb6",
   "metadata": {},
   "source": [
    "Среднее расстояние поездок равно **3071 метр**."
   ]
  },
  {
   "cell_type": "markdown",
   "id": "fd84c86c",
   "metadata": {},
   "source": [
    "Посмотрим на выбросные значения."
   ]
  },
  {
   "cell_type": "code",
   "execution_count": 38,
   "id": "d24a85c2",
   "metadata": {},
   "outputs": [
    {
     "data": {
      "image/png": "[encoded data removed]",
      "text/plain": [
       "<Figure size 432x288 with 1 Axes>"
      ]
     },
     "metadata": {
      "needs_background": "light"
     },
     "output_type": "display_data"
    }
   ],
   "source": [
    "data_rides.boxplot('distance');"
   ]
  },
  {
   "cell_type": "code",
   "execution_count": 39,
   "id": "2ea1d543",
   "metadata": {
    "scrolled": true
   },
   "outputs": [
    {
     "data": {
      "text/plain": [
       "0.25    2543.0\n",
       "0.75    3776.0\n",
       "Name: distance, dtype: float64"
      ]
     },
     "execution_count": 39,
     "metadata": {},
     "output_type": "execute_result"
    }
   ],
   "source": [
    "data_rides['distance'].quantile([0.25, 0.75]).round(0)"
   ]
  },
  {
   "cell_type": "code",
   "execution_count": 40,
   "id": "993101ef",
   "metadata": {},
   "outputs": [
    {
     "data": {
      "text/plain": [
       "693.5"
      ]
     },
     "execution_count": 40,
     "metadata": {},
     "output_type": "execute_result"
    }
   ],
   "source": [
    "2543 - (3776 - 2543) * 1.5"
   ]
  },
  {
   "cell_type": "code",
   "execution_count": 41,
   "id": "9576bd5a",
   "metadata": {},
   "outputs": [
    {
     "data": {
      "text/plain": [
       "5625.5"
      ]
     },
     "execution_count": 41,
     "metadata": {},
     "output_type": "execute_result"
    }
   ],
   "source": [
    "3776 + (3776 - 2543) * 1.5"
   ]
  },
  {
   "cell_type": "code",
   "execution_count": 42,
   "id": "169c6ec0",
   "metadata": {},
   "outputs": [
    {
     "data": {
      "text/plain": [
       "0.05733894177551472"
      ]
     },
     "execution_count": 42,
     "metadata": {},
     "output_type": "execute_result"
    }
   ],
   "source": [
    "data_rides.query('distance < 693.5 or distance > 5625.5')['distance'].count()/data_rides['distance'].count()"
   ]
  },
  {
   "cell_type": "markdown",
   "id": "a0b47974",
   "metadata": {},
   "source": [
    "Слишком большой процент потерь. Попробуем отсечь 1% выбросов иным способом."
   ]
  },
  {
   "cell_type": "code",
   "execution_count": 43,
   "id": "cc4e6e8c",
   "metadata": {
    "scrolled": true
   },
   "outputs": [
    {
     "data": {
      "text/plain": [
       "0.005     110.0\n",
       "0.995    5749.0\n",
       "Name: distance, dtype: float64"
      ]
     },
     "execution_count": 43,
     "metadata": {},
     "output_type": "execute_result"
    }
   ],
   "source": [
    "data_rides['distance'].quantile([0.005, 0.995]).round()"
   ]
  },
  {
   "cell_type": "code",
   "execution_count": 44,
   "id": "22d1bd76",
   "metadata": {
    "scrolled": true
   },
   "outputs": [
    {
     "data": {
      "text/plain": [
       "0.01012840380783706"
      ]
     },
     "execution_count": 44,
     "metadata": {},
     "output_type": "execute_result"
    }
   ],
   "source": [
    "data_rides.query('distance < 110.3 or distance > 5749.3')['distance'].count()/data_rides['distance'].count()"
   ]
  },
  {
   "cell_type": "markdown",
   "id": "57b4de75",
   "metadata": {},
   "source": [
    "Поездки длительностью меньше 110 и более 5749 метров можно признать выбросами. Гистограмма также подтверждает, что поездок длиннее ~ 5750 практически нет, поездок короче 110 метров также очень мало."
   ]
  },
  {
   "cell_type": "markdown",
   "id": "1bd5b0d0",
   "metadata": {},
   "source": [
    "### 3.5 Продолжительность поездок."
   ]
  },
  {
   "cell_type": "code",
   "execution_count": 45,
   "id": "5d6f2e29",
   "metadata": {
    "scrolled": true
   },
   "outputs": [
    {
     "data": {
      "image/png": "[encoded data removed]",
      "text/plain": [
       "<Figure size 864x288 with 1 Axes>"
      ]
     },
     "metadata": {
      "needs_background": "light"
     },
     "output_type": "display_data"
    }
   ],
   "source": [
    "data_rides['duration'].plot.hist(\n",
    "bins=20, \n",
    "figsize=(12,4),\n",
    "title='Среднее время поездки пользователей',\n",
    "grid=True)\\\n",
    ".set_xlabel('Длительность средней поездки пользователей', fontsize=14);"
   ]
  },
  {
   "cell_type": "code",
   "execution_count": 46,
   "id": "bfe0c9eb",
   "metadata": {},
   "outputs": [
    {
     "data": {
      "text/plain": [
       "17.8"
      ]
     },
     "execution_count": 46,
     "metadata": {},
     "output_type": "execute_result"
    }
   ],
   "source": [
    "data_rides['duration'].mean().round(1)"
   ]
  },
  {
   "cell_type": "code",
   "execution_count": 47,
   "id": "fa003faf",
   "metadata": {
    "scrolled": true
   },
   "outputs": [
    {
     "data": {
      "image/png": "[encoded data removed]",
      "text/plain": [
       "<Figure size 432x288 with 1 Axes>"
      ]
     },
     "metadata": {
      "needs_background": "light"
     },
     "output_type": "display_data"
    }
   ],
   "source": [
    "data_rides.boxplot('duration');"
   ]
  },
  {
   "cell_type": "markdown",
   "id": "2d511b0c",
   "metadata": {},
   "source": [
    "Бросается в глаза, что большинство выбросов присутствует \"сверху\"."
   ]
  },
  {
   "cell_type": "code",
   "execution_count": 48,
   "id": "1ba66e7e",
   "metadata": {
    "scrolled": true
   },
   "outputs": [
    {
     "data": {
      "text/plain": [
       "0.25    13.6\n",
       "0.75    21.7\n",
       "Name: duration, dtype: float64"
      ]
     },
     "execution_count": 48,
     "metadata": {},
     "output_type": "execute_result"
    }
   ],
   "source": [
    "data_rides['duration'].quantile([0.25, 0.75]).round(1)"
   ]
  },
  {
   "cell_type": "code",
   "execution_count": 49,
   "id": "e6469ea2",
   "metadata": {},
   "outputs": [
    {
     "data": {
      "text/plain": [
       "1.450000000000001"
      ]
     },
     "execution_count": 49,
     "metadata": {},
     "output_type": "execute_result"
    }
   ],
   "source": [
    "13.6 - (21.7 - 13.6) * 1.5"
   ]
  },
  {
   "cell_type": "code",
   "execution_count": 50,
   "id": "edc39b82",
   "metadata": {},
   "outputs": [
    {
     "data": {
      "text/plain": [
       "33.849999999999994"
      ]
     },
     "execution_count": 50,
     "metadata": {},
     "output_type": "execute_result"
    }
   ],
   "source": [
    "21.7 + (21.7 - 13.6) * 1.5"
   ]
  },
  {
   "cell_type": "code",
   "execution_count": 51,
   "id": "943c6bc5",
   "metadata": {
    "scrolled": true
   },
   "outputs": [
    {
     "data": {
      "text/plain": [
       "0.010183750276732344"
      ]
     },
     "execution_count": 51,
     "metadata": {},
     "output_type": "execute_result"
    }
   ],
   "source": [
    "data_rides.query('duration < 1.45 or duration > 33.8')['duration'].count()/data_rides['duration'].count()"
   ]
  },
  {
   "cell_type": "markdown",
   "id": "77280c70",
   "metadata": {},
   "source": [
    "Поездки короче полутора и длиннее ~ 34 минут можно признать выбросами."
   ]
  },
  {
   "cell_type": "markdown",
   "id": "c2096922",
   "metadata": {},
   "source": [
    "На этапе исследовательского анализа данных нами проведены следующие действия:\n",
    "\n",
    "* Проведена оценка встречаемости городов, в которых брали в аренду самокаты. Всего 8 городов. Больше всего пользователей в Пятигорске - **219**, а меньше всего в Москве - **168**. В процентах это около 2.5% разницы. Однако самый непопулярный город - Москва, имеющий огромный потенциал для развития. Стоит обратить внимание на этот город и провести рекламную акцию для москвичей, а также подумать над расширением бизнеса там.\n",
    "* Определено соотношение пользователей с подпиской и без подписки. Соотношение равно 54.4% пользователей без подписки и 46.6% пользователей с подпиской.\n",
    "* Определен возраст пользователей. Сервисом пользуются люди **от 12 до 43 лет**, также можно обратить внимание, что возраст распределяется нормально, что говорит о хорошем качестве данных. Значения меньше 13 и больше 37 лет признаны выбросами, однако оставлены для дальнейшего исследования. Пик приходится на 25 лет. Следует разрабатывать рекламные акции, а также тарифы с расчетом на целевую аудиторию в диапазоне 20 - 30 лет. Например: скидки для студентов, размещение парковок самокатов около университетов и так далее.\n",
    "* Оценено расстояние, которое пользователи преодолевают за поездку. Среднее расстояние равно **3071 метр** за поездку. Большая часть поездок имеют расстояние **от 2000 до 5000 метров**. поездки **короче 110 и длиннее 5750 метров** признаны выбросами. На графике заметны два пика: большой в районе **3100 метров** и малый в районе **700 метров**. Можно предположить, что пик в районе 3100 метров вызван тем, что это расстояние, для преодоления которого люди с наибольшей вероятностью воспользуются арендой самоката, так как меньшее расстояние можно пройти пешком, а чтобы преодолеть большее расстояние, целесообразнее уже заказать такси/поехать на общественном транспорте. Исходя из этого предположения стоит рассмтотреть возможность размещения самокатов там, где люди с большей вероятностью возьмут самокат не с целью добраться до какой-либо точки, а чтобы просто покататься, например у входов в парки. Пик в районе 700 метров - это скорее всего первые пробные поездки. В таком случае требуется сделать эти пробные метры наиболее привлекательными, например первые 1000 метров будут стоить дешевле или вообще бесплатными.\n",
    "* Оценена продолжительность поездок. Средняя продолжительность поездки составила около **18 минут**. Длительность поездок не превышает **40 минут**. Определено, что поездки **короче 1.5 и длиннее 34 минут** являются выбросами. Стоит рассмотреть возможность ограничения скорости самокатов в пешеходных зонах, парках и например в радиусе 300 метров от школ, детских садов, с одной стороны это повысит безопасность, а с другой увеличит время, за которое человек сможет преодолеть необходимое емк расстояние, что повысит выручку."
   ]
  },
  {
   "cell_type": "markdown",
   "id": "4ef51331",
   "metadata": {},
   "source": [
    "## Шаг 4. Объединение данных\n",
    "<a id='join'></a>"
   ]
  },
  {
   "cell_type": "markdown",
   "id": "1b323b3c",
   "metadata": {},
   "source": [
    "### 4.1 Создание единого датафрейма."
   ]
  },
  {
   "cell_type": "code",
   "execution_count": 52,
   "id": "4ca31981",
   "metadata": {
    "scrolled": true
   },
   "outputs": [
    {
     "data": {
      "text/plain": [
       "(1534, 5)"
      ]
     },
     "execution_count": 52,
     "metadata": {},
     "output_type": "execute_result"
    }
   ],
   "source": [
    "data_users.shape"
   ]
  },
  {
   "cell_type": "code",
   "execution_count": 53,
   "id": "6f0da046",
   "metadata": {},
   "outputs": [
    {
     "data": {
      "text/plain": [
       "(18068, 5)"
      ]
     },
     "execution_count": 53,
     "metadata": {},
     "output_type": "execute_result"
    }
   ],
   "source": [
    "data_rides.shape"
   ]
  },
  {
   "cell_type": "code",
   "execution_count": 54,
   "id": "6bf288b5",
   "metadata": {
    "scrolled": false
   },
   "outputs": [
    {
     "name": "stdout",
     "output_type": "stream",
     "text": [
      "<class 'pandas.core.frame.DataFrame'>\n",
      "Int64Index: 18068 entries, 0 to 18067\n",
      "Data columns (total 9 columns):\n",
      " #   Column             Non-Null Count  Dtype         \n",
      "---  ------             --------------  -----         \n",
      " 0   user_id            18068 non-null  int64         \n",
      " 1   name               18068 non-null  object        \n",
      " 2   age                18068 non-null  int64         \n",
      " 3   city               18068 non-null  object        \n",
      " 4   subscription_type  18068 non-null  object        \n",
      " 5   distance           18068 non-null  float64       \n",
      " 6   duration           18068 non-null  float64       \n",
      " 7   date               18068 non-null  datetime64[ns]\n",
      " 8   ride_month         18068 non-null  int64         \n",
      "dtypes: datetime64[ns](1), float64(2), int64(3), object(3)\n",
      "memory usage: 1.4+ MB\n"
     ]
    }
   ],
   "source": [
    "data_total = data_users.merge(data_rides,on='user_id')\n",
    "data_total.info()"
   ]
  },
  {
   "cell_type": "code",
   "execution_count": 55,
   "id": "779a4430",
   "metadata": {},
   "outputs": [
    {
     "data": {
      "text/plain": [
       "(18068, 9)"
      ]
     },
     "execution_count": 55,
     "metadata": {},
     "output_type": "execute_result"
    }
   ],
   "source": [
    "data_total.shape"
   ]
  },
  {
   "cell_type": "markdown",
   "id": "b70153a0",
   "metadata": {},
   "source": [
    "Сравнение количества строк до и после объединения показывает, что объединение датафреймов прошло успешно, строки не потеряны.\n",
    "В результате мы получили объкдиненный датафрейм, в котором хранится информация об id пользователя, его имени, возрасте, городе, наличии/отсутствии подписки, а также сведения о расстоянии и длительности его поездок, дате совершения поездок и порядковом номере месяца, когда была совершена поездка."
   ]
  },
  {
   "cell_type": "markdown",
   "id": "559bbea9",
   "metadata": {},
   "source": [
    "### 4.2 Создание датафреймой с информацией о пользователях с подпиской и без подписки."
   ]
  },
  {
   "cell_type": "code",
   "execution_count": 56,
   "id": "f01ac70b",
   "metadata": {},
   "outputs": [
    {
     "data": {
      "text/html": [
       "<div>\n",
       "<style scoped>\n",
       "    .dataframe tbody tr th:only-of-type {\n",
       "        vertical-align: middle;\n",
       "    }\n",
       "\n",
       "    .dataframe tbody tr th {\n",
       "        vertical-align: top;\n",
       "    }\n",
       "\n",
       "    .dataframe thead th {\n",
       "        text-align: right;\n",
       "    }\n",
       "</style>\n",
       "<table border=\"1\" class=\"dataframe\">\n",
       "  <thead>\n",
       "    <tr style=\"text-align: right;\">\n",
       "      <th></th>\n",
       "      <th>user_id</th>\n",
       "      <th>name</th>\n",
       "      <th>age</th>\n",
       "      <th>city</th>\n",
       "      <th>subscription_type</th>\n",
       "      <th>distance</th>\n",
       "      <th>duration</th>\n",
       "      <th>date</th>\n",
       "      <th>ride_month</th>\n",
       "    </tr>\n",
       "  </thead>\n",
       "  <tbody>\n",
       "    <tr>\n",
       "      <th>0</th>\n",
       "      <td>1</td>\n",
       "      <td>Кира</td>\n",
       "      <td>22</td>\n",
       "      <td>Тюмень</td>\n",
       "      <td>ultra</td>\n",
       "      <td>4409.919140</td>\n",
       "      <td>25.599769</td>\n",
       "      <td>2021-01-01</td>\n",
       "      <td>1</td>\n",
       "    </tr>\n",
       "    <tr>\n",
       "      <th>1</th>\n",
       "      <td>1</td>\n",
       "      <td>Кира</td>\n",
       "      <td>22</td>\n",
       "      <td>Тюмень</td>\n",
       "      <td>ultra</td>\n",
       "      <td>2617.592153</td>\n",
       "      <td>15.816871</td>\n",
       "      <td>2021-01-18</td>\n",
       "      <td>1</td>\n",
       "    </tr>\n",
       "    <tr>\n",
       "      <th>2</th>\n",
       "      <td>1</td>\n",
       "      <td>Кира</td>\n",
       "      <td>22</td>\n",
       "      <td>Тюмень</td>\n",
       "      <td>ultra</td>\n",
       "      <td>754.159807</td>\n",
       "      <td>6.232113</td>\n",
       "      <td>2021-04-20</td>\n",
       "      <td>4</td>\n",
       "    </tr>\n",
       "    <tr>\n",
       "      <th>3</th>\n",
       "      <td>1</td>\n",
       "      <td>Кира</td>\n",
       "      <td>22</td>\n",
       "      <td>Тюмень</td>\n",
       "      <td>ultra</td>\n",
       "      <td>2694.783254</td>\n",
       "      <td>18.511000</td>\n",
       "      <td>2021-08-11</td>\n",
       "      <td>8</td>\n",
       "    </tr>\n",
       "    <tr>\n",
       "      <th>4</th>\n",
       "      <td>1</td>\n",
       "      <td>Кира</td>\n",
       "      <td>22</td>\n",
       "      <td>Тюмень</td>\n",
       "      <td>ultra</td>\n",
       "      <td>4028.687306</td>\n",
       "      <td>26.265803</td>\n",
       "      <td>2021-08-28</td>\n",
       "      <td>8</td>\n",
       "    </tr>\n",
       "    <tr>\n",
       "      <th>...</th>\n",
       "      <td>...</td>\n",
       "      <td>...</td>\n",
       "      <td>...</td>\n",
       "      <td>...</td>\n",
       "      <td>...</td>\n",
       "      <td>...</td>\n",
       "      <td>...</td>\n",
       "      <td>...</td>\n",
       "      <td>...</td>\n",
       "    </tr>\n",
       "    <tr>\n",
       "      <th>6495</th>\n",
       "      <td>699</td>\n",
       "      <td>Оксана</td>\n",
       "      <td>22</td>\n",
       "      <td>Москва</td>\n",
       "      <td>ultra</td>\n",
       "      <td>3973.046497</td>\n",
       "      <td>24.671163</td>\n",
       "      <td>2021-08-29</td>\n",
       "      <td>8</td>\n",
       "    </tr>\n",
       "    <tr>\n",
       "      <th>6496</th>\n",
       "      <td>699</td>\n",
       "      <td>Оксана</td>\n",
       "      <td>22</td>\n",
       "      <td>Москва</td>\n",
       "      <td>ultra</td>\n",
       "      <td>3288.702563</td>\n",
       "      <td>15.892886</td>\n",
       "      <td>2021-09-12</td>\n",
       "      <td>9</td>\n",
       "    </tr>\n",
       "    <tr>\n",
       "      <th>6497</th>\n",
       "      <td>699</td>\n",
       "      <td>Оксана</td>\n",
       "      <td>22</td>\n",
       "      <td>Москва</td>\n",
       "      <td>ultra</td>\n",
       "      <td>3076.159348</td>\n",
       "      <td>14.389525</td>\n",
       "      <td>2021-09-26</td>\n",
       "      <td>9</td>\n",
       "    </tr>\n",
       "    <tr>\n",
       "      <th>6498</th>\n",
       "      <td>699</td>\n",
       "      <td>Оксана</td>\n",
       "      <td>22</td>\n",
       "      <td>Москва</td>\n",
       "      <td>ultra</td>\n",
       "      <td>4707.845501</td>\n",
       "      <td>15.839579</td>\n",
       "      <td>2021-10-17</td>\n",
       "      <td>10</td>\n",
       "    </tr>\n",
       "    <tr>\n",
       "      <th>6499</th>\n",
       "      <td>699</td>\n",
       "      <td>Оксана</td>\n",
       "      <td>22</td>\n",
       "      <td>Москва</td>\n",
       "      <td>ultra</td>\n",
       "      <td>3202.890770</td>\n",
       "      <td>25.217345</td>\n",
       "      <td>2021-12-03</td>\n",
       "      <td>12</td>\n",
       "    </tr>\n",
       "  </tbody>\n",
       "</table>\n",
       "<p>6500 rows × 9 columns</p>\n",
       "</div>"
      ],
      "text/plain": [
       "      user_id    name  age    city subscription_type     distance   duration  \\\n",
       "0           1    Кира   22  Тюмень             ultra  4409.919140  25.599769   \n",
       "1           1    Кира   22  Тюмень             ultra  2617.592153  15.816871   \n",
       "2           1    Кира   22  Тюмень             ultra   754.159807   6.232113   \n",
       "3           1    Кира   22  Тюмень             ultra  2694.783254  18.511000   \n",
       "4           1    Кира   22  Тюмень             ultra  4028.687306  26.265803   \n",
       "...       ...     ...  ...     ...               ...          ...        ...   \n",
       "6495      699  Оксана   22  Москва             ultra  3973.046497  24.671163   \n",
       "6496      699  Оксана   22  Москва             ultra  3288.702563  15.892886   \n",
       "6497      699  Оксана   22  Москва             ultra  3076.159348  14.389525   \n",
       "6498      699  Оксана   22  Москва             ultra  4707.845501  15.839579   \n",
       "6499      699  Оксана   22  Москва             ultra  3202.890770  25.217345   \n",
       "\n",
       "           date  ride_month  \n",
       "0    2021-01-01           1  \n",
       "1    2021-01-18           1  \n",
       "2    2021-04-20           4  \n",
       "3    2021-08-11           8  \n",
       "4    2021-08-28           8  \n",
       "...         ...         ...  \n",
       "6495 2021-08-29           8  \n",
       "6496 2021-09-12           9  \n",
       "6497 2021-09-26           9  \n",
       "6498 2021-10-17          10  \n",
       "6499 2021-12-03          12  \n",
       "\n",
       "[6500 rows x 9 columns]"
      ]
     },
     "execution_count": 56,
     "metadata": {},
     "output_type": "execute_result"
    }
   ],
   "source": [
    "data_ultra = data_total[data_total['subscription_type'] == 'ultra']\n",
    "data_ultra"
   ]
  },
  {
   "cell_type": "code",
   "execution_count": 57,
   "id": "00f55828",
   "metadata": {},
   "outputs": [
    {
     "data": {
      "text/html": [
       "<div>\n",
       "<style scoped>\n",
       "    .dataframe tbody tr th:only-of-type {\n",
       "        vertical-align: middle;\n",
       "    }\n",
       "\n",
       "    .dataframe tbody tr th {\n",
       "        vertical-align: top;\n",
       "    }\n",
       "\n",
       "    .dataframe thead th {\n",
       "        text-align: right;\n",
       "    }\n",
       "</style>\n",
       "<table border=\"1\" class=\"dataframe\">\n",
       "  <thead>\n",
       "    <tr style=\"text-align: right;\">\n",
       "      <th></th>\n",
       "      <th>user_id</th>\n",
       "      <th>name</th>\n",
       "      <th>age</th>\n",
       "      <th>city</th>\n",
       "      <th>subscription_type</th>\n",
       "      <th>distance</th>\n",
       "      <th>duration</th>\n",
       "      <th>date</th>\n",
       "      <th>ride_month</th>\n",
       "    </tr>\n",
       "  </thead>\n",
       "  <tbody>\n",
       "    <tr>\n",
       "      <th>6500</th>\n",
       "      <td>700</td>\n",
       "      <td>Айдар</td>\n",
       "      <td>22</td>\n",
       "      <td>Омск</td>\n",
       "      <td>free</td>\n",
       "      <td>2515.690719</td>\n",
       "      <td>14.944286</td>\n",
       "      <td>2021-01-02</td>\n",
       "      <td>1</td>\n",
       "    </tr>\n",
       "    <tr>\n",
       "      <th>6501</th>\n",
       "      <td>700</td>\n",
       "      <td>Айдар</td>\n",
       "      <td>22</td>\n",
       "      <td>Омск</td>\n",
       "      <td>free</td>\n",
       "      <td>846.932642</td>\n",
       "      <td>16.234663</td>\n",
       "      <td>2021-02-01</td>\n",
       "      <td>2</td>\n",
       "    </tr>\n",
       "    <tr>\n",
       "      <th>6502</th>\n",
       "      <td>700</td>\n",
       "      <td>Айдар</td>\n",
       "      <td>22</td>\n",
       "      <td>Омск</td>\n",
       "      <td>free</td>\n",
       "      <td>4004.434142</td>\n",
       "      <td>20.016628</td>\n",
       "      <td>2021-02-04</td>\n",
       "      <td>2</td>\n",
       "    </tr>\n",
       "    <tr>\n",
       "      <th>6503</th>\n",
       "      <td>700</td>\n",
       "      <td>Айдар</td>\n",
       "      <td>22</td>\n",
       "      <td>Омск</td>\n",
       "      <td>free</td>\n",
       "      <td>1205.911290</td>\n",
       "      <td>9.782872</td>\n",
       "      <td>2021-02-10</td>\n",
       "      <td>2</td>\n",
       "    </tr>\n",
       "    <tr>\n",
       "      <th>6504</th>\n",
       "      <td>700</td>\n",
       "      <td>Айдар</td>\n",
       "      <td>22</td>\n",
       "      <td>Омск</td>\n",
       "      <td>free</td>\n",
       "      <td>3047.379435</td>\n",
       "      <td>17.427673</td>\n",
       "      <td>2021-02-14</td>\n",
       "      <td>2</td>\n",
       "    </tr>\n",
       "    <tr>\n",
       "      <th>...</th>\n",
       "      <td>...</td>\n",
       "      <td>...</td>\n",
       "      <td>...</td>\n",
       "      <td>...</td>\n",
       "      <td>...</td>\n",
       "      <td>...</td>\n",
       "      <td>...</td>\n",
       "      <td>...</td>\n",
       "      <td>...</td>\n",
       "    </tr>\n",
       "    <tr>\n",
       "      <th>18063</th>\n",
       "      <td>1534</td>\n",
       "      <td>Альберт</td>\n",
       "      <td>25</td>\n",
       "      <td>Краснодар</td>\n",
       "      <td>free</td>\n",
       "      <td>3781.098080</td>\n",
       "      <td>19.822962</td>\n",
       "      <td>2021-11-04</td>\n",
       "      <td>11</td>\n",
       "    </tr>\n",
       "    <tr>\n",
       "      <th>18064</th>\n",
       "      <td>1534</td>\n",
       "      <td>Альберт</td>\n",
       "      <td>25</td>\n",
       "      <td>Краснодар</td>\n",
       "      <td>free</td>\n",
       "      <td>2840.423057</td>\n",
       "      <td>21.409799</td>\n",
       "      <td>2021-11-16</td>\n",
       "      <td>11</td>\n",
       "    </tr>\n",
       "    <tr>\n",
       "      <th>18065</th>\n",
       "      <td>1534</td>\n",
       "      <td>Альберт</td>\n",
       "      <td>25</td>\n",
       "      <td>Краснодар</td>\n",
       "      <td>free</td>\n",
       "      <td>3826.185507</td>\n",
       "      <td>18.435051</td>\n",
       "      <td>2021-11-18</td>\n",
       "      <td>11</td>\n",
       "    </tr>\n",
       "    <tr>\n",
       "      <th>18066</th>\n",
       "      <td>1534</td>\n",
       "      <td>Альберт</td>\n",
       "      <td>25</td>\n",
       "      <td>Краснодар</td>\n",
       "      <td>free</td>\n",
       "      <td>2902.308661</td>\n",
       "      <td>16.674362</td>\n",
       "      <td>2021-11-27</td>\n",
       "      <td>11</td>\n",
       "    </tr>\n",
       "    <tr>\n",
       "      <th>18067</th>\n",
       "      <td>1534</td>\n",
       "      <td>Альберт</td>\n",
       "      <td>25</td>\n",
       "      <td>Краснодар</td>\n",
       "      <td>free</td>\n",
       "      <td>2371.711192</td>\n",
       "      <td>15.893917</td>\n",
       "      <td>2021-12-29</td>\n",
       "      <td>12</td>\n",
       "    </tr>\n",
       "  </tbody>\n",
       "</table>\n",
       "<p>11568 rows × 9 columns</p>\n",
       "</div>"
      ],
      "text/plain": [
       "       user_id     name  age       city subscription_type     distance  \\\n",
       "6500       700    Айдар   22       Омск              free  2515.690719   \n",
       "6501       700    Айдар   22       Омск              free   846.932642   \n",
       "6502       700    Айдар   22       Омск              free  4004.434142   \n",
       "6503       700    Айдар   22       Омск              free  1205.911290   \n",
       "6504       700    Айдар   22       Омск              free  3047.379435   \n",
       "...        ...      ...  ...        ...               ...          ...   \n",
       "18063     1534  Альберт   25  Краснодар              free  3781.098080   \n",
       "18064     1534  Альберт   25  Краснодар              free  2840.423057   \n",
       "18065     1534  Альберт   25  Краснодар              free  3826.185507   \n",
       "18066     1534  Альберт   25  Краснодар              free  2902.308661   \n",
       "18067     1534  Альберт   25  Краснодар              free  2371.711192   \n",
       "\n",
       "        duration       date  ride_month  \n",
       "6500   14.944286 2021-01-02           1  \n",
       "6501   16.234663 2021-02-01           2  \n",
       "6502   20.016628 2021-02-04           2  \n",
       "6503    9.782872 2021-02-10           2  \n",
       "6504   17.427673 2021-02-14           2  \n",
       "...          ...        ...         ...  \n",
       "18063  19.822962 2021-11-04          11  \n",
       "18064  21.409799 2021-11-16          11  \n",
       "18065  18.435051 2021-11-18          11  \n",
       "18066  16.674362 2021-11-27          11  \n",
       "18067  15.893917 2021-12-29          12  \n",
       "\n",
       "[11568 rows x 9 columns]"
      ]
     },
     "execution_count": 57,
     "metadata": {},
     "output_type": "execute_result"
    }
   ],
   "source": [
    "data_non_ultra = data_total[data_total['subscription_type'] != 'ultra']\n",
    "data_non_ultra"
   ]
  },
  {
   "cell_type": "code",
   "execution_count": 58,
   "id": "9783b640",
   "metadata": {},
   "outputs": [
    {
     "name": "stdout",
     "output_type": "stream",
     "text": [
      "Количество потерянных строк равно 0, всё сошлось.\n"
     ]
    }
   ],
   "source": [
    "if len(data_ultra) + len(data_non_ultra) == len(data_total):\n",
    "    print('Количество потерянных строк равно 0, всё сошлось.')\n",
    "else:\n",
    "    print('Возникла ошибка, количество строк не сходится.')"
   ]
  },
  {
   "cell_type": "code",
   "execution_count": 59,
   "id": "17b6354f",
   "metadata": {},
   "outputs": [
    {
     "data": {
      "text/plain": [
       "user_id              0\n",
       "name                 0\n",
       "age                  0\n",
       "city                 0\n",
       "subscription_type    0\n",
       "distance             0\n",
       "duration             0\n",
       "date                 0\n",
       "ride_month           0\n",
       "dtype: int64"
      ]
     },
     "execution_count": 59,
     "metadata": {},
     "output_type": "execute_result"
    }
   ],
   "source": [
    "data_ultra.isna().sum()"
   ]
  },
  {
   "cell_type": "code",
   "execution_count": 60,
   "id": "a72c2347",
   "metadata": {},
   "outputs": [
    {
     "data": {
      "text/plain": [
       "(6500, 9)"
      ]
     },
     "execution_count": 60,
     "metadata": {},
     "output_type": "execute_result"
    }
   ],
   "source": [
    "data_ultra.shape"
   ]
  },
  {
   "cell_type": "code",
   "execution_count": 61,
   "id": "fec5eff4",
   "metadata": {},
   "outputs": [
    {
     "data": {
      "text/plain": [
       "user_id              0\n",
       "name                 0\n",
       "age                  0\n",
       "city                 0\n",
       "subscription_type    0\n",
       "distance             0\n",
       "duration             0\n",
       "date                 0\n",
       "ride_month           0\n",
       "dtype: int64"
      ]
     },
     "execution_count": 61,
     "metadata": {},
     "output_type": "execute_result"
    }
   ],
   "source": [
    "data_non_ultra.isna().sum()"
   ]
  },
  {
   "cell_type": "code",
   "execution_count": 62,
   "id": "5b1e8344",
   "metadata": {},
   "outputs": [
    {
     "data": {
      "text/plain": [
       "(11568, 9)"
      ]
     },
     "execution_count": 62,
     "metadata": {},
     "output_type": "execute_result"
    }
   ],
   "source": [
    "data_non_ultra.shape"
   ]
  },
  {
   "cell_type": "markdown",
   "id": "c8fd6351",
   "metadata": {},
   "source": [
    "Разделение не привело к появлению пропусков. Информация о размерности таблиц также говорит нам о том, что потерянные строки отсутствуют."
   ]
  },
  {
   "cell_type": "markdown",
   "id": "0ea2b77e",
   "metadata": {},
   "source": [
    "### 4.3 Визуализация информации о расстоянии и длительности поездок для пользователей с подпиской и без подписки."
   ]
  },
  {
   "cell_type": "markdown",
   "id": "4af3b5a4",
   "metadata": {},
   "source": [
    "#### Продолжительность"
   ]
  },
  {
   "cell_type": "code",
   "execution_count": 63,
   "id": "15cdcb34",
   "metadata": {},
   "outputs": [
    {
     "data": {
      "text/plain": [
       "count    6500.000000\n",
       "mean       18.541985\n",
       "std         5.572048\n",
       "min         3.760353\n",
       "25%        14.524654\n",
       "50%        18.178153\n",
       "75%        21.884129\n",
       "max        40.823963\n",
       "Name: duration, dtype: float64"
      ]
     },
     "execution_count": 63,
     "metadata": {},
     "output_type": "execute_result"
    }
   ],
   "source": [
    "data_ultra['duration'].describe()"
   ]
  },
  {
   "cell_type": "code",
   "execution_count": 64,
   "id": "e5a3e222",
   "metadata": {},
   "outputs": [
    {
     "data": {
      "text/plain": [
       "count    11568.000000\n",
       "mean        17.390909\n",
       "std          6.326803\n",
       "min          0.500000\n",
       "25%         12.958437\n",
       "50%         17.326890\n",
       "75%         21.594071\n",
       "max         34.948498\n",
       "Name: duration, dtype: float64"
      ]
     },
     "execution_count": 64,
     "metadata": {},
     "output_type": "execute_result"
    }
   ],
   "source": [
    "data_non_ultra['duration'].describe()"
   ]
  },
  {
   "cell_type": "code",
   "execution_count": 65,
   "id": "418bc95b",
   "metadata": {},
   "outputs": [
    {
     "data": {
      "image/png": "[encoded data removed]",
      "text/plain": [
       "<Figure size 864x288 with 1 Axes>"
      ]
     },
     "metadata": {
      "needs_background": "light"
     },
     "output_type": "display_data"
    }
   ],
   "source": [
    "ax_1 = data_ultra['duration'].plot(\n",
    "kind='hist',\n",
    "histtype='step',\n",
    "linewidth=3,\n",
    "bins=20, \n",
    "figsize=(12,4),\n",
    "legend=True,\n",
    "label='Подписка',\n",
    "title='Время поездки пользователей с подпиской и без подписки');\n",
    "\n",
    "data_non_ultra['duration'].plot(\n",
    "kind='hist',\n",
    "histtype = 'step',\n",
    "linewidth=3,\n",
    "bins=20,\n",
    "grid=True,\n",
    "legend=True,\n",
    "label='Без подписки',\n",
    "ax=ax_1);"
   ]
  },
  {
   "cell_type": "markdown",
   "id": "785d00f0",
   "metadata": {},
   "source": [
    "Из полученной гистограммы мы видим, что распределение по времени поездок у пользователей с подпиской и пользователей без подписки в целом одинаковое, среднее время поездки для обеих групп составляет примерно **18 минут**, но пользователи с подпиской ездят как минимум **4 минуты**, в то время как у пользователей без подписки есть поездки длительностью даже меньше минуты. Это связано с тем, что среди пользователей без подписки есть те, кто пробует поездки на электросамокатах впервые, и, возможно, этот опыт не всегда удачный. Стоит подумать, как можно сделать первый опыт поездки на самокате более комфортным. Например, размещение на самокате инструкций по безопасному катанию для новичков или распространение обучающих видео. Также можно заметить, что длительность поездок пользователей без подписки состовляет не более **35 минут**, в то время как у пользователей с подпиской есть поездки даже дольше **40 минут**, хотя эта доля незначительная и является по сути, выбросом. Однако, это говорит нам о том, что возможно есть люди, которые рассматривают самокаты, как полноценное средство передвижения, что является для нас потенциальной точкой роста."
   ]
  },
  {
   "cell_type": "markdown",
   "id": "2373d269",
   "metadata": {},
   "source": [
    "#### Расстояние."
   ]
  },
  {
   "cell_type": "code",
   "execution_count": 66,
   "id": "1b04525d",
   "metadata": {
    "scrolled": true
   },
   "outputs": [
    {
     "data": {
      "text/plain": [
       "count    6500.000000\n",
       "mean     3115.445388\n",
       "std       836.895330\n",
       "min       244.210438\n",
       "25%      2785.444017\n",
       "50%      3148.637229\n",
       "75%      3560.574425\n",
       "max      5699.769662\n",
       "Name: distance, dtype: float64"
      ]
     },
     "execution_count": 66,
     "metadata": {},
     "output_type": "execute_result"
    }
   ],
   "source": [
    "data_ultra['distance'].describe()"
   ]
  },
  {
   "cell_type": "code",
   "execution_count": 67,
   "id": "b373511a",
   "metadata": {},
   "outputs": [
    {
     "data": {
      "text/plain": [
       "count    11568.000000\n",
       "mean      3045.495282\n",
       "std       1246.173806\n",
       "min          0.855683\n",
       "25%       2366.562689\n",
       "50%       3114.648465\n",
       "75%       3905.697894\n",
       "max       7211.007745\n",
       "Name: distance, dtype: float64"
      ]
     },
     "execution_count": 67,
     "metadata": {},
     "output_type": "execute_result"
    }
   ],
   "source": [
    "data_non_ultra['distance'].describe()"
   ]
  },
  {
   "cell_type": "code",
   "execution_count": 68,
   "id": "49016528",
   "metadata": {},
   "outputs": [
    {
     "data": {
      "image/png": "[encoded data removed]",
      "text/plain": [
       "<Figure size 864x288 with 1 Axes>"
      ]
     },
     "metadata": {
      "needs_background": "light"
     },
     "output_type": "display_data"
    }
   ],
   "source": [
    "ax_2 = data_ultra['distance'].plot(\n",
    "kind='hist',\n",
    "histtype='step',\n",
    "linewidth=3,\n",
    "bins=20, \n",
    "figsize=(12,4),\n",
    "legend=True,\n",
    "label='Подписка',\n",
    "title='Расстояние поездки пользователей с подпиской и без подписки');\n",
    "\n",
    "data_non_ultra['distance'].plot(\n",
    "kind='hist',\n",
    "histtype = 'step',\n",
    "linewidth=3,\n",
    "bins=20,\n",
    "grid=True,\n",
    "legend=True,\n",
    "label='Без подписки',\n",
    "ax=ax_2);"
   ]
  },
  {
   "cell_type": "code",
   "execution_count": 69,
   "id": "51ea112c",
   "metadata": {},
   "outputs": [
    {
     "data": {
      "image/png": "[encoded data removed]",
      "text/plain": [
       "<Figure size 864x288 with 1 Axes>"
      ]
     },
     "metadata": {
      "needs_background": "light"
     },
     "output_type": "display_data"
    }
   ],
   "source": [
    "ax_2 = data_ultra['distance'].plot(\n",
    "kind='hist',\n",
    "histtype='step',\n",
    "linewidth=3,\n",
    "bins=120, \n",
    "figsize=(12,4),\n",
    "legend=True,\n",
    "label='Подписка',\n",
    "title='Расстояние поездки пользователей с подпиской и без подписки');\n",
    "\n",
    "data_non_ultra['distance'].plot(\n",
    "kind='hist',\n",
    "histtype = 'step',\n",
    "linewidth=3,\n",
    "bins=120,\n",
    "grid=True,\n",
    "legend=True,\n",
    "label='Без подписки',\n",
    "ax=ax_2);"
   ]
  },
  {
   "cell_type": "markdown",
   "id": "b3e4b535",
   "metadata": {},
   "source": [
    "На этапе объединения данных нами был сформирован единый датафрейм, в котором хранится информация об id пользователя, его имени, возрасте, городе, наличии/отсутствии подписки, а также сведения о расстоянии и длительности его поездок, дате совершения поездок и порядковом номере месяца, когда была совершена поездка. Также были созданы два датафрейма с информацией о пользователях с подпиской и без подписки. Проведена проверка, в результате которой установлено, что объединение данных в единый датафрейм и последующее его разделение по параметру наличия подписки не привело к потере строк или возникновению пропусков.\n",
    "\n",
    "Также сформированы гистограммы, отображающие информацию о расстоянии и продолжительности поездок.\n",
    "\n",
    "Из полученной гистограммы  с информацией о продолжительности поездок мы видим, что распределение по времени поездок у пользователей с подпиской и пользователей без подписки в целом одинаковое, среднее время поездки для обеих групп составляет примерно **18 минут**, но пользователи с подпиской ездят как минимум **4 минуты**, в то время как у пользователей без подписки есть поездки длительностью даже меньше минуты. Это связано с тем, что среди пользователей без подписки есть те, кто пробует поездки на электросамокатах впервые, и, возможно, этот опыт не всегда удачный. Стоит подумать, как можно сделать первый опыт поездки на самокате более комфортным. Например, размещение на самокате инструкций по безопасному катанию для новичков или распространение обучающих видео. Также можно заметить, что длительность поездок пользователей без подписки состовляет не более **35 минут**, в то время как у пользователей с подпиской есть поездки даже дольше **40 минут**, хотя эта доля незначительная и является по сути, выбросом. Однако, это говорит нам о том, что возможно есть люди, которые рассматривают самокаты, как полноценное средство передвижения, что является для нас потенциальной точкой роста.\n",
    "\n",
    "Распределение среднего расстояния пользователей с подпиской и без подписки в целом похоже. Для обеих групп характерен провал по количеству поездок на расстояние около **2000 метров**. Также для пользователей без подписки характерны короткие поездки **не более 500 метров**, это связано с пробными поездками. Также для обеих групп наиболее распространенное расстояние поездки - это **3000 метров**. У группы людей без подписки также присутствуют выбросы на **6000 метров** и даже на **7000 метров**."
   ]
  },
  {
   "cell_type": "markdown",
   "id": "402d620f",
   "metadata": {},
   "source": [
    "## Шаг 5. Подсчёт выручки\n",
    "<a id='revenue'></a>"
   ]
  },
  {
   "cell_type": "markdown",
   "id": "108a4410",
   "metadata": {},
   "source": [
    "### 5.1 Создание агрегированного датафрейма."
   ]
  },
  {
   "cell_type": "code",
   "execution_count": 70,
   "id": "0b8e7e90",
   "metadata": {},
   "outputs": [],
   "source": [
    "data_sub = data_sub.set_index('subscription_type')"
   ]
  },
  {
   "cell_type": "code",
   "execution_count": 71,
   "id": "d562d149",
   "metadata": {
    "scrolled": true
   },
   "outputs": [
    {
     "data": {
      "text/html": [
       "<div>\n",
       "<style scoped>\n",
       "    .dataframe tbody tr th:only-of-type {\n",
       "        vertical-align: middle;\n",
       "    }\n",
       "\n",
       "    .dataframe tbody tr th {\n",
       "        vertical-align: top;\n",
       "    }\n",
       "\n",
       "    .dataframe thead th {\n",
       "        text-align: right;\n",
       "    }\n",
       "</style>\n",
       "<table border=\"1\" class=\"dataframe\">\n",
       "  <thead>\n",
       "    <tr style=\"text-align: right;\">\n",
       "      <th></th>\n",
       "      <th>user_id</th>\n",
       "      <th>name</th>\n",
       "      <th>age</th>\n",
       "      <th>city</th>\n",
       "      <th>subscription_type</th>\n",
       "      <th>distance</th>\n",
       "      <th>duration</th>\n",
       "      <th>date</th>\n",
       "      <th>ride_month</th>\n",
       "      <th>minute_price</th>\n",
       "      <th>start_ride_price</th>\n",
       "      <th>subscription_fee</th>\n",
       "    </tr>\n",
       "  </thead>\n",
       "  <tbody>\n",
       "    <tr>\n",
       "      <th>0</th>\n",
       "      <td>1</td>\n",
       "      <td>Кира</td>\n",
       "      <td>22</td>\n",
       "      <td>Тюмень</td>\n",
       "      <td>ultra</td>\n",
       "      <td>4409.919140</td>\n",
       "      <td>25.599769</td>\n",
       "      <td>2021-01-01</td>\n",
       "      <td>1</td>\n",
       "      <td>6</td>\n",
       "      <td>0</td>\n",
       "      <td>199</td>\n",
       "    </tr>\n",
       "    <tr>\n",
       "      <th>1</th>\n",
       "      <td>1</td>\n",
       "      <td>Кира</td>\n",
       "      <td>22</td>\n",
       "      <td>Тюмень</td>\n",
       "      <td>ultra</td>\n",
       "      <td>2617.592153</td>\n",
       "      <td>15.816871</td>\n",
       "      <td>2021-01-18</td>\n",
       "      <td>1</td>\n",
       "      <td>6</td>\n",
       "      <td>0</td>\n",
       "      <td>199</td>\n",
       "    </tr>\n",
       "    <tr>\n",
       "      <th>2</th>\n",
       "      <td>1</td>\n",
       "      <td>Кира</td>\n",
       "      <td>22</td>\n",
       "      <td>Тюмень</td>\n",
       "      <td>ultra</td>\n",
       "      <td>754.159807</td>\n",
       "      <td>6.232113</td>\n",
       "      <td>2021-04-20</td>\n",
       "      <td>4</td>\n",
       "      <td>6</td>\n",
       "      <td>0</td>\n",
       "      <td>199</td>\n",
       "    </tr>\n",
       "    <tr>\n",
       "      <th>3</th>\n",
       "      <td>1</td>\n",
       "      <td>Кира</td>\n",
       "      <td>22</td>\n",
       "      <td>Тюмень</td>\n",
       "      <td>ultra</td>\n",
       "      <td>2694.783254</td>\n",
       "      <td>18.511000</td>\n",
       "      <td>2021-08-11</td>\n",
       "      <td>8</td>\n",
       "      <td>6</td>\n",
       "      <td>0</td>\n",
       "      <td>199</td>\n",
       "    </tr>\n",
       "    <tr>\n",
       "      <th>4</th>\n",
       "      <td>1</td>\n",
       "      <td>Кира</td>\n",
       "      <td>22</td>\n",
       "      <td>Тюмень</td>\n",
       "      <td>ultra</td>\n",
       "      <td>4028.687306</td>\n",
       "      <td>26.265803</td>\n",
       "      <td>2021-08-28</td>\n",
       "      <td>8</td>\n",
       "      <td>6</td>\n",
       "      <td>0</td>\n",
       "      <td>199</td>\n",
       "    </tr>\n",
       "    <tr>\n",
       "      <th>...</th>\n",
       "      <td>...</td>\n",
       "      <td>...</td>\n",
       "      <td>...</td>\n",
       "      <td>...</td>\n",
       "      <td>...</td>\n",
       "      <td>...</td>\n",
       "      <td>...</td>\n",
       "      <td>...</td>\n",
       "      <td>...</td>\n",
       "      <td>...</td>\n",
       "      <td>...</td>\n",
       "      <td>...</td>\n",
       "    </tr>\n",
       "    <tr>\n",
       "      <th>18063</th>\n",
       "      <td>1534</td>\n",
       "      <td>Альберт</td>\n",
       "      <td>25</td>\n",
       "      <td>Краснодар</td>\n",
       "      <td>free</td>\n",
       "      <td>3781.098080</td>\n",
       "      <td>19.822962</td>\n",
       "      <td>2021-11-04</td>\n",
       "      <td>11</td>\n",
       "      <td>8</td>\n",
       "      <td>50</td>\n",
       "      <td>0</td>\n",
       "    </tr>\n",
       "    <tr>\n",
       "      <th>18064</th>\n",
       "      <td>1534</td>\n",
       "      <td>Альберт</td>\n",
       "      <td>25</td>\n",
       "      <td>Краснодар</td>\n",
       "      <td>free</td>\n",
       "      <td>2840.423057</td>\n",
       "      <td>21.409799</td>\n",
       "      <td>2021-11-16</td>\n",
       "      <td>11</td>\n",
       "      <td>8</td>\n",
       "      <td>50</td>\n",
       "      <td>0</td>\n",
       "    </tr>\n",
       "    <tr>\n",
       "      <th>18065</th>\n",
       "      <td>1534</td>\n",
       "      <td>Альберт</td>\n",
       "      <td>25</td>\n",
       "      <td>Краснодар</td>\n",
       "      <td>free</td>\n",
       "      <td>3826.185507</td>\n",
       "      <td>18.435051</td>\n",
       "      <td>2021-11-18</td>\n",
       "      <td>11</td>\n",
       "      <td>8</td>\n",
       "      <td>50</td>\n",
       "      <td>0</td>\n",
       "    </tr>\n",
       "    <tr>\n",
       "      <th>18066</th>\n",
       "      <td>1534</td>\n",
       "      <td>Альберт</td>\n",
       "      <td>25</td>\n",
       "      <td>Краснодар</td>\n",
       "      <td>free</td>\n",
       "      <td>2902.308661</td>\n",
       "      <td>16.674362</td>\n",
       "      <td>2021-11-27</td>\n",
       "      <td>11</td>\n",
       "      <td>8</td>\n",
       "      <td>50</td>\n",
       "      <td>0</td>\n",
       "    </tr>\n",
       "    <tr>\n",
       "      <th>18067</th>\n",
       "      <td>1534</td>\n",
       "      <td>Альберт</td>\n",
       "      <td>25</td>\n",
       "      <td>Краснодар</td>\n",
       "      <td>free</td>\n",
       "      <td>2371.711192</td>\n",
       "      <td>15.893917</td>\n",
       "      <td>2021-12-29</td>\n",
       "      <td>12</td>\n",
       "      <td>8</td>\n",
       "      <td>50</td>\n",
       "      <td>0</td>\n",
       "    </tr>\n",
       "  </tbody>\n",
       "</table>\n",
       "<p>18068 rows × 12 columns</p>\n",
       "</div>"
      ],
      "text/plain": [
       "       user_id     name  age       city subscription_type     distance  \\\n",
       "0            1     Кира   22     Тюмень             ultra  4409.919140   \n",
       "1            1     Кира   22     Тюмень             ultra  2617.592153   \n",
       "2            1     Кира   22     Тюмень             ultra   754.159807   \n",
       "3            1     Кира   22     Тюмень             ultra  2694.783254   \n",
       "4            1     Кира   22     Тюмень             ultra  4028.687306   \n",
       "...        ...      ...  ...        ...               ...          ...   \n",
       "18063     1534  Альберт   25  Краснодар              free  3781.098080   \n",
       "18064     1534  Альберт   25  Краснодар              free  2840.423057   \n",
       "18065     1534  Альберт   25  Краснодар              free  3826.185507   \n",
       "18066     1534  Альберт   25  Краснодар              free  2902.308661   \n",
       "18067     1534  Альберт   25  Краснодар              free  2371.711192   \n",
       "\n",
       "        duration       date  ride_month  minute_price  start_ride_price  \\\n",
       "0      25.599769 2021-01-01           1             6                 0   \n",
       "1      15.816871 2021-01-18           1             6                 0   \n",
       "2       6.232113 2021-04-20           4             6                 0   \n",
       "3      18.511000 2021-08-11           8             6                 0   \n",
       "4      26.265803 2021-08-28           8             6                 0   \n",
       "...          ...        ...         ...           ...               ...   \n",
       "18063  19.822962 2021-11-04          11             8                50   \n",
       "18064  21.409799 2021-11-16          11             8                50   \n",
       "18065  18.435051 2021-11-18          11             8                50   \n",
       "18066  16.674362 2021-11-27          11             8                50   \n",
       "18067  15.893917 2021-12-29          12             8                50   \n",
       "\n",
       "       subscription_fee  \n",
       "0                   199  \n",
       "1                   199  \n",
       "2                   199  \n",
       "3                   199  \n",
       "4                   199  \n",
       "...                 ...  \n",
       "18063                 0  \n",
       "18064                 0  \n",
       "18065                 0  \n",
       "18066                 0  \n",
       "18067                 0  \n",
       "\n",
       "[18068 rows x 12 columns]"
      ]
     },
     "execution_count": 71,
     "metadata": {},
     "output_type": "execute_result"
    }
   ],
   "source": [
    "data_new_total = data_total.join(data_sub, on='subscription_type')\n",
    "data_new_total"
   ]
  },
  {
   "cell_type": "markdown",
   "id": "3d4aecc1",
   "metadata": {},
   "source": [
    "### 5.2 Расчет помесячной выручки."
   ]
  },
  {
   "cell_type": "code",
   "execution_count": 72,
   "id": "78d8e096",
   "metadata": {},
   "outputs": [],
   "source": [
    "data_new_total['duration'] = np.ceil(data_new_total['duration'])\n"
   ]
  },
  {
   "cell_type": "code",
   "execution_count": 73,
   "id": "85ae1e8b",
   "metadata": {
    "scrolled": false
   },
   "outputs": [
    {
     "data": {
      "text/html": [
       "<div>\n",
       "<style scoped>\n",
       "    .dataframe tbody tr th:only-of-type {\n",
       "        vertical-align: middle;\n",
       "    }\n",
       "\n",
       "    .dataframe tbody tr th {\n",
       "        vertical-align: top;\n",
       "    }\n",
       "\n",
       "    .dataframe thead th {\n",
       "        text-align: right;\n",
       "    }\n",
       "</style>\n",
       "<table border=\"1\" class=\"dataframe\">\n",
       "  <thead>\n",
       "    <tr style=\"text-align: right;\">\n",
       "      <th></th>\n",
       "      <th></th>\n",
       "      <th>distance</th>\n",
       "      <th>duration</th>\n",
       "      <th>minute_price</th>\n",
       "      <th>ride_month</th>\n",
       "      <th>start_ride_price</th>\n",
       "      <th>subscription_fee</th>\n",
       "    </tr>\n",
       "    <tr>\n",
       "      <th>user_id</th>\n",
       "      <th>ride_month</th>\n",
       "      <th></th>\n",
       "      <th></th>\n",
       "      <th></th>\n",
       "      <th></th>\n",
       "      <th></th>\n",
       "      <th></th>\n",
       "    </tr>\n",
       "  </thead>\n",
       "  <tbody>\n",
       "    <tr>\n",
       "      <th rowspan=\"5\" valign=\"top\">1</th>\n",
       "      <th>1</th>\n",
       "      <td>7027.511294</td>\n",
       "      <td>42.0</td>\n",
       "      <td>6</td>\n",
       "      <td>2</td>\n",
       "      <td>0</td>\n",
       "      <td>199</td>\n",
       "    </tr>\n",
       "    <tr>\n",
       "      <th>4</th>\n",
       "      <td>754.159807</td>\n",
       "      <td>7.0</td>\n",
       "      <td>6</td>\n",
       "      <td>1</td>\n",
       "      <td>0</td>\n",
       "      <td>199</td>\n",
       "    </tr>\n",
       "    <tr>\n",
       "      <th>8</th>\n",
       "      <td>6723.470560</td>\n",
       "      <td>46.0</td>\n",
       "      <td>6</td>\n",
       "      <td>2</td>\n",
       "      <td>0</td>\n",
       "      <td>199</td>\n",
       "    </tr>\n",
       "    <tr>\n",
       "      <th>10</th>\n",
       "      <td>5809.911100</td>\n",
       "      <td>32.0</td>\n",
       "      <td>6</td>\n",
       "      <td>2</td>\n",
       "      <td>0</td>\n",
       "      <td>199</td>\n",
       "    </tr>\n",
       "    <tr>\n",
       "      <th>11</th>\n",
       "      <td>7003.499363</td>\n",
       "      <td>56.0</td>\n",
       "      <td>6</td>\n",
       "      <td>3</td>\n",
       "      <td>0</td>\n",
       "      <td>199</td>\n",
       "    </tr>\n",
       "    <tr>\n",
       "      <th>...</th>\n",
       "      <th>...</th>\n",
       "      <td>...</td>\n",
       "      <td>...</td>\n",
       "      <td>...</td>\n",
       "      <td>...</td>\n",
       "      <td>...</td>\n",
       "      <td>...</td>\n",
       "    </tr>\n",
       "    <tr>\n",
       "      <th rowspan=\"5\" valign=\"top\">1534</th>\n",
       "      <th>6</th>\n",
       "      <td>3409.468534</td>\n",
       "      <td>26.0</td>\n",
       "      <td>8</td>\n",
       "      <td>2</td>\n",
       "      <td>50</td>\n",
       "      <td>0</td>\n",
       "    </tr>\n",
       "    <tr>\n",
       "      <th>8</th>\n",
       "      <td>7622.453034</td>\n",
       "      <td>48.0</td>\n",
       "      <td>8</td>\n",
       "      <td>2</td>\n",
       "      <td>50</td>\n",
       "      <td>0</td>\n",
       "    </tr>\n",
       "    <tr>\n",
       "      <th>9</th>\n",
       "      <td>4928.173852</td>\n",
       "      <td>23.0</td>\n",
       "      <td>8</td>\n",
       "      <td>1</td>\n",
       "      <td>50</td>\n",
       "      <td>0</td>\n",
       "    </tr>\n",
       "    <tr>\n",
       "      <th>11</th>\n",
       "      <td>13350.015305</td>\n",
       "      <td>78.0</td>\n",
       "      <td>8</td>\n",
       "      <td>4</td>\n",
       "      <td>50</td>\n",
       "      <td>0</td>\n",
       "    </tr>\n",
       "    <tr>\n",
       "      <th>12</th>\n",
       "      <td>2371.711192</td>\n",
       "      <td>16.0</td>\n",
       "      <td>8</td>\n",
       "      <td>1</td>\n",
       "      <td>50</td>\n",
       "      <td>0</td>\n",
       "    </tr>\n",
       "  </tbody>\n",
       "</table>\n",
       "<p>11331 rows × 6 columns</p>\n",
       "</div>"
      ],
      "text/plain": [
       "                        distance  duration  minute_price  ride_month  \\\n",
       "user_id ride_month                                                     \n",
       "1       1            7027.511294      42.0             6           2   \n",
       "        4             754.159807       7.0             6           1   \n",
       "        8            6723.470560      46.0             6           2   \n",
       "        10           5809.911100      32.0             6           2   \n",
       "        11           7003.499363      56.0             6           3   \n",
       "...                          ...       ...           ...         ...   \n",
       "1534    6            3409.468534      26.0             8           2   \n",
       "        8            7622.453034      48.0             8           2   \n",
       "        9            4928.173852      23.0             8           1   \n",
       "        11          13350.015305      78.0             8           4   \n",
       "        12           2371.711192      16.0             8           1   \n",
       "\n",
       "                    start_ride_price  subscription_fee  \n",
       "user_id ride_month                                      \n",
       "1       1                          0               199  \n",
       "        4                          0               199  \n",
       "        8                          0               199  \n",
       "        10                         0               199  \n",
       "        11                         0               199  \n",
       "...                              ...               ...  \n",
       "1534    6                         50                 0  \n",
       "        8                         50                 0  \n",
       "        9                         50                 0  \n",
       "        11                        50                 0  \n",
       "        12                        50                 0  \n",
       "\n",
       "[11331 rows x 6 columns]"
      ]
     },
     "execution_count": 73,
     "metadata": {},
     "output_type": "execute_result"
    }
   ],
   "source": [
    "data_revenue = data_new_total.pivot_table(\n",
    "    index=['user_id','ride_month'], \n",
    "    aggfunc={'distance':'sum', \n",
    "             'duration':'sum', \n",
    "             'ride_month':'count',\n",
    "             'minute_price':'mean',\n",
    "             'start_ride_price':'mean',\n",
    "             'subscription_fee':'mean'} \n",
    "    )\n",
    "data_revenue"
   ]
  },
  {
   "cell_type": "code",
   "execution_count": 74,
   "id": "852d140a",
   "metadata": {},
   "outputs": [
    {
     "data": {
      "text/plain": [
       "distance            0\n",
       "duration            0\n",
       "minute_price        0\n",
       "ride_month          0\n",
       "start_ride_price    0\n",
       "subscription_fee    0\n",
       "dtype: int64"
      ]
     },
     "execution_count": 74,
     "metadata": {},
     "output_type": "execute_result"
    }
   ],
   "source": [
    "data_revenue.isna().sum()"
   ]
  },
  {
   "cell_type": "code",
   "execution_count": 75,
   "id": "53295d82",
   "metadata": {},
   "outputs": [
    {
     "data": {
      "text/html": [
       "<div>\n",
       "<style scoped>\n",
       "    .dataframe tbody tr th:only-of-type {\n",
       "        vertical-align: middle;\n",
       "    }\n",
       "\n",
       "    .dataframe tbody tr th {\n",
       "        vertical-align: top;\n",
       "    }\n",
       "\n",
       "    .dataframe thead th {\n",
       "        text-align: right;\n",
       "    }\n",
       "</style>\n",
       "<table border=\"1\" class=\"dataframe\">\n",
       "  <thead>\n",
       "    <tr style=\"text-align: right;\">\n",
       "      <th></th>\n",
       "      <th></th>\n",
       "      <th>distance</th>\n",
       "      <th>duration</th>\n",
       "      <th>minute_price</th>\n",
       "      <th>ride_month</th>\n",
       "      <th>start_ride_price</th>\n",
       "      <th>subscription_fee</th>\n",
       "      <th>revenue</th>\n",
       "    </tr>\n",
       "    <tr>\n",
       "      <th>user_id</th>\n",
       "      <th>ride_month</th>\n",
       "      <th></th>\n",
       "      <th></th>\n",
       "      <th></th>\n",
       "      <th></th>\n",
       "      <th></th>\n",
       "      <th></th>\n",
       "      <th></th>\n",
       "    </tr>\n",
       "  </thead>\n",
       "  <tbody>\n",
       "    <tr>\n",
       "      <th rowspan=\"5\" valign=\"top\">1</th>\n",
       "      <th>1</th>\n",
       "      <td>7027.511294</td>\n",
       "      <td>42.0</td>\n",
       "      <td>6</td>\n",
       "      <td>2</td>\n",
       "      <td>0</td>\n",
       "      <td>199</td>\n",
       "      <td>451.0</td>\n",
       "    </tr>\n",
       "    <tr>\n",
       "      <th>4</th>\n",
       "      <td>754.159807</td>\n",
       "      <td>7.0</td>\n",
       "      <td>6</td>\n",
       "      <td>1</td>\n",
       "      <td>0</td>\n",
       "      <td>199</td>\n",
       "      <td>241.0</td>\n",
       "    </tr>\n",
       "    <tr>\n",
       "      <th>8</th>\n",
       "      <td>6723.470560</td>\n",
       "      <td>46.0</td>\n",
       "      <td>6</td>\n",
       "      <td>2</td>\n",
       "      <td>0</td>\n",
       "      <td>199</td>\n",
       "      <td>475.0</td>\n",
       "    </tr>\n",
       "    <tr>\n",
       "      <th>10</th>\n",
       "      <td>5809.911100</td>\n",
       "      <td>32.0</td>\n",
       "      <td>6</td>\n",
       "      <td>2</td>\n",
       "      <td>0</td>\n",
       "      <td>199</td>\n",
       "      <td>391.0</td>\n",
       "    </tr>\n",
       "    <tr>\n",
       "      <th>11</th>\n",
       "      <td>7003.499363</td>\n",
       "      <td>56.0</td>\n",
       "      <td>6</td>\n",
       "      <td>3</td>\n",
       "      <td>0</td>\n",
       "      <td>199</td>\n",
       "      <td>535.0</td>\n",
       "    </tr>\n",
       "    <tr>\n",
       "      <th>...</th>\n",
       "      <th>...</th>\n",
       "      <td>...</td>\n",
       "      <td>...</td>\n",
       "      <td>...</td>\n",
       "      <td>...</td>\n",
       "      <td>...</td>\n",
       "      <td>...</td>\n",
       "      <td>...</td>\n",
       "    </tr>\n",
       "    <tr>\n",
       "      <th rowspan=\"5\" valign=\"top\">1534</th>\n",
       "      <th>6</th>\n",
       "      <td>3409.468534</td>\n",
       "      <td>26.0</td>\n",
       "      <td>8</td>\n",
       "      <td>2</td>\n",
       "      <td>50</td>\n",
       "      <td>0</td>\n",
       "      <td>308.0</td>\n",
       "    </tr>\n",
       "    <tr>\n",
       "      <th>8</th>\n",
       "      <td>7622.453034</td>\n",
       "      <td>48.0</td>\n",
       "      <td>8</td>\n",
       "      <td>2</td>\n",
       "      <td>50</td>\n",
       "      <td>0</td>\n",
       "      <td>484.0</td>\n",
       "    </tr>\n",
       "    <tr>\n",
       "      <th>9</th>\n",
       "      <td>4928.173852</td>\n",
       "      <td>23.0</td>\n",
       "      <td>8</td>\n",
       "      <td>1</td>\n",
       "      <td>50</td>\n",
       "      <td>0</td>\n",
       "      <td>234.0</td>\n",
       "    </tr>\n",
       "    <tr>\n",
       "      <th>11</th>\n",
       "      <td>13350.015305</td>\n",
       "      <td>78.0</td>\n",
       "      <td>8</td>\n",
       "      <td>4</td>\n",
       "      <td>50</td>\n",
       "      <td>0</td>\n",
       "      <td>824.0</td>\n",
       "    </tr>\n",
       "    <tr>\n",
       "      <th>12</th>\n",
       "      <td>2371.711192</td>\n",
       "      <td>16.0</td>\n",
       "      <td>8</td>\n",
       "      <td>1</td>\n",
       "      <td>50</td>\n",
       "      <td>0</td>\n",
       "      <td>178.0</td>\n",
       "    </tr>\n",
       "  </tbody>\n",
       "</table>\n",
       "<p>11331 rows × 7 columns</p>\n",
       "</div>"
      ],
      "text/plain": [
       "                        distance  duration  minute_price  ride_month  \\\n",
       "user_id ride_month                                                     \n",
       "1       1            7027.511294      42.0             6           2   \n",
       "        4             754.159807       7.0             6           1   \n",
       "        8            6723.470560      46.0             6           2   \n",
       "        10           5809.911100      32.0             6           2   \n",
       "        11           7003.499363      56.0             6           3   \n",
       "...                          ...       ...           ...         ...   \n",
       "1534    6            3409.468534      26.0             8           2   \n",
       "        8            7622.453034      48.0             8           2   \n",
       "        9            4928.173852      23.0             8           1   \n",
       "        11          13350.015305      78.0             8           4   \n",
       "        12           2371.711192      16.0             8           1   \n",
       "\n",
       "                    start_ride_price  subscription_fee  revenue  \n",
       "user_id ride_month                                               \n",
       "1       1                          0               199    451.0  \n",
       "        4                          0               199    241.0  \n",
       "        8                          0               199    475.0  \n",
       "        10                         0               199    391.0  \n",
       "        11                         0               199    535.0  \n",
       "...                              ...               ...      ...  \n",
       "1534    6                         50                 0    308.0  \n",
       "        8                         50                 0    484.0  \n",
       "        9                         50                 0    234.0  \n",
       "        11                        50                 0    824.0  \n",
       "        12                        50                 0    178.0  \n",
       "\n",
       "[11331 rows x 7 columns]"
      ]
     },
     "execution_count": 75,
     "metadata": {},
     "output_type": "execute_result"
    }
   ],
   "source": [
    "data_revenue['revenue'] = data_revenue['minute_price']*data_revenue['duration']+data_revenue['start_ride_price']*data_revenue['ride_month']+data_revenue['subscription_fee']\n",
    "data_revenue"
   ]
  },
  {
   "cell_type": "markdown",
   "id": "52075f66",
   "metadata": {},
   "source": [
    "На этапе подсчета выручки нами были добавлены сведения о цене минут, старта поездки и ежемесячном платеже для всех пользователей (как с подпиской, так и без нее), а также длительность поездок округлена до минут в большую сторону для корректного расчета выручки.\n",
    "\n",
    "На основе имеющейся информации нами была расчитана ежемесячная выручка для каждого пользователя."
   ]
  },
  {
   "cell_type": "code",
   "execution_count": 76,
   "id": "8c3433e6",
   "metadata": {},
   "outputs": [
    {
     "data": {
      "text/plain": [
       "3878641.0"
      ]
     },
     "execution_count": 76,
     "metadata": {},
     "output_type": "execute_result"
    }
   ],
   "source": [
    "data_revenue['revenue'].sum()"
   ]
  },
  {
   "cell_type": "markdown",
   "id": "41545ac0",
   "metadata": {},
   "source": [
    "## Шаг 6. Проверка гипотез\n",
    "<a id='check'></a>"
   ]
  },
  {
   "cell_type": "markdown",
   "id": "7519218a",
   "metadata": {},
   "source": [
    "### 6.1 Тратят ли пользователи с подпиской больше времени на поездки?"
   ]
  },
  {
   "cell_type": "markdown",
   "id": "2859cc0b",
   "metadata": {},
   "source": [
    "Возьмем за нулевую гипотезу следующее утверждение: Пользователи с подпиской тратят столько же времени на поездки, сколько и пользователи без подписки.\n",
    "\n",
    "Альтернативной гипотезой будет: Пользователи с подпиской тратят больше времени на поездки.\n",
    "\n",
    "Размер датафреймов позволяет нам работать со всей генеральной совокупностью."
   ]
  },
  {
   "cell_type": "code",
   "execution_count": 77,
   "id": "8b619727",
   "metadata": {},
   "outputs": [
    {
     "data": {
      "text/plain": [
       "17.39"
      ]
     },
     "execution_count": 77,
     "metadata": {},
     "output_type": "execute_result"
    }
   ],
   "source": [
    "non_ultra_mean_duration = data_non_ultra['duration'].mean().round(2)\n",
    "non_ultra_mean_duration"
   ]
  },
  {
   "cell_type": "code",
   "execution_count": 78,
   "id": "5436c21a",
   "metadata": {},
   "outputs": [
    {
     "name": "stdout",
     "output_type": "stream",
     "text": [
      "p-значение: 1.2804098316645618e-34\n",
      "Нулевая гипотеза отвергается.\n"
     ]
    }
   ],
   "source": [
    "alpha = 0.05\n",
    "\n",
    "results = st.ttest_ind(data_ultra['duration'], data_non_ultra['duration'], alternative='greater' )\n",
    "\n",
    "print('p-значение:', results.pvalue)\n",
    "if results.pvalue < alpha:\n",
    "    print('Нулевая гипотеза отвергается.')\n",
    "else:\n",
    "    print('Нельзя отвергнуть нулевую гипотезу.')"
   ]
  },
  {
   "cell_type": "markdown",
   "id": "5fce0b27",
   "metadata": {},
   "source": [
    "Нулевая гипотеза не подтвердилась. Пользователи с подпиской больше времени проводят, используя самокаты. Это выгодно для бизнеса, так как каждая минута оплачивается, также с учетом того, что пользователи с подпиской платят меньше за каждую минуту, можно предположить, что они с большей вероятностью не прерывают аренду, когда не пользуются самокатом, например, если им нужно дождаться друга, а потом поехать дальше."
   ]
  },
  {
   "cell_type": "markdown",
   "id": "ddc961c4",
   "metadata": {},
   "source": [
    "### 6.2 Можно ли сказать, что среднее расстояние, которое проезжают пользователи с подпиской за одну поездку, не превышает 3130 метров? "
   ]
  },
  {
   "cell_type": "markdown",
   "id": "d8447bf7",
   "metadata": {},
   "source": [
    "Возьмем за нулевую гипотезу следующее утверждение: Пользователи с подпиской в среднем проезжают 3130 метров.\n",
    "\n",
    "Альтернативной гипотезой будет: Пользователи с подпиской проезжают большего оптимального расстояния в 3130 метров.\n"
   ]
  },
  {
   "cell_type": "code",
   "execution_count": 79,
   "id": "beb6d2ca",
   "metadata": {},
   "outputs": [
    {
     "name": "stdout",
     "output_type": "stream",
     "text": [
      "p-значение: 0.9195368847849785\n",
      "Нет оснований отвергнуть нулевую гипотезу.\n"
     ]
    }
   ],
   "source": [
    "check = 3130\n",
    "alpha = 0.05\n",
    "\n",
    "results = st.ttest_1samp(data_ultra['distance'], check, alternative='greater')\n",
    "print('p-значение:', results.pvalue)\n",
    "if results.pvalue < alpha:\n",
    "    print('Нулевая гипотеза отвергается.')\n",
    "else:\n",
    "    print('Нет оснований отвергнуть нулевую гипотезу.')"
   ]
  },
  {
   "cell_type": "markdown",
   "id": "b4e18c71",
   "metadata": {},
   "source": [
    "Нет оснований отвергнуть нулевую гипотезу о том, что пользователи с подпиской проезжают в среднем не более 3130 метров. В таком случае износ самокатов происходит наиболее оптимально, однако это значит, что и время аренды ограничивается. Стоит подумать над тем, как добиться увеличения времени аренды при сохранении расстояния поездки, например ввести режим ожидания: когда самокат не двигается, то каждая минута стоит в два раза дешевле, чем при движении."
   ]
  },
  {
   "cell_type": "markdown",
   "id": "b242871d",
   "metadata": {},
   "source": [
    "### 6.3 Будет ли помесячная выручка от пользователей с подпиской по месяцам выше, чем выручка от пользователей без подписки?"
   ]
  },
  {
   "cell_type": "markdown",
   "id": "3e16b725",
   "metadata": {},
   "source": [
    "Возьмем за нулевую гипотезу следующее утверждение: Помесячная выручка от пользователей с подпиской равна выручке от пользователей без подписки.\n",
    "\n",
    "Альтернативной гипотезой будет: Помесячная выручка от пользователей с подпиской больше помесячной выручки пользователей без подписки.\n"
   ]
  },
  {
   "cell_type": "code",
   "execution_count": 80,
   "id": "78acf10f",
   "metadata": {},
   "outputs": [
    {
     "name": "stdout",
     "output_type": "stream",
     "text": [
      "p-значение равно: 1.8850394384715216e-31\n",
      "Нулевая гипотеза отвергается.\n"
     ]
    }
   ],
   "source": [
    "alpha=0.05\n",
    "\n",
    "results = st.ttest_ind(data_revenue[data_revenue['subscription_fee'] == 199]['revenue'], data_revenue[data_revenue['subscription_fee'] == 0]['revenue'], alternative='greater')\n",
    "print('p-значение равно:', results.pvalue)\n",
    "if results.pvalue < alpha:\n",
    "    print('Нулевая гипотеза отвергается.')\n",
    "else:\n",
    "    print('Нулевая гипотеза не отвергается.')"
   ]
  },
  {
   "cell_type": "markdown",
   "id": "49da7865",
   "metadata": {},
   "source": [
    "Нулевая гипотеза отвергается. Следовательно, выручка от пользователей с подпиской больше чем от пользователей без подписки. Значит целесообразно привлекать пользователей без подписки к её покупке. Например, рассылать им промокоды на первый бесплатный месяц."
   ]
  },
  {
   "cell_type": "markdown",
   "id": "e60bf231",
   "metadata": {},
   "source": [
    "### 6.4 Тест для оценки изменений количества обращений в сервисную службу."
   ]
  },
  {
   "cell_type": "markdown",
   "id": "78362d4b",
   "metadata": {},
   "source": [
    "Техническая команда сервиса обновила сервера, с которыми взаимодействует мобильное приложение. Она надеется, что из-за этого количество обращений в техподдержку значимо снизилось.\n",
    "\n",
    "Так как оценивается один и тот же объект - обращения в техническую поддержку, то выборки по обращениям до и после обновления будут зависимыми. В таком случае необходимо применить тест равенства среднего генеральной совокупности для зависимых (парных) выборок **(метод scipy.stats.ttest_rel())**. \n",
    "\n",
    "Для данной задачи должна быть разработа следующая односторонняя гипотеза:\n",
    "\n",
    "Нулевая гипотеза: количество обращений до и после обновления серверов равно.\n",
    "\n",
    "Альтернативная гипотеза: количество обращений после обновления серверов снизилось."
   ]
  },
  {
   "cell_type": "markdown",
   "id": "61213c5e",
   "metadata": {},
   "source": [
    "## Шаг 7. Распределения"
   ]
  },
  {
   "cell_type": "markdown",
   "id": "72e900c2",
   "metadata": {},
   "source": [
    "### 7.1"
   ]
  },
  {
   "cell_type": "markdown",
   "id": "1a31fb9d",
   "metadata": {},
   "source": [
    "Отделу маркетинга GoFast поставили задачу: нужно провести акцию с раздачей промокодов на один бесплатный месяц подписки, в рамках которой как минимум 100 существующих клиентов должны продлить эту подписку. То есть по завершении периода действия подписки пользователь может либо отказаться от неё, либо продлить, совершив соответствующий платёж. \n",
    "Эта акция уже проводилась ранее и по итогу выяснилось, что после бесплатного пробного периода подписку продлевают 10 % пользователей. Выясните, какое минимальное количество промокодов нужно разослать, чтобы вероятность не выполнить план была примерно 5 %. Подберите параметры распределения, описывающего эту ситуацию, постройте график распределения и сформулируйте ответ на вопрос о количестве промокодов."
   ]
  },
  {
   "cell_type": "code",
   "execution_count": 81,
   "id": "95cd1d51",
   "metadata": {
    "scrolled": true
   },
   "outputs": [
    {
     "name": "stderr",
     "output_type": "stream",
     "text": [
      "/opt/conda/lib/python3.9/site-packages/scipy/stats/_discrete_distns.py:78: RuntimeWarning: divide by zero encountered in _binom_pdf\n",
      "  return _boost._binom_pdf(x, n, p)\n"
     ]
    },
    {
     "data": {
      "image/png": "[encoded data removed]",
      "text/plain": [
       "<Figure size 432x288 with 1 Axes>"
      ]
     },
     "metadata": {
      "needs_background": "light"
     },
     "output_type": "display_data"
    }
   ],
   "source": [
    "distr = []\n",
    "n = 1000\n",
    "k = 100\n",
    "p = 0.1\n",
    "\n",
    "for k in range(0, n + 1):\n",
    "    current_value = binom.pmf(k, n, p)\n",
    "    distr.append(current_value)\n",
    "\n",
    "plt.bar(range(0, n + 1), distr);"
   ]
  },
  {
   "cell_type": "code",
   "execution_count": 82,
   "id": "409b0c2a",
   "metadata": {
    "scrolled": true
   },
   "outputs": [
    {
     "data": {
      "image/png": "[encoded data removed]",
      "text/plain": [
       "<Figure size 432x288 with 1 Axes>"
      ]
     },
     "metadata": {
      "needs_background": "light"
     },
     "output_type": "display_data"
    }
   ],
   "source": [
    "distr = []\n",
    "n = 1000\n",
    "k = 100\n",
    "p = 0.1\n",
    "\n",
    "for k in range(1, n + 2):\n",
    "    current_value = binom.pmf(k, n, p)\n",
    "    distr.append(current_value)\n",
    "\n",
    "plt.bar(range(0, n + 1), distr);"
   ]
  },
  {
   "cell_type": "markdown",
   "id": "ed06743e",
   "metadata": {},
   "source": [
    "При n = 1000, мат.ожидание будет равняться 100. Возьмем такой n за стартовое значение."
   ]
  },
  {
   "cell_type": "code",
   "execution_count": 83,
   "id": "bf366e32",
   "metadata": {},
   "outputs": [
    {
     "data": {
      "text/plain": [
       "0.5"
      ]
     },
     "execution_count": 83,
     "metadata": {},
     "output_type": "execute_result"
    }
   ],
   "source": [
    "mu = n*p\n",
    "sigma = sqrt(n*p*(1-p)) \n",
    "\n",
    "distr_norm = st.norm(mu,sigma)\n",
    "x = 100\n",
    "\n",
    "result = distr_norm.cdf(x)\n",
    "result"
   ]
  },
  {
   "cell_type": "markdown",
   "id": "3cfaffd1",
   "metadata": {},
   "source": [
    "n = 1000 дает вероятность 50% того, что случайная величина будет меньше 100. Однако нам требуется вероятность, что план не будет выполнен равная 5%. Попробуем увеличить количество n."
   ]
  },
  {
   "cell_type": "code",
   "execution_count": 84,
   "id": "a85c3de7",
   "metadata": {},
   "outputs": [],
   "source": [
    "n = 1170"
   ]
  },
  {
   "cell_type": "code",
   "execution_count": 85,
   "id": "ca9fdab1",
   "metadata": {
    "scrolled": true
   },
   "outputs": [
    {
     "data": {
      "text/plain": [
       "0.049"
      ]
     },
     "execution_count": 85,
     "metadata": {},
     "output_type": "execute_result"
    }
   ],
   "source": [
    "mu = n*p\n",
    "sigma = sqrt(n*p*(1-p)) \n",
    "\n",
    "distr_norm = st.norm(mu,sigma)\n",
    "x = 100\n",
    "\n",
    "result = distr_norm.cdf(x)\n",
    "result.round(3)"
   ]
  },
  {
   "cell_type": "markdown",
   "id": "32eb6023",
   "metadata": {},
   "source": [
    "При раздаче 1170 промокодов мы получим нужную нам вероятность невыполнения плана."
   ]
  },
  {
   "cell_type": "markdown",
   "id": "8413557c",
   "metadata": {},
   "source": [
    "### 7.2"
   ]
  },
  {
   "cell_type": "markdown",
   "id": "b3f322f1",
   "metadata": {},
   "source": [
    "Отдел маркетинга рассылает клиентам push-уведомления в мобильном приложении. Клиенты могут открыть его или не открывать. Известно, что уведомления открывают около 40 % получивших клиентов. Отдел планирует разослать 1 млн уведомлений. С помощью аппроксимации постройте примерный график распределения и оцените вероятность того, что уведомление откроют не более 399,5 тыс. пользователей."
   ]
  },
  {
   "cell_type": "code",
   "execution_count": 86,
   "id": "b8736cd7",
   "metadata": {},
   "outputs": [
    {
     "name": "stdout",
     "output_type": "stream",
     "text": [
      "Условие выполняется\n"
     ]
    }
   ],
   "source": [
    "from scipy import stats as st\n",
    "\n",
    "n=1000000 # количество экспериментов\n",
    "p=0.4 # вероятность успеха\n",
    "k=399500 # количество успешных экспериментов\n",
    "\n",
    "# математическое ожидание\n",
    "mu = 400000\n",
    "# стандартное отклонение\n",
    "sigma = 490\n",
    "\n",
    "# задаём нормальное распределение с математическим ожиданием 1000 \n",
    "# и стандартным отклонением 100\n",
    "distr = st.norm(mu, sigma) \n",
    "\n",
    "# значение, для которого хотим найти вероятность\n",
    "x = 399500\n",
    "\n",
    "\n",
    "# Проверим качество аппроксимации\n",
    "if (mu - (3 * sigma) >= 0) and ((mu + (3 * sigma) <= n)):\n",
    "    print('Условие выполняется')\n",
    "else:\n",
    "    print('Условие не выполняется')"
   ]
  },
  {
   "cell_type": "code",
   "execution_count": 87,
   "id": "4bc94f97",
   "metadata": {
    "scrolled": true
   },
   "outputs": [
    {
     "name": "stdout",
     "output_type": "stream",
     "text": [
      "0.15376746196860203\n"
     ]
    }
   ],
   "source": [
    "result = distr.cdf(399500) # расчет вероятности, что будет открыто менее 399500 уведомлений.\n",
    "print(result)"
   ]
  },
  {
   "cell_type": "markdown",
   "id": "9ac0dbcd",
   "metadata": {},
   "source": [
    "Вероятность того, что уведомление откроют не более 399500 пользователей составляет 15.3%. В целом с большой долей вероятности (около 85%) можно считать, что более 600000 человек откроют рассылку, если цель была такой, то увеличивать количество получателей не требуется. "
   ]
  },
  {
   "cell_type": "code",
   "execution_count": 88,
   "id": "04024ed0",
   "metadata": {
    "scrolled": true
   },
   "outputs": [
    {
     "name": "stdout",
     "output_type": "stream",
     "text": [
      "1.0\n"
     ]
    }
   ],
   "source": [
    "n=1000000 # количество экспериментов\n",
    "p=0.4 # вероятность успеха\n",
    "k=399500 # количество успешных экспериментов\n",
    "\n",
    "# математическое ожидание\n",
    "mu = 400000\n",
    "# стандартное отклонение\n",
    "sigma = 490\n",
    "\n",
    "# задаём нормальное распределение с математическим ожиданием 1000 \n",
    "# и стандартным отклонением 100\n",
    "distr = st.norm(mu, sigma) \n",
    "\n",
    "# значение, для которого хотим найти вероятность\n",
    "x = 399500\n",
    "\n",
    "result = distr.cdf(600_000) # расчет вероятности, что будет открыто менее 399500 уведомлений.\n",
    "print(result)"
   ]
  },
  {
   "cell_type": "markdown",
   "id": "f697d17d",
   "metadata": {},
   "source": [
    "## ОБЩИЙ ВЫВОД"
   ]
  },
  {
   "attachments": {
    "image-2.png": {
     "image/png": "[encoded data removed]"
    },
    "image-3.png": {
     "image/png": "[encoded data removed]"
    },
    "image-4.png": {
     "image/png": "[encoded data removed]"
    },
    "image-5.png": {
     "image/png": "[encoded data removed]"
    },
    "image-6.png": {
     "image/png": "[encoded data removed]"
    },
    "image-7.png": {
     "image/png": "[encoded data removed]"
    },
    "image-8.png": {
     "image/png": "[encoded data removed]"
    },
    "image-9.png": {
     "image/png": "[encoded data removed]"
    },
    "image.png": {
     "image/png": "[encoded data removed]"
    }
   },
   "cell_type": "markdown",
   "id": "dfd4141e",
   "metadata": {},
   "source": [
    "Нами проводился анализ данных сервиса по аренде самокатов. В нашем распоряжении были следующие данные:\n",
    "\n",
    "**Датафрейм 1:**\n",
    "- `user_id` - уникальный идентификатор пользователя\n",
    "- `name` - имя пользователя\n",
    "- `age` - возраст\n",
    "- `city` - город\n",
    "- `subscription_type` - тип подписки (free, ultra)\n",
    "\n",
    "**Датафрейм 2:**\n",
    "- `user_id` - уникальный идентификатор пользователя\n",
    "- `distance` -\tрасстояние, которое пользователь проехал в текущей сессии (в метрах)\n",
    "- `duration` -\tпродолжительность сессии (в минутах) — время с того момента, как пользователь нажал кнопку «Начать поездку» до момента, как он нажал кнопку «Завершить поездку»\n",
    "- `date` -\tдата совершения поездки *(в наличии данные за 2021 год)*\n",
    "\n",
    "**Датафрейм 3:**\n",
    "- `subscription_type`\tтип подписки\n",
    "- `minute_price` -\tстоимость одной минуты поездки по данной подписке\n",
    "- `start_ride_price` -\tстоимость начала поездки\n",
    "- `subscription_fee` -\tстоимость ежемесячного платежа\n",
    "\n",
    "[После первого рассмотрения данных стоит выделить основные моменты:](#download)\n",
    "\n",
    "1) В датафрейме с информацией о пользователях 1565 строк, то есть дана информация о 1565 пользователях, однако, необходимо проверить датафрейм на дубликаты. В этом датафрейме для данных указаны подходящие типы данных, дополнительных действий с ним не требуется.\n",
    "\n",
    "2) В датафрейме с информацией о поездках 18068 строк. Эти данные также требуется проверить на наличие дубликатов. Изначально столбец, содержащий дату поездки был представлен в формат object, однако на этапе загрузки данных мы перевели его в корректный формат даты. Также информация о длительности поездки и расстоянии даны с точностью 6 знаков после запятой, такая точность в целом излишне, но пока оставим данные в исходном виде и округлим их в случае необходимости.\n",
    "\n",
    "3) Датафрейм с информацией о подписках содержит всего 2 строки. Одна строка с информацией о цене старта, цене за минуту и плате за подписку для владельцев подписки, а вторая - с аналогичной информацией для пользователей без подписки.\n",
    "\n",
    "**[На этапе предобработки данных проведены следующие действия:](#preproc)**\n",
    "\n",
    "* В датафрейм `data_rides` добавлен столбец `ride_month`, содержащий информацию о порядковом номере месяца, в котором была совершена поездка\n",
    "* Проведена проверка на наличие пропусков. Пропуски отсутствуют.\n",
    "* Проведена проверка на наличие дубликатов. Обнаружены и удалены 31 дубликат в столбце `data_users`\n",
    "\n",
    "**[На этапе исследовательского анализа данных нами проведены следующие действия:](#data_analysis)**\n",
    "\n",
    "* Проведена оценка встречаемости городов, в которых брали в аренду самокаты. \n",
    "![image.png](attachment:image.png)\n",
    "Всего 8 городов. Больше всего пользователей в Пятигорске - **219**, а меньше всего в Москве - **168**. В процентах это около 2.5% разницы. Однако самый непопулярный город - Москва, имеющий огромный потенциал для развития. Стоит обратить внимание на этот город и провести рекламную акцию для москвичей, а также подумать над расширением бизнеса там.\n",
    "* Определено соотношение пользователей с подпиской и без подписки. \n",
    "![image-2.png](attachment:image-2.png)\n",
    "Соотношение равно 54.4% пользователей без подписки и 46.6% пользователей с подпиской.\n",
    "* Определен возраст пользователей. \n",
    "![image-3.png](attachment:image-3.png)\n",
    "Сервисом пользуются люди **от 12 до 43 лет**, также можно обратить внимание, что возраст распределяется нормально, что говорит о хорошем качестве данных. Значения меньше 13 и больше 37 лет признаны выбросами, однако оставлены для дальнейшего исследования. Пик приходится на 25 лет. Следует разрабатывать рекламные акции, а также тарифы с расчетом на целевую аудиторию в диапазоне 20 - 30 лет. Например: скидки для студентов, размещение парковок самокатов около университетов и так далее.\n",
    "* Оценено расстояние, которое пользователи преодолевают за поездку. \n",
    "![image-4.png](attachment:image-4.png)\n",
    "Среднее расстояние равно **3071 метр** за поездку. Большая часть поездок имеют расстояние **от 2000 до 5000 метров**. поездки **короче 110 и длиннее 5750 метров** признаны выбросами. На графике заметны два пика: большой в районе **3100 метров** и малый в районе **700 метров**. Можно предположить, что пик в районе 3100 метров вызван тем, что это расстояние, для преодоления которого люди с наибольшей вероятностью воспользуются арендой самоката, так как меньшее расстояние можно пройти пешком, а чтобы преодолеть большее расстояние, целесообразнее уже заказать такси/поехать на общественном транспорте. Исходя из этого предположения стоит рассмтотреть возможность размещения самокатов там, где люди с большей вероятностью возьмут самокат не с целью добраться до какой-либо точки, а чтобы просто покататься, например у входов в парки. Пик в районе 700 метров - это скорее всего первые пробные поездки. В таком случае требуется сделать эти пробные метры наиболее привлекательными, например первые 1000 метров будут стоить дешевле или вообще бесплатными.\n",
    "* Оценена продолжительность поездок. \n",
    "![image-5.png](attachment:image-5.png)\n",
    "Средняя продолжительность поездки составила около **18 минут**. Длительность поездок не превышает **40 минут**. Определено, что поездки **короче 1.5 и длиннее 34 минут** являются выбросами. Стоит рассмотреть возможность ограничения скорости самокатов в пешеходных зонах, парках и например в радиусе 300 метров от школ, детских садов, с одной стороны это повысит безопасность, а с другой увеличит время, за которое человек сможет преодолеть необходимое емк расстояние, что повысит выручку.\n",
    "\n",
    "**[На этапе объединения данных:](#join)** \n",
    "\n",
    "Нами сформирован единый датафрейм, в котором хранится информация об id пользователя, его имени, возрасте, городе, наличии/отсутствии подписки, а также сведения о расстоянии и длительности его поездок, дате совершения поездок и порядковом номере месяца, когда была совершена поездка. Также были созданы два датафрейма с информацией о пользователях с подпиской и без подписки. Проведена проверка, в результате которой установлено, что объединение данных в единый датафрейм и последующее его разделение по параметру наличия подписки не привело к потере строк или возникновению пропусков.\n",
    "\n",
    "Также сформированы гистограммы, отображающие информацию о расстоянии и продолжительности поездок.\n",
    "![image-6.png](attachment:image-6.png)\n",
    "\n",
    "![image-7.png](attachment:image-7.png)\n",
    "\n",
    "Из полученной гистограммы  с информацией о продолжительности поездок мы видим, что распределение по времени поездок у пользователей с подпиской и пользователей без подписки в целом одинаковое, среднее время поездки для обеих групп составляет примерно **18 минут**, но пользователи с подпиской ездят как минимум **4 минуты**, в то время как у пользователей без подписки есть поездки длительностью даже меньше минуты. Это связано с тем, что среди пользователей без подписки есть те, кто пробует поездки на электросамокатах впервые, и, возможно, этот опыт не всегда удачный. Стоит подумать, как можно сделать первый опыт поездки на самокате более комфортным. Например, размещение на самокате инструкций по безопасному катанию для новичков или распространение обучающих видео. Также можно заметить, что длительность поездок пользователей без подписки состовляет не более **35 минут**, в то время как у пользователей с подпиской есть поездки даже дольше **40 минут**, хотя эта доля незначительная и является по сути, выбросом. Однако, это говорит нам о том, что возможно есть люди, которые рассматривают самокаты, как полноценное средство передвижения, что является для нас потенциальной точкой роста.\n",
    "\n",
    "Распределение среднего расстояния пользователей с подпиской и без подписки в целом похоже. Для обеих групп характерен провал по количеству поездок на расстояние около **2000 метров**. Также для пользователей без подписки характерны короткие поездки **не более 500 метров**, это связано с пробными поездками. Также для обеих групп наиболее распространенное расстояние поездки - это **3000 метров**. У группы людей без подписки также присутствуют выбросы на **6000 метров** и даже на **7000 метров**.\n",
    "\n",
    "**[На этапе подсчета выручки](#revenue)** нами были добавлены сведения о цене минут, старта поездки и ежемесячном платеже для всех пользователей (как с подпиской, так и без нее), а также длительность поездок округлена до минут в большую сторону для корректного расчета выручки.\n",
    "\n",
    "![image-8.png](attachment:image-8.png)\n",
    "\n",
    "На основе имеющейся информации нами была расчитана ежемесячная выручка для каждого пользователя.\n",
    "\n",
    "![image-9.png](attachment:image-9.png)\n",
    "\n",
    "Суммарная выручка за 2021 год составила **3878641 рублей**.\n",
    "\n",
    "На **[этапе проверки гпиотез](#check)** нами были проверены следующие гипотезы:\n",
    "\n",
    "- *Тратят ли пользователи с подпиской больше времени на поездки?*. \n",
    "\n",
    "За нулевую гипотезу нами было принято, что пользователи с подпиской тратят столько же времени на поездки, сколько и пользователи без подписки. Альтернативной гипотезой являлось, что пользователи с подпиской тратят больше времени на поездки. По итогам проведенного тестирования нулевая гипотеза была опровергнута. Пользователи с подпиской больше времени проводят, используя самокаты. Это выгодно для бизнеса, так как каждая минута оплачивается, также с учетом того, что пользователи с подпиской платят меньше за каждую минуту, можно предположить, что они с большей вероятностью не прерывают аренду, когда не пользуются самокатом, например, если им нужно дождаться друга, а потом поехать дальше.\n",
    "\n",
    "- *Можно ли сказать, что среднее расстояние, которое проезжают пользователи с подпиской за одну поездку, не превышает 3130 метров?*. \n",
    "\n",
    "За нулевую гипотезу было взято, что пользователи с подпиской в среднем проезжают 3130 метров. Альтернативной гипотезой было: Пользователи с подпиской проезжают больше оптимального с точки зрения износа самокатов расстояния в 3130 метров. По итогам тестирования нет оснований отвергнуть нулевую гипотезу о том, что пользователи с подпиской проезжают в среднем не более 3130 метров. В таком случае износ самокатов происходит наиболее оптимально, однако это значит, что и время аренды ограничивается. Стоит подумать над тем, как добиться увеличения времени аренды при сохранении расстояния поездки, например ввести режим ожидания: когда самокат не двигается, то каждая минута стоит в два раза дешевле, чем при движении.\n",
    "\n",
    "- *Будет ли помесячная выручка от пользователей с подпиской по месяцам выше, чем выручка от пользователей без подписки?* \n",
    "\n",
    "Нулевой гипотезой являлось следующее утверждение: Помесячная выручка от пользователей с подпиской равна выручке от пользователей без подписки. Альтернативная гипотеза была: Помесячная выручка от пользователей с подпиской больше помесячной выручки пользователей без подписки. По итогам тестирования нулевая гипотеза была отвергнута, Нулевая гипотеза отвергается. Следовательно, выручка от пользователей с подпиской больше чем от пользователей без подписки. Значит целесообразно привлекать пользователей без подписки к её покупке. Например, рассылать им промокоды на первый бесплатный месяц."
   ]
  }
 ],
 "metadata": {
  "ExecuteTimeLog": [
   {
    "duration": 46,
    "start_time": "2023-10-09T17:28:01.993Z"
   },
   {
    "duration": 356,
    "start_time": "2023-10-09T17:28:06.109Z"
   },
   {
    "duration": 114,
    "start_time": "2023-10-09T17:28:08.018Z"
   },
   {
    "duration": 89,
    "start_time": "2023-10-09T17:29:47.323Z"
   },
   {
    "duration": 39,
    "start_time": "2023-10-09T17:29:57.029Z"
   },
   {
    "duration": 31,
    "start_time": "2023-10-09T17:30:26.852Z"
   },
   {
    "duration": 70,
    "start_time": "2023-10-09T17:30:32.430Z"
   },
   {
    "duration": 87,
    "start_time": "2023-10-09T17:33:25.531Z"
   },
   {
    "duration": 69,
    "start_time": "2023-10-09T17:33:53.324Z"
   },
   {
    "duration": 305,
    "start_time": "2023-10-09T17:34:43.254Z"
   },
   {
    "duration": 210,
    "start_time": "2023-10-09T17:34:55.889Z"
   },
   {
    "duration": 11,
    "start_time": "2023-10-09T17:37:13.076Z"
   },
   {
    "duration": 9,
    "start_time": "2023-10-09T17:38:14.622Z"
   },
   {
    "duration": 12,
    "start_time": "2023-10-09T17:40:29.097Z"
   },
   {
    "duration": 10,
    "start_time": "2023-10-09T17:41:20.947Z"
   },
   {
    "duration": 10,
    "start_time": "2023-10-09T17:41:40.866Z"
   },
   {
    "duration": 8,
    "start_time": "2023-10-09T17:41:56.576Z"
   },
   {
    "duration": 1023,
    "start_time": "2023-10-09T17:45:04.465Z"
   },
   {
    "duration": 6,
    "start_time": "2023-10-09T17:45:22.866Z"
   },
   {
    "duration": 57,
    "start_time": "2023-10-09T17:45:32.200Z"
   },
   {
    "duration": 15,
    "start_time": "2023-10-09T17:45:38.223Z"
   },
   {
    "duration": 13,
    "start_time": "2023-10-09T17:45:49.473Z"
   },
   {
    "duration": 22,
    "start_time": "2023-10-09T17:46:05.704Z"
   },
   {
    "duration": 19,
    "start_time": "2023-10-09T17:47:19.980Z"
   },
   {
    "duration": 19,
    "start_time": "2023-10-09T17:47:53.222Z"
   },
   {
    "duration": 9,
    "start_time": "2023-10-09T17:50:46.175Z"
   },
   {
    "duration": 8,
    "start_time": "2023-10-09T17:51:11.904Z"
   },
   {
    "duration": 5,
    "start_time": "2023-10-09T17:53:04.409Z"
   },
   {
    "duration": 7,
    "start_time": "2023-10-09T17:53:10.661Z"
   },
   {
    "duration": 6,
    "start_time": "2023-10-09T18:00:51.760Z"
   },
   {
    "duration": 6,
    "start_time": "2023-10-09T18:01:03.474Z"
   },
   {
    "duration": 5,
    "start_time": "2023-10-09T18:01:18.234Z"
   },
   {
    "duration": 6,
    "start_time": "2023-10-09T18:02:36.398Z"
   },
   {
    "duration": 5,
    "start_time": "2023-10-09T18:02:42.446Z"
   },
   {
    "duration": 8,
    "start_time": "2023-10-09T18:03:10.633Z"
   },
   {
    "duration": 14,
    "start_time": "2023-10-09T18:04:48.623Z"
   },
   {
    "duration": 6,
    "start_time": "2023-10-09T18:05:16.788Z"
   },
   {
    "duration": 4,
    "start_time": "2023-10-09T18:07:04.614Z"
   },
   {
    "duration": 8,
    "start_time": "2023-10-09T18:08:01.256Z"
   },
   {
    "duration": 7,
    "start_time": "2023-10-09T18:08:38.379Z"
   },
   {
    "duration": 17,
    "start_time": "2023-10-09T18:08:44.288Z"
   },
   {
    "duration": 13,
    "start_time": "2023-10-09T18:09:05.998Z"
   },
   {
    "duration": 9,
    "start_time": "2023-10-09T18:09:22.075Z"
   },
   {
    "duration": 7,
    "start_time": "2023-10-09T18:09:26.943Z"
   },
   {
    "duration": 6,
    "start_time": "2023-10-09T18:10:15.119Z"
   },
   {
    "duration": 5,
    "start_time": "2023-10-09T18:11:59.843Z"
   },
   {
    "duration": 5,
    "start_time": "2023-10-09T18:12:11.489Z"
   },
   {
    "duration": 375,
    "start_time": "2023-10-09T18:12:29.771Z"
   },
   {
    "duration": 173,
    "start_time": "2023-10-09T18:12:30.148Z"
   },
   {
    "duration": 11,
    "start_time": "2023-10-09T18:12:30.323Z"
   },
   {
    "duration": 37,
    "start_time": "2023-10-09T18:12:30.336Z"
   },
   {
    "duration": 39,
    "start_time": "2023-10-09T18:12:30.375Z"
   },
   {
    "duration": 51,
    "start_time": "2023-10-09T18:12:30.416Z"
   },
   {
    "duration": 41,
    "start_time": "2023-10-09T18:12:30.469Z"
   },
   {
    "duration": 47,
    "start_time": "2023-10-09T18:12:30.512Z"
   },
   {
    "duration": 55,
    "start_time": "2023-10-09T18:12:30.561Z"
   },
   {
    "duration": 36,
    "start_time": "2023-10-09T18:12:30.619Z"
   },
   {
    "duration": 61,
    "start_time": "2023-10-09T18:12:30.657Z"
   },
   {
    "duration": 33,
    "start_time": "2023-10-09T18:12:30.720Z"
   },
   {
    "duration": 21,
    "start_time": "2023-10-09T18:12:30.755Z"
   },
   {
    "duration": 30,
    "start_time": "2023-10-09T18:12:30.778Z"
   },
   {
    "duration": 33,
    "start_time": "2023-10-09T18:12:30.810Z"
   },
   {
    "duration": 49,
    "start_time": "2023-10-09T18:12:30.845Z"
   },
   {
    "duration": 28,
    "start_time": "2023-10-09T18:12:30.896Z"
   },
   {
    "duration": 78,
    "start_time": "2023-10-09T18:12:30.926Z"
   },
   {
    "duration": 5,
    "start_time": "2023-10-09T18:16:41.427Z"
   },
   {
    "duration": 3,
    "start_time": "2023-10-09T18:16:42.452Z"
   },
   {
    "duration": 7,
    "start_time": "2023-10-09T18:16:44.395Z"
   },
   {
    "duration": 7,
    "start_time": "2023-10-09T18:18:45.553Z"
   },
   {
    "duration": 64,
    "start_time": "2023-10-09T18:20:01.611Z"
   },
   {
    "duration": 24285,
    "start_time": "2023-10-09T18:21:17.609Z"
   },
   {
    "duration": 178,
    "start_time": "2023-10-09T18:21:46.359Z"
   },
   {
    "duration": 4,
    "start_time": "2023-10-09T18:22:05.230Z"
   },
   {
    "duration": 85,
    "start_time": "2023-10-09T18:22:11.392Z"
   },
   {
    "duration": 131,
    "start_time": "2023-10-09T18:22:29.719Z"
   },
   {
    "duration": 128,
    "start_time": "2023-10-09T18:22:52.618Z"
   },
   {
    "duration": 121,
    "start_time": "2023-10-09T18:24:06.812Z"
   },
   {
    "duration": 131,
    "start_time": "2023-10-09T18:24:13.442Z"
   },
   {
    "duration": 121,
    "start_time": "2023-10-09T18:24:18.059Z"
   },
   {
    "duration": 115,
    "start_time": "2023-10-09T18:25:49.177Z"
   },
   {
    "duration": 122,
    "start_time": "2023-10-09T18:26:24.287Z"
   },
   {
    "duration": 128,
    "start_time": "2023-10-09T18:26:31.167Z"
   },
   {
    "duration": 134,
    "start_time": "2023-10-09T18:26:58.049Z"
   },
   {
    "duration": 134,
    "start_time": "2023-10-09T18:27:23.666Z"
   },
   {
    "duration": 142,
    "start_time": "2023-10-09T18:27:30.021Z"
   },
   {
    "duration": 129,
    "start_time": "2023-10-09T18:28:24.306Z"
   },
   {
    "duration": 139,
    "start_time": "2023-10-09T18:29:28.785Z"
   },
   {
    "duration": 151,
    "start_time": "2023-10-09T18:29:47.181Z"
   },
   {
    "duration": 135,
    "start_time": "2023-10-09T18:30:01.555Z"
   },
   {
    "duration": 147,
    "start_time": "2023-10-09T18:30:37.260Z"
   },
   {
    "duration": 153,
    "start_time": "2023-10-09T18:30:43.950Z"
   },
   {
    "duration": 135,
    "start_time": "2023-10-09T18:30:57.194Z"
   },
   {
    "duration": 128,
    "start_time": "2023-10-09T18:31:18.479Z"
   },
   {
    "duration": 131,
    "start_time": "2023-10-09T18:31:24.524Z"
   },
   {
    "duration": 147,
    "start_time": "2023-10-09T18:31:39.677Z"
   },
   {
    "duration": 14,
    "start_time": "2023-10-09T18:36:27.691Z"
   },
   {
    "duration": 6,
    "start_time": "2023-10-09T18:36:44.603Z"
   },
   {
    "duration": 8,
    "start_time": "2023-10-09T18:36:48.253Z"
   },
   {
    "duration": 7,
    "start_time": "2023-10-09T18:37:02.396Z"
   },
   {
    "duration": 5,
    "start_time": "2023-10-09T18:37:05.401Z"
   },
   {
    "duration": 5,
    "start_time": "2023-10-09T18:37:10.111Z"
   },
   {
    "duration": 6,
    "start_time": "2023-10-09T18:37:12.603Z"
   },
   {
    "duration": 5,
    "start_time": "2023-10-09T18:37:30.848Z"
   },
   {
    "duration": 8,
    "start_time": "2023-10-09T18:37:41.673Z"
   },
   {
    "duration": 10,
    "start_time": "2023-10-09T18:44:56.615Z"
   },
   {
    "duration": 17,
    "start_time": "2023-10-09T18:45:40.382Z"
   },
   {
    "duration": 13,
    "start_time": "2023-10-09T18:45:49.558Z"
   },
   {
    "duration": 8,
    "start_time": "2023-10-09T18:46:10.020Z"
   },
   {
    "duration": 12,
    "start_time": "2023-10-09T18:46:43.766Z"
   },
   {
    "duration": 8,
    "start_time": "2023-10-09T18:47:28.121Z"
   },
   {
    "duration": 11,
    "start_time": "2023-10-09T18:47:48.887Z"
   },
   {
    "duration": 11,
    "start_time": "2023-10-09T18:48:03.966Z"
   },
   {
    "duration": 10,
    "start_time": "2023-10-09T18:49:06.899Z"
   },
   {
    "duration": 16,
    "start_time": "2023-10-09T18:49:14.059Z"
   },
   {
    "duration": 7,
    "start_time": "2023-10-09T18:50:29.560Z"
   },
   {
    "duration": 7,
    "start_time": "2023-10-09T18:50:37.241Z"
   },
   {
    "duration": 4,
    "start_time": "2023-10-09T18:50:58.569Z"
   },
   {
    "duration": 89,
    "start_time": "2023-10-09T18:51:02.987Z"
   },
   {
    "duration": 92,
    "start_time": "2023-10-09T18:51:35.736Z"
   },
   {
    "duration": 102,
    "start_time": "2023-10-09T18:52:00.026Z"
   },
   {
    "duration": 96,
    "start_time": "2023-10-09T18:52:09.173Z"
   },
   {
    "duration": 92,
    "start_time": "2023-10-09T18:52:48.815Z"
   },
   {
    "duration": 454,
    "start_time": "2023-10-09T18:53:03.623Z"
   },
   {
    "duration": 12,
    "start_time": "2023-10-09T18:54:23.643Z"
   },
   {
    "duration": 13,
    "start_time": "2023-10-09T18:54:45.185Z"
   },
   {
    "duration": 12,
    "start_time": "2023-10-09T18:54:54.688Z"
   },
   {
    "duration": 9,
    "start_time": "2023-10-09T18:55:31.385Z"
   },
   {
    "duration": 7,
    "start_time": "2023-10-09T18:55:37.559Z"
   },
   {
    "duration": 9,
    "start_time": "2023-10-09T18:55:45.672Z"
   },
   {
    "duration": 13,
    "start_time": "2023-10-09T18:55:55.375Z"
   },
   {
    "duration": 11,
    "start_time": "2023-10-09T18:56:05.930Z"
   },
   {
    "duration": 9,
    "start_time": "2023-10-09T18:57:04.755Z"
   },
   {
    "duration": 11,
    "start_time": "2023-10-09T18:57:16.049Z"
   },
   {
    "duration": 12,
    "start_time": "2023-10-09T18:57:26.681Z"
   },
   {
    "duration": 11,
    "start_time": "2023-10-09T18:58:08.958Z"
   },
   {
    "duration": 8,
    "start_time": "2023-10-09T18:58:19.245Z"
   },
   {
    "duration": 12,
    "start_time": "2023-10-09T18:58:28.435Z"
   },
   {
    "duration": 12,
    "start_time": "2023-10-09T18:58:59.727Z"
   },
   {
    "duration": 11,
    "start_time": "2023-10-09T18:59:34.786Z"
   },
   {
    "duration": 9,
    "start_time": "2023-10-09T18:59:37.267Z"
   },
   {
    "duration": 106,
    "start_time": "2023-10-09T18:59:40.469Z"
   },
   {
    "duration": 121,
    "start_time": "2023-10-09T19:00:03.967Z"
   },
   {
    "duration": 101,
    "start_time": "2023-10-09T19:00:13.227Z"
   },
   {
    "duration": 96,
    "start_time": "2023-10-09T19:00:29.793Z"
   },
   {
    "duration": 95,
    "start_time": "2023-10-09T19:00:46.693Z"
   },
   {
    "duration": 92,
    "start_time": "2023-10-09T19:00:57.512Z"
   },
   {
    "duration": 90,
    "start_time": "2023-10-09T19:01:03.376Z"
   },
   {
    "duration": 97,
    "start_time": "2023-10-09T19:01:08.424Z"
   },
   {
    "duration": 106,
    "start_time": "2023-10-09T19:01:13.638Z"
   },
   {
    "duration": 105,
    "start_time": "2023-10-09T19:01:18.359Z"
   },
   {
    "duration": 115,
    "start_time": "2023-10-09T19:01:30.771Z"
   },
   {
    "duration": 104,
    "start_time": "2023-10-09T19:02:03.674Z"
   },
   {
    "duration": 107,
    "start_time": "2023-10-09T19:02:14.271Z"
   },
   {
    "duration": 98,
    "start_time": "2023-10-09T19:03:53.759Z"
   },
   {
    "duration": 12,
    "start_time": "2023-10-09T19:05:50.432Z"
   },
   {
    "duration": 265,
    "start_time": "2023-10-09T19:06:47.995Z"
   },
   {
    "duration": 233,
    "start_time": "2023-10-09T19:07:06.758Z"
   },
   {
    "duration": 192,
    "start_time": "2023-10-09T19:07:39.511Z"
   },
   {
    "duration": 160,
    "start_time": "2023-10-09T19:07:47.084Z"
   },
   {
    "duration": 168,
    "start_time": "2023-10-09T19:07:53.469Z"
   },
   {
    "duration": 159,
    "start_time": "2023-10-09T19:07:58.068Z"
   },
   {
    "duration": 174,
    "start_time": "2023-10-09T19:08:02.337Z"
   },
   {
    "duration": 142,
    "start_time": "2023-10-09T19:08:07.804Z"
   },
   {
    "duration": 149,
    "start_time": "2023-10-09T19:08:11.665Z"
   },
   {
    "duration": 145,
    "start_time": "2023-10-09T19:08:26.923Z"
   },
   {
    "duration": 173,
    "start_time": "2023-10-09T19:09:04.191Z"
   },
   {
    "duration": 224,
    "start_time": "2023-10-09T19:10:12.214Z"
   },
   {
    "duration": 223,
    "start_time": "2023-10-09T19:10:24.617Z"
   },
   {
    "duration": 228,
    "start_time": "2023-10-09T19:11:16.087Z"
   },
   {
    "duration": 222,
    "start_time": "2023-10-09T19:11:27.350Z"
   },
   {
    "duration": 74,
    "start_time": "2023-10-09T19:11:58.161Z"
   },
   {
    "duration": 105,
    "start_time": "2023-10-09T19:13:31.162Z"
   },
   {
    "duration": 62,
    "start_time": "2023-10-09T19:14:04.420Z"
   },
   {
    "duration": 107,
    "start_time": "2023-10-09T19:14:12.392Z"
   },
   {
    "duration": 105,
    "start_time": "2023-10-09T19:14:23.302Z"
   },
   {
    "duration": 186,
    "start_time": "2023-10-09T19:14:54.143Z"
   },
   {
    "duration": 113,
    "start_time": "2023-10-09T19:15:46.119Z"
   },
   {
    "duration": 102,
    "start_time": "2023-10-09T19:15:59.191Z"
   },
   {
    "duration": 221,
    "start_time": "2023-10-09T19:16:41.087Z"
   },
   {
    "duration": 66,
    "start_time": "2023-10-09T19:16:45.618Z"
   },
   {
    "duration": 224,
    "start_time": "2023-10-09T19:16:54.995Z"
   },
   {
    "duration": 227,
    "start_time": "2023-10-09T19:17:31.687Z"
   },
   {
    "duration": 248,
    "start_time": "2023-10-09T19:18:05.616Z"
   },
   {
    "duration": 69,
    "start_time": "2023-10-09T19:19:49.891Z"
   },
   {
    "duration": 240,
    "start_time": "2023-10-09T19:19:54.535Z"
   },
   {
    "duration": 11,
    "start_time": "2023-10-09T20:24:58.619Z"
   },
   {
    "duration": 12,
    "start_time": "2023-10-09T20:30:06.234Z"
   },
   {
    "duration": 12,
    "start_time": "2023-10-09T20:30:29.880Z"
   },
   {
    "duration": 15,
    "start_time": "2023-10-09T20:30:48.554Z"
   },
   {
    "duration": 18132,
    "start_time": "2023-10-09T20:31:20.907Z"
   },
   {
    "duration": 17917,
    "start_time": "2023-10-09T20:32:12.279Z"
   },
   {
    "duration": 264,
    "start_time": "2023-10-09T20:34:57.183Z"
   },
   {
    "duration": 549,
    "start_time": "2023-10-09T20:35:04.984Z"
   },
   {
    "duration": 534,
    "start_time": "2023-10-09T20:35:25.316Z"
   },
   {
    "duration": 622,
    "start_time": "2023-10-09T20:36:23.683Z"
   },
   {
    "duration": 5,
    "start_time": "2023-10-09T20:43:37.263Z"
   },
   {
    "duration": 5,
    "start_time": "2023-10-09T20:43:50.129Z"
   },
   {
    "duration": 1242,
    "start_time": "2023-10-09T20:45:34.880Z"
   },
   {
    "duration": 609,
    "start_time": "2023-10-09T20:46:28.796Z"
   },
   {
    "duration": 503,
    "start_time": "2023-10-09T20:46:48.124Z"
   },
   {
    "duration": 537,
    "start_time": "2023-10-09T20:47:19.619Z"
   },
   {
    "duration": 549,
    "start_time": "2023-10-09T20:48:16.116Z"
   },
   {
    "duration": 515,
    "start_time": "2023-10-09T20:48:23.416Z"
   },
   {
    "duration": 525,
    "start_time": "2023-10-09T20:48:27.304Z"
   },
   {
    "duration": 8,
    "start_time": "2023-10-09T20:50:32.780Z"
   },
   {
    "duration": 140,
    "start_time": "2023-10-09T20:50:41.091Z"
   },
   {
    "duration": 5,
    "start_time": "2023-10-09T20:50:46.519Z"
   },
   {
    "duration": 5,
    "start_time": "2023-10-09T20:51:19.187Z"
   },
   {
    "duration": 8,
    "start_time": "2023-10-09T20:52:56.622Z"
   },
   {
    "duration": 65,
    "start_time": "2023-10-09T20:55:39.983Z"
   },
   {
    "duration": 11,
    "start_time": "2023-10-09T20:55:56.305Z"
   },
   {
    "duration": 25,
    "start_time": "2023-10-09T20:56:09.129Z"
   },
   {
    "duration": 26,
    "start_time": "2023-10-09T20:56:30.195Z"
   },
   {
    "duration": 32,
    "start_time": "2023-10-09T20:57:13.174Z"
   },
   {
    "duration": 67,
    "start_time": "2023-10-09T20:58:26.875Z"
   },
   {
    "duration": 100,
    "start_time": "2023-10-09T20:58:43.879Z"
   },
   {
    "duration": 18,
    "start_time": "2023-10-09T20:58:55.110Z"
   },
   {
    "duration": 17,
    "start_time": "2023-10-09T20:59:10.731Z"
   },
   {
    "duration": 3,
    "start_time": "2023-10-09T20:59:20.211Z"
   },
   {
    "duration": 14,
    "start_time": "2023-10-09T20:59:31.538Z"
   },
   {
    "duration": 23,
    "start_time": "2023-10-09T20:59:35.477Z"
   },
   {
    "duration": 202,
    "start_time": "2023-10-09T21:00:48.305Z"
   },
   {
    "duration": 26,
    "start_time": "2023-10-09T21:01:09.586Z"
   },
   {
    "duration": 15,
    "start_time": "2023-10-09T21:01:23.579Z"
   },
   {
    "duration": 25,
    "start_time": "2023-10-09T21:01:30.443Z"
   },
   {
    "duration": 184,
    "start_time": "2023-10-09T21:02:03.633Z"
   },
   {
    "duration": 187,
    "start_time": "2023-10-09T21:02:23.544Z"
   },
   {
    "duration": 143,
    "start_time": "2023-10-09T21:02:43.125Z"
   },
   {
    "duration": 162,
    "start_time": "2023-10-09T21:02:59.783Z"
   },
   {
    "duration": 161,
    "start_time": "2023-10-09T21:03:22.228Z"
   },
   {
    "duration": 172,
    "start_time": "2023-10-09T21:03:39.091Z"
   },
   {
    "duration": 59,
    "start_time": "2023-10-09T21:04:36.808Z"
   },
   {
    "duration": 156,
    "start_time": "2023-10-09T21:04:49.533Z"
   },
   {
    "duration": 167,
    "start_time": "2023-10-09T21:05:30.887Z"
   },
   {
    "duration": 88,
    "start_time": "2023-10-09T21:06:08.875Z"
   },
   {
    "duration": 175,
    "start_time": "2023-10-09T21:06:30.075Z"
   },
   {
    "duration": 189,
    "start_time": "2023-10-09T21:06:41.844Z"
   },
   {
    "duration": 172,
    "start_time": "2023-10-09T21:06:50.474Z"
   },
   {
    "duration": 175,
    "start_time": "2023-10-09T21:06:55.318Z"
   },
   {
    "duration": 201,
    "start_time": "2023-10-09T21:07:43.967Z"
   },
   {
    "duration": 168,
    "start_time": "2023-10-09T21:07:51.508Z"
   },
   {
    "duration": 152,
    "start_time": "2023-10-09T21:07:54.398Z"
   },
   {
    "duration": 64,
    "start_time": "2023-10-10T18:23:48.889Z"
   },
   {
    "duration": 504,
    "start_time": "2023-10-10T18:23:55.194Z"
   },
   {
    "duration": 285,
    "start_time": "2023-10-10T18:23:55.700Z"
   },
   {
    "duration": 12,
    "start_time": "2023-10-10T18:23:55.987Z"
   },
   {
    "duration": 24,
    "start_time": "2023-10-10T18:23:56.001Z"
   },
   {
    "duration": 13,
    "start_time": "2023-10-10T18:23:56.027Z"
   },
   {
    "duration": 36,
    "start_time": "2023-10-10T18:23:56.041Z"
   },
   {
    "duration": 19,
    "start_time": "2023-10-10T18:23:56.079Z"
   },
   {
    "duration": 24,
    "start_time": "2023-10-10T18:23:56.100Z"
   },
   {
    "duration": 79,
    "start_time": "2023-10-10T18:23:56.126Z"
   },
   {
    "duration": 7,
    "start_time": "2023-10-10T18:23:56.208Z"
   },
   {
    "duration": 14,
    "start_time": "2023-10-10T18:23:56.216Z"
   },
   {
    "duration": 33,
    "start_time": "2023-10-10T18:23:56.232Z"
   },
   {
    "duration": 22,
    "start_time": "2023-10-10T18:23:56.266Z"
   },
   {
    "duration": 13,
    "start_time": "2023-10-10T18:23:56.290Z"
   },
   {
    "duration": 4,
    "start_time": "2023-10-10T18:23:56.305Z"
   },
   {
    "duration": 7,
    "start_time": "2023-10-10T18:23:56.311Z"
   },
   {
    "duration": 21,
    "start_time": "2023-10-10T18:23:56.320Z"
   },
   {
    "duration": 11,
    "start_time": "2023-10-10T18:23:56.343Z"
   },
   {
    "duration": 14,
    "start_time": "2023-10-10T18:23:56.356Z"
   },
   {
    "duration": 11,
    "start_time": "2023-10-10T18:23:56.375Z"
   },
   {
    "duration": 596,
    "start_time": "2023-10-10T18:23:56.388Z"
   },
   {
    "duration": 19,
    "start_time": "2023-10-10T18:23:56.986Z"
   },
   {
    "duration": 9,
    "start_time": "2023-10-10T18:23:57.007Z"
   },
   {
    "duration": 144,
    "start_time": "2023-10-10T18:23:57.017Z"
   },
   {
    "duration": 22,
    "start_time": "2023-10-10T18:23:57.164Z"
   },
   {
    "duration": 322,
    "start_time": "2023-10-10T18:23:57.188Z"
   },
   {
    "duration": 13,
    "start_time": "2023-10-10T18:23:57.513Z"
   },
   {
    "duration": 705,
    "start_time": "2023-10-10T18:23:57.528Z"
   },
   {
    "duration": 6,
    "start_time": "2023-10-10T18:23:58.235Z"
   },
   {
    "duration": 54,
    "start_time": "2023-10-10T18:23:58.262Z"
   },
   {
    "duration": 57,
    "start_time": "2023-10-10T18:23:58.318Z"
   },
   {
    "duration": 480,
    "start_time": "2023-10-10T18:23:58.377Z"
   },
   {
    "duration": 497,
    "start_time": "2023-10-10T18:23:58.860Z"
   },
   {
    "duration": 23,
    "start_time": "2023-10-10T18:26:19.743Z"
   },
   {
    "duration": 91,
    "start_time": "2023-10-10T18:26:39.217Z"
   },
   {
    "duration": 30,
    "start_time": "2023-10-10T18:26:46.850Z"
   },
   {
    "duration": 12,
    "start_time": "2023-10-10T18:27:18.477Z"
   },
   {
    "duration": 8,
    "start_time": "2023-10-10T18:28:37.946Z"
   },
   {
    "duration": 12,
    "start_time": "2023-10-10T18:30:11.099Z"
   },
   {
    "duration": 21,
    "start_time": "2023-10-10T18:30:32.804Z"
   },
   {
    "duration": 22,
    "start_time": "2023-10-10T18:30:51.675Z"
   },
   {
    "duration": 20,
    "start_time": "2023-10-10T18:31:23.083Z"
   },
   {
    "duration": 3,
    "start_time": "2023-10-10T18:34:11.870Z"
   },
   {
    "duration": 23,
    "start_time": "2023-10-10T18:41:26.634Z"
   },
   {
    "duration": 184,
    "start_time": "2023-10-10T18:42:17.450Z"
   },
   {
    "duration": 21,
    "start_time": "2023-10-10T18:43:40.762Z"
   },
   {
    "duration": 25,
    "start_time": "2023-10-10T18:43:49.173Z"
   },
   {
    "duration": 195,
    "start_time": "2023-10-10T18:44:01.702Z"
   },
   {
    "duration": 187,
    "start_time": "2023-10-10T18:44:26.452Z"
   },
   {
    "duration": 28,
    "start_time": "2023-10-10T18:44:57.972Z"
   },
   {
    "duration": 24,
    "start_time": "2023-10-10T18:45:27.454Z"
   },
   {
    "duration": 185,
    "start_time": "2023-10-10T18:46:42.688Z"
   },
   {
    "duration": 21,
    "start_time": "2023-10-10T18:47:15.744Z"
   },
   {
    "duration": 18,
    "start_time": "2023-10-10T18:47:33.546Z"
   },
   {
    "duration": 195,
    "start_time": "2023-10-10T18:47:47.152Z"
   },
   {
    "duration": 111,
    "start_time": "2023-10-10T18:47:49.686Z"
   },
   {
    "duration": 30,
    "start_time": "2023-10-10T18:48:01.135Z"
   },
   {
    "duration": 25,
    "start_time": "2023-10-10T18:48:26.130Z"
   },
   {
    "duration": 165,
    "start_time": "2023-10-10T18:48:42.406Z"
   },
   {
    "duration": 21,
    "start_time": "2023-10-10T18:48:44.711Z"
   },
   {
    "duration": 29,
    "start_time": "2023-10-10T18:48:56.020Z"
   },
   {
    "duration": 68,
    "start_time": "2023-10-10T18:51:57.395Z"
   },
   {
    "duration": 170,
    "start_time": "2023-10-10T18:52:01.949Z"
   },
   {
    "duration": 22,
    "start_time": "2023-10-10T18:52:06.228Z"
   },
   {
    "duration": 130,
    "start_time": "2023-10-10T18:53:47.505Z"
   },
   {
    "duration": 24,
    "start_time": "2023-10-10T18:53:53.503Z"
   },
   {
    "duration": 40,
    "start_time": "2023-10-10T18:54:08.803Z"
   },
   {
    "duration": 39,
    "start_time": "2023-10-10T18:54:34.337Z"
   },
   {
    "duration": 27,
    "start_time": "2023-10-10T18:54:53.938Z"
   },
   {
    "duration": 152,
    "start_time": "2023-10-10T18:55:01.511Z"
   },
   {
    "duration": 173,
    "start_time": "2023-10-10T18:55:30.283Z"
   },
   {
    "duration": 144,
    "start_time": "2023-10-10T18:56:22.479Z"
   },
   {
    "duration": 181,
    "start_time": "2023-10-10T18:56:48.785Z"
   },
   {
    "duration": 151,
    "start_time": "2023-10-10T18:56:53.313Z"
   },
   {
    "duration": 153,
    "start_time": "2023-10-10T18:57:06.987Z"
   },
   {
    "duration": 243,
    "start_time": "2023-10-10T18:57:25.550Z"
   },
   {
    "duration": 164,
    "start_time": "2023-10-10T18:57:48.576Z"
   },
   {
    "duration": 173,
    "start_time": "2023-10-10T18:57:56.694Z"
   },
   {
    "duration": 172,
    "start_time": "2023-10-10T18:58:19.329Z"
   },
   {
    "duration": 180,
    "start_time": "2023-10-10T18:58:57.278Z"
   },
   {
    "duration": 203,
    "start_time": "2023-10-10T18:59:08.688Z"
   },
   {
    "duration": 184,
    "start_time": "2023-10-10T19:00:51.222Z"
   },
   {
    "duration": 65,
    "start_time": "2023-10-10T19:02:02.529Z"
   },
   {
    "duration": 188,
    "start_time": "2023-10-10T19:02:07.700Z"
   },
   {
    "duration": 162,
    "start_time": "2023-10-10T19:03:07.413Z"
   },
   {
    "duration": 171,
    "start_time": "2023-10-10T19:03:11.311Z"
   },
   {
    "duration": 24,
    "start_time": "2023-10-10T19:07:55.783Z"
   },
   {
    "duration": 24,
    "start_time": "2023-10-10T19:08:07.741Z"
   },
   {
    "duration": 203,
    "start_time": "2023-10-10T19:08:23.253Z"
   },
   {
    "duration": 160,
    "start_time": "2023-10-10T19:08:37.022Z"
   },
   {
    "duration": 25,
    "start_time": "2023-10-10T19:11:23.374Z"
   },
   {
    "duration": 23,
    "start_time": "2023-10-10T19:12:35.621Z"
   },
   {
    "duration": 184,
    "start_time": "2023-10-10T19:14:11.475Z"
   },
   {
    "duration": 313,
    "start_time": "2023-10-10T19:15:20.650Z"
   },
   {
    "duration": 18,
    "start_time": "2023-10-10T19:19:51.146Z"
   },
   {
    "duration": 19,
    "start_time": "2023-10-10T19:20:07.225Z"
   },
   {
    "duration": 19,
    "start_time": "2023-10-10T19:20:17.677Z"
   },
   {
    "duration": 31,
    "start_time": "2023-10-10T19:20:23.189Z"
   },
   {
    "duration": 50,
    "start_time": "2023-10-10T19:22:33.434Z"
   },
   {
    "duration": 14,
    "start_time": "2023-10-10T19:23:08.384Z"
   },
   {
    "duration": 49,
    "start_time": "2023-10-10T19:25:07.002Z"
   },
   {
    "duration": 4,
    "start_time": "2023-10-10T19:26:13.405Z"
   },
   {
    "duration": 25,
    "start_time": "2023-10-10T19:26:51.213Z"
   },
   {
    "duration": 24,
    "start_time": "2023-10-10T19:26:57.815Z"
   },
   {
    "duration": 61,
    "start_time": "2023-10-10T19:27:40.303Z"
   },
   {
    "duration": 65,
    "start_time": "2023-10-10T19:31:57.930Z"
   },
   {
    "duration": 68,
    "start_time": "2023-10-10T19:32:16.941Z"
   },
   {
    "duration": 76,
    "start_time": "2023-10-10T19:32:34.158Z"
   },
   {
    "duration": 62,
    "start_time": "2023-10-10T19:33:18.046Z"
   },
   {
    "duration": 4,
    "start_time": "2023-10-10T19:33:23.393Z"
   },
   {
    "duration": 8,
    "start_time": "2023-10-10T19:33:37.598Z"
   },
   {
    "duration": 64,
    "start_time": "2023-10-10T19:33:55.251Z"
   },
   {
    "duration": 4,
    "start_time": "2023-10-10T19:34:02.873Z"
   },
   {
    "duration": 172,
    "start_time": "2023-10-10T19:34:09.605Z"
   },
   {
    "duration": 7,
    "start_time": "2023-10-10T19:35:22.353Z"
   },
   {
    "duration": 17,
    "start_time": "2023-10-10T19:36:10.410Z"
   },
   {
    "duration": 9,
    "start_time": "2023-10-10T19:37:20.508Z"
   },
   {
    "duration": 6,
    "start_time": "2023-10-10T19:37:49.138Z"
   },
   {
    "duration": 8,
    "start_time": "2023-10-10T19:37:56.518Z"
   },
   {
    "duration": 2375,
    "start_time": "2023-10-10T19:39:06.846Z"
   },
   {
    "duration": 9,
    "start_time": "2023-10-10T19:39:29.554Z"
   },
   {
    "duration": 2356,
    "start_time": "2023-10-10T19:39:47.113Z"
   },
   {
    "duration": 2178,
    "start_time": "2023-10-10T19:40:13.730Z"
   },
   {
    "duration": 2231,
    "start_time": "2023-10-10T19:40:21.419Z"
   },
   {
    "duration": 2302,
    "start_time": "2023-10-10T19:41:30.896Z"
   },
   {
    "duration": 2243,
    "start_time": "2023-10-10T19:41:38.361Z"
   },
   {
    "duration": 2197,
    "start_time": "2023-10-10T19:41:46.496Z"
   },
   {
    "duration": 2290,
    "start_time": "2023-10-10T19:42:28.702Z"
   },
   {
    "duration": 2204,
    "start_time": "2023-10-10T19:44:20.747Z"
   },
   {
    "duration": 18,
    "start_time": "2023-10-10T19:45:08.732Z"
   },
   {
    "duration": 2261,
    "start_time": "2023-10-10T19:45:11.328Z"
   },
   {
    "duration": 488,
    "start_time": "2023-10-10T19:47:09.348Z"
   },
   {
    "duration": 234,
    "start_time": "2023-10-10T19:47:09.838Z"
   },
   {
    "duration": 13,
    "start_time": "2023-10-10T19:47:10.074Z"
   },
   {
    "duration": 37,
    "start_time": "2023-10-10T19:47:10.089Z"
   },
   {
    "duration": 14,
    "start_time": "2023-10-10T19:47:10.128Z"
   },
   {
    "duration": 10,
    "start_time": "2023-10-10T19:47:10.143Z"
   },
   {
    "duration": 28,
    "start_time": "2023-10-10T19:47:10.155Z"
   },
   {
    "duration": 19,
    "start_time": "2023-10-10T19:47:10.185Z"
   },
   {
    "duration": 68,
    "start_time": "2023-10-10T19:47:10.206Z"
   },
   {
    "duration": 8,
    "start_time": "2023-10-10T19:47:10.277Z"
   },
   {
    "duration": 11,
    "start_time": "2023-10-10T19:47:10.286Z"
   },
   {
    "duration": 9,
    "start_time": "2023-10-10T19:47:10.299Z"
   },
   {
    "duration": 8,
    "start_time": "2023-10-10T19:47:10.310Z"
   },
   {
    "duration": 9,
    "start_time": "2023-10-10T19:47:10.320Z"
   },
   {
    "duration": 4,
    "start_time": "2023-10-10T19:47:10.358Z"
   },
   {
    "duration": 10,
    "start_time": "2023-10-10T19:47:10.365Z"
   },
   {
    "duration": 15,
    "start_time": "2023-10-10T19:47:10.377Z"
   },
   {
    "duration": 22,
    "start_time": "2023-10-10T19:47:10.394Z"
   },
   {
    "duration": 25,
    "start_time": "2023-10-10T19:47:10.418Z"
   },
   {
    "duration": 24,
    "start_time": "2023-10-10T19:47:10.445Z"
   },
   {
    "duration": 321,
    "start_time": "2023-10-10T19:47:10.471Z"
   },
   {
    "duration": 14,
    "start_time": "2023-10-10T19:47:10.794Z"
   },
   {
    "duration": 10,
    "start_time": "2023-10-10T19:47:10.810Z"
   },
   {
    "duration": 150,
    "start_time": "2023-10-10T19:47:10.822Z"
   },
   {
    "duration": 15,
    "start_time": "2023-10-10T19:47:10.974Z"
   },
   {
    "duration": 315,
    "start_time": "2023-10-10T19:47:10.990Z"
   },
   {
    "duration": 12,
    "start_time": "2023-10-10T19:47:11.306Z"
   },
   {
    "duration": 574,
    "start_time": "2023-10-10T19:47:11.323Z"
   },
   {
    "duration": 6,
    "start_time": "2023-10-10T19:47:11.899Z"
   },
   {
    "duration": 6,
    "start_time": "2023-10-10T19:47:11.906Z"
   },
   {
    "duration": 43,
    "start_time": "2023-10-10T19:47:11.913Z"
   },
   {
    "duration": 181,
    "start_time": "2023-10-10T19:47:11.958Z"
   },
   {
    "duration": 180,
    "start_time": "2023-10-10T19:47:12.142Z"
   },
   {
    "duration": 21,
    "start_time": "2023-10-10T19:47:12.324Z"
   },
   {
    "duration": 22,
    "start_time": "2023-10-10T19:47:12.357Z"
   },
   {
    "duration": 20,
    "start_time": "2023-10-10T19:47:12.381Z"
   },
   {
    "duration": 4,
    "start_time": "2023-10-10T19:47:12.403Z"
   },
   {
    "duration": 24,
    "start_time": "2023-10-10T19:47:12.408Z"
   },
   {
    "duration": 24,
    "start_time": "2023-10-10T19:47:12.457Z"
   },
   {
    "duration": 203,
    "start_time": "2023-10-10T19:47:12.483Z"
   },
   {
    "duration": 195,
    "start_time": "2023-10-10T19:47:12.688Z"
   },
   {
    "duration": 24,
    "start_time": "2023-10-10T19:47:12.885Z"
   },
   {
    "duration": 40,
    "start_time": "2023-10-10T19:47:12.911Z"
   },
   {
    "duration": 199,
    "start_time": "2023-10-10T19:47:12.953Z"
   },
   {
    "duration": 217,
    "start_time": "2023-10-10T19:47:13.157Z"
   },
   {
    "duration": 15,
    "start_time": "2023-10-10T19:47:13.376Z"
   },
   {
    "duration": 218,
    "start_time": "2023-10-10T19:47:13.393Z"
   },
   {
    "duration": 2,
    "start_time": "2023-10-10T19:47:13.613Z"
   },
   {
    "duration": 80,
    "start_time": "2023-10-10T19:49:45.460Z"
   },
   {
    "duration": 37,
    "start_time": "2023-10-10T19:49:53.124Z"
   },
   {
    "duration": 12,
    "start_time": "2023-10-10T19:50:26.610Z"
   },
   {
    "duration": 609,
    "start_time": "2023-10-10T19:50:46.492Z"
   },
   {
    "duration": 48,
    "start_time": "2023-10-10T19:53:07.412Z"
   },
   {
    "duration": 49,
    "start_time": "2023-10-10T19:54:01.260Z"
   },
   {
    "duration": 48,
    "start_time": "2023-10-10T19:54:18.659Z"
   },
   {
    "duration": 12,
    "start_time": "2023-10-10T19:54:57.717Z"
   },
   {
    "duration": 8,
    "start_time": "2023-10-10T19:57:03.084Z"
   },
   {
    "duration": 10,
    "start_time": "2023-10-10T19:57:10.091Z"
   },
   {
    "duration": 12,
    "start_time": "2023-10-10T20:06:53.203Z"
   },
   {
    "duration": 3,
    "start_time": "2023-10-10T20:07:55.892Z"
   },
   {
    "duration": 5,
    "start_time": "2023-10-10T20:08:09.320Z"
   },
   {
    "duration": 69,
    "start_time": "2023-10-10T20:08:24.939Z"
   },
   {
    "duration": 7,
    "start_time": "2023-10-10T20:08:28.803Z"
   },
   {
    "duration": 5,
    "start_time": "2023-10-10T20:08:58.184Z"
   },
   {
    "duration": 66,
    "start_time": "2023-10-10T20:11:59.549Z"
   },
   {
    "duration": 12,
    "start_time": "2023-10-10T20:12:11.063Z"
   },
   {
    "duration": 599,
    "start_time": "2023-10-10T20:12:38.616Z"
   },
   {
    "duration": 7,
    "start_time": "2023-10-10T20:12:45.179Z"
   },
   {
    "duration": 6,
    "start_time": "2023-10-10T20:15:40.620Z"
   },
   {
    "duration": 8,
    "start_time": "2023-10-10T20:20:00.821Z"
   },
   {
    "duration": 5,
    "start_time": "2023-10-10T20:21:18.205Z"
   },
   {
    "duration": 5,
    "start_time": "2023-10-10T20:21:50.233Z"
   },
   {
    "duration": 5,
    "start_time": "2023-10-10T20:21:59.335Z"
   },
   {
    "duration": 10,
    "start_time": "2023-10-10T20:23:25.598Z"
   },
   {
    "duration": 5,
    "start_time": "2023-10-10T20:24:30.957Z"
   },
   {
    "duration": 6,
    "start_time": "2023-10-10T20:27:47.737Z"
   },
   {
    "duration": 6,
    "start_time": "2023-10-10T20:27:53.191Z"
   },
   {
    "duration": 3,
    "start_time": "2023-10-10T20:28:30.992Z"
   },
   {
    "duration": 5,
    "start_time": "2023-10-10T20:28:36.112Z"
   },
   {
    "duration": 6,
    "start_time": "2023-10-10T20:28:40.044Z"
   },
   {
    "duration": 6,
    "start_time": "2023-10-10T20:28:46.791Z"
   },
   {
    "duration": 5,
    "start_time": "2023-10-10T20:28:50.637Z"
   },
   {
    "duration": 6,
    "start_time": "2023-10-10T20:29:00.492Z"
   },
   {
    "duration": 7,
    "start_time": "2023-10-10T20:29:23.813Z"
   },
   {
    "duration": 6,
    "start_time": "2023-10-10T20:29:35.792Z"
   },
   {
    "duration": 6,
    "start_time": "2023-10-10T20:29:40.617Z"
   },
   {
    "duration": 6,
    "start_time": "2023-10-10T20:29:45.708Z"
   },
   {
    "duration": 6,
    "start_time": "2023-10-10T20:29:49.990Z"
   },
   {
    "duration": 7,
    "start_time": "2023-10-10T20:29:54.251Z"
   },
   {
    "duration": 6,
    "start_time": "2023-10-10T20:30:35.724Z"
   },
   {
    "duration": 6,
    "start_time": "2023-10-10T20:30:52.605Z"
   },
   {
    "duration": 5,
    "start_time": "2023-10-10T20:31:08.495Z"
   },
   {
    "duration": 5,
    "start_time": "2023-10-10T20:31:21.938Z"
   },
   {
    "duration": 6,
    "start_time": "2023-10-10T20:31:51.079Z"
   },
   {
    "duration": 6,
    "start_time": "2023-10-10T20:31:56.097Z"
   },
   {
    "duration": 6,
    "start_time": "2023-10-10T20:32:09.167Z"
   },
   {
    "duration": 6,
    "start_time": "2023-10-10T20:38:21.710Z"
   },
   {
    "duration": 6,
    "start_time": "2023-10-10T20:40:11.209Z"
   },
   {
    "duration": 68,
    "start_time": "2023-10-10T20:42:45.520Z"
   },
   {
    "duration": 6,
    "start_time": "2023-10-10T20:45:20.197Z"
   },
   {
    "duration": 6,
    "start_time": "2023-10-10T20:45:45.754Z"
   },
   {
    "duration": 5,
    "start_time": "2023-10-10T20:45:48.093Z"
   },
   {
    "duration": 62,
    "start_time": "2023-10-10T20:58:38.813Z"
   },
   {
    "duration": 19,
    "start_time": "2023-10-10T20:58:51.232Z"
   },
   {
    "duration": 50,
    "start_time": "2023-10-10T20:59:00.894Z"
   },
   {
    "duration": 47,
    "start_time": "2023-10-10T20:59:17.105Z"
   },
   {
    "duration": 45,
    "start_time": "2023-10-10T20:59:25.716Z"
   },
   {
    "duration": 13,
    "start_time": "2023-10-10T20:59:35.203Z"
   },
   {
    "duration": 63,
    "start_time": "2023-10-10T20:59:44.037Z"
   },
   {
    "duration": 8,
    "start_time": "2023-10-10T21:01:37.054Z"
   },
   {
    "duration": 12,
    "start_time": "2023-10-10T21:03:44.354Z"
   },
   {
    "duration": 11,
    "start_time": "2023-10-10T21:04:24.102Z"
   },
   {
    "duration": 124,
    "start_time": "2023-10-10T21:06:30.084Z"
   },
   {
    "duration": 63,
    "start_time": "2023-10-10T21:06:47.188Z"
   },
   {
    "duration": 90,
    "start_time": "2023-10-10T21:06:51.201Z"
   },
   {
    "duration": 78,
    "start_time": "2023-10-10T21:06:57.343Z"
   },
   {
    "duration": 181,
    "start_time": "2023-10-10T21:07:02.711Z"
   },
   {
    "duration": 19,
    "start_time": "2023-10-10T21:07:15.678Z"
   },
   {
    "duration": 2012,
    "start_time": "2023-10-10T21:07:18.401Z"
   },
   {
    "duration": 1627,
    "start_time": "2023-10-10T21:07:37.899Z"
   },
   {
    "duration": 48,
    "start_time": "2023-10-10T21:07:47.190Z"
   },
   {
    "duration": 57,
    "start_time": "2023-10-10T21:07:56.337Z"
   },
   {
    "duration": 43,
    "start_time": "2023-10-10T21:08:02.335Z"
   },
   {
    "duration": 1696,
    "start_time": "2023-10-10T21:08:17.714Z"
   },
   {
    "duration": 48,
    "start_time": "2023-10-10T21:08:30.787Z"
   },
   {
    "duration": 6,
    "start_time": "2023-10-10T21:09:22.687Z"
   },
   {
    "duration": 34,
    "start_time": "2023-10-10T21:13:06.790Z"
   },
   {
    "duration": 21,
    "start_time": "2023-10-10T21:13:38.719Z"
   },
   {
    "duration": 45,
    "start_time": "2023-10-10T21:13:45.217Z"
   },
   {
    "duration": 13,
    "start_time": "2023-10-10T21:17:19.840Z"
   },
   {
    "duration": 21,
    "start_time": "2023-10-10T21:18:39.557Z"
   },
   {
    "duration": 23,
    "start_time": "2023-10-10T21:19:12.554Z"
   },
   {
    "duration": 28,
    "start_time": "2023-10-10T21:20:02.347Z"
   },
   {
    "duration": 22,
    "start_time": "2023-10-10T21:21:01.099Z"
   },
   {
    "duration": 5,
    "start_time": "2023-10-10T21:23:34.012Z"
   },
   {
    "duration": 4,
    "start_time": "2023-10-10T21:23:51.642Z"
   },
   {
    "duration": 15,
    "start_time": "2023-10-10T21:24:34.817Z"
   },
   {
    "duration": 13,
    "start_time": "2023-10-10T21:25:08.410Z"
   },
   {
    "duration": 20,
    "start_time": "2023-10-10T21:26:08.407Z"
   },
   {
    "duration": 22,
    "start_time": "2023-10-10T21:27:56.691Z"
   },
   {
    "duration": 1537,
    "start_time": "2023-10-10T21:30:05.659Z"
   },
   {
    "duration": 86,
    "start_time": "2023-10-10T21:30:14.044Z"
   },
   {
    "duration": 1346,
    "start_time": "2023-10-10T21:30:18.704Z"
   },
   {
    "duration": 9,
    "start_time": "2023-10-10T21:30:34.237Z"
   },
   {
    "duration": 10,
    "start_time": "2023-10-10T21:30:43.350Z"
   },
   {
    "duration": 13,
    "start_time": "2023-10-10T21:30:50.795Z"
   },
   {
    "duration": 9,
    "start_time": "2023-10-10T21:31:11.951Z"
   },
   {
    "duration": 4,
    "start_time": "2023-10-10T21:31:23.983Z"
   },
   {
    "duration": 16,
    "start_time": "2023-10-10T21:31:29.938Z"
   },
   {
    "duration": 8,
    "start_time": "2023-10-10T21:32:11.394Z"
   },
   {
    "duration": 20,
    "start_time": "2023-10-10T21:36:08.518Z"
   },
   {
    "duration": 11,
    "start_time": "2023-10-10T21:36:58.019Z"
   },
   {
    "duration": 14,
    "start_time": "2023-10-10T21:37:03.752Z"
   },
   {
    "duration": 11,
    "start_time": "2023-10-10T21:37:34.990Z"
   },
   {
    "duration": 18,
    "start_time": "2023-10-10T21:40:50.992Z"
   },
   {
    "duration": 52,
    "start_time": "2023-10-10T21:41:39.252Z"
   },
   {
    "duration": 25,
    "start_time": "2023-10-10T21:43:54.242Z"
   },
   {
    "duration": 24,
    "start_time": "2023-10-10T21:44:18.255Z"
   },
   {
    "duration": 13,
    "start_time": "2023-10-10T21:44:51.013Z"
   },
   {
    "duration": 10,
    "start_time": "2023-10-10T21:45:31.510Z"
   },
   {
    "duration": 36,
    "start_time": "2023-10-10T21:45:35.537Z"
   },
   {
    "duration": 137,
    "start_time": "2023-10-10T21:46:14.090Z"
   },
   {
    "duration": 44,
    "start_time": "2023-10-10T21:46:18.771Z"
   },
   {
    "duration": 50,
    "start_time": "2023-10-10T21:46:55.707Z"
   },
   {
    "duration": 54,
    "start_time": "2023-10-10T21:47:16.479Z"
   },
   {
    "duration": 56,
    "start_time": "2023-10-10T21:48:09.384Z"
   },
   {
    "duration": 55,
    "start_time": "2023-10-10T21:48:33.228Z"
   },
   {
    "duration": 58,
    "start_time": "2023-10-10T21:49:03.045Z"
   },
   {
    "duration": 12,
    "start_time": "2023-10-10T21:49:30.693Z"
   },
   {
    "duration": 14,
    "start_time": "2023-10-10T21:50:00.354Z"
   },
   {
    "duration": 36,
    "start_time": "2023-10-10T21:51:50.297Z"
   },
   {
    "duration": 66,
    "start_time": "2023-10-10T21:51:57.065Z"
   },
   {
    "duration": 24,
    "start_time": "2023-10-10T21:52:17.633Z"
   },
   {
    "duration": 6,
    "start_time": "2023-10-10T21:52:31.095Z"
   },
   {
    "duration": 27,
    "start_time": "2023-10-10T21:52:39.231Z"
   },
   {
    "duration": 981,
    "start_time": "2023-10-11T16:53:06.871Z"
   },
   {
    "duration": 369,
    "start_time": "2023-10-11T16:53:07.854Z"
   },
   {
    "duration": 15,
    "start_time": "2023-10-11T16:53:08.226Z"
   },
   {
    "duration": 21,
    "start_time": "2023-10-11T16:53:08.243Z"
   },
   {
    "duration": 26,
    "start_time": "2023-10-11T16:53:08.266Z"
   },
   {
    "duration": 38,
    "start_time": "2023-10-11T16:53:08.294Z"
   },
   {
    "duration": 12,
    "start_time": "2023-10-11T16:53:08.334Z"
   },
   {
    "duration": 41,
    "start_time": "2023-10-11T16:53:08.348Z"
   },
   {
    "duration": 43,
    "start_time": "2023-10-11T16:53:08.391Z"
   },
   {
    "duration": 30,
    "start_time": "2023-10-11T16:53:08.436Z"
   },
   {
    "duration": 39,
    "start_time": "2023-10-11T16:53:08.467Z"
   },
   {
    "duration": 76,
    "start_time": "2023-10-11T16:53:08.508Z"
   },
   {
    "duration": 41,
    "start_time": "2023-10-11T16:53:08.586Z"
   },
   {
    "duration": 45,
    "start_time": "2023-10-11T16:53:08.630Z"
   },
   {
    "duration": 63,
    "start_time": "2023-10-11T16:53:08.677Z"
   },
   {
    "duration": 54,
    "start_time": "2023-10-11T16:53:08.742Z"
   },
   {
    "duration": 63,
    "start_time": "2023-10-11T16:53:08.797Z"
   },
   {
    "duration": 32,
    "start_time": "2023-10-11T16:53:08.862Z"
   },
   {
    "duration": 74,
    "start_time": "2023-10-11T16:53:08.896Z"
   },
   {
    "duration": 76,
    "start_time": "2023-10-11T16:53:08.972Z"
   },
   {
    "duration": 716,
    "start_time": "2023-10-11T16:53:09.050Z"
   },
   {
    "duration": 16,
    "start_time": "2023-10-11T16:53:09.769Z"
   },
   {
    "duration": 39,
    "start_time": "2023-10-11T16:53:09.787Z"
   },
   {
    "duration": 200,
    "start_time": "2023-10-11T16:53:09.828Z"
   },
   {
    "duration": 13,
    "start_time": "2023-10-11T16:53:10.031Z"
   },
   {
    "duration": 359,
    "start_time": "2023-10-11T16:53:10.046Z"
   },
   {
    "duration": 23,
    "start_time": "2023-10-11T16:53:10.408Z"
   },
   {
    "duration": 706,
    "start_time": "2023-10-11T16:53:10.436Z"
   },
   {
    "duration": 6,
    "start_time": "2023-10-11T16:53:11.145Z"
   },
   {
    "duration": 35,
    "start_time": "2023-10-11T16:53:11.153Z"
   },
   {
    "duration": 54,
    "start_time": "2023-10-11T16:53:11.190Z"
   },
   {
    "duration": 202,
    "start_time": "2023-10-11T16:53:11.246Z"
   },
   {
    "duration": 284,
    "start_time": "2023-10-11T16:53:11.450Z"
   },
   {
    "duration": 21,
    "start_time": "2023-10-11T16:53:11.736Z"
   },
   {
    "duration": 35,
    "start_time": "2023-10-11T16:53:11.759Z"
   },
   {
    "duration": 44,
    "start_time": "2023-10-11T16:53:11.796Z"
   },
   {
    "duration": 50,
    "start_time": "2023-10-11T16:53:11.842Z"
   },
   {
    "duration": 55,
    "start_time": "2023-10-11T16:53:11.894Z"
   },
   {
    "duration": 25,
    "start_time": "2023-10-11T16:53:11.951Z"
   },
   {
    "duration": 252,
    "start_time": "2023-10-11T16:53:11.977Z"
   },
   {
    "duration": 211,
    "start_time": "2023-10-11T16:53:12.232Z"
   },
   {
    "duration": 26,
    "start_time": "2023-10-11T16:53:12.446Z"
   },
   {
    "duration": 63,
    "start_time": "2023-10-11T16:53:12.474Z"
   },
   {
    "duration": 315,
    "start_time": "2023-10-11T16:53:12.540Z"
   },
   {
    "duration": 219,
    "start_time": "2023-10-11T16:53:12.857Z"
   },
   {
    "duration": 27,
    "start_time": "2023-10-11T16:53:13.078Z"
   },
   {
    "duration": 5,
    "start_time": "2023-10-11T16:53:13.107Z"
   },
   {
    "duration": 181,
    "start_time": "2023-10-11T16:53:13.113Z"
   },
   {
    "duration": 0,
    "start_time": "2023-10-11T16:53:13.296Z"
   },
   {
    "duration": 0,
    "start_time": "2023-10-11T16:53:13.298Z"
   },
   {
    "duration": 0,
    "start_time": "2023-10-11T16:53:13.299Z"
   },
   {
    "duration": 7,
    "start_time": "2023-10-11T16:54:15.745Z"
   },
   {
    "duration": 26,
    "start_time": "2023-10-11T16:56:03.348Z"
   },
   {
    "duration": 11,
    "start_time": "2023-10-11T16:56:21.987Z"
   },
   {
    "duration": 47,
    "start_time": "2023-10-11T16:56:29.621Z"
   },
   {
    "duration": 16,
    "start_time": "2023-10-11T16:56:56.650Z"
   },
   {
    "duration": 62,
    "start_time": "2023-10-11T16:57:47.785Z"
   },
   {
    "duration": 60,
    "start_time": "2023-10-11T16:58:01.225Z"
   },
   {
    "duration": 7,
    "start_time": "2023-10-11T16:58:42.349Z"
   },
   {
    "duration": 129,
    "start_time": "2023-10-11T16:58:53.378Z"
   },
   {
    "duration": 8,
    "start_time": "2023-10-11T16:59:10.840Z"
   },
   {
    "duration": 19,
    "start_time": "2023-10-11T16:59:49.542Z"
   },
   {
    "duration": 12,
    "start_time": "2023-10-11T17:01:07.572Z"
   },
   {
    "duration": 15,
    "start_time": "2023-10-11T17:01:32.835Z"
   },
   {
    "duration": 28,
    "start_time": "2023-10-11T17:02:02.697Z"
   },
   {
    "duration": 17,
    "start_time": "2023-10-11T17:02:24.818Z"
   },
   {
    "duration": 14,
    "start_time": "2023-10-11T17:02:48.150Z"
   },
   {
    "duration": 4,
    "start_time": "2023-10-11T17:03:21.085Z"
   },
   {
    "duration": 14,
    "start_time": "2023-10-11T17:03:59.822Z"
   },
   {
    "duration": 47,
    "start_time": "2023-10-11T17:04:06.226Z"
   },
   {
    "duration": 1055,
    "start_time": "2023-10-11T17:04:57.829Z"
   },
   {
    "duration": 278,
    "start_time": "2023-10-11T17:04:58.887Z"
   },
   {
    "duration": 14,
    "start_time": "2023-10-11T17:04:59.166Z"
   },
   {
    "duration": 50,
    "start_time": "2023-10-11T17:04:59.182Z"
   },
   {
    "duration": 16,
    "start_time": "2023-10-11T17:04:59.235Z"
   },
   {
    "duration": 20,
    "start_time": "2023-10-11T17:04:59.253Z"
   },
   {
    "duration": 36,
    "start_time": "2023-10-11T17:04:59.275Z"
   },
   {
    "duration": 12,
    "start_time": "2023-10-11T17:04:59.313Z"
   },
   {
    "duration": 30,
    "start_time": "2023-10-11T17:04:59.328Z"
   },
   {
    "duration": 13,
    "start_time": "2023-10-11T17:04:59.359Z"
   },
   {
    "duration": 8,
    "start_time": "2023-10-11T17:04:59.374Z"
   },
   {
    "duration": 12,
    "start_time": "2023-10-11T17:04:59.405Z"
   },
   {
    "duration": 17,
    "start_time": "2023-10-11T17:04:59.418Z"
   },
   {
    "duration": 11,
    "start_time": "2023-10-11T17:04:59.441Z"
   },
   {
    "duration": 18,
    "start_time": "2023-10-11T17:04:59.454Z"
   },
   {
    "duration": 23,
    "start_time": "2023-10-11T17:04:59.474Z"
   },
   {
    "duration": 59,
    "start_time": "2023-10-11T17:04:59.499Z"
   },
   {
    "duration": 19,
    "start_time": "2023-10-11T17:04:59.560Z"
   },
   {
    "duration": 40,
    "start_time": "2023-10-11T17:04:59.581Z"
   },
   {
    "duration": 43,
    "start_time": "2023-10-11T17:04:59.623Z"
   },
   {
    "duration": 455,
    "start_time": "2023-10-11T17:04:59.668Z"
   },
   {
    "duration": 17,
    "start_time": "2023-10-11T17:05:00.126Z"
   },
   {
    "duration": 207,
    "start_time": "2023-10-11T17:05:00.145Z"
   },
   {
    "duration": 296,
    "start_time": "2023-10-11T17:05:00.355Z"
   },
   {
    "duration": 14,
    "start_time": "2023-10-11T17:05:00.653Z"
   },
   {
    "duration": 1943,
    "start_time": "2023-10-11T17:05:00.669Z"
   },
   {
    "duration": 17,
    "start_time": "2023-10-11T17:05:02.614Z"
   },
   {
    "duration": 1019,
    "start_time": "2023-10-11T17:05:02.633Z"
   },
   {
    "duration": 6,
    "start_time": "2023-10-11T17:05:03.654Z"
   },
   {
    "duration": 39,
    "start_time": "2023-10-11T17:05:03.661Z"
   },
   {
    "duration": 46,
    "start_time": "2023-10-11T17:05:03.705Z"
   },
   {
    "duration": 208,
    "start_time": "2023-10-11T17:05:03.752Z"
   },
   {
    "duration": 214,
    "start_time": "2023-10-11T17:05:03.962Z"
   },
   {
    "duration": 50,
    "start_time": "2023-10-11T17:05:04.179Z"
   },
   {
    "duration": 28,
    "start_time": "2023-10-11T17:05:04.233Z"
   },
   {
    "duration": 32,
    "start_time": "2023-10-11T17:05:04.262Z"
   },
   {
    "duration": 11,
    "start_time": "2023-10-11T17:05:04.297Z"
   },
   {
    "duration": 115,
    "start_time": "2023-10-11T17:05:04.311Z"
   },
   {
    "duration": 346,
    "start_time": "2023-10-11T17:05:04.430Z"
   },
   {
    "duration": 1116,
    "start_time": "2023-10-11T17:05:04.778Z"
   },
   {
    "duration": 355,
    "start_time": "2023-10-11T17:05:05.898Z"
   },
   {
    "duration": 24,
    "start_time": "2023-10-11T17:05:06.255Z"
   },
   {
    "duration": 56,
    "start_time": "2023-10-11T17:05:06.281Z"
   },
   {
    "duration": 234,
    "start_time": "2023-10-11T17:05:06.340Z"
   },
   {
    "duration": 264,
    "start_time": "2023-10-11T17:05:06.576Z"
   },
   {
    "duration": 18,
    "start_time": "2023-10-11T17:05:06.842Z"
   },
   {
    "duration": 6,
    "start_time": "2023-10-11T17:05:06.862Z"
   },
   {
    "duration": 75,
    "start_time": "2023-10-11T17:05:06.870Z"
   },
   {
    "duration": 3,
    "start_time": "2023-10-11T17:05:06.949Z"
   },
   {
    "duration": 121,
    "start_time": "2023-10-11T17:05:06.954Z"
   },
   {
    "duration": 0,
    "start_time": "2023-10-11T17:05:07.077Z"
   },
   {
    "duration": 0,
    "start_time": "2023-10-11T17:05:07.078Z"
   },
   {
    "duration": 1,
    "start_time": "2023-10-11T17:05:07.079Z"
   },
   {
    "duration": 2002,
    "start_time": "2023-10-11T17:06:07.828Z"
   },
   {
    "duration": 7,
    "start_time": "2023-10-11T17:06:24.045Z"
   },
   {
    "duration": 83,
    "start_time": "2023-10-11T17:07:30.252Z"
   },
   {
    "duration": 11,
    "start_time": "2023-10-11T17:07:44.165Z"
   },
   {
    "duration": 22,
    "start_time": "2023-10-11T17:07:47.240Z"
   },
   {
    "duration": 42,
    "start_time": "2023-10-11T17:08:28.725Z"
   },
   {
    "duration": 39,
    "start_time": "2023-10-11T17:09:49.207Z"
   },
   {
    "duration": 35,
    "start_time": "2023-10-11T17:15:56.819Z"
   },
   {
    "duration": 50,
    "start_time": "2023-10-11T17:17:05.299Z"
   },
   {
    "duration": 46,
    "start_time": "2023-10-11T17:17:54.567Z"
   },
   {
    "duration": 14,
    "start_time": "2023-10-11T17:20:00.524Z"
   },
   {
    "duration": 8,
    "start_time": "2023-10-11T17:20:24.536Z"
   },
   {
    "duration": 21,
    "start_time": "2023-10-11T17:20:39.637Z"
   },
   {
    "duration": 9,
    "start_time": "2023-10-11T17:24:17.585Z"
   },
   {
    "duration": 5,
    "start_time": "2023-10-11T17:25:26.384Z"
   },
   {
    "duration": 17,
    "start_time": "2023-10-11T17:26:03.041Z"
   },
   {
    "duration": 24,
    "start_time": "2023-10-11T17:26:15.545Z"
   },
   {
    "duration": 29,
    "start_time": "2023-10-11T17:26:29.968Z"
   },
   {
    "duration": 31,
    "start_time": "2023-10-11T17:27:06.661Z"
   },
   {
    "duration": 9,
    "start_time": "2023-10-11T17:28:10.463Z"
   },
   {
    "duration": 17,
    "start_time": "2023-10-11T17:28:47.433Z"
   },
   {
    "duration": 27,
    "start_time": "2023-10-11T17:30:26.831Z"
   },
   {
    "duration": 24,
    "start_time": "2023-10-11T17:30:48.057Z"
   },
   {
    "duration": 6,
    "start_time": "2023-10-11T17:32:51.428Z"
   },
   {
    "duration": 17,
    "start_time": "2023-10-11T17:32:55.863Z"
   },
   {
    "duration": 1077,
    "start_time": "2023-10-11T17:33:31.399Z"
   },
   {
    "duration": 208,
    "start_time": "2023-10-11T17:33:32.478Z"
   },
   {
    "duration": 13,
    "start_time": "2023-10-11T17:33:32.687Z"
   },
   {
    "duration": 43,
    "start_time": "2023-10-11T17:33:32.702Z"
   },
   {
    "duration": 29,
    "start_time": "2023-10-11T17:33:32.748Z"
   },
   {
    "duration": 40,
    "start_time": "2023-10-11T17:33:32.779Z"
   },
   {
    "duration": 16,
    "start_time": "2023-10-11T17:33:32.821Z"
   },
   {
    "duration": 29,
    "start_time": "2023-10-11T17:33:32.839Z"
   },
   {
    "duration": 30,
    "start_time": "2023-10-11T17:33:32.870Z"
   },
   {
    "duration": 16,
    "start_time": "2023-10-11T17:33:32.906Z"
   },
   {
    "duration": 40,
    "start_time": "2023-10-11T17:33:32.924Z"
   },
   {
    "duration": 111,
    "start_time": "2023-10-11T17:33:32.966Z"
   },
   {
    "duration": 100,
    "start_time": "2023-10-11T17:33:33.080Z"
   },
   {
    "duration": 11,
    "start_time": "2023-10-11T17:33:33.186Z"
   },
   {
    "duration": 31,
    "start_time": "2023-10-11T17:33:33.199Z"
   },
   {
    "duration": 157,
    "start_time": "2023-10-11T17:33:33.232Z"
   },
   {
    "duration": 7,
    "start_time": "2023-10-11T17:33:33.391Z"
   },
   {
    "duration": 21,
    "start_time": "2023-10-11T17:33:33.399Z"
   },
   {
    "duration": 9,
    "start_time": "2023-10-11T17:33:33.422Z"
   },
   {
    "duration": 19,
    "start_time": "2023-10-11T17:33:33.433Z"
   },
   {
    "duration": 441,
    "start_time": "2023-10-11T17:33:33.454Z"
   },
   {
    "duration": 20,
    "start_time": "2023-10-11T17:33:33.901Z"
   },
   {
    "duration": 18,
    "start_time": "2023-10-11T17:33:33.923Z"
   },
   {
    "duration": 401,
    "start_time": "2023-10-11T17:33:33.943Z"
   },
   {
    "duration": 15,
    "start_time": "2023-10-11T17:33:34.346Z"
   },
   {
    "duration": 535,
    "start_time": "2023-10-11T17:33:34.363Z"
   },
   {
    "duration": 17,
    "start_time": "2023-10-11T17:33:34.901Z"
   },
   {
    "duration": 689,
    "start_time": "2023-10-11T17:33:34.919Z"
   },
   {
    "duration": 12,
    "start_time": "2023-10-11T17:33:35.610Z"
   },
   {
    "duration": 31,
    "start_time": "2023-10-11T17:33:35.624Z"
   },
   {
    "duration": 61,
    "start_time": "2023-10-11T17:33:35.658Z"
   },
   {
    "duration": 240,
    "start_time": "2023-10-11T17:33:35.724Z"
   },
   {
    "duration": 230,
    "start_time": "2023-10-11T17:33:35.966Z"
   },
   {
    "duration": 38,
    "start_time": "2023-10-11T17:33:36.198Z"
   },
   {
    "duration": 48,
    "start_time": "2023-10-11T17:33:36.239Z"
   },
   {
    "duration": 30,
    "start_time": "2023-10-11T17:33:36.290Z"
   },
   {
    "duration": 21,
    "start_time": "2023-10-11T17:33:36.322Z"
   },
   {
    "duration": 50,
    "start_time": "2023-10-11T17:33:36.345Z"
   },
   {
    "duration": 36,
    "start_time": "2023-10-11T17:33:36.397Z"
   },
   {
    "duration": 241,
    "start_time": "2023-10-11T17:33:36.434Z"
   },
   {
    "duration": 313,
    "start_time": "2023-10-11T17:33:36.680Z"
   },
   {
    "duration": 41,
    "start_time": "2023-10-11T17:33:36.995Z"
   },
   {
    "duration": 53,
    "start_time": "2023-10-11T17:33:37.039Z"
   },
   {
    "duration": 210,
    "start_time": "2023-10-11T17:33:37.094Z"
   },
   {
    "duration": 243,
    "start_time": "2023-10-11T17:33:37.307Z"
   },
   {
    "duration": 14,
    "start_time": "2023-10-11T17:33:37.553Z"
   },
   {
    "duration": 29,
    "start_time": "2023-10-11T17:33:37.569Z"
   },
   {
    "duration": 52,
    "start_time": "2023-10-11T17:33:37.600Z"
   },
   {
    "duration": 111,
    "start_time": "2023-10-11T17:33:37.654Z"
   },
   {
    "duration": 0,
    "start_time": "2023-10-11T17:33:37.767Z"
   },
   {
    "duration": 0,
    "start_time": "2023-10-11T17:33:37.769Z"
   },
   {
    "duration": 0,
    "start_time": "2023-10-11T17:33:37.770Z"
   },
   {
    "duration": 0,
    "start_time": "2023-10-11T17:33:37.771Z"
   },
   {
    "duration": 0,
    "start_time": "2023-10-11T17:33:37.772Z"
   },
   {
    "duration": 0,
    "start_time": "2023-10-11T17:33:37.773Z"
   },
   {
    "duration": 0,
    "start_time": "2023-10-11T17:33:37.775Z"
   },
   {
    "duration": 0,
    "start_time": "2023-10-11T17:33:37.775Z"
   },
   {
    "duration": 0,
    "start_time": "2023-10-11T17:33:37.777Z"
   },
   {
    "duration": 7,
    "start_time": "2023-10-11T17:34:22.819Z"
   },
   {
    "duration": 25,
    "start_time": "2023-10-11T17:34:25.060Z"
   },
   {
    "duration": 8,
    "start_time": "2023-10-11T17:34:34.291Z"
   },
   {
    "duration": 16,
    "start_time": "2023-10-11T17:34:36.131Z"
   },
   {
    "duration": 38,
    "start_time": "2023-10-11T17:34:47.973Z"
   },
   {
    "duration": 22,
    "start_time": "2023-10-11T17:39:22.772Z"
   },
   {
    "duration": 24,
    "start_time": "2023-10-11T17:40:02.864Z"
   },
   {
    "duration": 69,
    "start_time": "2023-10-11T17:40:39.879Z"
   },
   {
    "duration": 14,
    "start_time": "2023-10-11T17:41:47.661Z"
   },
   {
    "duration": 6,
    "start_time": "2023-10-11T17:41:55.833Z"
   },
   {
    "duration": 24,
    "start_time": "2023-10-11T17:41:56.431Z"
   },
   {
    "duration": 5,
    "start_time": "2023-10-11T17:42:09.987Z"
   },
   {
    "duration": 16,
    "start_time": "2023-10-11T17:42:11.542Z"
   },
   {
    "duration": 4,
    "start_time": "2023-10-11T17:42:17.639Z"
   },
   {
    "duration": 16,
    "start_time": "2023-10-11T17:42:20.067Z"
   },
   {
    "duration": 21,
    "start_time": "2023-10-11T17:43:47.622Z"
   },
   {
    "duration": 7,
    "start_time": "2023-10-11T17:44:37.134Z"
   },
   {
    "duration": 5,
    "start_time": "2023-10-11T17:44:37.460Z"
   },
   {
    "duration": 6,
    "start_time": "2023-10-11T17:44:41.937Z"
   },
   {
    "duration": 63,
    "start_time": "2023-10-11T17:46:04.494Z"
   },
   {
    "duration": 11,
    "start_time": "2023-10-11T17:46:17.461Z"
   },
   {
    "duration": 26,
    "start_time": "2023-10-11T17:46:32.642Z"
   },
   {
    "duration": 21,
    "start_time": "2023-10-11T17:46:56.544Z"
   },
   {
    "duration": 134,
    "start_time": "2023-10-11T17:52:29.118Z"
   },
   {
    "duration": 10,
    "start_time": "2023-10-11T17:52:34.486Z"
   },
   {
    "duration": 1972,
    "start_time": "2023-10-11T17:53:22.221Z"
   },
   {
    "duration": 1964,
    "start_time": "2023-10-11T17:55:00.099Z"
   },
   {
    "duration": 11,
    "start_time": "2023-10-11T17:55:21.419Z"
   },
   {
    "duration": 9,
    "start_time": "2023-10-11T17:56:52.265Z"
   },
   {
    "duration": 5,
    "start_time": "2023-10-11T17:58:05.473Z"
   },
   {
    "duration": 17,
    "start_time": "2023-10-11T17:59:22.720Z"
   },
   {
    "duration": 20,
    "start_time": "2023-10-11T17:59:22.738Z"
   },
   {
    "duration": 11,
    "start_time": "2023-10-11T17:59:35.083Z"
   },
   {
    "duration": 75409,
    "start_time": "2023-10-11T17:59:45.485Z"
   },
   {
    "duration": 8,
    "start_time": "2023-10-11T18:01:49.455Z"
   },
   {
    "duration": 8,
    "start_time": "2023-10-11T18:02:10.185Z"
   },
   {
    "duration": 8,
    "start_time": "2023-10-11T18:13:43.681Z"
   },
   {
    "duration": 3,
    "start_time": "2023-10-11T18:14:05.704Z"
   },
   {
    "duration": 6,
    "start_time": "2023-10-11T18:14:10.325Z"
   },
   {
    "duration": 5,
    "start_time": "2023-10-11T18:14:15.946Z"
   },
   {
    "duration": 152,
    "start_time": "2023-10-11T18:17:51.524Z"
   },
   {
    "duration": 178,
    "start_time": "2023-10-11T18:18:40.047Z"
   },
   {
    "duration": 199,
    "start_time": "2023-10-11T18:19:04.779Z"
   },
   {
    "duration": 177,
    "start_time": "2023-10-11T18:19:08.658Z"
   },
   {
    "duration": 3,
    "start_time": "2023-10-11T18:19:31.487Z"
   },
   {
    "duration": 2517,
    "start_time": "2023-10-11T18:19:37.327Z"
   },
   {
    "duration": 1874,
    "start_time": "2023-10-11T18:19:52.441Z"
   },
   {
    "duration": 474,
    "start_time": "2023-10-11T18:20:18.530Z"
   },
   {
    "duration": 4331,
    "start_time": "2023-10-11T18:20:44.682Z"
   },
   {
    "duration": 1910,
    "start_time": "2023-10-11T18:20:53.726Z"
   },
   {
    "duration": 3,
    "start_time": "2023-10-11T18:24:03.681Z"
   },
   {
    "duration": 3,
    "start_time": "2023-10-11T18:24:37.491Z"
   },
   {
    "duration": 4,
    "start_time": "2023-10-11T18:24:41.547Z"
   },
   {
    "duration": 6,
    "start_time": "2023-10-11T18:26:25.621Z"
   },
   {
    "duration": 4,
    "start_time": "2023-10-11T18:28:21.640Z"
   },
   {
    "duration": 15,
    "start_time": "2023-10-11T18:29:07.749Z"
   },
   {
    "duration": 5,
    "start_time": "2023-10-11T18:29:31.448Z"
   },
   {
    "duration": 6,
    "start_time": "2023-10-11T18:29:36.985Z"
   },
   {
    "duration": 8,
    "start_time": "2023-10-11T18:30:14.856Z"
   },
   {
    "duration": 7,
    "start_time": "2023-10-11T18:30:57.431Z"
   },
   {
    "duration": 3,
    "start_time": "2023-10-11T18:31:08.541Z"
   },
   {
    "duration": 18,
    "start_time": "2023-10-11T18:31:10.100Z"
   },
   {
    "duration": 3,
    "start_time": "2023-10-11T18:31:16.319Z"
   },
   {
    "duration": 13,
    "start_time": "2023-10-11T18:31:19.492Z"
   },
   {
    "duration": 3,
    "start_time": "2023-10-11T18:31:48.148Z"
   },
   {
    "duration": 8,
    "start_time": "2023-10-11T18:31:50.678Z"
   },
   {
    "duration": 8,
    "start_time": "2023-10-11T18:31:54.912Z"
   },
   {
    "duration": 15,
    "start_time": "2023-10-11T18:31:56.998Z"
   },
   {
    "duration": 4,
    "start_time": "2023-10-11T18:32:00.576Z"
   },
   {
    "duration": 9,
    "start_time": "2023-10-11T18:32:01.042Z"
   },
   {
    "duration": 4,
    "start_time": "2023-10-11T18:32:05.941Z"
   },
   {
    "duration": 8,
    "start_time": "2023-10-11T18:32:06.233Z"
   },
   {
    "duration": 3,
    "start_time": "2023-10-11T18:32:09.718Z"
   },
   {
    "duration": 6,
    "start_time": "2023-10-11T18:32:11.340Z"
   },
   {
    "duration": 3,
    "start_time": "2023-10-11T18:32:16.542Z"
   },
   {
    "duration": 8,
    "start_time": "2023-10-11T18:32:16.776Z"
   },
   {
    "duration": 3,
    "start_time": "2023-10-11T18:32:20.984Z"
   },
   {
    "duration": 6,
    "start_time": "2023-10-11T18:32:21.188Z"
   },
   {
    "duration": 27,
    "start_time": "2023-10-11T18:52:48.092Z"
   },
   {
    "duration": 421,
    "start_time": "2023-10-11T18:53:26.937Z"
   },
   {
    "duration": 602,
    "start_time": "2023-10-11T18:54:07.849Z"
   },
   {
    "duration": 5,
    "start_time": "2023-10-11T18:55:03.068Z"
   },
   {
    "duration": 49379,
    "start_time": "2023-10-11T18:55:09.589Z"
   },
   {
    "duration": 609,
    "start_time": "2023-10-11T19:15:51.820Z"
   },
   {
    "duration": 7,
    "start_time": "2023-10-11T19:17:01.672Z"
   },
   {
    "duration": 222,
    "start_time": "2023-10-11T19:18:15.279Z"
   },
   {
    "duration": 225,
    "start_time": "2023-10-11T19:18:27.976Z"
   },
   {
    "duration": 5,
    "start_time": "2023-10-11T19:19:30.370Z"
   },
   {
    "duration": 7,
    "start_time": "2023-10-11T19:19:36.334Z"
   },
   {
    "duration": 5,
    "start_time": "2023-10-11T19:19:39.937Z"
   },
   {
    "duration": 7,
    "start_time": "2023-10-11T19:19:53.165Z"
   },
   {
    "duration": 6,
    "start_time": "2023-10-11T19:20:14.169Z"
   },
   {
    "duration": 6,
    "start_time": "2023-10-11T19:22:00.988Z"
   },
   {
    "duration": 8,
    "start_time": "2023-10-11T19:55:32.211Z"
   },
   {
    "duration": 7,
    "start_time": "2023-10-11T19:56:10.026Z"
   },
   {
    "duration": 1643,
    "start_time": "2023-10-11T19:56:38.331Z"
   },
   {
    "duration": 1178,
    "start_time": "2023-10-11T19:56:53.347Z"
   },
   {
    "duration": 492,
    "start_time": "2023-10-11T19:56:54.528Z"
   },
   {
    "duration": 13,
    "start_time": "2023-10-11T19:56:55.023Z"
   },
   {
    "duration": 84,
    "start_time": "2023-10-11T19:56:55.038Z"
   },
   {
    "duration": 24,
    "start_time": "2023-10-11T19:56:55.123Z"
   },
   {
    "duration": 74,
    "start_time": "2023-10-11T19:56:55.149Z"
   },
   {
    "duration": 13,
    "start_time": "2023-10-11T19:56:55.226Z"
   },
   {
    "duration": 16,
    "start_time": "2023-10-11T19:56:55.241Z"
   },
   {
    "duration": 19,
    "start_time": "2023-10-11T19:56:55.260Z"
   },
   {
    "duration": 9,
    "start_time": "2023-10-11T19:56:55.282Z"
   },
   {
    "duration": 16,
    "start_time": "2023-10-11T19:56:55.303Z"
   },
   {
    "duration": 8,
    "start_time": "2023-10-11T19:56:55.322Z"
   },
   {
    "duration": 11,
    "start_time": "2023-10-11T19:56:55.332Z"
   },
   {
    "duration": 17,
    "start_time": "2023-10-11T19:56:55.344Z"
   },
   {
    "duration": 14,
    "start_time": "2023-10-11T19:56:55.363Z"
   },
   {
    "duration": 27,
    "start_time": "2023-10-11T19:56:55.379Z"
   },
   {
    "duration": 21,
    "start_time": "2023-10-11T19:56:55.409Z"
   },
   {
    "duration": 17,
    "start_time": "2023-10-11T19:56:55.432Z"
   },
   {
    "duration": 8,
    "start_time": "2023-10-11T19:56:55.451Z"
   },
   {
    "duration": 17,
    "start_time": "2023-10-11T19:56:55.461Z"
   },
   {
    "duration": 214,
    "start_time": "2023-10-11T19:56:55.480Z"
   },
   {
    "duration": 32,
    "start_time": "2023-10-11T19:56:55.696Z"
   },
   {
    "duration": 9,
    "start_time": "2023-10-11T19:56:55.729Z"
   },
   {
    "duration": 152,
    "start_time": "2023-10-11T19:56:55.741Z"
   },
   {
    "duration": 30,
    "start_time": "2023-10-11T19:56:55.896Z"
   },
   {
    "duration": 340,
    "start_time": "2023-10-11T19:56:55.928Z"
   },
   {
    "duration": 12,
    "start_time": "2023-10-11T19:56:56.270Z"
   },
   {
    "duration": 644,
    "start_time": "2023-10-11T19:56:56.307Z"
   },
   {
    "duration": 6,
    "start_time": "2023-10-11T19:56:56.953Z"
   },
   {
    "duration": 281,
    "start_time": "2023-10-11T19:56:56.961Z"
   },
   {
    "duration": 5,
    "start_time": "2023-10-11T19:56:57.244Z"
   },
   {
    "duration": 29,
    "start_time": "2023-10-11T19:56:57.252Z"
   },
   {
    "duration": 52,
    "start_time": "2023-10-11T19:56:57.283Z"
   },
   {
    "duration": 32,
    "start_time": "2023-10-11T19:56:57.337Z"
   },
   {
    "duration": 9,
    "start_time": "2023-10-11T19:56:57.372Z"
   },
   {
    "duration": 53,
    "start_time": "2023-10-11T19:56:57.383Z"
   },
   {
    "duration": 37,
    "start_time": "2023-10-11T19:56:57.438Z"
   },
   {
    "duration": 225,
    "start_time": "2023-10-11T19:56:57.477Z"
   },
   {
    "duration": 317,
    "start_time": "2023-10-11T19:56:57.707Z"
   },
   {
    "duration": 35,
    "start_time": "2023-10-11T19:56:58.027Z"
   },
   {
    "duration": 79,
    "start_time": "2023-10-11T19:56:58.064Z"
   },
   {
    "duration": 218,
    "start_time": "2023-10-11T19:56:58.145Z"
   },
   {
    "duration": 238,
    "start_time": "2023-10-11T19:56:58.365Z"
   },
   {
    "duration": 8,
    "start_time": "2023-10-11T19:56:58.616Z"
   },
   {
    "duration": 43,
    "start_time": "2023-10-11T19:56:58.626Z"
   },
   {
    "duration": 5,
    "start_time": "2023-10-11T19:56:58.671Z"
   },
   {
    "duration": 108,
    "start_time": "2023-10-11T19:56:58.678Z"
   },
   {
    "duration": 137,
    "start_time": "2023-10-11T19:56:58.788Z"
   },
   {
    "duration": 0,
    "start_time": "2023-10-11T19:56:58.927Z"
   },
   {
    "duration": 0,
    "start_time": "2023-10-11T19:56:58.928Z"
   },
   {
    "duration": 0,
    "start_time": "2023-10-11T19:56:58.929Z"
   },
   {
    "duration": 0,
    "start_time": "2023-10-11T19:56:58.931Z"
   },
   {
    "duration": 0,
    "start_time": "2023-10-11T19:56:58.932Z"
   },
   {
    "duration": 0,
    "start_time": "2023-10-11T19:56:58.934Z"
   },
   {
    "duration": 0,
    "start_time": "2023-10-11T19:56:58.935Z"
   },
   {
    "duration": 0,
    "start_time": "2023-10-11T19:56:58.936Z"
   },
   {
    "duration": 0,
    "start_time": "2023-10-11T19:56:58.936Z"
   },
   {
    "duration": 0,
    "start_time": "2023-10-11T19:56:58.937Z"
   },
   {
    "duration": 0,
    "start_time": "2023-10-11T19:56:58.939Z"
   },
   {
    "duration": 22,
    "start_time": "2023-10-11T19:57:18.815Z"
   },
   {
    "duration": 1228,
    "start_time": "2023-10-11T19:57:24.358Z"
   },
   {
    "duration": 246,
    "start_time": "2023-10-11T19:57:25.588Z"
   },
   {
    "duration": 14,
    "start_time": "2023-10-11T19:57:25.837Z"
   },
   {
    "duration": 112,
    "start_time": "2023-10-11T19:57:25.853Z"
   },
   {
    "duration": 34,
    "start_time": "2023-10-11T19:57:25.968Z"
   },
   {
    "duration": 27,
    "start_time": "2023-10-11T19:57:26.007Z"
   },
   {
    "duration": 68,
    "start_time": "2023-10-11T19:57:26.036Z"
   },
   {
    "duration": 22,
    "start_time": "2023-10-11T19:57:26.106Z"
   },
   {
    "duration": 28,
    "start_time": "2023-10-11T19:57:26.131Z"
   },
   {
    "duration": 11,
    "start_time": "2023-10-11T19:57:26.162Z"
   },
   {
    "duration": 30,
    "start_time": "2023-10-11T19:57:26.175Z"
   },
   {
    "duration": 18,
    "start_time": "2023-10-11T19:57:26.207Z"
   },
   {
    "duration": 15,
    "start_time": "2023-10-11T19:57:26.227Z"
   },
   {
    "duration": 30,
    "start_time": "2023-10-11T19:57:26.245Z"
   },
   {
    "duration": 38,
    "start_time": "2023-10-11T19:57:26.277Z"
   },
   {
    "duration": 16,
    "start_time": "2023-10-11T19:57:26.318Z"
   },
   {
    "duration": 38,
    "start_time": "2023-10-11T19:57:26.336Z"
   },
   {
    "duration": 51,
    "start_time": "2023-10-11T19:57:26.377Z"
   },
   {
    "duration": 59,
    "start_time": "2023-10-11T19:57:26.430Z"
   },
   {
    "duration": 47,
    "start_time": "2023-10-11T19:57:26.492Z"
   },
   {
    "duration": 234,
    "start_time": "2023-10-11T19:57:26.541Z"
   },
   {
    "duration": 29,
    "start_time": "2023-10-11T19:57:26.777Z"
   },
   {
    "duration": 32,
    "start_time": "2023-10-11T19:57:26.807Z"
   },
   {
    "duration": 187,
    "start_time": "2023-10-11T19:57:26.841Z"
   },
   {
    "duration": 19,
    "start_time": "2023-10-11T19:57:27.030Z"
   },
   {
    "duration": 384,
    "start_time": "2023-10-11T19:57:27.051Z"
   },
   {
    "duration": 13,
    "start_time": "2023-10-11T19:57:27.438Z"
   },
   {
    "duration": 676,
    "start_time": "2023-10-11T19:57:27.453Z"
   },
   {
    "duration": 6,
    "start_time": "2023-10-11T19:57:28.131Z"
   },
   {
    "duration": 224,
    "start_time": "2023-10-11T19:57:28.139Z"
   },
   {
    "duration": 5,
    "start_time": "2023-10-11T19:57:28.365Z"
   },
   {
    "duration": 61,
    "start_time": "2023-10-11T19:57:28.372Z"
   },
   {
    "duration": 25,
    "start_time": "2023-10-11T19:57:28.435Z"
   },
   {
    "duration": 49,
    "start_time": "2023-10-11T19:57:28.462Z"
   },
   {
    "duration": 23,
    "start_time": "2023-10-11T19:57:28.521Z"
   },
   {
    "duration": 58,
    "start_time": "2023-10-11T19:57:28.545Z"
   },
   {
    "duration": 37,
    "start_time": "2023-10-11T19:57:28.605Z"
   },
   {
    "duration": 237,
    "start_time": "2023-10-11T19:57:28.644Z"
   },
   {
    "duration": 326,
    "start_time": "2023-10-11T19:57:28.883Z"
   },
   {
    "duration": 45,
    "start_time": "2023-10-11T19:57:29.216Z"
   },
   {
    "duration": 53,
    "start_time": "2023-10-11T19:57:29.268Z"
   },
   {
    "duration": 200,
    "start_time": "2023-10-11T19:57:29.323Z"
   },
   {
    "duration": 213,
    "start_time": "2023-10-11T19:57:29.526Z"
   },
   {
    "duration": 4,
    "start_time": "2023-10-11T19:57:29.741Z"
   },
   {
    "duration": 50,
    "start_time": "2023-10-11T19:57:29.747Z"
   },
   {
    "duration": 9,
    "start_time": "2023-10-11T19:57:29.799Z"
   },
   {
    "duration": 50,
    "start_time": "2023-10-11T19:57:29.811Z"
   },
   {
    "duration": 22,
    "start_time": "2023-10-11T19:57:29.864Z"
   },
   {
    "duration": 21,
    "start_time": "2023-10-11T19:57:29.888Z"
   },
   {
    "duration": 40,
    "start_time": "2023-10-11T19:57:29.914Z"
   },
   {
    "duration": 31,
    "start_time": "2023-10-11T19:57:29.956Z"
   },
   {
    "duration": 44,
    "start_time": "2023-10-11T19:57:30.009Z"
   },
   {
    "duration": 2865,
    "start_time": "2023-10-11T19:57:30.055Z"
   },
   {
    "duration": 7,
    "start_time": "2023-10-11T19:57:32.922Z"
   },
   {
    "duration": 85,
    "start_time": "2023-10-11T19:57:32.931Z"
   },
   {
    "duration": 0,
    "start_time": "2023-10-11T19:57:33.018Z"
   },
   {
    "duration": 0,
    "start_time": "2023-10-11T19:57:33.019Z"
   },
   {
    "duration": 0,
    "start_time": "2023-10-11T19:57:33.020Z"
   },
   {
    "duration": 0,
    "start_time": "2023-10-11T19:57:33.021Z"
   },
   {
    "duration": 1785,
    "start_time": "2023-10-11T19:58:53.383Z"
   },
   {
    "duration": 6,
    "start_time": "2023-10-11T19:59:03.447Z"
   },
   {
    "duration": 5,
    "start_time": "2023-10-11T19:59:13.487Z"
   },
   {
    "duration": 5,
    "start_time": "2023-10-11T19:59:20.281Z"
   },
   {
    "duration": 5,
    "start_time": "2023-10-11T20:00:04.379Z"
   },
   {
    "duration": 4,
    "start_time": "2023-10-11T20:01:58.902Z"
   },
   {
    "duration": 7,
    "start_time": "2023-10-11T20:01:59.295Z"
   },
   {
    "duration": 3,
    "start_time": "2023-10-11T20:02:07.388Z"
   },
   {
    "duration": 7,
    "start_time": "2023-10-11T20:02:07.679Z"
   },
   {
    "duration": 2,
    "start_time": "2023-10-11T20:02:13.641Z"
   },
   {
    "duration": 8,
    "start_time": "2023-10-11T20:02:13.925Z"
   },
   {
    "duration": 3,
    "start_time": "2023-10-11T20:02:18.641Z"
   },
   {
    "duration": 6,
    "start_time": "2023-10-11T20:02:27.246Z"
   },
   {
    "duration": 92,
    "start_time": "2023-10-11T20:03:19.334Z"
   },
   {
    "duration": 1240,
    "start_time": "2023-10-11T20:44:16.495Z"
   },
   {
    "duration": 306,
    "start_time": "2023-10-11T20:44:17.737Z"
   },
   {
    "duration": 13,
    "start_time": "2023-10-11T20:44:18.045Z"
   },
   {
    "duration": 37,
    "start_time": "2023-10-11T20:44:18.061Z"
   },
   {
    "duration": 18,
    "start_time": "2023-10-11T20:44:18.100Z"
   },
   {
    "duration": 23,
    "start_time": "2023-10-11T20:44:18.120Z"
   },
   {
    "duration": 18,
    "start_time": "2023-10-11T20:44:18.145Z"
   },
   {
    "duration": 20,
    "start_time": "2023-10-11T20:44:18.165Z"
   },
   {
    "duration": 25,
    "start_time": "2023-10-11T20:44:18.187Z"
   },
   {
    "duration": 12,
    "start_time": "2023-10-11T20:44:18.217Z"
   },
   {
    "duration": 9,
    "start_time": "2023-10-11T20:44:18.230Z"
   },
   {
    "duration": 13,
    "start_time": "2023-10-11T20:44:18.241Z"
   },
   {
    "duration": 9,
    "start_time": "2023-10-11T20:44:18.255Z"
   },
   {
    "duration": 48,
    "start_time": "2023-10-11T20:44:18.266Z"
   },
   {
    "duration": 12,
    "start_time": "2023-10-11T20:44:18.321Z"
   },
   {
    "duration": 27,
    "start_time": "2023-10-11T20:44:18.334Z"
   },
   {
    "duration": 14,
    "start_time": "2023-10-11T20:44:18.362Z"
   },
   {
    "duration": 14,
    "start_time": "2023-10-11T20:44:18.377Z"
   },
   {
    "duration": 14,
    "start_time": "2023-10-11T20:44:18.393Z"
   },
   {
    "duration": 19,
    "start_time": "2023-10-11T20:44:18.408Z"
   },
   {
    "duration": 211,
    "start_time": "2023-10-11T20:44:18.429Z"
   },
   {
    "duration": 15,
    "start_time": "2023-10-11T20:44:18.642Z"
   },
   {
    "duration": 17,
    "start_time": "2023-10-11T20:44:18.658Z"
   },
   {
    "duration": 178,
    "start_time": "2023-10-11T20:44:18.677Z"
   },
   {
    "duration": 19,
    "start_time": "2023-10-11T20:44:18.858Z"
   },
   {
    "duration": 360,
    "start_time": "2023-10-11T20:44:18.879Z"
   },
   {
    "duration": 11,
    "start_time": "2023-10-11T20:44:19.241Z"
   },
   {
    "duration": 629,
    "start_time": "2023-10-11T20:44:19.256Z"
   },
   {
    "duration": 5,
    "start_time": "2023-10-11T20:44:19.887Z"
   },
   {
    "duration": 220,
    "start_time": "2023-10-11T20:44:19.903Z"
   },
   {
    "duration": 13,
    "start_time": "2023-10-11T20:44:20.125Z"
   },
   {
    "duration": 32,
    "start_time": "2023-10-11T20:44:20.139Z"
   },
   {
    "duration": 36,
    "start_time": "2023-10-11T20:44:20.173Z"
   },
   {
    "duration": 33,
    "start_time": "2023-10-11T20:44:20.211Z"
   },
   {
    "duration": 4,
    "start_time": "2023-10-11T20:44:20.246Z"
   },
   {
    "duration": 50,
    "start_time": "2023-10-11T20:44:20.252Z"
   },
   {
    "duration": 33,
    "start_time": "2023-10-11T20:44:20.304Z"
   },
   {
    "duration": 242,
    "start_time": "2023-10-11T20:44:20.339Z"
   },
   {
    "duration": 299,
    "start_time": "2023-10-11T20:44:20.584Z"
   },
   {
    "duration": 33,
    "start_time": "2023-10-11T20:44:20.885Z"
   },
   {
    "duration": 72,
    "start_time": "2023-10-11T20:44:20.920Z"
   },
   {
    "duration": 212,
    "start_time": "2023-10-11T20:44:20.994Z"
   },
   {
    "duration": 232,
    "start_time": "2023-10-11T20:44:21.208Z"
   },
   {
    "duration": 4,
    "start_time": "2023-10-11T20:44:21.442Z"
   },
   {
    "duration": 42,
    "start_time": "2023-10-11T20:44:21.448Z"
   },
   {
    "duration": 4,
    "start_time": "2023-10-11T20:44:21.492Z"
   },
   {
    "duration": 44,
    "start_time": "2023-10-11T20:44:21.498Z"
   },
   {
    "duration": 20,
    "start_time": "2023-10-11T20:44:21.544Z"
   },
   {
    "duration": 24,
    "start_time": "2023-10-11T20:44:21.566Z"
   },
   {
    "duration": 13,
    "start_time": "2023-10-11T20:44:21.592Z"
   },
   {
    "duration": 10,
    "start_time": "2023-10-11T20:44:21.607Z"
   },
   {
    "duration": 15,
    "start_time": "2023-10-11T20:44:21.619Z"
   },
   {
    "duration": 1896,
    "start_time": "2023-10-11T20:44:21.637Z"
   },
   {
    "duration": 6,
    "start_time": "2023-10-11T20:44:23.535Z"
   },
   {
    "duration": 15,
    "start_time": "2023-10-11T20:44:23.543Z"
   },
   {
    "duration": 17,
    "start_time": "2023-10-11T20:44:23.560Z"
   },
   {
    "duration": 1932,
    "start_time": "2023-10-11T20:44:40.783Z"
   },
   {
    "duration": 43,
    "start_time": "2023-10-11T22:15:28.524Z"
   },
   {
    "duration": 1136,
    "start_time": "2023-10-11T22:15:34.292Z"
   },
   {
    "duration": 372,
    "start_time": "2023-10-11T22:15:35.430Z"
   },
   {
    "duration": 11,
    "start_time": "2023-10-11T22:15:35.803Z"
   },
   {
    "duration": 44,
    "start_time": "2023-10-11T22:15:35.815Z"
   },
   {
    "duration": 76,
    "start_time": "2023-10-11T22:15:35.861Z"
   },
   {
    "duration": 37,
    "start_time": "2023-10-11T22:15:35.939Z"
   },
   {
    "duration": 115,
    "start_time": "2023-10-11T22:15:35.978Z"
   },
   {
    "duration": 19,
    "start_time": "2023-10-11T22:15:36.095Z"
   },
   {
    "duration": 40,
    "start_time": "2023-10-11T22:15:36.115Z"
   },
   {
    "duration": 25,
    "start_time": "2023-10-11T22:15:36.156Z"
   },
   {
    "duration": 33,
    "start_time": "2023-10-11T22:15:36.183Z"
   },
   {
    "duration": 20,
    "start_time": "2023-10-11T22:15:36.217Z"
   },
   {
    "duration": 18,
    "start_time": "2023-10-11T22:15:36.239Z"
   },
   {
    "duration": 24,
    "start_time": "2023-10-11T22:15:36.259Z"
   },
   {
    "duration": 14,
    "start_time": "2023-10-11T22:15:36.286Z"
   },
   {
    "duration": 17,
    "start_time": "2023-10-11T22:15:36.302Z"
   },
   {
    "duration": 28,
    "start_time": "2023-10-11T22:15:36.321Z"
   },
   {
    "duration": 23,
    "start_time": "2023-10-11T22:15:36.351Z"
   },
   {
    "duration": 13,
    "start_time": "2023-10-11T22:15:36.376Z"
   },
   {
    "duration": 40,
    "start_time": "2023-10-11T22:15:36.390Z"
   },
   {
    "duration": 173,
    "start_time": "2023-10-11T22:15:36.433Z"
   },
   {
    "duration": 12,
    "start_time": "2023-10-11T22:15:36.607Z"
   },
   {
    "duration": 24,
    "start_time": "2023-10-11T22:15:36.621Z"
   },
   {
    "duration": 121,
    "start_time": "2023-10-11T22:15:36.646Z"
   },
   {
    "duration": 12,
    "start_time": "2023-10-11T22:15:36.768Z"
   },
   {
    "duration": 285,
    "start_time": "2023-10-11T22:15:36.781Z"
   },
   {
    "duration": 10,
    "start_time": "2023-10-11T22:15:37.068Z"
   },
   {
    "duration": 456,
    "start_time": "2023-10-11T22:15:37.080Z"
   },
   {
    "duration": 5,
    "start_time": "2023-10-11T22:15:37.537Z"
   },
   {
    "duration": 173,
    "start_time": "2023-10-11T22:15:37.549Z"
   },
   {
    "duration": 5,
    "start_time": "2023-10-11T22:15:37.723Z"
   },
   {
    "duration": 43,
    "start_time": "2023-10-11T22:15:37.729Z"
   },
   {
    "duration": 52,
    "start_time": "2023-10-11T22:15:37.774Z"
   },
   {
    "duration": 16,
    "start_time": "2023-10-11T22:15:37.828Z"
   },
   {
    "duration": 27,
    "start_time": "2023-10-11T22:15:37.846Z"
   },
   {
    "duration": 30,
    "start_time": "2023-10-11T22:15:37.874Z"
   },
   {
    "duration": 25,
    "start_time": "2023-10-11T22:15:37.905Z"
   },
   {
    "duration": 185,
    "start_time": "2023-10-11T22:15:37.932Z"
   },
   {
    "duration": 212,
    "start_time": "2023-10-11T22:15:38.119Z"
   },
   {
    "duration": 27,
    "start_time": "2023-10-11T22:15:38.332Z"
   },
   {
    "duration": 20,
    "start_time": "2023-10-11T22:15:38.362Z"
   },
   {
    "duration": 192,
    "start_time": "2023-10-11T22:15:38.384Z"
   },
   {
    "duration": 162,
    "start_time": "2023-10-11T22:15:38.578Z"
   },
   {
    "duration": 8,
    "start_time": "2023-10-11T22:15:38.742Z"
   },
   {
    "duration": 32,
    "start_time": "2023-10-11T22:15:38.752Z"
   },
   {
    "duration": 2,
    "start_time": "2023-10-11T22:15:38.786Z"
   },
   {
    "duration": 42,
    "start_time": "2023-10-11T22:15:38.790Z"
   },
   {
    "duration": 15,
    "start_time": "2023-10-11T22:15:38.833Z"
   },
   {
    "duration": 4,
    "start_time": "2023-10-11T22:15:38.850Z"
   },
   {
    "duration": 23,
    "start_time": "2023-10-11T22:15:38.855Z"
   },
   {
    "duration": 25,
    "start_time": "2023-10-11T22:15:38.879Z"
   },
   {
    "duration": 44,
    "start_time": "2023-10-11T22:15:38.905Z"
   },
   {
    "duration": 28,
    "start_time": "2023-10-11T22:15:38.951Z"
   },
   {
    "duration": 1395,
    "start_time": "2023-10-11T22:15:38.981Z"
   },
   {
    "duration": 7,
    "start_time": "2023-10-11T22:15:40.378Z"
   },
   {
    "duration": 10,
    "start_time": "2023-10-11T22:15:40.387Z"
   },
   {
    "duration": 10,
    "start_time": "2023-10-11T22:15:40.398Z"
   },
   {
    "duration": 999,
    "start_time": "2023-10-11T22:33:02.670Z"
   },
   {
    "duration": 170,
    "start_time": "2023-10-11T22:33:03.671Z"
   },
   {
    "duration": 11,
    "start_time": "2023-10-11T22:33:03.842Z"
   },
   {
    "duration": 16,
    "start_time": "2023-10-11T22:33:03.855Z"
   },
   {
    "duration": 9,
    "start_time": "2023-10-11T22:33:03.873Z"
   },
   {
    "duration": 8,
    "start_time": "2023-10-11T22:33:03.884Z"
   },
   {
    "duration": 15,
    "start_time": "2023-10-11T22:33:03.893Z"
   },
   {
    "duration": 21,
    "start_time": "2023-10-11T22:33:03.909Z"
   },
   {
    "duration": 26,
    "start_time": "2023-10-11T22:33:03.932Z"
   },
   {
    "duration": 7,
    "start_time": "2023-10-11T22:33:03.960Z"
   },
   {
    "duration": 5,
    "start_time": "2023-10-11T22:33:03.968Z"
   },
   {
    "duration": 7,
    "start_time": "2023-10-11T22:33:03.974Z"
   },
   {
    "duration": 5,
    "start_time": "2023-10-11T22:33:03.982Z"
   },
   {
    "duration": 7,
    "start_time": "2023-10-11T22:33:03.988Z"
   },
   {
    "duration": 4,
    "start_time": "2023-10-11T22:33:03.996Z"
   },
   {
    "duration": 12,
    "start_time": "2023-10-11T22:33:04.001Z"
   },
   {
    "duration": 19,
    "start_time": "2023-10-11T22:33:04.014Z"
   },
   {
    "duration": 8,
    "start_time": "2023-10-11T22:33:04.049Z"
   },
   {
    "duration": 6,
    "start_time": "2023-10-11T22:33:04.058Z"
   },
   {
    "duration": 13,
    "start_time": "2023-10-11T22:33:04.065Z"
   },
   {
    "duration": 157,
    "start_time": "2023-10-11T22:33:04.079Z"
   },
   {
    "duration": 19,
    "start_time": "2023-10-11T22:33:04.237Z"
   },
   {
    "duration": 11,
    "start_time": "2023-10-11T22:33:04.258Z"
   },
   {
    "duration": 105,
    "start_time": "2023-10-11T22:33:04.270Z"
   },
   {
    "duration": 12,
    "start_time": "2023-10-11T22:33:04.376Z"
   },
   {
    "duration": 242,
    "start_time": "2023-10-11T22:33:04.389Z"
   },
   {
    "duration": 16,
    "start_time": "2023-10-11T22:33:04.633Z"
   },
   {
    "duration": 450,
    "start_time": "2023-10-11T22:33:04.652Z"
   },
   {
    "duration": 5,
    "start_time": "2023-10-11T22:33:05.103Z"
   },
   {
    "duration": 170,
    "start_time": "2023-10-11T22:33:05.109Z"
   },
   {
    "duration": 5,
    "start_time": "2023-10-11T22:33:05.281Z"
   },
   {
    "duration": 19,
    "start_time": "2023-10-11T22:33:05.288Z"
   },
   {
    "duration": 18,
    "start_time": "2023-10-11T22:33:05.308Z"
   },
   {
    "duration": 17,
    "start_time": "2023-10-11T22:33:05.350Z"
   },
   {
    "duration": 4,
    "start_time": "2023-10-11T22:33:05.369Z"
   },
   {
    "duration": 29,
    "start_time": "2023-10-11T22:33:05.374Z"
   },
   {
    "duration": 18,
    "start_time": "2023-10-11T22:33:05.404Z"
   },
   {
    "duration": 186,
    "start_time": "2023-10-11T22:33:05.424Z"
   },
   {
    "duration": 213,
    "start_time": "2023-10-11T22:33:05.612Z"
   },
   {
    "duration": 25,
    "start_time": "2023-10-11T22:33:05.827Z"
   },
   {
    "duration": 19,
    "start_time": "2023-10-11T22:33:05.853Z"
   },
   {
    "duration": 206,
    "start_time": "2023-10-11T22:33:05.873Z"
   },
   {
    "duration": 160,
    "start_time": "2023-10-11T22:33:06.081Z"
   },
   {
    "duration": 3,
    "start_time": "2023-10-11T22:33:06.242Z"
   },
   {
    "duration": 35,
    "start_time": "2023-10-11T22:33:06.246Z"
   },
   {
    "duration": 3,
    "start_time": "2023-10-11T22:33:06.283Z"
   },
   {
    "duration": 28,
    "start_time": "2023-10-11T22:33:06.288Z"
   },
   {
    "duration": 32,
    "start_time": "2023-10-11T22:33:06.318Z"
   },
   {
    "duration": 4,
    "start_time": "2023-10-11T22:33:06.352Z"
   },
   {
    "duration": 6,
    "start_time": "2023-10-11T22:33:06.357Z"
   },
   {
    "duration": 4,
    "start_time": "2023-10-11T22:33:06.365Z"
   },
   {
    "duration": 8,
    "start_time": "2023-10-11T22:33:06.371Z"
   },
   {
    "duration": 7,
    "start_time": "2023-10-11T22:33:06.381Z"
   },
   {
    "duration": 1369,
    "start_time": "2023-10-11T22:33:06.389Z"
   },
   {
    "duration": 6,
    "start_time": "2023-10-11T22:33:07.759Z"
   },
   {
    "duration": 5,
    "start_time": "2023-10-11T22:33:07.766Z"
   },
   {
    "duration": 7,
    "start_time": "2023-10-11T22:33:07.772Z"
   },
   {
    "duration": 5,
    "start_time": "2023-10-11T22:33:07.780Z"
   },
   {
    "duration": 70,
    "start_time": "2023-10-12T17:44:47.291Z"
   },
   {
    "duration": 1368,
    "start_time": "2023-10-12T17:44:52.758Z"
   },
   {
    "duration": 286,
    "start_time": "2023-10-12T17:44:54.885Z"
   },
   {
    "duration": 13,
    "start_time": "2023-10-12T17:44:57.681Z"
   },
   {
    "duration": 19,
    "start_time": "2023-10-12T17:45:00.267Z"
   },
   {
    "duration": 16,
    "start_time": "2023-10-12T17:45:10.166Z"
   },
   {
    "duration": 205,
    "start_time": "2023-10-12T17:45:34.687Z"
   },
   {
    "duration": 11,
    "start_time": "2023-10-12T17:45:37.380Z"
   },
   {
    "duration": 13,
    "start_time": "2023-10-12T17:45:38.300Z"
   },
   {
    "duration": 14,
    "start_time": "2023-10-12T17:45:40.673Z"
   },
   {
    "duration": 193,
    "start_time": "2023-10-12T17:46:32.974Z"
   },
   {
    "duration": 16,
    "start_time": "2023-10-12T17:46:37.344Z"
   },
   {
    "duration": 17,
    "start_time": "2023-10-12T17:46:39.457Z"
   },
   {
    "duration": 14,
    "start_time": "2023-10-12T17:46:52.847Z"
   },
   {
    "duration": 201,
    "start_time": "2023-10-12T17:47:16.508Z"
   },
   {
    "duration": 12,
    "start_time": "2023-10-12T17:47:18.683Z"
   },
   {
    "duration": 11,
    "start_time": "2023-10-12T17:47:19.168Z"
   },
   {
    "duration": 13,
    "start_time": "2023-10-12T17:47:21.296Z"
   },
   {
    "duration": 14,
    "start_time": "2023-10-12T17:47:24.621Z"
   },
   {
    "duration": 26,
    "start_time": "2023-10-12T18:01:09.834Z"
   },
   {
    "duration": 26,
    "start_time": "2023-10-12T18:01:20.859Z"
   },
   {
    "duration": 7,
    "start_time": "2023-10-12T18:04:49.766Z"
   },
   {
    "duration": 108,
    "start_time": "2023-10-12T18:05:20.346Z"
   },
   {
    "duration": 94,
    "start_time": "2023-10-12T18:05:27.478Z"
   },
   {
    "duration": 9,
    "start_time": "2023-10-12T18:06:15.387Z"
   },
   {
    "duration": 65,
    "start_time": "2023-10-12T18:09:08.076Z"
   },
   {
    "duration": 11,
    "start_time": "2023-10-12T18:09:14.165Z"
   },
   {
    "duration": 16,
    "start_time": "2023-10-12T18:09:50.455Z"
   },
   {
    "duration": 10,
    "start_time": "2023-10-12T18:10:47.764Z"
   },
   {
    "duration": 102,
    "start_time": "2023-10-12T18:11:08.900Z"
   },
   {
    "duration": 9,
    "start_time": "2023-10-12T18:11:35.433Z"
   },
   {
    "duration": 9,
    "start_time": "2023-10-12T18:11:40.161Z"
   },
   {
    "duration": 11,
    "start_time": "2023-10-12T18:14:13.699Z"
   },
   {
    "duration": 1203,
    "start_time": "2023-10-12T18:14:26.551Z"
   },
   {
    "duration": 514,
    "start_time": "2023-10-12T18:14:27.755Z"
   },
   {
    "duration": 13,
    "start_time": "2023-10-12T18:14:28.271Z"
   },
   {
    "duration": 65,
    "start_time": "2023-10-12T18:14:28.286Z"
   },
   {
    "duration": 12,
    "start_time": "2023-10-12T18:14:28.358Z"
   },
   {
    "duration": 19,
    "start_time": "2023-10-12T18:14:28.372Z"
   },
   {
    "duration": 40,
    "start_time": "2023-10-12T18:14:28.393Z"
   },
   {
    "duration": 28,
    "start_time": "2023-10-12T18:14:28.434Z"
   },
   {
    "duration": 15,
    "start_time": "2023-10-12T18:14:28.464Z"
   },
   {
    "duration": 20,
    "start_time": "2023-10-12T18:14:28.482Z"
   },
   {
    "duration": 43,
    "start_time": "2023-10-12T18:14:28.504Z"
   },
   {
    "duration": 15,
    "start_time": "2023-10-12T18:14:28.549Z"
   },
   {
    "duration": 24,
    "start_time": "2023-10-12T18:14:28.565Z"
   },
   {
    "duration": 14,
    "start_time": "2023-10-12T18:14:28.591Z"
   },
   {
    "duration": 19,
    "start_time": "2023-10-12T18:14:28.607Z"
   },
   {
    "duration": 15,
    "start_time": "2023-10-12T18:14:28.627Z"
   },
   {
    "duration": 17,
    "start_time": "2023-10-12T18:14:28.647Z"
   },
   {
    "duration": 7,
    "start_time": "2023-10-12T18:14:28.666Z"
   },
   {
    "duration": 13,
    "start_time": "2023-10-12T18:14:28.674Z"
   },
   {
    "duration": 6,
    "start_time": "2023-10-12T18:14:28.688Z"
   },
   {
    "duration": 19,
    "start_time": "2023-10-12T18:14:28.696Z"
   },
   {
    "duration": 196,
    "start_time": "2023-10-12T18:14:28.717Z"
   },
   {
    "duration": 12,
    "start_time": "2023-10-12T18:14:28.915Z"
   },
   {
    "duration": 39,
    "start_time": "2023-10-12T18:14:28.929Z"
   },
   {
    "duration": 35,
    "start_time": "2023-10-12T18:14:28.970Z"
   },
   {
    "duration": 111,
    "start_time": "2023-10-12T18:14:29.007Z"
   },
   {
    "duration": 13,
    "start_time": "2023-10-12T18:14:29.120Z"
   },
   {
    "duration": 315,
    "start_time": "2023-10-12T18:14:29.143Z"
   },
   {
    "duration": 13,
    "start_time": "2023-10-12T18:14:29.461Z"
   },
   {
    "duration": 641,
    "start_time": "2023-10-12T18:14:29.476Z"
   },
   {
    "duration": 5,
    "start_time": "2023-10-12T18:14:30.119Z"
   },
   {
    "duration": 311,
    "start_time": "2023-10-12T18:14:30.126Z"
   },
   {
    "duration": 6,
    "start_time": "2023-10-12T18:14:30.439Z"
   },
   {
    "duration": 68,
    "start_time": "2023-10-12T18:14:30.447Z"
   },
   {
    "duration": 91,
    "start_time": "2023-10-12T18:14:30.517Z"
   },
   {
    "duration": 71,
    "start_time": "2023-10-12T18:14:30.610Z"
   },
   {
    "duration": 169,
    "start_time": "2023-10-12T18:14:30.682Z"
   },
   {
    "duration": 117,
    "start_time": "2023-10-12T18:14:30.854Z"
   },
   {
    "duration": 112,
    "start_time": "2023-10-12T18:14:30.973Z"
   },
   {
    "duration": 253,
    "start_time": "2023-10-12T18:14:31.087Z"
   },
   {
    "duration": 181,
    "start_time": "2023-10-12T18:14:31.350Z"
   },
   {
    "duration": 58,
    "start_time": "2023-10-12T18:14:31.533Z"
   },
   {
    "duration": 69,
    "start_time": "2023-10-12T18:14:31.594Z"
   },
   {
    "duration": 249,
    "start_time": "2023-10-12T18:14:31.665Z"
   },
   {
    "duration": 366,
    "start_time": "2023-10-12T18:14:31.917Z"
   },
   {
    "duration": 5,
    "start_time": "2023-10-12T18:14:32.285Z"
   },
   {
    "duration": 108,
    "start_time": "2023-10-12T18:14:32.292Z"
   },
   {
    "duration": 136,
    "start_time": "2023-10-12T18:14:32.402Z"
   },
   {
    "duration": 52,
    "start_time": "2023-10-12T18:14:32.547Z"
   },
   {
    "duration": 70,
    "start_time": "2023-10-12T18:14:32.600Z"
   },
   {
    "duration": 14,
    "start_time": "2023-10-12T18:14:32.672Z"
   },
   {
    "duration": 58,
    "start_time": "2023-10-12T18:14:32.688Z"
   },
   {
    "duration": 31,
    "start_time": "2023-10-12T18:14:32.748Z"
   },
   {
    "duration": 70,
    "start_time": "2023-10-12T18:14:32.780Z"
   },
   {
    "duration": 18,
    "start_time": "2023-10-12T18:14:32.852Z"
   },
   {
    "duration": 2604,
    "start_time": "2023-10-12T18:14:32.872Z"
   },
   {
    "duration": 6,
    "start_time": "2023-10-12T18:14:35.478Z"
   },
   {
    "duration": 17,
    "start_time": "2023-10-12T18:14:35.486Z"
   },
   {
    "duration": 15,
    "start_time": "2023-10-12T18:14:35.505Z"
   },
   {
    "duration": 37,
    "start_time": "2023-10-12T18:14:35.521Z"
   },
   {
    "duration": 203,
    "start_time": "2023-10-12T18:17:05.811Z"
   },
   {
    "duration": 336,
    "start_time": "2023-10-12T18:17:32.168Z"
   },
   {
    "duration": 105,
    "start_time": "2023-10-12T18:27:17.821Z"
   },
   {
    "duration": 1867,
    "start_time": "2023-10-12T18:27:23.618Z"
   },
   {
    "duration": 12,
    "start_time": "2023-10-12T18:32:33.602Z"
   },
   {
    "duration": 69,
    "start_time": "2023-10-12T18:32:38.297Z"
   },
   {
    "duration": 11,
    "start_time": "2023-10-12T18:32:48.797Z"
   },
   {
    "duration": 325,
    "start_time": "2023-10-12T18:33:34.435Z"
   },
   {
    "duration": 209,
    "start_time": "2023-10-12T18:36:53.202Z"
   },
   {
    "duration": 15,
    "start_time": "2023-10-12T18:37:03.772Z"
   },
   {
    "duration": 7,
    "start_time": "2023-10-12T18:37:14.063Z"
   },
   {
    "duration": 5,
    "start_time": "2023-10-12T18:38:02.024Z"
   },
   {
    "duration": 15,
    "start_time": "2023-10-12T18:38:18.008Z"
   },
   {
    "duration": 12,
    "start_time": "2023-10-12T18:40:12.061Z"
   },
   {
    "duration": 11,
    "start_time": "2023-10-12T18:40:42.801Z"
   },
   {
    "duration": 8,
    "start_time": "2023-10-12T18:40:54.418Z"
   },
   {
    "duration": 9,
    "start_time": "2023-10-12T18:41:18.587Z"
   },
   {
    "duration": 9,
    "start_time": "2023-10-12T18:41:30.619Z"
   },
   {
    "duration": 9,
    "start_time": "2023-10-12T18:41:37.926Z"
   },
   {
    "duration": 104,
    "start_time": "2023-10-12T18:41:54.165Z"
   },
   {
    "duration": 126,
    "start_time": "2023-10-12T18:43:19.420Z"
   },
   {
    "duration": 8,
    "start_time": "2023-10-12T18:48:58.704Z"
   },
   {
    "duration": 5,
    "start_time": "2023-10-12T18:49:17.529Z"
   },
   {
    "duration": 6,
    "start_time": "2023-10-12T18:49:24.779Z"
   },
   {
    "duration": 7,
    "start_time": "2023-10-12T18:49:47.195Z"
   },
   {
    "duration": 11,
    "start_time": "2023-10-12T18:51:25.279Z"
   },
   {
    "duration": 10,
    "start_time": "2023-10-12T18:53:32.070Z"
   },
   {
    "duration": 13,
    "start_time": "2023-10-12T18:53:37.336Z"
   },
   {
    "duration": 9,
    "start_time": "2023-10-12T18:53:49.261Z"
   },
   {
    "duration": 8,
    "start_time": "2023-10-12T18:54:02.024Z"
   },
   {
    "duration": 5,
    "start_time": "2023-10-12T18:54:23.804Z"
   },
   {
    "duration": 4,
    "start_time": "2023-10-12T18:54:58.233Z"
   },
   {
    "duration": 17,
    "start_time": "2023-10-12T18:55:20.964Z"
   },
   {
    "duration": 144,
    "start_time": "2023-10-12T18:55:39.491Z"
   },
   {
    "duration": 155,
    "start_time": "2023-10-12T18:55:43.380Z"
   },
   {
    "duration": 9,
    "start_time": "2023-10-12T18:56:35.905Z"
   },
   {
    "duration": 13,
    "start_time": "2023-10-12T18:56:40.990Z"
   },
   {
    "duration": 7,
    "start_time": "2023-10-12T18:56:51.902Z"
   },
   {
    "duration": 8,
    "start_time": "2023-10-12T18:57:59.716Z"
   },
   {
    "duration": 7,
    "start_time": "2023-10-12T18:59:29.912Z"
   },
   {
    "duration": 11,
    "start_time": "2023-10-12T18:59:44.799Z"
   },
   {
    "duration": 15,
    "start_time": "2023-10-12T19:00:12.338Z"
   },
   {
    "duration": 8,
    "start_time": "2023-10-12T19:00:26.710Z"
   },
   {
    "duration": 10,
    "start_time": "2023-10-12T19:02:59.970Z"
   },
   {
    "duration": 201,
    "start_time": "2023-10-12T19:05:15.906Z"
   },
   {
    "duration": 202,
    "start_time": "2023-10-12T19:05:19.783Z"
   },
   {
    "duration": 19,
    "start_time": "2023-10-12T19:07:42.673Z"
   },
   {
    "duration": 12,
    "start_time": "2023-10-12T19:07:49.487Z"
   },
   {
    "duration": 16,
    "start_time": "2023-10-12T19:07:58.090Z"
   },
   {
    "duration": 16,
    "start_time": "2023-10-12T19:08:25.045Z"
   },
   {
    "duration": 9,
    "start_time": "2023-10-12T19:08:36.799Z"
   },
   {
    "duration": 13,
    "start_time": "2023-10-12T19:08:57.422Z"
   },
   {
    "duration": 6,
    "start_time": "2023-10-12T19:09:06.030Z"
   },
   {
    "duration": 5,
    "start_time": "2023-10-12T19:09:53.123Z"
   },
   {
    "duration": 13,
    "start_time": "2023-10-12T19:10:36.421Z"
   },
   {
    "duration": 16,
    "start_time": "2023-10-12T19:10:41.573Z"
   },
   {
    "duration": 11,
    "start_time": "2023-10-12T19:10:57.418Z"
   },
   {
    "duration": 112,
    "start_time": "2023-10-12T19:16:32.336Z"
   },
   {
    "duration": 166,
    "start_time": "2023-10-12T19:16:38.102Z"
   },
   {
    "duration": 13,
    "start_time": "2023-10-12T19:16:45.268Z"
   },
   {
    "duration": 18,
    "start_time": "2023-10-12T19:17:06.304Z"
   },
   {
    "duration": 11,
    "start_time": "2023-10-12T19:17:36.406Z"
   },
   {
    "duration": 13,
    "start_time": "2023-10-12T19:33:55.897Z"
   },
   {
    "duration": 4,
    "start_time": "2023-10-12T19:34:01.411Z"
   },
   {
    "duration": 8,
    "start_time": "2023-10-12T19:34:22.396Z"
   },
   {
    "duration": 8,
    "start_time": "2023-10-12T19:34:55.800Z"
   },
   {
    "duration": 10,
    "start_time": "2023-10-12T19:39:40.671Z"
   },
   {
    "duration": 9,
    "start_time": "2023-10-12T19:39:49.917Z"
   },
   {
    "duration": 5,
    "start_time": "2023-10-12T19:40:04.505Z"
   },
   {
    "duration": 5,
    "start_time": "2023-10-12T19:40:13.198Z"
   },
   {
    "duration": 81,
    "start_time": "2023-10-12T19:41:08.184Z"
   },
   {
    "duration": 251,
    "start_time": "2023-10-12T19:43:31.926Z"
   },
   {
    "duration": 264,
    "start_time": "2023-10-12T19:44:33.067Z"
   },
   {
    "duration": 228,
    "start_time": "2023-10-12T19:54:45.972Z"
   },
   {
    "duration": 10,
    "start_time": "2023-10-12T20:01:22.681Z"
   },
   {
    "duration": 8,
    "start_time": "2023-10-12T20:01:49.121Z"
   },
   {
    "duration": 16,
    "start_time": "2023-10-12T20:02:20.335Z"
   },
   {
    "duration": 13,
    "start_time": "2023-10-12T20:02:29.598Z"
   },
   {
    "duration": 54,
    "start_time": "2023-10-12T20:12:33.430Z"
   },
   {
    "duration": 24,
    "start_time": "2023-10-12T20:13:04.011Z"
   },
   {
    "duration": 12,
    "start_time": "2023-10-12T20:13:09.662Z"
   },
   {
    "duration": 9,
    "start_time": "2023-10-12T20:21:53.378Z"
   },
   {
    "duration": 6,
    "start_time": "2023-10-12T20:22:04.584Z"
   },
   {
    "duration": 7,
    "start_time": "2023-10-12T20:22:12.210Z"
   },
   {
    "duration": 10,
    "start_time": "2023-10-12T20:22:35.699Z"
   },
   {
    "duration": 5,
    "start_time": "2023-10-12T20:22:39.319Z"
   },
   {
    "duration": 12,
    "start_time": "2023-10-12T20:22:44.223Z"
   },
   {
    "duration": 4,
    "start_time": "2023-10-12T20:22:55.595Z"
   },
   {
    "duration": 9,
    "start_time": "2023-10-12T20:23:00.031Z"
   },
   {
    "duration": 4,
    "start_time": "2023-10-12T20:23:09.795Z"
   },
   {
    "duration": 12,
    "start_time": "2023-10-12T20:23:13.497Z"
   },
   {
    "duration": 4,
    "start_time": "2023-10-12T20:23:19.202Z"
   },
   {
    "duration": 5,
    "start_time": "2023-10-12T20:23:22.389Z"
   },
   {
    "duration": 8,
    "start_time": "2023-10-12T20:23:25.830Z"
   },
   {
    "duration": 11,
    "start_time": "2023-10-12T20:24:20.368Z"
   },
   {
    "duration": 6,
    "start_time": "2023-10-12T20:25:03.115Z"
   },
   {
    "duration": 11,
    "start_time": "2023-10-12T20:25:11.075Z"
   },
   {
    "duration": 2313,
    "start_time": "2023-10-12T20:30:06.974Z"
   },
   {
    "duration": 9,
    "start_time": "2023-10-12T20:30:16.356Z"
   },
   {
    "duration": 6,
    "start_time": "2023-10-12T20:41:46.465Z"
   },
   {
    "duration": 7,
    "start_time": "2023-10-12T20:41:52.410Z"
   },
   {
    "duration": 5,
    "start_time": "2023-10-12T20:43:21.168Z"
   },
   {
    "duration": 7,
    "start_time": "2023-10-12T20:43:43.676Z"
   },
   {
    "duration": 6,
    "start_time": "2023-10-12T20:55:38.815Z"
   },
   {
    "duration": 5,
    "start_time": "2023-10-12T21:04:51.219Z"
   },
   {
    "duration": 6,
    "start_time": "2023-10-12T21:08:59.310Z"
   },
   {
    "duration": 3746,
    "start_time": "2023-10-12T21:23:03.876Z"
   },
   {
    "duration": 1116,
    "start_time": "2023-10-12T21:23:22.102Z"
   },
   {
    "duration": 382,
    "start_time": "2023-10-12T21:23:23.220Z"
   },
   {
    "duration": 12,
    "start_time": "2023-10-12T21:23:23.604Z"
   },
   {
    "duration": 40,
    "start_time": "2023-10-12T21:23:23.618Z"
   },
   {
    "duration": 12,
    "start_time": "2023-10-12T21:23:23.662Z"
   },
   {
    "duration": 20,
    "start_time": "2023-10-12T21:23:23.676Z"
   },
   {
    "duration": 25,
    "start_time": "2023-10-12T21:23:23.698Z"
   },
   {
    "duration": 37,
    "start_time": "2023-10-12T21:23:23.725Z"
   },
   {
    "duration": 18,
    "start_time": "2023-10-12T21:23:23.764Z"
   },
   {
    "duration": 49,
    "start_time": "2023-10-12T21:23:23.786Z"
   },
   {
    "duration": 36,
    "start_time": "2023-10-12T21:23:23.837Z"
   },
   {
    "duration": 20,
    "start_time": "2023-10-12T21:23:23.876Z"
   },
   {
    "duration": 17,
    "start_time": "2023-10-12T21:23:23.898Z"
   },
   {
    "duration": 35,
    "start_time": "2023-10-12T21:23:23.916Z"
   },
   {
    "duration": 13,
    "start_time": "2023-10-12T21:23:23.959Z"
   },
   {
    "duration": 11,
    "start_time": "2023-10-12T21:23:23.974Z"
   },
   {
    "duration": 20,
    "start_time": "2023-10-12T21:23:23.986Z"
   },
   {
    "duration": 30,
    "start_time": "2023-10-12T21:23:24.008Z"
   },
   {
    "duration": 25,
    "start_time": "2023-10-12T21:23:24.040Z"
   },
   {
    "duration": 23,
    "start_time": "2023-10-12T21:23:24.067Z"
   },
   {
    "duration": 14,
    "start_time": "2023-10-12T21:23:24.092Z"
   },
   {
    "duration": 182,
    "start_time": "2023-10-12T21:23:24.108Z"
   },
   {
    "duration": 9,
    "start_time": "2023-10-12T21:23:24.291Z"
   },
   {
    "duration": 13,
    "start_time": "2023-10-12T21:23:24.302Z"
   },
   {
    "duration": 15,
    "start_time": "2023-10-12T21:23:24.317Z"
   },
   {
    "duration": 103,
    "start_time": "2023-10-12T21:23:24.334Z"
   },
   {
    "duration": 22,
    "start_time": "2023-10-12T21:23:24.445Z"
   },
   {
    "duration": 326,
    "start_time": "2023-10-12T21:23:24.473Z"
   },
   {
    "duration": 109,
    "start_time": "2023-10-12T21:23:24.800Z"
   },
   {
    "duration": 6,
    "start_time": "2023-10-12T21:23:24.911Z"
   },
   {
    "duration": 21,
    "start_time": "2023-10-12T21:23:24.919Z"
   },
   {
    "duration": 23,
    "start_time": "2023-10-12T21:23:24.942Z"
   },
   {
    "duration": 25,
    "start_time": "2023-10-12T21:23:24.966Z"
   },
   {
    "duration": 29,
    "start_time": "2023-10-12T21:23:24.993Z"
   },
   {
    "duration": 617,
    "start_time": "2023-10-12T21:23:25.024Z"
   },
   {
    "duration": 8,
    "start_time": "2023-10-12T21:23:25.644Z"
   },
   {
    "duration": 139,
    "start_time": "2023-10-12T21:23:25.653Z"
   },
   {
    "duration": 6,
    "start_time": "2023-10-12T21:23:25.794Z"
   },
   {
    "duration": 19,
    "start_time": "2023-10-12T21:23:25.802Z"
   },
   {
    "duration": 18,
    "start_time": "2023-10-12T21:23:25.822Z"
   },
   {
    "duration": 24,
    "start_time": "2023-10-12T21:23:25.841Z"
   },
   {
    "duration": 11,
    "start_time": "2023-10-12T21:23:25.867Z"
   },
   {
    "duration": 23,
    "start_time": "2023-10-12T21:23:25.880Z"
   },
   {
    "duration": 186,
    "start_time": "2023-10-12T21:23:25.905Z"
   },
   {
    "duration": 4,
    "start_time": "2023-10-12T21:23:26.093Z"
   },
   {
    "duration": 129,
    "start_time": "2023-10-12T21:23:26.099Z"
   },
   {
    "duration": 18,
    "start_time": "2023-10-12T21:23:26.230Z"
   },
   {
    "duration": 11,
    "start_time": "2023-10-12T21:23:26.250Z"
   },
   {
    "duration": 11,
    "start_time": "2023-10-12T21:23:26.262Z"
   },
   {
    "duration": 10,
    "start_time": "2023-10-12T21:23:26.274Z"
   },
   {
    "duration": 4,
    "start_time": "2023-10-12T21:23:26.285Z"
   },
   {
    "duration": 9,
    "start_time": "2023-10-12T21:23:26.290Z"
   },
   {
    "duration": 28,
    "start_time": "2023-10-12T21:23:26.300Z"
   },
   {
    "duration": 23,
    "start_time": "2023-10-12T21:23:26.330Z"
   },
   {
    "duration": 20,
    "start_time": "2023-10-12T21:23:26.359Z"
   },
   {
    "duration": 17,
    "start_time": "2023-10-12T21:23:26.381Z"
   },
   {
    "duration": 7,
    "start_time": "2023-10-12T21:23:26.400Z"
   },
   {
    "duration": 9,
    "start_time": "2023-10-12T21:23:26.409Z"
   },
   {
    "duration": 5,
    "start_time": "2023-10-12T21:23:26.420Z"
   },
   {
    "duration": 22,
    "start_time": "2023-10-12T21:23:26.426Z"
   },
   {
    "duration": 4,
    "start_time": "2023-10-12T21:23:26.459Z"
   },
   {
    "duration": 10,
    "start_time": "2023-10-12T21:23:26.465Z"
   },
   {
    "duration": 9,
    "start_time": "2023-10-12T21:23:26.477Z"
   },
   {
    "duration": 211,
    "start_time": "2023-10-12T21:23:26.488Z"
   },
   {
    "duration": 9,
    "start_time": "2023-10-12T21:23:26.701Z"
   },
   {
    "duration": 9,
    "start_time": "2023-10-12T21:23:26.711Z"
   },
   {
    "duration": 212,
    "start_time": "2023-10-12T21:23:26.722Z"
   },
   {
    "duration": 7,
    "start_time": "2023-10-12T21:23:26.936Z"
   },
   {
    "duration": 30,
    "start_time": "2023-10-12T21:23:26.945Z"
   },
   {
    "duration": 3,
    "start_time": "2023-10-12T21:23:26.977Z"
   },
   {
    "duration": 31,
    "start_time": "2023-10-12T21:23:26.982Z"
   },
   {
    "duration": 6,
    "start_time": "2023-10-12T21:23:27.015Z"
   },
   {
    "duration": 40,
    "start_time": "2023-10-12T21:23:27.023Z"
   },
   {
    "duration": 5,
    "start_time": "2023-10-12T21:23:27.065Z"
   },
   {
    "duration": 10,
    "start_time": "2023-10-12T21:23:27.071Z"
   },
   {
    "duration": 5,
    "start_time": "2023-10-12T21:23:27.083Z"
   },
   {
    "duration": 8,
    "start_time": "2023-10-12T21:23:27.089Z"
   },
   {
    "duration": 11,
    "start_time": "2023-10-12T21:23:27.099Z"
   },
   {
    "duration": 1595,
    "start_time": "2023-10-12T21:23:27.111Z"
   },
   {
    "duration": 6,
    "start_time": "2023-10-12T21:23:28.707Z"
   },
   {
    "duration": 4,
    "start_time": "2023-10-12T21:23:28.715Z"
   },
   {
    "duration": 21,
    "start_time": "2023-10-12T21:23:28.723Z"
   },
   {
    "duration": 8,
    "start_time": "2023-10-12T21:23:28.746Z"
   },
   {
    "duration": 1625,
    "start_time": "2023-10-12T21:26:52.079Z"
   },
   {
    "duration": 6,
    "start_time": "2023-10-12T21:33:21.591Z"
   },
   {
    "duration": 4,
    "start_time": "2023-10-12T21:37:35.617Z"
   },
   {
    "duration": 5,
    "start_time": "2023-10-12T21:38:53.799Z"
   },
   {
    "duration": 5,
    "start_time": "2023-10-12T21:45:27.303Z"
   },
   {
    "duration": 3,
    "start_time": "2023-10-12T21:47:22.575Z"
   },
   {
    "duration": 5,
    "start_time": "2023-10-12T21:51:37.976Z"
   },
   {
    "duration": 1170,
    "start_time": "2023-10-12T21:51:42.685Z"
   },
   {
    "duration": 211,
    "start_time": "2023-10-12T21:51:43.859Z"
   },
   {
    "duration": 15,
    "start_time": "2023-10-12T21:51:44.072Z"
   },
   {
    "duration": 33,
    "start_time": "2023-10-12T21:51:44.089Z"
   },
   {
    "duration": 13,
    "start_time": "2023-10-12T21:51:44.125Z"
   },
   {
    "duration": 26,
    "start_time": "2023-10-12T21:51:44.140Z"
   },
   {
    "duration": 13,
    "start_time": "2023-10-12T21:51:44.167Z"
   },
   {
    "duration": 11,
    "start_time": "2023-10-12T21:51:44.182Z"
   },
   {
    "duration": 10,
    "start_time": "2023-10-12T21:51:44.194Z"
   },
   {
    "duration": 20,
    "start_time": "2023-10-12T21:51:44.206Z"
   },
   {
    "duration": 26,
    "start_time": "2023-10-12T21:51:44.227Z"
   },
   {
    "duration": 6,
    "start_time": "2023-10-12T21:51:44.260Z"
   },
   {
    "duration": 8,
    "start_time": "2023-10-12T21:51:44.267Z"
   },
   {
    "duration": 6,
    "start_time": "2023-10-12T21:51:44.278Z"
   },
   {
    "duration": 7,
    "start_time": "2023-10-12T21:51:44.285Z"
   },
   {
    "duration": 6,
    "start_time": "2023-10-12T21:51:44.294Z"
   },
   {
    "duration": 11,
    "start_time": "2023-10-12T21:51:44.301Z"
   },
   {
    "duration": 11,
    "start_time": "2023-10-12T21:51:44.314Z"
   },
   {
    "duration": 18,
    "start_time": "2023-10-12T21:51:44.344Z"
   },
   {
    "duration": 12,
    "start_time": "2023-10-12T21:51:44.363Z"
   },
   {
    "duration": 23,
    "start_time": "2023-10-12T21:51:44.377Z"
   },
   {
    "duration": 208,
    "start_time": "2023-10-12T21:51:44.402Z"
   },
   {
    "duration": 11,
    "start_time": "2023-10-12T21:51:44.612Z"
   },
   {
    "duration": 34,
    "start_time": "2023-10-12T21:51:44.625Z"
   },
   {
    "duration": 8,
    "start_time": "2023-10-12T21:51:44.661Z"
   },
   {
    "duration": 109,
    "start_time": "2023-10-12T21:51:44.671Z"
   },
   {
    "duration": 12,
    "start_time": "2023-10-12T21:51:44.782Z"
   },
   {
    "duration": 302,
    "start_time": "2023-10-12T21:51:44.796Z"
   },
   {
    "duration": 116,
    "start_time": "2023-10-12T21:51:45.100Z"
   },
   {
    "duration": 6,
    "start_time": "2023-10-12T21:51:45.218Z"
   },
   {
    "duration": 36,
    "start_time": "2023-10-12T21:51:45.226Z"
   },
   {
    "duration": 4,
    "start_time": "2023-10-12T21:51:45.263Z"
   },
   {
    "duration": 21,
    "start_time": "2023-10-12T21:51:45.269Z"
   },
   {
    "duration": 26,
    "start_time": "2023-10-12T21:51:45.291Z"
   },
   {
    "duration": 597,
    "start_time": "2023-10-12T21:51:45.318Z"
   },
   {
    "duration": 4,
    "start_time": "2023-10-12T21:51:45.917Z"
   },
   {
    "duration": 138,
    "start_time": "2023-10-12T21:51:45.923Z"
   },
   {
    "duration": 7,
    "start_time": "2023-10-12T21:51:46.062Z"
   },
   {
    "duration": 37,
    "start_time": "2023-10-12T21:51:46.071Z"
   },
   {
    "duration": 11,
    "start_time": "2023-10-12T21:51:46.109Z"
   },
   {
    "duration": 13,
    "start_time": "2023-10-12T21:51:46.125Z"
   },
   {
    "duration": 21,
    "start_time": "2023-10-12T21:51:46.139Z"
   },
   {
    "duration": 29,
    "start_time": "2023-10-12T21:51:46.162Z"
   },
   {
    "duration": 207,
    "start_time": "2023-10-12T21:51:46.193Z"
   },
   {
    "duration": 5,
    "start_time": "2023-10-12T21:51:46.401Z"
   },
   {
    "duration": 138,
    "start_time": "2023-10-12T21:51:46.407Z"
   },
   {
    "duration": 17,
    "start_time": "2023-10-12T21:51:46.547Z"
   },
   {
    "duration": 30,
    "start_time": "2023-10-12T21:51:46.566Z"
   },
   {
    "duration": 9,
    "start_time": "2023-10-12T21:51:46.598Z"
   },
   {
    "duration": 30,
    "start_time": "2023-10-12T21:51:46.609Z"
   },
   {
    "duration": 20,
    "start_time": "2023-10-12T21:51:46.641Z"
   },
   {
    "duration": 31,
    "start_time": "2023-10-12T21:51:46.663Z"
   },
   {
    "duration": 61,
    "start_time": "2023-10-12T21:51:46.696Z"
   },
   {
    "duration": 4,
    "start_time": "2023-10-12T21:51:46.760Z"
   },
   {
    "duration": 41,
    "start_time": "2023-10-12T21:51:46.766Z"
   },
   {
    "duration": 39,
    "start_time": "2023-10-12T21:51:46.809Z"
   },
   {
    "duration": 7,
    "start_time": "2023-10-12T21:51:46.849Z"
   },
   {
    "duration": 24,
    "start_time": "2023-10-12T21:51:46.857Z"
   },
   {
    "duration": 10,
    "start_time": "2023-10-12T21:51:46.883Z"
   },
   {
    "duration": 18,
    "start_time": "2023-10-12T21:51:46.895Z"
   },
   {
    "duration": 6,
    "start_time": "2023-10-12T21:51:46.915Z"
   },
   {
    "duration": 19,
    "start_time": "2023-10-12T21:51:46.923Z"
   },
   {
    "duration": 22,
    "start_time": "2023-10-12T21:51:46.945Z"
   },
   {
    "duration": 201,
    "start_time": "2023-10-12T21:51:46.969Z"
   },
   {
    "duration": 8,
    "start_time": "2023-10-12T21:51:47.172Z"
   },
   {
    "duration": 31,
    "start_time": "2023-10-12T21:51:47.181Z"
   },
   {
    "duration": 203,
    "start_time": "2023-10-12T21:51:47.213Z"
   },
   {
    "duration": 4,
    "start_time": "2023-10-12T21:51:47.417Z"
   },
   {
    "duration": 37,
    "start_time": "2023-10-12T21:51:47.423Z"
   },
   {
    "duration": 3,
    "start_time": "2023-10-12T21:51:47.462Z"
   },
   {
    "duration": 54,
    "start_time": "2023-10-12T21:51:47.466Z"
   },
   {
    "duration": 13,
    "start_time": "2023-10-12T21:51:47.521Z"
   },
   {
    "duration": 47,
    "start_time": "2023-10-12T21:51:47.536Z"
   },
   {
    "duration": 9,
    "start_time": "2023-10-12T21:51:47.585Z"
   },
   {
    "duration": 42,
    "start_time": "2023-10-12T21:51:47.596Z"
   },
   {
    "duration": 19,
    "start_time": "2023-10-12T21:51:47.640Z"
   },
   {
    "duration": 11,
    "start_time": "2023-10-12T21:51:47.661Z"
   },
   {
    "duration": 16,
    "start_time": "2023-10-12T21:51:47.673Z"
   },
   {
    "duration": 1634,
    "start_time": "2023-10-12T21:51:47.691Z"
   },
   {
    "duration": 6,
    "start_time": "2023-10-12T21:51:49.326Z"
   },
   {
    "duration": 43,
    "start_time": "2023-10-12T21:51:49.333Z"
   },
   {
    "duration": 37,
    "start_time": "2023-10-12T21:51:49.377Z"
   },
   {
    "duration": 28,
    "start_time": "2023-10-12T21:51:49.415Z"
   },
   {
    "duration": 4,
    "start_time": "2023-10-12T21:51:49.455Z"
   },
   {
    "duration": 1207,
    "start_time": "2023-10-12T22:30:02.921Z"
   },
   {
    "duration": 427,
    "start_time": "2023-10-12T22:30:04.130Z"
   },
   {
    "duration": 13,
    "start_time": "2023-10-12T22:30:04.562Z"
   },
   {
    "duration": 41,
    "start_time": "2023-10-12T22:30:04.577Z"
   },
   {
    "duration": 28,
    "start_time": "2023-10-12T22:30:04.619Z"
   },
   {
    "duration": 18,
    "start_time": "2023-10-12T22:30:04.657Z"
   },
   {
    "duration": 29,
    "start_time": "2023-10-12T22:30:04.677Z"
   },
   {
    "duration": 31,
    "start_time": "2023-10-12T22:30:04.708Z"
   },
   {
    "duration": 30,
    "start_time": "2023-10-12T22:30:04.741Z"
   },
   {
    "duration": 43,
    "start_time": "2023-10-12T22:30:04.774Z"
   },
   {
    "duration": 57,
    "start_time": "2023-10-12T22:30:04.818Z"
   },
   {
    "duration": 40,
    "start_time": "2023-10-12T22:30:04.877Z"
   },
   {
    "duration": 37,
    "start_time": "2023-10-12T22:30:04.919Z"
   },
   {
    "duration": 31,
    "start_time": "2023-10-12T22:30:04.958Z"
   },
   {
    "duration": 41,
    "start_time": "2023-10-12T22:30:04.991Z"
   },
   {
    "duration": 63,
    "start_time": "2023-10-12T22:30:05.034Z"
   },
   {
    "duration": 63,
    "start_time": "2023-10-12T22:30:05.099Z"
   },
   {
    "duration": 51,
    "start_time": "2023-10-12T22:30:05.164Z"
   },
   {
    "duration": 47,
    "start_time": "2023-10-12T22:30:05.216Z"
   },
   {
    "duration": 32,
    "start_time": "2023-10-12T22:30:05.265Z"
   },
   {
    "duration": 20,
    "start_time": "2023-10-12T22:30:05.299Z"
   },
   {
    "duration": 211,
    "start_time": "2023-10-12T22:30:05.321Z"
   },
   {
    "duration": 26,
    "start_time": "2023-10-12T22:30:05.533Z"
   },
   {
    "duration": 56,
    "start_time": "2023-10-12T22:30:05.560Z"
   },
   {
    "duration": 41,
    "start_time": "2023-10-12T22:30:05.618Z"
   },
   {
    "duration": 116,
    "start_time": "2023-10-12T22:30:05.661Z"
   },
   {
    "duration": 14,
    "start_time": "2023-10-12T22:30:05.779Z"
   },
   {
    "duration": 287,
    "start_time": "2023-10-12T22:30:05.797Z"
   },
   {
    "duration": 103,
    "start_time": "2023-10-12T22:30:06.086Z"
   },
   {
    "duration": 7,
    "start_time": "2023-10-12T22:30:06.191Z"
   },
   {
    "duration": 32,
    "start_time": "2023-10-12T22:30:06.199Z"
   },
   {
    "duration": 28,
    "start_time": "2023-10-12T22:30:06.232Z"
   },
   {
    "duration": 35,
    "start_time": "2023-10-12T22:30:06.263Z"
   },
   {
    "duration": 40,
    "start_time": "2023-10-12T22:30:06.299Z"
   },
   {
    "duration": 652,
    "start_time": "2023-10-12T22:30:06.341Z"
   },
   {
    "duration": 4,
    "start_time": "2023-10-12T22:30:06.995Z"
   },
   {
    "duration": 168,
    "start_time": "2023-10-12T22:30:07.001Z"
   },
   {
    "duration": 6,
    "start_time": "2023-10-12T22:30:07.171Z"
   },
   {
    "duration": 30,
    "start_time": "2023-10-12T22:30:07.179Z"
   },
   {
    "duration": 17,
    "start_time": "2023-10-12T22:30:07.211Z"
   },
   {
    "duration": 45,
    "start_time": "2023-10-12T22:30:07.230Z"
   },
   {
    "duration": 26,
    "start_time": "2023-10-12T22:30:07.276Z"
   },
   {
    "duration": 31,
    "start_time": "2023-10-12T22:30:07.304Z"
   },
   {
    "duration": 234,
    "start_time": "2023-10-12T22:30:07.337Z"
   },
   {
    "duration": 5,
    "start_time": "2023-10-12T22:30:07.573Z"
   },
   {
    "duration": 182,
    "start_time": "2023-10-12T22:30:07.579Z"
   },
   {
    "duration": 8,
    "start_time": "2023-10-12T22:30:07.762Z"
   },
   {
    "duration": 22,
    "start_time": "2023-10-12T22:30:07.771Z"
   },
   {
    "duration": 27,
    "start_time": "2023-10-12T22:30:07.794Z"
   },
   {
    "duration": 42,
    "start_time": "2023-10-12T22:30:07.823Z"
   },
   {
    "duration": 24,
    "start_time": "2023-10-12T22:30:07.866Z"
   },
   {
    "duration": 40,
    "start_time": "2023-10-12T22:30:07.891Z"
   },
   {
    "duration": 50,
    "start_time": "2023-10-12T22:30:07.932Z"
   },
   {
    "duration": 5,
    "start_time": "2023-10-12T22:30:07.984Z"
   },
   {
    "duration": 50,
    "start_time": "2023-10-12T22:30:07.990Z"
   },
   {
    "duration": 22,
    "start_time": "2023-10-12T22:30:08.042Z"
   },
   {
    "duration": 7,
    "start_time": "2023-10-12T22:30:08.065Z"
   },
   {
    "duration": 11,
    "start_time": "2023-10-12T22:30:08.074Z"
   },
   {
    "duration": 5,
    "start_time": "2023-10-12T22:30:08.087Z"
   },
   {
    "duration": 37,
    "start_time": "2023-10-12T22:30:08.094Z"
   },
   {
    "duration": 7,
    "start_time": "2023-10-12T22:30:08.133Z"
   },
   {
    "duration": 29,
    "start_time": "2023-10-12T22:30:08.142Z"
   },
   {
    "duration": 12,
    "start_time": "2023-10-12T22:30:08.173Z"
   },
   {
    "duration": 209,
    "start_time": "2023-10-12T22:30:08.187Z"
   },
   {
    "duration": 9,
    "start_time": "2023-10-12T22:30:08.398Z"
   },
   {
    "duration": 58,
    "start_time": "2023-10-12T22:30:08.408Z"
   },
   {
    "duration": 221,
    "start_time": "2023-10-12T22:30:08.468Z"
   },
   {
    "duration": 4,
    "start_time": "2023-10-12T22:30:08.690Z"
   },
   {
    "duration": 52,
    "start_time": "2023-10-12T22:30:08.696Z"
   },
   {
    "duration": 12,
    "start_time": "2023-10-12T22:30:08.749Z"
   },
   {
    "duration": 54,
    "start_time": "2023-10-12T22:30:08.762Z"
   },
   {
    "duration": 5,
    "start_time": "2023-10-12T22:30:08.818Z"
   },
   {
    "duration": 31,
    "start_time": "2023-10-12T22:30:08.824Z"
   },
   {
    "duration": 9,
    "start_time": "2023-10-12T22:30:08.856Z"
   },
   {
    "duration": 13,
    "start_time": "2023-10-12T22:30:08.866Z"
   },
   {
    "duration": 32,
    "start_time": "2023-10-12T22:30:08.881Z"
   },
   {
    "duration": 16,
    "start_time": "2023-10-12T22:30:08.914Z"
   },
   {
    "duration": 17,
    "start_time": "2023-10-12T22:30:08.932Z"
   },
   {
    "duration": 1627,
    "start_time": "2023-10-12T22:30:08.951Z"
   },
   {
    "duration": 6,
    "start_time": "2023-10-12T22:30:10.581Z"
   },
   {
    "duration": 26,
    "start_time": "2023-10-12T22:30:10.588Z"
   },
   {
    "duration": 21,
    "start_time": "2023-10-12T22:30:10.619Z"
   },
   {
    "duration": 21,
    "start_time": "2023-10-12T22:30:10.642Z"
   },
   {
    "duration": 25,
    "start_time": "2023-10-12T22:30:10.665Z"
   },
   {
    "duration": 1246,
    "start_time": "2023-10-13T21:28:23.752Z"
   },
   {
    "duration": 283,
    "start_time": "2023-10-13T21:28:25.001Z"
   },
   {
    "duration": 11,
    "start_time": "2023-10-13T21:28:25.286Z"
   },
   {
    "duration": 13,
    "start_time": "2023-10-13T21:28:25.299Z"
   },
   {
    "duration": 31,
    "start_time": "2023-10-13T21:28:25.313Z"
   },
   {
    "duration": 28,
    "start_time": "2023-10-13T21:28:25.346Z"
   },
   {
    "duration": 11,
    "start_time": "2023-10-13T21:28:25.376Z"
   },
   {
    "duration": 17,
    "start_time": "2023-10-13T21:28:25.389Z"
   },
   {
    "duration": 14,
    "start_time": "2023-10-13T21:28:25.408Z"
   },
   {
    "duration": 17,
    "start_time": "2023-10-13T21:28:25.425Z"
   },
   {
    "duration": 41,
    "start_time": "2023-10-13T21:28:25.443Z"
   },
   {
    "duration": 12,
    "start_time": "2023-10-13T21:28:25.486Z"
   },
   {
    "duration": 14,
    "start_time": "2023-10-13T21:28:25.499Z"
   },
   {
    "duration": 6,
    "start_time": "2023-10-13T21:28:25.515Z"
   },
   {
    "duration": 15,
    "start_time": "2023-10-13T21:28:25.522Z"
   },
   {
    "duration": 16,
    "start_time": "2023-10-13T21:28:25.538Z"
   },
   {
    "duration": 20,
    "start_time": "2023-10-13T21:28:25.555Z"
   },
   {
    "duration": 39,
    "start_time": "2023-10-13T21:28:25.577Z"
   },
   {
    "duration": 12,
    "start_time": "2023-10-13T21:28:25.618Z"
   },
   {
    "duration": 6,
    "start_time": "2023-10-13T21:28:25.631Z"
   },
   {
    "duration": 23,
    "start_time": "2023-10-13T21:28:25.638Z"
   },
   {
    "duration": 181,
    "start_time": "2023-10-13T21:28:25.663Z"
   },
   {
    "duration": 9,
    "start_time": "2023-10-13T21:28:25.846Z"
   },
   {
    "duration": 14,
    "start_time": "2023-10-13T21:28:25.856Z"
   },
   {
    "duration": 12,
    "start_time": "2023-10-13T21:28:25.872Z"
   },
   {
    "duration": 89,
    "start_time": "2023-10-13T21:28:25.885Z"
   },
   {
    "duration": 11,
    "start_time": "2023-10-13T21:28:25.976Z"
   },
   {
    "duration": 273,
    "start_time": "2023-10-13T21:28:25.991Z"
   },
   {
    "duration": 102,
    "start_time": "2023-10-13T21:28:26.265Z"
   },
   {
    "duration": 7,
    "start_time": "2023-10-13T21:28:26.368Z"
   },
   {
    "duration": 11,
    "start_time": "2023-10-13T21:28:26.376Z"
   },
   {
    "duration": 15,
    "start_time": "2023-10-13T21:28:26.389Z"
   },
   {
    "duration": 16,
    "start_time": "2023-10-13T21:28:26.405Z"
   },
   {
    "duration": 313,
    "start_time": "2023-10-13T21:28:26.423Z"
   },
   {
    "duration": 15,
    "start_time": "2023-10-13T21:28:26.737Z"
   },
   {
    "duration": 491,
    "start_time": "2023-10-13T21:28:26.754Z"
   },
   {
    "duration": 4,
    "start_time": "2023-10-13T21:28:27.247Z"
   },
   {
    "duration": 124,
    "start_time": "2023-10-13T21:28:27.253Z"
   },
   {
    "duration": 6,
    "start_time": "2023-10-13T21:28:27.379Z"
   },
   {
    "duration": 10,
    "start_time": "2023-10-13T21:28:27.387Z"
   },
   {
    "duration": 21,
    "start_time": "2023-10-13T21:28:27.398Z"
   },
   {
    "duration": 29,
    "start_time": "2023-10-13T21:28:27.420Z"
   },
   {
    "duration": 36,
    "start_time": "2023-10-13T21:28:27.451Z"
   },
   {
    "duration": 17,
    "start_time": "2023-10-13T21:28:27.488Z"
   },
   {
    "duration": 184,
    "start_time": "2023-10-13T21:28:27.507Z"
   },
   {
    "duration": 4,
    "start_time": "2023-10-13T21:28:27.693Z"
   },
   {
    "duration": 134,
    "start_time": "2023-10-13T21:28:27.698Z"
   },
   {
    "duration": 12,
    "start_time": "2023-10-13T21:28:27.834Z"
   },
   {
    "duration": 7,
    "start_time": "2023-10-13T21:28:27.847Z"
   },
   {
    "duration": 19,
    "start_time": "2023-10-13T21:28:27.856Z"
   },
   {
    "duration": 18,
    "start_time": "2023-10-13T21:28:27.877Z"
   },
   {
    "duration": 14,
    "start_time": "2023-10-13T21:28:27.896Z"
   },
   {
    "duration": 25,
    "start_time": "2023-10-13T21:28:27.912Z"
   },
   {
    "duration": 45,
    "start_time": "2023-10-13T21:28:27.938Z"
   },
   {
    "duration": 11,
    "start_time": "2023-10-13T21:28:27.985Z"
   },
   {
    "duration": 28,
    "start_time": "2023-10-13T21:28:27.997Z"
   },
   {
    "duration": 17,
    "start_time": "2023-10-13T21:28:28.027Z"
   },
   {
    "duration": 20,
    "start_time": "2023-10-13T21:28:28.045Z"
   },
   {
    "duration": 41,
    "start_time": "2023-10-13T21:28:28.066Z"
   },
   {
    "duration": 28,
    "start_time": "2023-10-13T21:28:28.108Z"
   },
   {
    "duration": 22,
    "start_time": "2023-10-13T21:28:28.138Z"
   },
   {
    "duration": 13,
    "start_time": "2023-10-13T21:28:28.162Z"
   },
   {
    "duration": 38,
    "start_time": "2023-10-13T21:28:28.176Z"
   },
   {
    "duration": 24,
    "start_time": "2023-10-13T21:28:28.216Z"
   },
   {
    "duration": 185,
    "start_time": "2023-10-13T21:28:28.242Z"
   },
   {
    "duration": 18,
    "start_time": "2023-10-13T21:28:28.429Z"
   },
   {
    "duration": 32,
    "start_time": "2023-10-13T21:28:28.449Z"
   },
   {
    "duration": 207,
    "start_time": "2023-10-13T21:28:28.483Z"
   },
   {
    "duration": 4,
    "start_time": "2023-10-13T21:28:28.692Z"
   },
   {
    "duration": 58,
    "start_time": "2023-10-13T21:28:28.698Z"
   },
   {
    "duration": 30,
    "start_time": "2023-10-13T21:28:28.757Z"
   },
   {
    "duration": 49,
    "start_time": "2023-10-13T21:28:28.788Z"
   },
   {
    "duration": 6,
    "start_time": "2023-10-13T21:28:28.839Z"
   },
   {
    "duration": 30,
    "start_time": "2023-10-13T21:28:28.847Z"
   },
   {
    "duration": 8,
    "start_time": "2023-10-13T21:28:28.879Z"
   },
   {
    "duration": 18,
    "start_time": "2023-10-13T21:28:28.889Z"
   },
   {
    "duration": 15,
    "start_time": "2023-10-13T21:28:28.908Z"
   },
   {
    "duration": 7,
    "start_time": "2023-10-13T21:28:28.925Z"
   },
   {
    "duration": 32,
    "start_time": "2023-10-13T21:28:28.933Z"
   },
   {
    "duration": 1521,
    "start_time": "2023-10-13T21:28:28.967Z"
   },
   {
    "duration": 6,
    "start_time": "2023-10-13T21:28:30.490Z"
   },
   {
    "duration": 54,
    "start_time": "2023-10-13T21:28:30.501Z"
   },
   {
    "duration": 79,
    "start_time": "2023-10-13T21:28:30.557Z"
   },
   {
    "duration": 80,
    "start_time": "2023-10-13T21:28:30.637Z"
   },
   {
    "duration": 55,
    "start_time": "2023-10-13T21:28:30.719Z"
   },
   {
    "duration": 339,
    "start_time": "2023-10-13T21:28:48.194Z"
   },
   {
    "duration": 171,
    "start_time": "2023-10-13T21:36:33.032Z"
   },
   {
    "duration": 427,
    "start_time": "2023-10-13T21:43:13.038Z"
   },
   {
    "duration": 1483,
    "start_time": "2023-10-13T21:43:47.349Z"
   },
   {
    "duration": 8,
    "start_time": "2023-10-13T21:57:00.413Z"
   },
   {
    "duration": 8,
    "start_time": "2023-10-13T21:57:04.330Z"
   },
   {
    "duration": 5,
    "start_time": "2023-10-13T21:57:28.066Z"
   },
   {
    "duration": 5,
    "start_time": "2023-10-13T21:57:53.408Z"
   },
   {
    "duration": 1081,
    "start_time": "2023-10-13T22:02:44.408Z"
   },
   {
    "duration": 298,
    "start_time": "2023-10-13T22:02:45.491Z"
   },
   {
    "duration": 11,
    "start_time": "2023-10-13T22:02:45.791Z"
   },
   {
    "duration": 36,
    "start_time": "2023-10-13T22:02:45.805Z"
   },
   {
    "duration": 25,
    "start_time": "2023-10-13T22:02:45.843Z"
   },
   {
    "duration": 35,
    "start_time": "2023-10-13T22:02:45.870Z"
   },
   {
    "duration": 30,
    "start_time": "2023-10-13T22:02:45.907Z"
   },
   {
    "duration": 41,
    "start_time": "2023-10-13T22:02:45.939Z"
   },
   {
    "duration": 36,
    "start_time": "2023-10-13T22:02:45.982Z"
   },
   {
    "duration": 48,
    "start_time": "2023-10-13T22:02:46.022Z"
   },
   {
    "duration": 42,
    "start_time": "2023-10-13T22:02:46.072Z"
   },
   {
    "duration": 41,
    "start_time": "2023-10-13T22:02:46.116Z"
   },
   {
    "duration": 48,
    "start_time": "2023-10-13T22:02:46.158Z"
   },
   {
    "duration": 33,
    "start_time": "2023-10-13T22:02:46.208Z"
   },
   {
    "duration": 55,
    "start_time": "2023-10-13T22:02:46.243Z"
   },
   {
    "duration": 43,
    "start_time": "2023-10-13T22:02:46.299Z"
   },
   {
    "duration": 25,
    "start_time": "2023-10-13T22:02:46.344Z"
   },
   {
    "duration": 29,
    "start_time": "2023-10-13T22:02:46.370Z"
   },
   {
    "duration": 30,
    "start_time": "2023-10-13T22:02:46.401Z"
   },
   {
    "duration": 38,
    "start_time": "2023-10-13T22:02:46.433Z"
   },
   {
    "duration": 43,
    "start_time": "2023-10-13T22:02:46.473Z"
   },
   {
    "duration": 184,
    "start_time": "2023-10-13T22:02:46.518Z"
   },
   {
    "duration": 9,
    "start_time": "2023-10-13T22:02:46.704Z"
   },
   {
    "duration": 40,
    "start_time": "2023-10-13T22:02:46.714Z"
   },
   {
    "duration": 19,
    "start_time": "2023-10-13T22:02:46.756Z"
   },
   {
    "duration": 105,
    "start_time": "2023-10-13T22:02:46.776Z"
   },
   {
    "duration": 12,
    "start_time": "2023-10-13T22:02:46.883Z"
   },
   {
    "duration": 286,
    "start_time": "2023-10-13T22:02:46.899Z"
   },
   {
    "duration": 97,
    "start_time": "2023-10-13T22:02:47.187Z"
   },
   {
    "duration": 7,
    "start_time": "2023-10-13T22:02:47.285Z"
   },
   {
    "duration": 10,
    "start_time": "2023-10-13T22:02:47.294Z"
   },
   {
    "duration": 11,
    "start_time": "2023-10-13T22:02:47.305Z"
   },
   {
    "duration": 21,
    "start_time": "2023-10-13T22:02:47.318Z"
   },
   {
    "duration": 293,
    "start_time": "2023-10-13T22:02:47.341Z"
   },
   {
    "duration": 14,
    "start_time": "2023-10-13T22:02:47.636Z"
   },
   {
    "duration": 637,
    "start_time": "2023-10-13T22:02:47.652Z"
   },
   {
    "duration": 4,
    "start_time": "2023-10-13T22:02:48.291Z"
   },
   {
    "duration": 129,
    "start_time": "2023-10-13T22:02:48.297Z"
   },
   {
    "duration": 7,
    "start_time": "2023-10-13T22:02:48.428Z"
   },
   {
    "duration": 9,
    "start_time": "2023-10-13T22:02:48.436Z"
   },
   {
    "duration": 9,
    "start_time": "2023-10-13T22:02:48.447Z"
   },
   {
    "duration": 39,
    "start_time": "2023-10-13T22:02:48.458Z"
   },
   {
    "duration": 12,
    "start_time": "2023-10-13T22:02:48.498Z"
   },
   {
    "duration": 27,
    "start_time": "2023-10-13T22:02:48.511Z"
   },
   {
    "duration": 188,
    "start_time": "2023-10-13T22:02:48.539Z"
   },
   {
    "duration": 4,
    "start_time": "2023-10-13T22:02:48.729Z"
   },
   {
    "duration": 123,
    "start_time": "2023-10-13T22:02:48.744Z"
   },
   {
    "duration": 8,
    "start_time": "2023-10-13T22:02:48.869Z"
   },
   {
    "duration": 9,
    "start_time": "2023-10-13T22:02:48.879Z"
   },
   {
    "duration": 15,
    "start_time": "2023-10-13T22:02:48.890Z"
   },
   {
    "duration": 21,
    "start_time": "2023-10-13T22:02:48.906Z"
   },
   {
    "duration": 11,
    "start_time": "2023-10-13T22:02:48.929Z"
   },
   {
    "duration": 22,
    "start_time": "2023-10-13T22:02:48.942Z"
   },
   {
    "duration": 32,
    "start_time": "2023-10-13T22:02:48.965Z"
   },
   {
    "duration": 3,
    "start_time": "2023-10-13T22:02:48.999Z"
   },
   {
    "duration": 23,
    "start_time": "2023-10-13T22:02:49.004Z"
   },
   {
    "duration": 22,
    "start_time": "2023-10-13T22:02:49.028Z"
   },
   {
    "duration": 14,
    "start_time": "2023-10-13T22:02:49.052Z"
   },
   {
    "duration": 26,
    "start_time": "2023-10-13T22:02:49.068Z"
   },
   {
    "duration": 14,
    "start_time": "2023-10-13T22:02:49.096Z"
   },
   {
    "duration": 19,
    "start_time": "2023-10-13T22:02:49.112Z"
   },
   {
    "duration": 4,
    "start_time": "2023-10-13T22:02:49.132Z"
   },
   {
    "duration": 16,
    "start_time": "2023-10-13T22:02:49.137Z"
   },
   {
    "duration": 29,
    "start_time": "2023-10-13T22:02:49.155Z"
   },
   {
    "duration": 184,
    "start_time": "2023-10-13T22:02:49.185Z"
   },
   {
    "duration": 9,
    "start_time": "2023-10-13T22:02:49.370Z"
   },
   {
    "duration": 30,
    "start_time": "2023-10-13T22:02:49.381Z"
   },
   {
    "duration": 211,
    "start_time": "2023-10-13T22:02:49.413Z"
   },
   {
    "duration": 177,
    "start_time": "2023-10-13T22:02:49.626Z"
   },
   {
    "duration": 4,
    "start_time": "2023-10-13T22:02:49.804Z"
   },
   {
    "duration": 33,
    "start_time": "2023-10-13T22:02:49.810Z"
   },
   {
    "duration": 4,
    "start_time": "2023-10-13T22:02:49.844Z"
   },
   {
    "duration": 130,
    "start_time": "2023-10-13T22:02:49.849Z"
   },
   {
    "duration": 6,
    "start_time": "2023-10-13T22:02:49.981Z"
   },
   {
    "duration": 32,
    "start_time": "2023-10-13T22:02:49.988Z"
   },
   {
    "duration": 28,
    "start_time": "2023-10-13T22:02:50.022Z"
   },
   {
    "duration": 29,
    "start_time": "2023-10-13T22:02:50.052Z"
   },
   {
    "duration": 25,
    "start_time": "2023-10-13T22:02:50.082Z"
   },
   {
    "duration": 25,
    "start_time": "2023-10-13T22:02:50.109Z"
   },
   {
    "duration": 15,
    "start_time": "2023-10-13T22:02:50.136Z"
   },
   {
    "duration": 1479,
    "start_time": "2023-10-13T22:02:50.152Z"
   },
   {
    "duration": 1559,
    "start_time": "2023-10-13T22:02:51.636Z"
   },
   {
    "duration": 5,
    "start_time": "2023-10-13T22:02:53.197Z"
   },
   {
    "duration": 18,
    "start_time": "2023-10-13T22:02:53.203Z"
   },
   {
    "duration": 21,
    "start_time": "2023-10-13T22:02:53.223Z"
   },
   {
    "duration": 10,
    "start_time": "2023-10-13T22:02:53.246Z"
   },
   {
    "duration": 23,
    "start_time": "2023-10-13T22:02:53.258Z"
   },
   {
    "duration": 15,
    "start_time": "2023-10-13T22:02:53.283Z"
   },
   {
    "duration": 20,
    "start_time": "2023-10-13T22:02:53.300Z"
   },
   {
    "duration": 33,
    "start_time": "2023-10-13T22:02:53.322Z"
   },
   {
    "duration": 13,
    "start_time": "2023-10-13T22:02:53.356Z"
   },
   {
    "duration": 26,
    "start_time": "2023-10-13T22:02:53.370Z"
   },
   {
    "duration": 17,
    "start_time": "2023-10-13T22:02:53.397Z"
   },
   {
    "duration": 11,
    "start_time": "2023-10-13T22:02:53.416Z"
   }
  ],
  "kernelspec": {
   "display_name": "Python 3 (ipykernel)",
   "language": "python",
   "name": "python3"
  },
  "language_info": {
   "codemirror_mode": {
    "name": "ipython",
    "version": 3
   },
   "file_extension": ".py",
   "mimetype": "text/x-python",
   "name": "python",
   "nbconvert_exporter": "python",
   "pygments_lexer": "ipython3",
   "version": "3.9.5"
  },
  "toc": {
   "base_numbering": 1,
   "nav_menu": {},
   "number_sections": false,
   "sideBar": true,
   "skip_h1_title": true,
   "title_cell": "Table of Contents",
   "title_sidebar": "Contents",
   "toc_cell": false,
   "toc_position": {
    "height": "calc(100% - 180px)",
    "left": "10px",
    "top": "150px",
    "width": "290.917px"
   },
   "toc_section_display": true,
   "toc_window_display": true
  }
 },
 "nbformat": 4,
 "nbformat_minor": 5
}
