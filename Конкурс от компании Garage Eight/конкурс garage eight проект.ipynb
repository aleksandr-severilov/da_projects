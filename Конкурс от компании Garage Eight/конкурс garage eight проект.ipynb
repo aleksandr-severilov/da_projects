{
 "cells": [
  {
   "cell_type": "markdown",
   "id": "e9791e3e",
   "metadata": {},
   "source": [
    "# Конкурс Garage Eight для аналитиков. Бандитский Сыроград.\n",
    "\n",
    "̿̿ ̿̿ ̿̿ ̿'̿'\\̵͇̿̿\\з= ( ▀ ͜͞ʖ▀) =ε/̵͇̿̿/’̿’̿ ̿ ̿̿ ̿̿ ̿̿\n",
    "\n",
    "## @severilov_alex"
   ]
  },
  {
   "cell_type": "markdown",
   "id": "6a35f1ab",
   "metadata": {},
   "source": [
    "## Уважаемая команда Garage Eight!\n",
    "\n",
    "Большое спасибо за то, что проводите такие мероприятия! Для меня подобный опыт впервые, думаю, вы сможете это понять по качеству моей работы (так что, как минимум, вы сможете от души посмеяться). Но в любом случае было очень круто провести время за решением этой задачи и попробовать свои силы в полноценном проекте. Ещё интереснее будет сравнить свою работу с правильным решением. В общем, ещё раз спасибо за то, что предоставляете возможность всем, включая новичков, проверить свои способности в условиях, максимально приближенных к боевым!"
   ]
  },
  {
   "cell_type": "markdown",
   "id": "22028032",
   "metadata": {},
   "source": [
    "## Оглавление\n",
    "\n",
    "- [Описание задания](#ch1)\n",
    "- [Импорт библиотек](#ch2)\n",
    "- [Загрузка данных](#ch3)\n",
    "- [Полнота данных](#ch4)\n",
    "- [Оценка данных](#ch5)\n",
    "- [Выбросы в проценте раскрытых преступлений](#ch6)\n",
    "- [Корреляция значений](#ch7)\n",
    "- [Неявные факторы](#ch8)\n",
    "- [Ответ на вопрос о пользе увеличения количества полицейских](#ch9)\n",
    "- [Промежуточный итог](#ch10)\n",
    "- [Как снизить преступность](#ch11)\n",
    "- [Вывод](#ch12)"
   ]
  },
  {
   "cell_type": "markdown",
   "id": "8cfda835",
   "metadata": {},
   "source": [
    "<a id='ch1' ></a>\n",
    "## Описание задания"
   ]
  },
  {
   "cell_type": "markdown",
   "id": "cd8bef55",
   "metadata": {},
   "source": [
    "В городе происходят кражи со складов. По какой логике происходят кражи неясно, также нет возможности предугадать, где произойдет следующая кража.\n",
    "Однако полиция выяснила, что в некоторых районах, где происходили кражи, также были разбиты фонари. Есть предположение, что между этими фактами есть связь.\n",
    "\n",
    "В нашем распоряжении есть два датасета, в которых представлены следующие данные:\n",
    "В первом датасете:\n",
    "- дата\n",
    "- район города\n",
    "- название склада\n",
    "- количество охраны на складе\n",
    "- количество полицейских на район\n",
    "\n",
    "Во втором датасете:\n",
    "- дата\n",
    "- район города\n",
    "- название склада\n",
    "- процент раскрытых преступлений по уничтожению фонарей в городе\n",
    "- количество фонарей в районе"
   ]
  },
  {
   "cell_type": "markdown",
   "id": "416de307",
   "metadata": {},
   "source": [
    "<a id='ch2' ></a>\n",
    "## Импорт библиотек"
   ]
  },
  {
   "cell_type": "code",
   "execution_count": 1,
   "id": "0eec2b3d",
   "metadata": {},
   "outputs": [],
   "source": [
    "import pandas as pd\n",
    "import datetime as dt\n",
    "import numpy as np\n",
    "import matplotlib.pyplot as plt\n",
    "import seaborn as sns\n",
    "from scipy import stats as st"
   ]
  },
  {
   "cell_type": "markdown",
   "id": "f701669b",
   "metadata": {},
   "source": [
    "<a id='ch3' ></a>\n",
    "## Загрузка данных"
   ]
  },
  {
   "cell_type": "code",
   "execution_count": 2,
   "id": "9749c3a0",
   "metadata": {},
   "outputs": [],
   "source": [
    "data_first = pd.read_csv('first_part.csv', parse_dates=['Date'])"
   ]
  },
  {
   "cell_type": "code",
   "execution_count": 3,
   "id": "411c20bf",
   "metadata": {},
   "outputs": [
    {
     "data": {
      "text/html": [
       "<div>\n",
       "<style scoped>\n",
       "    .dataframe tbody tr th:only-of-type {\n",
       "        vertical-align: middle;\n",
       "    }\n",
       "\n",
       "    .dataframe tbody tr th {\n",
       "        vertical-align: top;\n",
       "    }\n",
       "\n",
       "    .dataframe thead th {\n",
       "        text-align: right;\n",
       "    }\n",
       "</style>\n",
       "<table border=\"1\" class=\"dataframe\">\n",
       "  <thead>\n",
       "    <tr style=\"text-align: right;\">\n",
       "      <th></th>\n",
       "      <th>Date</th>\n",
       "      <th>District</th>\n",
       "      <th>Warehouse_Name</th>\n",
       "      <th>Number_of_Guards</th>\n",
       "      <th>Police_Units</th>\n",
       "    </tr>\n",
       "  </thead>\n",
       "  <tbody>\n",
       "    <tr>\n",
       "      <th>0</th>\n",
       "      <td>2024-01-26</td>\n",
       "      <td>Мышеостровский</td>\n",
       "      <td>Колбасовы</td>\n",
       "      <td>7</td>\n",
       "      <td>6</td>\n",
       "    </tr>\n",
       "    <tr>\n",
       "      <th>1</th>\n",
       "      <td>2024-01-26</td>\n",
       "      <td>Мышеостровский</td>\n",
       "      <td>Молочковы</td>\n",
       "      <td>10</td>\n",
       "      <td>9</td>\n",
       "    </tr>\n",
       "    <tr>\n",
       "      <th>2</th>\n",
       "      <td>2024-01-26</td>\n",
       "      <td>Мышеостровский</td>\n",
       "      <td>Мятновы</td>\n",
       "      <td>8</td>\n",
       "      <td>8</td>\n",
       "    </tr>\n",
       "    <tr>\n",
       "      <th>3</th>\n",
       "      <td>2024-01-26</td>\n",
       "      <td>Мышеостровский</td>\n",
       "      <td>Сметанинковы</td>\n",
       "      <td>8</td>\n",
       "      <td>7</td>\n",
       "    </tr>\n",
       "    <tr>\n",
       "      <th>4</th>\n",
       "      <td>2024-01-26</td>\n",
       "      <td>Краснокотейский</td>\n",
       "      <td>Колбасовы</td>\n",
       "      <td>7</td>\n",
       "      <td>6</td>\n",
       "    </tr>\n",
       "  </tbody>\n",
       "</table>\n",
       "</div>"
      ],
      "text/plain": [
       "        Date         District Warehouse_Name  Number_of_Guards  Police_Units\n",
       "0 2024-01-26   Мышеостровский      Колбасовы                 7             6\n",
       "1 2024-01-26   Мышеостровский      Молочковы                10             9\n",
       "2 2024-01-26   Мышеостровский        Мятновы                 8             8\n",
       "3 2024-01-26   Мышеостровский   Сметанинковы                 8             7\n",
       "4 2024-01-26  Краснокотейский      Колбасовы                 7             6"
      ]
     },
     "execution_count": 3,
     "metadata": {},
     "output_type": "execute_result"
    }
   ],
   "source": [
    "data_first.head()"
   ]
  },
  {
   "cell_type": "code",
   "execution_count": 4,
   "id": "f2b2af37",
   "metadata": {},
   "outputs": [
    {
     "name": "stdout",
     "output_type": "stream",
     "text": [
      "<class 'pandas.core.frame.DataFrame'>\n",
      "RangeIndex: 17280 entries, 0 to 17279\n",
      "Data columns (total 5 columns):\n",
      " #   Column            Non-Null Count  Dtype         \n",
      "---  ------            --------------  -----         \n",
      " 0   Date              17280 non-null  datetime64[ns]\n",
      " 1   District          17280 non-null  object        \n",
      " 2   Warehouse_Name    17280 non-null  object        \n",
      " 3   Number_of_Guards  17280 non-null  int64         \n",
      " 4   Police_Units      17280 non-null  int64         \n",
      "dtypes: datetime64[ns](1), int64(2), object(2)\n",
      "memory usage: 675.1+ KB\n"
     ]
    }
   ],
   "source": [
    "data_first.info()"
   ]
  },
  {
   "cell_type": "code",
   "execution_count": 5,
   "id": "0e3196a0",
   "metadata": {},
   "outputs": [],
   "source": [
    "data_first.columns = data_first.columns.str.lower()"
   ]
  },
  {
   "cell_type": "markdown",
   "id": "0e72a673",
   "metadata": {},
   "source": [
    "Можно заметить, что значение `Police_Units` в одну дату и в одном районе разное. При этом, согласно описанию данных, `Police_Units` - это данные о количестве полицейских в районе, т.е. мы ожидаем, что для всех складов одного района в определенную дату будет указано одинаковое количество полицейских, однако в первых пяти строках это не так. Посмотрим, насколько распространено это явление:\n",
    "\n",
    " - В ситуации, где данные о количестве полицейских соответствуют нашим ожиданиям, среднее количество полицейских за одну дату в одном районе должно совпадать с минимальным/максимальным количеством полицейских в эту же дату в том же районе (***т.е. 5*x/5 = x***). Посмотрим, как часто данное условие выполняется в нашем датасете."
   ]
  },
  {
   "cell_type": "code",
   "execution_count": 6,
   "id": "93b70d27",
   "metadata": {},
   "outputs": [
    {
     "data": {
      "text/html": [
       "<div>\n",
       "<style scoped>\n",
       "    .dataframe tbody tr th:only-of-type {\n",
       "        vertical-align: middle;\n",
       "    }\n",
       "\n",
       "    .dataframe tbody tr th {\n",
       "        vertical-align: top;\n",
       "    }\n",
       "\n",
       "    .dataframe thead th {\n",
       "        text-align: right;\n",
       "    }\n",
       "</style>\n",
       "<table border=\"1\" class=\"dataframe\">\n",
       "  <thead>\n",
       "    <tr style=\"text-align: right;\">\n",
       "      <th></th>\n",
       "      <th>date</th>\n",
       "      <th>district</th>\n",
       "      <th>police_units</th>\n",
       "    </tr>\n",
       "  </thead>\n",
       "  <tbody>\n",
       "    <tr>\n",
       "      <th>0</th>\n",
       "      <td>2022-02-06</td>\n",
       "      <td>Краснокотейский</td>\n",
       "      <td>6.00</td>\n",
       "    </tr>\n",
       "    <tr>\n",
       "      <th>1</th>\n",
       "      <td>2022-02-06</td>\n",
       "      <td>Мышеостровский</td>\n",
       "      <td>3.25</td>\n",
       "    </tr>\n",
       "    <tr>\n",
       "      <th>2</th>\n",
       "      <td>2022-02-06</td>\n",
       "      <td>Мышесельский</td>\n",
       "      <td>6.25</td>\n",
       "    </tr>\n",
       "    <tr>\n",
       "      <th>3</th>\n",
       "      <td>2022-02-06</td>\n",
       "      <td>Невский</td>\n",
       "      <td>7.75</td>\n",
       "    </tr>\n",
       "    <tr>\n",
       "      <th>4</th>\n",
       "      <td>2022-02-06</td>\n",
       "      <td>Петрокотский</td>\n",
       "      <td>4.75</td>\n",
       "    </tr>\n",
       "    <tr>\n",
       "      <th>...</th>\n",
       "      <td>...</td>\n",
       "      <td>...</td>\n",
       "      <td>...</td>\n",
       "    </tr>\n",
       "    <tr>\n",
       "      <th>4315</th>\n",
       "      <td>2024-01-26</td>\n",
       "      <td>Мышеостровский</td>\n",
       "      <td>7.50</td>\n",
       "    </tr>\n",
       "    <tr>\n",
       "      <th>4316</th>\n",
       "      <td>2024-01-26</td>\n",
       "      <td>Мышесельский</td>\n",
       "      <td>4.25</td>\n",
       "    </tr>\n",
       "    <tr>\n",
       "      <th>4317</th>\n",
       "      <td>2024-01-26</td>\n",
       "      <td>Невский</td>\n",
       "      <td>3.25</td>\n",
       "    </tr>\n",
       "    <tr>\n",
       "      <th>4318</th>\n",
       "      <td>2024-01-26</td>\n",
       "      <td>Петрокотский</td>\n",
       "      <td>4.75</td>\n",
       "    </tr>\n",
       "    <tr>\n",
       "      <th>4319</th>\n",
       "      <td>2024-01-26</td>\n",
       "      <td>Приморский</td>\n",
       "      <td>4.50</td>\n",
       "    </tr>\n",
       "  </tbody>\n",
       "</table>\n",
       "<p>4320 rows × 3 columns</p>\n",
       "</div>"
      ],
      "text/plain": [
       "           date         district  police_units\n",
       "0    2022-02-06  Краснокотейский          6.00\n",
       "1    2022-02-06   Мышеостровский          3.25\n",
       "2    2022-02-06     Мышесельский          6.25\n",
       "3    2022-02-06          Невский          7.75\n",
       "4    2022-02-06     Петрокотский          4.75\n",
       "...         ...              ...           ...\n",
       "4315 2024-01-26   Мышеостровский          7.50\n",
       "4316 2024-01-26     Мышесельский          4.25\n",
       "4317 2024-01-26          Невский          3.25\n",
       "4318 2024-01-26     Петрокотский          4.75\n",
       "4319 2024-01-26       Приморский          4.50\n",
       "\n",
       "[4320 rows x 3 columns]"
      ]
     },
     "execution_count": 6,
     "metadata": {},
     "output_type": "execute_result"
    }
   ],
   "source": [
    "polices_mean = (\n",
    "    data_first\n",
    "    .groupby(['date', 'district'], \n",
    "              as_index=False)['police_units']\n",
    "    .mean()\n",
    ")\n",
    "polices_mean"
   ]
  },
  {
   "cell_type": "code",
   "execution_count": 7,
   "id": "2a268aaa",
   "metadata": {
    "scrolled": true
   },
   "outputs": [
    {
     "data": {
      "text/html": [
       "<div>\n",
       "<style scoped>\n",
       "    .dataframe tbody tr th:only-of-type {\n",
       "        vertical-align: middle;\n",
       "    }\n",
       "\n",
       "    .dataframe tbody tr th {\n",
       "        vertical-align: top;\n",
       "    }\n",
       "\n",
       "    .dataframe thead th {\n",
       "        text-align: right;\n",
       "    }\n",
       "</style>\n",
       "<table border=\"1\" class=\"dataframe\">\n",
       "  <thead>\n",
       "    <tr style=\"text-align: right;\">\n",
       "      <th></th>\n",
       "      <th>date</th>\n",
       "      <th>district</th>\n",
       "      <th>police_units</th>\n",
       "    </tr>\n",
       "  </thead>\n",
       "  <tbody>\n",
       "    <tr>\n",
       "      <th>0</th>\n",
       "      <td>2022-02-06</td>\n",
       "      <td>Краснокотейский</td>\n",
       "      <td>3</td>\n",
       "    </tr>\n",
       "    <tr>\n",
       "      <th>1</th>\n",
       "      <td>2022-02-06</td>\n",
       "      <td>Мышеостровский</td>\n",
       "      <td>2</td>\n",
       "    </tr>\n",
       "    <tr>\n",
       "      <th>2</th>\n",
       "      <td>2022-02-06</td>\n",
       "      <td>Мышесельский</td>\n",
       "      <td>2</td>\n",
       "    </tr>\n",
       "    <tr>\n",
       "      <th>3</th>\n",
       "      <td>2022-02-06</td>\n",
       "      <td>Невский</td>\n",
       "      <td>5</td>\n",
       "    </tr>\n",
       "    <tr>\n",
       "      <th>4</th>\n",
       "      <td>2022-02-06</td>\n",
       "      <td>Петрокотский</td>\n",
       "      <td>2</td>\n",
       "    </tr>\n",
       "    <tr>\n",
       "      <th>...</th>\n",
       "      <td>...</td>\n",
       "      <td>...</td>\n",
       "      <td>...</td>\n",
       "    </tr>\n",
       "    <tr>\n",
       "      <th>4315</th>\n",
       "      <td>2024-01-26</td>\n",
       "      <td>Мышеостровский</td>\n",
       "      <td>6</td>\n",
       "    </tr>\n",
       "    <tr>\n",
       "      <th>4316</th>\n",
       "      <td>2024-01-26</td>\n",
       "      <td>Мышесельский</td>\n",
       "      <td>1</td>\n",
       "    </tr>\n",
       "    <tr>\n",
       "      <th>4317</th>\n",
       "      <td>2024-01-26</td>\n",
       "      <td>Невский</td>\n",
       "      <td>1</td>\n",
       "    </tr>\n",
       "    <tr>\n",
       "      <th>4318</th>\n",
       "      <td>2024-01-26</td>\n",
       "      <td>Петрокотский</td>\n",
       "      <td>1</td>\n",
       "    </tr>\n",
       "    <tr>\n",
       "      <th>4319</th>\n",
       "      <td>2024-01-26</td>\n",
       "      <td>Приморский</td>\n",
       "      <td>3</td>\n",
       "    </tr>\n",
       "  </tbody>\n",
       "</table>\n",
       "<p>4320 rows × 3 columns</p>\n",
       "</div>"
      ],
      "text/plain": [
       "           date         district  police_units\n",
       "0    2022-02-06  Краснокотейский             3\n",
       "1    2022-02-06   Мышеостровский             2\n",
       "2    2022-02-06     Мышесельский             2\n",
       "3    2022-02-06          Невский             5\n",
       "4    2022-02-06     Петрокотский             2\n",
       "...         ...              ...           ...\n",
       "4315 2024-01-26   Мышеостровский             6\n",
       "4316 2024-01-26     Мышесельский             1\n",
       "4317 2024-01-26          Невский             1\n",
       "4318 2024-01-26     Петрокотский             1\n",
       "4319 2024-01-26       Приморский             3\n",
       "\n",
       "[4320 rows x 3 columns]"
      ]
     },
     "execution_count": 7,
     "metadata": {},
     "output_type": "execute_result"
    }
   ],
   "source": [
    "polices_min = (\n",
    "    data_first\n",
    "    .groupby(['date', 'district'], \n",
    "             as_index=False)['police_units']\n",
    "    .min()\n",
    ")\n",
    "polices_min"
   ]
  },
  {
   "cell_type": "code",
   "execution_count": 8,
   "id": "ee978392",
   "metadata": {},
   "outputs": [],
   "source": [
    "counter = 0\n",
    "for i in range(len(polices_mean)):\n",
    "    if polices_mean['police_units'][i]-polices_min['police_units'][i] == 0:\n",
    "        counter += 1\n",
    "    else:\n",
    "        counter=counter"
   ]
  },
  {
   "cell_type": "code",
   "execution_count": 9,
   "id": "1b586498",
   "metadata": {},
   "outputs": [
    {
     "data": {
      "text/plain": [
       "4"
      ]
     },
     "execution_count": 9,
     "metadata": {},
     "output_type": "execute_result"
    }
   ],
   "source": [
    "counter"
   ]
  },
  {
   "cell_type": "markdown",
   "id": "2bf07e8e",
   "metadata": {},
   "source": [
    "Всего 4 раза мы получили ожидаемое значение. Учитывая объем данных, скорее всего это просто совпадение.\n",
    "\n",
    "У нас есть два варианта дальнейшего исследования:\n",
    "1. Признать каждое уникальное сочетание **district - warehouse_name** отдельным районом.\n",
    "2. Заменить данные для каждого района в каждую дату на среднее значение количества полицейских в этом районе.\n",
    "\n",
    "Пока не будем делать ни то, ни другое, а сначала посмотрим на второй датасет."
   ]
  },
  {
   "cell_type": "code",
   "execution_count": 10,
   "id": "45a02b85",
   "metadata": {},
   "outputs": [],
   "source": [
    "data_second = pd.read_csv('second_part.csv', parse_dates=['Date'])"
   ]
  },
  {
   "cell_type": "code",
   "execution_count": 11,
   "id": "3a191d0a",
   "metadata": {},
   "outputs": [
    {
     "data": {
      "text/html": [
       "<div>\n",
       "<style scoped>\n",
       "    .dataframe tbody tr th:only-of-type {\n",
       "        vertical-align: middle;\n",
       "    }\n",
       "\n",
       "    .dataframe tbody tr th {\n",
       "        vertical-align: top;\n",
       "    }\n",
       "\n",
       "    .dataframe thead th {\n",
       "        text-align: right;\n",
       "    }\n",
       "</style>\n",
       "<table border=\"1\" class=\"dataframe\">\n",
       "  <thead>\n",
       "    <tr style=\"text-align: right;\">\n",
       "      <th></th>\n",
       "      <th>Date</th>\n",
       "      <th>District</th>\n",
       "      <th>Warehouse_Name</th>\n",
       "      <th>Percent_of_Crime_Solved</th>\n",
       "      <th>Number_of_Lights</th>\n",
       "    </tr>\n",
       "  </thead>\n",
       "  <tbody>\n",
       "    <tr>\n",
       "      <th>0</th>\n",
       "      <td>2024-01-26</td>\n",
       "      <td>Мышеостровский</td>\n",
       "      <td>Колбасовы</td>\n",
       "      <td>83.160960</td>\n",
       "      <td>725</td>\n",
       "    </tr>\n",
       "    <tr>\n",
       "      <th>1</th>\n",
       "      <td>2024-01-26</td>\n",
       "      <td>Мышеостровский</td>\n",
       "      <td>Молочковы</td>\n",
       "      <td>87.756487</td>\n",
       "      <td>984</td>\n",
       "    </tr>\n",
       "    <tr>\n",
       "      <th>2</th>\n",
       "      <td>2024-01-26</td>\n",
       "      <td>Мышеостровский</td>\n",
       "      <td>Мятновы</td>\n",
       "      <td>87.010121</td>\n",
       "      <td>1030</td>\n",
       "    </tr>\n",
       "    <tr>\n",
       "      <th>3</th>\n",
       "      <td>2024-01-26</td>\n",
       "      <td>Мышеостровский</td>\n",
       "      <td>Сметанинковы</td>\n",
       "      <td>82.207203</td>\n",
       "      <td>814</td>\n",
       "    </tr>\n",
       "    <tr>\n",
       "      <th>4</th>\n",
       "      <td>2024-01-26</td>\n",
       "      <td>Краснокотейский</td>\n",
       "      <td>Колбасовы</td>\n",
       "      <td>86.684716</td>\n",
       "      <td>1035</td>\n",
       "    </tr>\n",
       "  </tbody>\n",
       "</table>\n",
       "</div>"
      ],
      "text/plain": [
       "        Date         District Warehouse_Name  Percent_of_Crime_Solved  \\\n",
       "0 2024-01-26   Мышеостровский      Колбасовы                83.160960   \n",
       "1 2024-01-26   Мышеостровский      Молочковы                87.756487   \n",
       "2 2024-01-26   Мышеостровский        Мятновы                87.010121   \n",
       "3 2024-01-26   Мышеостровский   Сметанинковы                82.207203   \n",
       "4 2024-01-26  Краснокотейский      Колбасовы                86.684716   \n",
       "\n",
       "   Number_of_Lights  \n",
       "0               725  \n",
       "1               984  \n",
       "2              1030  \n",
       "3               814  \n",
       "4              1035  "
      ]
     },
     "execution_count": 11,
     "metadata": {},
     "output_type": "execute_result"
    }
   ],
   "source": [
    "data_second.head()"
   ]
  },
  {
   "cell_type": "code",
   "execution_count": 12,
   "id": "6419cf9e",
   "metadata": {
    "scrolled": true
   },
   "outputs": [
    {
     "name": "stdout",
     "output_type": "stream",
     "text": [
      "<class 'pandas.core.frame.DataFrame'>\n",
      "RangeIndex: 17280 entries, 0 to 17279\n",
      "Data columns (total 5 columns):\n",
      " #   Column                   Non-Null Count  Dtype         \n",
      "---  ------                   --------------  -----         \n",
      " 0   Date                     17280 non-null  datetime64[ns]\n",
      " 1   District                 17280 non-null  object        \n",
      " 2   Warehouse_Name           17280 non-null  object        \n",
      " 3   Percent_of_Crime_Solved  17280 non-null  float64       \n",
      " 4   Number_of_Lights         17280 non-null  int64         \n",
      "dtypes: datetime64[ns](1), float64(1), int64(1), object(2)\n",
      "memory usage: 675.1+ KB\n"
     ]
    }
   ],
   "source": [
    "data_second.info()"
   ]
  },
  {
   "cell_type": "code",
   "execution_count": 13,
   "id": "1bbd9181",
   "metadata": {},
   "outputs": [],
   "source": [
    "data_second.columns = data_second.columns.str.lower()"
   ]
  },
  {
   "cell_type": "markdown",
   "id": "1130bd44",
   "metadata": {},
   "source": [
    "Уже по первым пяти столбцам мы видим ситуацию аналогичную первому датасету:  столбцы `percent_of_crime_solved` и `number_of_lights` содержат информацию о проценте раскрытых преступлений в районе и количество фонарей в районе соответственно. В таком случае в одну и ту же дату в одном и том же районе процент раскрытых преступлений и количество фонарей должно быть одинаковым. Однако мы видим, что в датасете это не так.\n",
    "\n",
    "Так как процент раскрытых преступлений дан с точностью до миллионной, можно предположить, что количество уникальных значений будет равно или практически равно количеству строк в датасете. Это позволяет проверить наше предположение о недостоверности данных проще нежели в первом датасете. Мы сравним количество уникальных значений в столбце `percent_of_crime_solved` и количество уникальных сочетаний `date-district`. По идее эти числа должны совпасть."
   ]
  },
  {
   "cell_type": "code",
   "execution_count": 14,
   "id": "191791b9",
   "metadata": {
    "scrolled": true
   },
   "outputs": [
    {
     "data": {
      "text/plain": [
       "16527"
      ]
     },
     "execution_count": 14,
     "metadata": {},
     "output_type": "execute_result"
    }
   ],
   "source": [
    "data_second['percent_of_crime_solved'].nunique()"
   ]
  },
  {
   "cell_type": "code",
   "execution_count": 15,
   "id": "42493a52",
   "metadata": {},
   "outputs": [
    {
     "data": {
      "text/plain": [
       "4320"
      ]
     },
     "execution_count": 15,
     "metadata": {},
     "output_type": "execute_result"
    }
   ],
   "source": [
    "data_second.groupby('date').agg({'district':'nunique'})['district'].sum()"
   ]
  },
  {
   "cell_type": "markdown",
   "id": "47186dd7",
   "metadata": {},
   "source": [
    "Снова мы видим, что данные не соответстсуют тому, что мы ожидали, а именно, что в одном районе в одну дату будет одинаковый процент раскрытых преступлений."
   ]
  },
  {
   "cell_type": "markdown",
   "id": "061ce6ae",
   "metadata": {},
   "source": [
    "Прежде, чем принимать решение о том, как обработать данные, объединим два датафрейма в один."
   ]
  },
  {
   "cell_type": "code",
   "execution_count": 16,
   "id": "4fe7faea",
   "metadata": {},
   "outputs": [],
   "source": [
    "data = data_first.merge(data_second, on=['date', 'district', 'warehouse_name'])"
   ]
  },
  {
   "cell_type": "code",
   "execution_count": 17,
   "id": "828d2f9e",
   "metadata": {},
   "outputs": [
    {
     "data": {
      "text/html": [
       "<div>\n",
       "<style scoped>\n",
       "    .dataframe tbody tr th:only-of-type {\n",
       "        vertical-align: middle;\n",
       "    }\n",
       "\n",
       "    .dataframe tbody tr th {\n",
       "        vertical-align: top;\n",
       "    }\n",
       "\n",
       "    .dataframe thead th {\n",
       "        text-align: right;\n",
       "    }\n",
       "</style>\n",
       "<table border=\"1\" class=\"dataframe\">\n",
       "  <thead>\n",
       "    <tr style=\"text-align: right;\">\n",
       "      <th></th>\n",
       "      <th>date</th>\n",
       "      <th>district</th>\n",
       "      <th>warehouse_name</th>\n",
       "      <th>number_of_guards</th>\n",
       "      <th>police_units</th>\n",
       "      <th>percent_of_crime_solved</th>\n",
       "      <th>number_of_lights</th>\n",
       "    </tr>\n",
       "  </thead>\n",
       "  <tbody>\n",
       "    <tr>\n",
       "      <th>0</th>\n",
       "      <td>2024-01-26</td>\n",
       "      <td>Мышеостровский</td>\n",
       "      <td>Колбасовы</td>\n",
       "      <td>7</td>\n",
       "      <td>6</td>\n",
       "      <td>83.160960</td>\n",
       "      <td>725</td>\n",
       "    </tr>\n",
       "    <tr>\n",
       "      <th>1</th>\n",
       "      <td>2024-01-26</td>\n",
       "      <td>Мышеостровский</td>\n",
       "      <td>Молочковы</td>\n",
       "      <td>10</td>\n",
       "      <td>9</td>\n",
       "      <td>87.756487</td>\n",
       "      <td>984</td>\n",
       "    </tr>\n",
       "    <tr>\n",
       "      <th>2</th>\n",
       "      <td>2024-01-26</td>\n",
       "      <td>Мышеостровский</td>\n",
       "      <td>Мятновы</td>\n",
       "      <td>8</td>\n",
       "      <td>8</td>\n",
       "      <td>87.010121</td>\n",
       "      <td>1030</td>\n",
       "    </tr>\n",
       "    <tr>\n",
       "      <th>3</th>\n",
       "      <td>2024-01-26</td>\n",
       "      <td>Мышеостровский</td>\n",
       "      <td>Сметанинковы</td>\n",
       "      <td>8</td>\n",
       "      <td>7</td>\n",
       "      <td>82.207203</td>\n",
       "      <td>814</td>\n",
       "    </tr>\n",
       "    <tr>\n",
       "      <th>4</th>\n",
       "      <td>2024-01-26</td>\n",
       "      <td>Краснокотейский</td>\n",
       "      <td>Колбасовы</td>\n",
       "      <td>7</td>\n",
       "      <td>6</td>\n",
       "      <td>86.684716</td>\n",
       "      <td>1035</td>\n",
       "    </tr>\n",
       "  </tbody>\n",
       "</table>\n",
       "</div>"
      ],
      "text/plain": [
       "        date         district warehouse_name  number_of_guards  police_units  \\\n",
       "0 2024-01-26   Мышеостровский      Колбасовы                 7             6   \n",
       "1 2024-01-26   Мышеостровский      Молочковы                10             9   \n",
       "2 2024-01-26   Мышеостровский        Мятновы                 8             8   \n",
       "3 2024-01-26   Мышеостровский   Сметанинковы                 8             7   \n",
       "4 2024-01-26  Краснокотейский      Колбасовы                 7             6   \n",
       "\n",
       "   percent_of_crime_solved  number_of_lights  \n",
       "0                83.160960               725  \n",
       "1                87.756487               984  \n",
       "2                87.010121              1030  \n",
       "3                82.207203               814  \n",
       "4                86.684716              1035  "
      ]
     },
     "execution_count": 17,
     "metadata": {},
     "output_type": "execute_result"
    }
   ],
   "source": [
    "data.head()"
   ]
  },
  {
   "cell_type": "markdown",
   "id": "f935ecab",
   "metadata": {},
   "source": [
    "Чтобы принять решение о том, как поступить с \"районными\" данными, нужно ответить на вопрос - почему данные за одну дату в одном районе отличаются? Почему так могло получится?\n",
    "\n",
    "Скорее всего так произошло в связи с тем, что районы разбиты на сектора, чтобы в каждом секторе был один склад. Это логично, учитывая, что скорее всего главная задача полиции - это предотвращение краж сыра со складов.\n",
    "\n",
    "В таком случае при дальнейшем исследовании мы будем исходить из того, что каждое сочетание **district - warehouse_name** - это отдельный мини-район со своим процентом раскрываемости, количеством фонарей и количеством полицейских."
   ]
  },
  {
   "cell_type": "code",
   "execution_count": 18,
   "id": "d92eb629",
   "metadata": {},
   "outputs": [],
   "source": [
    "data['sector'] = data.apply(lambda x: x['district'] + '-' + x['warehouse_name'], axis = 1)"
   ]
  },
  {
   "cell_type": "code",
   "execution_count": 19,
   "id": "03e50ce5",
   "metadata": {},
   "outputs": [
    {
     "data": {
      "text/plain": [
       "0           Мышеостровский-Колбасовы\n",
       "1           Мышеостровский-Молочковы\n",
       "2             Мышеостровский-Мятновы\n",
       "3        Мышеостровский-Сметанинковы\n",
       "4          Краснокотейский-Колбасовы\n",
       "                    ...             \n",
       "17275        Приморский-Сметанинковы\n",
       "17276              Невский-Колбасовы\n",
       "17277              Невский-Молочковы\n",
       "17278                Невский-Мятновы\n",
       "17279           Невский-Сметанинковы\n",
       "Name: sector, Length: 17280, dtype: object"
      ]
     },
     "execution_count": 19,
     "metadata": {},
     "output_type": "execute_result"
    }
   ],
   "source": [
    "data['sector']"
   ]
  },
  {
   "cell_type": "markdown",
   "id": "fc7ef988",
   "metadata": {},
   "source": [
    "<a id='ch4' ></a>\n",
    "## Полнота данных"
   ]
  },
  {
   "cell_type": "markdown",
   "id": "f18cd813",
   "metadata": {},
   "source": [
    "В задании указано, что необходимо снизить количество краж в городе. Однако никакой информации о кражах в датасете нет. Есть только указание на возможную связь между разбитыми фонарями и кражами.\n",
    "Будем исходить из того, что связь действительно есть и она прямая: **разбитые фонари = кражи**.\n",
    "В таком случае, если мы хотим снизить уровень краж, нам нужно повысить процент раскрываемости преступлений по уничтожению фонарей (никакого выбивания признаний, только анализ данных ( ͡❛ ͜ʖ ͡❛))."
   ]
  },
  {
   "cell_type": "markdown",
   "id": "fd43e094",
   "metadata": {},
   "source": [
    "<a id='ch5' ></a>\n",
    "## Оценка данных"
   ]
  },
  {
   "cell_type": "code",
   "execution_count": 20,
   "id": "61da7435",
   "metadata": {
    "scrolled": true
   },
   "outputs": [
    {
     "data": {
      "text/plain": [
       "0"
      ]
     },
     "execution_count": 20,
     "metadata": {},
     "output_type": "execute_result"
    }
   ],
   "source": [
    "data.duplicated().sum()"
   ]
  },
  {
   "cell_type": "markdown",
   "id": "e8b4f902",
   "metadata": {},
   "source": [
    "дубликатов нет."
   ]
  },
  {
   "cell_type": "code",
   "execution_count": 21,
   "id": "fbdd412e",
   "metadata": {},
   "outputs": [],
   "source": [
    "data.columns = data.columns.str.lower()"
   ]
  },
  {
   "cell_type": "code",
   "execution_count": 22,
   "id": "03fd7d98",
   "metadata": {
    "scrolled": true
   },
   "outputs": [
    {
     "data": {
      "text/plain": [
       "Timestamp('2024-01-26 00:00:00')"
      ]
     },
     "execution_count": 22,
     "metadata": {},
     "output_type": "execute_result"
    }
   ],
   "source": [
    "max(data['date'])"
   ]
  },
  {
   "cell_type": "code",
   "execution_count": 23,
   "id": "76598587",
   "metadata": {},
   "outputs": [
    {
     "data": {
      "text/plain": [
       "Timestamp('2022-02-06 00:00:00')"
      ]
     },
     "execution_count": 23,
     "metadata": {},
     "output_type": "execute_result"
    }
   ],
   "source": [
    "min(data['date'])"
   ]
  },
  {
   "cell_type": "code",
   "execution_count": 24,
   "id": "d6df1b73",
   "metadata": {},
   "outputs": [
    {
     "data": {
      "text/plain": [
       "Timedelta('719 days 00:00:00')"
      ]
     },
     "execution_count": 24,
     "metadata": {},
     "output_type": "execute_result"
    }
   ],
   "source": [
    "max(data['date'])-min(data['date'])"
   ]
  },
  {
   "cell_type": "markdown",
   "id": "c72e9eb0",
   "metadata": {},
   "source": [
    "В датафрейме представлены данные за почти 2 года: с 6 февраля 2022 года по 26 января 2024 года."
   ]
  },
  {
   "cell_type": "code",
   "execution_count": 25,
   "id": "7f6669b9",
   "metadata": {
    "scrolled": true
   },
   "outputs": [
    {
     "data": {
      "text/html": [
       "<div>\n",
       "<style scoped>\n",
       "    .dataframe tbody tr th:only-of-type {\n",
       "        vertical-align: middle;\n",
       "    }\n",
       "\n",
       "    .dataframe tbody tr th {\n",
       "        vertical-align: top;\n",
       "    }\n",
       "\n",
       "    .dataframe thead th {\n",
       "        text-align: right;\n",
       "    }\n",
       "</style>\n",
       "<table border=\"1\" class=\"dataframe\">\n",
       "  <thead>\n",
       "    <tr style=\"text-align: right;\">\n",
       "      <th></th>\n",
       "      <th>date</th>\n",
       "      <th>percent_of_crime_solved</th>\n",
       "    </tr>\n",
       "  </thead>\n",
       "  <tbody>\n",
       "    <tr>\n",
       "      <th>0</th>\n",
       "      <td>2022-02-06</td>\n",
       "      <td>81.931805</td>\n",
       "    </tr>\n",
       "    <tr>\n",
       "      <th>1</th>\n",
       "      <td>2022-02-07</td>\n",
       "      <td>75.601180</td>\n",
       "    </tr>\n",
       "    <tr>\n",
       "      <th>2</th>\n",
       "      <td>2022-02-08</td>\n",
       "      <td>73.178635</td>\n",
       "    </tr>\n",
       "    <tr>\n",
       "      <th>3</th>\n",
       "      <td>2022-02-09</td>\n",
       "      <td>71.837852</td>\n",
       "    </tr>\n",
       "    <tr>\n",
       "      <th>4</th>\n",
       "      <td>2022-02-10</td>\n",
       "      <td>49.237695</td>\n",
       "    </tr>\n",
       "    <tr>\n",
       "      <th>...</th>\n",
       "      <td>...</td>\n",
       "      <td>...</td>\n",
       "    </tr>\n",
       "    <tr>\n",
       "      <th>715</th>\n",
       "      <td>2024-01-22</td>\n",
       "      <td>65.897334</td>\n",
       "    </tr>\n",
       "    <tr>\n",
       "      <th>716</th>\n",
       "      <td>2024-01-23</td>\n",
       "      <td>65.752667</td>\n",
       "    </tr>\n",
       "    <tr>\n",
       "      <th>717</th>\n",
       "      <td>2024-01-24</td>\n",
       "      <td>63.633812</td>\n",
       "    </tr>\n",
       "    <tr>\n",
       "      <th>718</th>\n",
       "      <td>2024-01-25</td>\n",
       "      <td>77.056030</td>\n",
       "    </tr>\n",
       "    <tr>\n",
       "      <th>719</th>\n",
       "      <td>2024-01-26</td>\n",
       "      <td>85.327619</td>\n",
       "    </tr>\n",
       "  </tbody>\n",
       "</table>\n",
       "<p>720 rows × 2 columns</p>\n",
       "</div>"
      ],
      "text/plain": [
       "          date  percent_of_crime_solved\n",
       "0   2022-02-06                81.931805\n",
       "1   2022-02-07                75.601180\n",
       "2   2022-02-08                73.178635\n",
       "3   2022-02-09                71.837852\n",
       "4   2022-02-10                49.237695\n",
       "..         ...                      ...\n",
       "715 2024-01-22                65.897334\n",
       "716 2024-01-23                65.752667\n",
       "717 2024-01-24                63.633812\n",
       "718 2024-01-25                77.056030\n",
       "719 2024-01-26                85.327619\n",
       "\n",
       "[720 rows x 2 columns]"
      ]
     },
     "execution_count": 25,
     "metadata": {},
     "output_type": "execute_result"
    }
   ],
   "source": [
    "crimes_timeline = (\n",
    "    data.groupby('date', as_index=False)\n",
    "    .agg({'percent_of_crime_solved':'mean'})\n",
    ")\n",
    "crimes_timeline"
   ]
  },
  {
   "cell_type": "code",
   "execution_count": 26,
   "id": "19689db8",
   "metadata": {
    "scrolled": false
   },
   "outputs": [
    {
     "data": {
      "image/png": "[encoded data removed]",
      "text/plain": [
       "<Figure size 720x432 with 1 Axes>"
      ]
     },
     "metadata": {
      "needs_background": "light"
     },
     "output_type": "display_data"
    }
   ],
   "source": [
    "crimes_timeline.plot(x='date', y='percent_of_crime_solved', kind='line', figsize=(10,6));"
   ]
  },
  {
   "cell_type": "code",
   "execution_count": 27,
   "id": "48505ca7",
   "metadata": {},
   "outputs": [
    {
     "data": {
      "text/plain": [
       "count    720.000000\n",
       "mean      69.111268\n",
       "std       12.376668\n",
       "min        1.686968\n",
       "25%       62.786930\n",
       "50%       69.600239\n",
       "75%       76.606267\n",
       "max      100.000000\n",
       "Name: percent_of_crime_solved, dtype: float64"
      ]
     },
     "execution_count": 27,
     "metadata": {},
     "output_type": "execute_result"
    }
   ],
   "source": [
    "crimes_timeline['percent_of_crime_solved'].describe()"
   ]
  },
  {
   "cell_type": "markdown",
   "id": "1c817174",
   "metadata": {},
   "source": [
    "Раскрываемость преступлений по разбитым фонарям нестабильна, присутствуют выбросы. Медианное значение раскрываемости составляет 69.6%, а среднее - 69.1%."
   ]
  },
  {
   "cell_type": "markdown",
   "id": "1a24dbd5",
   "metadata": {},
   "source": [
    "Посмотрим распределение данных в других столбцах:"
   ]
  },
  {
   "cell_type": "code",
   "execution_count": 28,
   "id": "00b67827",
   "metadata": {},
   "outputs": [
    {
     "data": {
      "image/png": "[encoded data removed]",
      "text/plain": [
       "<Figure size 432x288 with 1 Axes>"
      ]
     },
     "metadata": {
      "needs_background": "light"
     },
     "output_type": "display_data"
    }
   ],
   "source": [
    "data['number_of_lights'].hist(bins=50);"
   ]
  },
  {
   "cell_type": "code",
   "execution_count": 29,
   "id": "427ecbdf",
   "metadata": {},
   "outputs": [
    {
     "data": {
      "text/plain": [
       "count    17280.000000\n",
       "mean       697.967477\n",
       "std        177.433022\n",
       "min        151.000000\n",
       "25%        572.000000\n",
       "50%        688.000000\n",
       "75%        812.000000\n",
       "max       1619.000000\n",
       "Name: number_of_lights, dtype: float64"
      ]
     },
     "execution_count": 29,
     "metadata": {},
     "output_type": "execute_result"
    }
   ],
   "source": [
    "data['number_of_lights'].describe()"
   ]
  },
  {
   "cell_type": "code",
   "execution_count": 30,
   "id": "baf9f22d",
   "metadata": {},
   "outputs": [
    {
     "data": {
      "image/png": "[encoded data removed]",
      "text/plain": [
       "<Figure size 720x720 with 1 Axes>"
      ]
     },
     "metadata": {
      "needs_background": "light"
     },
     "output_type": "display_data"
    }
   ],
   "source": [
    "plt.figure(figsize=(10, 10))\n",
    "sns.boxplot(data=data[['number_of_guards', 'police_units']]);"
   ]
  },
  {
   "cell_type": "code",
   "execution_count": 31,
   "id": "71cbd522",
   "metadata": {},
   "outputs": [
    {
     "data": {
      "image/png": "[encoded data removed]",
      "text/plain": [
       "<Figure size 432x288 with 1 Axes>"
      ]
     },
     "metadata": {
      "needs_background": "light"
     },
     "output_type": "display_data"
    }
   ],
   "source": [
    "data['percent_of_crime_solved'].hist(bins=100);"
   ]
  },
  {
   "cell_type": "code",
   "execution_count": 32,
   "id": "356a9c42",
   "metadata": {},
   "outputs": [
    {
     "data": {
      "text/plain": [
       "count    17280.000000\n",
       "mean        69.111268\n",
       "std         12.674158\n",
       "min          1.686968\n",
       "25%         62.313482\n",
       "50%         69.586076\n",
       "75%         76.905214\n",
       "max        100.000000\n",
       "Name: percent_of_crime_solved, dtype: float64"
      ]
     },
     "execution_count": 32,
     "metadata": {},
     "output_type": "execute_result"
    }
   ],
   "source": [
    "data['percent_of_crime_solved'].describe()"
   ]
  },
  {
   "cell_type": "markdown",
   "id": "a7bfb3c9",
   "metadata": {},
   "source": [
    "Обращаем внимание на выбросы в районе 100% и на то, что сначала процент раскрытых преступлений плавно снижался и достиг 0 примерно на уровне 30%, а затем мы видим несколько одинаковых по количеству значений выбросов."
   ]
  },
  {
   "cell_type": "code",
   "execution_count": 33,
   "id": "a7eb9d66",
   "metadata": {
    "scrolled": true
   },
   "outputs": [
    {
     "data": {
      "text/html": [
       "<div>\n",
       "<style scoped>\n",
       "    .dataframe tbody tr th:only-of-type {\n",
       "        vertical-align: middle;\n",
       "    }\n",
       "\n",
       "    .dataframe tbody tr th {\n",
       "        vertical-align: top;\n",
       "    }\n",
       "\n",
       "    .dataframe thead th {\n",
       "        text-align: right;\n",
       "    }\n",
       "</style>\n",
       "<table border=\"1\" class=\"dataframe\">\n",
       "  <thead>\n",
       "    <tr style=\"text-align: right;\">\n",
       "      <th></th>\n",
       "      <th>district</th>\n",
       "      <th>warehouse_name</th>\n",
       "    </tr>\n",
       "  </thead>\n",
       "  <tbody>\n",
       "    <tr>\n",
       "      <th>0</th>\n",
       "      <td>Краснокотейский</td>\n",
       "      <td>4</td>\n",
       "    </tr>\n",
       "    <tr>\n",
       "      <th>1</th>\n",
       "      <td>Мышеостровский</td>\n",
       "      <td>4</td>\n",
       "    </tr>\n",
       "    <tr>\n",
       "      <th>2</th>\n",
       "      <td>Мышесельский</td>\n",
       "      <td>4</td>\n",
       "    </tr>\n",
       "    <tr>\n",
       "      <th>3</th>\n",
       "      <td>Невский</td>\n",
       "      <td>4</td>\n",
       "    </tr>\n",
       "    <tr>\n",
       "      <th>4</th>\n",
       "      <td>Петрокотский</td>\n",
       "      <td>4</td>\n",
       "    </tr>\n",
       "    <tr>\n",
       "      <th>5</th>\n",
       "      <td>Приморский</td>\n",
       "      <td>4</td>\n",
       "    </tr>\n",
       "  </tbody>\n",
       "</table>\n",
       "</div>"
      ],
      "text/plain": [
       "          district  warehouse_name\n",
       "0  Краснокотейский               4\n",
       "1   Мышеостровский               4\n",
       "2     Мышесельский               4\n",
       "3          Невский               4\n",
       "4     Петрокотский               4\n",
       "5       Приморский               4"
      ]
     },
     "execution_count": 33,
     "metadata": {},
     "output_type": "execute_result"
    }
   ],
   "source": [
    "data.groupby('district', as_index=False)['warehouse_name'].nunique()"
   ]
  },
  {
   "cell_type": "markdown",
   "id": "43d00e1d",
   "metadata": {},
   "source": [
    "Все склады представлены во всех районах."
   ]
  },
  {
   "cell_type": "markdown",
   "id": "42475dbe",
   "metadata": {},
   "source": [
    "<a id='ch6' ></a>\n",
    "## Выбросы в проценте раскрытых преступлений"
   ]
  },
  {
   "cell_type": "markdown",
   "id": "de40be7f",
   "metadata": {},
   "source": [
    "Рассмотрим более подробно выбросы в проценте раскрытых преступлений. Это выбросы на уровне раскрываемости ниже 30%, а также выбросы на уровне 100%."
   ]
  },
  {
   "cell_type": "code",
   "execution_count": 34,
   "id": "d085b19c",
   "metadata": {},
   "outputs": [
    {
     "data": {
      "text/html": [
       "<div>\n",
       "<style scoped>\n",
       "    .dataframe tbody tr th:only-of-type {\n",
       "        vertical-align: middle;\n",
       "    }\n",
       "\n",
       "    .dataframe tbody tr th {\n",
       "        vertical-align: top;\n",
       "    }\n",
       "\n",
       "    .dataframe thead th {\n",
       "        text-align: right;\n",
       "    }\n",
       "</style>\n",
       "<table border=\"1\" class=\"dataframe\">\n",
       "  <thead>\n",
       "    <tr style=\"text-align: right;\">\n",
       "      <th></th>\n",
       "      <th>date</th>\n",
       "      <th>district</th>\n",
       "      <th>warehouse_name</th>\n",
       "      <th>number_of_guards</th>\n",
       "      <th>police_units</th>\n",
       "      <th>percent_of_crime_solved</th>\n",
       "      <th>number_of_lights</th>\n",
       "      <th>sector</th>\n",
       "    </tr>\n",
       "  </thead>\n",
       "  <tbody>\n",
       "    <tr>\n",
       "      <th>2784</th>\n",
       "      <td>2023-10-02</td>\n",
       "      <td>Мышеостровский</td>\n",
       "      <td>Колбасовы</td>\n",
       "      <td>8</td>\n",
       "      <td>8</td>\n",
       "      <td>3.722670</td>\n",
       "      <td>678</td>\n",
       "      <td>Мышеостровский-Колбасовы</td>\n",
       "    </tr>\n",
       "    <tr>\n",
       "      <th>2785</th>\n",
       "      <td>2023-10-02</td>\n",
       "      <td>Мышеостровский</td>\n",
       "      <td>Молочковы</td>\n",
       "      <td>8</td>\n",
       "      <td>6</td>\n",
       "      <td>3.722670</td>\n",
       "      <td>663</td>\n",
       "      <td>Мышеостровский-Молочковы</td>\n",
       "    </tr>\n",
       "    <tr>\n",
       "      <th>2786</th>\n",
       "      <td>2023-10-02</td>\n",
       "      <td>Мышеостровский</td>\n",
       "      <td>Мятновы</td>\n",
       "      <td>6</td>\n",
       "      <td>4</td>\n",
       "      <td>3.722670</td>\n",
       "      <td>687</td>\n",
       "      <td>Мышеостровский-Мятновы</td>\n",
       "    </tr>\n",
       "    <tr>\n",
       "      <th>2787</th>\n",
       "      <td>2023-10-02</td>\n",
       "      <td>Мышеостровский</td>\n",
       "      <td>Сметанинковы</td>\n",
       "      <td>7</td>\n",
       "      <td>7</td>\n",
       "      <td>3.722670</td>\n",
       "      <td>678</td>\n",
       "      <td>Мышеостровский-Сметанинковы</td>\n",
       "    </tr>\n",
       "    <tr>\n",
       "      <th>2788</th>\n",
       "      <td>2023-10-02</td>\n",
       "      <td>Краснокотейский</td>\n",
       "      <td>Колбасовы</td>\n",
       "      <td>7</td>\n",
       "      <td>6</td>\n",
       "      <td>3.722670</td>\n",
       "      <td>778</td>\n",
       "      <td>Краснокотейский-Колбасовы</td>\n",
       "    </tr>\n",
       "    <tr>\n",
       "      <th>...</th>\n",
       "      <td>...</td>\n",
       "      <td>...</td>\n",
       "      <td>...</td>\n",
       "      <td>...</td>\n",
       "      <td>...</td>\n",
       "      <td>...</td>\n",
       "      <td>...</td>\n",
       "      <td>...</td>\n",
       "    </tr>\n",
       "    <tr>\n",
       "      <th>16339</th>\n",
       "      <td>2022-03-17</td>\n",
       "      <td>Приморский</td>\n",
       "      <td>Сметанинковы</td>\n",
       "      <td>1</td>\n",
       "      <td>1</td>\n",
       "      <td>15.960117</td>\n",
       "      <td>529</td>\n",
       "      <td>Приморский-Сметанинковы</td>\n",
       "    </tr>\n",
       "    <tr>\n",
       "      <th>16340</th>\n",
       "      <td>2022-03-17</td>\n",
       "      <td>Невский</td>\n",
       "      <td>Колбасовы</td>\n",
       "      <td>1</td>\n",
       "      <td>1</td>\n",
       "      <td>15.960117</td>\n",
       "      <td>571</td>\n",
       "      <td>Невский-Колбасовы</td>\n",
       "    </tr>\n",
       "    <tr>\n",
       "      <th>16341</th>\n",
       "      <td>2022-03-17</td>\n",
       "      <td>Невский</td>\n",
       "      <td>Молочковы</td>\n",
       "      <td>11</td>\n",
       "      <td>9</td>\n",
       "      <td>15.960117</td>\n",
       "      <td>538</td>\n",
       "      <td>Невский-Молочковы</td>\n",
       "    </tr>\n",
       "    <tr>\n",
       "      <th>16342</th>\n",
       "      <td>2022-03-17</td>\n",
       "      <td>Невский</td>\n",
       "      <td>Мятновы</td>\n",
       "      <td>11</td>\n",
       "      <td>9</td>\n",
       "      <td>15.960117</td>\n",
       "      <td>733</td>\n",
       "      <td>Невский-Мятновы</td>\n",
       "    </tr>\n",
       "    <tr>\n",
       "      <th>16343</th>\n",
       "      <td>2022-03-17</td>\n",
       "      <td>Невский</td>\n",
       "      <td>Сметанинковы</td>\n",
       "      <td>8</td>\n",
       "      <td>8</td>\n",
       "      <td>15.960117</td>\n",
       "      <td>834</td>\n",
       "      <td>Невский-Сметанинковы</td>\n",
       "    </tr>\n",
       "  </tbody>\n",
       "</table>\n",
       "<p>216 rows × 8 columns</p>\n",
       "</div>"
      ],
      "text/plain": [
       "            date         district warehouse_name  number_of_guards  \\\n",
       "2784  2023-10-02   Мышеостровский      Колбасовы                 8   \n",
       "2785  2023-10-02   Мышеостровский      Молочковы                 8   \n",
       "2786  2023-10-02   Мышеостровский        Мятновы                 6   \n",
       "2787  2023-10-02   Мышеостровский   Сметанинковы                 7   \n",
       "2788  2023-10-02  Краснокотейский      Колбасовы                 7   \n",
       "...          ...              ...            ...               ...   \n",
       "16339 2022-03-17       Приморский   Сметанинковы                 1   \n",
       "16340 2022-03-17          Невский      Колбасовы                 1   \n",
       "16341 2022-03-17          Невский      Молочковы                11   \n",
       "16342 2022-03-17          Невский        Мятновы                11   \n",
       "16343 2022-03-17          Невский   Сметанинковы                 8   \n",
       "\n",
       "       police_units  percent_of_crime_solved  number_of_lights  \\\n",
       "2784              8                 3.722670               678   \n",
       "2785              6                 3.722670               663   \n",
       "2786              4                 3.722670               687   \n",
       "2787              7                 3.722670               678   \n",
       "2788              6                 3.722670               778   \n",
       "...             ...                      ...               ...   \n",
       "16339             1                15.960117               529   \n",
       "16340             1                15.960117               571   \n",
       "16341             9                15.960117               538   \n",
       "16342             9                15.960117               733   \n",
       "16343             8                15.960117               834   \n",
       "\n",
       "                            sector  \n",
       "2784      Мышеостровский-Колбасовы  \n",
       "2785      Мышеостровский-Молочковы  \n",
       "2786        Мышеостровский-Мятновы  \n",
       "2787   Мышеостровский-Сметанинковы  \n",
       "2788     Краснокотейский-Колбасовы  \n",
       "...                            ...  \n",
       "16339      Приморский-Сметанинковы  \n",
       "16340            Невский-Колбасовы  \n",
       "16341            Невский-Молочковы  \n",
       "16342              Невский-Мятновы  \n",
       "16343         Невский-Сметанинковы  \n",
       "\n",
       "[216 rows x 8 columns]"
      ]
     },
     "execution_count": 34,
     "metadata": {},
     "output_type": "execute_result"
    }
   ],
   "source": [
    "lower_outliers = data[data['percent_of_crime_solved'] < 30]\n",
    "lower_outliers"
   ]
  },
  {
   "cell_type": "code",
   "execution_count": 35,
   "id": "65827acc",
   "metadata": {},
   "outputs": [
    {
     "data": {
      "text/plain": [
       "9"
      ]
     },
     "execution_count": 35,
     "metadata": {},
     "output_type": "execute_result"
    }
   ],
   "source": [
    "lower_outliers['date'].nunique()"
   ]
  },
  {
   "cell_type": "code",
   "execution_count": 36,
   "id": "19b12119",
   "metadata": {},
   "outputs": [
    {
     "data": {
      "text/html": [
       "<div>\n",
       "<style scoped>\n",
       "    .dataframe tbody tr th:only-of-type {\n",
       "        vertical-align: middle;\n",
       "    }\n",
       "\n",
       "    .dataframe tbody tr th {\n",
       "        vertical-align: top;\n",
       "    }\n",
       "\n",
       "    .dataframe thead th {\n",
       "        text-align: right;\n",
       "    }\n",
       "</style>\n",
       "<table border=\"1\" class=\"dataframe\">\n",
       "  <thead>\n",
       "    <tr style=\"text-align: right;\">\n",
       "      <th></th>\n",
       "      <th>date</th>\n",
       "      <th>percent_of_crime_solved</th>\n",
       "    </tr>\n",
       "  </thead>\n",
       "  <tbody>\n",
       "    <tr>\n",
       "      <th>0</th>\n",
       "      <td>2022-03-17</td>\n",
       "      <td>1</td>\n",
       "    </tr>\n",
       "    <tr>\n",
       "      <th>1</th>\n",
       "      <td>2022-03-27</td>\n",
       "      <td>1</td>\n",
       "    </tr>\n",
       "    <tr>\n",
       "      <th>2</th>\n",
       "      <td>2022-05-05</td>\n",
       "      <td>1</td>\n",
       "    </tr>\n",
       "    <tr>\n",
       "      <th>3</th>\n",
       "      <td>2022-08-06</td>\n",
       "      <td>1</td>\n",
       "    </tr>\n",
       "    <tr>\n",
       "      <th>4</th>\n",
       "      <td>2022-12-13</td>\n",
       "      <td>1</td>\n",
       "    </tr>\n",
       "    <tr>\n",
       "      <th>5</th>\n",
       "      <td>2023-02-15</td>\n",
       "      <td>1</td>\n",
       "    </tr>\n",
       "    <tr>\n",
       "      <th>6</th>\n",
       "      <td>2023-07-24</td>\n",
       "      <td>1</td>\n",
       "    </tr>\n",
       "    <tr>\n",
       "      <th>7</th>\n",
       "      <td>2023-09-08</td>\n",
       "      <td>1</td>\n",
       "    </tr>\n",
       "    <tr>\n",
       "      <th>8</th>\n",
       "      <td>2023-10-02</td>\n",
       "      <td>1</td>\n",
       "    </tr>\n",
       "  </tbody>\n",
       "</table>\n",
       "</div>"
      ],
      "text/plain": [
       "        date  percent_of_crime_solved\n",
       "0 2022-03-17                        1\n",
       "1 2022-03-27                        1\n",
       "2 2022-05-05                        1\n",
       "3 2022-08-06                        1\n",
       "4 2022-12-13                        1\n",
       "5 2023-02-15                        1\n",
       "6 2023-07-24                        1\n",
       "7 2023-09-08                        1\n",
       "8 2023-10-02                        1"
      ]
     },
     "execution_count": 36,
     "metadata": {},
     "output_type": "execute_result"
    }
   ],
   "source": [
    "lower_outliers.groupby('date', as_index=False)['percent_of_crime_solved'].nunique()"
   ]
  },
  {
   "cell_type": "markdown",
   "id": "456c59a2",
   "metadata": {},
   "source": [
    "В датасете есть 9 дней, когда раскрываемость была значительно ниже средней и при этом одинаковой во всех районах города. С одной стороны одинаковый процент для всех районов в один день - это то, что мы изначально ожидали увидеть в датасетах. Но при этом количество полицейских и количество фонарей все так же изменяется от района к району. Следовательно, вероятнее всего наша теория о секторах верна, а данные выбросы вызваны какой-то ошибкой при вводе или обработке данных."
   ]
  },
  {
   "cell_type": "code",
   "execution_count": 37,
   "id": "cb6f6986",
   "metadata": {},
   "outputs": [
    {
     "data": {
      "text/html": [
       "<div>\n",
       "<style scoped>\n",
       "    .dataframe tbody tr th:only-of-type {\n",
       "        vertical-align: middle;\n",
       "    }\n",
       "\n",
       "    .dataframe tbody tr th {\n",
       "        vertical-align: top;\n",
       "    }\n",
       "\n",
       "    .dataframe thead th {\n",
       "        text-align: right;\n",
       "    }\n",
       "</style>\n",
       "<table border=\"1\" class=\"dataframe\">\n",
       "  <thead>\n",
       "    <tr style=\"text-align: right;\">\n",
       "      <th></th>\n",
       "      <th>date</th>\n",
       "      <th>district</th>\n",
       "      <th>warehouse_name</th>\n",
       "      <th>number_of_guards</th>\n",
       "      <th>police_units</th>\n",
       "      <th>percent_of_crime_solved</th>\n",
       "      <th>number_of_lights</th>\n",
       "      <th>sector</th>\n",
       "    </tr>\n",
       "  </thead>\n",
       "  <tbody>\n",
       "    <tr>\n",
       "      <th>6000</th>\n",
       "      <td>2023-05-21</td>\n",
       "      <td>Мышеостровский</td>\n",
       "      <td>Колбасовы</td>\n",
       "      <td>6</td>\n",
       "      <td>5</td>\n",
       "      <td>100.0</td>\n",
       "      <td>869</td>\n",
       "      <td>Мышеостровский-Колбасовы</td>\n",
       "    </tr>\n",
       "    <tr>\n",
       "      <th>6001</th>\n",
       "      <td>2023-05-21</td>\n",
       "      <td>Мышеостровский</td>\n",
       "      <td>Молочковы</td>\n",
       "      <td>3</td>\n",
       "      <td>2</td>\n",
       "      <td>100.0</td>\n",
       "      <td>1087</td>\n",
       "      <td>Мышеостровский-Молочковы</td>\n",
       "    </tr>\n",
       "    <tr>\n",
       "      <th>6002</th>\n",
       "      <td>2023-05-21</td>\n",
       "      <td>Мышеостровский</td>\n",
       "      <td>Мятновы</td>\n",
       "      <td>10</td>\n",
       "      <td>8</td>\n",
       "      <td>100.0</td>\n",
       "      <td>1112</td>\n",
       "      <td>Мышеостровский-Мятновы</td>\n",
       "    </tr>\n",
       "    <tr>\n",
       "      <th>6003</th>\n",
       "      <td>2023-05-21</td>\n",
       "      <td>Мышеостровский</td>\n",
       "      <td>Сметанинковы</td>\n",
       "      <td>9</td>\n",
       "      <td>8</td>\n",
       "      <td>100.0</td>\n",
       "      <td>1054</td>\n",
       "      <td>Мышеостровский-Сметанинковы</td>\n",
       "    </tr>\n",
       "    <tr>\n",
       "      <th>6004</th>\n",
       "      <td>2023-05-21</td>\n",
       "      <td>Краснокотейский</td>\n",
       "      <td>Колбасовы</td>\n",
       "      <td>11</td>\n",
       "      <td>9</td>\n",
       "      <td>100.0</td>\n",
       "      <td>714</td>\n",
       "      <td>Краснокотейский-Колбасовы</td>\n",
       "    </tr>\n",
       "    <tr>\n",
       "      <th>...</th>\n",
       "      <td>...</td>\n",
       "      <td>...</td>\n",
       "      <td>...</td>\n",
       "      <td>...</td>\n",
       "      <td>...</td>\n",
       "      <td>...</td>\n",
       "      <td>...</td>\n",
       "      <td>...</td>\n",
       "    </tr>\n",
       "    <tr>\n",
       "      <th>11276</th>\n",
       "      <td>2022-10-14</td>\n",
       "      <td>Невский</td>\n",
       "      <td>Колбасовы</td>\n",
       "      <td>5</td>\n",
       "      <td>3</td>\n",
       "      <td>100.0</td>\n",
       "      <td>565</td>\n",
       "      <td>Невский-Колбасовы</td>\n",
       "    </tr>\n",
       "    <tr>\n",
       "      <th>11277</th>\n",
       "      <td>2022-10-14</td>\n",
       "      <td>Невский</td>\n",
       "      <td>Молочковы</td>\n",
       "      <td>5</td>\n",
       "      <td>3</td>\n",
       "      <td>100.0</td>\n",
       "      <td>731</td>\n",
       "      <td>Невский-Молочковы</td>\n",
       "    </tr>\n",
       "    <tr>\n",
       "      <th>11278</th>\n",
       "      <td>2022-10-14</td>\n",
       "      <td>Невский</td>\n",
       "      <td>Мятновы</td>\n",
       "      <td>4</td>\n",
       "      <td>2</td>\n",
       "      <td>100.0</td>\n",
       "      <td>1092</td>\n",
       "      <td>Невский-Мятновы</td>\n",
       "    </tr>\n",
       "    <tr>\n",
       "      <th>11279</th>\n",
       "      <td>2022-10-14</td>\n",
       "      <td>Невский</td>\n",
       "      <td>Сметанинковы</td>\n",
       "      <td>7</td>\n",
       "      <td>6</td>\n",
       "      <td>100.0</td>\n",
       "      <td>765</td>\n",
       "      <td>Невский-Сметанинковы</td>\n",
       "    </tr>\n",
       "    <tr>\n",
       "      <th>16163</th>\n",
       "      <td>2022-03-24</td>\n",
       "      <td>Мышесельский</td>\n",
       "      <td>Сметанинковы</td>\n",
       "      <td>6</td>\n",
       "      <td>5</td>\n",
       "      <td>100.0</td>\n",
       "      <td>313</td>\n",
       "      <td>Мышесельский-Сметанинковы</td>\n",
       "    </tr>\n",
       "  </tbody>\n",
       "</table>\n",
       "<p>64 rows × 8 columns</p>\n",
       "</div>"
      ],
      "text/plain": [
       "            date         district warehouse_name  number_of_guards  \\\n",
       "6000  2023-05-21   Мышеостровский      Колбасовы                 6   \n",
       "6001  2023-05-21   Мышеостровский      Молочковы                 3   \n",
       "6002  2023-05-21   Мышеостровский        Мятновы                10   \n",
       "6003  2023-05-21   Мышеостровский   Сметанинковы                 9   \n",
       "6004  2023-05-21  Краснокотейский      Колбасовы                11   \n",
       "...          ...              ...            ...               ...   \n",
       "11276 2022-10-14          Невский      Колбасовы                 5   \n",
       "11277 2022-10-14          Невский      Молочковы                 5   \n",
       "11278 2022-10-14          Невский        Мятновы                 4   \n",
       "11279 2022-10-14          Невский   Сметанинковы                 7   \n",
       "16163 2022-03-24     Мышесельский   Сметанинковы                 6   \n",
       "\n",
       "       police_units  percent_of_crime_solved  number_of_lights  \\\n",
       "6000              5                    100.0               869   \n",
       "6001              2                    100.0              1087   \n",
       "6002              8                    100.0              1112   \n",
       "6003              8                    100.0              1054   \n",
       "6004              9                    100.0               714   \n",
       "...             ...                      ...               ...   \n",
       "11276             3                    100.0               565   \n",
       "11277             3                    100.0               731   \n",
       "11278             2                    100.0              1092   \n",
       "11279             6                    100.0               765   \n",
       "16163             5                    100.0               313   \n",
       "\n",
       "                            sector  \n",
       "6000      Мышеостровский-Колбасовы  \n",
       "6001      Мышеостровский-Молочковы  \n",
       "6002        Мышеостровский-Мятновы  \n",
       "6003   Мышеостровский-Сметанинковы  \n",
       "6004     Краснокотейский-Колбасовы  \n",
       "...                            ...  \n",
       "11276            Невский-Колбасовы  \n",
       "11277            Невский-Молочковы  \n",
       "11278              Невский-Мятновы  \n",
       "11279         Невский-Сметанинковы  \n",
       "16163    Мышесельский-Сметанинковы  \n",
       "\n",
       "[64 rows x 8 columns]"
      ]
     },
     "execution_count": 37,
     "metadata": {},
     "output_type": "execute_result"
    }
   ],
   "source": [
    "higher_outliers = data[data['percent_of_crime_solved'] == 100]\n",
    "higher_outliers"
   ]
  },
  {
   "cell_type": "code",
   "execution_count": 38,
   "id": "1f4cf06f",
   "metadata": {},
   "outputs": [
    {
     "data": {
      "text/plain": [
       "5"
      ]
     },
     "execution_count": 38,
     "metadata": {},
     "output_type": "execute_result"
    }
   ],
   "source": [
    "higher_outliers['date'].nunique()"
   ]
  },
  {
   "cell_type": "code",
   "execution_count": 39,
   "id": "50d11e91",
   "metadata": {},
   "outputs": [
    {
     "data": {
      "text/html": [
       "<div>\n",
       "<style scoped>\n",
       "    .dataframe tbody tr th:only-of-type {\n",
       "        vertical-align: middle;\n",
       "    }\n",
       "\n",
       "    .dataframe tbody tr th {\n",
       "        vertical-align: top;\n",
       "    }\n",
       "\n",
       "    .dataframe thead th {\n",
       "        text-align: right;\n",
       "    }\n",
       "</style>\n",
       "<table border=\"1\" class=\"dataframe\">\n",
       "  <thead>\n",
       "    <tr style=\"text-align: right;\">\n",
       "      <th></th>\n",
       "      <th>date</th>\n",
       "      <th>percent_of_crime_solved</th>\n",
       "    </tr>\n",
       "  </thead>\n",
       "  <tbody>\n",
       "    <tr>\n",
       "      <th>0</th>\n",
       "      <td>2022-03-24</td>\n",
       "      <td>1</td>\n",
       "    </tr>\n",
       "    <tr>\n",
       "      <th>1</th>\n",
       "      <td>2022-10-14</td>\n",
       "      <td>1</td>\n",
       "    </tr>\n",
       "    <tr>\n",
       "      <th>2</th>\n",
       "      <td>2022-11-16</td>\n",
       "      <td>1</td>\n",
       "    </tr>\n",
       "    <tr>\n",
       "      <th>3</th>\n",
       "      <td>2023-03-05</td>\n",
       "      <td>1</td>\n",
       "    </tr>\n",
       "    <tr>\n",
       "      <th>4</th>\n",
       "      <td>2023-05-21</td>\n",
       "      <td>1</td>\n",
       "    </tr>\n",
       "  </tbody>\n",
       "</table>\n",
       "</div>"
      ],
      "text/plain": [
       "        date  percent_of_crime_solved\n",
       "0 2022-03-24                        1\n",
       "1 2022-10-14                        1\n",
       "2 2022-11-16                        1\n",
       "3 2023-03-05                        1\n",
       "4 2023-05-21                        1"
      ]
     },
     "execution_count": 39,
     "metadata": {},
     "output_type": "execute_result"
    }
   ],
   "source": [
    "higher_outliers.groupby('date', as_index=False)['percent_of_crime_solved'].nunique()"
   ]
  },
  {
   "cell_type": "markdown",
   "id": "e3b50848",
   "metadata": {},
   "source": [
    "Ситуация аналогична с выбросами \"снизу\".\n",
    "\n",
    "Крайне маловероятно, что в какие-то дни во всех секторах одновременно была 100% раскрываемость. Скорее всего это ошибки, возникшие при вносе данных."
   ]
  },
  {
   "cell_type": "code",
   "execution_count": 40,
   "id": "62118ccf",
   "metadata": {},
   "outputs": [
    {
     "data": {
      "text/plain": [
       "0.016203703703703703"
      ]
     },
     "execution_count": 40,
     "metadata": {},
     "output_type": "execute_result"
    }
   ],
   "source": [
    "(lower_outliers['date'].count()+higher_outliers['date'].count())/data['date'].count()"
   ]
  },
  {
   "cell_type": "markdown",
   "id": "a7bdff27",
   "metadata": {},
   "source": [
    "При удалении выбросов потеря данных составит 1.6%, такой объем потерь допустим."
   ]
  },
  {
   "cell_type": "code",
   "execution_count": 41,
   "id": "bddf9bbe",
   "metadata": {},
   "outputs": [
    {
     "name": "stdout",
     "output_type": "stream",
     "text": [
      "<class 'pandas.core.frame.DataFrame'>\n",
      "Int64Index: 17000 entries, 0 to 17279\n",
      "Data columns (total 8 columns):\n",
      " #   Column                   Non-Null Count  Dtype         \n",
      "---  ------                   --------------  -----         \n",
      " 0   date                     17000 non-null  datetime64[ns]\n",
      " 1   district                 17000 non-null  object        \n",
      " 2   warehouse_name           17000 non-null  object        \n",
      " 3   number_of_guards         17000 non-null  int64         \n",
      " 4   police_units             17000 non-null  int64         \n",
      " 5   percent_of_crime_solved  17000 non-null  float64       \n",
      " 6   number_of_lights         17000 non-null  int64         \n",
      " 7   sector                   17000 non-null  object        \n",
      "dtypes: datetime64[ns](1), float64(1), int64(3), object(3)\n",
      "memory usage: 1.2+ MB\n"
     ]
    }
   ],
   "source": [
    "data = data[np.logical_and(data['percent_of_crime_solved'] >= 30,  data['percent_of_crime_solved'] < 100)]\n",
    "data.info()"
   ]
  },
  {
   "cell_type": "markdown",
   "id": "971702c9",
   "metadata": {},
   "source": [
    "<a id='ch7' ></a>\n",
    "## Корреляция значений"
   ]
  },
  {
   "cell_type": "code",
   "execution_count": 42,
   "id": "5de49882",
   "metadata": {},
   "outputs": [
    {
     "data": {
      "text/html": [
       "<div>\n",
       "<style scoped>\n",
       "    .dataframe tbody tr th:only-of-type {\n",
       "        vertical-align: middle;\n",
       "    }\n",
       "\n",
       "    .dataframe tbody tr th {\n",
       "        vertical-align: top;\n",
       "    }\n",
       "\n",
       "    .dataframe thead th {\n",
       "        text-align: right;\n",
       "    }\n",
       "</style>\n",
       "<table border=\"1\" class=\"dataframe\">\n",
       "  <thead>\n",
       "    <tr style=\"text-align: right;\">\n",
       "      <th></th>\n",
       "      <th>percent_of_crime_solved</th>\n",
       "      <th>number_of_lights</th>\n",
       "      <th>police_units</th>\n",
       "      <th>number_of_guards</th>\n",
       "    </tr>\n",
       "  </thead>\n",
       "  <tbody>\n",
       "    <tr>\n",
       "      <th>percent_of_crime_solved</th>\n",
       "      <td>1.000000</td>\n",
       "      <td>0.561495</td>\n",
       "      <td>-0.007633</td>\n",
       "      <td>-0.010773</td>\n",
       "    </tr>\n",
       "    <tr>\n",
       "      <th>number_of_lights</th>\n",
       "      <td>0.561495</td>\n",
       "      <td>1.000000</td>\n",
       "      <td>0.003517</td>\n",
       "      <td>0.000646</td>\n",
       "    </tr>\n",
       "    <tr>\n",
       "      <th>police_units</th>\n",
       "      <td>-0.007633</td>\n",
       "      <td>0.003517</td>\n",
       "      <td>1.000000</td>\n",
       "      <td>0.953020</td>\n",
       "    </tr>\n",
       "    <tr>\n",
       "      <th>number_of_guards</th>\n",
       "      <td>-0.010773</td>\n",
       "      <td>0.000646</td>\n",
       "      <td>0.953020</td>\n",
       "      <td>1.000000</td>\n",
       "    </tr>\n",
       "  </tbody>\n",
       "</table>\n",
       "</div>"
      ],
      "text/plain": [
       "                         percent_of_crime_solved  number_of_lights  \\\n",
       "percent_of_crime_solved                 1.000000          0.561495   \n",
       "number_of_lights                        0.561495          1.000000   \n",
       "police_units                           -0.007633          0.003517   \n",
       "number_of_guards                       -0.010773          0.000646   \n",
       "\n",
       "                         police_units  number_of_guards  \n",
       "percent_of_crime_solved     -0.007633         -0.010773  \n",
       "number_of_lights             0.003517          0.000646  \n",
       "police_units                 1.000000          0.953020  \n",
       "number_of_guards             0.953020          1.000000  "
      ]
     },
     "execution_count": 42,
     "metadata": {},
     "output_type": "execute_result"
    }
   ],
   "source": [
    "data[['percent_of_crime_solved', 'number_of_lights', 'police_units', 'number_of_guards']].corr()"
   ]
  },
  {
   "cell_type": "code",
   "execution_count": 43,
   "id": "545ac9a4",
   "metadata": {},
   "outputs": [
    {
     "data": {
      "image/png": "[encoded data removed]",
      "text/plain": [
       "<Figure size 720x720 with 20 Axes>"
      ]
     },
     "metadata": {
      "needs_background": "light"
     },
     "output_type": "display_data"
    }
   ],
   "source": [
    "sns.pairplot(data[['percent_of_crime_solved', 'number_of_lights', 'police_units', 'number_of_guards']]);"
   ]
  },
  {
   "cell_type": "markdown",
   "id": "7a176478",
   "metadata": {},
   "source": [
    "Мы видим достаточно сильную положительную корреляцию между количеством фонарей и процентом раскрытых преступлений. Однако важно не путать корреляцию и казуацию, поэтому мы не можем утверждать, что тут причина, а что следствие.\n",
    "\n",
    "Также благодаря графикам можно заметить, что распределение количества охранников похоже на нормальное, а распределение количества полицейских равномерное."
   ]
  },
  {
   "cell_type": "markdown",
   "id": "b34b41f3",
   "metadata": {},
   "source": [
    "<a id='ch8' ></a>\n",
    "## Неявные факторы"
   ]
  },
  {
   "cell_type": "markdown",
   "id": "e32378df",
   "metadata": {},
   "source": [
    "Мы проверили, как между собой коррелируют параметры, данные в датасете. И выяснили, что количество полицейских и количество охраны никак не связаны с процентом раскрытых преступлений. Однако на процент раскрытых преступлений могут влиять также более сложные факторы, являющиеся сочетанием имеющихся параметров. Например:\n",
    "- соотношение количества охраны и полиции.\n",
    "- количество фонарей на одного полицейского.\n",
    "\n",
    "В данном разделе мы постараемся проверить данные предположения."
   ]
  },
  {
   "cell_type": "code",
   "execution_count": 44,
   "id": "872a0da7",
   "metadata": {
    "scrolled": true
   },
   "outputs": [
    {
     "data": {
      "text/plain": [
       "date                       0\n",
       "district                   0\n",
       "warehouse_name             0\n",
       "number_of_guards           0\n",
       "police_units               0\n",
       "percent_of_crime_solved    0\n",
       "number_of_lights           0\n",
       "sector                     0\n",
       "dtype: int64"
      ]
     },
     "execution_count": 44,
     "metadata": {},
     "output_type": "execute_result"
    }
   ],
   "source": [
    "data[data['number_of_guards'] < data['police_units']].count()"
   ]
  },
  {
   "cell_type": "code",
   "execution_count": 45,
   "id": "4db9f283",
   "metadata": {},
   "outputs": [
    {
     "data": {
      "text/plain": [
       "date                       5675\n",
       "district                   5675\n",
       "warehouse_name             5675\n",
       "number_of_guards           5675\n",
       "police_units               5675\n",
       "percent_of_crime_solved    5675\n",
       "number_of_lights           5675\n",
       "sector                     5675\n",
       "dtype: int64"
      ]
     },
     "execution_count": 45,
     "metadata": {},
     "output_type": "execute_result"
    }
   ],
   "source": [
    "data[data['number_of_guards'] == data['police_units']].count()"
   ]
  },
  {
   "cell_type": "code",
   "execution_count": 46,
   "id": "cad59d95",
   "metadata": {},
   "outputs": [
    {
     "data": {
      "text/plain": [
       "date                       11325\n",
       "district                   11325\n",
       "warehouse_name             11325\n",
       "number_of_guards           11325\n",
       "police_units               11325\n",
       "percent_of_crime_solved    11325\n",
       "number_of_lights           11325\n",
       "sector                     11325\n",
       "dtype: int64"
      ]
     },
     "execution_count": 46,
     "metadata": {},
     "output_type": "execute_result"
    }
   ],
   "source": [
    "data[data['number_of_guards'] > data['police_units']].count()"
   ]
  },
  {
   "cell_type": "markdown",
   "id": "cc9b8f98",
   "metadata": {},
   "source": [
    "Мы видим, что охраны никогда не бывает меньше, чем полицейских, только больше или столько же."
   ]
  },
  {
   "cell_type": "code",
   "execution_count": 47,
   "id": "d1f714b8",
   "metadata": {},
   "outputs": [],
   "source": [
    "data['guard_police_ratio'] = data['number_of_guards']/data['police_units']"
   ]
  },
  {
   "cell_type": "code",
   "execution_count": 48,
   "id": "2d3d7a3e",
   "metadata": {},
   "outputs": [
    {
     "data": {
      "image/png": "[encoded data removed]",
      "text/plain": [
       "<Figure size 432x288 with 1 Axes>"
      ]
     },
     "metadata": {
      "needs_background": "light"
     },
     "output_type": "display_data"
    }
   ],
   "source": [
    "data['guard_police_ratio'].hist();"
   ]
  },
  {
   "cell_type": "markdown",
   "id": "46e08f93",
   "metadata": {},
   "source": [
    "В распределении видны явные выбросы, поэтому используем непараметрический метод расчета корреляции."
   ]
  },
  {
   "cell_type": "code",
   "execution_count": 49,
   "id": "9842ccc1",
   "metadata": {
    "scrolled": true
   },
   "outputs": [
    {
     "data": {
      "text/html": [
       "<div>\n",
       "<style scoped>\n",
       "    .dataframe tbody tr th:only-of-type {\n",
       "        vertical-align: middle;\n",
       "    }\n",
       "\n",
       "    .dataframe tbody tr th {\n",
       "        vertical-align: top;\n",
       "    }\n",
       "\n",
       "    .dataframe thead th {\n",
       "        text-align: right;\n",
       "    }\n",
       "</style>\n",
       "<table border=\"1\" class=\"dataframe\">\n",
       "  <thead>\n",
       "    <tr style=\"text-align: right;\">\n",
       "      <th></th>\n",
       "      <th>guard_police_ratio</th>\n",
       "      <th>percent_of_crime_solved</th>\n",
       "    </tr>\n",
       "  </thead>\n",
       "  <tbody>\n",
       "    <tr>\n",
       "      <th>guard_police_ratio</th>\n",
       "      <td>1.000000</td>\n",
       "      <td>-0.005047</td>\n",
       "    </tr>\n",
       "    <tr>\n",
       "      <th>percent_of_crime_solved</th>\n",
       "      <td>-0.005047</td>\n",
       "      <td>1.000000</td>\n",
       "    </tr>\n",
       "  </tbody>\n",
       "</table>\n",
       "</div>"
      ],
      "text/plain": [
       "                         guard_police_ratio  percent_of_crime_solved\n",
       "guard_police_ratio                 1.000000                -0.005047\n",
       "percent_of_crime_solved           -0.005047                 1.000000"
      ]
     },
     "execution_count": 49,
     "metadata": {},
     "output_type": "execute_result"
    }
   ],
   "source": [
    "data[['guard_police_ratio', 'percent_of_crime_solved']].corr(method='spearman')"
   ]
  },
  {
   "cell_type": "markdown",
   "id": "7db5f53b",
   "metadata": {},
   "source": [
    "**Корреляция не обнаружена.**"
   ]
  },
  {
   "cell_type": "code",
   "execution_count": 50,
   "id": "3ea8182d",
   "metadata": {},
   "outputs": [
    {
     "data": {
      "text/plain": [
       "0    120.833333\n",
       "1    109.333333\n",
       "2    128.750000\n",
       "3    116.285714\n",
       "4    172.500000\n",
       "Name: light_police_ratio, dtype: float64"
      ]
     },
     "execution_count": 50,
     "metadata": {},
     "output_type": "execute_result"
    }
   ],
   "source": [
    "data['light_police_ratio'] = data['number_of_lights']/data['police_units']\n",
    "data['light_police_ratio'].head()"
   ]
  },
  {
   "cell_type": "code",
   "execution_count": 51,
   "id": "be209fad",
   "metadata": {},
   "outputs": [
    {
     "data": {
      "image/png": "[encoded data removed]",
      "text/plain": [
       "<Figure size 432x288 with 1 Axes>"
      ]
     },
     "metadata": {
      "needs_background": "light"
     },
     "output_type": "display_data"
    }
   ],
   "source": [
    "data['light_police_ratio'].hist(bins=100);"
   ]
  },
  {
   "cell_type": "markdown",
   "id": "cfdb8247",
   "metadata": {},
   "source": [
    "Распределение ненормальное, поэтому используем корреляцию Спирмена."
   ]
  },
  {
   "cell_type": "code",
   "execution_count": 52,
   "id": "0b281715",
   "metadata": {},
   "outputs": [
    {
     "data": {
      "text/html": [
       "<div>\n",
       "<style scoped>\n",
       "    .dataframe tbody tr th:only-of-type {\n",
       "        vertical-align: middle;\n",
       "    }\n",
       "\n",
       "    .dataframe tbody tr th {\n",
       "        vertical-align: top;\n",
       "    }\n",
       "\n",
       "    .dataframe thead th {\n",
       "        text-align: right;\n",
       "    }\n",
       "</style>\n",
       "<table border=\"1\" class=\"dataframe\">\n",
       "  <thead>\n",
       "    <tr style=\"text-align: right;\">\n",
       "      <th></th>\n",
       "      <th>light_police_ratio</th>\n",
       "      <th>percent_of_crime_solved</th>\n",
       "    </tr>\n",
       "  </thead>\n",
       "  <tbody>\n",
       "    <tr>\n",
       "      <th>light_police_ratio</th>\n",
       "      <td>1.000000</td>\n",
       "      <td>0.222582</td>\n",
       "    </tr>\n",
       "    <tr>\n",
       "      <th>percent_of_crime_solved</th>\n",
       "      <td>0.222582</td>\n",
       "      <td>1.000000</td>\n",
       "    </tr>\n",
       "  </tbody>\n",
       "</table>\n",
       "</div>"
      ],
      "text/plain": [
       "                         light_police_ratio  percent_of_crime_solved\n",
       "light_police_ratio                 1.000000                 0.222582\n",
       "percent_of_crime_solved            0.222582                 1.000000"
      ]
     },
     "execution_count": 52,
     "metadata": {},
     "output_type": "execute_result"
    }
   ],
   "source": [
    "data[['light_police_ratio', 'percent_of_crime_solved']].corr(method='spearman')"
   ]
  },
  {
   "cell_type": "markdown",
   "id": "a469ee1e",
   "metadata": {},
   "source": [
    "Мы видим небольшую положительную корреляцию. Однако она слишком невелика, чтобы ее учитывать."
   ]
  },
  {
   "cell_type": "markdown",
   "id": "9c5ee863",
   "metadata": {},
   "source": [
    "<a id='ch9' ></a>\n",
    "## Ответ на вопрос о пользе увеличения количества полицейских."
   ]
  },
  {
   "cell_type": "markdown",
   "id": "e3a46ce2",
   "metadata": {},
   "source": [
    "Чтобы понять принесет ли увеличение количества полицейских результат в виде увеличения раскрываемости преступлений сравним данные с минимальным и максимальным количеством полицейских в секторе."
   ]
  },
  {
   "cell_type": "code",
   "execution_count": 53,
   "id": "d2396a24",
   "metadata": {
    "scrolled": true
   },
   "outputs": [
    {
     "data": {
      "text/plain": [
       "9"
      ]
     },
     "execution_count": 53,
     "metadata": {},
     "output_type": "execute_result"
    }
   ],
   "source": [
    "max(data['police_units'])"
   ]
  },
  {
   "cell_type": "code",
   "execution_count": 54,
   "id": "d876bf8a",
   "metadata": {
    "scrolled": true
   },
   "outputs": [
    {
     "data": {
      "text/plain": [
       "1"
      ]
     },
     "execution_count": 54,
     "metadata": {},
     "output_type": "execute_result"
    }
   ],
   "source": [
    "min(data['police_units'])"
   ]
  },
  {
   "cell_type": "code",
   "execution_count": 55,
   "id": "5f9b5ade",
   "metadata": {},
   "outputs": [],
   "source": [
    "min_police = data[data['police_units'] == 1]['percent_of_crime_solved']"
   ]
  },
  {
   "cell_type": "code",
   "execution_count": 56,
   "id": "66b37e38",
   "metadata": {
    "scrolled": false
   },
   "outputs": [
    {
     "data": {
      "image/png": "[encoded data removed]",
      "text/plain": [
       "<Figure size 432x288 with 1 Axes>"
      ]
     },
     "metadata": {
      "needs_background": "light"
     },
     "output_type": "display_data"
    }
   ],
   "source": [
    "min_police.hist(bins=100);"
   ]
  },
  {
   "cell_type": "code",
   "execution_count": 57,
   "id": "776d70c6",
   "metadata": {},
   "outputs": [],
   "source": [
    "max_police = data[data['police_units'] == 9]['percent_of_crime_solved']"
   ]
  },
  {
   "cell_type": "code",
   "execution_count": 58,
   "id": "5d3d2e63",
   "metadata": {
    "scrolled": false
   },
   "outputs": [
    {
     "data": {
      "image/png": "[encoded data removed]",
      "text/plain": [
       "<Figure size 432x288 with 1 Axes>"
      ]
     },
     "metadata": {
      "needs_background": "light"
     },
     "output_type": "display_data"
    }
   ],
   "source": [
    "max_police.hist(bins=100);"
   ]
  },
  {
   "cell_type": "code",
   "execution_count": 59,
   "id": "8f20a393",
   "metadata": {},
   "outputs": [
    {
     "data": {
      "text/plain": [
       "69.90272057620274"
      ]
     },
     "execution_count": 59,
     "metadata": {},
     "output_type": "execute_result"
    }
   ],
   "source": [
    "min_police.mean()"
   ]
  },
  {
   "cell_type": "code",
   "execution_count": 60,
   "id": "7b5e5d82",
   "metadata": {},
   "outputs": [
    {
     "data": {
      "text/plain": [
       "69.48294534978471"
      ]
     },
     "execution_count": 60,
     "metadata": {},
     "output_type": "execute_result"
    }
   ],
   "source": [
    "max_police.mean()"
   ]
  },
  {
   "cell_type": "code",
   "execution_count": 61,
   "id": "8aeb9ab6",
   "metadata": {
    "scrolled": true
   },
   "outputs": [
    {
     "data": {
      "text/plain": [
       "1904"
      ]
     },
     "execution_count": 61,
     "metadata": {},
     "output_type": "execute_result"
    }
   ],
   "source": [
    "min_police.count()"
   ]
  },
  {
   "cell_type": "code",
   "execution_count": 62,
   "id": "721aa5c2",
   "metadata": {},
   "outputs": [
    {
     "data": {
      "text/plain": [
       "1858"
      ]
     },
     "execution_count": 62,
     "metadata": {},
     "output_type": "execute_result"
    }
   ],
   "source": [
    "max_police.count()"
   ]
  },
  {
   "cell_type": "markdown",
   "id": "f4b2470d",
   "metadata": {},
   "source": [
    "Мы видим, что средний процент раскрываемости практически одинаковый для секторов с одним полицейским и с девятью. Выборки слишком малочислены, чтобы посчитать статистическую значимость изменения в 0.5%. **Однако и без этого очевидно, что если даже при девятикратном увеличении количества полицейских процент раскрываемых преступлений заметно не изменился, то последующее увеличение количества полиции на улицах не сможет улучшить ситуацию.**"
   ]
  },
  {
   "cell_type": "markdown",
   "id": "6ea61cbd",
   "metadata": {},
   "source": [
    "<a id='ch10' ></a>\n",
    "## Промежуточный итог"
   ]
  },
  {
   "cell_type": "markdown",
   "id": "a0ecc4e3",
   "metadata": {},
   "source": [
    "Мы попытались найти взаимосвязь между процентом раскрытых преступлений и различными факторами в том числе комплексными. В итоге значительная взаимосвязь установлена между количеством расркытых преступлений и количеством фонарей в секторе, уровень корреляции составил 0.55.\n",
    "***\n",
    "Также мы установили, что увеличение количество полиции на улицах вряд ли поможет снизить преступность."
   ]
  },
  {
   "cell_type": "markdown",
   "id": "f852753f",
   "metadata": {},
   "source": [
    "<a id='ch11' ></a>\n",
    "## Как снизить преступность"
   ]
  },
  {
   "cell_type": "markdown",
   "id": "d2d71da7",
   "metadata": {},
   "source": [
    "Мы поставили перед собой задачу снизить преступность. Но как нам этого добиться?\n",
    "Одним из вариантов будет рассмотреть наиболее успешные по проценту раскрытых преступлений кейсы и сравнить их с данными неудачных кейсов, чтобы определить, какие параметры позволяют успешным кейсам быть успешными.\n",
    "\n",
    "Ранее мы установили, что единственный параметр, коррелирующий с процентом раскрытых преступлений - это количество фонарей в секторе, поэтому будем сравнивать этот параметр.\n",
    "\n",
    "Мы разделим наш датафрейм на две части по медиане количества фонарей в секторе, найдем средний процент раскрытых преступлений для каждой группы и проверим наличие статистической значимости в их разнице. Если она есть, то это означает, что увеличение количества фонарей позволит статистически значимо снизить уровень преступности."
   ]
  },
  {
   "cell_type": "code",
   "execution_count": 63,
   "id": "923d3e35",
   "metadata": {},
   "outputs": [
    {
     "data": {
      "text/plain": [
       "687.0"
      ]
     },
     "execution_count": 63,
     "metadata": {},
     "output_type": "execute_result"
    }
   ],
   "source": [
    "data['number_of_lights'].median()"
   ]
  },
  {
   "cell_type": "code",
   "execution_count": 64,
   "id": "e27409a7",
   "metadata": {},
   "outputs": [],
   "source": [
    "many_lights = data[data['number_of_lights'] >= 687]"
   ]
  },
  {
   "cell_type": "code",
   "execution_count": 65,
   "id": "931b76e3",
   "metadata": {},
   "outputs": [],
   "source": [
    "few_lights = data[data['number_of_lights'] < 687]"
   ]
  },
  {
   "cell_type": "code",
   "execution_count": 66,
   "id": "45185ea4",
   "metadata": {},
   "outputs": [
    {
     "data": {
      "text/plain": [
       "64.81204141378458"
      ]
     },
     "execution_count": 66,
     "metadata": {},
     "output_type": "execute_result"
    }
   ],
   "source": [
    "few_lights['percent_of_crime_solved'].mean()"
   ]
  },
  {
   "cell_type": "code",
   "execution_count": 67,
   "id": "570744f1",
   "metadata": {},
   "outputs": [
    {
     "data": {
      "text/plain": [
       "74.63513722184852"
      ]
     },
     "execution_count": 67,
     "metadata": {},
     "output_type": "execute_result"
    }
   ],
   "source": [
    "many_lights['percent_of_crime_solved'].mean()"
   ]
  },
  {
   "cell_type": "markdown",
   "id": "ec4205b6",
   "metadata": {},
   "source": [
    "Мы видим, что разница в среднем проценте раскрытых преступлений составляет 10%, что очень много, но все равно проверим наличие статистической значимости с помощью t-test."
   ]
  },
  {
   "cell_type": "code",
   "execution_count": 68,
   "id": "72e6a61d",
   "metadata": {},
   "outputs": [
    {
     "data": {
      "text/plain": [
       "date                       8542\n",
       "district                   8542\n",
       "warehouse_name             8542\n",
       "number_of_guards           8542\n",
       "police_units               8542\n",
       "percent_of_crime_solved    8542\n",
       "number_of_lights           8542\n",
       "sector                     8542\n",
       "guard_police_ratio         8542\n",
       "light_police_ratio         8542\n",
       "dtype: int64"
      ]
     },
     "execution_count": 68,
     "metadata": {},
     "output_type": "execute_result"
    }
   ],
   "source": [
    "many_lights.count()"
   ]
  },
  {
   "cell_type": "code",
   "execution_count": 69,
   "id": "215ff560",
   "metadata": {
    "scrolled": true
   },
   "outputs": [
    {
     "data": {
      "text/plain": [
       "date                       8458\n",
       "district                   8458\n",
       "warehouse_name             8458\n",
       "number_of_guards           8458\n",
       "police_units               8458\n",
       "percent_of_crime_solved    8458\n",
       "number_of_lights           8458\n",
       "sector                     8458\n",
       "guard_police_ratio         8458\n",
       "light_police_ratio         8458\n",
       "dtype: int64"
      ]
     },
     "execution_count": 69,
     "metadata": {},
     "output_type": "execute_result"
    }
   ],
   "source": [
    "few_lights.count()"
   ]
  },
  {
   "cell_type": "markdown",
   "id": "ec1d77de",
   "metadata": {},
   "source": [
    "Выборки достаточно велики, а значит мы можем считать, что выборочные средние распределяются нормально (спасибо ЦПТ). Можно провести t-test.\n",
    "\n",
    "**Тест будет односторонний, так как по заданию нам нужно статистически значимо снизить количество краж, т.е. статистически значимо повысить раскрываемость преступлений, поэтому альтернативной гипотезой у нас будет утверждение, что средний процент раскрываемости группы many_lights выше чем у группы few_lights.**"
   ]
  },
  {
   "cell_type": "markdown",
   "id": "7147520f",
   "metadata": {},
   "source": [
    "В нашем случае нулевая гипотеза звучит следующим образом:\n",
    "\n",
    "***Средний процент раскрытых преступлений равен для групп many_lights и few_lights.***\n",
    "\n",
    "Альтернативная гипотеза будет звучать так:\n",
    "\n",
    "***Средний процент раскрытых преступлений для группы many_lights выше чем для группы few_lights.***\n",
    "\n",
    "p-value установим равным 0.05."
   ]
  },
  {
   "cell_type": "code",
   "execution_count": 70,
   "id": "5769c03e",
   "metadata": {},
   "outputs": [
    {
     "name": "stdout",
     "output_type": "stream",
     "text": [
      "p-value равно 0.0\n",
      "P-value меньше уровня значимости, отвергаем нулевую гипотезу в пользу альтернативной.\n"
     ]
    }
   ],
   "source": [
    "alpha = 0.05 \n",
    "\n",
    "results = st.ttest_ind(many_lights['percent_of_crime_solved'], few_lights['percent_of_crime_solved'], alternative='greater')\n",
    "\n",
    "print('p-value равно', results.pvalue)\n",
    "\n",
    "if results.pvalue > alpha:\n",
    "    print('P-value больше уровня значимости, нет оснований, чтобы отвергнуть нулевую гипотезу.')\n",
    "else:\n",
    "    print('P-value меньше уровня значимости, отвергаем нулевую гипотезу в пользу альтернативной.')"
   ]
  },
  {
   "cell_type": "markdown",
   "id": "8a88fffd",
   "metadata": {},
   "source": [
    "<a id='ch12' ></a>\n",
    "## Вывод"
   ]
  },
  {
   "cell_type": "markdown",
   "id": "2bd8fd9e",
   "metadata": {},
   "source": [
    "В рамках проекта мы рассматривали данные о криминальной обстановке в Сыроград. \n",
    "\n",
    "Перед нами стояла задача **статистически значимо снизить количество краж в районе**, а также ответить на вопрос о том, поможет ли увеличение количества полицейских снизить преступность в городе\n",
    "\n",
    "В нашем распоряжении были два датасета со следующими данными:\n",
    "\n",
    "В первом датасете:\n",
    "- дата\n",
    "- район города\n",
    "- название склада\n",
    "- количество охраны на складе\n",
    "- количество полицейских на район\n",
    "\n",
    "Во втором датасете:\n",
    "- дата\n",
    "- район города\n",
    "- название склада\n",
    "- процент раскрытых преступлений по уничтожению фонарей в городе\n",
    "- количество фонарей в районе\n",
    "\n",
    "Однако в ходе изучения данных мы предположили, что на самом деле информация дана не для больших районов, а для небольших секторов, определяемых по принципу район-название склада, так в один день в одном районе, но у разных складов было разное количество полицейских и фонарей, а также разный процент раскрытых преступлений. Поэтому мы добавили новый столбец `sector`.\n",
    "\n",
    "Также важно отметить, что перед нами стояла задача снизить количество краж, однако в датасетах никакой информации о кражах нет. Указано только, что между разбитыми фонарями и кражами есть взаимосвязь. Поэтому мы предположили, что связь между данными событиями прямая. В таком случае нашей задачей становится снижение количества уничтожения фонарей, а для этого в свою очередь необходимо увеличить раскрываемость этих преступлений, так как:\n",
    "***\n",
    "**\"Главным фактором, сдерживающим преступников, является неотвратимость их наказания\" (Конфуций, 450 г. до н.э.)**\n",
    "\n",
    "(на самом деле он такого не говорил)\n",
    "***\n",
    "\n",
    "Поэтому целью дальнейшего исследования было статистически значимо повысить раскрываемость преступлений.\n",
    "\n",
    "На этапе оценки и предобработки данных мы нашли выбросы в значениях процента раскрытых преступлений. Выбросы составили менее 2% от общего количества строк, поэтому мы их удалили.\n",
    "\n",
    "Затем мы посмотрели корреляцию имеющихся значений и установили, что более-менее сильная корреляция есть только между количеством фонарей в секторе и процентом раскрытых преступлений.\n",
    "\n",
    "Затем мы рассмотрели два невяных фактора, которые могли бы повлиять на процент раскрытых преступлений:\n",
    "- соотношение количества охраны и полиции.\n",
    "- количество фонарей на одного полицейского.\n",
    "Мы установили, что охраны всегда столько же или больше, чем полицейских.\n",
    "\n",
    "Последующий расчет для данных параметров не показал значительной корреляции с процентом раскрытых преступлений.\n",
    "\n",
    "На следующем этапе мы проверили, насколько сильно влияет увеличение количества полицейских в секторе на процент раскрытых преступлений. Для этого мы сравнили процент раскрытых преступлений в ситуациях, когда в секторе было минимальное количество полицейских (1) с процентом раскрытых преступлений, когда было максимум полицейских (9). Мы получили одинаковый средний процент раскрытых преступлений, поэтому **можно сделать вывод, что увеличение количества полицейских не поможет повысить раскрываемость преступлений.**\n",
    "\n",
    "На финальном этапе мы рассмотрели наиболее успешные по проценту раскрытых преступлений кейсы и сравнили их с данными неудачных кейсов, чтобы определить, какие параметры позволяют успешным кейсам быть успешными.\n",
    "\n",
    "Ранее мы установили, что единственный параметр, коррелирующий с процентом раскрытых преступлений - это количество фонарей в секторе, поэтому дальше мы сравнивали среднее значение данного параметра\n",
    "\n",
    "Мы разделили наш датафрейм на две части по медиане количества фонарей в секторе (687), нашли средний процент раскрытых преступлений для каждой группы:\n",
    "- 64.81% у кейсов, где фонарей мало;\n",
    "- 74.64% у кейсов, где фонарей много.\n",
    "\n",
    "Далее с помощью одностороннего t-test'а мы проверили наличие статистически значимой разницы.\n",
    "\n",
    "В нашем случае нулевая гипотеза звучала следующим образом:\n",
    "\n",
    "***Средний процент раскрытых преступлений равен для групп many_lights и few_lights.***\n",
    "\n",
    "А льтернативная:\n",
    "\n",
    "***Средний процент раскрытых преступлений для группы many_lights выше чем для группы few_lights.***\n",
    "\n",
    "p-value равен **0.05**.\n",
    "\n",
    "В итоге p-value получился равным нулю, т.е. у нас есть основания отвергнуть нулевую гипотезу.\n",
    "\n",
    "**Итоговая рекомендация заключается в том, что для того, чтобы снизить преступность нужно поставить больше фонарей.**\n",
    "\n",
    "(☞ ͡° ͜ʖ ͡°)☞"
   ]
  }
 ],
 "metadata": {
  "kernelspec": {
   "display_name": "Python 3 (ipykernel)",
   "language": "python",
   "name": "python3"
  },
  "language_info": {
   "codemirror_mode": {
    "name": "ipython",
    "version": 3
   },
   "file_extension": ".py",
   "mimetype": "text/x-python",
   "name": "python",
   "nbconvert_exporter": "python",
   "pygments_lexer": "ipython3",
   "version": "3.9.5"
  }
 },
 "nbformat": 4,
 "nbformat_minor": 5
}
