{
 "cells": [
  {
   "cell_type": "markdown",
   "metadata": {},
   "source": [
    "# Проект \"Банки - анализ оттока клиентов\""
   ]
  },
  {
   "cell_type": "markdown",
   "metadata": {},
   "source": [
    "<a id='start' ></a>\n",
    "# Оглавление\n",
    "***\n",
    "1. [Описание проекта и задачи.](#ch1)\n",
    "2. [Импорт библиотек.](#ch2)\n",
    "3. [Загрузка и предворительная оценка данных.](#ch3)\n",
    "   - [Результат предварительной оценки данных](#ch3.1)\n",
    "4. [Предобработка данных](#ch4)\n",
    "   - [Переименование столбцов](#ch4.1)\n",
    "   - [Поиск и обработка дубликатов](#ch4.2)\n",
    "   - [Обработка пропусков](#ch4.3)\n",
    "      - [Определение природы возникновения пропусков](#ch4.3.1)\n",
    "      - [Пропуски в столбце age](#ch4.3.2)\n",
    "      - [Пропуски в столбце balance](#ch4.3.3)\n",
    "   - [Изменение типов данных](#ch4.4)\n",
    "   - [Итоги предобработки](#ch4.5)\n",
    "5. [Исследовательский анализ данных](#ch5)\n",
    "   - [Сравнительный анализ распределений различных признаков в разрезе оттока клиентов](#ch5.1)\n",
    "      - [Возраст](#ch5.1.1)\n",
    "      - [Кредитный рейтинг](#ch5.1.2)\n",
    "      - [Баланс](#ch5.1.3)\n",
    "      - [Зарплата](#ch5.1.4)\n",
    "      - [Дискретные и категориальные данные](#ch5.1.5)\n",
    "   - [Корреляция признаков](#ch5.2)\n",
    "   - [Портреты типичных клиентов банка](#ch5.3)\n",
    "      - [Портрет лояльного клиента ](#ch5.3.1)\n",
    "      - [Портрет ушедшего клиента](#ch5.3.2)\n",
    "6. [Проверка статистических гипотез](#ch6)\n",
    "   - [Гипотеза № 1. Сравнение дохода клиентов, которые ушли, и клиентов, которые остались лояльны банку](#ch6.1)\n",
    "      - [Выбор статтеста](#ch6.1.1)\n",
    "      - [Определение гипотез и проведение статистического теста](#ch6.1.2)\n",
    "   - [Гипотеза № 2. Разница в доле оттока клиентов в Ярославле и Рыбинске](#ch6.2)\n",
    "      - [Выбор статтеста](#ch6.2.1)\n",
    "      - [Определение гипотез и проведение статистического теста](#ch6.2.2)\n",
    "7. [Промежуточные итоги](#ch7)\n",
    "8. [Сегментация клиентов](#ch8)\n",
    "   - [Сегмент 1](#ch8.1)\n",
    "   - [Сегмент 2](#ch8.2)\n",
    "   - [Сегмент 3](#ch8.3)\n",
    "   - [Сегмент 4](#ch8.4)\n",
    "   - [Приоритезация сегментов](#ch8.5)\n",
    "9. [Разработка рекомендаций по удержанию клиентов из различных сегментов](#ch9)\n",
    "   - [Сегмент 1](#ch9.1)\n",
    "   - [Сегмент 2](#ch9.2)\n",
    "   - [Сегмент 3](#ch9.3)\n",
    "   - [Сегмент 4](#ch9.4)\n",
    "10. [Презентация результатов](#ch10)"
   ]
  },
  {
   "cell_type": "markdown",
   "metadata": {},
   "source": [
    "<a id='ch1' ></a>\n",
    "# Описание проекта и задачи"
   ]
  },
  {
   "cell_type": "markdown",
   "metadata": {},
   "source": [
    "В региональном банке \"Метанпромбанк\" зафиксирован рост оттока клиентов. Необходимо проанализировать клиентов  и выделить сегменты, которые в наибольшей степени склонны уходить из банка. Письма для клиентов из рисковых сегментов будут готовиться вручную, поэтому сегменты должны быть компактными и одн/ородными. Также необходимо предложить варианты мероприятий, реализация которых позволит вернуть ушедших клиентов/удержать сомневающихся.\n",
    "\n",
    "Результат анализа должен быть представлен в формате презентации, содержащей понятные графики и только самую необходимую информацию, изложенную в максимально сжатой форме, однако это не должно негативно сказаться на информативности презентации.\n",
    "\n",
    "Для анализа в нашем распоряжении есть датасет, содержащий информацию о клиентах."
   ]
  },
  {
   "cell_type": "markdown",
   "metadata": {},
   "source": [
    "<a id='ch2' ></a>\n",
    "# Импорт библиотек"
   ]
  },
  {
   "cell_type": "code",
   "execution_count": 1,
   "metadata": {},
   "outputs": [
    {
     "name": "stdout",
     "output_type": "stream",
     "text": [
      "Collecting phik\n",
      "  Obtaining dependency information for phik from https://files.pythonhosted.org/packages/53/e2/d1f5e9ce10f2cb9a8b3866f17cf7b47db95f086987565ecda6df542fe30b/phik-0.12.4-cp39-cp39-win_amd64.whl.metadata\n",
      "  Downloading phik-0.12.4-cp39-cp39-win_amd64.whl.metadata (5.6 kB)\n",
      "Requirement already satisfied: numpy>=1.18.0 in c:\\users\\александр\\appdata\\local\\programs\\python\\python39\\lib\\site-packages (from phik) (1.21.1)\n",
      "Requirement already satisfied: scipy>=1.5.2 in c:\\users\\александр\\appdata\\local\\programs\\python\\python39\\lib\\site-packages (from phik) (1.9.1)\n",
      "Requirement already satisfied: pandas>=0.25.1 in c:\\users\\александр\\appdata\\local\\programs\\python\\python39\\lib\\site-packages (from phik) (1.2.4)\n",
      "Requirement already satisfied: matplotlib>=2.2.3 in c:\\users\\александр\\appdata\\local\\programs\\python\\python39\\lib\\site-packages (from phik) (3.3.4)\n",
      "Requirement already satisfied: joblib>=0.14.1 in c:\\users\\александр\\appdata\\local\\programs\\python\\python39\\lib\\site-packages (from phik) (1.1.0)\n",
      "Requirement already satisfied: cycler>=0.10 in c:\\users\\александр\\appdata\\local\\programs\\python\\python39\\lib\\site-packages (from matplotlib>=2.2.3->phik) (0.11.0)\n",
      "Requirement already satisfied: kiwisolver>=1.0.1 in c:\\users\\александр\\appdata\\local\\programs\\python\\python39\\lib\\site-packages (from matplotlib>=2.2.3->phik) (1.4.4)\n",
      "Requirement already satisfied: pillow>=6.2.0 in c:\\users\\александр\\appdata\\local\\programs\\python\\python39\\lib\\site-packages (from matplotlib>=2.2.3->phik) (8.4.0)\n",
      "Requirement already satisfied: pyparsing!=2.0.4,!=2.1.2,!=2.1.6,>=2.0.3 in c:\\users\\александр\\appdata\\local\\programs\\python\\python39\\lib\\site-packages (from matplotlib>=2.2.3->phik) (2.4.7)\n",
      "Requirement already satisfied: python-dateutil>=2.1 in c:\\users\\александр\\appdata\\local\\programs\\python\\python39\\lib\\site-packages (from matplotlib>=2.2.3->phik) (2.8.2)\n",
      "Requirement already satisfied: pytz>=2017.3 in c:\\users\\александр\\appdata\\local\\programs\\python\\python39\\lib\\site-packages (from pandas>=0.25.1->phik) (2021.1)\n",
      "Requirement already satisfied: six>=1.5 in c:\\users\\александр\\appdata\\local\\programs\\python\\python39\\lib\\site-packages (from python-dateutil>=2.1->matplotlib>=2.2.3->phik) (1.16.0)\n",
      "Downloading phik-0.12.4-cp39-cp39-win_amd64.whl (666 kB)\n",
      "   ---------------------------------------- 666.3/666.3 kB 2.1 MB/s eta 0:00:00\n",
      "Installing collected packages: phik\n",
      "Successfully installed phik-0.12.4\n",
      "Note: you may need to restart the kernel to use updated packages.\n"
     ]
    },
    {
     "name": "stderr",
     "output_type": "stream",
     "text": [
      "\n",
      "[notice] A new release of pip is available: 23.2.1 -> 24.0\n",
      "[notice] To update, run: python.exe -m pip install --upgrade pip\n"
     ]
    }
   ],
   "source": [
    "pip install phik"
   ]
  },
  {
   "cell_type": "code",
   "execution_count": 2,
   "metadata": {},
   "outputs": [],
   "source": [
    "import pandas as pd\n",
    "import seaborn as sns\n",
    "import matplotlib.pyplot as plt\n",
    "import warnings\n",
    "import numpy as np\n",
    "import phik\n",
    "from scipy import stats as st\n",
    "import statistics\n",
    "import math as mth"
   ]
  },
  {
   "cell_type": "code",
   "execution_count": 3,
   "metadata": {},
   "outputs": [],
   "source": [
    "warnings.filterwarnings('ignore')"
   ]
  },
  {
   "cell_type": "markdown",
   "metadata": {},
   "source": [
    "<a id='ch3' ></a>\n",
    "# Загрузка и предварительная оценка данных"
   ]
  },
  {
   "cell_type": "code",
   "execution_count": 4,
   "metadata": {},
   "outputs": [],
   "source": [
    "def reading(path_1, path_2):\n",
    "    try:\n",
    "        df = pd.read_csv(path_1)\n",
    "    except:\n",
    "        df = pd.read_csv(path_2)\n",
    "    df.info()\n",
    "    print('*' * 100)\n",
    "    display(df.head())\n",
    "    return df"
   ]
  },
  {
   "cell_type": "code",
   "execution_count": 5,
   "metadata": {},
   "outputs": [
    {
     "name": "stdout",
     "output_type": "stream",
     "text": [
      "<class 'pandas.core.frame.DataFrame'>\n",
      "RangeIndex: 10000 entries, 0 to 9999\n",
      "Data columns (total 12 columns):\n",
      " #   Column         Non-Null Count  Dtype  \n",
      "---  ------         --------------  -----  \n",
      " 0   USERID         10000 non-null  int64  \n",
      " 1   score          10000 non-null  float64\n",
      " 2   city           10000 non-null  object \n",
      " 3   gender         10000 non-null  object \n",
      " 4   age            9974 non-null   float64\n",
      " 5   equity         10000 non-null  int64  \n",
      " 6   balance        7705 non-null   float64\n",
      " 7   products       10000 non-null  int64  \n",
      " 8   credit_card    10000 non-null  int64  \n",
      " 9   last_activity  10000 non-null  int64  \n",
      " 10  EST_SALARY     10000 non-null  float64\n",
      " 11  churn          10000 non-null  int64  \n",
      "dtypes: float64(4), int64(6), object(2)\n",
      "memory usage: 937.6+ KB\n",
      "****************************************************************************************************\n"
     ]
    },
    {
     "data": {
      "text/html": [
       "<div>\n",
       "<style scoped>\n",
       "    .dataframe tbody tr th:only-of-type {\n",
       "        vertical-align: middle;\n",
       "    }\n",
       "\n",
       "    .dataframe tbody tr th {\n",
       "        vertical-align: top;\n",
       "    }\n",
       "\n",
       "    .dataframe thead th {\n",
       "        text-align: right;\n",
       "    }\n",
       "</style>\n",
       "<table border=\"1\" class=\"dataframe\">\n",
       "  <thead>\n",
       "    <tr style=\"text-align: right;\">\n",
       "      <th></th>\n",
       "      <th>USERID</th>\n",
       "      <th>score</th>\n",
       "      <th>city</th>\n",
       "      <th>gender</th>\n",
       "      <th>age</th>\n",
       "      <th>equity</th>\n",
       "      <th>balance</th>\n",
       "      <th>products</th>\n",
       "      <th>credit_card</th>\n",
       "      <th>last_activity</th>\n",
       "      <th>EST_SALARY</th>\n",
       "      <th>churn</th>\n",
       "    </tr>\n",
       "  </thead>\n",
       "  <tbody>\n",
       "    <tr>\n",
       "      <th>0</th>\n",
       "      <td>183012</td>\n",
       "      <td>850.0</td>\n",
       "      <td>Рыбинск</td>\n",
       "      <td>Ж</td>\n",
       "      <td>25.0</td>\n",
       "      <td>1</td>\n",
       "      <td>59214.82</td>\n",
       "      <td>2</td>\n",
       "      <td>0</td>\n",
       "      <td>1</td>\n",
       "      <td>75719.14</td>\n",
       "      <td>1</td>\n",
       "    </tr>\n",
       "    <tr>\n",
       "      <th>1</th>\n",
       "      <td>146556</td>\n",
       "      <td>861.0</td>\n",
       "      <td>Рыбинск</td>\n",
       "      <td>Ж</td>\n",
       "      <td>37.0</td>\n",
       "      <td>5</td>\n",
       "      <td>850594.33</td>\n",
       "      <td>3</td>\n",
       "      <td>1</td>\n",
       "      <td>0</td>\n",
       "      <td>86621.77</td>\n",
       "      <td>0</td>\n",
       "    </tr>\n",
       "    <tr>\n",
       "      <th>2</th>\n",
       "      <td>120722</td>\n",
       "      <td>892.0</td>\n",
       "      <td>Рыбинск</td>\n",
       "      <td>Ж</td>\n",
       "      <td>30.0</td>\n",
       "      <td>0</td>\n",
       "      <td>NaN</td>\n",
       "      <td>1</td>\n",
       "      <td>1</td>\n",
       "      <td>1</td>\n",
       "      <td>107683.34</td>\n",
       "      <td>0</td>\n",
       "    </tr>\n",
       "    <tr>\n",
       "      <th>3</th>\n",
       "      <td>225363</td>\n",
       "      <td>866.0</td>\n",
       "      <td>Ярославль</td>\n",
       "      <td>Ж</td>\n",
       "      <td>51.0</td>\n",
       "      <td>5</td>\n",
       "      <td>1524746.26</td>\n",
       "      <td>2</td>\n",
       "      <td>0</td>\n",
       "      <td>1</td>\n",
       "      <td>174423.53</td>\n",
       "      <td>1</td>\n",
       "    </tr>\n",
       "    <tr>\n",
       "      <th>4</th>\n",
       "      <td>157978</td>\n",
       "      <td>730.0</td>\n",
       "      <td>Ярославль</td>\n",
       "      <td>М</td>\n",
       "      <td>34.0</td>\n",
       "      <td>5</td>\n",
       "      <td>174.00</td>\n",
       "      <td>1</td>\n",
       "      <td>1</td>\n",
       "      <td>0</td>\n",
       "      <td>67353.16</td>\n",
       "      <td>1</td>\n",
       "    </tr>\n",
       "  </tbody>\n",
       "</table>\n",
       "</div>"
      ],
      "text/plain": [
       "   USERID  score       city gender   age  equity     balance  products  \\\n",
       "0  183012  850.0    Рыбинск      Ж  25.0       1    59214.82         2   \n",
       "1  146556  861.0    Рыбинск      Ж  37.0       5   850594.33         3   \n",
       "2  120722  892.0    Рыбинск      Ж  30.0       0         NaN         1   \n",
       "3  225363  866.0  Ярославль      Ж  51.0       5  1524746.26         2   \n",
       "4  157978  730.0  Ярославль      М  34.0       5      174.00         1   \n",
       "\n",
       "   credit_card  last_activity  EST_SALARY  churn  \n",
       "0            0              1    75719.14      1  \n",
       "1            1              0    86621.77      0  \n",
       "2            1              1   107683.34      0  \n",
       "3            0              1   174423.53      1  \n",
       "4            1              0    67353.16      1  "
      ]
     },
     "metadata": {},
     "output_type": "display_data"
    }
   ],
   "source": [
    "data = reading('', 'bank_scrooge.csv')"
   ]
  },
  {
   "cell_type": "markdown",
   "metadata": {},
   "source": [
    "<a id='ch3.1' ></a>\n",
    "## Результат предварительной оценки данных"
   ]
  },
  {
   "cell_type": "markdown",
   "metadata": {},
   "source": [
    "В датафрейме ***10000 строк*** и ***11 столбцов***:\n",
    "\n",
    "- **user_id** — уникальный идентификатор пользователя;\n",
    "- **score** — баллы кредитного скоринга;\n",
    "- **city** — город клиента;\n",
    "- **gender** — пол клиента;\n",
    "- **age** — возраст клиента;\n",
    "- **equity** — количество баллов собственности, соответствующее количеству объектов собственности, принадлежащих клиенту;\n",
    "- **balance** — баланс на счёте клиента;\n",
    "- **products** — количество продуктов, которыми пользуется клиент;\n",
    "- **credit_card** — есть ли кредитная карта у клиента *(1 - есть, 0 - нет)*;\n",
    "- **last_activity** — является ли клиент активным *(1 - да, 0 - нет)*;\n",
    "- **est_salary** — оценочный доход клиента;\n",
    "- **сhurn** — признак оттока *(1 - клиент ушел из банка, 0 - клиент продолжает пользоваться услугами банка)*.\n",
    "***\n",
    "**Пропуски:**\n",
    "- 26 пропусков в столбце **age**;\n",
    "- 2295 пропусков в столбце **balance**.\n",
    "\n",
    "**Типы данных:**\n",
    "- Для столбцов **score** и **age** тип данных нужно поменять с **float** на **int**."
   ]
  },
  {
   "cell_type": "markdown",
   "metadata": {},
   "source": [
    "<a id='ch4' ></a>\n",
    "# Предобработка данных"
   ]
  },
  {
   "cell_type": "markdown",
   "metadata": {},
   "source": [
    "<a id='ch4.1' ></a>\n",
    "## Переименование столбцов"
   ]
  },
  {
   "cell_type": "markdown",
   "metadata": {},
   "source": [
    "Переименуем столбцы в соответствии со snake case."
   ]
  },
  {
   "cell_type": "code",
   "execution_count": 6,
   "metadata": {
    "scrolled": true
   },
   "outputs": [],
   "source": [
    "data = data.rename(columns = {'USERID':'user_id', 'EST_SALARY':'est_salary'})"
   ]
  },
  {
   "cell_type": "code",
   "execution_count": 7,
   "metadata": {
    "scrolled": true
   },
   "outputs": [
    {
     "data": {
      "text/plain": [
       "Index(['user_id', 'score', 'city', 'gender', 'age', 'equity', 'balance',\n",
       "       'products', 'credit_card', 'last_activity', 'est_salary', 'churn'],\n",
       "      dtype='object')"
      ]
     },
     "execution_count": 7,
     "metadata": {},
     "output_type": "execute_result"
    }
   ],
   "source": [
    "data.columns"
   ]
  },
  {
   "cell_type": "markdown",
   "metadata": {},
   "source": [
    "Названия столбцов обработаны в соответствии со стандартами написания кода на python."
   ]
  },
  {
   "cell_type": "markdown",
   "metadata": {},
   "source": [
    "<a id='ch4.2' ></a>\n",
    "## Поиск и обработка дубликатов"
   ]
  },
  {
   "cell_type": "markdown",
   "metadata": {},
   "source": [
    "Проверим, есть ли в датафрейме дубликаты."
   ]
  },
  {
   "cell_type": "code",
   "execution_count": 8,
   "metadata": {},
   "outputs": [
    {
     "data": {
      "text/plain": [
       "0"
      ]
     },
     "execution_count": 8,
     "metadata": {},
     "output_type": "execute_result"
    }
   ],
   "source": [
    "data.duplicated().sum()"
   ]
  },
  {
   "cell_type": "markdown",
   "metadata": {},
   "source": [
    "Полных дубликатов нет, однако в датафрейме есть столбец user_id, предполагающий, что все значения в нем должны быть уникальными. Проверим наличие дубликатов только в данном столбце."
   ]
  },
  {
   "cell_type": "code",
   "execution_count": 9,
   "metadata": {},
   "outputs": [
    {
     "data": {
      "text/plain": [
       "73"
      ]
     },
     "execution_count": 9,
     "metadata": {},
     "output_type": "execute_result"
    }
   ],
   "source": [
    "data['user_id'].duplicated().sum()"
   ]
  },
  {
   "cell_type": "code",
   "execution_count": 10,
   "metadata": {},
   "outputs": [],
   "source": [
    "dup_data = data[data['user_id'].duplicated() == True]['user_id']"
   ]
  },
  {
   "cell_type": "code",
   "execution_count": 11,
   "metadata": {},
   "outputs": [
    {
     "data": {
      "text/html": [
       "<div>\n",
       "<style scoped>\n",
       "    .dataframe tbody tr th:only-of-type {\n",
       "        vertical-align: middle;\n",
       "    }\n",
       "\n",
       "    .dataframe tbody tr th {\n",
       "        vertical-align: top;\n",
       "    }\n",
       "\n",
       "    .dataframe thead th {\n",
       "        text-align: right;\n",
       "    }\n",
       "</style>\n",
       "<table border=\"1\" class=\"dataframe\">\n",
       "  <thead>\n",
       "    <tr style=\"text-align: right;\">\n",
       "      <th></th>\n",
       "      <th>user_id</th>\n",
       "      <th>score</th>\n",
       "      <th>city</th>\n",
       "      <th>gender</th>\n",
       "      <th>age</th>\n",
       "      <th>equity</th>\n",
       "      <th>balance</th>\n",
       "      <th>products</th>\n",
       "      <th>credit_card</th>\n",
       "      <th>last_activity</th>\n",
       "      <th>est_salary</th>\n",
       "      <th>churn</th>\n",
       "    </tr>\n",
       "  </thead>\n",
       "  <tbody>\n",
       "    <tr>\n",
       "      <th>1893</th>\n",
       "      <td>116540</td>\n",
       "      <td>883.0</td>\n",
       "      <td>Рыбинск</td>\n",
       "      <td>Ж</td>\n",
       "      <td>55.0</td>\n",
       "      <td>1</td>\n",
       "      <td>362756.49</td>\n",
       "      <td>3</td>\n",
       "      <td>0</td>\n",
       "      <td>1</td>\n",
       "      <td>175920.48</td>\n",
       "      <td>1</td>\n",
       "    </tr>\n",
       "    <tr>\n",
       "      <th>7694</th>\n",
       "      <td>116540</td>\n",
       "      <td>887.0</td>\n",
       "      <td>Ярославль</td>\n",
       "      <td>Ж</td>\n",
       "      <td>38.0</td>\n",
       "      <td>0</td>\n",
       "      <td>NaN</td>\n",
       "      <td>1</td>\n",
       "      <td>0</td>\n",
       "      <td>1</td>\n",
       "      <td>119247.61</td>\n",
       "      <td>0</td>\n",
       "    </tr>\n",
       "    <tr>\n",
       "      <th>7542</th>\n",
       "      <td>117943</td>\n",
       "      <td>880.0</td>\n",
       "      <td>Ярославль</td>\n",
       "      <td>Ж</td>\n",
       "      <td>40.0</td>\n",
       "      <td>0</td>\n",
       "      <td>NaN</td>\n",
       "      <td>1</td>\n",
       "      <td>1</td>\n",
       "      <td>0</td>\n",
       "      <td>137718.93</td>\n",
       "      <td>0</td>\n",
       "    </tr>\n",
       "    <tr>\n",
       "      <th>4866</th>\n",
       "      <td>117943</td>\n",
       "      <td>855.0</td>\n",
       "      <td>Рыбинск</td>\n",
       "      <td>Ж</td>\n",
       "      <td>32.0</td>\n",
       "      <td>6</td>\n",
       "      <td>1036832.93</td>\n",
       "      <td>4</td>\n",
       "      <td>1</td>\n",
       "      <td>1</td>\n",
       "      <td>107792.71</td>\n",
       "      <td>1</td>\n",
       "    </tr>\n",
       "    <tr>\n",
       "      <th>5896</th>\n",
       "      <td>120258</td>\n",
       "      <td>905.0</td>\n",
       "      <td>Ярославль</td>\n",
       "      <td>М</td>\n",
       "      <td>30.0</td>\n",
       "      <td>0</td>\n",
       "      <td>NaN</td>\n",
       "      <td>1</td>\n",
       "      <td>1</td>\n",
       "      <td>1</td>\n",
       "      <td>146427.96</td>\n",
       "      <td>0</td>\n",
       "    </tr>\n",
       "    <tr>\n",
       "      <th>5863</th>\n",
       "      <td>120258</td>\n",
       "      <td>908.0</td>\n",
       "      <td>Рыбинск</td>\n",
       "      <td>Ж</td>\n",
       "      <td>38.0</td>\n",
       "      <td>4</td>\n",
       "      <td>2213581.63</td>\n",
       "      <td>2</td>\n",
       "      <td>0</td>\n",
       "      <td>1</td>\n",
       "      <td>160327.77</td>\n",
       "      <td>1</td>\n",
       "    </tr>\n",
       "    <tr>\n",
       "      <th>1411</th>\n",
       "      <td>123461</td>\n",
       "      <td>829.0</td>\n",
       "      <td>Ярославль</td>\n",
       "      <td>Ж</td>\n",
       "      <td>59.0</td>\n",
       "      <td>0</td>\n",
       "      <td>96222.44</td>\n",
       "      <td>2</td>\n",
       "      <td>0</td>\n",
       "      <td>1</td>\n",
       "      <td>102771.55</td>\n",
       "      <td>1</td>\n",
       "    </tr>\n",
       "    <tr>\n",
       "      <th>8638</th>\n",
       "      <td>123461</td>\n",
       "      <td>934.0</td>\n",
       "      <td>Рыбинск</td>\n",
       "      <td>М</td>\n",
       "      <td>34.0</td>\n",
       "      <td>0</td>\n",
       "      <td>NaN</td>\n",
       "      <td>2</td>\n",
       "      <td>1</td>\n",
       "      <td>0</td>\n",
       "      <td>291619.27</td>\n",
       "      <td>0</td>\n",
       "    </tr>\n",
       "    <tr>\n",
       "      <th>8164</th>\n",
       "      <td>124450</td>\n",
       "      <td>859.0</td>\n",
       "      <td>Ярославль</td>\n",
       "      <td>Ж</td>\n",
       "      <td>38.0</td>\n",
       "      <td>6</td>\n",
       "      <td>516811.20</td>\n",
       "      <td>1</td>\n",
       "      <td>1</td>\n",
       "      <td>1</td>\n",
       "      <td>95144.63</td>\n",
       "      <td>1</td>\n",
       "    </tr>\n",
       "    <tr>\n",
       "      <th>9775</th>\n",
       "      <td>124450</td>\n",
       "      <td>758.0</td>\n",
       "      <td>Рыбинск</td>\n",
       "      <td>Ж</td>\n",
       "      <td>36.0</td>\n",
       "      <td>0</td>\n",
       "      <td>73574.07</td>\n",
       "      <td>2</td>\n",
       "      <td>0</td>\n",
       "      <td>1</td>\n",
       "      <td>79963.59</td>\n",
       "      <td>0</td>\n",
       "    </tr>\n",
       "  </tbody>\n",
       "</table>\n",
       "</div>"
      ],
      "text/plain": [
       "      user_id  score       city gender   age  equity     balance  products  \\\n",
       "1893   116540  883.0    Рыбинск      Ж  55.0       1   362756.49         3   \n",
       "7694   116540  887.0  Ярославль      Ж  38.0       0         NaN         1   \n",
       "7542   117943  880.0  Ярославль      Ж  40.0       0         NaN         1   \n",
       "4866   117943  855.0    Рыбинск      Ж  32.0       6  1036832.93         4   \n",
       "5896   120258  905.0  Ярославль      М  30.0       0         NaN         1   \n",
       "5863   120258  908.0    Рыбинск      Ж  38.0       4  2213581.63         2   \n",
       "1411   123461  829.0  Ярославль      Ж  59.0       0    96222.44         2   \n",
       "8638   123461  934.0    Рыбинск      М  34.0       0         NaN         2   \n",
       "8164   124450  859.0  Ярославль      Ж  38.0       6   516811.20         1   \n",
       "9775   124450  758.0    Рыбинск      Ж  36.0       0    73574.07         2   \n",
       "\n",
       "      credit_card  last_activity  est_salary  churn  \n",
       "1893            0              1   175920.48      1  \n",
       "7694            0              1   119247.61      0  \n",
       "7542            1              0   137718.93      0  \n",
       "4866            1              1   107792.71      1  \n",
       "5896            1              1   146427.96      0  \n",
       "5863            0              1   160327.77      1  \n",
       "1411            0              1   102771.55      1  \n",
       "8638            1              0   291619.27      0  \n",
       "8164            1              1    95144.63      1  \n",
       "9775            0              1    79963.59      0  "
      ]
     },
     "execution_count": 11,
     "metadata": {},
     "output_type": "execute_result"
    }
   ],
   "source": [
    "data[data['user_id'].isin(dup_data) == True].sort_values(by='user_id').head(10)"
   ]
  },
  {
   "cell_type": "markdown",
   "metadata": {},
   "source": [
    "Посмотрев на первых пятерых пар дублей, можно заметить, что у них всегда разные города. При этом есть случаи, что пол клиента с одинаковым user id невсегда совпадает.\n",
    "Вероятно, это может быть связано с каким-то временным сбоем в системе, когда user id клиентов из разных городов дублировались.\n",
    "\n",
    "Мы можем заменить user_id дубликатов на свободные значения."
   ]
  },
  {
   "cell_type": "code",
   "execution_count": 12,
   "metadata": {},
   "outputs": [
    {
     "data": {
      "text/html": [
       "<div>\n",
       "<style scoped>\n",
       "    .dataframe tbody tr th:only-of-type {\n",
       "        vertical-align: middle;\n",
       "    }\n",
       "\n",
       "    .dataframe tbody tr th {\n",
       "        vertical-align: top;\n",
       "    }\n",
       "\n",
       "    .dataframe thead th {\n",
       "        text-align: right;\n",
       "    }\n",
       "</style>\n",
       "<table border=\"1\" class=\"dataframe\">\n",
       "  <thead>\n",
       "    <tr style=\"text-align: right;\">\n",
       "      <th></th>\n",
       "      <th>user_id</th>\n",
       "      <th>score</th>\n",
       "      <th>city</th>\n",
       "      <th>gender</th>\n",
       "      <th>age</th>\n",
       "      <th>equity</th>\n",
       "      <th>balance</th>\n",
       "      <th>products</th>\n",
       "      <th>credit_card</th>\n",
       "      <th>last_activity</th>\n",
       "      <th>est_salary</th>\n",
       "      <th>churn</th>\n",
       "    </tr>\n",
       "  </thead>\n",
       "  <tbody>\n",
       "  </tbody>\n",
       "</table>\n",
       "</div>"
      ],
      "text/plain": [
       "Empty DataFrame\n",
       "Columns: [user_id, score, city, gender, age, equity, balance, products, credit_card, last_activity, est_salary, churn]\n",
       "Index: []"
      ]
     },
     "execution_count": 12,
     "metadata": {},
     "output_type": "execute_result"
    }
   ],
   "source": [
    "data[data['user_id'] <= 73]"
   ]
  },
  {
   "cell_type": "markdown",
   "metadata": {},
   "source": [
    "Нет user_id от 1 до 73. Заменим user_id дубликатов."
   ]
  },
  {
   "cell_type": "code",
   "execution_count": 13,
   "metadata": {
    "scrolled": true
   },
   "outputs": [],
   "source": [
    "sample_data = data[data['user_id'].duplicated() == True]"
   ]
  },
  {
   "cell_type": "code",
   "execution_count": 14,
   "metadata": {},
   "outputs": [],
   "source": [
    "sample_data['user_id'] = list(range(1, 74))"
   ]
  },
  {
   "cell_type": "code",
   "execution_count": 15,
   "metadata": {},
   "outputs": [
    {
     "data": {
      "text/html": [
       "<div>\n",
       "<style scoped>\n",
       "    .dataframe tbody tr th:only-of-type {\n",
       "        vertical-align: middle;\n",
       "    }\n",
       "\n",
       "    .dataframe tbody tr th {\n",
       "        vertical-align: top;\n",
       "    }\n",
       "\n",
       "    .dataframe thead th {\n",
       "        text-align: right;\n",
       "    }\n",
       "</style>\n",
       "<table border=\"1\" class=\"dataframe\">\n",
       "  <thead>\n",
       "    <tr style=\"text-align: right;\">\n",
       "      <th></th>\n",
       "      <th>user_id</th>\n",
       "      <th>score</th>\n",
       "      <th>city</th>\n",
       "      <th>gender</th>\n",
       "      <th>age</th>\n",
       "      <th>equity</th>\n",
       "      <th>balance</th>\n",
       "      <th>products</th>\n",
       "      <th>credit_card</th>\n",
       "      <th>last_activity</th>\n",
       "      <th>est_salary</th>\n",
       "      <th>churn</th>\n",
       "    </tr>\n",
       "  </thead>\n",
       "  <tbody>\n",
       "    <tr>\n",
       "      <th>1583</th>\n",
       "      <td>1</td>\n",
       "      <td>726.0</td>\n",
       "      <td>Ярославль</td>\n",
       "      <td>М</td>\n",
       "      <td>49.0</td>\n",
       "      <td>0</td>\n",
       "      <td>NaN</td>\n",
       "      <td>1</td>\n",
       "      <td>1</td>\n",
       "      <td>1</td>\n",
       "      <td>177700.78</td>\n",
       "      <td>0</td>\n",
       "    </tr>\n",
       "    <tr>\n",
       "      <th>1837</th>\n",
       "      <td>2</td>\n",
       "      <td>896.0</td>\n",
       "      <td>Рыбинск</td>\n",
       "      <td>Ж</td>\n",
       "      <td>37.0</td>\n",
       "      <td>0</td>\n",
       "      <td>NaN</td>\n",
       "      <td>2</td>\n",
       "      <td>0</td>\n",
       "      <td>0</td>\n",
       "      <td>90916.04</td>\n",
       "      <td>0</td>\n",
       "    </tr>\n",
       "    <tr>\n",
       "      <th>2138</th>\n",
       "      <td>3</td>\n",
       "      <td>739.0</td>\n",
       "      <td>Рыбинск</td>\n",
       "      <td>Ж</td>\n",
       "      <td>37.0</td>\n",
       "      <td>3</td>\n",
       "      <td>1307941.65</td>\n",
       "      <td>3</td>\n",
       "      <td>0</td>\n",
       "      <td>0</td>\n",
       "      <td>103867.47</td>\n",
       "      <td>0</td>\n",
       "    </tr>\n",
       "    <tr>\n",
       "      <th>2165</th>\n",
       "      <td>4</td>\n",
       "      <td>692.0</td>\n",
       "      <td>Рыбинск</td>\n",
       "      <td>Ж</td>\n",
       "      <td>NaN</td>\n",
       "      <td>0</td>\n",
       "      <td>NaN</td>\n",
       "      <td>1</td>\n",
       "      <td>1</td>\n",
       "      <td>1</td>\n",
       "      <td>160368.82</td>\n",
       "      <td>0</td>\n",
       "    </tr>\n",
       "    <tr>\n",
       "      <th>2302</th>\n",
       "      <td>5</td>\n",
       "      <td>934.0</td>\n",
       "      <td>Рыбинск</td>\n",
       "      <td>Ж</td>\n",
       "      <td>74.0</td>\n",
       "      <td>5</td>\n",
       "      <td>1294285.39</td>\n",
       "      <td>3</td>\n",
       "      <td>1</td>\n",
       "      <td>0</td>\n",
       "      <td>95606.80</td>\n",
       "      <td>0</td>\n",
       "    </tr>\n",
       "    <tr>\n",
       "      <th>...</th>\n",
       "      <td>...</td>\n",
       "      <td>...</td>\n",
       "      <td>...</td>\n",
       "      <td>...</td>\n",
       "      <td>...</td>\n",
       "      <td>...</td>\n",
       "      <td>...</td>\n",
       "      <td>...</td>\n",
       "      <td>...</td>\n",
       "      <td>...</td>\n",
       "      <td>...</td>\n",
       "      <td>...</td>\n",
       "    </tr>\n",
       "    <tr>\n",
       "      <th>9775</th>\n",
       "      <td>69</td>\n",
       "      <td>758.0</td>\n",
       "      <td>Рыбинск</td>\n",
       "      <td>Ж</td>\n",
       "      <td>36.0</td>\n",
       "      <td>0</td>\n",
       "      <td>73574.07</td>\n",
       "      <td>2</td>\n",
       "      <td>0</td>\n",
       "      <td>1</td>\n",
       "      <td>79963.59</td>\n",
       "      <td>0</td>\n",
       "    </tr>\n",
       "    <tr>\n",
       "      <th>9785</th>\n",
       "      <td>70</td>\n",
       "      <td>895.0</td>\n",
       "      <td>Рыбинск</td>\n",
       "      <td>М</td>\n",
       "      <td>44.0</td>\n",
       "      <td>0</td>\n",
       "      <td>282653.53</td>\n",
       "      <td>3</td>\n",
       "      <td>0</td>\n",
       "      <td>0</td>\n",
       "      <td>255296.47</td>\n",
       "      <td>0</td>\n",
       "    </tr>\n",
       "    <tr>\n",
       "      <th>9819</th>\n",
       "      <td>71</td>\n",
       "      <td>832.0</td>\n",
       "      <td>Рыбинск</td>\n",
       "      <td>Ж</td>\n",
       "      <td>NaN</td>\n",
       "      <td>3</td>\n",
       "      <td>385763.16</td>\n",
       "      <td>2</td>\n",
       "      <td>0</td>\n",
       "      <td>1</td>\n",
       "      <td>59651.35</td>\n",
       "      <td>0</td>\n",
       "    </tr>\n",
       "    <tr>\n",
       "      <th>9880</th>\n",
       "      <td>72</td>\n",
       "      <td>886.0</td>\n",
       "      <td>Ярославль</td>\n",
       "      <td>Ж</td>\n",
       "      <td>35.0</td>\n",
       "      <td>3</td>\n",
       "      <td>1026172.14</td>\n",
       "      <td>2</td>\n",
       "      <td>1</td>\n",
       "      <td>0</td>\n",
       "      <td>53099.16</td>\n",
       "      <td>0</td>\n",
       "    </tr>\n",
       "    <tr>\n",
       "      <th>9970</th>\n",
       "      <td>73</td>\n",
       "      <td>816.0</td>\n",
       "      <td>Рыбинск</td>\n",
       "      <td>М</td>\n",
       "      <td>36.0</td>\n",
       "      <td>4</td>\n",
       "      <td>477892.07</td>\n",
       "      <td>3</td>\n",
       "      <td>1</td>\n",
       "      <td>0</td>\n",
       "      <td>81100.60</td>\n",
       "      <td>0</td>\n",
       "    </tr>\n",
       "  </tbody>\n",
       "</table>\n",
       "<p>73 rows × 12 columns</p>\n",
       "</div>"
      ],
      "text/plain": [
       "      user_id  score       city gender   age  equity     balance  products  \\\n",
       "1583        1  726.0  Ярославль      М  49.0       0         NaN         1   \n",
       "1837        2  896.0    Рыбинск      Ж  37.0       0         NaN         2   \n",
       "2138        3  739.0    Рыбинск      Ж  37.0       3  1307941.65         3   \n",
       "2165        4  692.0    Рыбинск      Ж   NaN       0         NaN         1   \n",
       "2302        5  934.0    Рыбинск      Ж  74.0       5  1294285.39         3   \n",
       "...       ...    ...        ...    ...   ...     ...         ...       ...   \n",
       "9775       69  758.0    Рыбинск      Ж  36.0       0    73574.07         2   \n",
       "9785       70  895.0    Рыбинск      М  44.0       0   282653.53         3   \n",
       "9819       71  832.0    Рыбинск      Ж   NaN       3   385763.16         2   \n",
       "9880       72  886.0  Ярославль      Ж  35.0       3  1026172.14         2   \n",
       "9970       73  816.0    Рыбинск      М  36.0       4   477892.07         3   \n",
       "\n",
       "      credit_card  last_activity  est_salary  churn  \n",
       "1583            1              1   177700.78      0  \n",
       "1837            0              0    90916.04      0  \n",
       "2138            0              0   103867.47      0  \n",
       "2165            1              1   160368.82      0  \n",
       "2302            1              0    95606.80      0  \n",
       "...           ...            ...         ...    ...  \n",
       "9775            0              1    79963.59      0  \n",
       "9785            0              0   255296.47      0  \n",
       "9819            0              1    59651.35      0  \n",
       "9880            1              0    53099.16      0  \n",
       "9970            1              0    81100.60      0  \n",
       "\n",
       "[73 rows x 12 columns]"
      ]
     },
     "execution_count": 15,
     "metadata": {},
     "output_type": "execute_result"
    }
   ],
   "source": [
    "sample_data"
   ]
  },
  {
   "cell_type": "code",
   "execution_count": 16,
   "metadata": {},
   "outputs": [],
   "source": [
    "data[data['user_id'].duplicated() == True] = sample_data"
   ]
  },
  {
   "cell_type": "code",
   "execution_count": 17,
   "metadata": {},
   "outputs": [
    {
     "data": {
      "text/html": [
       "<div>\n",
       "<style scoped>\n",
       "    .dataframe tbody tr th:only-of-type {\n",
       "        vertical-align: middle;\n",
       "    }\n",
       "\n",
       "    .dataframe tbody tr th {\n",
       "        vertical-align: top;\n",
       "    }\n",
       "\n",
       "    .dataframe thead th {\n",
       "        text-align: right;\n",
       "    }\n",
       "</style>\n",
       "<table border=\"1\" class=\"dataframe\">\n",
       "  <thead>\n",
       "    <tr style=\"text-align: right;\">\n",
       "      <th></th>\n",
       "      <th>user_id</th>\n",
       "      <th>score</th>\n",
       "      <th>city</th>\n",
       "      <th>gender</th>\n",
       "      <th>age</th>\n",
       "      <th>equity</th>\n",
       "      <th>balance</th>\n",
       "      <th>products</th>\n",
       "      <th>credit_card</th>\n",
       "      <th>last_activity</th>\n",
       "      <th>est_salary</th>\n",
       "      <th>churn</th>\n",
       "    </tr>\n",
       "  </thead>\n",
       "  <tbody>\n",
       "    <tr>\n",
       "      <th>1583</th>\n",
       "      <td>1</td>\n",
       "      <td>726.0</td>\n",
       "      <td>Ярославль</td>\n",
       "      <td>М</td>\n",
       "      <td>49.0</td>\n",
       "      <td>0</td>\n",
       "      <td>NaN</td>\n",
       "      <td>1</td>\n",
       "      <td>1</td>\n",
       "      <td>1</td>\n",
       "      <td>177700.78</td>\n",
       "      <td>0</td>\n",
       "    </tr>\n",
       "    <tr>\n",
       "      <th>1837</th>\n",
       "      <td>2</td>\n",
       "      <td>896.0</td>\n",
       "      <td>Рыбинск</td>\n",
       "      <td>Ж</td>\n",
       "      <td>37.0</td>\n",
       "      <td>0</td>\n",
       "      <td>NaN</td>\n",
       "      <td>2</td>\n",
       "      <td>0</td>\n",
       "      <td>0</td>\n",
       "      <td>90916.04</td>\n",
       "      <td>0</td>\n",
       "    </tr>\n",
       "    <tr>\n",
       "      <th>2138</th>\n",
       "      <td>3</td>\n",
       "      <td>739.0</td>\n",
       "      <td>Рыбинск</td>\n",
       "      <td>Ж</td>\n",
       "      <td>37.0</td>\n",
       "      <td>3</td>\n",
       "      <td>1307941.65</td>\n",
       "      <td>3</td>\n",
       "      <td>0</td>\n",
       "      <td>0</td>\n",
       "      <td>103867.47</td>\n",
       "      <td>0</td>\n",
       "    </tr>\n",
       "    <tr>\n",
       "      <th>2165</th>\n",
       "      <td>4</td>\n",
       "      <td>692.0</td>\n",
       "      <td>Рыбинск</td>\n",
       "      <td>Ж</td>\n",
       "      <td>NaN</td>\n",
       "      <td>0</td>\n",
       "      <td>NaN</td>\n",
       "      <td>1</td>\n",
       "      <td>1</td>\n",
       "      <td>1</td>\n",
       "      <td>160368.82</td>\n",
       "      <td>0</td>\n",
       "    </tr>\n",
       "    <tr>\n",
       "      <th>2302</th>\n",
       "      <td>5</td>\n",
       "      <td>934.0</td>\n",
       "      <td>Рыбинск</td>\n",
       "      <td>Ж</td>\n",
       "      <td>74.0</td>\n",
       "      <td>5</td>\n",
       "      <td>1294285.39</td>\n",
       "      <td>3</td>\n",
       "      <td>1</td>\n",
       "      <td>0</td>\n",
       "      <td>95606.80</td>\n",
       "      <td>0</td>\n",
       "    </tr>\n",
       "    <tr>\n",
       "      <th>...</th>\n",
       "      <td>...</td>\n",
       "      <td>...</td>\n",
       "      <td>...</td>\n",
       "      <td>...</td>\n",
       "      <td>...</td>\n",
       "      <td>...</td>\n",
       "      <td>...</td>\n",
       "      <td>...</td>\n",
       "      <td>...</td>\n",
       "      <td>...</td>\n",
       "      <td>...</td>\n",
       "      <td>...</td>\n",
       "    </tr>\n",
       "    <tr>\n",
       "      <th>9775</th>\n",
       "      <td>69</td>\n",
       "      <td>758.0</td>\n",
       "      <td>Рыбинск</td>\n",
       "      <td>Ж</td>\n",
       "      <td>36.0</td>\n",
       "      <td>0</td>\n",
       "      <td>73574.07</td>\n",
       "      <td>2</td>\n",
       "      <td>0</td>\n",
       "      <td>1</td>\n",
       "      <td>79963.59</td>\n",
       "      <td>0</td>\n",
       "    </tr>\n",
       "    <tr>\n",
       "      <th>9785</th>\n",
       "      <td>70</td>\n",
       "      <td>895.0</td>\n",
       "      <td>Рыбинск</td>\n",
       "      <td>М</td>\n",
       "      <td>44.0</td>\n",
       "      <td>0</td>\n",
       "      <td>282653.53</td>\n",
       "      <td>3</td>\n",
       "      <td>0</td>\n",
       "      <td>0</td>\n",
       "      <td>255296.47</td>\n",
       "      <td>0</td>\n",
       "    </tr>\n",
       "    <tr>\n",
       "      <th>9819</th>\n",
       "      <td>71</td>\n",
       "      <td>832.0</td>\n",
       "      <td>Рыбинск</td>\n",
       "      <td>Ж</td>\n",
       "      <td>NaN</td>\n",
       "      <td>3</td>\n",
       "      <td>385763.16</td>\n",
       "      <td>2</td>\n",
       "      <td>0</td>\n",
       "      <td>1</td>\n",
       "      <td>59651.35</td>\n",
       "      <td>0</td>\n",
       "    </tr>\n",
       "    <tr>\n",
       "      <th>9880</th>\n",
       "      <td>72</td>\n",
       "      <td>886.0</td>\n",
       "      <td>Ярославль</td>\n",
       "      <td>Ж</td>\n",
       "      <td>35.0</td>\n",
       "      <td>3</td>\n",
       "      <td>1026172.14</td>\n",
       "      <td>2</td>\n",
       "      <td>1</td>\n",
       "      <td>0</td>\n",
       "      <td>53099.16</td>\n",
       "      <td>0</td>\n",
       "    </tr>\n",
       "    <tr>\n",
       "      <th>9970</th>\n",
       "      <td>73</td>\n",
       "      <td>816.0</td>\n",
       "      <td>Рыбинск</td>\n",
       "      <td>М</td>\n",
       "      <td>36.0</td>\n",
       "      <td>4</td>\n",
       "      <td>477892.07</td>\n",
       "      <td>3</td>\n",
       "      <td>1</td>\n",
       "      <td>0</td>\n",
       "      <td>81100.60</td>\n",
       "      <td>0</td>\n",
       "    </tr>\n",
       "  </tbody>\n",
       "</table>\n",
       "<p>73 rows × 12 columns</p>\n",
       "</div>"
      ],
      "text/plain": [
       "      user_id  score       city gender   age  equity     balance  products  \\\n",
       "1583        1  726.0  Ярославль      М  49.0       0         NaN         1   \n",
       "1837        2  896.0    Рыбинск      Ж  37.0       0         NaN         2   \n",
       "2138        3  739.0    Рыбинск      Ж  37.0       3  1307941.65         3   \n",
       "2165        4  692.0    Рыбинск      Ж   NaN       0         NaN         1   \n",
       "2302        5  934.0    Рыбинск      Ж  74.0       5  1294285.39         3   \n",
       "...       ...    ...        ...    ...   ...     ...         ...       ...   \n",
       "9775       69  758.0    Рыбинск      Ж  36.0       0    73574.07         2   \n",
       "9785       70  895.0    Рыбинск      М  44.0       0   282653.53         3   \n",
       "9819       71  832.0    Рыбинск      Ж   NaN       3   385763.16         2   \n",
       "9880       72  886.0  Ярославль      Ж  35.0       3  1026172.14         2   \n",
       "9970       73  816.0    Рыбинск      М  36.0       4   477892.07         3   \n",
       "\n",
       "      credit_card  last_activity  est_salary  churn  \n",
       "1583            1              1   177700.78      0  \n",
       "1837            0              0    90916.04      0  \n",
       "2138            0              0   103867.47      0  \n",
       "2165            1              1   160368.82      0  \n",
       "2302            1              0    95606.80      0  \n",
       "...           ...            ...         ...    ...  \n",
       "9775            0              1    79963.59      0  \n",
       "9785            0              0   255296.47      0  \n",
       "9819            0              1    59651.35      0  \n",
       "9880            1              0    53099.16      0  \n",
       "9970            1              0    81100.60      0  \n",
       "\n",
       "[73 rows x 12 columns]"
      ]
     },
     "execution_count": 17,
     "metadata": {},
     "output_type": "execute_result"
    }
   ],
   "source": [
    "data[data['user_id'] <=74]"
   ]
  },
  {
   "cell_type": "code",
   "execution_count": 18,
   "metadata": {
    "scrolled": true
   },
   "outputs": [
    {
     "data": {
      "text/plain": [
       "0"
      ]
     },
     "execution_count": 18,
     "metadata": {},
     "output_type": "execute_result"
    }
   ],
   "source": [
    "data['user_id'].duplicated().sum()"
   ]
  },
  {
   "cell_type": "markdown",
   "metadata": {},
   "source": [
    "Мы обработали дубликат и сохранили данные о пользователях."
   ]
  },
  {
   "cell_type": "markdown",
   "metadata": {},
   "source": [
    "<a id='ch4.3' ></a>\n",
    "## Обработка пропусков"
   ]
  },
  {
   "cell_type": "markdown",
   "metadata": {},
   "source": [
    "<a id='ch4.3.1' ></a>\n",
    "### Определение природы возникновения пропусков"
   ]
  },
  {
   "cell_type": "markdown",
   "metadata": {},
   "source": [
    "Для того, чтобы принять решение, как обрабатывать пропуски в данных, сначала необходимо определить природу их возникновения.\n",
    "\n",
    "Пропуски можно разделить на 3 основные группы:\n",
    "- **MCAR** (Missing Completely At Random / Отсутствует совершенно случайно) — пропуски не зависят от переменных и не ведут к систематической ошибке (смещение, bias), но увеличивают случайную ошибку (разброс, variance), можно их отбрасывать или заполнять, т.к. заполнение не повлияет на характер связи между заполняемой переменной и остальными;\n",
    "- **MAR** (Missing At Random / Отсутствует случайно) — в рамках каждой из групп, которая есть в описываемой данными совокупности, распределение пропусков случайно, можно их отбрасывать;\n",
    "- **MNAR** (Missing Not At Random / Отсутствует не случайно) — пропуски зависят от данных, без дополнительного обоснования их нельзя отбрасывать или заполнять одним значением, т.к. это приведёт к заметным искажениям.\n"
   ]
  },
  {
   "cell_type": "markdown",
   "metadata": {},
   "source": [
    "<a id='ch4.3.2' ></a>\n",
    "### Пропуски в столбце age"
   ]
  },
  {
   "cell_type": "markdown",
   "metadata": {},
   "source": [
    "Так как у нас всего 26 пропусков в столбце **age**, то сначала выведем их на экран и оценим, есть ли какой-то общий принцип, по которому возникли пропуски."
   ]
  },
  {
   "cell_type": "code",
   "execution_count": 19,
   "metadata": {},
   "outputs": [
    {
     "data": {
      "text/html": [
       "<div>\n",
       "<style scoped>\n",
       "    .dataframe tbody tr th:only-of-type {\n",
       "        vertical-align: middle;\n",
       "    }\n",
       "\n",
       "    .dataframe tbody tr th {\n",
       "        vertical-align: top;\n",
       "    }\n",
       "\n",
       "    .dataframe thead th {\n",
       "        text-align: right;\n",
       "    }\n",
       "</style>\n",
       "<table border=\"1\" class=\"dataframe\">\n",
       "  <thead>\n",
       "    <tr style=\"text-align: right;\">\n",
       "      <th></th>\n",
       "      <th>user_id</th>\n",
       "      <th>score</th>\n",
       "      <th>city</th>\n",
       "      <th>gender</th>\n",
       "      <th>age</th>\n",
       "      <th>equity</th>\n",
       "      <th>balance</th>\n",
       "      <th>products</th>\n",
       "      <th>credit_card</th>\n",
       "      <th>last_activity</th>\n",
       "      <th>est_salary</th>\n",
       "      <th>churn</th>\n",
       "    </tr>\n",
       "  </thead>\n",
       "  <tbody>\n",
       "    <tr>\n",
       "      <th>1247</th>\n",
       "      <td>228075</td>\n",
       "      <td>932.0</td>\n",
       "      <td>Ярославль</td>\n",
       "      <td>М</td>\n",
       "      <td>NaN</td>\n",
       "      <td>5</td>\n",
       "      <td>7601719.20</td>\n",
       "      <td>2</td>\n",
       "      <td>1</td>\n",
       "      <td>1</td>\n",
       "      <td>408121.16</td>\n",
       "      <td>0</td>\n",
       "    </tr>\n",
       "    <tr>\n",
       "      <th>2165</th>\n",
       "      <td>4</td>\n",
       "      <td>692.0</td>\n",
       "      <td>Рыбинск</td>\n",
       "      <td>Ж</td>\n",
       "      <td>NaN</td>\n",
       "      <td>0</td>\n",
       "      <td>NaN</td>\n",
       "      <td>1</td>\n",
       "      <td>1</td>\n",
       "      <td>1</td>\n",
       "      <td>160368.82</td>\n",
       "      <td>0</td>\n",
       "    </tr>\n",
       "    <tr>\n",
       "      <th>2444</th>\n",
       "      <td>6</td>\n",
       "      <td>913.0</td>\n",
       "      <td>Ярославль</td>\n",
       "      <td>М</td>\n",
       "      <td>NaN</td>\n",
       "      <td>0</td>\n",
       "      <td>NaN</td>\n",
       "      <td>1</td>\n",
       "      <td>1</td>\n",
       "      <td>1</td>\n",
       "      <td>135693.24</td>\n",
       "      <td>0</td>\n",
       "    </tr>\n",
       "    <tr>\n",
       "      <th>3091</th>\n",
       "      <td>138660</td>\n",
       "      <td>836.0</td>\n",
       "      <td>Ростов</td>\n",
       "      <td>Ж</td>\n",
       "      <td>NaN</td>\n",
       "      <td>5</td>\n",
       "      <td>294315.53</td>\n",
       "      <td>2</td>\n",
       "      <td>0</td>\n",
       "      <td>1</td>\n",
       "      <td>63310.22</td>\n",
       "      <td>1</td>\n",
       "    </tr>\n",
       "    <tr>\n",
       "      <th>4912</th>\n",
       "      <td>210674</td>\n",
       "      <td>834.0</td>\n",
       "      <td>Рыбинск</td>\n",
       "      <td>М</td>\n",
       "      <td>NaN</td>\n",
       "      <td>1</td>\n",
       "      <td>238330.52</td>\n",
       "      <td>2</td>\n",
       "      <td>0</td>\n",
       "      <td>1</td>\n",
       "      <td>93775.06</td>\n",
       "      <td>0</td>\n",
       "    </tr>\n",
       "    <tr>\n",
       "      <th>5470</th>\n",
       "      <td>16</td>\n",
       "      <td>827.0</td>\n",
       "      <td>Рыбинск</td>\n",
       "      <td>Ж</td>\n",
       "      <td>NaN</td>\n",
       "      <td>4</td>\n",
       "      <td>448959.07</td>\n",
       "      <td>2</td>\n",
       "      <td>1</td>\n",
       "      <td>1</td>\n",
       "      <td>67835.95</td>\n",
       "      <td>0</td>\n",
       "    </tr>\n",
       "    <tr>\n",
       "      <th>5495</th>\n",
       "      <td>17</td>\n",
       "      <td>884.0</td>\n",
       "      <td>Рыбинск</td>\n",
       "      <td>Ж</td>\n",
       "      <td>NaN</td>\n",
       "      <td>0</td>\n",
       "      <td>NaN</td>\n",
       "      <td>1</td>\n",
       "      <td>1</td>\n",
       "      <td>1</td>\n",
       "      <td>137500.77</td>\n",
       "      <td>0</td>\n",
       "    </tr>\n",
       "    <tr>\n",
       "      <th>7236</th>\n",
       "      <td>29</td>\n",
       "      <td>908.0</td>\n",
       "      <td>Рыбинск</td>\n",
       "      <td>Ж</td>\n",
       "      <td>NaN</td>\n",
       "      <td>4</td>\n",
       "      <td>1120340.31</td>\n",
       "      <td>3</td>\n",
       "      <td>1</td>\n",
       "      <td>1</td>\n",
       "      <td>85002.15</td>\n",
       "      <td>0</td>\n",
       "    </tr>\n",
       "    <tr>\n",
       "      <th>7248</th>\n",
       "      <td>30</td>\n",
       "      <td>920.0</td>\n",
       "      <td>Рыбинск</td>\n",
       "      <td>Ж</td>\n",
       "      <td>NaN</td>\n",
       "      <td>0</td>\n",
       "      <td>NaN</td>\n",
       "      <td>1</td>\n",
       "      <td>1</td>\n",
       "      <td>0</td>\n",
       "      <td>159248.67</td>\n",
       "      <td>0</td>\n",
       "    </tr>\n",
       "    <tr>\n",
       "      <th>7345</th>\n",
       "      <td>184913</td>\n",
       "      <td>829.0</td>\n",
       "      <td>Ярославль</td>\n",
       "      <td>Ж</td>\n",
       "      <td>NaN</td>\n",
       "      <td>3</td>\n",
       "      <td>188648.77</td>\n",
       "      <td>2</td>\n",
       "      <td>0</td>\n",
       "      <td>1</td>\n",
       "      <td>75206.90</td>\n",
       "      <td>0</td>\n",
       "    </tr>\n",
       "    <tr>\n",
       "      <th>7409</th>\n",
       "      <td>32</td>\n",
       "      <td>777.0</td>\n",
       "      <td>Ярославль</td>\n",
       "      <td>М</td>\n",
       "      <td>NaN</td>\n",
       "      <td>2</td>\n",
       "      <td>171510.23</td>\n",
       "      <td>1</td>\n",
       "      <td>1</td>\n",
       "      <td>1</td>\n",
       "      <td>75409.63</td>\n",
       "      <td>0</td>\n",
       "    </tr>\n",
       "    <tr>\n",
       "      <th>8015</th>\n",
       "      <td>38</td>\n",
       "      <td>670.0</td>\n",
       "      <td>Ярославль</td>\n",
       "      <td>Ж</td>\n",
       "      <td>NaN</td>\n",
       "      <td>0</td>\n",
       "      <td>NaN</td>\n",
       "      <td>1</td>\n",
       "      <td>1</td>\n",
       "      <td>1</td>\n",
       "      <td>168699.33</td>\n",
       "      <td>0</td>\n",
       "    </tr>\n",
       "    <tr>\n",
       "      <th>8070</th>\n",
       "      <td>39</td>\n",
       "      <td>940.0</td>\n",
       "      <td>Рыбинск</td>\n",
       "      <td>М</td>\n",
       "      <td>NaN</td>\n",
       "      <td>0</td>\n",
       "      <td>NaN</td>\n",
       "      <td>1</td>\n",
       "      <td>0</td>\n",
       "      <td>1</td>\n",
       "      <td>147696.95</td>\n",
       "      <td>0</td>\n",
       "    </tr>\n",
       "    <tr>\n",
       "      <th>8293</th>\n",
       "      <td>41</td>\n",
       "      <td>930.0</td>\n",
       "      <td>Ярославль</td>\n",
       "      <td>М</td>\n",
       "      <td>NaN</td>\n",
       "      <td>0</td>\n",
       "      <td>NaN</td>\n",
       "      <td>1</td>\n",
       "      <td>1</td>\n",
       "      <td>1</td>\n",
       "      <td>199542.51</td>\n",
       "      <td>0</td>\n",
       "    </tr>\n",
       "    <tr>\n",
       "      <th>8385</th>\n",
       "      <td>43</td>\n",
       "      <td>915.0</td>\n",
       "      <td>Рыбинск</td>\n",
       "      <td>М</td>\n",
       "      <td>NaN</td>\n",
       "      <td>0</td>\n",
       "      <td>NaN</td>\n",
       "      <td>1</td>\n",
       "      <td>1</td>\n",
       "      <td>0</td>\n",
       "      <td>71179.53</td>\n",
       "      <td>0</td>\n",
       "    </tr>\n",
       "    <tr>\n",
       "      <th>8449</th>\n",
       "      <td>44</td>\n",
       "      <td>805.0</td>\n",
       "      <td>Ярославль</td>\n",
       "      <td>Ж</td>\n",
       "      <td>NaN</td>\n",
       "      <td>0</td>\n",
       "      <td>NaN</td>\n",
       "      <td>1</td>\n",
       "      <td>0</td>\n",
       "      <td>1</td>\n",
       "      <td>922080.25</td>\n",
       "      <td>0</td>\n",
       "    </tr>\n",
       "    <tr>\n",
       "      <th>8632</th>\n",
       "      <td>47</td>\n",
       "      <td>893.0</td>\n",
       "      <td>Ярославль</td>\n",
       "      <td>М</td>\n",
       "      <td>NaN</td>\n",
       "      <td>0</td>\n",
       "      <td>NaN</td>\n",
       "      <td>1</td>\n",
       "      <td>1</td>\n",
       "      <td>0</td>\n",
       "      <td>173929.92</td>\n",
       "      <td>0</td>\n",
       "    </tr>\n",
       "    <tr>\n",
       "      <th>8785</th>\n",
       "      <td>51</td>\n",
       "      <td>663.0</td>\n",
       "      <td>Ярославль</td>\n",
       "      <td>М</td>\n",
       "      <td>NaN</td>\n",
       "      <td>0</td>\n",
       "      <td>NaN</td>\n",
       "      <td>1</td>\n",
       "      <td>1</td>\n",
       "      <td>1</td>\n",
       "      <td>117197.56</td>\n",
       "      <td>0</td>\n",
       "    </tr>\n",
       "    <tr>\n",
       "      <th>9104</th>\n",
       "      <td>53</td>\n",
       "      <td>776.0</td>\n",
       "      <td>Рыбинск</td>\n",
       "      <td>Ж</td>\n",
       "      <td>NaN</td>\n",
       "      <td>5</td>\n",
       "      <td>796735.09</td>\n",
       "      <td>1</td>\n",
       "      <td>1</td>\n",
       "      <td>1</td>\n",
       "      <td>55073.63</td>\n",
       "      <td>0</td>\n",
       "    </tr>\n",
       "    <tr>\n",
       "      <th>9301</th>\n",
       "      <td>57</td>\n",
       "      <td>942.0</td>\n",
       "      <td>Рыбинск</td>\n",
       "      <td>Ж</td>\n",
       "      <td>NaN</td>\n",
       "      <td>0</td>\n",
       "      <td>NaN</td>\n",
       "      <td>1</td>\n",
       "      <td>1</td>\n",
       "      <td>1</td>\n",
       "      <td>163804.73</td>\n",
       "      <td>0</td>\n",
       "    </tr>\n",
       "    <tr>\n",
       "      <th>9380</th>\n",
       "      <td>59</td>\n",
       "      <td>894.0</td>\n",
       "      <td>Рыбинск</td>\n",
       "      <td>М</td>\n",
       "      <td>NaN</td>\n",
       "      <td>0</td>\n",
       "      <td>NaN</td>\n",
       "      <td>1</td>\n",
       "      <td>1</td>\n",
       "      <td>0</td>\n",
       "      <td>178012.28</td>\n",
       "      <td>0</td>\n",
       "    </tr>\n",
       "    <tr>\n",
       "      <th>9457</th>\n",
       "      <td>61</td>\n",
       "      <td>929.0</td>\n",
       "      <td>Ярославль</td>\n",
       "      <td>М</td>\n",
       "      <td>NaN</td>\n",
       "      <td>0</td>\n",
       "      <td>NaN</td>\n",
       "      <td>1</td>\n",
       "      <td>1</td>\n",
       "      <td>0</td>\n",
       "      <td>381868.89</td>\n",
       "      <td>0</td>\n",
       "    </tr>\n",
       "    <tr>\n",
       "      <th>9632</th>\n",
       "      <td>64</td>\n",
       "      <td>927.0</td>\n",
       "      <td>Ярославль</td>\n",
       "      <td>М</td>\n",
       "      <td>NaN</td>\n",
       "      <td>0</td>\n",
       "      <td>NaN</td>\n",
       "      <td>1</td>\n",
       "      <td>1</td>\n",
       "      <td>0</td>\n",
       "      <td>231254.86</td>\n",
       "      <td>0</td>\n",
       "    </tr>\n",
       "    <tr>\n",
       "      <th>9634</th>\n",
       "      <td>65</td>\n",
       "      <td>917.0</td>\n",
       "      <td>Ярославль</td>\n",
       "      <td>М</td>\n",
       "      <td>NaN</td>\n",
       "      <td>0</td>\n",
       "      <td>NaN</td>\n",
       "      <td>1</td>\n",
       "      <td>1</td>\n",
       "      <td>1</td>\n",
       "      <td>192644.15</td>\n",
       "      <td>0</td>\n",
       "    </tr>\n",
       "    <tr>\n",
       "      <th>9667</th>\n",
       "      <td>68</td>\n",
       "      <td>849.0</td>\n",
       "      <td>Ярославль</td>\n",
       "      <td>М</td>\n",
       "      <td>NaN</td>\n",
       "      <td>4</td>\n",
       "      <td>1254013.85</td>\n",
       "      <td>2</td>\n",
       "      <td>1</td>\n",
       "      <td>1</td>\n",
       "      <td>119106.67</td>\n",
       "      <td>0</td>\n",
       "    </tr>\n",
       "    <tr>\n",
       "      <th>9819</th>\n",
       "      <td>71</td>\n",
       "      <td>832.0</td>\n",
       "      <td>Рыбинск</td>\n",
       "      <td>Ж</td>\n",
       "      <td>NaN</td>\n",
       "      <td>3</td>\n",
       "      <td>385763.16</td>\n",
       "      <td>2</td>\n",
       "      <td>0</td>\n",
       "      <td>1</td>\n",
       "      <td>59651.35</td>\n",
       "      <td>0</td>\n",
       "    </tr>\n",
       "  </tbody>\n",
       "</table>\n",
       "</div>"
      ],
      "text/plain": [
       "      user_id  score       city gender  age  equity     balance  products  \\\n",
       "1247   228075  932.0  Ярославль      М  NaN       5  7601719.20         2   \n",
       "2165        4  692.0    Рыбинск      Ж  NaN       0         NaN         1   \n",
       "2444        6  913.0  Ярославль      М  NaN       0         NaN         1   \n",
       "3091   138660  836.0     Ростов      Ж  NaN       5   294315.53         2   \n",
       "4912   210674  834.0    Рыбинск      М  NaN       1   238330.52         2   \n",
       "5470       16  827.0    Рыбинск      Ж  NaN       4   448959.07         2   \n",
       "5495       17  884.0    Рыбинск      Ж  NaN       0         NaN         1   \n",
       "7236       29  908.0    Рыбинск      Ж  NaN       4  1120340.31         3   \n",
       "7248       30  920.0    Рыбинск      Ж  NaN       0         NaN         1   \n",
       "7345   184913  829.0  Ярославль      Ж  NaN       3   188648.77         2   \n",
       "7409       32  777.0  Ярославль      М  NaN       2   171510.23         1   \n",
       "8015       38  670.0  Ярославль      Ж  NaN       0         NaN         1   \n",
       "8070       39  940.0    Рыбинск      М  NaN       0         NaN         1   \n",
       "8293       41  930.0  Ярославль      М  NaN       0         NaN         1   \n",
       "8385       43  915.0    Рыбинск      М  NaN       0         NaN         1   \n",
       "8449       44  805.0  Ярославль      Ж  NaN       0         NaN         1   \n",
       "8632       47  893.0  Ярославль      М  NaN       0         NaN         1   \n",
       "8785       51  663.0  Ярославль      М  NaN       0         NaN         1   \n",
       "9104       53  776.0    Рыбинск      Ж  NaN       5   796735.09         1   \n",
       "9301       57  942.0    Рыбинск      Ж  NaN       0         NaN         1   \n",
       "9380       59  894.0    Рыбинск      М  NaN       0         NaN         1   \n",
       "9457       61  929.0  Ярославль      М  NaN       0         NaN         1   \n",
       "9632       64  927.0  Ярославль      М  NaN       0         NaN         1   \n",
       "9634       65  917.0  Ярославль      М  NaN       0         NaN         1   \n",
       "9667       68  849.0  Ярославль      М  NaN       4  1254013.85         2   \n",
       "9819       71  832.0    Рыбинск      Ж  NaN       3   385763.16         2   \n",
       "\n",
       "      credit_card  last_activity  est_salary  churn  \n",
       "1247            1              1   408121.16      0  \n",
       "2165            1              1   160368.82      0  \n",
       "2444            1              1   135693.24      0  \n",
       "3091            0              1    63310.22      1  \n",
       "4912            0              1    93775.06      0  \n",
       "5470            1              1    67835.95      0  \n",
       "5495            1              1   137500.77      0  \n",
       "7236            1              1    85002.15      0  \n",
       "7248            1              0   159248.67      0  \n",
       "7345            0              1    75206.90      0  \n",
       "7409            1              1    75409.63      0  \n",
       "8015            1              1   168699.33      0  \n",
       "8070            0              1   147696.95      0  \n",
       "8293            1              1   199542.51      0  \n",
       "8385            1              0    71179.53      0  \n",
       "8449            0              1   922080.25      0  \n",
       "8632            1              0   173929.92      0  \n",
       "8785            1              1   117197.56      0  \n",
       "9104            1              1    55073.63      0  \n",
       "9301            1              1   163804.73      0  \n",
       "9380            1              0   178012.28      0  \n",
       "9457            1              0   381868.89      0  \n",
       "9632            1              0   231254.86      0  \n",
       "9634            1              1   192644.15      0  \n",
       "9667            1              1   119106.67      0  \n",
       "9819            0              1    59651.35      0  "
      ]
     },
     "execution_count": 19,
     "metadata": {},
     "output_type": "execute_result"
    }
   ],
   "source": [
    "data[data['age'].isna()]"
   ]
  },
  {
   "cell_type": "markdown",
   "metadata": {},
   "source": [
    "Небольшое количество пропусков в данном столбце позволяет оценить их визуально. Мы видим, что все признаки клиентов представлены разннобразно: есть разные города, кредитный рейтинг, пол и т.д. **Данные пропуски не относятся к типу MNAR.**\n",
    "\n",
    "Количество пропусков в столбце **age** столь незначительно по сравнению с общим количеством строк, что наиболее оптимальным решением будет удаление данных строк."
   ]
  },
  {
   "cell_type": "code",
   "execution_count": 20,
   "metadata": {},
   "outputs": [],
   "source": [
    "data = data[data['age'].isna() == False]"
   ]
  },
  {
   "cell_type": "code",
   "execution_count": 21,
   "metadata": {
    "scrolled": false
   },
   "outputs": [
    {
     "data": {
      "text/html": [
       "<div>\n",
       "<style scoped>\n",
       "    .dataframe tbody tr th:only-of-type {\n",
       "        vertical-align: middle;\n",
       "    }\n",
       "\n",
       "    .dataframe tbody tr th {\n",
       "        vertical-align: top;\n",
       "    }\n",
       "\n",
       "    .dataframe thead th {\n",
       "        text-align: right;\n",
       "    }\n",
       "</style>\n",
       "<table border=\"1\" class=\"dataframe\">\n",
       "  <thead>\n",
       "    <tr style=\"text-align: right;\">\n",
       "      <th></th>\n",
       "      <th>user_id</th>\n",
       "      <th>score</th>\n",
       "      <th>city</th>\n",
       "      <th>gender</th>\n",
       "      <th>age</th>\n",
       "      <th>equity</th>\n",
       "      <th>balance</th>\n",
       "      <th>products</th>\n",
       "      <th>credit_card</th>\n",
       "      <th>last_activity</th>\n",
       "      <th>est_salary</th>\n",
       "      <th>churn</th>\n",
       "    </tr>\n",
       "  </thead>\n",
       "  <tbody>\n",
       "  </tbody>\n",
       "</table>\n",
       "</div>"
      ],
      "text/plain": [
       "Empty DataFrame\n",
       "Columns: [user_id, score, city, gender, age, equity, balance, products, credit_card, last_activity, est_salary, churn]\n",
       "Index: []"
      ]
     },
     "execution_count": 21,
     "metadata": {},
     "output_type": "execute_result"
    }
   ],
   "source": [
    "data[data['age'].isna()]"
   ]
  },
  {
   "cell_type": "markdown",
   "metadata": {},
   "source": [
    "Пропуски в столбце **age** обработаны."
   ]
  },
  {
   "cell_type": "markdown",
   "metadata": {},
   "source": [
    "<a id='ch4.3.3' ></a>\n",
    "### Пропуски в столбце balance"
   ]
  },
  {
   "cell_type": "markdown",
   "metadata": {},
   "source": [
    "В столбце **balance** более двух тысяч пропусков, поэтому для их анализа применим другой метод."
   ]
  },
  {
   "cell_type": "markdown",
   "metadata": {},
   "source": [
    "Сначала создадим дополнительный столбец, содержащий информацию о том, есть ли в данной строке пропуск в столбце **balance**."
   ]
  },
  {
   "cell_type": "code",
   "execution_count": 22,
   "metadata": {},
   "outputs": [
    {
     "data": {
      "text/plain": [
       "count    7.695000e+03\n",
       "mean     8.272456e+05\n",
       "std      1.980327e+06\n",
       "min      0.000000e+00\n",
       "25%      2.956987e+05\n",
       "50%      5.242953e+05\n",
       "75%      9.800512e+05\n",
       "max      1.191136e+08\n",
       "Name: balance, dtype: float64"
      ]
     },
     "execution_count": 22,
     "metadata": {},
     "output_type": "execute_result"
    }
   ],
   "source": [
    "data['balance'].describe()"
   ]
  },
  {
   "cell_type": "code",
   "execution_count": 23,
   "metadata": {},
   "outputs": [],
   "source": [
    "data['balance_is_nan'] = data['balance'].isna()"
   ]
  },
  {
   "cell_type": "markdown",
   "metadata": {},
   "source": [
    "Теперь необходимо создать в таблицу, в которой для группы с пропусками и группы без пропусков в столбце  **balance** будут сравниваться срединные значения всех признаков."
   ]
  },
  {
   "cell_type": "markdown",
   "metadata": {},
   "source": [
    "Проверим, распределение признаков, представленных в виде непрерывных значений, чтобы правильно выбрать меру, наиболее точно характеризующую их срединное значение.\n",
    "\n",
    "Для категориальных признаков мы будем брать моду в качестве срединного значения."
   ]
  },
  {
   "cell_type": "code",
   "execution_count": 24,
   "metadata": {
    "scrolled": false
   },
   "outputs": [
    {
     "data": {
      "text/html": [
       "<div>\n",
       "<style scoped>\n",
       "    .dataframe tbody tr th:only-of-type {\n",
       "        vertical-align: middle;\n",
       "    }\n",
       "\n",
       "    .dataframe tbody tr th {\n",
       "        vertical-align: top;\n",
       "    }\n",
       "\n",
       "    .dataframe thead th {\n",
       "        text-align: right;\n",
       "    }\n",
       "</style>\n",
       "<table border=\"1\" class=\"dataframe\">\n",
       "  <thead>\n",
       "    <tr style=\"text-align: right;\">\n",
       "      <th></th>\n",
       "      <th>score</th>\n",
       "      <th>age</th>\n",
       "      <th>est_salary</th>\n",
       "      <th>products</th>\n",
       "      <th>equity</th>\n",
       "    </tr>\n",
       "  </thead>\n",
       "  <tbody>\n",
       "    <tr>\n",
       "      <th>count</th>\n",
       "      <td>9974.00</td>\n",
       "      <td>9974.00</td>\n",
       "      <td>9974.00</td>\n",
       "      <td>9974.00</td>\n",
       "      <td>9974.00</td>\n",
       "    </tr>\n",
       "    <tr>\n",
       "      <th>mean</th>\n",
       "      <td>848.68</td>\n",
       "      <td>42.73</td>\n",
       "      <td>147786.81</td>\n",
       "      <td>1.87</td>\n",
       "      <td>2.63</td>\n",
       "    </tr>\n",
       "    <tr>\n",
       "      <th>std</th>\n",
       "      <td>65.40</td>\n",
       "      <td>12.18</td>\n",
       "      <td>139285.51</td>\n",
       "      <td>0.79</td>\n",
       "      <td>1.98</td>\n",
       "    </tr>\n",
       "    <tr>\n",
       "      <th>min</th>\n",
       "      <td>642.00</td>\n",
       "      <td>18.00</td>\n",
       "      <td>2546.30</td>\n",
       "      <td>0.00</td>\n",
       "      <td>0.00</td>\n",
       "    </tr>\n",
       "    <tr>\n",
       "      <th>25%</th>\n",
       "      <td>802.00</td>\n",
       "      <td>33.00</td>\n",
       "      <td>75251.66</td>\n",
       "      <td>1.00</td>\n",
       "      <td>0.00</td>\n",
       "    </tr>\n",
       "    <tr>\n",
       "      <th>50%</th>\n",
       "      <td>853.00</td>\n",
       "      <td>40.00</td>\n",
       "      <td>119626.80</td>\n",
       "      <td>2.00</td>\n",
       "      <td>3.00</td>\n",
       "    </tr>\n",
       "    <tr>\n",
       "      <th>75%</th>\n",
       "      <td>900.00</td>\n",
       "      <td>51.00</td>\n",
       "      <td>174499.81</td>\n",
       "      <td>2.00</td>\n",
       "      <td>4.00</td>\n",
       "    </tr>\n",
       "    <tr>\n",
       "      <th>max</th>\n",
       "      <td>1000.00</td>\n",
       "      <td>86.00</td>\n",
       "      <td>1395064.45</td>\n",
       "      <td>5.00</td>\n",
       "      <td>9.00</td>\n",
       "    </tr>\n",
       "  </tbody>\n",
       "</table>\n",
       "</div>"
      ],
      "text/plain": [
       "         score      age  est_salary  products   equity\n",
       "count  9974.00  9974.00     9974.00   9974.00  9974.00\n",
       "mean    848.68    42.73   147786.81      1.87     2.63\n",
       "std      65.40    12.18   139285.51      0.79     1.98\n",
       "min     642.00    18.00     2546.30      0.00     0.00\n",
       "25%     802.00    33.00    75251.66      1.00     0.00\n",
       "50%     853.00    40.00   119626.80      2.00     3.00\n",
       "75%     900.00    51.00   174499.81      2.00     4.00\n",
       "max    1000.00    86.00  1395064.45      5.00     9.00"
      ]
     },
     "execution_count": 24,
     "metadata": {},
     "output_type": "execute_result"
    }
   ],
   "source": [
    "data[['score', 'age', 'est_salary', 'products', 'equity']].describe().round(2)"
   ]
  },
  {
   "cell_type": "markdown",
   "metadata": {},
   "source": [
    "У **score** среднее и медиана практически одинаковы, но лучше взять медиану, так как это целое число. Для **products** и **equity** тоже лучше взять медиану, так как целое значение лучше отображают суть признака.\n",
    "У столбцов **age** и **est_salary** между средним и медианой большая разница, вероятно в данных есть выбросы. Посмотрим на распределение указанных величин, чтобы принять окончательное решение."
   ]
  },
  {
   "cell_type": "code",
   "execution_count": 25,
   "metadata": {
    "scrolled": false
   },
   "outputs": [
    {
     "data": {
      "image/png": "[encoded data removed]",
      "text/plain": [
       "<Figure size 720x432 with 1 Axes>"
      ]
     },
     "metadata": {
      "needs_background": "light"
     },
     "output_type": "display_data"
    }
   ],
   "source": [
    "plt.figure(figsize=(10,6))\n",
    "data['est_salary'].hist(bins=100)\n",
    "plt.title('Гистограмма распределения зарплат клиентов')\n",
    "plt.xlabel('Зарплата (млн. руб)')\n",
    "plt.ylabel('кол-во клиентов');"
   ]
  },
  {
   "cell_type": "markdown",
   "metadata": {},
   "source": [
    "Мы видим, что большая часть значений не превышает 400 000 рублей, но при этом есть выбросы вплоть до 1 400 000 рублей. Поэтому для анализа пропусков будем использовать **медиану**."
   ]
  },
  {
   "cell_type": "code",
   "execution_count": 26,
   "metadata": {
    "scrolled": false
   },
   "outputs": [
    {
     "data": {
      "image/png": "[encoded data removed]",
      "text/plain": [
       "<Figure size 720x432 with 1 Axes>"
      ]
     },
     "metadata": {
      "needs_background": "light"
     },
     "output_type": "display_data"
    }
   ],
   "source": [
    "plt.figure(figsize=(10,6))\n",
    "(data['age']\n",
    " .hist(bins=(\n",
    "     int(\n",
    "         max(data['age']) - min(data['age'])\n",
    "     )\n",
    " )\n",
    "      )\n",
    ");\n",
    "plt.title('Гистограмма распределения возраста клиентов')\n",
    "plt.xlabel('Возраст (лет)')\n",
    "plt.ylabel('кол-во клиентов');"
   ]
  },
  {
   "cell_type": "markdown",
   "metadata": {},
   "source": [
    "Распределение возраста отличается от нормального, также есть выбросы на интервале от 18 до 22 лет и от 75 до 86. Будем также использовать **медиану**."
   ]
  },
  {
   "cell_type": "code",
   "execution_count": 27,
   "metadata": {
    "scrolled": true
   },
   "outputs": [],
   "source": [
    "compare_table_1 =(\n",
    "    data.pivot_table(columns = 'balance_is_nan',\n",
    "                     aggfunc = {'est_salary':['median', 'mean'], \n",
    "                          'age':['median', 'mean'], \n",
    "                          'score':['median', 'mean'], \n",
    "                          'equity':'median',\n",
    "                          'products':'median'})\n",
    ")"
   ]
  },
  {
   "cell_type": "code",
   "execution_count": 28,
   "metadata": {
    "scrolled": true
   },
   "outputs": [],
   "source": [
    "compare_table_1 = round(compare_table_1,1)"
   ]
  },
  {
   "cell_type": "code",
   "execution_count": 29,
   "metadata": {},
   "outputs": [],
   "source": [
    "compare_table_1['difference'] = compare_table_1[0] - compare_table_1[1]"
   ]
  },
  {
   "cell_type": "code",
   "execution_count": 30,
   "metadata": {},
   "outputs": [
    {
     "data": {
      "text/html": [
       "<div>\n",
       "<style scoped>\n",
       "    .dataframe tbody tr th:only-of-type {\n",
       "        vertical-align: middle;\n",
       "    }\n",
       "\n",
       "    .dataframe tbody tr th {\n",
       "        vertical-align: top;\n",
       "    }\n",
       "\n",
       "    .dataframe thead th {\n",
       "        text-align: right;\n",
       "    }\n",
       "</style>\n",
       "<table border=\"1\" class=\"dataframe\">\n",
       "  <thead>\n",
       "    <tr style=\"text-align: right;\">\n",
       "      <th></th>\n",
       "      <th>balance_is_nan</th>\n",
       "      <th>False</th>\n",
       "      <th>True</th>\n",
       "      <th>difference</th>\n",
       "    </tr>\n",
       "  </thead>\n",
       "  <tbody>\n",
       "    <tr>\n",
       "      <th rowspan=\"2\" valign=\"top\">age</th>\n",
       "      <th>mean</th>\n",
       "      <td>42.9</td>\n",
       "      <td>42.1</td>\n",
       "      <td>0.8</td>\n",
       "    </tr>\n",
       "    <tr>\n",
       "      <th>median</th>\n",
       "      <td>40.0</td>\n",
       "      <td>40.0</td>\n",
       "      <td>0.0</td>\n",
       "    </tr>\n",
       "    <tr>\n",
       "      <th>equity</th>\n",
       "      <th>median</th>\n",
       "      <td>4.0</td>\n",
       "      <td>0.0</td>\n",
       "      <td>4.0</td>\n",
       "    </tr>\n",
       "    <tr>\n",
       "      <th rowspan=\"2\" valign=\"top\">est_salary</th>\n",
       "      <th>mean</th>\n",
       "      <td>124520.4</td>\n",
       "      <td>226345.4</td>\n",
       "      <td>-101825.0</td>\n",
       "    </tr>\n",
       "    <tr>\n",
       "      <th>median</th>\n",
       "      <td>106250.2</td>\n",
       "      <td>174347.9</td>\n",
       "      <td>-68097.7</td>\n",
       "    </tr>\n",
       "    <tr>\n",
       "      <th>products</th>\n",
       "      <th>median</th>\n",
       "      <td>2.0</td>\n",
       "      <td>1.0</td>\n",
       "      <td>1.0</td>\n",
       "    </tr>\n",
       "    <tr>\n",
       "      <th rowspan=\"2\" valign=\"top\">score</th>\n",
       "      <th>mean</th>\n",
       "      <td>843.7</td>\n",
       "      <td>865.4</td>\n",
       "      <td>-21.7</td>\n",
       "    </tr>\n",
       "    <tr>\n",
       "      <th>median</th>\n",
       "      <td>840.0</td>\n",
       "      <td>903.0</td>\n",
       "      <td>-63.0</td>\n",
       "    </tr>\n",
       "  </tbody>\n",
       "</table>\n",
       "</div>"
      ],
      "text/plain": [
       "balance_is_nan        False      True  difference\n",
       "age        mean        42.9      42.1         0.8\n",
       "           median      40.0      40.0         0.0\n",
       "equity     median       4.0       0.0         4.0\n",
       "est_salary mean    124520.4  226345.4   -101825.0\n",
       "           median  106250.2  174347.9    -68097.7\n",
       "products   median       2.0       1.0         1.0\n",
       "score      mean       843.7     865.4       -21.7\n",
       "           median     840.0     903.0       -63.0"
      ]
     },
     "execution_count": 30,
     "metadata": {},
     "output_type": "execute_result"
    }
   ],
   "source": [
    "compare_table_1"
   ]
  },
  {
   "cell_type": "code",
   "execution_count": 31,
   "metadata": {},
   "outputs": [],
   "source": [
    "compare_table = (pd.concat([data[data['balance']\n",
    "                 .isna() == True][['city', \n",
    "                                   'gender', \n",
    "                                   'credit_card', \n",
    "                                   'last_activity', \n",
    "                                   'churn']]\n",
    "                .mode(), data[data['balance']\n",
    "                              .isna() == False][['city', \n",
    "                                                 'gender', \n",
    "                                                 'credit_card', \n",
    "                                                 'last_activity', \n",
    "                                                 'churn']].mode()])\n",
    "                 .T\n",
    ")"
   ]
  },
  {
   "cell_type": "code",
   "execution_count": 32,
   "metadata": {
    "scrolled": true
   },
   "outputs": [],
   "source": [
    "compare_table.columns = ['balnce_is_nan', 'balance_is_real']"
   ]
  },
  {
   "cell_type": "code",
   "execution_count": 33,
   "metadata": {
    "scrolled": true
   },
   "outputs": [
    {
     "data": {
      "text/html": [
       "<div>\n",
       "<style scoped>\n",
       "    .dataframe tbody tr th:only-of-type {\n",
       "        vertical-align: middle;\n",
       "    }\n",
       "\n",
       "    .dataframe tbody tr th {\n",
       "        vertical-align: top;\n",
       "    }\n",
       "\n",
       "    .dataframe thead th {\n",
       "        text-align: right;\n",
       "    }\n",
       "</style>\n",
       "<table border=\"1\" class=\"dataframe\">\n",
       "  <thead>\n",
       "    <tr style=\"text-align: right;\">\n",
       "      <th></th>\n",
       "      <th>balnce_is_nan</th>\n",
       "      <th>balance_is_real</th>\n",
       "    </tr>\n",
       "  </thead>\n",
       "  <tbody>\n",
       "    <tr>\n",
       "      <th>city</th>\n",
       "      <td>Ярославль</td>\n",
       "      <td>Ярославль</td>\n",
       "    </tr>\n",
       "    <tr>\n",
       "      <th>gender</th>\n",
       "      <td>М</td>\n",
       "      <td>Ж</td>\n",
       "    </tr>\n",
       "    <tr>\n",
       "      <th>credit_card</th>\n",
       "      <td>1</td>\n",
       "      <td>1</td>\n",
       "    </tr>\n",
       "    <tr>\n",
       "      <th>last_activity</th>\n",
       "      <td>1</td>\n",
       "      <td>1</td>\n",
       "    </tr>\n",
       "    <tr>\n",
       "      <th>churn</th>\n",
       "      <td>0</td>\n",
       "      <td>0</td>\n",
       "    </tr>\n",
       "  </tbody>\n",
       "</table>\n",
       "</div>"
      ],
      "text/plain": [
       "              balnce_is_nan balance_is_real\n",
       "city              Ярославль       Ярославль\n",
       "gender                    М               Ж\n",
       "credit_card               1               1\n",
       "last_activity             1               1\n",
       "churn                     0               0"
      ]
     },
     "execution_count": 33,
     "metadata": {},
     "output_type": "execute_result"
    }
   ],
   "source": [
    "compare_table"
   ]
  },
  {
   "cell_type": "markdown",
   "metadata": {},
   "source": [
    "В результате мы видим, что есть заметные различия в:\n",
    "- количестве баллов собственности;\n",
    "- зарплате;\n",
    "- кредитном уровне;\n",
    "- гендере.\n",
    "\n",
    "Рассмотрим соотношение каждого из этих признаков, чтобы определить, какова природа пропусков."
   ]
  },
  {
   "cell_type": "code",
   "execution_count": 34,
   "metadata": {},
   "outputs": [],
   "source": [
    "no_balance_data = data[data['balance_is_nan'] == True]"
   ]
  },
  {
   "cell_type": "code",
   "execution_count": 35,
   "metadata": {},
   "outputs": [],
   "source": [
    "balance_data = data[data['balance_is_nan'] == False]"
   ]
  },
  {
   "cell_type": "code",
   "execution_count": 36,
   "metadata": {},
   "outputs": [
    {
     "data": {
      "image/png": "[encoded data removed]",
      "text/plain": [
       "<Figure size 720x432 with 1 Axes>"
      ]
     },
     "metadata": {
      "needs_background": "light"
     },
     "output_type": "display_data"
    }
   ],
   "source": [
    "plt.figure(figsize=(10,6))\n",
    "no_balance_data['gender'].hist()\n",
    "plt.title('Распределение клиентов с пропуском в столбце balance по полу')\n",
    "plt.xlabel('Пол', fontsize=14)\n",
    "plt.ylabel('кол-во клиентов');"
   ]
  },
  {
   "cell_type": "code",
   "execution_count": 37,
   "metadata": {
    "scrolled": false
   },
   "outputs": [
    {
     "data": {
      "image/png": "[encoded data removed]",
      "text/plain": [
       "<Figure size 720x432 with 1 Axes>"
      ]
     },
     "metadata": {
      "needs_background": "light"
     },
     "output_type": "display_data"
    }
   ],
   "source": [
    "plt.figure(figsize=(10,6))\n",
    "balance_data['gender'].hist()\n",
    "plt.title('Распределение клиентов без пропуска в столбце balance по полу')\n",
    "plt.xlabel('Пол', fontsize=14)\n",
    "plt.ylabel('Кол-во клиентов');"
   ]
  },
  {
   "cell_type": "markdown",
   "metadata": {},
   "source": [
    "Мы не видим, большой разницы в соотношении полов у данных с пропусками и без. Вероятно, этот признак не связан с причиной возникновения пропусков."
   ]
  },
  {
   "cell_type": "code",
   "execution_count": 38,
   "metadata": {},
   "outputs": [
    {
     "data": {
      "image/png": "[encoded data removed]",
      "text/plain": [
       "<Figure size 720x432 with 1 Axes>"
      ]
     },
     "metadata": {
      "needs_background": "light"
     },
     "output_type": "display_data"
    }
   ],
   "source": [
    "plt.figure(figsize=(10,6))\n",
    "no_balance_data['equity'].hist()\n",
    "plt.title('Распределение клиентов с пропуском в столбце balance по баллам собственности')\n",
    "plt.xlabel('Кол-во баллов собственности')\n",
    "plt.ylabel('Кол-во клиентов');"
   ]
  },
  {
   "cell_type": "code",
   "execution_count": 39,
   "metadata": {},
   "outputs": [
    {
     "data": {
      "image/png": "[encoded data removed]",
      "text/plain": [
       "<Figure size 720x432 with 1 Axes>"
      ]
     },
     "metadata": {
      "needs_background": "light"
     },
     "output_type": "display_data"
    }
   ],
   "source": [
    "plt.figure(figsize=(10,6))\n",
    "balance_data['equity'].hist()\n",
    "plt.title('Распределение клиентов без пропуска в столбце balance по баллам собственности')\n",
    "plt.xlabel('Кол-во баллов собственности')\n",
    "plt.ylabel('Кол-во клиентов');"
   ]
  },
  {
   "cell_type": "markdown",
   "metadata": {},
   "source": [
    "Видно, что практически у всех пользователей с пропуском в значении баланса 0 быллов собственности и изредка 1 балл, в то же время у пользователей с балансом в оснвном от 3 до 5 баллов собственности. Следовательно, мы не сможем удалить строки с пропусками, так как это значительно исказит распределение признака \"количество баллов собственности\"."
   ]
  },
  {
   "cell_type": "code",
   "execution_count": 40,
   "metadata": {},
   "outputs": [
    {
     "data": {
      "image/png": "[encoded data removed]",
      "text/plain": [
       "<Figure size 720x432 with 1 Axes>"
      ]
     },
     "metadata": {
      "needs_background": "light"
     },
     "output_type": "display_data"
    }
   ],
   "source": [
    "plt.figure(figsize=(10,6))\n",
    "no_balance_data['est_salary'].hist(bins=200)\n",
    "plt.title('Распределение клиентов с пропусками в столбце balance по зарплате')\n",
    "plt.xlabel('Зарплата (млн. руб.)')\n",
    "plt.ylabel('Кол-во клиентов');"
   ]
  },
  {
   "cell_type": "code",
   "execution_count": 41,
   "metadata": {},
   "outputs": [
    {
     "data": {
      "image/png": "[encoded data removed]",
      "text/plain": [
       "<Figure size 720x432 with 1 Axes>"
      ]
     },
     "metadata": {
      "needs_background": "light"
     },
     "output_type": "display_data"
    }
   ],
   "source": [
    "plt.figure(figsize=(10,6))\n",
    "balance_data['est_salary'].hist(bins=200)\n",
    "plt.title('Распределение клиентов без пропусков в столбце balance по зарплате')\n",
    "plt.xlabel('Зарплата (млн. руб.)')\n",
    "plt.ylabel('Кол-во клиентов');"
   ]
  },
  {
   "cell_type": "markdown",
   "metadata": {},
   "source": [
    "Распределение данных о зарплате среди пользователей с пропусками и без похоже, разница заключается в том, что распределение клиентов с пропусками смещено вправо."
   ]
  },
  {
   "cell_type": "code",
   "execution_count": 42,
   "metadata": {},
   "outputs": [
    {
     "data": {
      "image/png": "[encoded data removed]",
      "text/plain": [
       "<Figure size 720x432 with 1 Axes>"
      ]
     },
     "metadata": {
      "needs_background": "light"
     },
     "output_type": "display_data"
    }
   ],
   "source": [
    "plt.figure(figsize=(10,6))\n",
    "no_balance_data['score'].hist(bins=50)\n",
    "plt.title('Распределение клиентов с пропусками в столбце balance по кредитному рейтингу')\n",
    "plt.xlabel('Рейтинг')\n",
    "plt.ylabel('Кол-во клиентов');"
   ]
  },
  {
   "cell_type": "code",
   "execution_count": 43,
   "metadata": {},
   "outputs": [
    {
     "data": {
      "image/png": "[encoded data removed]",
      "text/plain": [
       "<Figure size 720x432 with 1 Axes>"
      ]
     },
     "metadata": {
      "needs_background": "light"
     },
     "output_type": "display_data"
    }
   ],
   "source": [
    "plt.figure(figsize=(10,6))\n",
    "balance_data['score'].hist(bins=50)\n",
    "plt.title('Распределение клиентов без пропуска в столбце balance по кредитному рейтингу')\n",
    "plt.xlabel('Рейтинг')\n",
    "plt.ylabel('Кол-во клиентов');"
   ]
  },
  {
   "cell_type": "markdown",
   "metadata": {},
   "source": [
    "Мы можем наблюдать, что у пользователей с пропусками наблюдается провал в распределении рейтинга на интервале от 750 до 875 и всплески на интервалах от 650 до 750 и от 875 до 950. Распределение рейтинга у пользователей без пропусков имеет обратную структуру - практически все значения находятся в интервале от 750 до 950, а на интервале от 950 до 1000 и от 750 до 700 находится минимум значений."
   ]
  },
  {
   "cell_type": "markdown",
   "metadata": {},
   "source": [
    "Для замены пропусков нам нужно отобрать клиентов с балансом, максимально похожих на клиентов, у которых баланс отсутствует, посчитать для их баланса медиану и заменить ею пропуски."
   ]
  },
  {
   "cell_type": "markdown",
   "metadata": {},
   "source": [
    "Наиболее важным для нас критерием является признак churn."
   ]
  },
  {
   "cell_type": "code",
   "execution_count": 44,
   "metadata": {},
   "outputs": [
    {
     "data": {
      "image/png": "[encoded data removed]",
      "text/plain": [
       "<Figure size 720x432 with 1 Axes>"
      ]
     },
     "metadata": {
      "needs_background": "light"
     },
     "output_type": "display_data"
    }
   ],
   "source": [
    "plt.figure(figsize=(10,6))\n",
    "no_balance_data['churn'].hist();\n",
    "plt.title('Распределение клиентов с пропуском в столбце balance по признаку оттока')\n",
    "plt.xlabel('Значение признака')\n",
    "plt.ylabel('Кол-во клиентов');"
   ]
  },
  {
   "cell_type": "markdown",
   "metadata": {},
   "source": [
    "Как мы видим практически все пользователи с пропуском в балансе остались в банке. Следовательно в разрезе отточности пользователи без баланса крайне однородны. Мы можем использовать этот признак для ограничения выборки клиентов, чьи балансы мы используем для расчета медианного баланса для заполнения пропусков."
   ]
  },
  {
   "cell_type": "markdown",
   "metadata": {},
   "source": [
    "Если мы впишем один и тот же баланс во все пропуски, то это очень сильно исказит наши данные. Нам нужен признак, значения которого достаточно разнообразны, чтобы мы могли точнее рассчитать медианные балансы. Также данный признак должен коррелировать с уровнем баланса."
   ]
  },
  {
   "cell_type": "code",
   "execution_count": 45,
   "metadata": {},
   "outputs": [
    {
     "data": {
      "text/html": [
       "<div>\n",
       "<style scoped>\n",
       "    .dataframe tbody tr th:only-of-type {\n",
       "        vertical-align: middle;\n",
       "    }\n",
       "\n",
       "    .dataframe tbody tr th {\n",
       "        vertical-align: top;\n",
       "    }\n",
       "\n",
       "    .dataframe thead th {\n",
       "        text-align: right;\n",
       "    }\n",
       "</style>\n",
       "<table border=\"1\" class=\"dataframe\">\n",
       "  <thead>\n",
       "    <tr style=\"text-align: right;\">\n",
       "      <th></th>\n",
       "      <th>user_id</th>\n",
       "      <th>score</th>\n",
       "      <th>age</th>\n",
       "      <th>equity</th>\n",
       "      <th>balance</th>\n",
       "      <th>products</th>\n",
       "      <th>credit_card</th>\n",
       "      <th>last_activity</th>\n",
       "      <th>est_salary</th>\n",
       "      <th>churn</th>\n",
       "      <th>balance_is_nan</th>\n",
       "    </tr>\n",
       "  </thead>\n",
       "  <tbody>\n",
       "    <tr>\n",
       "      <th>user_id</th>\n",
       "      <td>1.000000</td>\n",
       "      <td>0.014006</td>\n",
       "      <td>0.000914</td>\n",
       "      <td>-0.000935</td>\n",
       "      <td>0.001524</td>\n",
       "      <td>-0.035318</td>\n",
       "      <td>-0.010321</td>\n",
       "      <td>-0.027602</td>\n",
       "      <td>-0.000774</td>\n",
       "      <td>NaN</td>\n",
       "      <td>NaN</td>\n",
       "    </tr>\n",
       "    <tr>\n",
       "      <th>score</th>\n",
       "      <td>0.014006</td>\n",
       "      <td>1.000000</td>\n",
       "      <td>0.058801</td>\n",
       "      <td>0.267305</td>\n",
       "      <td>0.196649</td>\n",
       "      <td>0.044664</td>\n",
       "      <td>-0.041628</td>\n",
       "      <td>-0.145866</td>\n",
       "      <td>0.252990</td>\n",
       "      <td>NaN</td>\n",
       "      <td>NaN</td>\n",
       "    </tr>\n",
       "    <tr>\n",
       "      <th>age</th>\n",
       "      <td>0.000914</td>\n",
       "      <td>0.058801</td>\n",
       "      <td>1.000000</td>\n",
       "      <td>0.027300</td>\n",
       "      <td>0.076211</td>\n",
       "      <td>0.017201</td>\n",
       "      <td>-0.134459</td>\n",
       "      <td>0.044891</td>\n",
       "      <td>-0.060447</td>\n",
       "      <td>NaN</td>\n",
       "      <td>NaN</td>\n",
       "    </tr>\n",
       "    <tr>\n",
       "      <th>equity</th>\n",
       "      <td>-0.000935</td>\n",
       "      <td>0.267305</td>\n",
       "      <td>0.027300</td>\n",
       "      <td>1.000000</td>\n",
       "      <td>0.155243</td>\n",
       "      <td>0.105371</td>\n",
       "      <td>-0.054169</td>\n",
       "      <td>-0.029758</td>\n",
       "      <td>0.068683</td>\n",
       "      <td>NaN</td>\n",
       "      <td>NaN</td>\n",
       "    </tr>\n",
       "    <tr>\n",
       "      <th>balance</th>\n",
       "      <td>0.001524</td>\n",
       "      <td>0.196649</td>\n",
       "      <td>0.076211</td>\n",
       "      <td>0.155243</td>\n",
       "      <td>1.000000</td>\n",
       "      <td>0.044358</td>\n",
       "      <td>-0.046309</td>\n",
       "      <td>-0.002632</td>\n",
       "      <td>0.299499</td>\n",
       "      <td>NaN</td>\n",
       "      <td>NaN</td>\n",
       "    </tr>\n",
       "    <tr>\n",
       "      <th>products</th>\n",
       "      <td>-0.035318</td>\n",
       "      <td>0.044664</td>\n",
       "      <td>0.017201</td>\n",
       "      <td>0.105371</td>\n",
       "      <td>0.044358</td>\n",
       "      <td>1.000000</td>\n",
       "      <td>-0.305661</td>\n",
       "      <td>0.057776</td>\n",
       "      <td>-0.015246</td>\n",
       "      <td>NaN</td>\n",
       "      <td>NaN</td>\n",
       "    </tr>\n",
       "    <tr>\n",
       "      <th>credit_card</th>\n",
       "      <td>-0.010321</td>\n",
       "      <td>-0.041628</td>\n",
       "      <td>-0.134459</td>\n",
       "      <td>-0.054169</td>\n",
       "      <td>-0.046309</td>\n",
       "      <td>-0.305661</td>\n",
       "      <td>1.000000</td>\n",
       "      <td>-0.006506</td>\n",
       "      <td>-0.026073</td>\n",
       "      <td>NaN</td>\n",
       "      <td>NaN</td>\n",
       "    </tr>\n",
       "    <tr>\n",
       "      <th>last_activity</th>\n",
       "      <td>-0.027602</td>\n",
       "      <td>-0.145866</td>\n",
       "      <td>0.044891</td>\n",
       "      <td>-0.029758</td>\n",
       "      <td>-0.002632</td>\n",
       "      <td>0.057776</td>\n",
       "      <td>-0.006506</td>\n",
       "      <td>1.000000</td>\n",
       "      <td>-0.068641</td>\n",
       "      <td>NaN</td>\n",
       "      <td>NaN</td>\n",
       "    </tr>\n",
       "    <tr>\n",
       "      <th>est_salary</th>\n",
       "      <td>-0.000774</td>\n",
       "      <td>0.252990</td>\n",
       "      <td>-0.060447</td>\n",
       "      <td>0.068683</td>\n",
       "      <td>0.299499</td>\n",
       "      <td>-0.015246</td>\n",
       "      <td>-0.026073</td>\n",
       "      <td>-0.068641</td>\n",
       "      <td>1.000000</td>\n",
       "      <td>NaN</td>\n",
       "      <td>NaN</td>\n",
       "    </tr>\n",
       "    <tr>\n",
       "      <th>churn</th>\n",
       "      <td>NaN</td>\n",
       "      <td>NaN</td>\n",
       "      <td>NaN</td>\n",
       "      <td>NaN</td>\n",
       "      <td>NaN</td>\n",
       "      <td>NaN</td>\n",
       "      <td>NaN</td>\n",
       "      <td>NaN</td>\n",
       "      <td>NaN</td>\n",
       "      <td>NaN</td>\n",
       "      <td>NaN</td>\n",
       "    </tr>\n",
       "    <tr>\n",
       "      <th>balance_is_nan</th>\n",
       "      <td>NaN</td>\n",
       "      <td>NaN</td>\n",
       "      <td>NaN</td>\n",
       "      <td>NaN</td>\n",
       "      <td>NaN</td>\n",
       "      <td>NaN</td>\n",
       "      <td>NaN</td>\n",
       "      <td>NaN</td>\n",
       "      <td>NaN</td>\n",
       "      <td>NaN</td>\n",
       "      <td>NaN</td>\n",
       "    </tr>\n",
       "  </tbody>\n",
       "</table>\n",
       "</div>"
      ],
      "text/plain": [
       "                 user_id     score       age    equity   balance  products  \\\n",
       "user_id         1.000000  0.014006  0.000914 -0.000935  0.001524 -0.035318   \n",
       "score           0.014006  1.000000  0.058801  0.267305  0.196649  0.044664   \n",
       "age             0.000914  0.058801  1.000000  0.027300  0.076211  0.017201   \n",
       "equity         -0.000935  0.267305  0.027300  1.000000  0.155243  0.105371   \n",
       "balance         0.001524  0.196649  0.076211  0.155243  1.000000  0.044358   \n",
       "products       -0.035318  0.044664  0.017201  0.105371  0.044358  1.000000   \n",
       "credit_card    -0.010321 -0.041628 -0.134459 -0.054169 -0.046309 -0.305661   \n",
       "last_activity  -0.027602 -0.145866  0.044891 -0.029758 -0.002632  0.057776   \n",
       "est_salary     -0.000774  0.252990 -0.060447  0.068683  0.299499 -0.015246   \n",
       "churn                NaN       NaN       NaN       NaN       NaN       NaN   \n",
       "balance_is_nan       NaN       NaN       NaN       NaN       NaN       NaN   \n",
       "\n",
       "                credit_card  last_activity  est_salary  churn  balance_is_nan  \n",
       "user_id           -0.010321      -0.027602   -0.000774    NaN             NaN  \n",
       "score             -0.041628      -0.145866    0.252990    NaN             NaN  \n",
       "age               -0.134459       0.044891   -0.060447    NaN             NaN  \n",
       "equity            -0.054169      -0.029758    0.068683    NaN             NaN  \n",
       "balance           -0.046309      -0.002632    0.299499    NaN             NaN  \n",
       "products          -0.305661       0.057776   -0.015246    NaN             NaN  \n",
       "credit_card        1.000000      -0.006506   -0.026073    NaN             NaN  \n",
       "last_activity     -0.006506       1.000000   -0.068641    NaN             NaN  \n",
       "est_salary        -0.026073      -0.068641    1.000000    NaN             NaN  \n",
       "churn                   NaN            NaN         NaN    NaN             NaN  \n",
       "balance_is_nan          NaN            NaN         NaN    NaN             NaN  "
      ]
     },
     "execution_count": 45,
     "metadata": {},
     "output_type": "execute_result"
    }
   ],
   "source": [
    "balance_data[balance_data['churn'] == 0].corr()"
   ]
  },
  {
   "cell_type": "markdown",
   "metadata": {},
   "source": [
    "Наибольшее корреляция наблюдается у баланса и ожидаемой зарплаты. Однако ожидаемая зарплата рассчитана с точностью до копеек, поэтому при расчетах возникнут ситуации, когда нет одинаковых зарплат для расчета медианного баланса.\n",
    "\n",
    "Создадим дополнительный столбец, где будут указаны зарплаты, округленные до десятков тысяч рублей."
   ]
  },
  {
   "cell_type": "code",
   "execution_count": 46,
   "metadata": {},
   "outputs": [],
   "source": [
    "data['salary_round'] = round(data['est_salary']/10000, 0).astype('int')"
   ]
  },
  {
   "cell_type": "code",
   "execution_count": 47,
   "metadata": {},
   "outputs": [],
   "source": [
    "fill_data = data[(data['balance'].isna() == False) & (data['churn'] == 0)]"
   ]
  },
  {
   "cell_type": "code",
   "execution_count": 48,
   "metadata": {},
   "outputs": [
    {
     "data": {
      "text/html": [
       "<div>\n",
       "<style scoped>\n",
       "    .dataframe tbody tr th:only-of-type {\n",
       "        vertical-align: middle;\n",
       "    }\n",
       "\n",
       "    .dataframe tbody tr th {\n",
       "        vertical-align: top;\n",
       "    }\n",
       "\n",
       "    .dataframe thead th {\n",
       "        text-align: right;\n",
       "    }\n",
       "</style>\n",
       "<table border=\"1\" class=\"dataframe\">\n",
       "  <thead>\n",
       "    <tr style=\"text-align: right;\">\n",
       "      <th></th>\n",
       "      <th>user_id</th>\n",
       "      <th>score</th>\n",
       "      <th>city</th>\n",
       "      <th>gender</th>\n",
       "      <th>age</th>\n",
       "      <th>equity</th>\n",
       "      <th>balance</th>\n",
       "      <th>products</th>\n",
       "      <th>credit_card</th>\n",
       "      <th>last_activity</th>\n",
       "      <th>est_salary</th>\n",
       "      <th>churn</th>\n",
       "      <th>balance_is_nan</th>\n",
       "      <th>salary_round</th>\n",
       "    </tr>\n",
       "  </thead>\n",
       "  <tbody>\n",
       "    <tr>\n",
       "      <th>0</th>\n",
       "      <td>183012</td>\n",
       "      <td>850.0</td>\n",
       "      <td>Рыбинск</td>\n",
       "      <td>Ж</td>\n",
       "      <td>25.0</td>\n",
       "      <td>1</td>\n",
       "      <td>59214.82</td>\n",
       "      <td>2</td>\n",
       "      <td>0</td>\n",
       "      <td>1</td>\n",
       "      <td>75719.14</td>\n",
       "      <td>1</td>\n",
       "      <td>False</td>\n",
       "      <td>8</td>\n",
       "    </tr>\n",
       "    <tr>\n",
       "      <th>1</th>\n",
       "      <td>146556</td>\n",
       "      <td>861.0</td>\n",
       "      <td>Рыбинск</td>\n",
       "      <td>Ж</td>\n",
       "      <td>37.0</td>\n",
       "      <td>5</td>\n",
       "      <td>850594.33</td>\n",
       "      <td>3</td>\n",
       "      <td>1</td>\n",
       "      <td>0</td>\n",
       "      <td>86621.77</td>\n",
       "      <td>0</td>\n",
       "      <td>False</td>\n",
       "      <td>9</td>\n",
       "    </tr>\n",
       "    <tr>\n",
       "      <th>2</th>\n",
       "      <td>120722</td>\n",
       "      <td>892.0</td>\n",
       "      <td>Рыбинск</td>\n",
       "      <td>Ж</td>\n",
       "      <td>30.0</td>\n",
       "      <td>0</td>\n",
       "      <td>NaN</td>\n",
       "      <td>1</td>\n",
       "      <td>1</td>\n",
       "      <td>1</td>\n",
       "      <td>107683.34</td>\n",
       "      <td>0</td>\n",
       "      <td>True</td>\n",
       "      <td>11</td>\n",
       "    </tr>\n",
       "    <tr>\n",
       "      <th>3</th>\n",
       "      <td>225363</td>\n",
       "      <td>866.0</td>\n",
       "      <td>Ярославль</td>\n",
       "      <td>Ж</td>\n",
       "      <td>51.0</td>\n",
       "      <td>5</td>\n",
       "      <td>1524746.26</td>\n",
       "      <td>2</td>\n",
       "      <td>0</td>\n",
       "      <td>1</td>\n",
       "      <td>174423.53</td>\n",
       "      <td>1</td>\n",
       "      <td>False</td>\n",
       "      <td>17</td>\n",
       "    </tr>\n",
       "    <tr>\n",
       "      <th>4</th>\n",
       "      <td>157978</td>\n",
       "      <td>730.0</td>\n",
       "      <td>Ярославль</td>\n",
       "      <td>М</td>\n",
       "      <td>34.0</td>\n",
       "      <td>5</td>\n",
       "      <td>174.00</td>\n",
       "      <td>1</td>\n",
       "      <td>1</td>\n",
       "      <td>0</td>\n",
       "      <td>67353.16</td>\n",
       "      <td>1</td>\n",
       "      <td>False</td>\n",
       "      <td>7</td>\n",
       "    </tr>\n",
       "  </tbody>\n",
       "</table>\n",
       "</div>"
      ],
      "text/plain": [
       "   user_id  score       city gender   age  equity     balance  products  \\\n",
       "0   183012  850.0    Рыбинск      Ж  25.0       1    59214.82         2   \n",
       "1   146556  861.0    Рыбинск      Ж  37.0       5   850594.33         3   \n",
       "2   120722  892.0    Рыбинск      Ж  30.0       0         NaN         1   \n",
       "3   225363  866.0  Ярославль      Ж  51.0       5  1524746.26         2   \n",
       "4   157978  730.0  Ярославль      М  34.0       5      174.00         1   \n",
       "\n",
       "   credit_card  last_activity  est_salary  churn  balance_is_nan  salary_round  \n",
       "0            0              1    75719.14      1           False             8  \n",
       "1            1              0    86621.77      0           False             9  \n",
       "2            1              1   107683.34      0            True            11  \n",
       "3            0              1   174423.53      1           False            17  \n",
       "4            1              0    67353.16      1           False             7  "
      ]
     },
     "execution_count": 48,
     "metadata": {},
     "output_type": "execute_result"
    }
   ],
   "source": [
    "data.head()"
   ]
  },
  {
   "cell_type": "code",
   "execution_count": 49,
   "metadata": {},
   "outputs": [],
   "source": [
    "for salary in data['salary_round'].unique():\n",
    "        data.loc[(data['balance'].isna()) & (data['salary_round'] == salary), 'balance'] \\\n",
    "        = fill_data.loc[(fill_data['salary_round'] == salary), 'balance'].median() "
   ]
  },
  {
   "cell_type": "code",
   "execution_count": 50,
   "metadata": {},
   "outputs": [
    {
     "data": {
      "text/plain": [
       "84"
      ]
     },
     "execution_count": 50,
     "metadata": {},
     "output_type": "execute_result"
    }
   ],
   "source": [
    "data['balance'].isna().sum()"
   ]
  },
  {
   "cell_type": "markdown",
   "metadata": {},
   "source": [
    "У нас осталось 84 пропуска. Вероятно, для данных клиентов не нашлось данных с таким же **salary_round**. Однако теперь пропусков мало (менее 1% от общего количества строк), пожтому мы можем удалить их."
   ]
  },
  {
   "cell_type": "code",
   "execution_count": 51,
   "metadata": {},
   "outputs": [],
   "source": [
    "data = data[data['balance'].isna() == False]"
   ]
  },
  {
   "cell_type": "code",
   "execution_count": 52,
   "metadata": {},
   "outputs": [
    {
     "name": "stdout",
     "output_type": "stream",
     "text": [
      "<class 'pandas.core.frame.DataFrame'>\n",
      "Int64Index: 9890 entries, 0 to 9999\n",
      "Data columns (total 14 columns):\n",
      " #   Column          Non-Null Count  Dtype  \n",
      "---  ------          --------------  -----  \n",
      " 0   user_id         9890 non-null   int64  \n",
      " 1   score           9890 non-null   float64\n",
      " 2   city            9890 non-null   object \n",
      " 3   gender          9890 non-null   object \n",
      " 4   age             9890 non-null   float64\n",
      " 5   equity          9890 non-null   int64  \n",
      " 6   balance         9890 non-null   float64\n",
      " 7   products        9890 non-null   int64  \n",
      " 8   credit_card     9890 non-null   int64  \n",
      " 9   last_activity   9890 non-null   int64  \n",
      " 10  est_salary      9890 non-null   float64\n",
      " 11  churn           9890 non-null   int64  \n",
      " 12  balance_is_nan  9890 non-null   bool   \n",
      " 13  salary_round    9890 non-null   int32  \n",
      "dtypes: bool(1), float64(4), int32(1), int64(6), object(2)\n",
      "memory usage: 1.0+ MB\n"
     ]
    }
   ],
   "source": [
    "data.info()"
   ]
  },
  {
   "cell_type": "code",
   "execution_count": 53,
   "metadata": {},
   "outputs": [],
   "source": [
    "data = data.query('products != 0')"
   ]
  },
  {
   "cell_type": "markdown",
   "metadata": {},
   "source": [
    "Пропуски обработаны."
   ]
  },
  {
   "cell_type": "markdown",
   "metadata": {},
   "source": []
  },
  {
   "cell_type": "markdown",
   "metadata": {},
   "source": [
    "<a id='ch4.4' ></a>\n",
    "## Изменение типов данных"
   ]
  },
  {
   "cell_type": "markdown",
   "metadata": {},
   "source": [
    "В столбце **score** только целые значения, поэтому заменим тип данных с **float** на **int**."
   ]
  },
  {
   "cell_type": "code",
   "execution_count": 54,
   "metadata": {},
   "outputs": [],
   "source": [
    "data['score'] = data['score'].astype('int')"
   ]
  },
  {
   "cell_type": "code",
   "execution_count": 55,
   "metadata": {},
   "outputs": [],
   "source": [
    "data['age'] = data['age'].astype('int')"
   ]
  },
  {
   "cell_type": "code",
   "execution_count": 56,
   "metadata": {},
   "outputs": [
    {
     "name": "stdout",
     "output_type": "stream",
     "text": [
      "<class 'pandas.core.frame.DataFrame'>\n",
      "Int64Index: 9889 entries, 0 to 9999\n",
      "Data columns (total 14 columns):\n",
      " #   Column          Non-Null Count  Dtype  \n",
      "---  ------          --------------  -----  \n",
      " 0   user_id         9889 non-null   int64  \n",
      " 1   score           9889 non-null   int32  \n",
      " 2   city            9889 non-null   object \n",
      " 3   gender          9889 non-null   object \n",
      " 4   age             9889 non-null   int32  \n",
      " 5   equity          9889 non-null   int64  \n",
      " 6   balance         9889 non-null   float64\n",
      " 7   products        9889 non-null   int64  \n",
      " 8   credit_card     9889 non-null   int64  \n",
      " 9   last_activity   9889 non-null   int64  \n",
      " 10  est_salary      9889 non-null   float64\n",
      " 11  churn           9889 non-null   int64  \n",
      " 12  balance_is_nan  9889 non-null   bool   \n",
      " 13  salary_round    9889 non-null   int32  \n",
      "dtypes: bool(1), float64(2), int32(3), int64(6), object(2)\n",
      "memory usage: 975.4+ KB\n"
     ]
    }
   ],
   "source": [
    "data.info()"
   ]
  },
  {
   "cell_type": "markdown",
   "metadata": {},
   "source": [
    "Типы данных изменены на более подходящие."
   ]
  },
  {
   "cell_type": "markdown",
   "metadata": {},
   "source": [
    "<a id='ch4.5' ></a>\n",
    "## Итоги предобработки"
   ]
  },
  {
   "cell_type": "markdown",
   "metadata": {},
   "source": [
    "На этапе предобработки данных мы обнаружили 73 дубликата. После их изучения мы установили, что скорее всего возникновение дубликатов связано со сбоем регистрации новых клиентов, из-за которого в какой-то момент клиенты, становившиеся клиентами банка в разных городах: Ярославле и Рыбинске получали одинаковый ID.\n",
    "\n",
    "Мы присвоили клиентам-\"дубликатам\" незанятые ID, тем самым сохранив их в датафрейме.\n",
    "***\n",
    "В датафрейме было 26 пользователей с пропуском в столбце **age**. В связи с малочисленностью строк с пропуском мы смогли визуально их изучить и установили, что скорее всего пропуски возникли случайно. По причине небольшого количества строк с пропусками в столбце **age** мы удалили их.\n",
    "\n",
    "Также у нас было 2295 пользователей с пропуском в столбце **balance**. Мы выяснили, что кредитный рейтинг пользователей с пропусками практически не пересекается с кредитным рейтингом пользователей без пропусков. Также практически все пользователи с пропуском в балансе остались в банке, то есть мы видим связь пропусков с данными и можем говорить о том, что данные пропуски отностся к типу **MNAR**. В связи с этим возможности удаления пропусков у нас не было.\n",
    "\n",
    "Также мы установили, что практически все клиенты с пропусками в балансе остаются лояльными банку. Поэтому для заполнения пропусков мы использовали сведения о балансе пользователей, которые лояльны банку.\n",
    "\n",
    "Для обеспечения максимально гибкого подхода к заполнению пропусков мы выбрали непрерывный признак, наиболее коррелирующий с уровнем баланса - ожидаемую зарплату. Затем мы создали дополнительный столбец, где указана зарплата, округленная до десятков тысяч. Это позволило нам избежать проблемы, связанной с тем, что каждая зарплата рассчитана с точностью до копейки и поэтому практически уникальна. Затем мы заполнили пропуски медианными балансами лояльных клиентов с такой же зарплатой (в десятках тысяч). После этого у нас осталось всего 84 пропуска - менее 1% от общего количества строк. Эти строки мы удалили в виду их малочисленности.\n",
    "***\n",
    "У столбцов **score** и **age**  тип данных изначально был **float**, однако в этих столбцах представлены только целые числа, поэтому мы изменили тип данных на **int**."
   ]
  },
  {
   "cell_type": "markdown",
   "metadata": {},
   "source": [
    "<a id='ch5' ></a>\n",
    "# Исследовательский анализ данных"
   ]
  },
  {
   "cell_type": "markdown",
   "metadata": {},
   "source": [
    "<a id='ch5.1' ></a>\n",
    "## Сравнительный анализ распределений различных признаков в разрезе оттока."
   ]
  },
  {
   "cell_type": "markdown",
   "metadata": {},
   "source": [
    "Сравним распределение непрерывных признаков для ушедших и оставшихся клиентов, чтобы выявить отличия в распределениях, так как они могут быть ключом к причине ухода клиентов. Для наибольшей наглядности будем строить гистограммы или боксплоты."
   ]
  },
  {
   "cell_type": "code",
   "execution_count": 57,
   "metadata": {
    "scrolled": true
   },
   "outputs": [
    {
     "data": {
      "text/plain": [
       "1817"
      ]
     },
     "execution_count": 57,
     "metadata": {},
     "output_type": "execute_result"
    }
   ],
   "source": [
    "data[data['churn'] == 1]['churn'].count()"
   ]
  },
  {
   "cell_type": "code",
   "execution_count": 58,
   "metadata": {},
   "outputs": [
    {
     "data": {
      "text/plain": [
       "8072"
      ]
     },
     "execution_count": 58,
     "metadata": {},
     "output_type": "execute_result"
    }
   ],
   "source": [
    "data[data['churn'] == 0]['churn'].count()"
   ]
  },
  {
   "cell_type": "code",
   "execution_count": 59,
   "metadata": {
    "scrolled": true
   },
   "outputs": [
    {
     "data": {
      "text/plain": [
       "0.2251"
      ]
     },
     "execution_count": 59,
     "metadata": {},
     "output_type": "execute_result"
    }
   ],
   "source": [
    "round(data[data['churn'] == 1]['churn'].count()/data[data['churn'] == 0]['churn'].count(), 4)"
   ]
  },
  {
   "cell_type": "markdown",
   "metadata": {},
   "source": [
    "В нашем датафрейме оставшихся пользователей почти в 5 раз больше чем ушедших: 8155 против 1819."
   ]
  },
  {
   "cell_type": "code",
   "execution_count": 60,
   "metadata": {},
   "outputs": [
    {
     "data": {
      "text/plain": [
       "0.1837"
      ]
     },
     "execution_count": 60,
     "metadata": {},
     "output_type": "execute_result"
    }
   ],
   "source": [
    "mean_churn = round(data[data['churn'] == 1]['churn'].count()/data['churn'].count(), 4)\n",
    "mean_churn"
   ]
  },
  {
   "cell_type": "markdown",
   "metadata": {},
   "source": [
    "Доля ушедших клиентов составляет 0.1838 или 18.38%."
   ]
  },
  {
   "cell_type": "markdown",
   "metadata": {},
   "source": [
    "<div class=\"alert alert-block alert-success\">✔️\n",
    "    \n",
    "\n",
    "__Комментарий от тимлида №1__\n",
    "\n",
    "Среднебанковский отток найден правильно"
   ]
  },
  {
   "cell_type": "markdown",
   "metadata": {},
   "source": [
    "<a id='ch5.1.1' ></a>\n",
    "### Возраст"
   ]
  },
  {
   "cell_type": "code",
   "execution_count": 61,
   "metadata": {},
   "outputs": [
    {
     "data": {
      "image/png": "[encoded data removed]",
      "text/plain": [
       "<Figure size 864x576 with 1 Axes>"
      ]
     },
     "metadata": {
      "needs_background": "light"
     },
     "output_type": "display_data"
    }
   ],
   "source": [
    "plt.figure(figsize=(12,8))\n",
    "sns.histplot(x='age', data=data, hue='churn', stat=\"density\", common_norm=False, bins=max(data['age']) - min(data['age']) + 1)\n",
    "plt.title('Распределение клиентов по возрасту в разрезе отточности');"
   ]
  },
  {
   "cell_type": "markdown",
   "metadata": {},
   "source": [
    "На графике видны 2 \"рисковые\" возрастные группы, где количество ушедших клиентов превышает количество оставшихся:\n",
    "- от 25 до 35 лет;\n",
    "- от 50 до 60 лет."
   ]
  },
  {
   "cell_type": "markdown",
   "metadata": {},
   "source": [
    "<a id='ch5.1.2' ></a>\n",
    "### Кредитный рейтинг"
   ]
  },
  {
   "cell_type": "code",
   "execution_count": 62,
   "metadata": {
    "scrolled": false
   },
   "outputs": [
    {
     "data": {
      "image/png": "[encoded data removed]",
      "text/plain": [
       "<Figure size 864x576 with 1 Axes>"
      ]
     },
     "metadata": {
      "needs_background": "light"
     },
     "output_type": "display_data"
    }
   ],
   "source": [
    "plt.figure(figsize=(12,8))\n",
    "sns.histplot(x='score', data=data, hue='churn', stat=\"density\", common_norm=False, bins=50)\n",
    "plt.title('Распределение клиентов по кредитному рейтингу в разрезе отточности');"
   ]
  },
  {
   "cell_type": "markdown",
   "metadata": {},
   "source": [
    "Рисковой группой являются клиенты с кредитным рейтингом выше среднего - от 820 до 940."
   ]
  },
  {
   "cell_type": "markdown",
   "metadata": {},
   "source": [
    "<a id='ch5.1.3' ></a>\n",
    "### Баланс"
   ]
  },
  {
   "cell_type": "markdown",
   "metadata": {},
   "source": [
    "В столбце **balance** присутствуют экстремальные выбросы, поэтому мы ограничим данные, которые попадут на гистограмму, чтобы обеспечить наглядность. Сверхбольшие счета мы рассмотрим отдельно."
   ]
  },
  {
   "cell_type": "code",
   "execution_count": 63,
   "metadata": {},
   "outputs": [
    {
     "data": {
      "text/plain": [
       "2302167.338000001"
      ]
     },
     "execution_count": 63,
     "metadata": {},
     "output_type": "execute_result"
    }
   ],
   "source": [
    "np.percentile(data['balance'], 95)"
   ]
  },
  {
   "cell_type": "markdown",
   "metadata": {},
   "source": [
    "Рассмотрим клиентов, у которых баланс ниже 2 300 000 руб."
   ]
  },
  {
   "cell_type": "code",
   "execution_count": 64,
   "metadata": {
    "scrolled": false
   },
   "outputs": [
    {
     "data": {
      "image/png": "[encoded data removed]",
      "text/plain": [
       "<Figure size 864x576 with 1 Axes>"
      ]
     },
     "metadata": {
      "needs_background": "light"
     },
     "output_type": "display_data"
    }
   ],
   "source": [
    "plt.figure(figsize=(12,8))\n",
    "sns.histplot(x='balance', data=data[data['balance'] <= 2300000], hue='churn', stat=\"density\", common_norm=False, bins=100)\n",
    "plt.title('Распределение клиентов по кредитному рейтингу в разрезе отточности');"
   ]
  },
  {
   "cell_type": "markdown",
   "metadata": {},
   "source": [
    "Мы видим, что начиная от суммы на балансе равной примерно 800 000 рублей, заметна тенденция на уход из банка, и чем больше сумма, тем сильнее отток клиентов."
   ]
  },
  {
   "cell_type": "code",
   "execution_count": 65,
   "metadata": {
    "scrolled": true
   },
   "outputs": [
    {
     "data": {
      "text/plain": [
       "0.321285140562249"
      ]
     },
     "execution_count": 65,
     "metadata": {},
     "output_type": "execute_result"
    }
   ],
   "source": [
    "data[(data['balance'] > 2300000) & (data['churn'] == 1)]['user_id'].count()/data[data['balance'] > 2300000]['user_id'].count()"
   ]
  },
  {
   "cell_type": "code",
   "execution_count": 66,
   "metadata": {},
   "outputs": [
    {
     "data": {
      "text/plain": [
       "0.016179593487713622"
      ]
     },
     "execution_count": 66,
     "metadata": {},
     "output_type": "execute_result"
    }
   ],
   "source": [
    "data[(data['balance'] > 2300000) & (data['churn'] == 1)]['user_id'].count()/data['user_id'].count()"
   ]
  },
  {
   "cell_type": "markdown",
   "metadata": {},
   "source": [
    "Среди клиентов со сверхбольшими балансами (больше 2 300 000 рублей) почти треть отказались от услуг банка. И пусть относительно общего количества клиентов их доля незначительна (1.6%), но клиенты с крупными счетами крайне важны для банков, особенно если банк является региональным. Поэтому для данной категории клиентов тоже нужно предложить какие-либо рекомендации."
   ]
  },
  {
   "cell_type": "markdown",
   "metadata": {},
   "source": [
    "<a id='ch5.1.4' ></a>\n",
    "### Зарплата"
   ]
  },
  {
   "cell_type": "code",
   "execution_count": 67,
   "metadata": {},
   "outputs": [
    {
     "data": {
      "image/png": "[encoded data removed]",
      "text/plain": [
       "<Figure size 864x576 with 1 Axes>"
      ]
     },
     "metadata": {
      "needs_background": "light"
     },
     "output_type": "display_data"
    }
   ],
   "source": [
    "plt.figure(figsize=(12,8))\n",
    "sns.histplot(x='est_salary', data=data[data['est_salary'] <= 750000], hue='churn', stat=\"density\", common_norm=False, bins=100)\n",
    "plt.title('Распределение клиентов по ожидаемому уровню зарплаты в разрезе отточности');"
   ]
  },
  {
   "cell_type": "markdown",
   "metadata": {},
   "source": [
    "В зону риска оттока попадают клиенты с зарплатой более 100 000 рублей. Это перекликается с признаком суммы на балансе, где также в зоне риска были люди с большими суммами. Вероятно, в банке не развито направление по работе с премиальными клиентами."
   ]
  },
  {
   "cell_type": "markdown",
   "metadata": {},
   "source": [
    "<a id='ch5.1.5' ></a>\n",
    "### Дискретные и категориальные признаки"
   ]
  },
  {
   "cell_type": "markdown",
   "metadata": {},
   "source": [
    "Для анализа оттока по дискретным и категориальным признаком в наибольшей степени подойдут столбчатые диаграммы. Также построение барплотов не предполагает точечных настроек графиков, поэтому мы можем создать функцию, которая построит по всем интересующим нас признакам."
   ]
  },
  {
   "cell_type": "code",
   "execution_count": 68,
   "metadata": {},
   "outputs": [],
   "source": [
    "def barplot_builder(features = []):\n",
    "    for elem in features:\n",
    "        plt.figure(figsize=(10,10))\n",
    "        sns.barplot(x=elem, y='churn', data=data)\n",
    "        plt.title(f'Доля ушедших клиентов с разбивкой по признаку {elem}', fontsize=18)\n",
    "        plt.xlabel(f'Значения признака {elem}')\n",
    "        plt.ylabel('Доля ушедших клиентов', fontsize=14)\n",
    "        plt.xticks(fontsize=12)\n",
    "        plt.axhline(mean_churn, color='r', linestyle='--', label='Средний уровень оттока')\n",
    "        plt.legend(fontsize=14)\n",
    "        plt.show();"
   ]
  },
  {
   "cell_type": "code",
   "execution_count": 69,
   "metadata": {
    "scrolled": false
   },
   "outputs": [
    {
     "data": {
      "image/png": "[encoded data removed]",
      "text/plain": [
       "<Figure size 720x720 with 1 Axes>"
      ]
     },
     "metadata": {
      "needs_background": "light"
     },
     "output_type": "display_data"
    },
    {
     "data": {
      "image/png": "[encoded data removed]",
      "text/plain": [
       "<Figure size 720x720 with 1 Axes>"
      ]
     },
     "metadata": {
      "needs_background": "light"
     },
     "output_type": "display_data"
    },
    {
     "data": {
      "image/png": "[encoded data removed]",
      "text/plain": [
       "<Figure size 720x720 with 1 Axes>"
      ]
     },
     "metadata": {
      "needs_background": "light"
     },
     "output_type": "display_data"
    },
    {
     "data": {
      "image/png": "[encoded data removed]",
      "text/plain": [
       "<Figure size 720x720 with 1 Axes>"
      ]
     },
     "metadata": {
      "needs_background": "light"
     },
     "output_type": "display_data"
    },
    {
     "data": {
      "image/png": "[encoded data removed]",
      "text/plain": [
       "<Figure size 720x720 with 1 Axes>"
      ]
     },
     "metadata": {
      "needs_background": "light"
     },
     "output_type": "display_data"
    },
    {
     "data": {
      "image/png": "[encoded data removed]",
      "text/plain": [
       "<Figure size 720x720 with 1 Axes>"
      ]
     },
     "metadata": {
      "needs_background": "light"
     },
     "output_type": "display_data"
    }
   ],
   "source": [
    "barplot_builder(['gender', 'city', 'equity', 'products', 'last_activity', 'credit_card'])"
   ]
  },
  {
   "cell_type": "markdown",
   "metadata": {},
   "source": [
    "Прежде чем анализировать графики обратим внимания на аномальные значения.\n",
    "\n",
    "Судя по графику оттока клиентов с разбивкой по признаку количества продуктов, в датафрейме есть клиенты, у которых количество продуктов равно 0. Такого не может быть, так как клиент банка пользуется как минимум одним продуктом, иначе он не стал бы клиентом.\n"
   ]
  },
  {
   "cell_type": "code",
   "execution_count": 70,
   "metadata": {
    "scrolled": true
   },
   "outputs": [
    {
     "data": {
      "text/html": [
       "<div>\n",
       "<style scoped>\n",
       "    .dataframe tbody tr th:only-of-type {\n",
       "        vertical-align: middle;\n",
       "    }\n",
       "\n",
       "    .dataframe tbody tr th {\n",
       "        vertical-align: top;\n",
       "    }\n",
       "\n",
       "    .dataframe thead th {\n",
       "        text-align: right;\n",
       "    }\n",
       "</style>\n",
       "<table border=\"1\" class=\"dataframe\">\n",
       "  <thead>\n",
       "    <tr style=\"text-align: right;\">\n",
       "      <th></th>\n",
       "      <th>user_id</th>\n",
       "      <th>score</th>\n",
       "      <th>city</th>\n",
       "      <th>gender</th>\n",
       "      <th>age</th>\n",
       "      <th>equity</th>\n",
       "      <th>balance</th>\n",
       "      <th>products</th>\n",
       "      <th>credit_card</th>\n",
       "      <th>last_activity</th>\n",
       "      <th>est_salary</th>\n",
       "      <th>churn</th>\n",
       "      <th>balance_is_nan</th>\n",
       "      <th>salary_round</th>\n",
       "    </tr>\n",
       "  </thead>\n",
       "  <tbody>\n",
       "  </tbody>\n",
       "</table>\n",
       "</div>"
      ],
      "text/plain": [
       "Empty DataFrame\n",
       "Columns: [user_id, score, city, gender, age, equity, balance, products, credit_card, last_activity, est_salary, churn, balance_is_nan, salary_round]\n",
       "Index: []"
      ]
     },
     "execution_count": 70,
     "metadata": {},
     "output_type": "execute_result"
    }
   ],
   "source": [
    "data[data['products'] == 0]"
   ]
  },
  {
   "cell_type": "markdown",
   "metadata": {},
   "source": [
    "Такой пользователь всего один. Скорее всего 0 в столбце **products** вызван ошибкой при вводе данных. Удалим его из датафрейма и не будем учитывать при разработке рекомендаций."
   ]
  },
  {
   "cell_type": "code",
   "execution_count": 71,
   "metadata": {},
   "outputs": [],
   "source": [
    "data = data[data['products'] != 0]"
   ]
  },
  {
   "cell_type": "code",
   "execution_count": 72,
   "metadata": {},
   "outputs": [
    {
     "name": "stdout",
     "output_type": "stream",
     "text": [
      "<class 'pandas.core.frame.DataFrame'>\n",
      "Int64Index: 9889 entries, 0 to 9999\n",
      "Data columns (total 14 columns):\n",
      " #   Column          Non-Null Count  Dtype  \n",
      "---  ------          --------------  -----  \n",
      " 0   user_id         9889 non-null   int64  \n",
      " 1   score           9889 non-null   int32  \n",
      " 2   city            9889 non-null   object \n",
      " 3   gender          9889 non-null   object \n",
      " 4   age             9889 non-null   int32  \n",
      " 5   equity          9889 non-null   int64  \n",
      " 6   balance         9889 non-null   float64\n",
      " 7   products        9889 non-null   int64  \n",
      " 8   credit_card     9889 non-null   int64  \n",
      " 9   last_activity   9889 non-null   int64  \n",
      " 10  est_salary      9889 non-null   float64\n",
      " 11  churn           9889 non-null   int64  \n",
      " 12  balance_is_nan  9889 non-null   bool   \n",
      " 13  salary_round    9889 non-null   int32  \n",
      "dtypes: bool(1), float64(2), int32(3), int64(6), object(2)\n",
      "memory usage: 975.4+ KB\n"
     ]
    }
   ],
   "source": [
    "data.info()"
   ]
  },
  {
   "cell_type": "markdown",
   "metadata": {},
   "source": [
    "***\n",
    "**Важно:** на всех графиках столбцы демонстрируют долю ушедших клиентов от общего количества клиентов, обладающих таким же значением указанного признака, и не отражает абсолютные значения ушедших клиентов. \n",
    "\n",
    "Это означает, что если на диаграмме один столбец выше другого - это не означает ухода большего количества клиентов с данным признаком. \n",
    "\n",
    "Например если предположить, что среди клиентов банка 3 женщины, из которых 2 перестали быть клиентами банка, и 1000 мужчин, из которых 400 перестало быть клиентами банка, то на диаграмме столбец, демонстрирующий долю ушедших женщин будет выше столбца, отображающего долю ушедших мужчин.\n",
    "\n",
    "Это важно учитывать при последующей оценке приоритетности групп клиентов, уход которых нужно предотвратить. Так гораздо важнее предотвратить отток из группы с долей оттока на уровне среднего оттока из банка, в которую входит 8000 клиентов, чем из группы, где доля оттока высока, но в которую при этом входит всего несколько десятков человек.\n",
    "***\n",
    "На графиках мы видим следующее:\n",
    "- **Пол клиента:** доля ушедших мужчин значительно выше доли ушедших женщин и заметно превышает средний уровень по банку.\n",
    "- **Город клиента:** в Ярославле и Ростове отток немного выше чем в среднем по банку, а в Рыбинске заметно ниже.\n",
    "- **Баллы собственности (количество объектов собственности):** Наблюдается явная тенденция - чем больше собственности у клиентов, тем с большей вероятностью они покидают банк. Начиная с трех баллов доля оттока превышает средний уровень по банку.\n",
    "- **Количество продуктов**: Мы видим, что уровень оттока клиентов, у которых 3 и более продуктов значительно превышает средний уровень оттока по банку. Клиенты с двумя продуктами демонстрируют средний отток, а клиенты с одним продуктом имеют уровень оттока более чем в два раза ниже чем в среднем по банку.\n",
    "- **Активность:** наблюдается неожиданный результат: активные клиенты уходят намного чаще чем в среднем по банку, а клиенты, которые не демонстрировали активность в последнее время, наоборот заметно лояльнее чем в среднем по банку. Скорее всего это связано с тем, что банк не может предложить активным пользователям то, что они ождиают получить от банка в современных условиях. Это укладывается в единую картину с тем, что клиенты с высокой зарплатой и большими суммами на счетах являются наименее лояльной категорией клиентов.\n",
    "- **Наличие кредитной карты:** доля оттока у клиентов без кредитной карты выше среднего уровня оттока клиентов из банка. Клиенты с кредитной картой наоборот в меньшей степени склонны отказываться от услуг банка."
   ]
  },
  {
   "cell_type": "markdown",
   "metadata": {},
   "source": [
    "<a id='ch5.2' ></a>\n",
    "## Корреляция признаков"
   ]
  },
  {
   "cell_type": "markdown",
   "metadata": {},
   "source": [
    "Рассмотрим корреляцию признаков между собой, обратив особое внимание на корреляцию с признаком оттока. Можно предположить, что корреляция признаков нелинейна, например если рассматривать зарплату, то разница между 20 000 руб. и 70 000 значительнее чем между 200 000 и 250 000 руб., что также влияет на корреляцию с другими признаками. Поэтому мы используем библиотеку phik, которая позволит посчитать корреляцию с учетом того, к какому типу относится тот или иной признак (непрерывный/дискретный). **Но** данный метод расчета не показывает направленность взаимосвязи. На предыдущем этапе уже оценили направленность взаимосвязи признака отточности с другими признаками, поэтому отсутствие данной информации при расчете корреляции не так критично.\n",
    "\n",
    "Также расчет корреляции по методу phik требует явно указать непрерывные величины. **Непрерывными величинами мы будем считать кредитный рейтинг, сумму на балансе, возраст и зарплату**. .\n",
    "\n",
    "Для оценки и интерпритации  результатов используем шкалу корреляции Чеддока:\n",
    "- 0 – полное отсутствие связи;\n",
    "- 0 – 0.3 – очень слабая;\n",
    "- 0.3 – 0.5 – слабая;\n",
    "- 0.5 – 0.7 – средняя;\n",
    "- 0.7 – 0.9 – высокая;\n",
    "- 0.9 – 1 – очень высокая;\n",
    "- 1 – абсолютная взаимозависимость."
   ]
  },
  {
   "cell_type": "code",
   "execution_count": 73,
   "metadata": {},
   "outputs": [
    {
     "data": {
      "image/png": "[encoded data removed]",
      "text/plain": [
       "<Figure size 720x720 with 2 Axes>"
      ]
     },
     "metadata": {
      "needs_background": "light"
     },
     "output_type": "display_data"
    }
   ],
   "source": [
    "plt.figure(figsize=(10,10))\n",
    "sns.heatmap(data.iloc[:,1:12].phik_matrix(interval_cols=['score', 'balance', 'est_salary', 'age']), cmap='coolwarm', center=0, annot=True);"
   ]
  },
  {
   "cell_type": "markdown",
   "metadata": {},
   "source": [
    "Распределим результаты по группам значимости:\n",
    "1. Средняя корреляция:\n",
    "   - кредитный рейтинг - баллы собственности;\n",
    "   - баллы собственности - количество продуктов.\n",
    "2. Слабая корреляция:\n",
    "   - кредитный рейтинг - количество продуктов;\n",
    "   - кредитный рейтинг - ожидаемая зарплата;\n",
    "   - возраст - ожидаемая зарплата;\n",
    "   - **баллы собственности - признак отточности;**\n",
    "   - баланс - ожидаемая зарплата;\n",
    "Остальные значения корреляции ниже 0.3 и свидетльствуют об очень слабой взаимосвязи.\n",
    "***\n",
    "Отдельно рассмотрим корреляцию признаков с признаком отточности.\n",
    "\n",
    "Так как данный признак является ключевым в нашем исследовании ключевым, то в отношении него мы будем учитывать корреляции с уровнем выше 0.2.\n",
    "\n",
    "1. **Баллы собственности.** Этот признак сильнее остальных коррелирует с признаком отточности. Корреляция равна 0.35.\n",
    "2. **Количество продуктов банка** и **признак активности клиента**. Корреляция каждого из этих признаков с признаком отточности составляет 0.26.\n",
    "3. **Кредитный рейтинг**. Корреляция данного признака с признаком отточности составляет 0.23. Ранее мы уже выяснили, что клиенты с рейтингом выше среднего уходят наиболее активно.\n",
    "4. **Пол**. Корреляция равна 0.22. Ранее мы уже обнаружили, что мужчины значительно чаще женщин уходят из банка."
   ]
  },
  {
   "cell_type": "markdown",
   "metadata": {},
   "source": [
    "<a id='ch5.3' ></a>\n",
    "## Портреты типичных клиентов"
   ]
  },
  {
   "cell_type": "markdown",
   "metadata": {},
   "source": [
    "Сформируем портреты типичного лояльного банку клиента и типичного клиента, который ушел из банка, а затем сравним их основные признаки."
   ]
  },
  {
   "cell_type": "code",
   "execution_count": 74,
   "metadata": {},
   "outputs": [
    {
     "data": {
      "text/html": [
       "<div>\n",
       "<style scoped>\n",
       "    .dataframe tbody tr th:only-of-type {\n",
       "        vertical-align: middle;\n",
       "    }\n",
       "\n",
       "    .dataframe tbody tr th {\n",
       "        vertical-align: top;\n",
       "    }\n",
       "\n",
       "    .dataframe thead th {\n",
       "        text-align: right;\n",
       "    }\n",
       "</style>\n",
       "<table border=\"1\" class=\"dataframe\">\n",
       "  <thead>\n",
       "    <tr style=\"text-align: right;\">\n",
       "      <th></th>\n",
       "      <th>age</th>\n",
       "    </tr>\n",
       "    <tr>\n",
       "      <th>churn</th>\n",
       "      <th></th>\n",
       "    </tr>\n",
       "  </thead>\n",
       "  <tbody>\n",
       "    <tr>\n",
       "      <th>0</th>\n",
       "      <td>43.012017</td>\n",
       "    </tr>\n",
       "    <tr>\n",
       "      <th>1</th>\n",
       "      <td>41.425977</td>\n",
       "    </tr>\n",
       "  </tbody>\n",
       "</table>\n",
       "</div>"
      ],
      "text/plain": [
       "             age\n",
       "churn           \n",
       "0      43.012017\n",
       "1      41.425977"
      ]
     },
     "execution_count": 74,
     "metadata": {},
     "output_type": "execute_result"
    }
   ],
   "source": [
    "data.groupby('churn').agg({'age':'mean'})"
   ]
  },
  {
   "cell_type": "code",
   "execution_count": 75,
   "metadata": {},
   "outputs": [],
   "source": [
    "churn_compare = round(data.pivot_table(columns='churn', aggfunc={'age':['mean', 'median'],\n",
    "                                           'score':['mean', 'median'],\n",
    "                                           'balance':['mean', 'median'],\n",
    "                                           'est_salary':['mean', 'median'],\n",
    "                                           'equity':'median',\n",
    "                                           'products':'median'}), 2)"
   ]
  },
  {
   "cell_type": "code",
   "execution_count": 76,
   "metadata": {},
   "outputs": [],
   "source": [
    "churn_compare['ratio'] = churn_compare[1] - churn_compare[0]"
   ]
  },
  {
   "cell_type": "code",
   "execution_count": 77,
   "metadata": {},
   "outputs": [
    {
     "data": {
      "text/html": [
       "<div>\n",
       "<style scoped>\n",
       "    .dataframe tbody tr th:only-of-type {\n",
       "        vertical-align: middle;\n",
       "    }\n",
       "\n",
       "    .dataframe tbody tr th {\n",
       "        vertical-align: top;\n",
       "    }\n",
       "\n",
       "    .dataframe thead th {\n",
       "        text-align: right;\n",
       "    }\n",
       "</style>\n",
       "<table border=\"1\" class=\"dataframe\">\n",
       "  <thead>\n",
       "    <tr style=\"text-align: right;\">\n",
       "      <th></th>\n",
       "      <th>churn</th>\n",
       "      <th>0</th>\n",
       "      <th>1</th>\n",
       "      <th>ratio</th>\n",
       "    </tr>\n",
       "  </thead>\n",
       "  <tbody>\n",
       "    <tr>\n",
       "      <th rowspan=\"2\" valign=\"top\">age</th>\n",
       "      <th>mean</th>\n",
       "      <td>43.01</td>\n",
       "      <td>41.43</td>\n",
       "      <td>-1.58</td>\n",
       "    </tr>\n",
       "    <tr>\n",
       "      <th>median</th>\n",
       "      <td>40.00</td>\n",
       "      <td>39.00</td>\n",
       "      <td>-1.00</td>\n",
       "    </tr>\n",
       "    <tr>\n",
       "      <th rowspan=\"2\" valign=\"top\">balance</th>\n",
       "      <th>mean</th>\n",
       "      <td>802806.10</td>\n",
       "      <td>1143408.74</td>\n",
       "      <td>340602.64</td>\n",
       "    </tr>\n",
       "    <tr>\n",
       "      <th>median</th>\n",
       "      <td>528486.79</td>\n",
       "      <td>785407.33</td>\n",
       "      <td>256920.54</td>\n",
       "    </tr>\n",
       "    <tr>\n",
       "      <th>equity</th>\n",
       "      <th>median</th>\n",
       "      <td>3.00</td>\n",
       "      <td>4.00</td>\n",
       "      <td>1.00</td>\n",
       "    </tr>\n",
       "    <tr>\n",
       "      <th rowspan=\"2\" valign=\"top\">est_salary</th>\n",
       "      <th>mean</th>\n",
       "      <td>140123.95</td>\n",
       "      <td>148089.95</td>\n",
       "      <td>7966.00</td>\n",
       "    </tr>\n",
       "    <tr>\n",
       "      <th>median</th>\n",
       "      <td>117293.08</td>\n",
       "      <td>125395.22</td>\n",
       "      <td>8102.14</td>\n",
       "    </tr>\n",
       "    <tr>\n",
       "      <th>products</th>\n",
       "      <th>median</th>\n",
       "      <td>2.00</td>\n",
       "      <td>2.00</td>\n",
       "      <td>0.00</td>\n",
       "    </tr>\n",
       "    <tr>\n",
       "      <th rowspan=\"2\" valign=\"top\">score</th>\n",
       "      <th>mean</th>\n",
       "      <td>845.41</td>\n",
       "      <td>863.43</td>\n",
       "      <td>18.02</td>\n",
       "    </tr>\n",
       "    <tr>\n",
       "      <th>median</th>\n",
       "      <td>848.00</td>\n",
       "      <td>866.00</td>\n",
       "      <td>18.00</td>\n",
       "    </tr>\n",
       "  </tbody>\n",
       "</table>\n",
       "</div>"
      ],
      "text/plain": [
       "churn                      0           1      ratio\n",
       "age        mean        43.01       41.43      -1.58\n",
       "           median      40.00       39.00      -1.00\n",
       "balance    mean    802806.10  1143408.74  340602.64\n",
       "           median  528486.79   785407.33  256920.54\n",
       "equity     median       3.00        4.00       1.00\n",
       "est_salary mean    140123.95   148089.95    7966.00\n",
       "           median  117293.08   125395.22    8102.14\n",
       "products   median       2.00        2.00       0.00\n",
       "score      mean       845.41      863.43      18.02\n",
       "           median     848.00      866.00      18.00"
      ]
     },
     "execution_count": 77,
     "metadata": {},
     "output_type": "execute_result"
    }
   ],
   "source": [
    "churn_compare"
   ]
  },
  {
   "cell_type": "code",
   "execution_count": 78,
   "metadata": {
    "scrolled": false
   },
   "outputs": [
    {
     "data": {
      "text/html": [
       "<div>\n",
       "<style scoped>\n",
       "    .dataframe tbody tr th:only-of-type {\n",
       "        vertical-align: middle;\n",
       "    }\n",
       "\n",
       "    .dataframe tbody tr th {\n",
       "        vertical-align: top;\n",
       "    }\n",
       "\n",
       "    .dataframe thead th {\n",
       "        text-align: right;\n",
       "    }\n",
       "</style>\n",
       "<table border=\"1\" class=\"dataframe\">\n",
       "  <thead>\n",
       "    <tr style=\"text-align: right;\">\n",
       "      <th></th>\n",
       "      <th>0</th>\n",
       "      <th>1</th>\n",
       "    </tr>\n",
       "  </thead>\n",
       "  <tbody>\n",
       "    <tr>\n",
       "      <th>city</th>\n",
       "      <td>Ярославль</td>\n",
       "      <td>Ярославль</td>\n",
       "    </tr>\n",
       "    <tr>\n",
       "      <th>gender</th>\n",
       "      <td>Ж</td>\n",
       "      <td>М</td>\n",
       "    </tr>\n",
       "    <tr>\n",
       "      <th>credit_card</th>\n",
       "      <td>1</td>\n",
       "      <td>1</td>\n",
       "    </tr>\n",
       "    <tr>\n",
       "      <th>last_activity</th>\n",
       "      <td>0</td>\n",
       "      <td>1</td>\n",
       "    </tr>\n",
       "  </tbody>\n",
       "</table>\n",
       "</div>"
      ],
      "text/plain": [
       "                       0          1\n",
       "city           Ярославль  Ярославль\n",
       "gender                 Ж          М\n",
       "credit_card            1          1\n",
       "last_activity          0          1"
      ]
     },
     "execution_count": 78,
     "metadata": {},
     "output_type": "execute_result"
    }
   ],
   "source": [
    "churn_mode = pd.concat([data[data['churn'] == 0][['city', \n",
    "                                    'gender', \n",
    "                                    'credit_card',\n",
    "                                    'last_activity']].mode(),\n",
    "          data[data['churn'] == 1][['city', \n",
    "                                    'gender', \n",
    "                                    'credit_card',\n",
    "                                    'last_activity']].mode()],\n",
    "         axis=0,\n",
    "         ignore_index=True).T\n",
    "churn_mode"
   ]
  },
  {
   "cell_type": "code",
   "execution_count": 79,
   "metadata": {},
   "outputs": [],
   "source": [
    "churn_mode['ratio'] = '-'"
   ]
  },
  {
   "cell_type": "markdown",
   "metadata": {},
   "source": [
    "Создадим сводную таблицу, в которой будет вся информация о типичных клиентах."
   ]
  },
  {
   "cell_type": "code",
   "execution_count": 80,
   "metadata": {
    "scrolled": false
   },
   "outputs": [
    {
     "data": {
      "text/html": [
       "<div>\n",
       "<style scoped>\n",
       "    .dataframe tbody tr th:only-of-type {\n",
       "        vertical-align: middle;\n",
       "    }\n",
       "\n",
       "    .dataframe tbody tr th {\n",
       "        vertical-align: top;\n",
       "    }\n",
       "\n",
       "    .dataframe thead th {\n",
       "        text-align: right;\n",
       "    }\n",
       "</style>\n",
       "<table border=\"1\" class=\"dataframe\">\n",
       "  <thead>\n",
       "    <tr style=\"text-align: right;\">\n",
       "      <th></th>\n",
       "      <th>0</th>\n",
       "      <th>1</th>\n",
       "      <th>ratio</th>\n",
       "    </tr>\n",
       "  </thead>\n",
       "  <tbody>\n",
       "    <tr>\n",
       "      <th>(age, mean)</th>\n",
       "      <td>43.01</td>\n",
       "      <td>41.43</td>\n",
       "      <td>-1.58</td>\n",
       "    </tr>\n",
       "    <tr>\n",
       "      <th>(age, median)</th>\n",
       "      <td>40.0</td>\n",
       "      <td>39.0</td>\n",
       "      <td>-1.0</td>\n",
       "    </tr>\n",
       "    <tr>\n",
       "      <th>(balance, mean)</th>\n",
       "      <td>802806.1</td>\n",
       "      <td>1143408.74</td>\n",
       "      <td>340602.64</td>\n",
       "    </tr>\n",
       "    <tr>\n",
       "      <th>(balance, median)</th>\n",
       "      <td>528486.79</td>\n",
       "      <td>785407.33</td>\n",
       "      <td>256920.54</td>\n",
       "    </tr>\n",
       "    <tr>\n",
       "      <th>(equity, median)</th>\n",
       "      <td>3.0</td>\n",
       "      <td>4.0</td>\n",
       "      <td>1.0</td>\n",
       "    </tr>\n",
       "    <tr>\n",
       "      <th>(est_salary, mean)</th>\n",
       "      <td>140123.95</td>\n",
       "      <td>148089.95</td>\n",
       "      <td>7966.0</td>\n",
       "    </tr>\n",
       "    <tr>\n",
       "      <th>(est_salary, median)</th>\n",
       "      <td>117293.08</td>\n",
       "      <td>125395.22</td>\n",
       "      <td>8102.14</td>\n",
       "    </tr>\n",
       "    <tr>\n",
       "      <th>(products, median)</th>\n",
       "      <td>2.0</td>\n",
       "      <td>2.0</td>\n",
       "      <td>0.0</td>\n",
       "    </tr>\n",
       "    <tr>\n",
       "      <th>(score, mean)</th>\n",
       "      <td>845.41</td>\n",
       "      <td>863.43</td>\n",
       "      <td>18.02</td>\n",
       "    </tr>\n",
       "    <tr>\n",
       "      <th>(score, median)</th>\n",
       "      <td>848.0</td>\n",
       "      <td>866.0</td>\n",
       "      <td>18.0</td>\n",
       "    </tr>\n",
       "    <tr>\n",
       "      <th>city</th>\n",
       "      <td>Ярославль</td>\n",
       "      <td>Ярославль</td>\n",
       "      <td>-</td>\n",
       "    </tr>\n",
       "    <tr>\n",
       "      <th>gender</th>\n",
       "      <td>Ж</td>\n",
       "      <td>М</td>\n",
       "      <td>-</td>\n",
       "    </tr>\n",
       "    <tr>\n",
       "      <th>credit_card</th>\n",
       "      <td>1</td>\n",
       "      <td>1</td>\n",
       "      <td>-</td>\n",
       "    </tr>\n",
       "    <tr>\n",
       "      <th>last_activity</th>\n",
       "      <td>0</td>\n",
       "      <td>1</td>\n",
       "      <td>-</td>\n",
       "    </tr>\n",
       "  </tbody>\n",
       "</table>\n",
       "</div>"
      ],
      "text/plain": [
       "                              0           1      ratio\n",
       "(age, mean)               43.01       41.43      -1.58\n",
       "(age, median)              40.0        39.0       -1.0\n",
       "(balance, mean)        802806.1  1143408.74  340602.64\n",
       "(balance, median)     528486.79   785407.33  256920.54\n",
       "(equity, median)            3.0         4.0        1.0\n",
       "(est_salary, mean)    140123.95   148089.95     7966.0\n",
       "(est_salary, median)  117293.08   125395.22    8102.14\n",
       "(products, median)          2.0         2.0        0.0\n",
       "(score, mean)            845.41      863.43      18.02\n",
       "(score, median)           848.0       866.0       18.0\n",
       "city                  Ярославль   Ярославль          -\n",
       "gender                        Ж           М          -\n",
       "credit_card                   1           1          -\n",
       "last_activity                 0           1          -"
      ]
     },
     "execution_count": 80,
     "metadata": {},
     "output_type": "execute_result"
    }
   ],
   "source": [
    "pd.concat([churn_compare, churn_mode])"
   ]
  },
  {
   "cell_type": "markdown",
   "metadata": {},
   "source": [
    "<a id='ch5.3.1' ></a>\n",
    "### Портрет лояльного клиента"
   ]
  },
  {
   "cell_type": "markdown",
   "metadata": {},
   "source": [
    "Это **женщина** из **Ярославля** в возрасте **от 40 до 45 лет** с зарплатой в районе **110 000 - 120 000 рублей**. У нее **есть кредитная карта**, **3 объекта собственности**. Скорее всего она обладает **либо невысоким кредитным рейтингом (до 820 баллов), либо наоборот крайне высоким (более 950 баллов)**. У нее на балансе **чуть более 500 000**. В среднем он пользуется **двумя продуктами** банка и **не является активным пользователем услуг банка**."
   ]
  },
  {
   "cell_type": "markdown",
   "metadata": {},
   "source": [
    "<a id='ch5.3.2' ></a>\n",
    "### Портрет клиента, который отказался от услуг банка"
   ]
  },
  {
   "cell_type": "markdown",
   "metadata": {},
   "source": [
    "Это **мужчина** из **Ярославля** в возрасте **от 25 до 35 либо от 50 до 60 лет** с зарплатой в районе **120 000 - 130 000 рублей**. У него **есть кредитная карта**, **4 объекта собственности** и **кредитный рейтинг в районе 860-870 баллов**. У него на балансе **около 800 000 рублей**. В среднем он пользуется **двумя продуктами** банка и до ухода **являлся активным пользователем услуг банка**."
   ]
  },
  {
   "cell_type": "markdown",
   "metadata": {},
   "source": [
    "Наиболее заметными различиями являются:\n",
    "\n",
    "1. Пол - лояльные клиенты в основном женщины, а уходят в основном мужчины.\n",
    "2. Зарплата - наблюдаемая разница в зарплате составляет примерно 8 000 рублей.\n",
    "3. Кредитный рейтинг - несмотря на то, что средний и медианный кредитный рейтинг у двух групп отличается не слишком сильно, ранее на графике мы видели, что среди ушедших клиентов большое количество среднего рейтинга или рейтинга выше среднего, а среди лояльных клиентов либо обладатели высокого кредитного рейтинга, либо обладатели низкого кредитного рейтинга.\n",
    "4. Возраст - несмотря схожие средние значения, графики демонстрируют, что уходят в основном люди в возраст от 25 до 35 и от 50 до 60 лет, а лояльные клиенты более однородны и их средний возраст составляет 40 - 45 лет."
   ]
  },
  {
   "cell_type": "markdown",
   "metadata": {},
   "source": [
    "<a id='ch6' ></a>\n",
    "# Проверка статистических гипотез"
   ]
  },
  {
   "cell_type": "markdown",
   "metadata": {},
   "source": [
    "<a id='ch6.1' ></a>\n",
    "## Гипотеза № 1. Сравнение дохода клиентов, которые ушли, и клиентов, которые остались лояльны банку"
   ]
  },
  {
   "cell_type": "markdown",
   "metadata": {},
   "source": [
    "Прямое сравнение зарплат лояльных и ушедших клиентов показало, что зарплаты ушедших клиентов в среднем выше на 8 000 рублей. Однако мы не можем однозначно говорить о какой-то разнице, возможно, разница возникла случайно. Для того, чтобы с большей уверенностью говорить о наличии/отстуствии разницы между двумя группами, проведем статистический тест."
   ]
  },
  {
   "cell_type": "markdown",
   "metadata": {},
   "source": [
    "<a id='ch6.1.1' ></a>\n",
    "### Выбор статтеста"
   ]
  },
  {
   "cell_type": "code",
   "execution_count": 81,
   "metadata": {},
   "outputs": [
    {
     "data": {
      "image/png": "[encoded data removed]",
      "text/plain": [
       "<Figure size 864x576 with 1 Axes>"
      ]
     },
     "metadata": {
      "needs_background": "light"
     },
     "output_type": "display_data"
    }
   ],
   "source": [
    "plt.figure(figsize=(12,8))\n",
    "sns.histplot(x='est_salary', data=data, hue='churn', stat=\"density\", common_norm=False, bins=100)\n",
    "plt.title('Распределение клиентов по ожидаемому уровню зарплаты в разрезе отточности');"
   ]
  },
  {
   "cell_type": "markdown",
   "metadata": {},
   "source": [
    "Нам необходимо сравнить средние значения зарплат двух выборок: лояльных клиентов и клиентов, ушедших из банка. \n",
    "Основной опцией поиска статистически значимой разницы между средними выборок является т-тест. Однако сначала необходимо проверить, соответствуют ли данные в выборках требованиям, предъявляемым к данным при проведении т-теста.\n",
    "\n",
    "\n",
    "1. Генеральные совокупности должны не зависеть друг от друга. В нашем случае это правило соблюдается, ушедшие и лояльные клиенты не связаны между собой. \n",
    "2. Для применения Т-теста необходимо, чтобы выборочное среднее обеих групп распределялось нормально. В наших выборках по несколько тысяч измерений, поэтому в соответствии с центральной предельной теоремой мы можем утверждать, что выборочное среднее в них распределяется нормально.\n",
    "3. Дисперсии рассматриваемых совокупностей равны. Мы имеем две группы значительно отличающиеся по размеру, поэтому мы не можем по умолчанию принять, что дисперсии генеральных совокупностей равны. Однако в виду того, что у нас есть возможность оперерировать с генеральными совокупностями (так как мы рассматриваем ВСЕХ клиентов банка), то мы можем посчитать и сравнить дисперсии."
   ]
  },
  {
   "cell_type": "code",
   "execution_count": 82,
   "metadata": {
    "scrolled": true
   },
   "outputs": [
    {
     "data": {
      "text/plain": [
       "1.03378736223843"
      ]
     },
     "execution_count": 82,
     "metadata": {},
     "output_type": "execute_result"
    }
   ],
   "source": [
    "statistics.variance(data[data['churn'] == 1]['est_salary'])/statistics.variance(data[data['churn'] == 0]['est_salary'])"
   ]
  },
  {
   "cell_type": "markdown",
   "metadata": {},
   "source": [
    "Относительная разница дисперсий составляет всего 3.3%. При расчете т-теста можем считать, что дисперсии генеральных совокупностей равны. "
   ]
  },
  {
   "cell_type": "markdown",
   "metadata": {},
   "source": [
    "<a id='ch6.1.2' ></a>\n",
    "### Определение гипотез и проведение статистического теста"
   ]
  },
  {
   "cell_type": "markdown",
   "metadata": {},
   "source": [
    "В нашем случае нулевая гипотеза будет звучать следующим образом:\n",
    "\n",
    "***H0: Средняя зарплата лояльных клиентов равна средней зарплате клиентов, ушедших из банка.***\n",
    "\n",
    "Альтернативная гипотеза в таком случае будет звучать:\n",
    "\n",
    "***H1: Средние зарплаты лояльныз и нелояльных клиентов статистически значимо различаются.***\n",
    "\n",
    "Уровень статистической значимости будет равен 0.05"
   ]
  },
  {
   "cell_type": "code",
   "execution_count": 83,
   "metadata": {},
   "outputs": [
    {
     "name": "stdout",
     "output_type": "stream",
     "text": [
      "P-value равно 0.011107046249328876\n",
      "P-value меньше уровня значимости. Отвергаем нулевую гипотезу в пользу альтернативной.\n"
     ]
    }
   ],
   "source": [
    "alpha = 0.05\n",
    "\n",
    "no_churn_data = data[data['churn'] == 0]['est_salary']\n",
    "\n",
    "churn_data = data[data['churn'] == 1]['est_salary']\n",
    "\n",
    "results = st.ttest_ind(no_churn_data, churn_data)\n",
    "\n",
    "print('P-value равно', results.pvalue)\n",
    "\n",
    "if results.pvalue < alpha:\n",
    "    print('P-value меньше уровня значимости. Отвергаем нулевую гипотезу в пользу альтернативной.')\n",
    "else:\n",
    "    print('P-value больше уровня значимости. У нас нет оснований отвергнуть нулевую гипотезу.')"
   ]
  },
  {
   "cell_type": "markdown",
   "metadata": {},
   "source": [
    "Итак, p-value оказался меньше уровня значимости, следовательно мы отвергаем гипотезу о том, что зарплата лояльных клиентов равна зарплате клиентов, покинувших банк, в пользу гипотезы, что средняя зарплата клиентов из данных групп не равны."
   ]
  },
  {
   "cell_type": "markdown",
   "metadata": {},
   "source": [
    "<a id='ch6.2' ></a>\n",
    "## Гипотеза № 2. Разница в доле оттока клиентов в Ярославле и Рыбинске"
   ]
  },
  {
   "cell_type": "markdown",
   "metadata": {},
   "source": [
    "В ключевом для банка городе - Ярославле наблюдается отток клиентов выше среднего уровня по банку. Во втором по значимости городе - Рыбинске отток наоборот несколько ниже среднего уровня. Мы можем предположить, что обслуживание и организация процессов лучше в отделениях банка в Рыбинске. В таком случае для исправления ситуации в Ярославле можно провести сравнительный анализ организации процессов и обслуживания там и в Рыбинске, чтобы перенять лучшие практики, либо командировать управляющих из Рыбинска в Ярославль. Однако такие решения потребуют ресурсных затрат, поэтому сначала проверим статистическую значимость разницы в долях оттока клиентов в двух городах."
   ]
  },
  {
   "cell_type": "markdown",
   "metadata": {},
   "source": [
    "<a id='ch6.2.1' ></a>\n",
    "### Выбор статтеста"
   ]
  },
  {
   "cell_type": "markdown",
   "metadata": {},
   "source": [
    "Мы будем сравнивать доли двух выборок, поэтому будем проверять доли для пропорций. В данном случае статистикой будет разница между  рассматриваемыми пропорциями."
   ]
  },
  {
   "cell_type": "markdown",
   "metadata": {},
   "source": [
    "<a id='ch6.2.2' ></a>\n",
    "### Определение гипотез и проведение статистического теста"
   ]
  },
  {
   "cell_type": "markdown",
   "metadata": {},
   "source": [
    "В нашем случае нулевая гипотеза будет звучать следующим образом:\n",
    "\n",
    "***H0: Доли ушедших клиентов в Ярославле и Рыбинске равны.***\n",
    "\n",
    "Альтернативная гипотеза в таком случае будет звучать:\n",
    "\n",
    "***H1:  Доли ушедших клиентов в Ярославле и Рыбинске не равны.***\n",
    "\n",
    "Уровень статистической значимости будет равен 0.05"
   ]
  },
  {
   "cell_type": "code",
   "execution_count": 84,
   "metadata": {},
   "outputs": [],
   "source": [
    "alpha = 0.05\n",
    "\n",
    "# количество ушедших клиентов в Ярославле и в Рыбинске\n",
    "churn_clients = np.array([len(data[(data['churn'] == 1) & (data['city'] == 'Ярославль')]), \n",
    "                         len(data[(data['churn'] == 1) & (data['city'] == 'Рыбинск')])])\n",
    "\n",
    "# общее количество клиентов в Ярославле и Рыбинске\n",
    "city_clients = np.array([len(data[data['city'] == 'Ярославль']), \n",
    "                         len(data[data['city'] == 'Рыбинск'])])\n",
    "\n",
    "# доля ушедших клиентов в Ярославле\n",
    "p1 = churn_clients[0]/city_clients[0]\n",
    "\n",
    "# доля ушедших клиентов в Рыбинске\n",
    "p2 = churn_clients[1]/city_clients[1]\n",
    "\n",
    "# Пропорция ушедших клиентов в комбинированном датасете\n",
    "p_combined = (churn_clients[0] + churn_clients[1])/(city_clients[0] + city_clients[1])\n",
    "\n",
    "# Разница между долями\n",
    "difference = p1 - p2"
   ]
  },
  {
   "cell_type": "code",
   "execution_count": 85,
   "metadata": {},
   "outputs": [],
   "source": [
    "# Расчет статистики в стандартных отклонениях стандартного нормального распределения\n",
    "z_value = difference / mth.sqrt(p_combined * (1 - p_combined) * (1/city_clients[0] + 1/city_clients[1]))\n",
    "# Строим стандартное нормальное распределение\n",
    "distr = st.norm(0, 1)"
   ]
  },
  {
   "cell_type": "code",
   "execution_count": 86,
   "metadata": {},
   "outputs": [
    {
     "name": "stdout",
     "output_type": "stream",
     "text": [
      "P-value:  0.0016088265306373195\n",
      "P-value меньше уровня значимости. Отвергаем нулевую гипотезу в пользу альтернативной.\n"
     ]
    }
   ],
   "source": [
    "p_value = (1 - distr.cdf(abs(z_value))) * 2\n",
    "\n",
    "\n",
    "print('P-value: ', p_value)\n",
    "\n",
    "if p_value < alpha:\n",
    "    print('P-value меньше уровня значимости. Отвергаем нулевую гипотезу в пользу альтернативной.')\n",
    "else:\n",
    "    print('P-value больше уровня значимости. У нас нет оснований отвергнуть нулевую гипотезу.')"
   ]
  },
  {
   "cell_type": "markdown",
   "metadata": {},
   "source": [
    "Статистический тест показал, что разница в доле ушедших клиентов в Ярославле и Рыбинске не вызвана случайностью."
   ]
  },
  {
   "cell_type": "markdown",
   "metadata": {},
   "source": [
    "<a id='ch7' ></a>\n",
    "# Промежуточные итоги"
   ]
  },
  {
   "cell_type": "markdown",
   "metadata": {},
   "source": [
    "**На этапе EDA мы установили, что:**\n",
    "1. оставшихся клиентов почти в 5 раз больше чем ушедших: 8155 против 1819. Доля ушедших клиентов (она же средний уровень оттока клиентов из банка) составляет 18.38%.\n",
    "2. Мы рассмотрели все имеющиеся признаки и обнаружили группы риска для каждого:\n",
    "   - **Возраст.** Первая группа риска клиенты от 25 до 35 лет, а вторая - клиенты от 50 до 60 лет.\n",
    "   - **Кредитный рейтинг**. В группу риска попали клиенты с рейтингом от 820 до 940 баллов.\n",
    "   - **Баланс**. Начиная от суммы на балансе равно1 800 000 руб., заметен отток клиентов из банка, причем заметна тенденция, что чем больше сумма, тем активнее клиенты уходят.\n",
    "   - **Зарплата**. В зоне риска клиенты с зарплатой выше 100 000 рублей.\n",
    "   - **Пол**. Мужчины уходят заметно чаще чем средний уровень оттока по банку. А женщина наоборот более лояльны.\n",
    "   - **Город:** в Ярославле и Ростове отток немного выше чем в среднем по банку, а в Рыбинске заметно ниже.\n",
    "   - **Баллы собственности (количество объектов собственности):** Наблюдается явная тенденция - чем больше собственности у клиентов, тем с большей вероятностью они покидают банк. Начиная с трех баллов доля оттока превышает средний уровень по банку.\n",
    "   - **Количество продуктов**: Мы видим, что уровень оттока клиентов, у которых 3 и более продуктов значительно превышает средний уровень оттока по банку. Клиенты с двумя продуктами демонстрируют средний отток, а клиенты с одним продуктом имеют уровень оттока более чем в два раза ниже чем в среднем по банку.\n",
    "   - **Активность:** наблюдается неожиданный результат: активные клиенты уходят намного чаще чем в среднем по банку, а клиенты, которые не демонстрировали активность в последнее время, наоборот заметно лояльнее чем в среднем по банку. Скорее всего это связано с тем, что банк не может предложить активным пользователям то, что они ождиают получить от банка в современных условиях. Это укладывается в единую картину с тем, что клиенты с высокой зарплатой и большими суммами на счетах являются наименее лояльной категорией клиентов.\n",
    "   - **Наличие кредитной карты:** доля оттока у клиентов без кредитной карты выше среднего уровня оттока клиентов из банка. Клиенты с кредитной картой наоборот в меньшей степени склонны отказываться от услуг банка.\n",
    "   \n",
    "Если смотреть на результаты EDA в целом, то можно предположить, что банк в основном теряет наиболее состоятельную и активную часть своих клиентов. Это может быть связано с тем, что в банке не развито направление по работе с обеспеченными клиентами. Так как их запросы заметно отличаются от потребностей менее обеспеченных клиентов. Например, они могут быть заинтересованы во вложении своих средств в ценные бумаги для обеспечения доходности и сохранения сбережений от воздействия инфляции.\n",
    "***\n",
    "**Корреляция признаков.**\n",
    "\n",
    "Мы предположили, что взаимосвязь между признаками может быть нелинейной, так как у нас есть непрерывные и дискретные/категориальные признакие. Поэтому мы использовали библиотеку phik, которая позволяет посчитать корреляцию с учетом того, к какому типу относится тот или иной признак (непрерывный/дискретный).Данный метод расчета не показывает направленность взаимосвязи. Но на предыдущем этапе мы уже оценили направленность взаимосвязи признака отточности с другими признаками, поэтому отсутствие данной информации при расчете корреляции не так критично.\n",
    "\n",
    "Также расчет корреляции по методу phik требует явно указать непрерывные величины. **Непрерывными величинами мы считали кредитный рейтинг, сумму на балансе и зарплату**. **Возраст** при статистических расчетах принято принимать за дискретную величину.\n",
    "\n",
    "Для оценки и интерпритации  результатов используем шкалу корреляции Чеддока:\n",
    "- 0 – полное отсутствие связи;\n",
    "- 0 – 0.3 – очень слабая;\n",
    "- 0.3 – 0.5 – слабая;\n",
    "- 0.5 – 0.7 – средняя;\n",
    "- 0.7 – 0.9 – высокая;\n",
    "- 0.9 – 1 – очень высокая;\n",
    "- 1 – абсолютная взаимозависимость.\n",
    "\n",
    "В итоге мы получили следующие результаты:\n",
    "\n",
    "1. Средняя корреляция:\n",
    "   - кредитный рейтинг - баллы собственности;\n",
    "   - баллы собственности - количество продуктов.\n",
    "2. Слабая корреляция:\n",
    "   - кредитный рейтинг - количество продуктов;\n",
    "   - кредитный рейтинг - ожидаемая зарплата;\n",
    "   - возраст - ожидаемая зарплата;\n",
    "   - **баллы собственности - признак отточности;**\n",
    "   - баланс - ожидаемая зарплата;\n",
    "Остальные значения корреляции ниже 0.3 и свидетльствуют об очень слабой взаимосвязи.\n",
    "\n",
    "Отдельно мы рассмотрели корреляцию признаков с признаком отточности.\n",
    "\n",
    "Так как данный признак является ключевым в нашем исследовании ключевым, то в отношении него мы учитывали корреляции с уровнем выше 0.2.\n",
    "\n",
    "1. **Баллы собственности.** Этот признак сильнее остальных коррелирует с признаком отточности. Корреляция равна 0.35.\n",
    "2. **Количество продуктов банка** и **признак активности клиента**. Корреляция каждого из этих признаков с признаком отточности составляет 0.26.\n",
    "3. **Кредитный рейтинг**. Корреляция данного признака с признаком отточности составляет 0.23. Ранее мы уже выяснили, что клиенты с рейтингом выше среднего уходят наиболее активно.\n",
    "4. **Пол**. Корреляция равна 0.22. Ранее мы уже обнаружили, что мужчины значительно чаще женщин уходят из банка.\n",
    "***\n",
    "**Портреты типичных клиентов банка.**\n",
    "\n",
    "Мы сформировали два портрета типичных клиентов банка:\n",
    "- **Лояльный клиент.** Это **женщина** из **Ярославля** в возрасте **от 40 до 45 лет** с зарплатой в районе **110 000 - 120 000 рублей**. У нее **есть кредитная карта**, **3 объекта собственности**. Скорее всего она обладает **либо невысоким кредитным рейтингом (до 820 баллов), либо наоборот крайне высоким (более 950 баллов)**. У нее на балансе **чуть более 500 000**. В среднем он пользуется **двумя продуктами** банка и **не является активным пользователем услуг банка**.\n",
    "- **ушедший клиент.** Это **мужчина** из **Ярославля** в возрасте **от 25 до 35 либо от 50 до 60 лет** с зарплатой в районе **120 000 - 130 000 рублей**. У него **есть кредитная карта**, **4 объекта собственности** и **кредитный рейтинг в районе 860-870 баллов**. У него на балансе **около 800 000 рублей**. В среднем он пользуется **двумя продуктами** банка и до ухода **являлся активным пользователем услуг банка**.\n",
    "- **Главные отличия:**\n",
    "  1. Пол - лояльные клиенты в основном женщины, а уходят в основном мужчины.\n",
    "  2. Зарплата - наблюдаемая разница в зарплате составляет примерно 8 000 рублей.\n",
    "  3. Кредитный рейтинг - несмотря на то, что средний и медианный кредитный рейтинг у двух групп отличается не слишком сильно,  ранее на графике мы видели, что среди ушедших клиентов большое количество среднего рейтинга или рейтинга выше среднего, а среди лояльных клиентов либо обладатели высокого кредитного рейтинга, либо обладатели низкого кредитного рейтинга.\n",
    "  4. Возраст - несмотря схожие средние значения, графики демонстрируют, что уходят в основном люди в возраст от 25 до 35 и от 50 до 60 лет, а лояльные клиенты более однородны и их средний возраст составляет 40 - 45 лет.\n",
    "***\n",
    "**Проверка статистических гипотез.**\n",
    "Мы проверили 2 гипотезы:\n",
    "1. С помощью Т-теста мы проверили гипотезу о том, что средняя зарплата ушедших клиентов равна средней зарплате лояльных клиентов. **В итоге мы отвергли гипотезу о том, что зарплаты этих двух групп клиентов равны, в пользу гипотезы о том, что зарплаты ушедших клиентов не равны зарплате лояльных клиентов.**\n",
    "2. С помощью z-статистики мы проверили гипотезу о том, что доля ушедших клиентов в Ярославле равна доле ушедших клиентов в Рыбинске. **По итогу мы отвергли гипотезу о равнестве долей в пользу гипотезы о том, что доли ушедших клиентов в Ярославле и Рыбинске не равны.**"
   ]
  },
  {
   "cell_type": "markdown",
   "metadata": {},
   "source": [
    "<a id='ch8' ></a>\n",
    "# Сегментация пользователей."
   ]
  },
  {
   "cell_type": "markdown",
   "metadata": {},
   "source": [
    "У нас в наличии 10 признаков за исключением признака оттока:\n",
    "1. Кредитный рейтинг;\n",
    "2. Город;\n",
    "3. Пол;\n",
    "4. Возраст;\n",
    "5. Баллы собственности;\n",
    "6. Баланс;\n",
    "7. Количество используемых продуктов банка;\n",
    "8. Наличие кредитной карты;\n",
    "9. Признак активности;\n",
    "10. Зарплата.\n",
    "\n",
    "К наиболее влияющим на отточность признакам можно отнести:\n",
    "\n",
    "1. Пол - в зоне риска мужчины;\n",
    "2. Признак активности - в зоне риска активные клиенты;\n",
    "3. Кредитный рейтинг - в зоне риска люди с рейтингом от 820 до 940.\n",
    "4. Возраст - в зоне риска две группы клиентов: от 25 до 35 и от 50 до 60.\n",
    "\n",
    "Исходя из этого мы сформируем 4 сегмента."
   ]
  },
  {
   "cell_type": "markdown",
   "metadata": {},
   "source": [
    "<a id='ch8.1' ></a>\n",
    "## Сегмент 1. Мужчины с зарплатой более 100 000 руб., не имеющие кредитной карты"
   ]
  },
  {
   "cell_type": "code",
   "execution_count": 87,
   "metadata": {},
   "outputs": [],
   "source": [
    "first_segment = data[(data['est_salary'] > 100000) \n",
    "                     & (data['gender'] == 'М') \n",
    "                     & (data['credit_card'] == 0)].reset_index(drop=True)"
   ]
  },
  {
   "cell_type": "code",
   "execution_count": 88,
   "metadata": {
    "scrolled": false
   },
   "outputs": [
    {
     "data": {
      "text/plain": [
       "850"
      ]
     },
     "execution_count": 88,
     "metadata": {},
     "output_type": "execute_result"
    }
   ],
   "source": [
    "len(first_segment)"
   ]
  },
  {
   "cell_type": "code",
   "execution_count": 89,
   "metadata": {
    "scrolled": true
   },
   "outputs": [
    {
     "data": {
      "text/plain": [
       "0.08595409040347861"
      ]
     },
     "execution_count": 89,
     "metadata": {},
     "output_type": "execute_result"
    }
   ],
   "source": [
    "len(first_segment)/len(data)"
   ]
  },
  {
   "cell_type": "code",
   "execution_count": 90,
   "metadata": {},
   "outputs": [
    {
     "data": {
      "text/plain": [
       "0.3764705882352941"
      ]
     },
     "execution_count": 90,
     "metadata": {},
     "output_type": "execute_result"
    }
   ],
   "source": [
    "len(first_segment[first_segment['churn'] == 1])/len(first_segment)"
   ]
  },
  {
   "cell_type": "markdown",
   "metadata": {},
   "source": [
    "В данном сегменте 850 клиентов (8.6% от общего количества клиентов). Доля оттока в данном сегменте составляет **37.6% - это в два раза выше среднего уровня оттока по банку.**"
   ]
  },
  {
   "cell_type": "markdown",
   "metadata": {},
   "source": [
    "<a id='ch8.2' ></a>\n",
    "## Сегмент 2. Люди в возрасте от 25 до 35 лет, у которых 3 и более объекта собственности, и которые живут в Ярославле."
   ]
  },
  {
   "cell_type": "code",
   "execution_count": 91,
   "metadata": {},
   "outputs": [],
   "source": [
    "second_segment = data[(data['age'] >= 25) \n",
    "                      & (data['age'] <= 35) \n",
    "                      & (data['equity'] >= 3) \n",
    "                      & (data['city'] == 'Ярославль')].reset_index(drop=True)"
   ]
  },
  {
   "cell_type": "code",
   "execution_count": 92,
   "metadata": {},
   "outputs": [
    {
     "data": {
      "text/plain": [
       "1061"
      ]
     },
     "execution_count": 92,
     "metadata": {},
     "output_type": "execute_result"
    }
   ],
   "source": [
    "len(second_segment)"
   ]
  },
  {
   "cell_type": "code",
   "execution_count": 93,
   "metadata": {},
   "outputs": [
    {
     "data": {
      "text/plain": [
       "0.10729092931540095"
      ]
     },
     "execution_count": 93,
     "metadata": {},
     "output_type": "execute_result"
    }
   ],
   "source": [
    "len(second_segment)/len(data)"
   ]
  },
  {
   "cell_type": "code",
   "execution_count": 94,
   "metadata": {
    "scrolled": true
   },
   "outputs": [
    {
     "data": {
      "text/plain": [
       "0.35532516493873706"
      ]
     },
     "execution_count": 94,
     "metadata": {},
     "output_type": "execute_result"
    }
   ],
   "source": [
    "len(second_segment[second_segment['churn'] == 1])/len(second_segment)"
   ]
  },
  {
   "cell_type": "markdown",
   "metadata": {},
   "source": [
    "В данном сегменте 1061 клиент (10.7% от общего количества клиентов). Доля оттока в данном сегменте составляет **35.5%, что также почти в два раза выше среднего уровня по банку.**"
   ]
  },
  {
   "cell_type": "markdown",
   "metadata": {},
   "source": [
    "<a id='ch8.3' ></a>\n",
    "## Сегмент 3. Люди  в возрасте от 50 до 60 лет с кредитным рейтингом в диапазоне от 820 до 940, пользующихся 2 или более продуктами банка"
   ]
  },
  {
   "cell_type": "code",
   "execution_count": 95,
   "metadata": {},
   "outputs": [],
   "source": [
    "third_segment = data[(data['age'] >= 50) \n",
    "                     & (data['age'] <= 60) \n",
    "                     & (data['products'] >= 2) \n",
    "                     & (data['score'] >= 820)\n",
    "                     & (data['score'] <= 940)].reset_index(drop=True)"
   ]
  },
  {
   "cell_type": "code",
   "execution_count": 96,
   "metadata": {
    "scrolled": true
   },
   "outputs": [
    {
     "data": {
      "text/plain": [
       "766"
      ]
     },
     "execution_count": 96,
     "metadata": {},
     "output_type": "execute_result"
    }
   ],
   "source": [
    "len(third_segment)"
   ]
  },
  {
   "cell_type": "code",
   "execution_count": 97,
   "metadata": {
    "scrolled": true
   },
   "outputs": [
    {
     "data": {
      "text/plain": [
       "0.07745980382242897"
      ]
     },
     "execution_count": 97,
     "metadata": {},
     "output_type": "execute_result"
    }
   ],
   "source": [
    "len(third_segment)/len(data)"
   ]
  },
  {
   "cell_type": "code",
   "execution_count": 98,
   "metadata": {
    "scrolled": true
   },
   "outputs": [
    {
     "data": {
      "text/plain": [
       "0.39556135770234985"
      ]
     },
     "execution_count": 98,
     "metadata": {},
     "output_type": "execute_result"
    }
   ],
   "source": [
    "len(third_segment[third_segment['churn'] == 1])/len(third_segment)"
   ]
  },
  {
   "cell_type": "markdown",
   "metadata": {},
   "source": [
    "В данном сегменте 766 клиентов (7.8% от общего количества клиентов). Доля оттока в данном сегменте составляет **39.5%**."
   ]
  },
  {
   "cell_type": "markdown",
   "metadata": {},
   "source": [
    "<a id='ch8.4' ></a>\n",
    "## Сегмент 4. Активные пользователи, у которых на балансе более 800 000 рублей, живущие не в Ярославле."
   ]
  },
  {
   "cell_type": "code",
   "execution_count": 99,
   "metadata": {},
   "outputs": [],
   "source": [
    "fourth_segment = data[(data['last_activity'] == 1) \n",
    "                     & (data['balance'] >= 800000) \n",
    "                     & (data['city'] != 'Ярославль')].reset_index(drop=True)"
   ]
  },
  {
   "cell_type": "code",
   "execution_count": 100,
   "metadata": {},
   "outputs": [
    {
     "data": {
      "text/plain": [
       "628"
      ]
     },
     "execution_count": 100,
     "metadata": {},
     "output_type": "execute_result"
    }
   ],
   "source": [
    "len(fourth_segment)"
   ]
  },
  {
   "cell_type": "code",
   "execution_count": 101,
   "metadata": {},
   "outputs": [
    {
     "data": {
      "text/plain": [
       "0.06350490443927596"
      ]
     },
     "execution_count": 101,
     "metadata": {},
     "output_type": "execute_result"
    }
   ],
   "source": [
    "len(fourth_segment)/len(data)"
   ]
  },
  {
   "cell_type": "code",
   "execution_count": 102,
   "metadata": {
    "scrolled": true
   },
   "outputs": [
    {
     "data": {
      "text/plain": [
       "0.35987261146496813"
      ]
     },
     "execution_count": 102,
     "metadata": {},
     "output_type": "execute_result"
    }
   ],
   "source": [
    "len(fourth_segment[fourth_segment['churn'] == 1])/len(fourth_segment)"
   ]
  },
  {
   "cell_type": "markdown",
   "metadata": {},
   "source": [
    "В данном сегменте 628 клиентов (6.4% от общего количества клиентов). Доля оттока в данном сегменте составляет **36%.**"
   ]
  },
  {
   "cell_type": "markdown",
   "metadata": {},
   "source": [
    "<a id='ch8.5' ></a>\n",
    "## Приоритезация сегментов"
   ]
  },
  {
   "attachments": {
    "image-2.png": {
     "image/png": "[encoded data removed]"
    }
   },
   "cell_type": "markdown",
   "metadata": {},
   "source": [
    "Для успешного развития банка критически важно привлечение средств. Также для банка крайне важно, чтобы его клиенты максимально активно пользовались его услугами - это позволяет развивать новые направления, диверсифицировать свою деятельность, и, соответственно, риски.\n",
    "\n",
    "Поэтому наиболее важными признаками клиента мы будем считать сумму на балансе и количество продуктов, которыми он пользуется.\n",
    "\n",
    "Исходя из этого, приоритизацию сегментов мы будем проводить по формуле:\n",
    "\n",
    "![image-2.png](attachment:image-2.png)\n",
    "\n",
    "где\n",
    "- n - количество клиентов в сегменте;\n",
    "- S - сумма на балансе клиента;\n",
    "- q - количество продуктов, которыми пользуется клиент;\n",
    "- 0.0001 - коэффициент, позволяющий уменьшить итоговое значение, для удобства.\n",
    "\n",
    "**Данная формула показывает оценочную ценность сегмента.**"
   ]
  },
  {
   "cell_type": "markdown",
   "metadata": {},
   "source": [
    "Зададим функцию, которая будет считать показатель приоритизации. Мы не учитывали процент отточности клиентов, так как все 4 сегмента имеют схожие значения уровня отточности, вдвое превышающие средний уровень банка."
   ]
  },
  {
   "cell_type": "code",
   "execution_count": 103,
   "metadata": {},
   "outputs": [],
   "source": [
    "def segment_prior(df):\n",
    "    result = 0\n",
    "    for i in range(len(df)):\n",
    "        result += (df['balance'][i]*0.1*df['products'][i])\n",
    "        total = result/10000\n",
    "    return round(total)"
   ]
  },
  {
   "cell_type": "code",
   "execution_count": 104,
   "metadata": {
    "scrolled": true
   },
   "outputs": [
    {
     "data": {
      "text/plain": [
       "26065"
      ]
     },
     "execution_count": 104,
     "metadata": {},
     "output_type": "execute_result"
    }
   ],
   "source": [
    "segment_prior(first_segment)"
   ]
  },
  {
   "cell_type": "code",
   "execution_count": 105,
   "metadata": {},
   "outputs": [
    {
     "data": {
      "text/plain": [
       "22357"
      ]
     },
     "execution_count": 105,
     "metadata": {},
     "output_type": "execute_result"
    }
   ],
   "source": [
    "segment_prior(second_segment)"
   ]
  },
  {
   "cell_type": "code",
   "execution_count": 106,
   "metadata": {},
   "outputs": [
    {
     "data": {
      "text/plain": [
       "22125"
      ]
     },
     "execution_count": 106,
     "metadata": {},
     "output_type": "execute_result"
    }
   ],
   "source": [
    "segment_prior(third_segment)"
   ]
  },
  {
   "cell_type": "code",
   "execution_count": 107,
   "metadata": {},
   "outputs": [
    {
     "data": {
      "text/plain": [
       "19849"
      ]
     },
     "execution_count": 107,
     "metadata": {},
     "output_type": "execute_result"
    }
   ],
   "source": [
    "segment_prior(fourth_segment)"
   ]
  },
  {
   "cell_type": "markdown",
   "metadata": {},
   "source": [
    "Мы получили следующую приоритизацию (от наиболее важных к наименее важным):\n",
    "1. **Сегмент 1.** Мужчины с зарплатой более 100 000 руб., не имеющие кредитной карты.\n",
    "2. **Сегмент 2.** Люди в возрасте от 25 до 35 лет, у которых 3 и более объекта собственности, и которые живут в Ярославле.\n",
    "3. **Сегмент 3.** Люди  в возрасте от 50 до 60 лет с кредитным рейтингом в диапазоне от 820 до 940, пользующихся 2 или более продуктами банка.\n",
    "4. **Сегмент 4.** Активные пользователи, у которых на балансе более 800 000 рублей, живущие не в Ярославле.\n"
   ]
  },
  {
   "cell_type": "markdown",
   "metadata": {},
   "source": [
    "<a id='ch9' ></a>\n",
    "# Разработка рекомендаций по удержанию клиентов из различных сегментов."
   ]
  },
  {
   "cell_type": "markdown",
   "metadata": {},
   "source": [
    "<a id='ch9.1' ></a>\n",
    "## Сегмент 1. Мужчины с зарплатой более 100 000 руб., не имеющие кредитной карты"
   ]
  },
  {
   "cell_type": "markdown",
   "metadata": {},
   "source": [
    "Для удержания таких клиентов можно предложить следующие рекомендации:\n",
    "1. Информирование о возможности покупки ценных бумаг/драгоценных металлов, как инструмента для сохранения и увеличения накоплений.\n",
    "2. Специальные условия автокредитования.\n",
    "3. Кредитная карта с повышенным сроком беспроцентного кредитования."
   ]
  },
  {
   "cell_type": "markdown",
   "metadata": {},
   "source": [
    "<a id='ch9.2' ></a>\n",
    "## Сегмент 2. Люди в возрасте от 25 до 35 лет, у которых 3 и более объекта собственности, и которые живут в Ярославле"
   ]
  },
  {
   "cell_type": "markdown",
   "metadata": {},
   "source": [
    "1. Сниженная ставка на кредит на получение второго высшего образования. (так как в возрасте от 25 до 35 люди чаще всего решают получить второе высшее образование).\n",
    "2. Сервис по управлению имуществом:\n",
    "    - автоматическая оплата коммунальных платежей;\n",
    "    - все выписки и документы можно найти в едином личном кабинете;\n",
    "    - уплата налогов от сдачи недвижимости в аренду в автоматическом режиме;\n",
    "3. Кэшбек на магазины, рестораны и услуги в Ярославле."
   ]
  },
  {
   "cell_type": "markdown",
   "metadata": {},
   "source": [
    "<a id='ch9.3' ></a>\n",
    "## Сегмент 3. Люди  в возрасте от 50 до 60 лет с кредитным рейтингом в диапазоне от 820 до 940, пользующихся 2 или более продуктами банка"
   ]
  },
  {
   "cell_type": "markdown",
   "metadata": {},
   "source": [
    "1. Программа \"Доверие\" - выдача кредита на тех же условиях, что и для клиентов с рейтингом 950+ баллов.\n",
    "2. +0.1% на вклады за каждый новый используемый продукт банка и бот-помощник, рассказывающий о всех преимуществах и нововведениях в продуктах банка.\n",
    "3. Сниженная процентная ставка на покупку загородной недвижмости."
   ]
  },
  {
   "cell_type": "markdown",
   "metadata": {},
   "source": [
    "<a id='ch9.4' ></a>\n",
    "## Сегмент 4. Активные пользователи, у которых на балансе более 800 000 рублей, живущие не в Ярославле"
   ]
  },
  {
   "cell_type": "markdown",
   "metadata": {},
   "source": [
    "1. Личный инвестиционный консультант, который помогает инвестировать накопления наиболее безопасным и выгодным способом.\n",
    "2. Повышенный кэшбек на заправках. (так как скорее всего люди часто ездят в областной центр).\n",
    "3. Благодарность за активность в виде специальных предложений (например 0 рублей в год за обслуживание карты и т.д.)."
   ]
  },
  {
   "cell_type": "markdown",
   "metadata": {},
   "source": [
    "<a id='ch10' ></a>\n",
    "# Презентация для менеджмента"
   ]
  },
  {
   "cell_type": "markdown",
   "metadata": {},
   "source": [
    "Основные выводы и результаты анализа представлены в [презентации](https://disk.yandex.ru/d/xRShOc5bxDu9BA)."
   ]
  }
 ],
 "metadata": {
  "ExecuteTimeLog": [
   {
    "duration": 404,
    "start_time": "2024-02-18T13:33:46.104Z"
   },
   {
    "duration": 100,
    "start_time": "2024-02-18T13:34:29.528Z"
   },
   {
    "duration": 56,
    "start_time": "2024-02-18T13:37:54.607Z"
   },
   {
    "duration": 61,
    "start_time": "2024-02-18T13:38:00.979Z"
   },
   {
    "duration": 26,
    "start_time": "2024-02-18T13:38:03.209Z"
   },
   {
    "duration": 161,
    "start_time": "2024-02-18T13:38:27.203Z"
   },
   {
    "duration": 104,
    "start_time": "2024-02-18T13:39:01.322Z"
   },
   {
    "duration": 111,
    "start_time": "2024-02-18T13:39:16.520Z"
   },
   {
    "duration": 3,
    "start_time": "2024-02-18T13:39:24.558Z"
   },
   {
    "duration": 59,
    "start_time": "2024-02-18T13:40:06.351Z"
   },
   {
    "duration": 3,
    "start_time": "2024-02-18T13:40:08.450Z"
   },
   {
    "duration": 97,
    "start_time": "2024-02-18T13:40:08.682Z"
   },
   {
    "duration": 20,
    "start_time": "2024-02-18T13:40:11.166Z"
   },
   {
    "duration": 186,
    "start_time": "2024-02-18T13:40:58.806Z"
   },
   {
    "duration": 61,
    "start_time": "2024-02-18T13:40:59.232Z"
   },
   {
    "duration": 3,
    "start_time": "2024-02-18T13:41:11.683Z"
   },
   {
    "duration": 67,
    "start_time": "2024-02-18T13:41:12.273Z"
   },
   {
    "duration": 26,
    "start_time": "2024-02-18T13:41:13.466Z"
   },
   {
    "duration": 90,
    "start_time": "2024-02-18T13:41:29.049Z"
   },
   {
    "duration": 3,
    "start_time": "2024-02-18T13:41:42.406Z"
   },
   {
    "duration": 86,
    "start_time": "2024-02-18T13:41:43.150Z"
   },
   {
    "duration": 20,
    "start_time": "2024-02-18T13:41:46.850Z"
   },
   {
    "duration": 78,
    "start_time": "2024-02-18T13:42:25.938Z"
   },
   {
    "duration": 81,
    "start_time": "2024-02-18T13:42:32.525Z"
   },
   {
    "duration": 18,
    "start_time": "2024-02-18T13:42:35.309Z"
   },
   {
    "duration": 6,
    "start_time": "2024-02-18T13:42:46.056Z"
   },
   {
    "duration": 4,
    "start_time": "2024-02-18T13:43:05.007Z"
   },
   {
    "duration": 90,
    "start_time": "2024-02-18T13:43:05.645Z"
   },
   {
    "duration": 3,
    "start_time": "2024-02-18T13:43:12.807Z"
   },
   {
    "duration": 74,
    "start_time": "2024-02-18T13:43:13.120Z"
   },
   {
    "duration": 395,
    "start_time": "2024-02-18T13:43:32.302Z"
   },
   {
    "duration": 3,
    "start_time": "2024-02-18T13:43:32.699Z"
   },
   {
    "duration": 145,
    "start_time": "2024-02-18T13:43:32.704Z"
   },
   {
    "duration": 2,
    "start_time": "2024-02-18T14:01:37.481Z"
   },
   {
    "duration": 3,
    "start_time": "2024-02-18T14:06:04.587Z"
   },
   {
    "duration": 4,
    "start_time": "2024-02-18T14:07:19.707Z"
   },
   {
    "duration": 66,
    "start_time": "2024-02-18T14:07:57.455Z"
   },
   {
    "duration": 32,
    "start_time": "2024-02-18T14:08:17.038Z"
   },
   {
    "duration": 18,
    "start_time": "2024-02-18T14:08:47.010Z"
   },
   {
    "duration": 5,
    "start_time": "2024-02-18T14:08:56.282Z"
   },
   {
    "duration": 472,
    "start_time": "2024-02-18T14:09:03.696Z"
   },
   {
    "duration": 0,
    "start_time": "2024-02-18T14:09:04.169Z"
   },
   {
    "duration": 397,
    "start_time": "2024-02-18T14:09:22.298Z"
   },
   {
    "duration": 3,
    "start_time": "2024-02-18T14:09:22.697Z"
   },
   {
    "duration": 176,
    "start_time": "2024-02-18T14:09:22.701Z"
   },
   {
    "duration": 4,
    "start_time": "2024-02-18T14:09:22.878Z"
   },
   {
    "duration": 19,
    "start_time": "2024-02-18T14:09:22.883Z"
   },
   {
    "duration": 6,
    "start_time": "2024-02-18T14:09:22.903Z"
   },
   {
    "duration": 108,
    "start_time": "2024-02-18T14:10:24.283Z"
   },
   {
    "duration": 4,
    "start_time": "2024-02-18T14:10:27.873Z"
   },
   {
    "duration": 4,
    "start_time": "2024-02-18T14:10:28.029Z"
   },
   {
    "duration": 29,
    "start_time": "2024-02-18T14:11:17.014Z"
   },
   {
    "duration": 60,
    "start_time": "2024-02-18T14:11:58.755Z"
   },
   {
    "duration": 11,
    "start_time": "2024-02-18T14:12:02.595Z"
   },
   {
    "duration": 9,
    "start_time": "2024-02-18T14:12:06.361Z"
   },
   {
    "duration": 7,
    "start_time": "2024-02-18T14:15:29.252Z"
   },
   {
    "duration": 7,
    "start_time": "2024-02-18T14:16:38.605Z"
   },
   {
    "duration": 17,
    "start_time": "2024-02-18T14:16:58.684Z"
   },
   {
    "duration": 3,
    "start_time": "2024-02-18T14:18:17.368Z"
   },
   {
    "duration": 6,
    "start_time": "2024-02-18T14:18:34.291Z"
   },
   {
    "duration": 5,
    "start_time": "2024-02-18T14:18:38.107Z"
   },
   {
    "duration": 713,
    "start_time": "2024-02-18T14:19:01.830Z"
   },
   {
    "duration": 259,
    "start_time": "2024-02-18T14:19:12.734Z"
   },
   {
    "duration": 306,
    "start_time": "2024-02-18T14:19:38.448Z"
   },
   {
    "duration": 488,
    "start_time": "2024-02-18T14:20:01.178Z"
   },
   {
    "duration": 194,
    "start_time": "2024-02-18T14:20:48.288Z"
   },
   {
    "duration": 42,
    "start_time": "2024-02-18T14:21:09.569Z"
   },
   {
    "duration": 3,
    "start_time": "2024-02-18T14:21:22.557Z"
   },
   {
    "duration": 8,
    "start_time": "2024-02-18T14:21:26.214Z"
   },
   {
    "duration": 177,
    "start_time": "2024-02-18T14:23:33.958Z"
   },
   {
    "duration": 3,
    "start_time": "2024-02-18T14:24:49.600Z"
   },
   {
    "duration": 250,
    "start_time": "2024-02-18T14:25:03.604Z"
   },
   {
    "duration": 35,
    "start_time": "2024-02-18T14:25:28.478Z"
   },
   {
    "duration": 18,
    "start_time": "2024-02-18T14:25:47.235Z"
   },
   {
    "duration": 7,
    "start_time": "2024-02-18T14:30:31.762Z"
   },
   {
    "duration": 5,
    "start_time": "2024-02-18T14:30:53.932Z"
   },
   {
    "duration": 5,
    "start_time": "2024-02-18T14:31:06.928Z"
   },
   {
    "duration": 42,
    "start_time": "2024-02-18T14:32:05.937Z"
   },
   {
    "duration": 4,
    "start_time": "2024-02-18T14:32:12.596Z"
   },
   {
    "duration": 12,
    "start_time": "2024-02-18T14:32:16.990Z"
   },
   {
    "duration": 20,
    "start_time": "2024-02-18T14:33:41.024Z"
   },
   {
    "duration": 4,
    "start_time": "2024-02-18T14:34:04.121Z"
   },
   {
    "duration": 5,
    "start_time": "2024-02-18T14:34:22.401Z"
   },
   {
    "duration": 126,
    "start_time": "2024-02-18T14:34:41.563Z"
   },
   {
    "duration": 233,
    "start_time": "2024-02-18T14:34:54.592Z"
   },
   {
    "duration": 236,
    "start_time": "2024-02-18T14:35:10.881Z"
   },
   {
    "duration": 235,
    "start_time": "2024-02-18T14:35:27.361Z"
   },
   {
    "duration": 376,
    "start_time": "2024-02-18T14:35:28.300Z"
   },
   {
    "duration": 12,
    "start_time": "2024-02-18T14:49:05.291Z"
   },
   {
    "duration": 7,
    "start_time": "2024-02-18T14:49:39.397Z"
   },
   {
    "duration": 7,
    "start_time": "2024-02-18T14:49:54.891Z"
   },
   {
    "duration": 9,
    "start_time": "2024-02-18T14:50:09.332Z"
   },
   {
    "duration": 2,
    "start_time": "2024-02-18T15:01:40.524Z"
   },
   {
    "duration": 3,
    "start_time": "2024-02-18T15:02:08.090Z"
   },
   {
    "duration": 18,
    "start_time": "2024-02-18T15:02:18.641Z"
   },
   {
    "duration": 4,
    "start_time": "2024-02-18T15:02:25.294Z"
   },
   {
    "duration": 15,
    "start_time": "2024-02-18T15:02:25.804Z"
   },
   {
    "duration": 3,
    "start_time": "2024-02-18T15:02:35.193Z"
   },
   {
    "duration": 12,
    "start_time": "2024-02-18T15:02:35.345Z"
   },
   {
    "duration": 2,
    "start_time": "2024-02-18T15:02:47.931Z"
   },
   {
    "duration": 12,
    "start_time": "2024-02-18T15:02:48.287Z"
   },
   {
    "duration": 5,
    "start_time": "2024-02-18T15:03:13.958Z"
   },
   {
    "duration": 3,
    "start_time": "2024-02-18T15:03:21.812Z"
   },
   {
    "duration": 14,
    "start_time": "2024-02-18T15:03:22.219Z"
   },
   {
    "duration": 5,
    "start_time": "2024-02-18T15:03:41.156Z"
   },
   {
    "duration": 2,
    "start_time": "2024-02-18T15:03:52.768Z"
   },
   {
    "duration": 12,
    "start_time": "2024-02-18T15:03:53.140Z"
   },
   {
    "duration": 8,
    "start_time": "2024-02-18T15:04:44.673Z"
   },
   {
    "duration": 3,
    "start_time": "2024-02-18T15:04:50.254Z"
   },
   {
    "duration": 18,
    "start_time": "2024-02-18T15:05:02.663Z"
   },
   {
    "duration": 2,
    "start_time": "2024-02-18T15:05:39.516Z"
   },
   {
    "duration": 12,
    "start_time": "2024-02-18T15:05:39.888Z"
   },
   {
    "duration": 2,
    "start_time": "2024-02-18T15:06:06.873Z"
   },
   {
    "duration": 12,
    "start_time": "2024-02-18T15:06:07.312Z"
   },
   {
    "duration": 10,
    "start_time": "2024-02-18T15:07:36.716Z"
   },
   {
    "duration": 10,
    "start_time": "2024-02-18T15:07:49.881Z"
   },
   {
    "duration": 11,
    "start_time": "2024-02-18T15:08:07.372Z"
   },
   {
    "duration": 3,
    "start_time": "2024-02-18T15:08:42.977Z"
   },
   {
    "duration": 8,
    "start_time": "2024-02-18T15:08:44.311Z"
   },
   {
    "duration": 9,
    "start_time": "2024-02-18T15:16:25.892Z"
   },
   {
    "duration": 9,
    "start_time": "2024-02-18T15:16:36.597Z"
   },
   {
    "duration": 7,
    "start_time": "2024-02-18T15:16:51.301Z"
   },
   {
    "duration": 8,
    "start_time": "2024-02-18T15:17:03.619Z"
   },
   {
    "duration": 4,
    "start_time": "2024-02-18T15:18:32.724Z"
   },
   {
    "duration": 3,
    "start_time": "2024-02-18T15:18:39.738Z"
   },
   {
    "duration": 5,
    "start_time": "2024-02-18T15:19:44.982Z"
   },
   {
    "duration": 3,
    "start_time": "2024-02-18T15:20:19.501Z"
   },
   {
    "duration": 5,
    "start_time": "2024-02-18T15:20:24.847Z"
   },
   {
    "duration": 14,
    "start_time": "2024-02-18T15:22:08.875Z"
   },
   {
    "duration": 4,
    "start_time": "2024-02-18T15:26:52.146Z"
   },
   {
    "duration": 1102,
    "start_time": "2024-02-18T15:27:12.621Z"
   },
   {
    "duration": 4,
    "start_time": "2024-02-18T15:27:13.725Z"
   },
   {
    "duration": 135,
    "start_time": "2024-02-18T15:27:13.730Z"
   },
   {
    "duration": 3,
    "start_time": "2024-02-18T15:27:13.867Z"
   },
   {
    "duration": 10,
    "start_time": "2024-02-18T15:27:13.871Z"
   },
   {
    "duration": 6,
    "start_time": "2024-02-18T15:27:13.882Z"
   },
   {
    "duration": 95,
    "start_time": "2024-02-18T15:27:13.892Z"
   },
   {
    "duration": 0,
    "start_time": "2024-02-18T15:27:13.988Z"
   },
   {
    "duration": 0,
    "start_time": "2024-02-18T15:27:13.994Z"
   },
   {
    "duration": 0,
    "start_time": "2024-02-18T15:27:13.995Z"
   },
   {
    "duration": 0,
    "start_time": "2024-02-18T15:27:13.996Z"
   },
   {
    "duration": 0,
    "start_time": "2024-02-18T15:27:13.997Z"
   },
   {
    "duration": 0,
    "start_time": "2024-02-18T15:27:13.998Z"
   },
   {
    "duration": 9,
    "start_time": "2024-02-18T15:28:04.695Z"
   },
   {
    "duration": 5,
    "start_time": "2024-02-18T15:28:53.908Z"
   },
   {
    "duration": 21,
    "start_time": "2024-02-18T15:30:44.293Z"
   },
   {
    "duration": 19,
    "start_time": "2024-02-18T15:30:52.393Z"
   },
   {
    "duration": 6,
    "start_time": "2024-02-18T15:31:02.489Z"
   },
   {
    "duration": 20,
    "start_time": "2024-02-18T15:31:07.462Z"
   },
   {
    "duration": 4,
    "start_time": "2024-02-18T15:31:11.902Z"
   },
   {
    "duration": 1141,
    "start_time": "2024-02-18T15:32:00.087Z"
   },
   {
    "duration": 3,
    "start_time": "2024-02-18T15:32:01.229Z"
   },
   {
    "duration": 113,
    "start_time": "2024-02-18T15:32:01.234Z"
   },
   {
    "duration": 4,
    "start_time": "2024-02-18T15:32:01.348Z"
   },
   {
    "duration": 37,
    "start_time": "2024-02-18T15:32:01.354Z"
   },
   {
    "duration": 40,
    "start_time": "2024-02-18T15:32:01.393Z"
   },
   {
    "duration": 14,
    "start_time": "2024-02-18T15:32:01.434Z"
   },
   {
    "duration": 24,
    "start_time": "2024-02-18T15:32:01.450Z"
   },
   {
    "duration": 22,
    "start_time": "2024-02-18T15:32:01.475Z"
   },
   {
    "duration": 41,
    "start_time": "2024-02-18T15:32:01.499Z"
   },
   {
    "duration": 108,
    "start_time": "2024-02-18T15:32:01.541Z"
   },
   {
    "duration": 0,
    "start_time": "2024-02-18T15:32:01.651Z"
   },
   {
    "duration": 0,
    "start_time": "2024-02-18T15:32:01.651Z"
   },
   {
    "duration": 0,
    "start_time": "2024-02-18T15:32:01.652Z"
   },
   {
    "duration": 0,
    "start_time": "2024-02-18T15:32:01.653Z"
   },
   {
    "duration": 0,
    "start_time": "2024-02-18T15:32:01.654Z"
   },
   {
    "duration": 0,
    "start_time": "2024-02-18T15:32:01.655Z"
   },
   {
    "duration": 12,
    "start_time": "2024-02-18T15:32:51.797Z"
   },
   {
    "duration": 5,
    "start_time": "2024-02-18T15:36:48.059Z"
   },
   {
    "duration": 11,
    "start_time": "2024-02-18T15:36:48.541Z"
   },
   {
    "duration": 1188,
    "start_time": "2024-02-18T15:36:59.646Z"
   },
   {
    "duration": 3,
    "start_time": "2024-02-18T15:37:00.836Z"
   },
   {
    "duration": 125,
    "start_time": "2024-02-18T15:37:00.840Z"
   },
   {
    "duration": 4,
    "start_time": "2024-02-18T15:37:00.967Z"
   },
   {
    "duration": 62,
    "start_time": "2024-02-18T15:37:00.972Z"
   },
   {
    "duration": 53,
    "start_time": "2024-02-18T15:37:01.035Z"
   },
   {
    "duration": 45,
    "start_time": "2024-02-18T15:37:01.090Z"
   },
   {
    "duration": 28,
    "start_time": "2024-02-18T15:37:01.137Z"
   },
   {
    "duration": 37,
    "start_time": "2024-02-18T15:37:01.167Z"
   },
   {
    "duration": 47,
    "start_time": "2024-02-18T15:37:01.207Z"
   },
   {
    "duration": 48,
    "start_time": "2024-02-18T15:37:01.256Z"
   },
   {
    "duration": 22,
    "start_time": "2024-02-18T15:37:01.305Z"
   },
   {
    "duration": 34,
    "start_time": "2024-02-18T15:37:01.328Z"
   },
   {
    "duration": 38,
    "start_time": "2024-02-18T15:37:01.363Z"
   },
   {
    "duration": 94,
    "start_time": "2024-02-18T15:37:01.402Z"
   },
   {
    "duration": 9,
    "start_time": "2024-02-18T15:37:42.150Z"
   },
   {
    "duration": 8,
    "start_time": "2024-02-18T15:40:00.725Z"
   },
   {
    "duration": 103,
    "start_time": "2024-02-18T15:40:14.458Z"
   },
   {
    "duration": 12,
    "start_time": "2024-02-18T15:43:33.994Z"
   },
   {
    "duration": 131,
    "start_time": "2024-02-18T15:44:12.317Z"
   },
   {
    "duration": 11,
    "start_time": "2024-02-18T15:44:25.581Z"
   },
   {
    "duration": 9,
    "start_time": "2024-02-18T15:44:51.712Z"
   },
   {
    "duration": 1118,
    "start_time": "2024-02-18T15:49:28.409Z"
   },
   {
    "duration": 3,
    "start_time": "2024-02-18T15:49:29.529Z"
   },
   {
    "duration": 106,
    "start_time": "2024-02-18T15:49:29.533Z"
   },
   {
    "duration": 3,
    "start_time": "2024-02-18T15:49:29.641Z"
   },
   {
    "duration": 28,
    "start_time": "2024-02-18T15:49:29.645Z"
   },
   {
    "duration": 35,
    "start_time": "2024-02-18T15:49:29.675Z"
   },
   {
    "duration": 17,
    "start_time": "2024-02-18T15:49:29.711Z"
   },
   {
    "duration": 34,
    "start_time": "2024-02-18T15:49:29.730Z"
   },
   {
    "duration": 35,
    "start_time": "2024-02-18T15:49:29.765Z"
   },
   {
    "duration": 26,
    "start_time": "2024-02-18T15:49:29.802Z"
   },
   {
    "duration": 38,
    "start_time": "2024-02-18T15:49:29.830Z"
   },
   {
    "duration": 29,
    "start_time": "2024-02-18T15:49:29.870Z"
   },
   {
    "duration": 36,
    "start_time": "2024-02-18T15:49:29.901Z"
   },
   {
    "duration": 19,
    "start_time": "2024-02-18T15:49:29.939Z"
   },
   {
    "duration": 63,
    "start_time": "2024-02-18T15:49:29.959Z"
   },
   {
    "duration": 87,
    "start_time": "2024-02-18T15:49:30.023Z"
   },
   {
    "duration": 36,
    "start_time": "2024-02-18T15:50:34.711Z"
   },
   {
    "duration": 1656,
    "start_time": "2024-02-18T15:57:17.053Z"
   },
   {
    "duration": 24,
    "start_time": "2024-02-18T15:57:26.344Z"
   },
   {
    "duration": 25,
    "start_time": "2024-02-18T15:58:15.619Z"
   },
   {
    "duration": 246,
    "start_time": "2024-02-18T15:59:22.939Z"
   },
   {
    "duration": 235,
    "start_time": "2024-02-18T15:59:36.307Z"
   },
   {
    "duration": 6,
    "start_time": "2024-02-18T16:25:08.149Z"
   },
   {
    "duration": 20,
    "start_time": "2024-02-18T16:25:20.906Z"
   },
   {
    "duration": 257,
    "start_time": "2024-02-18T16:30:33.767Z"
   },
   {
    "duration": 13,
    "start_time": "2024-02-18T16:31:00.682Z"
   },
   {
    "duration": 218,
    "start_time": "2024-02-18T17:51:10.196Z"
   },
   {
    "duration": 306,
    "start_time": "2024-02-18T17:51:21.332Z"
   },
   {
    "duration": 191,
    "start_time": "2024-02-18T17:51:30.809Z"
   },
   {
    "duration": 208,
    "start_time": "2024-02-18T17:51:46.972Z"
   },
   {
    "duration": 191,
    "start_time": "2024-02-18T18:46:46.419Z"
   },
   {
    "duration": 6,
    "start_time": "2024-02-18T18:47:07.717Z"
   },
   {
    "duration": 7,
    "start_time": "2024-02-18T18:47:20.555Z"
   },
   {
    "duration": 9,
    "start_time": "2024-02-18T18:47:36.728Z"
   },
   {
    "duration": 7,
    "start_time": "2024-02-18T18:47:40.229Z"
   },
   {
    "duration": 5,
    "start_time": "2024-02-18T18:55:34.265Z"
   },
   {
    "duration": 4,
    "start_time": "2024-02-18T18:55:57.660Z"
   },
   {
    "duration": 195,
    "start_time": "2024-02-18T18:56:08.365Z"
   },
   {
    "duration": 206,
    "start_time": "2024-02-18T18:56:37.757Z"
   },
   {
    "duration": 314,
    "start_time": "2024-02-18T18:57:07.029Z"
   },
   {
    "duration": 6,
    "start_time": "2024-02-18T18:57:15.800Z"
   },
   {
    "duration": 197,
    "start_time": "2024-02-18T18:57:30.730Z"
   },
   {
    "duration": 194,
    "start_time": "2024-02-18T18:58:08.997Z"
   },
   {
    "duration": 13,
    "start_time": "2024-02-18T18:59:45.639Z"
   },
   {
    "duration": 15,
    "start_time": "2024-02-18T19:01:49.750Z"
   },
   {
    "duration": 13,
    "start_time": "2024-02-18T19:03:50.008Z"
   },
   {
    "duration": 11,
    "start_time": "2024-02-18T19:04:32.536Z"
   },
   {
    "duration": 12,
    "start_time": "2024-02-18T19:04:44.408Z"
   },
   {
    "duration": 20,
    "start_time": "2024-02-18T19:04:52.539Z"
   },
   {
    "duration": 19,
    "start_time": "2024-02-18T19:05:02.488Z"
   },
   {
    "duration": 16,
    "start_time": "2024-02-18T19:06:39.677Z"
   },
   {
    "duration": 14,
    "start_time": "2024-02-18T19:07:00.471Z"
   },
   {
    "duration": 153,
    "start_time": "2024-02-18T19:07:41.571Z"
   },
   {
    "duration": 18,
    "start_time": "2024-02-18T19:07:47.843Z"
   },
   {
    "duration": 7,
    "start_time": "2024-02-18T19:08:32.459Z"
   },
   {
    "duration": 8,
    "start_time": "2024-02-18T19:08:32.903Z"
   },
   {
    "duration": 9,
    "start_time": "2024-02-18T19:08:43.508Z"
   },
   {
    "duration": 12,
    "start_time": "2024-02-18T19:08:59.963Z"
   },
   {
    "duration": 13,
    "start_time": "2024-02-18T19:09:04.643Z"
   },
   {
    "duration": 24,
    "start_time": "2024-02-18T19:10:20.427Z"
   },
   {
    "duration": 11,
    "start_time": "2024-02-18T19:11:42.451Z"
   },
   {
    "duration": 14,
    "start_time": "2024-02-18T19:11:42.819Z"
   },
   {
    "duration": 1659,
    "start_time": "2024-02-18T19:15:16.834Z"
   },
   {
    "duration": 19,
    "start_time": "2024-02-18T19:15:33.482Z"
   },
   {
    "duration": 4,
    "start_time": "2024-02-18T19:15:45.188Z"
   },
   {
    "duration": 4,
    "start_time": "2024-02-18T19:16:05.318Z"
   },
   {
    "duration": 94,
    "start_time": "2024-02-18T19:16:35.086Z"
   },
   {
    "duration": 94,
    "start_time": "2024-02-18T19:16:43.821Z"
   },
   {
    "duration": 96,
    "start_time": "2024-02-18T19:16:49.791Z"
   },
   {
    "duration": 91,
    "start_time": "2024-02-18T19:16:58.580Z"
   },
   {
    "duration": 101,
    "start_time": "2024-02-18T19:17:05.069Z"
   },
   {
    "duration": 105,
    "start_time": "2024-02-18T19:17:45.223Z"
   },
   {
    "duration": 191,
    "start_time": "2024-02-18T19:17:52.605Z"
   },
   {
    "duration": 115,
    "start_time": "2024-02-18T19:18:24.635Z"
   },
   {
    "duration": 143,
    "start_time": "2024-02-18T19:18:29.912Z"
   },
   {
    "duration": 113,
    "start_time": "2024-02-18T19:19:02.211Z"
   },
   {
    "duration": 119,
    "start_time": "2024-02-18T19:19:08.627Z"
   },
   {
    "duration": 53,
    "start_time": "2024-02-20T17:38:39.327Z"
   },
   {
    "duration": 1224,
    "start_time": "2024-02-20T17:38:44.559Z"
   },
   {
    "duration": 3,
    "start_time": "2024-02-20T17:38:45.785Z"
   },
   {
    "duration": 94,
    "start_time": "2024-02-20T17:38:45.789Z"
   },
   {
    "duration": 3,
    "start_time": "2024-02-20T17:38:45.885Z"
   },
   {
    "duration": 36,
    "start_time": "2024-02-20T17:38:45.889Z"
   },
   {
    "duration": 24,
    "start_time": "2024-02-20T17:38:45.927Z"
   },
   {
    "duration": 15,
    "start_time": "2024-02-20T17:38:45.953Z"
   },
   {
    "duration": 26,
    "start_time": "2024-02-20T17:38:45.969Z"
   },
   {
    "duration": 10,
    "start_time": "2024-02-20T17:38:45.996Z"
   },
   {
    "duration": 6,
    "start_time": "2024-02-20T17:38:46.008Z"
   },
   {
    "duration": 10,
    "start_time": "2024-02-20T17:38:46.015Z"
   },
   {
    "duration": 4,
    "start_time": "2024-02-20T17:38:46.027Z"
   },
   {
    "duration": 7,
    "start_time": "2024-02-20T17:38:46.032Z"
   },
   {
    "duration": 4,
    "start_time": "2024-02-20T17:38:46.040Z"
   },
   {
    "duration": 30,
    "start_time": "2024-02-20T17:38:46.046Z"
   },
   {
    "duration": 249,
    "start_time": "2024-02-20T17:38:46.077Z"
   },
   {
    "duration": 200,
    "start_time": "2024-02-20T17:38:46.328Z"
   },
   {
    "duration": 52,
    "start_time": "2024-02-20T17:38:46.529Z"
   },
   {
    "duration": 10,
    "start_time": "2024-02-20T17:38:46.582Z"
   },
   {
    "duration": 16,
    "start_time": "2024-02-20T17:38:46.593Z"
   },
   {
    "duration": 3,
    "start_time": "2024-02-20T17:38:46.610Z"
   },
   {
    "duration": 18,
    "start_time": "2024-02-20T17:38:46.614Z"
   },
   {
    "duration": 91,
    "start_time": "2024-02-20T17:38:46.633Z"
   },
   {
    "duration": 94,
    "start_time": "2024-02-20T17:38:46.726Z"
   },
   {
    "duration": 118,
    "start_time": "2024-02-20T17:38:46.821Z"
   },
   {
    "duration": 118,
    "start_time": "2024-02-20T17:38:46.945Z"
   },
   {
    "duration": 194,
    "start_time": "2024-02-20T17:38:47.065Z"
   },
   {
    "duration": 126,
    "start_time": "2024-02-20T17:38:47.264Z"
   },
   {
    "duration": 147,
    "start_time": "2024-02-20T17:38:47.391Z"
   },
   {
    "duration": 134,
    "start_time": "2024-02-20T17:38:47.539Z"
   },
   {
    "duration": 114,
    "start_time": "2024-02-20T17:40:53.723Z"
   },
   {
    "duration": 22,
    "start_time": "2024-02-20T17:41:28.379Z"
   },
   {
    "duration": 20,
    "start_time": "2024-02-20T17:41:33.466Z"
   },
   {
    "duration": 11,
    "start_time": "2024-02-20T17:42:14.096Z"
   },
   {
    "duration": 12,
    "start_time": "2024-02-20T17:42:15.082Z"
   },
   {
    "duration": 19,
    "start_time": "2024-02-20T17:43:35.726Z"
   },
   {
    "duration": 17,
    "start_time": "2024-02-20T17:43:44.989Z"
   },
   {
    "duration": 24,
    "start_time": "2024-02-20T17:43:55.362Z"
   },
   {
    "duration": 88,
    "start_time": "2024-02-20T17:44:57.363Z"
   },
   {
    "duration": 20,
    "start_time": "2024-02-20T17:45:04.148Z"
   },
   {
    "duration": 18,
    "start_time": "2024-02-20T17:45:20.097Z"
   },
   {
    "duration": 75,
    "start_time": "2024-02-20T17:45:45.108Z"
   },
   {
    "duration": 25,
    "start_time": "2024-02-20T17:45:48.280Z"
   },
   {
    "duration": 15,
    "start_time": "2024-02-20T17:46:19.784Z"
   },
   {
    "duration": 15,
    "start_time": "2024-02-20T17:47:03.901Z"
   },
   {
    "duration": 20,
    "start_time": "2024-02-20T17:47:17.274Z"
   },
   {
    "duration": 63,
    "start_time": "2024-02-20T17:48:01.313Z"
   },
   {
    "duration": 68,
    "start_time": "2024-02-20T17:48:20.701Z"
   },
   {
    "duration": 31,
    "start_time": "2024-02-20T17:48:56.634Z"
   },
   {
    "duration": 17,
    "start_time": "2024-02-20T17:49:06.314Z"
   },
   {
    "duration": 15,
    "start_time": "2024-02-20T17:50:36.626Z"
   },
   {
    "duration": 18,
    "start_time": "2024-02-20T17:50:39.124Z"
   },
   {
    "duration": 14,
    "start_time": "2024-02-20T17:50:50.430Z"
   },
   {
    "duration": 9,
    "start_time": "2024-02-20T17:51:35.771Z"
   },
   {
    "duration": 15,
    "start_time": "2024-02-20T17:51:42.437Z"
   },
   {
    "duration": 95,
    "start_time": "2024-02-20T17:52:30.587Z"
   },
   {
    "duration": 86,
    "start_time": "2024-02-20T17:52:34.193Z"
   },
   {
    "duration": 78,
    "start_time": "2024-02-20T17:52:44.461Z"
   },
   {
    "duration": 17,
    "start_time": "2024-02-20T17:52:56.519Z"
   },
   {
    "duration": 15,
    "start_time": "2024-02-20T17:53:43.391Z"
   },
   {
    "duration": 32,
    "start_time": "2024-02-20T17:54:54.142Z"
   },
   {
    "duration": 17,
    "start_time": "2024-02-20T17:55:09.323Z"
   },
   {
    "duration": 15,
    "start_time": "2024-02-20T17:55:46.834Z"
   },
   {
    "duration": 7,
    "start_time": "2024-02-20T17:56:12.390Z"
   },
   {
    "duration": 11,
    "start_time": "2024-02-20T17:56:20.816Z"
   },
   {
    "duration": 17,
    "start_time": "2024-02-20T17:56:21.258Z"
   },
   {
    "duration": 13,
    "start_time": "2024-02-20T17:56:21.746Z"
   },
   {
    "duration": 9,
    "start_time": "2024-02-20T17:56:37.740Z"
   },
   {
    "duration": 5,
    "start_time": "2024-02-20T17:56:45.200Z"
   },
   {
    "duration": 78,
    "start_time": "2024-02-20T17:57:41.832Z"
   },
   {
    "duration": 76,
    "start_time": "2024-02-20T17:58:10.116Z"
   },
   {
    "duration": 66,
    "start_time": "2024-02-20T17:58:42.439Z"
   },
   {
    "duration": 72,
    "start_time": "2024-02-20T17:58:49.224Z"
   },
   {
    "duration": 10,
    "start_time": "2024-02-20T17:59:14.952Z"
   },
   {
    "duration": 3,
    "start_time": "2024-02-20T17:59:20.600Z"
   },
   {
    "duration": 6,
    "start_time": "2024-02-20T17:59:33.081Z"
   },
   {
    "duration": 14,
    "start_time": "2024-02-20T17:59:42.330Z"
   },
   {
    "duration": 78,
    "start_time": "2024-02-20T18:00:20.432Z"
   },
   {
    "duration": 13,
    "start_time": "2024-02-20T18:00:44.595Z"
   },
   {
    "duration": 3,
    "start_time": "2024-02-20T18:00:53.939Z"
   },
   {
    "duration": 6,
    "start_time": "2024-02-20T18:00:54.286Z"
   },
   {
    "duration": 5,
    "start_time": "2024-02-20T18:01:16.497Z"
   },
   {
    "duration": 4,
    "start_time": "2024-02-20T18:01:16.837Z"
   },
   {
    "duration": 105,
    "start_time": "2024-02-20T18:01:17.748Z"
   },
   {
    "duration": 109,
    "start_time": "2024-02-20T18:01:19.892Z"
   },
   {
    "duration": 140,
    "start_time": "2024-02-20T18:05:15.950Z"
   },
   {
    "duration": 141,
    "start_time": "2024-02-20T18:05:22.633Z"
   },
   {
    "duration": 154,
    "start_time": "2024-02-20T18:05:30.153Z"
   },
   {
    "duration": 443,
    "start_time": "2024-02-20T18:08:47.214Z"
   },
   {
    "duration": 356,
    "start_time": "2024-02-20T18:08:49.670Z"
   },
   {
    "duration": 170,
    "start_time": "2024-02-20T18:11:26.248Z"
   },
   {
    "duration": 185,
    "start_time": "2024-02-20T18:11:33.754Z"
   },
   {
    "duration": 1159,
    "start_time": "2024-02-20T18:13:01.387Z"
   },
   {
    "duration": 10,
    "start_time": "2024-02-20T18:13:16.138Z"
   },
   {
    "duration": 8,
    "start_time": "2024-02-20T18:14:09.571Z"
   },
   {
    "duration": 10,
    "start_time": "2024-02-20T18:14:18.545Z"
   },
   {
    "duration": 12,
    "start_time": "2024-02-20T18:14:23.471Z"
   },
   {
    "duration": 164,
    "start_time": "2024-02-20T18:15:15.058Z"
   },
   {
    "duration": 161,
    "start_time": "2024-02-20T18:16:47.884Z"
   },
   {
    "duration": 1171,
    "start_time": "2024-02-20T18:28:49.653Z"
   },
   {
    "duration": 5,
    "start_time": "2024-02-20T18:29:05.973Z"
   },
   {
    "duration": 26,
    "start_time": "2024-02-20T18:29:21.781Z"
   },
   {
    "duration": 2,
    "start_time": "2024-02-20T18:30:35.702Z"
   },
   {
    "duration": 3,
    "start_time": "2024-02-20T18:30:51.926Z"
   },
   {
    "duration": 67,
    "start_time": "2024-02-20T18:31:12.340Z"
   },
   {
    "duration": 3,
    "start_time": "2024-02-20T18:31:46.403Z"
   },
   {
    "duration": 8,
    "start_time": "2024-02-20T18:31:48.139Z"
   },
   {
    "duration": 86,
    "start_time": "2024-02-20T18:33:58.656Z"
   },
   {
    "duration": 3,
    "start_time": "2024-02-20T18:34:18.209Z"
   },
   {
    "duration": 9,
    "start_time": "2024-02-20T18:34:19.966Z"
   },
   {
    "duration": 6,
    "start_time": "2024-02-20T18:34:36.026Z"
   },
   {
    "duration": 185,
    "start_time": "2024-02-20T18:36:57.888Z"
   },
   {
    "duration": 5,
    "start_time": "2024-02-20T18:37:52.239Z"
   },
   {
    "duration": 5,
    "start_time": "2024-02-20T18:38:20.050Z"
   },
   {
    "duration": 6,
    "start_time": "2024-02-20T18:38:36.116Z"
   },
   {
    "duration": 311,
    "start_time": "2024-02-20T18:38:53.829Z"
   },
   {
    "duration": 6,
    "start_time": "2024-02-20T18:39:59.306Z"
   },
   {
    "duration": 212,
    "start_time": "2024-02-20T18:40:04.290Z"
   },
   {
    "duration": 5,
    "start_time": "2024-02-20T18:40:34.123Z"
   },
   {
    "duration": 202,
    "start_time": "2024-02-20T18:41:18.883Z"
   },
   {
    "duration": 225,
    "start_time": "2024-02-20T18:41:53.445Z"
   },
   {
    "duration": 129,
    "start_time": "2024-02-20T18:42:05.486Z"
   },
   {
    "duration": 137,
    "start_time": "2024-02-20T18:42:45.409Z"
   },
   {
    "duration": 393,
    "start_time": "2024-02-20T18:42:52.587Z"
   },
   {
    "duration": 91,
    "start_time": "2024-02-20T18:47:02.015Z"
   },
   {
    "duration": 12,
    "start_time": "2024-02-20T18:47:06.245Z"
   },
   {
    "duration": 25,
    "start_time": "2024-02-20T18:47:11.045Z"
   },
   {
    "duration": 13,
    "start_time": "2024-02-20T18:48:46.514Z"
   },
   {
    "duration": 12,
    "start_time": "2024-02-20T18:48:49.128Z"
   },
   {
    "duration": 5,
    "start_time": "2024-02-20T18:49:32.599Z"
   },
   {
    "duration": 3,
    "start_time": "2024-02-20T18:50:09.811Z"
   },
   {
    "duration": 8,
    "start_time": "2024-02-20T18:50:24.507Z"
   },
   {
    "duration": 8,
    "start_time": "2024-02-20T18:50:34.402Z"
   },
   {
    "duration": 9,
    "start_time": "2024-02-20T18:50:41.933Z"
   },
   {
    "duration": 12,
    "start_time": "2024-02-20T18:50:43.876Z"
   },
   {
    "duration": 5,
    "start_time": "2024-02-20T18:50:44.702Z"
   },
   {
    "duration": 3,
    "start_time": "2024-02-20T18:50:47.388Z"
   },
   {
    "duration": 11,
    "start_time": "2024-02-20T18:50:48.548Z"
   },
   {
    "duration": 16,
    "start_time": "2024-02-20T18:51:23.802Z"
   },
   {
    "duration": 5,
    "start_time": "2024-02-20T18:51:24.154Z"
   },
   {
    "duration": 3,
    "start_time": "2024-02-20T18:51:24.683Z"
   },
   {
    "duration": 8,
    "start_time": "2024-02-20T18:51:25.451Z"
   },
   {
    "duration": 8,
    "start_time": "2024-02-20T18:51:43.364Z"
   },
   {
    "duration": 11,
    "start_time": "2024-02-20T18:51:46.027Z"
   },
   {
    "duration": 4,
    "start_time": "2024-02-20T18:51:46.453Z"
   },
   {
    "duration": 8,
    "start_time": "2024-02-20T18:51:57.253Z"
   },
   {
    "duration": 16,
    "start_time": "2024-02-20T18:52:00.756Z"
   },
   {
    "duration": 6,
    "start_time": "2024-02-20T18:52:00.979Z"
   },
   {
    "duration": 10,
    "start_time": "2024-02-20T18:52:01.615Z"
   },
   {
    "duration": 4,
    "start_time": "2024-02-20T18:52:12.360Z"
   },
   {
    "duration": 11,
    "start_time": "2024-02-20T18:52:33.516Z"
   },
   {
    "duration": 4,
    "start_time": "2024-02-20T18:52:34.047Z"
   },
   {
    "duration": 7,
    "start_time": "2024-02-20T18:52:41.909Z"
   },
   {
    "duration": 67,
    "start_time": "2024-02-20T18:53:39.028Z"
   },
   {
    "duration": 62,
    "start_time": "2024-02-20T18:53:45.889Z"
   },
   {
    "duration": 12,
    "start_time": "2024-02-20T18:53:48.631Z"
   },
   {
    "duration": 313,
    "start_time": "2024-02-20T18:53:55.896Z"
   },
   {
    "duration": 10,
    "start_time": "2024-02-20T18:55:04.706Z"
   },
   {
    "duration": 11,
    "start_time": "2024-02-20T18:55:11.360Z"
   },
   {
    "duration": 9,
    "start_time": "2024-02-20T18:55:58.421Z"
   },
   {
    "duration": 7,
    "start_time": "2024-02-20T18:55:59.574Z"
   },
   {
    "duration": 11,
    "start_time": "2024-02-20T18:56:24.914Z"
   },
   {
    "duration": 9,
    "start_time": "2024-02-20T18:56:25.279Z"
   },
   {
    "duration": 12,
    "start_time": "2024-02-20T18:57:07.280Z"
   },
   {
    "duration": 3,
    "start_time": "2024-02-20T18:57:07.678Z"
   },
   {
    "duration": 3,
    "start_time": "2024-02-20T18:57:12.293Z"
   },
   {
    "duration": 9,
    "start_time": "2024-02-20T18:57:19.144Z"
   },
   {
    "duration": 9,
    "start_time": "2024-02-20T18:57:19.468Z"
   },
   {
    "duration": 10,
    "start_time": "2024-02-20T18:57:34.729Z"
   },
   {
    "duration": 10,
    "start_time": "2024-02-20T18:57:35.531Z"
   },
   {
    "duration": 12,
    "start_time": "2024-02-20T18:57:58.156Z"
   },
   {
    "duration": 297,
    "start_time": "2024-02-20T18:57:59.851Z"
   },
   {
    "duration": 7,
    "start_time": "2024-02-20T18:58:00.196Z"
   },
   {
    "duration": 90,
    "start_time": "2024-02-20T18:59:07.302Z"
   },
   {
    "duration": 11,
    "start_time": "2024-02-20T18:59:13.606Z"
   },
   {
    "duration": 6,
    "start_time": "2024-02-20T18:59:15.448Z"
   },
   {
    "duration": 1125,
    "start_time": "2024-02-20T18:59:52.243Z"
   },
   {
    "duration": 7,
    "start_time": "2024-02-20T19:00:16.435Z"
   },
   {
    "duration": 1205,
    "start_time": "2024-02-20T19:00:19.099Z"
   },
   {
    "duration": 1406,
    "start_time": "2024-02-20T19:00:36.240Z"
   },
   {
    "duration": 4,
    "start_time": "2024-02-20T19:00:45.630Z"
   },
   {
    "duration": 11,
    "start_time": "2024-02-20T19:01:03.531Z"
   },
   {
    "duration": 8,
    "start_time": "2024-02-20T19:01:13.809Z"
   },
   {
    "duration": 13,
    "start_time": "2024-02-20T19:01:15.764Z"
   },
   {
    "duration": 6,
    "start_time": "2024-02-20T19:01:19.980Z"
   },
   {
    "duration": 5,
    "start_time": "2024-02-20T19:01:27.544Z"
   },
   {
    "duration": 3,
    "start_time": "2024-02-20T19:01:39.869Z"
   },
   {
    "duration": 8,
    "start_time": "2024-02-20T19:01:46.399Z"
   },
   {
    "duration": 5,
    "start_time": "2024-02-20T19:02:02.837Z"
   },
   {
    "duration": 8,
    "start_time": "2024-02-20T19:02:03.458Z"
   },
   {
    "duration": 9,
    "start_time": "2024-02-20T19:02:18.457Z"
   },
   {
    "duration": 12,
    "start_time": "2024-02-20T19:02:23.427Z"
   },
   {
    "duration": 8,
    "start_time": "2024-02-20T19:02:23.783Z"
   },
   {
    "duration": 4,
    "start_time": "2024-02-20T19:02:25.592Z"
   },
   {
    "duration": 4,
    "start_time": "2024-02-20T19:02:36.458Z"
   },
   {
    "duration": 8,
    "start_time": "2024-02-20T19:02:36.857Z"
   },
   {
    "duration": 15,
    "start_time": "2024-02-20T19:02:58.128Z"
   },
   {
    "duration": 5,
    "start_time": "2024-02-20T19:02:58.436Z"
   },
   {
    "duration": 5,
    "start_time": "2024-02-20T19:03:03.095Z"
   },
   {
    "duration": 10,
    "start_time": "2024-02-20T19:03:03.704Z"
   },
   {
    "duration": 12,
    "start_time": "2024-02-20T19:03:12.504Z"
   },
   {
    "duration": 263,
    "start_time": "2024-02-20T19:03:13.217Z"
   },
   {
    "duration": 14,
    "start_time": "2024-02-20T19:03:20.653Z"
   },
   {
    "duration": 2,
    "start_time": "2024-02-20T19:03:21.100Z"
   },
   {
    "duration": 6,
    "start_time": "2024-02-20T19:03:22.599Z"
   },
   {
    "duration": 107,
    "start_time": "2024-02-20T19:05:12.279Z"
   },
   {
    "duration": 103,
    "start_time": "2024-02-20T19:05:20.907Z"
   },
   {
    "duration": 114,
    "start_time": "2024-02-20T19:05:36.335Z"
   },
   {
    "duration": 20,
    "start_time": "2024-02-20T19:07:02.953Z"
   },
   {
    "duration": 99,
    "start_time": "2024-02-20T19:07:47.758Z"
   },
   {
    "duration": 231,
    "start_time": "2024-02-20T19:07:56.066Z"
   },
   {
    "duration": 177,
    "start_time": "2024-02-20T19:09:04.899Z"
   },
   {
    "duration": 132,
    "start_time": "2024-02-20T19:09:57.169Z"
   },
   {
    "duration": 68,
    "start_time": "2024-02-20T19:10:36.912Z"
   },
   {
    "duration": 294,
    "start_time": "2024-02-20T19:10:56.325Z"
   },
   {
    "duration": 331,
    "start_time": "2024-02-20T19:11:21.419Z"
   },
   {
    "duration": 70,
    "start_time": "2024-02-20T19:14:07.647Z"
   },
   {
    "duration": 120,
    "start_time": "2024-02-20T19:14:09.833Z"
   },
   {
    "duration": 72,
    "start_time": "2024-02-20T19:14:32.251Z"
   },
   {
    "duration": 315,
    "start_time": "2024-02-20T19:15:36.105Z"
   },
   {
    "duration": 356,
    "start_time": "2024-02-20T19:15:53.241Z"
   },
   {
    "duration": 433,
    "start_time": "2024-02-20T19:16:02.405Z"
   },
   {
    "duration": 324,
    "start_time": "2024-02-20T19:16:09.149Z"
   },
   {
    "duration": 329,
    "start_time": "2024-02-20T19:16:15.982Z"
   },
   {
    "duration": 318,
    "start_time": "2024-02-20T19:16:23.579Z"
   },
   {
    "duration": 482,
    "start_time": "2024-02-20T19:16:30.599Z"
   },
   {
    "duration": 334,
    "start_time": "2024-02-20T19:16:39.173Z"
   },
   {
    "duration": 110,
    "start_time": "2024-02-20T19:19:11.875Z"
   },
   {
    "duration": 229,
    "start_time": "2024-02-20T19:21:53.133Z"
   },
   {
    "duration": 7,
    "start_time": "2024-02-20T19:22:09.112Z"
   },
   {
    "duration": 5,
    "start_time": "2024-02-20T19:22:53.024Z"
   },
   {
    "duration": 4,
    "start_time": "2024-02-20T19:23:25.085Z"
   },
   {
    "duration": 5,
    "start_time": "2024-02-20T19:23:29.087Z"
   },
   {
    "duration": 8,
    "start_time": "2024-02-20T19:23:49.326Z"
   },
   {
    "duration": 8,
    "start_time": "2024-02-20T19:23:59.383Z"
   },
   {
    "duration": 7,
    "start_time": "2024-02-20T19:24:09.989Z"
   },
   {
    "duration": 9,
    "start_time": "2024-02-20T19:24:14.276Z"
   },
   {
    "duration": 1041,
    "start_time": "2024-02-20T19:24:23.083Z"
   },
   {
    "duration": 3,
    "start_time": "2024-02-20T19:24:24.125Z"
   },
   {
    "duration": 99,
    "start_time": "2024-02-20T19:24:24.129Z"
   },
   {
    "duration": 3,
    "start_time": "2024-02-20T19:24:24.229Z"
   },
   {
    "duration": 16,
    "start_time": "2024-02-20T19:24:24.234Z"
   },
   {
    "duration": 24,
    "start_time": "2024-02-20T19:24:24.251Z"
   },
   {
    "duration": 13,
    "start_time": "2024-02-20T19:24:24.276Z"
   },
   {
    "duration": 25,
    "start_time": "2024-02-20T19:24:24.290Z"
   },
   {
    "duration": 15,
    "start_time": "2024-02-20T19:24:24.316Z"
   },
   {
    "duration": 35,
    "start_time": "2024-02-20T19:24:24.333Z"
   },
   {
    "duration": 23,
    "start_time": "2024-02-20T19:24:24.369Z"
   },
   {
    "duration": 34,
    "start_time": "2024-02-20T19:24:24.395Z"
   },
   {
    "duration": 20,
    "start_time": "2024-02-20T19:24:24.431Z"
   },
   {
    "duration": 16,
    "start_time": "2024-02-20T19:24:24.454Z"
   },
   {
    "duration": 31,
    "start_time": "2024-02-20T19:24:24.471Z"
   },
   {
    "duration": 237,
    "start_time": "2024-02-20T19:24:24.503Z"
   },
   {
    "duration": 184,
    "start_time": "2024-02-20T19:24:24.744Z"
   },
   {
    "duration": 18,
    "start_time": "2024-02-20T19:24:24.930Z"
   },
   {
    "duration": 4,
    "start_time": "2024-02-20T19:24:24.949Z"
   },
   {
    "duration": 28,
    "start_time": "2024-02-20T19:24:24.954Z"
   },
   {
    "duration": 19,
    "start_time": "2024-02-20T19:24:24.983Z"
   },
   {
    "duration": 30,
    "start_time": "2024-02-20T19:24:25.004Z"
   },
   {
    "duration": 4,
    "start_time": "2024-02-20T19:24:25.036Z"
   },
   {
    "duration": 31,
    "start_time": "2024-02-20T19:24:25.042Z"
   },
   {
    "duration": 25,
    "start_time": "2024-02-20T19:24:25.074Z"
   },
   {
    "duration": 18,
    "start_time": "2024-02-20T19:24:25.101Z"
   },
   {
    "duration": 107,
    "start_time": "2024-02-20T19:24:25.121Z"
   },
   {
    "duration": 95,
    "start_time": "2024-02-20T19:24:25.229Z"
   },
   {
    "duration": 107,
    "start_time": "2024-02-20T19:24:25.325Z"
   },
   {
    "duration": 130,
    "start_time": "2024-02-20T19:24:25.433Z"
   },
   {
    "duration": 388,
    "start_time": "2024-02-20T19:24:25.565Z"
   },
   {
    "duration": 313,
    "start_time": "2024-02-20T19:24:25.954Z"
   },
   {
    "duration": 158,
    "start_time": "2024-02-20T19:24:26.268Z"
   },
   {
    "duration": 165,
    "start_time": "2024-02-20T19:24:26.427Z"
   },
   {
    "duration": 117,
    "start_time": "2024-02-20T19:24:26.594Z"
   },
   {
    "duration": 126,
    "start_time": "2024-02-20T19:24:26.712Z"
   },
   {
    "duration": 111,
    "start_time": "2024-02-20T19:24:26.840Z"
   },
   {
    "duration": 5,
    "start_time": "2024-02-20T19:24:26.952Z"
   },
   {
    "duration": 59,
    "start_time": "2024-02-20T19:24:26.958Z"
   },
   {
    "duration": 8,
    "start_time": "2024-02-20T19:24:27.018Z"
   },
   {
    "duration": 7,
    "start_time": "2024-02-20T19:25:06.391Z"
   },
   {
    "duration": 1075,
    "start_time": "2024-02-20T19:25:10.858Z"
   },
   {
    "duration": 3,
    "start_time": "2024-02-20T19:25:11.935Z"
   },
   {
    "duration": 123,
    "start_time": "2024-02-20T19:25:11.939Z"
   },
   {
    "duration": 3,
    "start_time": "2024-02-20T19:25:12.064Z"
   },
   {
    "duration": 41,
    "start_time": "2024-02-20T19:25:12.068Z"
   },
   {
    "duration": 30,
    "start_time": "2024-02-20T19:25:12.111Z"
   },
   {
    "duration": 31,
    "start_time": "2024-02-20T19:25:12.142Z"
   },
   {
    "duration": 32,
    "start_time": "2024-02-20T19:25:12.174Z"
   },
   {
    "duration": 9,
    "start_time": "2024-02-20T19:25:12.207Z"
   },
   {
    "duration": 9,
    "start_time": "2024-02-20T19:25:12.218Z"
   },
   {
    "duration": 15,
    "start_time": "2024-02-20T19:25:12.228Z"
   },
   {
    "duration": 5,
    "start_time": "2024-02-20T19:25:12.244Z"
   },
   {
    "duration": 19,
    "start_time": "2024-02-20T19:25:12.250Z"
   },
   {
    "duration": 18,
    "start_time": "2024-02-20T19:25:12.271Z"
   },
   {
    "duration": 4,
    "start_time": "2024-02-20T19:25:12.290Z"
   },
   {
    "duration": 63,
    "start_time": "2024-02-20T19:25:12.295Z"
   },
   {
    "duration": 243,
    "start_time": "2024-02-20T19:25:12.359Z"
   },
   {
    "duration": 185,
    "start_time": "2024-02-20T19:25:12.603Z"
   },
   {
    "duration": 11,
    "start_time": "2024-02-20T19:25:12.789Z"
   },
   {
    "duration": 7,
    "start_time": "2024-02-20T19:25:12.801Z"
   },
   {
    "duration": 7,
    "start_time": "2024-02-20T19:25:12.809Z"
   },
   {
    "duration": 14,
    "start_time": "2024-02-20T19:25:12.817Z"
   },
   {
    "duration": 16,
    "start_time": "2024-02-20T19:25:12.833Z"
   },
   {
    "duration": 2,
    "start_time": "2024-02-20T19:25:12.851Z"
   },
   {
    "duration": 8,
    "start_time": "2024-02-20T19:25:12.854Z"
   },
   {
    "duration": 7,
    "start_time": "2024-02-20T19:25:12.863Z"
   },
   {
    "duration": 6,
    "start_time": "2024-02-20T19:25:12.871Z"
   },
   {
    "duration": 91,
    "start_time": "2024-02-20T19:25:12.879Z"
   },
   {
    "duration": 101,
    "start_time": "2024-02-20T19:25:12.971Z"
   },
   {
    "duration": 101,
    "start_time": "2024-02-20T19:25:13.074Z"
   },
   {
    "duration": 117,
    "start_time": "2024-02-20T19:25:13.177Z"
   },
   {
    "duration": 404,
    "start_time": "2024-02-20T19:25:13.295Z"
   },
   {
    "duration": 330,
    "start_time": "2024-02-20T19:25:13.700Z"
   },
   {
    "duration": 154,
    "start_time": "2024-02-20T19:25:14.031Z"
   },
   {
    "duration": 163,
    "start_time": "2024-02-20T19:25:14.187Z"
   },
   {
    "duration": 106,
    "start_time": "2024-02-20T19:25:14.351Z"
   },
   {
    "duration": 107,
    "start_time": "2024-02-20T19:25:14.458Z"
   },
   {
    "duration": 115,
    "start_time": "2024-02-20T19:25:14.566Z"
   },
   {
    "duration": 5,
    "start_time": "2024-02-20T19:25:14.683Z"
   },
   {
    "duration": 6,
    "start_time": "2024-02-20T19:25:14.689Z"
   },
   {
    "duration": 10,
    "start_time": "2024-02-20T19:25:14.696Z"
   },
   {
    "duration": 1087,
    "start_time": "2024-02-20T19:27:16.537Z"
   },
   {
    "duration": 4,
    "start_time": "2024-02-20T19:27:17.626Z"
   },
   {
    "duration": 167,
    "start_time": "2024-02-20T19:27:17.632Z"
   },
   {
    "duration": 3,
    "start_time": "2024-02-20T19:27:17.801Z"
   },
   {
    "duration": 9,
    "start_time": "2024-02-20T19:27:17.805Z"
   },
   {
    "duration": 10,
    "start_time": "2024-02-20T19:27:17.815Z"
   },
   {
    "duration": 5,
    "start_time": "2024-02-20T19:27:17.826Z"
   },
   {
    "duration": 17,
    "start_time": "2024-02-20T19:27:17.833Z"
   },
   {
    "duration": 89,
    "start_time": "2024-02-20T19:27:17.851Z"
   },
   {
    "duration": 0,
    "start_time": "2024-02-20T19:27:17.942Z"
   },
   {
    "duration": 0,
    "start_time": "2024-02-20T19:27:17.943Z"
   },
   {
    "duration": 0,
    "start_time": "2024-02-20T19:27:17.944Z"
   },
   {
    "duration": 0,
    "start_time": "2024-02-20T19:27:17.945Z"
   },
   {
    "duration": 0,
    "start_time": "2024-02-20T19:27:17.945Z"
   },
   {
    "duration": 0,
    "start_time": "2024-02-20T19:27:17.946Z"
   },
   {
    "duration": 0,
    "start_time": "2024-02-20T19:27:17.947Z"
   },
   {
    "duration": 0,
    "start_time": "2024-02-20T19:27:17.948Z"
   },
   {
    "duration": 0,
    "start_time": "2024-02-20T19:27:17.950Z"
   },
   {
    "duration": 0,
    "start_time": "2024-02-20T19:27:17.951Z"
   },
   {
    "duration": 0,
    "start_time": "2024-02-20T19:27:17.952Z"
   },
   {
    "duration": 0,
    "start_time": "2024-02-20T19:27:17.953Z"
   },
   {
    "duration": 0,
    "start_time": "2024-02-20T19:27:17.953Z"
   },
   {
    "duration": 0,
    "start_time": "2024-02-20T19:27:17.954Z"
   },
   {
    "duration": 0,
    "start_time": "2024-02-20T19:27:17.955Z"
   },
   {
    "duration": 0,
    "start_time": "2024-02-20T19:27:17.956Z"
   },
   {
    "duration": 0,
    "start_time": "2024-02-20T19:27:17.957Z"
   },
   {
    "duration": 0,
    "start_time": "2024-02-20T19:27:17.958Z"
   },
   {
    "duration": 0,
    "start_time": "2024-02-20T19:27:17.959Z"
   },
   {
    "duration": 0,
    "start_time": "2024-02-20T19:27:17.960Z"
   },
   {
    "duration": 0,
    "start_time": "2024-02-20T19:27:17.961Z"
   },
   {
    "duration": 0,
    "start_time": "2024-02-20T19:27:17.962Z"
   },
   {
    "duration": 0,
    "start_time": "2024-02-20T19:27:17.963Z"
   },
   {
    "duration": 0,
    "start_time": "2024-02-20T19:27:17.964Z"
   },
   {
    "duration": 0,
    "start_time": "2024-02-20T19:27:17.965Z"
   },
   {
    "duration": 0,
    "start_time": "2024-02-20T19:27:17.966Z"
   },
   {
    "duration": 0,
    "start_time": "2024-02-20T19:27:17.967Z"
   },
   {
    "duration": 0,
    "start_time": "2024-02-20T19:27:17.968Z"
   },
   {
    "duration": 0,
    "start_time": "2024-02-20T19:27:17.969Z"
   },
   {
    "duration": 0,
    "start_time": "2024-02-20T19:27:17.970Z"
   },
   {
    "duration": 0,
    "start_time": "2024-02-20T19:27:17.971Z"
   },
   {
    "duration": 0,
    "start_time": "2024-02-20T19:27:17.972Z"
   },
   {
    "duration": 0,
    "start_time": "2024-02-20T19:27:17.973Z"
   },
   {
    "duration": 0,
    "start_time": "2024-02-20T19:27:17.973Z"
   },
   {
    "duration": 5,
    "start_time": "2024-02-20T19:27:48.786Z"
   },
   {
    "duration": 1250,
    "start_time": "2024-02-20T19:28:27.846Z"
   },
   {
    "duration": 1281,
    "start_time": "2024-02-20T19:28:42.834Z"
   },
   {
    "duration": 19,
    "start_time": "2024-02-20T19:28:49.220Z"
   },
   {
    "duration": 33,
    "start_time": "2024-02-20T19:29:37.720Z"
   },
   {
    "duration": 34,
    "start_time": "2024-02-20T19:29:59.274Z"
   },
   {
    "duration": 24,
    "start_time": "2024-02-20T19:31:11.586Z"
   },
   {
    "duration": 6,
    "start_time": "2024-02-20T19:31:39.164Z"
   },
   {
    "duration": 5,
    "start_time": "2024-02-20T19:31:57.198Z"
   },
   {
    "duration": 25,
    "start_time": "2024-02-20T19:32:18.018Z"
   },
   {
    "duration": 19,
    "start_time": "2024-02-20T19:32:56.855Z"
   },
   {
    "duration": 19,
    "start_time": "2024-02-20T19:33:57.210Z"
   },
   {
    "duration": 6,
    "start_time": "2024-02-20T19:34:31.331Z"
   },
   {
    "duration": 19,
    "start_time": "2024-02-20T19:35:01.700Z"
   },
   {
    "duration": 14,
    "start_time": "2024-02-20T19:35:06.806Z"
   },
   {
    "duration": 5,
    "start_time": "2024-02-20T19:38:53.878Z"
   },
   {
    "duration": 54,
    "start_time": "2024-02-21T16:42:22.202Z"
   },
   {
    "duration": 1426,
    "start_time": "2024-02-21T16:42:31.264Z"
   },
   {
    "duration": 3,
    "start_time": "2024-02-21T16:42:32.692Z"
   },
   {
    "duration": 188,
    "start_time": "2024-02-21T16:42:32.696Z"
   },
   {
    "duration": 3,
    "start_time": "2024-02-21T16:42:32.886Z"
   },
   {
    "duration": 45,
    "start_time": "2024-02-21T16:42:32.891Z"
   },
   {
    "duration": 34,
    "start_time": "2024-02-21T16:42:32.938Z"
   },
   {
    "duration": 39,
    "start_time": "2024-02-21T16:42:32.974Z"
   },
   {
    "duration": 15,
    "start_time": "2024-02-21T16:42:33.014Z"
   },
   {
    "duration": 29,
    "start_time": "2024-02-21T16:42:33.031Z"
   },
   {
    "duration": 16,
    "start_time": "2024-02-21T16:42:33.062Z"
   },
   {
    "duration": 97,
    "start_time": "2024-02-21T16:42:33.079Z"
   },
   {
    "duration": 0,
    "start_time": "2024-02-21T16:42:33.178Z"
   },
   {
    "duration": 0,
    "start_time": "2024-02-21T16:42:33.180Z"
   },
   {
    "duration": 0,
    "start_time": "2024-02-21T16:42:33.181Z"
   },
   {
    "duration": 0,
    "start_time": "2024-02-21T16:42:33.182Z"
   },
   {
    "duration": 0,
    "start_time": "2024-02-21T16:42:33.183Z"
   },
   {
    "duration": 0,
    "start_time": "2024-02-21T16:42:33.184Z"
   },
   {
    "duration": 0,
    "start_time": "2024-02-21T16:42:33.185Z"
   },
   {
    "duration": 0,
    "start_time": "2024-02-21T16:42:33.186Z"
   },
   {
    "duration": 0,
    "start_time": "2024-02-21T16:42:33.188Z"
   },
   {
    "duration": 0,
    "start_time": "2024-02-21T16:42:33.189Z"
   },
   {
    "duration": 0,
    "start_time": "2024-02-21T16:42:33.190Z"
   },
   {
    "duration": 0,
    "start_time": "2024-02-21T16:42:33.191Z"
   },
   {
    "duration": 0,
    "start_time": "2024-02-21T16:42:33.192Z"
   },
   {
    "duration": 0,
    "start_time": "2024-02-21T16:42:33.193Z"
   },
   {
    "duration": 0,
    "start_time": "2024-02-21T16:42:33.194Z"
   },
   {
    "duration": 0,
    "start_time": "2024-02-21T16:42:33.195Z"
   },
   {
    "duration": 0,
    "start_time": "2024-02-21T16:42:33.196Z"
   },
   {
    "duration": 0,
    "start_time": "2024-02-21T16:42:33.198Z"
   },
   {
    "duration": 0,
    "start_time": "2024-02-21T16:42:33.198Z"
   },
   {
    "duration": 0,
    "start_time": "2024-02-21T16:42:33.200Z"
   },
   {
    "duration": 0,
    "start_time": "2024-02-21T16:42:33.201Z"
   },
   {
    "duration": 0,
    "start_time": "2024-02-21T16:42:33.202Z"
   },
   {
    "duration": 0,
    "start_time": "2024-02-21T16:42:33.204Z"
   },
   {
    "duration": 0,
    "start_time": "2024-02-21T16:42:33.206Z"
   },
   {
    "duration": 0,
    "start_time": "2024-02-21T16:42:33.207Z"
   },
   {
    "duration": 0,
    "start_time": "2024-02-21T16:42:33.208Z"
   },
   {
    "duration": 0,
    "start_time": "2024-02-21T16:42:33.209Z"
   },
   {
    "duration": 0,
    "start_time": "2024-02-21T16:42:33.211Z"
   },
   {
    "duration": 0,
    "start_time": "2024-02-21T16:42:33.212Z"
   },
   {
    "duration": 0,
    "start_time": "2024-02-21T16:42:33.259Z"
   },
   {
    "duration": 0,
    "start_time": "2024-02-21T16:42:33.260Z"
   },
   {
    "duration": 0,
    "start_time": "2024-02-21T16:42:33.262Z"
   },
   {
    "duration": 0,
    "start_time": "2024-02-21T16:42:33.263Z"
   },
   {
    "duration": 0,
    "start_time": "2024-02-21T16:42:33.265Z"
   },
   {
    "duration": 8,
    "start_time": "2024-02-21T16:44:19.087Z"
   },
   {
    "duration": 107,
    "start_time": "2024-02-21T16:44:50.619Z"
   },
   {
    "duration": 22,
    "start_time": "2024-02-21T16:45:11.523Z"
   },
   {
    "duration": 3,
    "start_time": "2024-02-21T16:45:39.954Z"
   },
   {
    "duration": 7,
    "start_time": "2024-02-21T16:45:51.040Z"
   },
   {
    "duration": 3,
    "start_time": "2024-02-21T16:46:01.889Z"
   },
   {
    "duration": 5,
    "start_time": "2024-02-21T16:46:32.218Z"
   },
   {
    "duration": 5,
    "start_time": "2024-02-21T16:46:41.993Z"
   },
   {
    "duration": 7,
    "start_time": "2024-02-21T16:47:50.996Z"
   },
   {
    "duration": 23,
    "start_time": "2024-02-21T16:48:38.647Z"
   },
   {
    "duration": 7,
    "start_time": "2024-02-21T16:48:42.005Z"
   },
   {
    "duration": 5,
    "start_time": "2024-02-21T16:49:01.631Z"
   },
   {
    "duration": 9,
    "start_time": "2024-02-21T16:49:07.211Z"
   },
   {
    "duration": 10,
    "start_time": "2024-02-21T16:50:04.194Z"
   },
   {
    "duration": 119,
    "start_time": "2024-02-21T16:50:58.371Z"
   },
   {
    "duration": 4,
    "start_time": "2024-02-21T16:52:07.085Z"
   },
   {
    "duration": 5,
    "start_time": "2024-02-21T16:52:15.401Z"
   },
   {
    "duration": 6,
    "start_time": "2024-02-21T16:52:38.849Z"
   },
   {
    "duration": 7,
    "start_time": "2024-02-21T16:53:01.847Z"
   },
   {
    "duration": 5,
    "start_time": "2024-02-21T16:54:49.432Z"
   },
   {
    "duration": 3,
    "start_time": "2024-02-21T16:59:25.930Z"
   },
   {
    "duration": 1207,
    "start_time": "2024-02-21T16:59:43.166Z"
   },
   {
    "duration": 44,
    "start_time": "2024-02-21T16:59:57.471Z"
   },
   {
    "duration": 15,
    "start_time": "2024-02-21T17:00:30.254Z"
   },
   {
    "duration": 7,
    "start_time": "2024-02-21T17:01:19.973Z"
   },
   {
    "duration": 11,
    "start_time": "2024-02-21T17:01:28.919Z"
   },
   {
    "duration": 104,
    "start_time": "2024-02-21T17:02:22.529Z"
   },
   {
    "duration": 1616,
    "start_time": "2024-02-21T17:02:57.347Z"
   },
   {
    "duration": 1660,
    "start_time": "2024-02-21T17:03:12.653Z"
   },
   {
    "duration": 103,
    "start_time": "2024-02-21T17:04:36.020Z"
   },
   {
    "duration": 4,
    "start_time": "2024-02-21T17:05:34.320Z"
   },
   {
    "duration": 5,
    "start_time": "2024-02-21T17:05:52.212Z"
   },
   {
    "duration": 4,
    "start_time": "2024-02-21T17:07:36.427Z"
   },
   {
    "duration": 2,
    "start_time": "2024-02-21T17:07:43.175Z"
   },
   {
    "duration": 4,
    "start_time": "2024-02-21T17:07:48.411Z"
   },
   {
    "duration": 4,
    "start_time": "2024-02-21T17:07:58.305Z"
   },
   {
    "duration": 2,
    "start_time": "2024-02-21T17:07:59.080Z"
   },
   {
    "duration": 4,
    "start_time": "2024-02-21T17:07:59.571Z"
   },
   {
    "duration": 4,
    "start_time": "2024-02-21T17:08:02.831Z"
   },
   {
    "duration": 3,
    "start_time": "2024-02-21T17:08:09.013Z"
   },
   {
    "duration": 20,
    "start_time": "2024-02-21T17:08:09.521Z"
   },
   {
    "duration": 5,
    "start_time": "2024-02-21T17:08:52.679Z"
   },
   {
    "duration": 21,
    "start_time": "2024-02-21T17:08:56.270Z"
   },
   {
    "duration": 4,
    "start_time": "2024-02-21T17:09:35.177Z"
   },
   {
    "duration": 4,
    "start_time": "2024-02-21T17:09:35.707Z"
   },
   {
    "duration": 22,
    "start_time": "2024-02-21T17:09:41.493Z"
   },
   {
    "duration": 7,
    "start_time": "2024-02-21T17:09:50.000Z"
   },
   {
    "duration": 9,
    "start_time": "2024-02-21T17:09:57.168Z"
   },
   {
    "duration": 22,
    "start_time": "2024-02-21T17:10:09.856Z"
   },
   {
    "duration": 17,
    "start_time": "2024-02-21T17:10:22.108Z"
   },
   {
    "duration": 21,
    "start_time": "2024-02-21T17:10:40.335Z"
   },
   {
    "duration": 5,
    "start_time": "2024-02-21T17:10:55.187Z"
   },
   {
    "duration": 4,
    "start_time": "2024-02-21T17:11:00.072Z"
   },
   {
    "duration": 5,
    "start_time": "2024-02-21T17:11:10.555Z"
   },
   {
    "duration": 3,
    "start_time": "2024-02-21T17:12:01.042Z"
   },
   {
    "duration": 2,
    "start_time": "2024-02-21T17:12:05.090Z"
   },
   {
    "duration": 1165,
    "start_time": "2024-02-21T17:12:10.234Z"
   },
   {
    "duration": 2,
    "start_time": "2024-02-21T17:12:11.401Z"
   },
   {
    "duration": 5,
    "start_time": "2024-02-21T17:12:11.404Z"
   },
   {
    "duration": 102,
    "start_time": "2024-02-21T17:12:11.410Z"
   },
   {
    "duration": 4,
    "start_time": "2024-02-21T17:12:11.514Z"
   },
   {
    "duration": 10,
    "start_time": "2024-02-21T17:12:11.519Z"
   },
   {
    "duration": 10,
    "start_time": "2024-02-21T17:12:11.531Z"
   },
   {
    "duration": 27,
    "start_time": "2024-02-21T17:12:11.543Z"
   },
   {
    "duration": 6,
    "start_time": "2024-02-21T17:12:11.572Z"
   },
   {
    "duration": 15,
    "start_time": "2024-02-21T17:12:11.580Z"
   },
   {
    "duration": 7,
    "start_time": "2024-02-21T17:12:11.596Z"
   },
   {
    "duration": 13,
    "start_time": "2024-02-21T17:12:11.605Z"
   },
   {
    "duration": 4,
    "start_time": "2024-02-21T17:12:11.620Z"
   },
   {
    "duration": 21,
    "start_time": "2024-02-21T17:12:11.627Z"
   },
   {
    "duration": 26,
    "start_time": "2024-02-21T17:12:11.658Z"
   },
   {
    "duration": 21,
    "start_time": "2024-02-21T17:12:11.686Z"
   },
   {
    "duration": 22,
    "start_time": "2024-02-21T17:12:11.709Z"
   },
   {
    "duration": 4,
    "start_time": "2024-02-21T17:12:11.732Z"
   },
   {
    "duration": 68,
    "start_time": "2024-02-21T17:12:11.737Z"
   },
   {
    "duration": 71,
    "start_time": "2024-02-21T17:12:11.806Z"
   },
   {
    "duration": 34,
    "start_time": "2024-02-21T17:12:11.879Z"
   },
   {
    "duration": 20,
    "start_time": "2024-02-21T17:12:11.915Z"
   },
   {
    "duration": 7,
    "start_time": "2024-02-21T17:12:11.936Z"
   },
   {
    "duration": 13,
    "start_time": "2024-02-21T17:12:11.944Z"
   },
   {
    "duration": 14,
    "start_time": "2024-02-21T17:12:11.959Z"
   },
   {
    "duration": 14,
    "start_time": "2024-02-21T17:12:11.976Z"
   },
   {
    "duration": 30,
    "start_time": "2024-02-21T17:12:11.991Z"
   },
   {
    "duration": 277,
    "start_time": "2024-02-21T17:12:12.022Z"
   },
   {
    "duration": 207,
    "start_time": "2024-02-21T17:12:12.300Z"
   },
   {
    "duration": 14,
    "start_time": "2024-02-21T17:12:12.508Z"
   },
   {
    "duration": 4,
    "start_time": "2024-02-21T17:12:12.523Z"
   },
   {
    "duration": 11,
    "start_time": "2024-02-21T17:12:12.528Z"
   },
   {
    "duration": 21,
    "start_time": "2024-02-21T17:12:12.541Z"
   },
   {
    "duration": 15,
    "start_time": "2024-02-21T17:12:12.571Z"
   },
   {
    "duration": 3,
    "start_time": "2024-02-21T17:12:12.588Z"
   },
   {
    "duration": 8,
    "start_time": "2024-02-21T17:12:12.592Z"
   },
   {
    "duration": 15,
    "start_time": "2024-02-21T17:12:12.601Z"
   },
   {
    "duration": 4,
    "start_time": "2024-02-21T17:12:12.618Z"
   },
   {
    "duration": 106,
    "start_time": "2024-02-21T17:12:12.624Z"
   },
   {
    "duration": 113,
    "start_time": "2024-02-21T17:12:12.732Z"
   },
   {
    "duration": 127,
    "start_time": "2024-02-21T17:12:12.849Z"
   },
   {
    "duration": 117,
    "start_time": "2024-02-21T17:12:12.977Z"
   },
   {
    "duration": 438,
    "start_time": "2024-02-21T17:12:13.095Z"
   },
   {
    "duration": 348,
    "start_time": "2024-02-21T17:12:13.534Z"
   },
   {
    "duration": 173,
    "start_time": "2024-02-21T17:12:13.883Z"
   },
   {
    "duration": 189,
    "start_time": "2024-02-21T17:12:14.058Z"
   },
   {
    "duration": 123,
    "start_time": "2024-02-21T17:12:14.249Z"
   },
   {
    "duration": 120,
    "start_time": "2024-02-21T17:12:14.374Z"
   },
   {
    "duration": 134,
    "start_time": "2024-02-21T17:12:14.495Z"
   },
   {
    "duration": 5,
    "start_time": "2024-02-21T17:12:14.631Z"
   },
   {
    "duration": 14,
    "start_time": "2024-02-21T17:12:14.638Z"
   },
   {
    "duration": 21,
    "start_time": "2024-02-21T17:12:14.653Z"
   },
   {
    "duration": 113,
    "start_time": "2024-02-21T17:12:30.605Z"
   },
   {
    "duration": 41,
    "start_time": "2024-02-21T17:12:30.923Z"
   },
   {
    "duration": 1171,
    "start_time": "2024-02-21T17:12:50.547Z"
   },
   {
    "duration": 2,
    "start_time": "2024-02-21T17:12:51.720Z"
   },
   {
    "duration": 7,
    "start_time": "2024-02-21T17:12:51.723Z"
   },
   {
    "duration": 97,
    "start_time": "2024-02-21T17:12:51.731Z"
   },
   {
    "duration": 4,
    "start_time": "2024-02-21T17:12:51.830Z"
   },
   {
    "duration": 6,
    "start_time": "2024-02-21T17:12:51.835Z"
   },
   {
    "duration": 30,
    "start_time": "2024-02-21T17:12:51.842Z"
   },
   {
    "duration": 6,
    "start_time": "2024-02-21T17:12:51.874Z"
   },
   {
    "duration": 7,
    "start_time": "2024-02-21T17:12:51.881Z"
   },
   {
    "duration": 15,
    "start_time": "2024-02-21T17:12:51.889Z"
   },
   {
    "duration": 7,
    "start_time": "2024-02-21T17:12:51.905Z"
   },
   {
    "duration": 6,
    "start_time": "2024-02-21T17:12:51.914Z"
   },
   {
    "duration": 6,
    "start_time": "2024-02-21T17:12:51.921Z"
   },
   {
    "duration": 36,
    "start_time": "2024-02-21T17:12:51.930Z"
   },
   {
    "duration": 7,
    "start_time": "2024-02-21T17:12:51.975Z"
   },
   {
    "duration": 22,
    "start_time": "2024-02-21T17:12:51.984Z"
   },
   {
    "duration": 4,
    "start_time": "2024-02-21T17:12:52.008Z"
   },
   {
    "duration": 115,
    "start_time": "2024-02-21T17:12:52.014Z"
   },
   {
    "duration": 0,
    "start_time": "2024-02-21T17:12:52.131Z"
   },
   {
    "duration": 0,
    "start_time": "2024-02-21T17:12:52.132Z"
   },
   {
    "duration": 0,
    "start_time": "2024-02-21T17:12:52.133Z"
   },
   {
    "duration": 0,
    "start_time": "2024-02-21T17:12:52.135Z"
   },
   {
    "duration": 0,
    "start_time": "2024-02-21T17:12:52.136Z"
   },
   {
    "duration": 0,
    "start_time": "2024-02-21T17:12:52.137Z"
   },
   {
    "duration": 0,
    "start_time": "2024-02-21T17:12:52.139Z"
   },
   {
    "duration": 0,
    "start_time": "2024-02-21T17:12:52.140Z"
   },
   {
    "duration": 0,
    "start_time": "2024-02-21T17:12:52.141Z"
   },
   {
    "duration": 0,
    "start_time": "2024-02-21T17:12:52.162Z"
   },
   {
    "duration": 0,
    "start_time": "2024-02-21T17:12:52.163Z"
   },
   {
    "duration": 0,
    "start_time": "2024-02-21T17:12:52.164Z"
   },
   {
    "duration": 0,
    "start_time": "2024-02-21T17:12:52.165Z"
   },
   {
    "duration": 0,
    "start_time": "2024-02-21T17:12:52.174Z"
   },
   {
    "duration": 0,
    "start_time": "2024-02-21T17:12:52.174Z"
   },
   {
    "duration": 0,
    "start_time": "2024-02-21T17:12:52.175Z"
   },
   {
    "duration": 0,
    "start_time": "2024-02-21T17:12:52.176Z"
   },
   {
    "duration": 0,
    "start_time": "2024-02-21T17:12:52.177Z"
   },
   {
    "duration": 0,
    "start_time": "2024-02-21T17:12:52.178Z"
   },
   {
    "duration": 0,
    "start_time": "2024-02-21T17:12:52.179Z"
   },
   {
    "duration": 0,
    "start_time": "2024-02-21T17:12:52.180Z"
   },
   {
    "duration": 0,
    "start_time": "2024-02-21T17:12:52.180Z"
   },
   {
    "duration": 0,
    "start_time": "2024-02-21T17:12:52.181Z"
   },
   {
    "duration": 0,
    "start_time": "2024-02-21T17:12:52.182Z"
   },
   {
    "duration": 0,
    "start_time": "2024-02-21T17:12:52.182Z"
   },
   {
    "duration": 0,
    "start_time": "2024-02-21T17:12:52.183Z"
   },
   {
    "duration": 0,
    "start_time": "2024-02-21T17:12:52.184Z"
   },
   {
    "duration": 0,
    "start_time": "2024-02-21T17:12:52.185Z"
   },
   {
    "duration": 0,
    "start_time": "2024-02-21T17:12:52.186Z"
   },
   {
    "duration": 0,
    "start_time": "2024-02-21T17:12:52.187Z"
   },
   {
    "duration": 0,
    "start_time": "2024-02-21T17:12:52.188Z"
   },
   {
    "duration": 29,
    "start_time": "2024-02-21T17:13:58.742Z"
   },
   {
    "duration": 5,
    "start_time": "2024-02-21T17:16:51.036Z"
   },
   {
    "duration": 7,
    "start_time": "2024-02-21T17:16:51.718Z"
   },
   {
    "duration": 1153,
    "start_time": "2024-02-21T17:16:59.564Z"
   },
   {
    "duration": 3,
    "start_time": "2024-02-21T17:17:00.719Z"
   },
   {
    "duration": 29,
    "start_time": "2024-02-21T17:17:00.724Z"
   },
   {
    "duration": 170,
    "start_time": "2024-02-21T17:17:00.755Z"
   },
   {
    "duration": 4,
    "start_time": "2024-02-21T17:17:00.927Z"
   },
   {
    "duration": 60,
    "start_time": "2024-02-21T17:17:00.932Z"
   },
   {
    "duration": 30,
    "start_time": "2024-02-21T17:17:00.993Z"
   },
   {
    "duration": 48,
    "start_time": "2024-02-21T17:17:01.025Z"
   },
   {
    "duration": 44,
    "start_time": "2024-02-21T17:17:01.075Z"
   },
   {
    "duration": 61,
    "start_time": "2024-02-21T17:17:01.121Z"
   },
   {
    "duration": 41,
    "start_time": "2024-02-21T17:17:01.183Z"
   },
   {
    "duration": 24,
    "start_time": "2024-02-21T17:17:01.225Z"
   },
   {
    "duration": 25,
    "start_time": "2024-02-21T17:17:01.251Z"
   },
   {
    "duration": 41,
    "start_time": "2024-02-21T17:17:01.278Z"
   },
   {
    "duration": 13,
    "start_time": "2024-02-21T17:17:01.320Z"
   },
   {
    "duration": 24,
    "start_time": "2024-02-21T17:17:01.335Z"
   },
   {
    "duration": 17,
    "start_time": "2024-02-21T17:17:01.366Z"
   },
   {
    "duration": 48,
    "start_time": "2024-02-21T17:17:01.385Z"
   },
   {
    "duration": 40,
    "start_time": "2024-02-21T17:17:01.435Z"
   },
   {
    "duration": 48,
    "start_time": "2024-02-21T17:17:01.476Z"
   },
   {
    "duration": 51,
    "start_time": "2024-02-21T17:17:01.526Z"
   },
   {
    "duration": 28,
    "start_time": "2024-02-21T17:17:01.579Z"
   },
   {
    "duration": 42,
    "start_time": "2024-02-21T17:17:01.608Z"
   },
   {
    "duration": 267,
    "start_time": "2024-02-21T17:17:01.652Z"
   },
   {
    "duration": 228,
    "start_time": "2024-02-21T17:17:01.921Z"
   },
   {
    "duration": 31,
    "start_time": "2024-02-21T17:17:02.150Z"
   },
   {
    "duration": 35,
    "start_time": "2024-02-21T17:17:02.183Z"
   },
   {
    "duration": 61,
    "start_time": "2024-02-21T17:17:02.220Z"
   },
   {
    "duration": 23,
    "start_time": "2024-02-21T17:17:02.283Z"
   },
   {
    "duration": 95,
    "start_time": "2024-02-21T17:17:02.308Z"
   },
   {
    "duration": 67,
    "start_time": "2024-02-21T17:17:02.405Z"
   },
   {
    "duration": 63,
    "start_time": "2024-02-21T17:17:02.474Z"
   },
   {
    "duration": 50,
    "start_time": "2024-02-21T17:17:02.538Z"
   },
   {
    "duration": 77,
    "start_time": "2024-02-21T17:17:02.590Z"
   },
   {
    "duration": 150,
    "start_time": "2024-02-21T17:17:02.673Z"
   },
   {
    "duration": 106,
    "start_time": "2024-02-21T17:17:02.825Z"
   },
   {
    "duration": 146,
    "start_time": "2024-02-21T17:17:02.933Z"
   },
   {
    "duration": 135,
    "start_time": "2024-02-21T17:17:03.081Z"
   },
   {
    "duration": 481,
    "start_time": "2024-02-21T17:17:03.218Z"
   },
   {
    "duration": 377,
    "start_time": "2024-02-21T17:17:03.701Z"
   },
   {
    "duration": 193,
    "start_time": "2024-02-21T17:17:04.081Z"
   },
   {
    "duration": 191,
    "start_time": "2024-02-21T17:17:04.277Z"
   },
   {
    "duration": 114,
    "start_time": "2024-02-21T17:17:04.471Z"
   },
   {
    "duration": 121,
    "start_time": "2024-02-21T17:17:04.587Z"
   },
   {
    "duration": 159,
    "start_time": "2024-02-21T17:17:04.709Z"
   },
   {
    "duration": 10,
    "start_time": "2024-02-21T17:17:04.870Z"
   },
   {
    "duration": 5,
    "start_time": "2024-02-21T17:17:04.881Z"
   },
   {
    "duration": 9,
    "start_time": "2024-02-21T17:17:04.887Z"
   },
   {
    "duration": 5,
    "start_time": "2024-02-21T17:34:42.428Z"
   },
   {
    "duration": 94,
    "start_time": "2024-02-21T17:34:56.147Z"
   },
   {
    "duration": 4,
    "start_time": "2024-02-21T17:35:05.207Z"
   },
   {
    "duration": 17,
    "start_time": "2024-02-21T17:35:30.497Z"
   },
   {
    "duration": 11,
    "start_time": "2024-02-21T17:35:46.848Z"
   },
   {
    "duration": 3,
    "start_time": "2024-02-21T17:37:33.620Z"
   },
   {
    "duration": 12,
    "start_time": "2024-02-21T17:37:36.988Z"
   },
   {
    "duration": 4,
    "start_time": "2024-02-21T17:39:05.652Z"
   },
   {
    "duration": 13,
    "start_time": "2024-02-21T17:39:06.136Z"
   },
   {
    "duration": 98,
    "start_time": "2024-02-21T17:39:22.386Z"
   },
   {
    "duration": 162,
    "start_time": "2024-02-21T17:50:00.026Z"
   },
   {
    "duration": 342,
    "start_time": "2024-02-21T17:50:09.663Z"
   },
   {
    "duration": 220,
    "start_time": "2024-02-21T17:50:14.435Z"
   },
   {
    "duration": 234,
    "start_time": "2024-02-21T17:50:23.071Z"
   },
   {
    "duration": 1772,
    "start_time": "2024-02-21T17:51:57.956Z"
   },
   {
    "duration": 234,
    "start_time": "2024-02-21T17:52:06.830Z"
   },
   {
    "duration": 357,
    "start_time": "2024-02-21T17:52:13.138Z"
   },
   {
    "duration": 229,
    "start_time": "2024-02-21T17:52:44.862Z"
   },
   {
    "duration": 173,
    "start_time": "2024-02-21T17:54:51.620Z"
   },
   {
    "duration": 177,
    "start_time": "2024-02-21T17:55:00.679Z"
   },
   {
    "duration": 164,
    "start_time": "2024-02-21T17:55:12.187Z"
   },
   {
    "duration": 165,
    "start_time": "2024-02-21T18:03:45.161Z"
   },
   {
    "duration": 172,
    "start_time": "2024-02-21T18:04:51.602Z"
   },
   {
    "duration": 81,
    "start_time": "2024-02-21T18:05:21.667Z"
   },
   {
    "duration": 85,
    "start_time": "2024-02-21T18:05:53.058Z"
   },
   {
    "duration": 97,
    "start_time": "2024-02-21T18:05:53.613Z"
   },
   {
    "duration": 7,
    "start_time": "2024-02-21T18:09:24.269Z"
   },
   {
    "duration": 4,
    "start_time": "2024-02-21T18:09:32.345Z"
   },
   {
    "duration": 5,
    "start_time": "2024-02-21T18:09:39.555Z"
   },
   {
    "duration": 4,
    "start_time": "2024-02-21T18:12:09.472Z"
   },
   {
    "duration": 13,
    "start_time": "2024-02-21T18:15:19.707Z"
   },
   {
    "duration": 11,
    "start_time": "2024-02-21T18:15:39.797Z"
   },
   {
    "duration": 162,
    "start_time": "2024-02-21T18:15:44.302Z"
   },
   {
    "duration": 18,
    "start_time": "2024-02-21T18:16:06.163Z"
   },
   {
    "duration": 92,
    "start_time": "2024-02-21T18:18:47.050Z"
   },
   {
    "duration": 13,
    "start_time": "2024-02-21T18:18:51.154Z"
   },
   {
    "duration": 4,
    "start_time": "2024-02-21T18:19:35.473Z"
   },
   {
    "duration": 12,
    "start_time": "2024-02-21T18:19:37.420Z"
   },
   {
    "duration": 12,
    "start_time": "2024-02-21T18:19:49.875Z"
   },
   {
    "duration": 1118,
    "start_time": "2024-02-21T18:20:05.207Z"
   },
   {
    "duration": 3,
    "start_time": "2024-02-21T18:20:06.327Z"
   },
   {
    "duration": 14,
    "start_time": "2024-02-21T18:20:06.331Z"
   },
   {
    "duration": 98,
    "start_time": "2024-02-21T18:20:06.346Z"
   },
   {
    "duration": 3,
    "start_time": "2024-02-21T18:20:06.445Z"
   },
   {
    "duration": 23,
    "start_time": "2024-02-21T18:20:06.450Z"
   },
   {
    "duration": 17,
    "start_time": "2024-02-21T18:20:06.475Z"
   },
   {
    "duration": 23,
    "start_time": "2024-02-21T18:20:06.493Z"
   },
   {
    "duration": 9,
    "start_time": "2024-02-21T18:20:06.517Z"
   },
   {
    "duration": 25,
    "start_time": "2024-02-21T18:20:06.529Z"
   },
   {
    "duration": 6,
    "start_time": "2024-02-21T18:20:06.556Z"
   },
   {
    "duration": 13,
    "start_time": "2024-02-21T18:20:06.563Z"
   },
   {
    "duration": 19,
    "start_time": "2024-02-21T18:20:06.577Z"
   },
   {
    "duration": 20,
    "start_time": "2024-02-21T18:20:06.598Z"
   },
   {
    "duration": 7,
    "start_time": "2024-02-21T18:20:06.620Z"
   },
   {
    "duration": 19,
    "start_time": "2024-02-21T18:20:06.628Z"
   },
   {
    "duration": 4,
    "start_time": "2024-02-21T18:20:06.648Z"
   },
   {
    "duration": 18,
    "start_time": "2024-02-21T18:20:06.654Z"
   },
   {
    "duration": 5,
    "start_time": "2024-02-21T18:20:06.673Z"
   },
   {
    "duration": 11,
    "start_time": "2024-02-21T18:20:06.679Z"
   },
   {
    "duration": 17,
    "start_time": "2024-02-21T18:20:06.691Z"
   },
   {
    "duration": 3,
    "start_time": "2024-02-21T18:20:06.709Z"
   },
   {
    "duration": 23,
    "start_time": "2024-02-21T18:20:06.713Z"
   },
   {
    "duration": 241,
    "start_time": "2024-02-21T18:20:06.738Z"
   },
   {
    "duration": 192,
    "start_time": "2024-02-21T18:20:06.980Z"
   },
   {
    "duration": 11,
    "start_time": "2024-02-21T18:20:07.174Z"
   },
   {
    "duration": 3,
    "start_time": "2024-02-21T18:20:07.187Z"
   },
   {
    "duration": 6,
    "start_time": "2024-02-21T18:20:07.193Z"
   },
   {
    "duration": 8,
    "start_time": "2024-02-21T18:20:07.201Z"
   },
   {
    "duration": 13,
    "start_time": "2024-02-21T18:20:07.210Z"
   },
   {
    "duration": 3,
    "start_time": "2024-02-21T18:20:07.224Z"
   },
   {
    "duration": 31,
    "start_time": "2024-02-21T18:20:07.228Z"
   },
   {
    "duration": 3,
    "start_time": "2024-02-21T18:20:07.261Z"
   },
   {
    "duration": 5,
    "start_time": "2024-02-21T18:20:07.266Z"
   },
   {
    "duration": 105,
    "start_time": "2024-02-21T18:20:07.272Z"
   },
   {
    "duration": 124,
    "start_time": "2024-02-21T18:20:07.379Z"
   },
   {
    "duration": 129,
    "start_time": "2024-02-21T18:20:07.505Z"
   },
   {
    "duration": 124,
    "start_time": "2024-02-21T18:20:07.636Z"
   },
   {
    "duration": 400,
    "start_time": "2024-02-21T18:20:07.761Z"
   },
   {
    "duration": 328,
    "start_time": "2024-02-21T18:20:08.163Z"
   },
   {
    "duration": 167,
    "start_time": "2024-02-21T18:20:08.492Z"
   },
   {
    "duration": 180,
    "start_time": "2024-02-21T18:20:08.660Z"
   },
   {
    "duration": 108,
    "start_time": "2024-02-21T18:20:08.842Z"
   },
   {
    "duration": 123,
    "start_time": "2024-02-21T18:20:08.952Z"
   },
   {
    "duration": 144,
    "start_time": "2024-02-21T18:20:09.077Z"
   },
   {
    "duration": 5,
    "start_time": "2024-02-21T18:20:09.223Z"
   },
   {
    "duration": 5,
    "start_time": "2024-02-21T18:20:09.229Z"
   },
   {
    "duration": 23,
    "start_time": "2024-02-21T18:20:09.236Z"
   },
   {
    "duration": 4,
    "start_time": "2024-02-21T18:20:09.260Z"
   },
   {
    "duration": 14,
    "start_time": "2024-02-21T18:20:09.265Z"
   },
   {
    "duration": 4,
    "start_time": "2024-02-21T18:20:09.280Z"
   },
   {
    "duration": 4,
    "start_time": "2024-02-21T18:20:09.285Z"
   },
   {
    "duration": 17,
    "start_time": "2024-02-21T18:20:09.290Z"
   },
   {
    "duration": 6,
    "start_time": "2024-02-21T18:20:09.308Z"
   },
   {
    "duration": 5,
    "start_time": "2024-02-21T18:20:09.315Z"
   },
   {
    "duration": 121,
    "start_time": "2024-02-21T18:20:09.322Z"
   },
   {
    "duration": 0,
    "start_time": "2024-02-21T18:20:09.444Z"
   },
   {
    "duration": 0,
    "start_time": "2024-02-21T18:20:09.445Z"
   },
   {
    "duration": 1154,
    "start_time": "2024-02-21T18:22:00.319Z"
   },
   {
    "duration": 3,
    "start_time": "2024-02-21T18:22:01.475Z"
   },
   {
    "duration": 47,
    "start_time": "2024-02-21T18:22:01.480Z"
   },
   {
    "duration": 187,
    "start_time": "2024-02-21T18:22:01.529Z"
   },
   {
    "duration": 4,
    "start_time": "2024-02-21T18:22:01.717Z"
   },
   {
    "duration": 65,
    "start_time": "2024-02-21T18:22:01.722Z"
   },
   {
    "duration": 117,
    "start_time": "2024-02-21T18:22:01.788Z"
   },
   {
    "duration": 126,
    "start_time": "2024-02-21T18:22:01.907Z"
   },
   {
    "duration": 21,
    "start_time": "2024-02-21T18:22:02.034Z"
   },
   {
    "duration": 58,
    "start_time": "2024-02-21T18:22:02.058Z"
   },
   {
    "duration": 29,
    "start_time": "2024-02-21T18:22:02.118Z"
   },
   {
    "duration": 4,
    "start_time": "2024-02-21T18:22:02.149Z"
   },
   {
    "duration": 22,
    "start_time": "2024-02-21T18:22:02.154Z"
   },
   {
    "duration": 54,
    "start_time": "2024-02-21T18:22:02.178Z"
   },
   {
    "duration": 6,
    "start_time": "2024-02-21T18:22:02.234Z"
   },
   {
    "duration": 20,
    "start_time": "2024-02-21T18:22:02.241Z"
   },
   {
    "duration": 8,
    "start_time": "2024-02-21T18:22:02.262Z"
   },
   {
    "duration": 27,
    "start_time": "2024-02-21T18:22:02.271Z"
   },
   {
    "duration": 21,
    "start_time": "2024-02-21T18:22:02.299Z"
   },
   {
    "duration": 16,
    "start_time": "2024-02-21T18:22:02.322Z"
   },
   {
    "duration": 42,
    "start_time": "2024-02-21T18:22:02.340Z"
   },
   {
    "duration": 9,
    "start_time": "2024-02-21T18:22:02.383Z"
   },
   {
    "duration": 41,
    "start_time": "2024-02-21T18:22:02.393Z"
   },
   {
    "duration": 270,
    "start_time": "2024-02-21T18:22:02.436Z"
   },
   {
    "duration": 193,
    "start_time": "2024-02-21T18:22:02.708Z"
   },
   {
    "duration": 14,
    "start_time": "2024-02-21T18:22:02.903Z"
   },
   {
    "duration": 116,
    "start_time": "2024-02-21T18:22:02.919Z"
   },
   {
    "duration": 44,
    "start_time": "2024-02-21T18:22:03.039Z"
   },
   {
    "duration": 31,
    "start_time": "2024-02-21T18:22:03.084Z"
   },
   {
    "duration": 67,
    "start_time": "2024-02-21T18:22:03.117Z"
   },
   {
    "duration": 51,
    "start_time": "2024-02-21T18:22:03.186Z"
   },
   {
    "duration": 93,
    "start_time": "2024-02-21T18:22:03.238Z"
   },
   {
    "duration": 111,
    "start_time": "2024-02-21T18:22:03.333Z"
   },
   {
    "duration": 20,
    "start_time": "2024-02-21T18:22:03.446Z"
   },
   {
    "duration": 125,
    "start_time": "2024-02-21T18:22:03.468Z"
   },
   {
    "duration": 111,
    "start_time": "2024-02-21T18:22:03.595Z"
   },
   {
    "duration": 121,
    "start_time": "2024-02-21T18:22:03.708Z"
   },
   {
    "duration": 133,
    "start_time": "2024-02-21T18:22:03.831Z"
   },
   {
    "duration": 436,
    "start_time": "2024-02-21T18:22:03.966Z"
   },
   {
    "duration": 355,
    "start_time": "2024-02-21T18:22:04.403Z"
   },
   {
    "duration": 176,
    "start_time": "2024-02-21T18:22:04.760Z"
   },
   {
    "duration": 183,
    "start_time": "2024-02-21T18:22:04.938Z"
   },
   {
    "duration": 139,
    "start_time": "2024-02-21T18:22:05.123Z"
   },
   {
    "duration": 134,
    "start_time": "2024-02-21T18:22:05.263Z"
   },
   {
    "duration": 138,
    "start_time": "2024-02-21T18:22:05.398Z"
   },
   {
    "duration": 5,
    "start_time": "2024-02-21T18:22:05.538Z"
   },
   {
    "duration": 100,
    "start_time": "2024-02-21T18:22:05.544Z"
   },
   {
    "duration": 0,
    "start_time": "2024-02-21T18:22:05.645Z"
   },
   {
    "duration": 0,
    "start_time": "2024-02-21T18:22:05.646Z"
   },
   {
    "duration": 0,
    "start_time": "2024-02-21T18:22:05.647Z"
   },
   {
    "duration": 0,
    "start_time": "2024-02-21T18:22:05.648Z"
   },
   {
    "duration": 0,
    "start_time": "2024-02-21T18:22:05.649Z"
   },
   {
    "duration": 0,
    "start_time": "2024-02-21T18:22:05.649Z"
   },
   {
    "duration": 0,
    "start_time": "2024-02-21T18:22:05.658Z"
   },
   {
    "duration": 0,
    "start_time": "2024-02-21T18:22:05.659Z"
   },
   {
    "duration": 0,
    "start_time": "2024-02-21T18:22:05.660Z"
   },
   {
    "duration": 0,
    "start_time": "2024-02-21T18:22:05.661Z"
   },
   {
    "duration": 0,
    "start_time": "2024-02-21T18:22:05.662Z"
   },
   {
    "duration": 0,
    "start_time": "2024-02-21T18:22:05.663Z"
   },
   {
    "duration": 9,
    "start_time": "2024-02-21T18:22:54.735Z"
   },
   {
    "duration": 18,
    "start_time": "2024-02-21T18:23:06.821Z"
   },
   {
    "duration": 5,
    "start_time": "2024-02-21T18:23:52.538Z"
   },
   {
    "duration": 1164,
    "start_time": "2024-02-21T18:24:24.946Z"
   },
   {
    "duration": 5,
    "start_time": "2024-02-21T18:24:33.622Z"
   },
   {
    "duration": 115,
    "start_time": "2024-02-21T18:24:34.109Z"
   },
   {
    "duration": 267,
    "start_time": "2024-02-21T18:24:42.474Z"
   },
   {
    "duration": 161,
    "start_time": "2024-02-21T18:24:46.815Z"
   },
   {
    "duration": 99,
    "start_time": "2024-02-21T18:27:05.737Z"
   },
   {
    "duration": 4,
    "start_time": "2024-02-21T18:29:05.337Z"
   },
   {
    "duration": 98,
    "start_time": "2024-02-21T18:29:13.911Z"
   },
   {
    "duration": 5,
    "start_time": "2024-02-21T18:29:30.634Z"
   },
   {
    "duration": 4,
    "start_time": "2024-02-21T18:29:36.311Z"
   },
   {
    "duration": 6,
    "start_time": "2024-02-21T18:31:36.358Z"
   },
   {
    "duration": 8,
    "start_time": "2024-02-21T18:31:44.664Z"
   },
   {
    "duration": 6,
    "start_time": "2024-02-21T18:32:04.071Z"
   },
   {
    "duration": 107,
    "start_time": "2024-02-21T18:32:41.387Z"
   },
   {
    "duration": 5,
    "start_time": "2024-02-21T18:32:43.690Z"
   },
   {
    "duration": 8,
    "start_time": "2024-02-21T18:33:29.715Z"
   },
   {
    "duration": 10,
    "start_time": "2024-02-21T18:33:45.775Z"
   },
   {
    "duration": 10,
    "start_time": "2024-02-21T18:34:14.033Z"
   },
   {
    "duration": 7,
    "start_time": "2024-02-21T18:34:55.327Z"
   },
   {
    "duration": 7,
    "start_time": "2024-02-21T18:35:00.824Z"
   },
   {
    "duration": 9,
    "start_time": "2024-02-21T18:35:24.553Z"
   },
   {
    "duration": 7,
    "start_time": "2024-02-21T18:35:31.237Z"
   },
   {
    "duration": 7,
    "start_time": "2024-02-21T18:35:43.453Z"
   },
   {
    "duration": 6,
    "start_time": "2024-02-21T18:35:52.703Z"
   },
   {
    "duration": 7,
    "start_time": "2024-02-21T18:35:57.163Z"
   },
   {
    "duration": 7,
    "start_time": "2024-02-21T18:36:22.338Z"
   },
   {
    "duration": 7,
    "start_time": "2024-02-21T18:36:23.174Z"
   },
   {
    "duration": 4,
    "start_time": "2024-02-21T18:36:53.351Z"
   },
   {
    "duration": 120,
    "start_time": "2024-02-21T18:36:55.063Z"
   },
   {
    "duration": 5,
    "start_time": "2024-02-21T18:37:16.272Z"
   },
   {
    "duration": 9,
    "start_time": "2024-02-21T18:37:38.499Z"
   },
   {
    "duration": 3,
    "start_time": "2024-02-21T18:38:09.957Z"
   },
   {
    "duration": 1238,
    "start_time": "2024-02-21T18:38:13.487Z"
   },
   {
    "duration": 7,
    "start_time": "2024-02-21T18:38:57.319Z"
   },
   {
    "duration": 1197,
    "start_time": "2024-02-21T18:39:06.883Z"
   },
   {
    "duration": 4,
    "start_time": "2024-02-21T18:41:05.602Z"
   },
   {
    "duration": 853,
    "start_time": "2024-02-21T18:41:09.992Z"
   },
   {
    "duration": 6,
    "start_time": "2024-02-21T18:43:36.549Z"
   },
   {
    "duration": 4,
    "start_time": "2024-02-21T18:43:58.196Z"
   },
   {
    "duration": 6,
    "start_time": "2024-02-21T18:45:18.619Z"
   },
   {
    "duration": 6,
    "start_time": "2024-02-21T18:45:22.007Z"
   },
   {
    "duration": 4,
    "start_time": "2024-02-21T18:45:24.612Z"
   },
   {
    "duration": 818,
    "start_time": "2024-02-21T18:45:29.550Z"
   },
   {
    "duration": 4,
    "start_time": "2024-02-21T18:46:37.770Z"
   },
   {
    "duration": 4,
    "start_time": "2024-02-21T18:47:11.689Z"
   },
   {
    "duration": 13,
    "start_time": "2024-02-21T18:47:13.398Z"
   },
   {
    "duration": 3,
    "start_time": "2024-02-21T18:47:26.959Z"
   },
   {
    "duration": 829,
    "start_time": "2024-02-21T18:47:28.050Z"
   },
   {
    "duration": 3,
    "start_time": "2024-02-21T18:48:13.035Z"
   },
   {
    "duration": 799,
    "start_time": "2024-02-21T18:48:15.011Z"
   },
   {
    "duration": 110,
    "start_time": "2024-02-21T18:49:38.580Z"
   },
   {
    "duration": 21,
    "start_time": "2024-02-21T18:49:52.527Z"
   },
   {
    "duration": 117,
    "start_time": "2024-02-21T18:50:03.831Z"
   },
   {
    "duration": 858,
    "start_time": "2024-02-21T18:51:23.935Z"
   },
   {
    "duration": 1102,
    "start_time": "2024-02-21T18:51:45.489Z"
   },
   {
    "duration": 3,
    "start_time": "2024-02-21T18:51:46.593Z"
   },
   {
    "duration": 6,
    "start_time": "2024-02-21T18:51:46.598Z"
   },
   {
    "duration": 142,
    "start_time": "2024-02-21T18:51:46.606Z"
   },
   {
    "duration": 4,
    "start_time": "2024-02-21T18:51:46.750Z"
   },
   {
    "duration": 8,
    "start_time": "2024-02-21T18:51:46.755Z"
   },
   {
    "duration": 10,
    "start_time": "2024-02-21T18:51:46.765Z"
   },
   {
    "duration": 5,
    "start_time": "2024-02-21T18:51:46.777Z"
   },
   {
    "duration": 6,
    "start_time": "2024-02-21T18:51:46.783Z"
   },
   {
    "duration": 19,
    "start_time": "2024-02-21T18:51:46.791Z"
   },
   {
    "duration": 6,
    "start_time": "2024-02-21T18:51:46.811Z"
   },
   {
    "duration": 4,
    "start_time": "2024-02-21T18:51:46.818Z"
   },
   {
    "duration": 4,
    "start_time": "2024-02-21T18:51:46.823Z"
   },
   {
    "duration": 30,
    "start_time": "2024-02-21T18:51:46.829Z"
   },
   {
    "duration": 11,
    "start_time": "2024-02-21T18:51:46.860Z"
   },
   {
    "duration": 19,
    "start_time": "2024-02-21T18:51:46.872Z"
   },
   {
    "duration": 4,
    "start_time": "2024-02-21T18:51:46.892Z"
   },
   {
    "duration": 18,
    "start_time": "2024-02-21T18:51:46.898Z"
   },
   {
    "duration": 5,
    "start_time": "2024-02-21T18:51:46.918Z"
   },
   {
    "duration": 7,
    "start_time": "2024-02-21T18:51:46.924Z"
   },
   {
    "duration": 8,
    "start_time": "2024-02-21T18:51:46.959Z"
   },
   {
    "duration": 9,
    "start_time": "2024-02-21T18:51:46.968Z"
   },
   {
    "duration": 39,
    "start_time": "2024-02-21T18:51:46.979Z"
   },
   {
    "duration": 247,
    "start_time": "2024-02-21T18:51:47.019Z"
   },
   {
    "duration": 198,
    "start_time": "2024-02-21T18:51:47.267Z"
   },
   {
    "duration": 14,
    "start_time": "2024-02-21T18:51:47.467Z"
   },
   {
    "duration": 30,
    "start_time": "2024-02-21T18:51:47.490Z"
   },
   {
    "duration": 4,
    "start_time": "2024-02-21T18:51:47.526Z"
   },
   {
    "duration": 22,
    "start_time": "2024-02-21T18:51:47.531Z"
   },
   {
    "duration": 24,
    "start_time": "2024-02-21T18:51:47.555Z"
   },
   {
    "duration": 3,
    "start_time": "2024-02-21T18:51:47.581Z"
   },
   {
    "duration": 15,
    "start_time": "2024-02-21T18:51:47.585Z"
   },
   {
    "duration": 21,
    "start_time": "2024-02-21T18:51:47.601Z"
   },
   {
    "duration": 8,
    "start_time": "2024-02-21T18:51:47.624Z"
   },
   {
    "duration": 95,
    "start_time": "2024-02-21T18:51:47.633Z"
   },
   {
    "duration": 101,
    "start_time": "2024-02-21T18:51:47.730Z"
   },
   {
    "duration": 117,
    "start_time": "2024-02-21T18:51:47.833Z"
   },
   {
    "duration": 131,
    "start_time": "2024-02-21T18:51:47.952Z"
   },
   {
    "duration": 464,
    "start_time": "2024-02-21T18:51:48.085Z"
   },
   {
    "duration": 349,
    "start_time": "2024-02-21T18:51:48.550Z"
   },
   {
    "duration": 172,
    "start_time": "2024-02-21T18:51:48.900Z"
   },
   {
    "duration": 181,
    "start_time": "2024-02-21T18:51:49.073Z"
   },
   {
    "duration": 116,
    "start_time": "2024-02-21T18:51:49.258Z"
   },
   {
    "duration": 131,
    "start_time": "2024-02-21T18:51:49.375Z"
   },
   {
    "duration": 127,
    "start_time": "2024-02-21T18:51:49.507Z"
   },
   {
    "duration": 142,
    "start_time": "2024-02-21T18:51:49.636Z"
   },
   {
    "duration": 4,
    "start_time": "2024-02-21T18:51:49.779Z"
   },
   {
    "duration": 281,
    "start_time": "2024-02-21T18:51:49.784Z"
   },
   {
    "duration": 5,
    "start_time": "2024-02-21T18:51:50.066Z"
   },
   {
    "duration": 879,
    "start_time": "2024-02-21T18:51:50.072Z"
   },
   {
    "duration": 0,
    "start_time": "2024-02-21T18:51:50.952Z"
   },
   {
    "duration": 0,
    "start_time": "2024-02-21T18:51:50.953Z"
   },
   {
    "duration": 0,
    "start_time": "2024-02-21T18:51:50.955Z"
   },
   {
    "duration": 0,
    "start_time": "2024-02-21T18:51:50.956Z"
   },
   {
    "duration": 0,
    "start_time": "2024-02-21T18:51:50.957Z"
   },
   {
    "duration": 0,
    "start_time": "2024-02-21T18:51:50.958Z"
   },
   {
    "duration": 0,
    "start_time": "2024-02-21T18:51:50.959Z"
   },
   {
    "duration": 0,
    "start_time": "2024-02-21T18:51:50.960Z"
   },
   {
    "duration": 0,
    "start_time": "2024-02-21T18:51:50.960Z"
   },
   {
    "duration": 0,
    "start_time": "2024-02-21T18:51:50.962Z"
   },
   {
    "duration": 0,
    "start_time": "2024-02-21T18:51:50.963Z"
   },
   {
    "duration": 0,
    "start_time": "2024-02-21T18:51:50.964Z"
   },
   {
    "duration": 0,
    "start_time": "2024-02-21T18:51:50.965Z"
   },
   {
    "duration": 0,
    "start_time": "2024-02-21T18:51:50.965Z"
   },
   {
    "duration": 0,
    "start_time": "2024-02-21T18:51:50.966Z"
   },
   {
    "duration": 0,
    "start_time": "2024-02-21T18:51:50.967Z"
   },
   {
    "duration": 0,
    "start_time": "2024-02-21T18:51:50.968Z"
   },
   {
    "duration": 0,
    "start_time": "2024-02-21T18:51:50.970Z"
   },
   {
    "duration": 0,
    "start_time": "2024-02-21T18:51:50.971Z"
   },
   {
    "duration": 0,
    "start_time": "2024-02-21T18:51:50.972Z"
   },
   {
    "duration": 0,
    "start_time": "2024-02-21T18:51:50.973Z"
   },
   {
    "duration": 0,
    "start_time": "2024-02-21T18:51:50.983Z"
   },
   {
    "duration": 0,
    "start_time": "2024-02-21T18:51:50.984Z"
   },
   {
    "duration": 0,
    "start_time": "2024-02-21T18:51:50.986Z"
   },
   {
    "duration": 90,
    "start_time": "2024-02-21T18:52:47.077Z"
   },
   {
    "duration": 1146,
    "start_time": "2024-02-21T18:53:36.831Z"
   },
   {
    "duration": 3,
    "start_time": "2024-02-21T18:53:37.979Z"
   },
   {
    "duration": 5,
    "start_time": "2024-02-21T18:53:37.983Z"
   },
   {
    "duration": 83,
    "start_time": "2024-02-21T18:53:37.989Z"
   },
   {
    "duration": 4,
    "start_time": "2024-02-21T18:53:38.074Z"
   },
   {
    "duration": 11,
    "start_time": "2024-02-21T18:53:38.079Z"
   },
   {
    "duration": 10,
    "start_time": "2024-02-21T18:53:38.091Z"
   },
   {
    "duration": 4,
    "start_time": "2024-02-21T18:53:38.102Z"
   },
   {
    "duration": 5,
    "start_time": "2024-02-21T18:53:38.108Z"
   },
   {
    "duration": 13,
    "start_time": "2024-02-21T18:53:38.115Z"
   },
   {
    "duration": 29,
    "start_time": "2024-02-21T18:53:38.130Z"
   },
   {
    "duration": 4,
    "start_time": "2024-02-21T18:53:38.160Z"
   },
   {
    "duration": 5,
    "start_time": "2024-02-21T18:53:38.165Z"
   },
   {
    "duration": 17,
    "start_time": "2024-02-21T18:53:38.173Z"
   },
   {
    "duration": 6,
    "start_time": "2024-02-21T18:53:38.192Z"
   },
   {
    "duration": 18,
    "start_time": "2024-02-21T18:53:38.200Z"
   },
   {
    "duration": 4,
    "start_time": "2024-02-21T18:53:38.220Z"
   },
   {
    "duration": 48,
    "start_time": "2024-02-21T18:53:38.225Z"
   },
   {
    "duration": 4,
    "start_time": "2024-02-21T18:53:38.275Z"
   },
   {
    "duration": 14,
    "start_time": "2024-02-21T18:53:38.280Z"
   },
   {
    "duration": 9,
    "start_time": "2024-02-21T18:53:38.296Z"
   },
   {
    "duration": 3,
    "start_time": "2024-02-21T18:53:38.306Z"
   },
   {
    "duration": 24,
    "start_time": "2024-02-21T18:53:38.310Z"
   },
   {
    "duration": 266,
    "start_time": "2024-02-21T18:53:38.335Z"
   },
   {
    "duration": 214,
    "start_time": "2024-02-21T18:53:38.603Z"
   },
   {
    "duration": 13,
    "start_time": "2024-02-21T18:53:38.819Z"
   },
   {
    "duration": 3,
    "start_time": "2024-02-21T18:53:38.834Z"
   },
   {
    "duration": 21,
    "start_time": "2024-02-21T18:53:38.838Z"
   },
   {
    "duration": 8,
    "start_time": "2024-02-21T18:53:38.860Z"
   },
   {
    "duration": 13,
    "start_time": "2024-02-21T18:53:38.869Z"
   },
   {
    "duration": 3,
    "start_time": "2024-02-21T18:53:38.884Z"
   },
   {
    "duration": 7,
    "start_time": "2024-02-21T18:53:38.888Z"
   },
   {
    "duration": 6,
    "start_time": "2024-02-21T18:53:38.897Z"
   },
   {
    "duration": 4,
    "start_time": "2024-02-21T18:53:38.905Z"
   },
   {
    "duration": 124,
    "start_time": "2024-02-21T18:53:38.911Z"
   },
   {
    "duration": 102,
    "start_time": "2024-02-21T18:53:39.036Z"
   },
   {
    "duration": 121,
    "start_time": "2024-02-21T18:53:39.139Z"
   },
   {
    "duration": 128,
    "start_time": "2024-02-21T18:53:39.262Z"
   },
   {
    "duration": 408,
    "start_time": "2024-02-21T18:53:39.392Z"
   },
   {
    "duration": 341,
    "start_time": "2024-02-21T18:53:39.801Z"
   },
   {
    "duration": 171,
    "start_time": "2024-02-21T18:53:40.145Z"
   },
   {
    "duration": 173,
    "start_time": "2024-02-21T18:53:40.317Z"
   },
   {
    "duration": 114,
    "start_time": "2024-02-21T18:53:40.491Z"
   },
   {
    "duration": 126,
    "start_time": "2024-02-21T18:53:40.606Z"
   },
   {
    "duration": 130,
    "start_time": "2024-02-21T18:53:40.733Z"
   },
   {
    "duration": 228,
    "start_time": "2024-02-21T18:53:40.864Z"
   },
   {
    "duration": 4,
    "start_time": "2024-02-21T18:53:41.094Z"
   },
   {
    "duration": 575,
    "start_time": "2024-02-21T18:53:41.099Z"
   },
   {
    "duration": 6,
    "start_time": "2024-02-21T18:53:41.675Z"
   },
   {
    "duration": 198,
    "start_time": "2024-02-21T18:53:41.682Z"
   },
   {
    "duration": 196,
    "start_time": "2024-02-21T18:53:41.882Z"
   },
   {
    "duration": 0,
    "start_time": "2024-02-21T18:53:42.079Z"
   },
   {
    "duration": 0,
    "start_time": "2024-02-21T18:53:42.081Z"
   },
   {
    "duration": 0,
    "start_time": "2024-02-21T18:53:42.082Z"
   },
   {
    "duration": 0,
    "start_time": "2024-02-21T18:53:42.082Z"
   },
   {
    "duration": 0,
    "start_time": "2024-02-21T18:53:42.083Z"
   },
   {
    "duration": 0,
    "start_time": "2024-02-21T18:53:42.084Z"
   },
   {
    "duration": 0,
    "start_time": "2024-02-21T18:53:42.085Z"
   },
   {
    "duration": 0,
    "start_time": "2024-02-21T18:53:42.086Z"
   },
   {
    "duration": 0,
    "start_time": "2024-02-21T18:53:42.087Z"
   },
   {
    "duration": 0,
    "start_time": "2024-02-21T18:53:42.088Z"
   },
   {
    "duration": 0,
    "start_time": "2024-02-21T18:53:42.089Z"
   },
   {
    "duration": 0,
    "start_time": "2024-02-21T18:53:42.090Z"
   },
   {
    "duration": 0,
    "start_time": "2024-02-21T18:53:42.091Z"
   },
   {
    "duration": 0,
    "start_time": "2024-02-21T18:53:42.092Z"
   },
   {
    "duration": 0,
    "start_time": "2024-02-21T18:53:42.093Z"
   },
   {
    "duration": 0,
    "start_time": "2024-02-21T18:53:42.094Z"
   },
   {
    "duration": 0,
    "start_time": "2024-02-21T18:53:42.094Z"
   },
   {
    "duration": 0,
    "start_time": "2024-02-21T18:53:42.095Z"
   },
   {
    "duration": 0,
    "start_time": "2024-02-21T18:53:42.097Z"
   },
   {
    "duration": 0,
    "start_time": "2024-02-21T18:53:42.097Z"
   },
   {
    "duration": 0,
    "start_time": "2024-02-21T18:53:42.099Z"
   },
   {
    "duration": 0,
    "start_time": "2024-02-21T18:53:42.099Z"
   },
   {
    "duration": 0,
    "start_time": "2024-02-21T18:53:42.100Z"
   },
   {
    "duration": 6,
    "start_time": "2024-02-21T18:54:00.757Z"
   },
   {
    "duration": 19,
    "start_time": "2024-02-21T18:59:00.950Z"
   },
   {
    "duration": 1094,
    "start_time": "2024-02-21T18:59:19.582Z"
   },
   {
    "duration": 2,
    "start_time": "2024-02-21T18:59:20.678Z"
   },
   {
    "duration": 4,
    "start_time": "2024-02-21T18:59:20.682Z"
   },
   {
    "duration": 87,
    "start_time": "2024-02-21T18:59:20.687Z"
   },
   {
    "duration": 3,
    "start_time": "2024-02-21T18:59:20.776Z"
   },
   {
    "duration": 19,
    "start_time": "2024-02-21T18:59:20.781Z"
   },
   {
    "duration": 10,
    "start_time": "2024-02-21T18:59:20.802Z"
   },
   {
    "duration": 4,
    "start_time": "2024-02-21T18:59:20.813Z"
   },
   {
    "duration": 5,
    "start_time": "2024-02-21T18:59:20.819Z"
   },
   {
    "duration": 14,
    "start_time": "2024-02-21T18:59:20.826Z"
   },
   {
    "duration": 20,
    "start_time": "2024-02-21T18:59:20.841Z"
   },
   {
    "duration": 4,
    "start_time": "2024-02-21T18:59:20.863Z"
   },
   {
    "duration": 8,
    "start_time": "2024-02-21T18:59:20.868Z"
   },
   {
    "duration": 25,
    "start_time": "2024-02-21T18:59:20.879Z"
   },
   {
    "duration": 25,
    "start_time": "2024-02-21T18:59:20.905Z"
   },
   {
    "duration": 28,
    "start_time": "2024-02-21T18:59:20.932Z"
   },
   {
    "duration": 22,
    "start_time": "2024-02-21T18:59:20.961Z"
   },
   {
    "duration": 21,
    "start_time": "2024-02-21T18:59:20.984Z"
   },
   {
    "duration": 5,
    "start_time": "2024-02-21T18:59:21.006Z"
   },
   {
    "duration": 8,
    "start_time": "2024-02-21T18:59:21.013Z"
   },
   {
    "duration": 8,
    "start_time": "2024-02-21T18:59:21.023Z"
   },
   {
    "duration": 3,
    "start_time": "2024-02-21T18:59:21.033Z"
   },
   {
    "duration": 43,
    "start_time": "2024-02-21T18:59:21.038Z"
   },
   {
    "duration": 273,
    "start_time": "2024-02-21T18:59:21.083Z"
   },
   {
    "duration": 226,
    "start_time": "2024-02-21T18:59:21.358Z"
   },
   {
    "duration": 12,
    "start_time": "2024-02-21T18:59:21.586Z"
   },
   {
    "duration": 3,
    "start_time": "2024-02-21T18:59:21.599Z"
   },
   {
    "duration": 5,
    "start_time": "2024-02-21T18:59:21.603Z"
   },
   {
    "duration": 8,
    "start_time": "2024-02-21T18:59:21.609Z"
   },
   {
    "duration": 13,
    "start_time": "2024-02-21T18:59:21.619Z"
   },
   {
    "duration": 26,
    "start_time": "2024-02-21T18:59:21.633Z"
   },
   {
    "duration": 9,
    "start_time": "2024-02-21T18:59:21.660Z"
   },
   {
    "duration": 4,
    "start_time": "2024-02-21T18:59:21.670Z"
   },
   {
    "duration": 4,
    "start_time": "2024-02-21T18:59:21.675Z"
   },
   {
    "duration": 109,
    "start_time": "2024-02-21T18:59:21.680Z"
   },
   {
    "duration": 111,
    "start_time": "2024-02-21T18:59:21.791Z"
   },
   {
    "duration": 135,
    "start_time": "2024-02-21T18:59:21.904Z"
   },
   {
    "duration": 127,
    "start_time": "2024-02-21T18:59:22.041Z"
   },
   {
    "duration": 399,
    "start_time": "2024-02-21T18:59:22.170Z"
   },
   {
    "duration": 342,
    "start_time": "2024-02-21T18:59:22.570Z"
   },
   {
    "duration": 165,
    "start_time": "2024-02-21T18:59:22.915Z"
   },
   {
    "duration": 173,
    "start_time": "2024-02-21T18:59:23.081Z"
   },
   {
    "duration": 105,
    "start_time": "2024-02-21T18:59:23.258Z"
   },
   {
    "duration": 17,
    "start_time": "2024-02-21T18:59:23.365Z"
   },
   {
    "duration": 4,
    "start_time": "2024-02-21T18:59:23.383Z"
   },
   {
    "duration": 6,
    "start_time": "2024-02-21T18:59:23.388Z"
   },
   {
    "duration": 202,
    "start_time": "2024-02-21T18:59:23.396Z"
   },
   {
    "duration": 5,
    "start_time": "2024-02-21T18:59:23.600Z"
   },
   {
    "duration": 96,
    "start_time": "2024-02-21T18:59:23.606Z"
   },
   {
    "duration": 4,
    "start_time": "2024-02-21T18:59:23.704Z"
   },
   {
    "duration": 97,
    "start_time": "2024-02-21T18:59:23.709Z"
   },
   {
    "duration": 0,
    "start_time": "2024-02-21T18:59:23.807Z"
   },
   {
    "duration": 0,
    "start_time": "2024-02-21T18:59:23.808Z"
   },
   {
    "duration": 0,
    "start_time": "2024-02-21T18:59:23.809Z"
   },
   {
    "duration": 0,
    "start_time": "2024-02-21T18:59:23.811Z"
   },
   {
    "duration": 0,
    "start_time": "2024-02-21T18:59:23.812Z"
   },
   {
    "duration": 0,
    "start_time": "2024-02-21T18:59:23.813Z"
   },
   {
    "duration": 0,
    "start_time": "2024-02-21T18:59:23.815Z"
   },
   {
    "duration": 0,
    "start_time": "2024-02-21T18:59:23.816Z"
   },
   {
    "duration": 0,
    "start_time": "2024-02-21T18:59:23.817Z"
   },
   {
    "duration": 0,
    "start_time": "2024-02-21T18:59:23.819Z"
   },
   {
    "duration": 0,
    "start_time": "2024-02-21T18:59:23.820Z"
   },
   {
    "duration": 0,
    "start_time": "2024-02-21T18:59:23.821Z"
   },
   {
    "duration": 0,
    "start_time": "2024-02-21T18:59:23.827Z"
   },
   {
    "duration": 0,
    "start_time": "2024-02-21T18:59:23.859Z"
   },
   {
    "duration": 0,
    "start_time": "2024-02-21T18:59:23.860Z"
   },
   {
    "duration": 0,
    "start_time": "2024-02-21T18:59:23.862Z"
   },
   {
    "duration": 0,
    "start_time": "2024-02-21T18:59:23.864Z"
   },
   {
    "duration": 0,
    "start_time": "2024-02-21T18:59:23.865Z"
   },
   {
    "duration": 0,
    "start_time": "2024-02-21T18:59:23.867Z"
   },
   {
    "duration": 0,
    "start_time": "2024-02-21T18:59:23.867Z"
   },
   {
    "duration": 1,
    "start_time": "2024-02-21T18:59:23.868Z"
   },
   {
    "duration": 0,
    "start_time": "2024-02-21T18:59:23.870Z"
   },
   {
    "duration": 0,
    "start_time": "2024-02-21T18:59:23.871Z"
   },
   {
    "duration": 21,
    "start_time": "2024-02-21T19:02:09.361Z"
   },
   {
    "duration": 10,
    "start_time": "2024-02-21T19:02:48.652Z"
   },
   {
    "duration": 18,
    "start_time": "2024-02-21T19:03:46.128Z"
   },
   {
    "duration": 19,
    "start_time": "2024-02-21T19:04:47.848Z"
   },
   {
    "duration": 3,
    "start_time": "2024-02-21T19:06:10.921Z"
   },
   {
    "duration": 8,
    "start_time": "2024-02-21T19:06:23.127Z"
   },
   {
    "duration": 16,
    "start_time": "2024-02-21T19:06:26.377Z"
   },
   {
    "duration": 4,
    "start_time": "2024-02-21T19:09:59.566Z"
   },
   {
    "duration": 16,
    "start_time": "2024-02-21T19:10:07.573Z"
   },
   {
    "duration": 5,
    "start_time": "2024-02-21T19:10:28.559Z"
   },
   {
    "duration": 12,
    "start_time": "2024-02-21T19:10:29.046Z"
   },
   {
    "duration": 11,
    "start_time": "2024-02-21T19:11:18.128Z"
   },
   {
    "duration": 18,
    "start_time": "2024-02-21T19:11:25.848Z"
   },
   {
    "duration": 1546,
    "start_time": "2024-02-21T19:12:35.408Z"
   },
   {
    "duration": 1118,
    "start_time": "2024-02-21T19:12:47.671Z"
   },
   {
    "duration": 2,
    "start_time": "2024-02-21T19:12:48.791Z"
   },
   {
    "duration": 35,
    "start_time": "2024-02-21T19:12:48.794Z"
   },
   {
    "duration": 103,
    "start_time": "2024-02-21T19:12:48.831Z"
   },
   {
    "duration": 4,
    "start_time": "2024-02-21T19:12:48.936Z"
   },
   {
    "duration": 26,
    "start_time": "2024-02-21T19:12:48.941Z"
   },
   {
    "duration": 27,
    "start_time": "2024-02-21T19:12:48.969Z"
   },
   {
    "duration": 33,
    "start_time": "2024-02-21T19:12:48.998Z"
   },
   {
    "duration": 20,
    "start_time": "2024-02-21T19:12:49.033Z"
   },
   {
    "duration": 32,
    "start_time": "2024-02-21T19:12:49.055Z"
   },
   {
    "duration": 23,
    "start_time": "2024-02-21T19:12:49.088Z"
   },
   {
    "duration": 15,
    "start_time": "2024-02-21T19:12:49.112Z"
   },
   {
    "duration": 27,
    "start_time": "2024-02-21T19:12:49.128Z"
   },
   {
    "duration": 45,
    "start_time": "2024-02-21T19:12:49.158Z"
   },
   {
    "duration": 13,
    "start_time": "2024-02-21T19:12:49.204Z"
   },
   {
    "duration": 39,
    "start_time": "2024-02-21T19:12:49.219Z"
   },
   {
    "duration": 10,
    "start_time": "2024-02-21T19:12:49.259Z"
   },
   {
    "duration": 40,
    "start_time": "2024-02-21T19:12:49.271Z"
   },
   {
    "duration": 40,
    "start_time": "2024-02-21T19:12:49.313Z"
   },
   {
    "duration": 28,
    "start_time": "2024-02-21T19:12:49.355Z"
   },
   {
    "duration": 44,
    "start_time": "2024-02-21T19:12:49.384Z"
   },
   {
    "duration": 18,
    "start_time": "2024-02-21T19:12:49.430Z"
   },
   {
    "duration": 64,
    "start_time": "2024-02-21T19:12:49.450Z"
   },
   {
    "duration": 259,
    "start_time": "2024-02-21T19:12:49.516Z"
   },
   {
    "duration": 197,
    "start_time": "2024-02-21T19:12:49.777Z"
   },
   {
    "duration": 13,
    "start_time": "2024-02-21T19:12:49.976Z"
   },
   {
    "duration": 40,
    "start_time": "2024-02-21T19:12:49.990Z"
   },
   {
    "duration": 31,
    "start_time": "2024-02-21T19:12:50.032Z"
   },
   {
    "duration": 35,
    "start_time": "2024-02-21T19:12:50.065Z"
   },
   {
    "duration": 38,
    "start_time": "2024-02-21T19:12:50.101Z"
   },
   {
    "duration": 11,
    "start_time": "2024-02-21T19:12:50.141Z"
   },
   {
    "duration": 18,
    "start_time": "2024-02-21T19:12:50.154Z"
   },
   {
    "duration": 33,
    "start_time": "2024-02-21T19:12:50.173Z"
   },
   {
    "duration": 19,
    "start_time": "2024-02-21T19:12:50.208Z"
   },
   {
    "duration": 120,
    "start_time": "2024-02-21T19:12:50.229Z"
   },
   {
    "duration": 102,
    "start_time": "2024-02-21T19:12:50.351Z"
   },
   {
    "duration": 129,
    "start_time": "2024-02-21T19:12:50.460Z"
   },
   {
    "duration": 119,
    "start_time": "2024-02-21T19:12:50.590Z"
   },
   {
    "duration": 410,
    "start_time": "2024-02-21T19:12:50.711Z"
   },
   {
    "duration": 341,
    "start_time": "2024-02-21T19:12:51.123Z"
   },
   {
    "duration": 176,
    "start_time": "2024-02-21T19:12:51.468Z"
   },
   {
    "duration": 185,
    "start_time": "2024-02-21T19:12:51.646Z"
   },
   {
    "duration": 116,
    "start_time": "2024-02-21T19:12:51.833Z"
   },
   {
    "duration": 21,
    "start_time": "2024-02-21T19:12:51.959Z"
   },
   {
    "duration": 17,
    "start_time": "2024-02-21T19:12:51.981Z"
   },
   {
    "duration": 51,
    "start_time": "2024-02-21T19:12:52.000Z"
   },
   {
    "duration": 115,
    "start_time": "2024-02-21T19:12:52.052Z"
   },
   {
    "duration": 0,
    "start_time": "2024-02-21T19:12:52.168Z"
   },
   {
    "duration": 0,
    "start_time": "2024-02-21T19:12:52.169Z"
   },
   {
    "duration": 0,
    "start_time": "2024-02-21T19:12:52.170Z"
   },
   {
    "duration": 0,
    "start_time": "2024-02-21T19:12:52.172Z"
   },
   {
    "duration": 0,
    "start_time": "2024-02-21T19:12:52.172Z"
   },
   {
    "duration": 0,
    "start_time": "2024-02-21T19:12:52.173Z"
   },
   {
    "duration": 0,
    "start_time": "2024-02-21T19:12:52.174Z"
   },
   {
    "duration": 0,
    "start_time": "2024-02-21T19:12:52.175Z"
   },
   {
    "duration": 0,
    "start_time": "2024-02-21T19:12:52.176Z"
   },
   {
    "duration": 0,
    "start_time": "2024-02-21T19:12:52.177Z"
   },
   {
    "duration": 0,
    "start_time": "2024-02-21T19:12:52.178Z"
   },
   {
    "duration": 0,
    "start_time": "2024-02-21T19:12:52.179Z"
   },
   {
    "duration": 0,
    "start_time": "2024-02-21T19:12:52.180Z"
   },
   {
    "duration": 0,
    "start_time": "2024-02-21T19:12:52.181Z"
   },
   {
    "duration": 0,
    "start_time": "2024-02-21T19:12:52.182Z"
   },
   {
    "duration": 0,
    "start_time": "2024-02-21T19:12:52.183Z"
   },
   {
    "duration": 0,
    "start_time": "2024-02-21T19:12:52.184Z"
   },
   {
    "duration": 0,
    "start_time": "2024-02-21T19:12:52.185Z"
   },
   {
    "duration": 0,
    "start_time": "2024-02-21T19:12:52.186Z"
   },
   {
    "duration": 0,
    "start_time": "2024-02-21T19:12:52.187Z"
   },
   {
    "duration": 0,
    "start_time": "2024-02-21T19:12:52.188Z"
   },
   {
    "duration": 0,
    "start_time": "2024-02-21T19:12:52.188Z"
   },
   {
    "duration": 0,
    "start_time": "2024-02-21T19:12:52.189Z"
   },
   {
    "duration": 0,
    "start_time": "2024-02-21T19:12:52.190Z"
   },
   {
    "duration": 0,
    "start_time": "2024-02-21T19:12:52.191Z"
   },
   {
    "duration": 6,
    "start_time": "2024-02-21T19:14:10.807Z"
   },
   {
    "duration": 739,
    "start_time": "2024-02-21T19:14:17.978Z"
   },
   {
    "duration": 4,
    "start_time": "2024-02-21T19:14:24.888Z"
   },
   {
    "duration": 1189,
    "start_time": "2024-02-21T19:14:53.657Z"
   },
   {
    "duration": 2,
    "start_time": "2024-02-21T19:14:54.848Z"
   },
   {
    "duration": 11,
    "start_time": "2024-02-21T19:14:54.852Z"
   },
   {
    "duration": 112,
    "start_time": "2024-02-21T19:14:54.865Z"
   },
   {
    "duration": 4,
    "start_time": "2024-02-21T19:14:54.978Z"
   },
   {
    "duration": 7,
    "start_time": "2024-02-21T19:14:54.984Z"
   },
   {
    "duration": 15,
    "start_time": "2024-02-21T19:14:54.992Z"
   },
   {
    "duration": 6,
    "start_time": "2024-02-21T19:14:55.008Z"
   },
   {
    "duration": 5,
    "start_time": "2024-02-21T19:14:55.016Z"
   },
   {
    "duration": 49,
    "start_time": "2024-02-21T19:14:55.024Z"
   },
   {
    "duration": 10,
    "start_time": "2024-02-21T19:14:55.074Z"
   },
   {
    "duration": 4,
    "start_time": "2024-02-21T19:14:55.086Z"
   },
   {
    "duration": 3,
    "start_time": "2024-02-21T19:14:55.091Z"
   },
   {
    "duration": 25,
    "start_time": "2024-02-21T19:14:55.096Z"
   },
   {
    "duration": 38,
    "start_time": "2024-02-21T19:14:55.122Z"
   },
   {
    "duration": 20,
    "start_time": "2024-02-21T19:14:55.162Z"
   },
   {
    "duration": 4,
    "start_time": "2024-02-21T19:14:55.184Z"
   },
   {
    "duration": 18,
    "start_time": "2024-02-21T19:14:55.190Z"
   },
   {
    "duration": 9,
    "start_time": "2024-02-21T19:14:55.210Z"
   },
   {
    "duration": 9,
    "start_time": "2024-02-21T19:14:55.220Z"
   },
   {
    "duration": 35,
    "start_time": "2024-02-21T19:14:55.230Z"
   },
   {
    "duration": 3,
    "start_time": "2024-02-21T19:14:55.267Z"
   },
   {
    "duration": 25,
    "start_time": "2024-02-21T19:14:55.272Z"
   },
   {
    "duration": 274,
    "start_time": "2024-02-21T19:14:55.299Z"
   },
   {
    "duration": 203,
    "start_time": "2024-02-21T19:14:55.575Z"
   },
   {
    "duration": 13,
    "start_time": "2024-02-21T19:14:55.780Z"
   },
   {
    "duration": 7,
    "start_time": "2024-02-21T19:14:55.795Z"
   },
   {
    "duration": 8,
    "start_time": "2024-02-21T19:14:55.806Z"
   },
   {
    "duration": 9,
    "start_time": "2024-02-21T19:14:55.815Z"
   },
   {
    "duration": 34,
    "start_time": "2024-02-21T19:14:55.825Z"
   },
   {
    "duration": 3,
    "start_time": "2024-02-21T19:14:55.860Z"
   },
   {
    "duration": 28,
    "start_time": "2024-02-21T19:14:55.865Z"
   },
   {
    "duration": 6,
    "start_time": "2024-02-21T19:14:55.895Z"
   },
   {
    "duration": 13,
    "start_time": "2024-02-21T19:14:55.903Z"
   },
   {
    "duration": 95,
    "start_time": "2024-02-21T19:14:55.918Z"
   },
   {
    "duration": 112,
    "start_time": "2024-02-21T19:14:56.015Z"
   },
   {
    "duration": 123,
    "start_time": "2024-02-21T19:14:56.129Z"
   },
   {
    "duration": 135,
    "start_time": "2024-02-21T19:14:56.254Z"
   },
   {
    "duration": 398,
    "start_time": "2024-02-21T19:14:56.391Z"
   },
   {
    "duration": 515,
    "start_time": "2024-02-21T19:14:56.791Z"
   },
   {
    "duration": 326,
    "start_time": "2024-02-21T19:14:57.359Z"
   },
   {
    "duration": 374,
    "start_time": "2024-02-21T19:14:57.687Z"
   },
   {
    "duration": 208,
    "start_time": "2024-02-21T19:14:58.063Z"
   },
   {
    "duration": 16,
    "start_time": "2024-02-21T19:14:58.273Z"
   },
   {
    "duration": 5,
    "start_time": "2024-02-21T19:14:58.290Z"
   },
   {
    "duration": 15,
    "start_time": "2024-02-21T19:14:58.296Z"
   },
   {
    "duration": 15,
    "start_time": "2024-02-21T19:14:58.312Z"
   },
   {
    "duration": 173,
    "start_time": "2024-02-21T19:14:58.328Z"
   },
   {
    "duration": 4,
    "start_time": "2024-02-21T19:14:58.503Z"
   },
   {
    "duration": 112,
    "start_time": "2024-02-21T19:14:58.508Z"
   },
   {
    "duration": 0,
    "start_time": "2024-02-21T19:14:58.621Z"
   },
   {
    "duration": 0,
    "start_time": "2024-02-21T19:14:58.622Z"
   },
   {
    "duration": 0,
    "start_time": "2024-02-21T19:14:58.623Z"
   },
   {
    "duration": 0,
    "start_time": "2024-02-21T19:14:58.624Z"
   },
   {
    "duration": 0,
    "start_time": "2024-02-21T19:14:58.624Z"
   },
   {
    "duration": 0,
    "start_time": "2024-02-21T19:14:58.626Z"
   },
   {
    "duration": 0,
    "start_time": "2024-02-21T19:14:58.626Z"
   },
   {
    "duration": 0,
    "start_time": "2024-02-21T19:14:58.627Z"
   },
   {
    "duration": 0,
    "start_time": "2024-02-21T19:14:58.628Z"
   },
   {
    "duration": 0,
    "start_time": "2024-02-21T19:14:58.629Z"
   },
   {
    "duration": 0,
    "start_time": "2024-02-21T19:14:58.630Z"
   },
   {
    "duration": 0,
    "start_time": "2024-02-21T19:14:58.631Z"
   },
   {
    "duration": 0,
    "start_time": "2024-02-21T19:14:58.632Z"
   },
   {
    "duration": 0,
    "start_time": "2024-02-21T19:14:58.634Z"
   },
   {
    "duration": 0,
    "start_time": "2024-02-21T19:14:58.635Z"
   },
   {
    "duration": 0,
    "start_time": "2024-02-21T19:14:58.659Z"
   },
   {
    "duration": 0,
    "start_time": "2024-02-21T19:14:58.661Z"
   },
   {
    "duration": 0,
    "start_time": "2024-02-21T19:14:58.663Z"
   },
   {
    "duration": 0,
    "start_time": "2024-02-21T19:14:58.664Z"
   },
   {
    "duration": 0,
    "start_time": "2024-02-21T19:14:58.665Z"
   },
   {
    "duration": 0,
    "start_time": "2024-02-21T19:14:58.666Z"
   },
   {
    "duration": 0,
    "start_time": "2024-02-21T19:14:58.668Z"
   },
   {
    "duration": 0,
    "start_time": "2024-02-21T19:14:58.669Z"
   },
   {
    "duration": 6,
    "start_time": "2024-02-21T19:17:14.097Z"
   },
   {
    "duration": 13,
    "start_time": "2024-02-21T19:17:21.835Z"
   },
   {
    "duration": 1167,
    "start_time": "2024-02-23T12:01:54.881Z"
   },
   {
    "duration": 2,
    "start_time": "2024-02-23T12:01:56.050Z"
   },
   {
    "duration": 15,
    "start_time": "2024-02-23T12:01:56.053Z"
   },
   {
    "duration": 157,
    "start_time": "2024-02-23T12:01:56.069Z"
   },
   {
    "duration": 3,
    "start_time": "2024-02-23T12:01:56.228Z"
   },
   {
    "duration": 7,
    "start_time": "2024-02-23T12:01:56.232Z"
   },
   {
    "duration": 8,
    "start_time": "2024-02-23T12:01:56.240Z"
   },
   {
    "duration": 18,
    "start_time": "2024-02-23T12:01:56.249Z"
   },
   {
    "duration": 9,
    "start_time": "2024-02-23T12:01:56.268Z"
   },
   {
    "duration": 17,
    "start_time": "2024-02-23T12:01:56.278Z"
   },
   {
    "duration": 6,
    "start_time": "2024-02-23T12:01:56.296Z"
   },
   {
    "duration": 8,
    "start_time": "2024-02-23T12:01:56.303Z"
   },
   {
    "duration": 5,
    "start_time": "2024-02-23T12:01:56.312Z"
   },
   {
    "duration": 17,
    "start_time": "2024-02-23T12:01:56.319Z"
   },
   {
    "duration": 6,
    "start_time": "2024-02-23T12:01:56.337Z"
   },
   {
    "duration": 16,
    "start_time": "2024-02-23T12:01:56.344Z"
   },
   {
    "duration": 3,
    "start_time": "2024-02-23T12:01:56.361Z"
   },
   {
    "duration": 42,
    "start_time": "2024-02-23T12:01:56.365Z"
   },
   {
    "duration": 8,
    "start_time": "2024-02-23T12:01:56.408Z"
   },
   {
    "duration": 6,
    "start_time": "2024-02-23T12:01:56.418Z"
   },
   {
    "duration": 11,
    "start_time": "2024-02-23T12:01:56.425Z"
   },
   {
    "duration": 13,
    "start_time": "2024-02-23T12:01:56.437Z"
   },
   {
    "duration": 38,
    "start_time": "2024-02-23T12:01:56.451Z"
   },
   {
    "duration": 197,
    "start_time": "2024-02-23T12:01:56.490Z"
   },
   {
    "duration": 167,
    "start_time": "2024-02-23T12:01:56.688Z"
   },
   {
    "duration": 11,
    "start_time": "2024-02-23T12:01:56.857Z"
   },
   {
    "duration": 3,
    "start_time": "2024-02-23T12:01:56.869Z"
   },
   {
    "duration": 40,
    "start_time": "2024-02-23T12:01:56.873Z"
   },
   {
    "duration": 16,
    "start_time": "2024-02-23T12:01:56.914Z"
   },
   {
    "duration": 25,
    "start_time": "2024-02-23T12:01:56.931Z"
   },
   {
    "duration": 15,
    "start_time": "2024-02-23T12:01:56.957Z"
   },
   {
    "duration": 12,
    "start_time": "2024-02-23T12:01:56.973Z"
   },
   {
    "duration": 7,
    "start_time": "2024-02-23T12:01:56.986Z"
   },
   {
    "duration": 10,
    "start_time": "2024-02-23T12:01:56.994Z"
   },
   {
    "duration": 79,
    "start_time": "2024-02-23T12:01:57.006Z"
   },
   {
    "duration": 94,
    "start_time": "2024-02-23T12:01:57.086Z"
   },
   {
    "duration": 109,
    "start_time": "2024-02-23T12:01:57.181Z"
   },
   {
    "duration": 153,
    "start_time": "2024-02-23T12:01:57.292Z"
   },
   {
    "duration": 268,
    "start_time": "2024-02-23T12:01:57.446Z"
   },
   {
    "duration": 288,
    "start_time": "2024-02-23T12:01:57.715Z"
   },
   {
    "duration": 133,
    "start_time": "2024-02-23T12:01:58.007Z"
   },
   {
    "duration": 139,
    "start_time": "2024-02-23T12:01:58.141Z"
   },
   {
    "duration": 98,
    "start_time": "2024-02-23T12:01:58.281Z"
   },
   {
    "duration": 21,
    "start_time": "2024-02-23T12:01:58.381Z"
   },
   {
    "duration": 80,
    "start_time": "2024-02-23T12:01:58.403Z"
   },
   {
    "duration": 26,
    "start_time": "2024-02-23T12:01:58.485Z"
   },
   {
    "duration": 23,
    "start_time": "2024-02-23T12:01:58.513Z"
   },
   {
    "duration": 119,
    "start_time": "2024-02-23T12:01:58.538Z"
   },
   {
    "duration": 4,
    "start_time": "2024-02-23T12:01:58.659Z"
   },
   {
    "duration": 21,
    "start_time": "2024-02-23T12:01:58.664Z"
   },
   {
    "duration": 9,
    "start_time": "2024-02-23T12:01:58.686Z"
   },
   {
    "duration": 3,
    "start_time": "2024-02-23T12:01:58.697Z"
   },
   {
    "duration": 3,
    "start_time": "2024-02-23T12:01:58.701Z"
   },
   {
    "duration": 11,
    "start_time": "2024-02-23T12:01:58.705Z"
   },
   {
    "duration": 4,
    "start_time": "2024-02-23T12:01:58.717Z"
   },
   {
    "duration": 10,
    "start_time": "2024-02-23T12:01:58.722Z"
   },
   {
    "duration": 17,
    "start_time": "2024-02-23T12:01:58.733Z"
   },
   {
    "duration": 10,
    "start_time": "2024-02-23T12:01:58.752Z"
   },
   {
    "duration": 19,
    "start_time": "2024-02-23T12:01:58.763Z"
   },
   {
    "duration": 109,
    "start_time": "2024-02-23T12:01:58.783Z"
   },
   {
    "duration": 0,
    "start_time": "2024-02-23T12:01:58.893Z"
   },
   {
    "duration": 0,
    "start_time": "2024-02-23T12:01:58.894Z"
   },
   {
    "duration": 8,
    "start_time": "2024-02-23T12:06:27.214Z"
   },
   {
    "duration": 95,
    "start_time": "2024-02-23T12:06:43.056Z"
   },
   {
    "duration": 176,
    "start_time": "2024-02-23T12:07:03.727Z"
   },
   {
    "duration": 115,
    "start_time": "2024-02-23T12:07:25.395Z"
   },
   {
    "duration": 102,
    "start_time": "2024-02-23T12:07:34.146Z"
   },
   {
    "duration": 141,
    "start_time": "2024-02-23T12:07:42.755Z"
   },
   {
    "duration": 143,
    "start_time": "2024-02-23T12:07:48.090Z"
   },
   {
    "duration": 236,
    "start_time": "2024-02-23T12:09:09.765Z"
   },
   {
    "duration": 210,
    "start_time": "2024-02-23T12:09:17.898Z"
   },
   {
    "duration": 279,
    "start_time": "2024-02-23T12:09:33.158Z"
   },
   {
    "duration": 205,
    "start_time": "2024-02-23T12:09:45.992Z"
   },
   {
    "duration": 240,
    "start_time": "2024-02-23T12:10:50.621Z"
   },
   {
    "duration": 222,
    "start_time": "2024-02-23T12:11:08.340Z"
   },
   {
    "duration": 252,
    "start_time": "2024-02-23T12:11:23.916Z"
   },
   {
    "duration": 351,
    "start_time": "2024-02-23T12:11:31.117Z"
   },
   {
    "duration": 261,
    "start_time": "2024-02-23T12:11:38.962Z"
   },
   {
    "duration": 7,
    "start_time": "2024-02-23T12:13:00.444Z"
   },
   {
    "duration": 6,
    "start_time": "2024-02-23T12:13:08.059Z"
   },
   {
    "duration": 9,
    "start_time": "2024-02-23T12:13:31.951Z"
   },
   {
    "duration": 6,
    "start_time": "2024-02-23T12:13:52.834Z"
   },
   {
    "duration": 5,
    "start_time": "2024-02-23T12:14:01.032Z"
   },
   {
    "duration": 6,
    "start_time": "2024-02-23T12:14:07.888Z"
   },
   {
    "duration": 5,
    "start_time": "2024-02-23T12:15:12.251Z"
   },
   {
    "duration": 7,
    "start_time": "2024-02-23T12:15:32.659Z"
   },
   {
    "duration": 9,
    "start_time": "2024-02-23T12:15:40.382Z"
   },
   {
    "duration": 5,
    "start_time": "2024-02-23T12:15:51.674Z"
   },
   {
    "duration": 314,
    "start_time": "2024-02-23T12:42:14.912Z"
   },
   {
    "duration": 3,
    "start_time": "2024-02-23T12:54:42.554Z"
   },
   {
    "duration": 498,
    "start_time": "2024-02-23T12:54:58.900Z"
   },
   {
    "duration": 3,
    "start_time": "2024-02-23T12:55:35.400Z"
   },
   {
    "duration": 557,
    "start_time": "2024-02-23T12:55:36.579Z"
   },
   {
    "duration": 4,
    "start_time": "2024-02-23T12:55:57.228Z"
   },
   {
    "duration": 1011,
    "start_time": "2024-02-23T12:56:37.844Z"
   },
   {
    "duration": 3,
    "start_time": "2024-02-23T12:56:38.857Z"
   },
   {
    "duration": 9,
    "start_time": "2024-02-23T12:56:38.863Z"
   },
   {
    "duration": 75,
    "start_time": "2024-02-23T12:56:38.873Z"
   },
   {
    "duration": 3,
    "start_time": "2024-02-23T12:56:38.949Z"
   },
   {
    "duration": 7,
    "start_time": "2024-02-23T12:56:38.953Z"
   },
   {
    "duration": 12,
    "start_time": "2024-02-23T12:56:38.961Z"
   },
   {
    "duration": 3,
    "start_time": "2024-02-23T12:56:38.974Z"
   },
   {
    "duration": 4,
    "start_time": "2024-02-23T12:56:38.979Z"
   },
   {
    "duration": 12,
    "start_time": "2024-02-23T12:56:38.984Z"
   },
   {
    "duration": 10,
    "start_time": "2024-02-23T12:56:38.996Z"
   },
   {
    "duration": 5,
    "start_time": "2024-02-23T12:56:39.007Z"
   },
   {
    "duration": 6,
    "start_time": "2024-02-23T12:56:39.013Z"
   },
   {
    "duration": 19,
    "start_time": "2024-02-23T12:56:39.020Z"
   },
   {
    "duration": 5,
    "start_time": "2024-02-23T12:56:39.041Z"
   },
   {
    "duration": 14,
    "start_time": "2024-02-23T12:56:39.048Z"
   },
   {
    "duration": 4,
    "start_time": "2024-02-23T12:56:39.063Z"
   },
   {
    "duration": 34,
    "start_time": "2024-02-23T12:56:39.068Z"
   },
   {
    "duration": 4,
    "start_time": "2024-02-23T12:56:39.103Z"
   },
   {
    "duration": 6,
    "start_time": "2024-02-23T12:56:39.108Z"
   },
   {
    "duration": 6,
    "start_time": "2024-02-23T12:56:39.116Z"
   },
   {
    "duration": 3,
    "start_time": "2024-02-23T12:56:39.123Z"
   },
   {
    "duration": 29,
    "start_time": "2024-02-23T12:56:39.127Z"
   },
   {
    "duration": 226,
    "start_time": "2024-02-23T12:56:39.157Z"
   },
   {
    "duration": 157,
    "start_time": "2024-02-23T12:56:39.384Z"
   },
   {
    "duration": 10,
    "start_time": "2024-02-23T12:56:39.543Z"
   },
   {
    "duration": 3,
    "start_time": "2024-02-23T12:56:39.556Z"
   },
   {
    "duration": 6,
    "start_time": "2024-02-23T12:56:39.560Z"
   },
   {
    "duration": 9,
    "start_time": "2024-02-23T12:56:39.567Z"
   },
   {
    "duration": 29,
    "start_time": "2024-02-23T12:56:39.578Z"
   },
   {
    "duration": 2,
    "start_time": "2024-02-23T12:56:39.608Z"
   },
   {
    "duration": 7,
    "start_time": "2024-02-23T12:56:39.611Z"
   },
   {
    "duration": 4,
    "start_time": "2024-02-23T12:56:39.619Z"
   },
   {
    "duration": 4,
    "start_time": "2024-02-23T12:56:39.624Z"
   },
   {
    "duration": 84,
    "start_time": "2024-02-23T12:56:39.629Z"
   },
   {
    "duration": 90,
    "start_time": "2024-02-23T12:56:39.714Z"
   },
   {
    "duration": 99,
    "start_time": "2024-02-23T12:56:39.805Z"
   },
   {
    "duration": 104,
    "start_time": "2024-02-23T12:56:39.905Z"
   },
   {
    "duration": 335,
    "start_time": "2024-02-23T12:56:40.010Z"
   },
   {
    "duration": 284,
    "start_time": "2024-02-23T12:56:40.347Z"
   },
   {
    "duration": 134,
    "start_time": "2024-02-23T12:56:40.633Z"
   },
   {
    "duration": 146,
    "start_time": "2024-02-23T12:56:40.768Z"
   },
   {
    "duration": 96,
    "start_time": "2024-02-23T12:56:40.916Z"
   },
   {
    "duration": 15,
    "start_time": "2024-02-23T12:56:41.013Z"
   },
   {
    "duration": 4,
    "start_time": "2024-02-23T12:56:41.029Z"
   },
   {
    "duration": 13,
    "start_time": "2024-02-23T12:56:41.034Z"
   },
   {
    "duration": 29,
    "start_time": "2024-02-23T12:56:41.048Z"
   },
   {
    "duration": 132,
    "start_time": "2024-02-23T12:56:41.078Z"
   },
   {
    "duration": 4,
    "start_time": "2024-02-23T12:56:41.211Z"
   },
   {
    "duration": 6,
    "start_time": "2024-02-23T12:56:41.216Z"
   },
   {
    "duration": 18,
    "start_time": "2024-02-23T12:56:41.224Z"
   },
   {
    "duration": 3,
    "start_time": "2024-02-23T12:56:41.243Z"
   },
   {
    "duration": 5,
    "start_time": "2024-02-23T12:56:41.247Z"
   },
   {
    "duration": 20,
    "start_time": "2024-02-23T12:56:41.253Z"
   },
   {
    "duration": 6,
    "start_time": "2024-02-23T12:56:41.274Z"
   },
   {
    "duration": 5,
    "start_time": "2024-02-23T12:56:41.281Z"
   },
   {
    "duration": 6,
    "start_time": "2024-02-23T12:56:41.287Z"
   },
   {
    "duration": 10,
    "start_time": "2024-02-23T12:56:41.294Z"
   },
   {
    "duration": 319,
    "start_time": "2024-02-23T12:56:41.305Z"
   },
   {
    "duration": 3,
    "start_time": "2024-02-23T12:56:41.625Z"
   },
   {
    "duration": 4,
    "start_time": "2024-02-23T12:56:41.629Z"
   },
   {
    "duration": 102,
    "start_time": "2024-02-23T12:56:41.634Z"
   },
   {
    "duration": 0,
    "start_time": "2024-02-23T12:56:41.737Z"
   },
   {
    "duration": 3,
    "start_time": "2024-02-23T12:57:20.871Z"
   },
   {
    "duration": 6061,
    "start_time": "2024-02-23T12:57:23.499Z"
   },
   {
    "duration": 14,
    "start_time": "2024-02-23T12:58:00.771Z"
   },
   {
    "duration": 399,
    "start_time": "2024-02-23T12:59:16.003Z"
   },
   {
    "duration": 290,
    "start_time": "2024-02-23T13:00:14.329Z"
   },
   {
    "duration": 135,
    "start_time": "2024-02-23T13:02:51.516Z"
   },
   {
    "duration": 433,
    "start_time": "2024-02-23T13:04:11.657Z"
   },
   {
    "duration": 275,
    "start_time": "2024-02-23T13:05:07.224Z"
   },
   {
    "duration": 268,
    "start_time": "2024-02-23T13:05:23.465Z"
   },
   {
    "duration": 268,
    "start_time": "2024-02-23T13:05:28.643Z"
   },
   {
    "duration": 284,
    "start_time": "2024-02-23T13:05:37.096Z"
   },
   {
    "duration": 271,
    "start_time": "2024-02-23T13:05:44.218Z"
   },
   {
    "duration": 345,
    "start_time": "2024-02-23T13:07:36.819Z"
   },
   {
    "duration": 276,
    "start_time": "2024-02-23T13:07:50.650Z"
   },
   {
    "duration": 402,
    "start_time": "2024-02-23T13:08:14.597Z"
   },
   {
    "duration": 73,
    "start_time": "2024-02-23T13:09:58.155Z"
   },
   {
    "duration": 73,
    "start_time": "2024-02-23T13:10:15.911Z"
   },
   {
    "duration": 8,
    "start_time": "2024-02-23T13:11:05.124Z"
   },
   {
    "duration": 7,
    "start_time": "2024-02-23T13:11:13.588Z"
   },
   {
    "duration": 6,
    "start_time": "2024-02-23T13:11:46.423Z"
   },
   {
    "duration": 2,
    "start_time": "2024-02-23T13:12:02.657Z"
   },
   {
    "duration": 8,
    "start_time": "2024-02-23T13:12:10.066Z"
   },
   {
    "duration": 84,
    "start_time": "2024-02-23T13:12:16.808Z"
   },
   {
    "duration": 5,
    "start_time": "2024-02-23T13:12:23.814Z"
   },
   {
    "duration": 454,
    "start_time": "2024-02-23T13:12:50.292Z"
   },
   {
    "duration": 373,
    "start_time": "2024-02-23T13:13:55.856Z"
   },
   {
    "duration": 16,
    "start_time": "2024-02-23T13:26:54.046Z"
   },
   {
    "duration": 7,
    "start_time": "2024-02-23T13:27:45.865Z"
   },
   {
    "duration": 5,
    "start_time": "2024-02-23T13:27:54.085Z"
   },
   {
    "duration": 296,
    "start_time": "2024-02-23T13:28:30.041Z"
   },
   {
    "duration": 6,
    "start_time": "2024-02-23T13:28:41.838Z"
   },
   {
    "duration": 5,
    "start_time": "2024-02-23T13:32:27.318Z"
   },
   {
    "duration": 387,
    "start_time": "2024-02-23T13:35:04.006Z"
   },
   {
    "duration": 1162,
    "start_time": "2024-02-23T13:35:53.814Z"
   },
   {
    "duration": 387,
    "start_time": "2024-02-23T13:36:01.350Z"
   },
   {
    "duration": 77,
    "start_time": "2024-02-23T13:44:18.085Z"
   },
   {
    "duration": 179,
    "start_time": "2024-02-23T13:45:19.672Z"
   },
   {
    "duration": 84,
    "start_time": "2024-02-23T13:45:33.041Z"
   },
   {
    "duration": 81,
    "start_time": "2024-02-23T13:45:52.964Z"
   },
   {
    "duration": 81,
    "start_time": "2024-02-23T13:46:37.366Z"
   },
   {
    "duration": 83,
    "start_time": "2024-02-23T13:46:50.414Z"
   },
   {
    "duration": 80,
    "start_time": "2024-02-23T13:46:58.986Z"
   },
   {
    "duration": 7,
    "start_time": "2024-02-23T13:47:48.876Z"
   },
   {
    "duration": 11,
    "start_time": "2024-02-23T13:47:52.478Z"
   },
   {
    "duration": 7,
    "start_time": "2024-02-23T13:48:59.555Z"
   },
   {
    "duration": 184,
    "start_time": "2024-02-23T13:49:04.763Z"
   },
   {
    "duration": 8,
    "start_time": "2024-02-23T13:49:31.255Z"
   },
   {
    "duration": 12,
    "start_time": "2024-02-23T13:50:30.945Z"
   },
   {
    "duration": 186,
    "start_time": "2024-02-23T13:51:05.388Z"
   },
   {
    "duration": 221,
    "start_time": "2024-02-23T13:51:27.457Z"
   },
   {
    "duration": 215,
    "start_time": "2024-02-23T13:51:41.718Z"
   },
   {
    "duration": 212,
    "start_time": "2024-02-23T13:52:15.218Z"
   },
   {
    "duration": 210,
    "start_time": "2024-02-23T13:52:47.507Z"
   },
   {
    "duration": 216,
    "start_time": "2024-02-23T13:52:53.328Z"
   },
   {
    "duration": 270,
    "start_time": "2024-02-23T14:05:20.535Z"
   },
   {
    "duration": 345,
    "start_time": "2024-02-23T14:05:36.012Z"
   },
   {
    "duration": 331,
    "start_time": "2024-02-23T14:06:23.811Z"
   },
   {
    "duration": 66,
    "start_time": "2024-02-23T14:07:56.789Z"
   },
   {
    "duration": 310,
    "start_time": "2024-02-23T14:08:00.455Z"
   },
   {
    "duration": 295,
    "start_time": "2024-02-23T14:08:29.469Z"
   },
   {
    "duration": 242,
    "start_time": "2024-02-23T14:10:00.346Z"
   },
   {
    "duration": 290,
    "start_time": "2024-02-23T14:11:06.769Z"
   },
   {
    "duration": 214,
    "start_time": "2024-02-23T14:11:19.047Z"
   },
   {
    "duration": 307,
    "start_time": "2024-02-23T14:11:29.256Z"
   },
   {
    "duration": 206,
    "start_time": "2024-02-23T14:12:32.757Z"
   },
   {
    "duration": 300,
    "start_time": "2024-02-23T14:12:49.555Z"
   },
   {
    "duration": 349,
    "start_time": "2024-02-23T14:13:18.489Z"
   },
   {
    "duration": 321,
    "start_time": "2024-02-23T14:13:48.933Z"
   },
   {
    "duration": 353,
    "start_time": "2024-02-23T14:14:30.387Z"
   },
   {
    "duration": 406,
    "start_time": "2024-02-23T14:14:48.226Z"
   },
   {
    "duration": 343,
    "start_time": "2024-02-23T14:14:55.200Z"
   },
   {
    "duration": 368,
    "start_time": "2024-02-23T14:15:00.080Z"
   },
   {
    "duration": 341,
    "start_time": "2024-02-23T14:15:04.113Z"
   },
   {
    "duration": 306,
    "start_time": "2024-02-23T14:15:23.460Z"
   },
   {
    "duration": 220,
    "start_time": "2024-02-23T14:20:01.137Z"
   },
   {
    "duration": 352,
    "start_time": "2024-02-23T14:21:00.691Z"
   },
   {
    "duration": 315,
    "start_time": "2024-02-23T14:21:09.443Z"
   },
   {
    "duration": 328,
    "start_time": "2024-02-23T14:22:51.034Z"
   },
   {
    "duration": 335,
    "start_time": "2024-02-23T14:22:58.069Z"
   },
   {
    "duration": 340,
    "start_time": "2024-02-23T14:23:11.523Z"
   },
   {
    "duration": 309,
    "start_time": "2024-02-23T14:24:52.140Z"
   },
   {
    "duration": 4,
    "start_time": "2024-02-23T14:26:44.777Z"
   },
   {
    "duration": 624,
    "start_time": "2024-02-23T14:27:04.848Z"
   },
   {
    "duration": 3,
    "start_time": "2024-02-23T14:27:24.396Z"
   },
   {
    "duration": 664,
    "start_time": "2024-02-23T14:27:24.997Z"
   },
   {
    "duration": 1887,
    "start_time": "2024-02-23T14:28:27.976Z"
   },
   {
    "duration": 10,
    "start_time": "2024-02-23T14:29:29.796Z"
   },
   {
    "duration": 4,
    "start_time": "2024-02-23T14:33:21.709Z"
   },
   {
    "duration": 9,
    "start_time": "2024-02-23T14:33:22.262Z"
   },
   {
    "duration": 1869,
    "start_time": "2024-02-23T14:33:23.189Z"
   },
   {
    "duration": 4,
    "start_time": "2024-02-23T14:41:40.819Z"
   },
   {
    "duration": 9,
    "start_time": "2024-02-23T14:41:46.804Z"
   },
   {
    "duration": 8,
    "start_time": "2024-02-23T14:41:56.762Z"
   },
   {
    "duration": 1061,
    "start_time": "2024-02-23T14:42:01.296Z"
   },
   {
    "duration": 3,
    "start_time": "2024-02-23T14:42:02.358Z"
   },
   {
    "duration": 69,
    "start_time": "2024-02-23T14:42:02.362Z"
   },
   {
    "duration": 117,
    "start_time": "2024-02-23T14:42:02.433Z"
   },
   {
    "duration": 4,
    "start_time": "2024-02-23T14:42:02.551Z"
   },
   {
    "duration": 59,
    "start_time": "2024-02-23T14:42:02.557Z"
   },
   {
    "duration": 23,
    "start_time": "2024-02-23T14:42:02.618Z"
   },
   {
    "duration": 6,
    "start_time": "2024-02-23T14:42:02.643Z"
   },
   {
    "duration": 32,
    "start_time": "2024-02-23T14:42:02.651Z"
   },
   {
    "duration": 50,
    "start_time": "2024-02-23T14:42:02.685Z"
   },
   {
    "duration": 7,
    "start_time": "2024-02-23T14:42:02.736Z"
   },
   {
    "duration": 11,
    "start_time": "2024-02-23T14:42:02.744Z"
   },
   {
    "duration": 13,
    "start_time": "2024-02-23T14:42:02.756Z"
   },
   {
    "duration": 28,
    "start_time": "2024-02-23T14:42:02.771Z"
   },
   {
    "duration": 30,
    "start_time": "2024-02-23T14:42:02.801Z"
   },
   {
    "duration": 17,
    "start_time": "2024-02-23T14:42:02.832Z"
   },
   {
    "duration": 12,
    "start_time": "2024-02-23T14:42:02.850Z"
   },
   {
    "duration": 25,
    "start_time": "2024-02-23T14:42:02.863Z"
   },
   {
    "duration": 49,
    "start_time": "2024-02-23T14:42:02.889Z"
   },
   {
    "duration": 55,
    "start_time": "2024-02-23T14:42:02.940Z"
   },
   {
    "duration": 46,
    "start_time": "2024-02-23T14:42:02.996Z"
   },
   {
    "duration": 14,
    "start_time": "2024-02-23T14:42:03.043Z"
   },
   {
    "duration": 43,
    "start_time": "2024-02-23T14:42:03.058Z"
   },
   {
    "duration": 219,
    "start_time": "2024-02-23T14:42:03.102Z"
   },
   {
    "duration": 162,
    "start_time": "2024-02-23T14:42:03.323Z"
   },
   {
    "duration": 15,
    "start_time": "2024-02-23T14:42:03.486Z"
   },
   {
    "duration": 4,
    "start_time": "2024-02-23T14:42:03.503Z"
   },
   {
    "duration": 8,
    "start_time": "2024-02-23T14:42:03.511Z"
   },
   {
    "duration": 28,
    "start_time": "2024-02-23T14:42:03.521Z"
   },
   {
    "duration": 28,
    "start_time": "2024-02-23T14:42:03.550Z"
   },
   {
    "duration": 18,
    "start_time": "2024-02-23T14:42:03.580Z"
   },
   {
    "duration": 16,
    "start_time": "2024-02-23T14:42:03.600Z"
   },
   {
    "duration": 9,
    "start_time": "2024-02-23T14:42:03.618Z"
   },
   {
    "duration": 7,
    "start_time": "2024-02-23T14:42:03.628Z"
   },
   {
    "duration": 97,
    "start_time": "2024-02-23T14:42:03.636Z"
   },
   {
    "duration": 92,
    "start_time": "2024-02-23T14:42:03.735Z"
   },
   {
    "duration": 101,
    "start_time": "2024-02-23T14:42:03.828Z"
   },
   {
    "duration": 107,
    "start_time": "2024-02-23T14:42:03.930Z"
   },
   {
    "duration": 332,
    "start_time": "2024-02-23T14:42:04.039Z"
   },
   {
    "duration": 271,
    "start_time": "2024-02-23T14:42:04.372Z"
   },
   {
    "duration": 144,
    "start_time": "2024-02-23T14:42:04.644Z"
   },
   {
    "duration": 147,
    "start_time": "2024-02-23T14:42:04.789Z"
   },
   {
    "duration": 95,
    "start_time": "2024-02-23T14:42:04.938Z"
   },
   {
    "duration": 15,
    "start_time": "2024-02-23T14:42:05.034Z"
   },
   {
    "duration": 3,
    "start_time": "2024-02-23T14:42:05.051Z"
   },
   {
    "duration": 11,
    "start_time": "2024-02-23T14:42:05.055Z"
   },
   {
    "duration": 14,
    "start_time": "2024-02-23T14:42:05.067Z"
   },
   {
    "duration": 127,
    "start_time": "2024-02-23T14:42:05.082Z"
   },
   {
    "duration": 4,
    "start_time": "2024-02-23T14:42:05.210Z"
   },
   {
    "duration": 23,
    "start_time": "2024-02-23T14:42:05.215Z"
   },
   {
    "duration": 20,
    "start_time": "2024-02-23T14:42:05.239Z"
   },
   {
    "duration": 3,
    "start_time": "2024-02-23T14:42:05.261Z"
   },
   {
    "duration": 8,
    "start_time": "2024-02-23T14:42:05.265Z"
   },
   {
    "duration": 21,
    "start_time": "2024-02-23T14:42:05.274Z"
   },
   {
    "duration": 5,
    "start_time": "2024-02-23T14:42:05.296Z"
   },
   {
    "duration": 6,
    "start_time": "2024-02-23T14:42:05.302Z"
   },
   {
    "duration": 13,
    "start_time": "2024-02-23T14:42:05.309Z"
   },
   {
    "duration": 7,
    "start_time": "2024-02-23T14:42:05.324Z"
   },
   {
    "duration": 314,
    "start_time": "2024-02-23T14:42:05.332Z"
   },
   {
    "duration": 355,
    "start_time": "2024-02-23T14:42:05.647Z"
   },
   {
    "duration": 4,
    "start_time": "2024-02-23T14:42:06.004Z"
   },
   {
    "duration": 399,
    "start_time": "2024-02-23T14:42:06.009Z"
   },
   {
    "duration": 5,
    "start_time": "2024-02-23T14:42:06.410Z"
   },
   {
    "duration": 12,
    "start_time": "2024-02-23T14:42:06.416Z"
   },
   {
    "duration": 392,
    "start_time": "2024-02-23T14:42:06.429Z"
   },
   {
    "duration": 4,
    "start_time": "2024-02-23T14:42:06.822Z"
   },
   {
    "duration": 1931,
    "start_time": "2024-02-23T14:42:06.827Z"
   },
   {
    "duration": 10,
    "start_time": "2024-02-23T14:42:08.759Z"
   },
   {
    "duration": 15,
    "start_time": "2024-02-23T14:42:08.770Z"
   },
   {
    "duration": 15,
    "start_time": "2024-02-23T14:42:08.786Z"
   },
   {
    "duration": 14,
    "start_time": "2024-02-23T14:42:08.802Z"
   },
   {
    "duration": 92,
    "start_time": "2024-02-23T14:42:08.817Z"
   },
   {
    "duration": 0,
    "start_time": "2024-02-23T14:42:08.911Z"
   },
   {
    "duration": 2201,
    "start_time": "2024-02-23T15:12:19.311Z"
   },
   {
    "duration": 16,
    "start_time": "2024-02-23T15:13:35.829Z"
   },
   {
    "duration": 17,
    "start_time": "2024-02-23T15:13:43.787Z"
   },
   {
    "duration": 7,
    "start_time": "2024-02-23T15:24:17.636Z"
   },
   {
    "duration": 3253,
    "start_time": "2024-02-23T15:25:15.107Z"
   },
   {
    "duration": 2461,
    "start_time": "2024-02-23T15:25:31.360Z"
   },
   {
    "duration": 1073,
    "start_time": "2024-02-23T15:25:33.824Z"
   },
   {
    "duration": 3,
    "start_time": "2024-02-23T15:25:34.898Z"
   },
   {
    "duration": 6,
    "start_time": "2024-02-23T15:25:34.902Z"
   },
   {
    "duration": 83,
    "start_time": "2024-02-23T15:25:34.910Z"
   },
   {
    "duration": 3,
    "start_time": "2024-02-23T15:25:34.994Z"
   },
   {
    "duration": 8,
    "start_time": "2024-02-23T15:25:34.998Z"
   },
   {
    "duration": 23,
    "start_time": "2024-02-23T15:25:35.007Z"
   },
   {
    "duration": 4,
    "start_time": "2024-02-23T15:25:35.032Z"
   },
   {
    "duration": 31,
    "start_time": "2024-02-23T15:25:35.037Z"
   },
   {
    "duration": 44,
    "start_time": "2024-02-23T15:25:35.069Z"
   },
   {
    "duration": 7,
    "start_time": "2024-02-23T15:25:35.114Z"
   },
   {
    "duration": 11,
    "start_time": "2024-02-23T15:25:35.122Z"
   },
   {
    "duration": 9,
    "start_time": "2024-02-23T15:25:35.135Z"
   },
   {
    "duration": 40,
    "start_time": "2024-02-23T15:25:35.145Z"
   },
   {
    "duration": 18,
    "start_time": "2024-02-23T15:25:35.186Z"
   },
   {
    "duration": 21,
    "start_time": "2024-02-23T15:25:35.205Z"
   },
   {
    "duration": 5,
    "start_time": "2024-02-23T15:25:35.228Z"
   },
   {
    "duration": 50,
    "start_time": "2024-02-23T15:25:35.234Z"
   },
   {
    "duration": 11,
    "start_time": "2024-02-23T15:25:35.285Z"
   },
   {
    "duration": 13,
    "start_time": "2024-02-23T15:25:35.298Z"
   },
   {
    "duration": 27,
    "start_time": "2024-02-23T15:25:35.312Z"
   },
   {
    "duration": 8,
    "start_time": "2024-02-23T15:25:35.340Z"
   },
   {
    "duration": 33,
    "start_time": "2024-02-23T15:25:35.349Z"
   },
   {
    "duration": 199,
    "start_time": "2024-02-23T15:25:35.384Z"
   },
   {
    "duration": 171,
    "start_time": "2024-02-23T15:25:35.585Z"
   },
   {
    "duration": 11,
    "start_time": "2024-02-23T15:25:35.757Z"
   },
   {
    "duration": 3,
    "start_time": "2024-02-23T15:25:35.769Z"
   },
   {
    "duration": 14,
    "start_time": "2024-02-23T15:25:35.773Z"
   },
   {
    "duration": 18,
    "start_time": "2024-02-23T15:25:35.788Z"
   },
   {
    "duration": 17,
    "start_time": "2024-02-23T15:25:35.808Z"
   },
   {
    "duration": 8,
    "start_time": "2024-02-23T15:25:35.826Z"
   },
   {
    "duration": 12,
    "start_time": "2024-02-23T15:25:35.835Z"
   },
   {
    "duration": 7,
    "start_time": "2024-02-23T15:25:35.848Z"
   },
   {
    "duration": 9,
    "start_time": "2024-02-23T15:25:35.856Z"
   },
   {
    "duration": 85,
    "start_time": "2024-02-23T15:25:35.866Z"
   },
   {
    "duration": 139,
    "start_time": "2024-02-23T15:25:36.001Z"
   },
   {
    "duration": 202,
    "start_time": "2024-02-23T15:25:36.141Z"
   },
   {
    "duration": 266,
    "start_time": "2024-02-23T15:25:36.344Z"
   },
   {
    "duration": 605,
    "start_time": "2024-02-23T15:25:36.611Z"
   },
   {
    "duration": 280,
    "start_time": "2024-02-23T15:25:37.219Z"
   },
   {
    "duration": 143,
    "start_time": "2024-02-23T15:25:37.500Z"
   },
   {
    "duration": 144,
    "start_time": "2024-02-23T15:25:37.644Z"
   },
   {
    "duration": 94,
    "start_time": "2024-02-23T15:25:37.789Z"
   },
   {
    "duration": 25,
    "start_time": "2024-02-23T15:25:37.885Z"
   },
   {
    "duration": 3,
    "start_time": "2024-02-23T15:25:37.911Z"
   },
   {
    "duration": 12,
    "start_time": "2024-02-23T15:25:37.915Z"
   },
   {
    "duration": 24,
    "start_time": "2024-02-23T15:25:37.928Z"
   },
   {
    "duration": 117,
    "start_time": "2024-02-23T15:25:37.953Z"
   },
   {
    "duration": 4,
    "start_time": "2024-02-23T15:25:38.071Z"
   },
   {
    "duration": 9,
    "start_time": "2024-02-23T15:25:38.076Z"
   },
   {
    "duration": 17,
    "start_time": "2024-02-23T15:25:38.087Z"
   },
   {
    "duration": 5,
    "start_time": "2024-02-23T15:25:38.105Z"
   },
   {
    "duration": 9,
    "start_time": "2024-02-23T15:25:38.111Z"
   },
   {
    "duration": 12,
    "start_time": "2024-02-23T15:25:38.121Z"
   },
   {
    "duration": 7,
    "start_time": "2024-02-23T15:25:38.134Z"
   },
   {
    "duration": 22,
    "start_time": "2024-02-23T15:25:38.142Z"
   },
   {
    "duration": 13,
    "start_time": "2024-02-23T15:25:38.166Z"
   },
   {
    "duration": 14,
    "start_time": "2024-02-23T15:25:38.180Z"
   },
   {
    "duration": 393,
    "start_time": "2024-02-23T15:25:38.195Z"
   },
   {
    "duration": 281,
    "start_time": "2024-02-23T15:25:38.589Z"
   },
   {
    "duration": 4,
    "start_time": "2024-02-23T15:25:38.871Z"
   },
   {
    "duration": 390,
    "start_time": "2024-02-23T15:25:38.877Z"
   },
   {
    "duration": 6,
    "start_time": "2024-02-23T15:25:39.268Z"
   },
   {
    "duration": 7,
    "start_time": "2024-02-23T15:25:39.275Z"
   },
   {
    "duration": 400,
    "start_time": "2024-02-23T15:25:39.283Z"
   },
   {
    "duration": 4,
    "start_time": "2024-02-23T15:25:39.685Z"
   },
   {
    "duration": 2165,
    "start_time": "2024-02-23T15:25:39.690Z"
   },
   {
    "duration": 10,
    "start_time": "2024-02-23T15:25:41.856Z"
   },
   {
    "duration": 8,
    "start_time": "2024-02-23T15:25:41.868Z"
   },
   {
    "duration": 24,
    "start_time": "2024-02-23T15:25:41.878Z"
   },
   {
    "duration": 10,
    "start_time": "2024-02-23T15:26:32.228Z"
   },
   {
    "duration": 17567,
    "start_time": "2024-02-23T15:27:13.145Z"
   },
   {
    "duration": 17,
    "start_time": "2024-02-23T15:28:28.641Z"
   },
   {
    "duration": 357,
    "start_time": "2024-02-23T15:28:55.972Z"
   },
   {
    "duration": 362,
    "start_time": "2024-02-23T15:29:17.076Z"
   },
   {
    "duration": 112,
    "start_time": "2024-02-23T15:30:00.829Z"
   },
   {
    "duration": 67,
    "start_time": "2024-02-23T15:33:55.433Z"
   },
   {
    "duration": 82,
    "start_time": "2024-02-23T15:35:17.797Z"
   },
   {
    "duration": 280,
    "start_time": "2024-02-23T15:35:23.602Z"
   },
   {
    "duration": 312,
    "start_time": "2024-02-23T15:35:30.001Z"
   },
   {
    "duration": 592,
    "start_time": "2024-02-23T15:36:26.349Z"
   },
   {
    "duration": 656,
    "start_time": "2024-02-23T15:36:40.176Z"
   },
   {
    "duration": 313,
    "start_time": "2024-02-23T15:37:32.299Z"
   },
   {
    "duration": 1124,
    "start_time": "2024-02-23T15:38:14.078Z"
   },
   {
    "duration": 75,
    "start_time": "2024-02-23T15:39:51.988Z"
   },
   {
    "duration": 1098,
    "start_time": "2024-02-23T16:30:13.735Z"
   },
   {
    "duration": 88,
    "start_time": "2024-02-23T16:31:27.085Z"
   },
   {
    "duration": 8,
    "start_time": "2024-02-23T16:31:36.249Z"
   },
   {
    "duration": 7,
    "start_time": "2024-02-23T16:33:28.115Z"
   },
   {
    "duration": 23,
    "start_time": "2024-02-23T17:01:32.731Z"
   },
   {
    "duration": 5,
    "start_time": "2024-02-23T17:01:34.317Z"
   },
   {
    "duration": 4,
    "start_time": "2024-02-23T17:01:35.432Z"
   },
   {
    "duration": 8,
    "start_time": "2024-02-23T17:01:35.768Z"
   },
   {
    "duration": 25,
    "start_time": "2024-02-23T17:02:44.496Z"
   },
   {
    "duration": 4,
    "start_time": "2024-02-23T17:02:45.652Z"
   },
   {
    "duration": 4,
    "start_time": "2024-02-23T17:02:45.980Z"
   },
   {
    "duration": 8,
    "start_time": "2024-02-23T17:02:46.588Z"
   },
   {
    "duration": 8,
    "start_time": "2024-02-23T17:06:31.879Z"
   },
   {
    "duration": 9,
    "start_time": "2024-02-23T17:07:19.372Z"
   },
   {
    "duration": 11,
    "start_time": "2024-02-23T17:07:24.924Z"
   },
   {
    "duration": 23,
    "start_time": "2024-02-23T17:09:55.973Z"
   },
   {
    "duration": 4,
    "start_time": "2024-02-23T17:09:56.179Z"
   },
   {
    "duration": 3,
    "start_time": "2024-02-23T17:09:56.441Z"
   },
   {
    "duration": 8,
    "start_time": "2024-02-23T17:09:56.837Z"
   },
   {
    "duration": 30,
    "start_time": "2024-02-23T17:12:51.560Z"
   },
   {
    "duration": 32,
    "start_time": "2024-02-23T17:13:36.240Z"
   },
   {
    "duration": 27,
    "start_time": "2024-02-23T17:14:23.903Z"
   },
   {
    "duration": 5,
    "start_time": "2024-02-23T17:14:45.029Z"
   },
   {
    "duration": 3,
    "start_time": "2024-02-23T17:14:57.452Z"
   },
   {
    "duration": 8,
    "start_time": "2024-02-23T17:15:00.386Z"
   },
   {
    "duration": 13,
    "start_time": "2024-02-23T17:17:19.667Z"
   },
   {
    "duration": 19,
    "start_time": "2024-02-23T17:17:48.429Z"
   },
   {
    "duration": 9,
    "start_time": "2024-02-23T17:18:20.896Z"
   },
   {
    "duration": 11,
    "start_time": "2024-02-23T17:18:29.378Z"
   },
   {
    "duration": 10,
    "start_time": "2024-02-23T17:19:13.176Z"
   },
   {
    "duration": 16,
    "start_time": "2024-02-23T17:20:20.130Z"
   },
   {
    "duration": 14,
    "start_time": "2024-02-23T17:21:13.730Z"
   },
   {
    "duration": 10,
    "start_time": "2024-02-23T17:23:53.350Z"
   },
   {
    "duration": 9,
    "start_time": "2024-02-23T17:23:59.989Z"
   },
   {
    "duration": 15,
    "start_time": "2024-02-23T17:24:52.601Z"
   },
   {
    "duration": 15,
    "start_time": "2024-02-23T17:25:23.828Z"
   },
   {
    "duration": 14,
    "start_time": "2024-02-23T17:25:27.025Z"
   },
   {
    "duration": 13,
    "start_time": "2024-02-23T17:26:38.876Z"
   },
   {
    "duration": 13,
    "start_time": "2024-02-23T17:26:47.249Z"
   },
   {
    "duration": 13,
    "start_time": "2024-02-23T17:27:20.850Z"
   },
   {
    "duration": 22,
    "start_time": "2024-02-23T17:27:53.091Z"
   },
   {
    "duration": 15,
    "start_time": "2024-02-23T17:28:03.685Z"
   },
   {
    "duration": 5,
    "start_time": "2024-02-23T17:33:04.265Z"
   },
   {
    "duration": 5,
    "start_time": "2024-02-23T17:33:06.649Z"
   },
   {
    "duration": 5,
    "start_time": "2024-02-23T17:33:27.836Z"
   },
   {
    "duration": 108,
    "start_time": "2024-02-23T17:34:04.956Z"
   },
   {
    "duration": 1095,
    "start_time": "2024-02-23T19:10:41.924Z"
   },
   {
    "duration": 1092,
    "start_time": "2024-02-23T19:10:47.823Z"
   },
   {
    "duration": 469,
    "start_time": "2024-02-23T19:19:46.035Z"
   },
   {
    "duration": 14,
    "start_time": "2024-02-23T19:19:59.644Z"
   },
   {
    "duration": 393,
    "start_time": "2024-02-23T19:20:07.879Z"
   },
   {
    "duration": 8,
    "start_time": "2024-02-23T19:20:40.517Z"
   },
   {
    "duration": 3,
    "start_time": "2024-02-23T19:21:10.150Z"
   },
   {
    "duration": 108,
    "start_time": "2024-02-23T19:45:45.688Z"
   },
   {
    "duration": 12,
    "start_time": "2024-02-23T19:55:55.677Z"
   },
   {
    "duration": 14,
    "start_time": "2024-02-23T19:57:43.653Z"
   },
   {
    "duration": 13,
    "start_time": "2024-02-23T19:57:52.457Z"
   },
   {
    "duration": 50,
    "start_time": "2024-02-24T09:17:41.813Z"
   },
   {
    "duration": 3682,
    "start_time": "2024-02-24T09:17:47.324Z"
   },
   {
    "duration": 1661,
    "start_time": "2024-02-24T09:17:51.008Z"
   },
   {
    "duration": 3,
    "start_time": "2024-02-24T09:17:52.670Z"
   },
   {
    "duration": 10,
    "start_time": "2024-02-24T09:17:52.675Z"
   },
   {
    "duration": 91,
    "start_time": "2024-02-24T09:17:52.686Z"
   },
   {
    "duration": 3,
    "start_time": "2024-02-24T09:17:52.779Z"
   },
   {
    "duration": 6,
    "start_time": "2024-02-24T09:17:52.784Z"
   },
   {
    "duration": 16,
    "start_time": "2024-02-24T09:17:52.792Z"
   },
   {
    "duration": 5,
    "start_time": "2024-02-24T09:17:52.809Z"
   },
   {
    "duration": 20,
    "start_time": "2024-02-24T09:17:52.816Z"
   },
   {
    "duration": 22,
    "start_time": "2024-02-24T09:17:52.838Z"
   },
   {
    "duration": 12,
    "start_time": "2024-02-24T09:17:52.862Z"
   },
   {
    "duration": 10,
    "start_time": "2024-02-24T09:17:52.876Z"
   },
   {
    "duration": 4,
    "start_time": "2024-02-24T09:17:52.888Z"
   },
   {
    "duration": 21,
    "start_time": "2024-02-24T09:17:52.893Z"
   },
   {
    "duration": 8,
    "start_time": "2024-02-24T09:17:52.915Z"
   },
   {
    "duration": 23,
    "start_time": "2024-02-24T09:17:52.924Z"
   },
   {
    "duration": 27,
    "start_time": "2024-02-24T09:17:52.948Z"
   },
   {
    "duration": 18,
    "start_time": "2024-02-24T09:17:52.977Z"
   },
   {
    "duration": 5,
    "start_time": "2024-02-24T09:17:52.997Z"
   },
   {
    "duration": 7,
    "start_time": "2024-02-24T09:17:53.004Z"
   },
   {
    "duration": 7,
    "start_time": "2024-02-24T09:17:53.013Z"
   },
   {
    "duration": 4,
    "start_time": "2024-02-24T09:17:53.021Z"
   },
   {
    "duration": 58,
    "start_time": "2024-02-24T09:17:53.026Z"
   },
   {
    "duration": 270,
    "start_time": "2024-02-24T09:17:53.085Z"
   },
   {
    "duration": 253,
    "start_time": "2024-02-24T09:17:53.357Z"
   },
   {
    "duration": 25,
    "start_time": "2024-02-24T09:17:53.612Z"
   },
   {
    "duration": 5,
    "start_time": "2024-02-24T09:17:53.641Z"
   },
   {
    "duration": 26,
    "start_time": "2024-02-24T09:17:53.647Z"
   },
   {
    "duration": 10,
    "start_time": "2024-02-24T09:17:53.674Z"
   },
   {
    "duration": 37,
    "start_time": "2024-02-24T09:17:53.686Z"
   },
   {
    "duration": 3,
    "start_time": "2024-02-24T09:17:53.724Z"
   },
   {
    "duration": 17,
    "start_time": "2024-02-24T09:17:53.728Z"
   },
   {
    "duration": 36,
    "start_time": "2024-02-24T09:17:53.747Z"
   },
   {
    "duration": 6,
    "start_time": "2024-02-24T09:17:53.784Z"
   },
   {
    "duration": 112,
    "start_time": "2024-02-24T09:17:53.791Z"
   },
   {
    "duration": 116,
    "start_time": "2024-02-24T09:17:53.905Z"
   },
   {
    "duration": 139,
    "start_time": "2024-02-24T09:17:54.023Z"
   },
   {
    "duration": 141,
    "start_time": "2024-02-24T09:17:54.163Z"
   },
   {
    "duration": 458,
    "start_time": "2024-02-24T09:17:54.306Z"
   },
   {
    "duration": 382,
    "start_time": "2024-02-24T09:17:54.765Z"
   },
   {
    "duration": 187,
    "start_time": "2024-02-24T09:17:55.149Z"
   },
   {
    "duration": 192,
    "start_time": "2024-02-24T09:17:55.337Z"
   },
   {
    "duration": 121,
    "start_time": "2024-02-24T09:17:55.530Z"
   },
   {
    "duration": 27,
    "start_time": "2024-02-24T09:17:55.652Z"
   },
   {
    "duration": 5,
    "start_time": "2024-02-24T09:17:55.680Z"
   },
   {
    "duration": 19,
    "start_time": "2024-02-24T09:17:55.686Z"
   },
   {
    "duration": 16,
    "start_time": "2024-02-24T09:17:55.706Z"
   },
   {
    "duration": 186,
    "start_time": "2024-02-24T09:17:55.723Z"
   },
   {
    "duration": 5,
    "start_time": "2024-02-24T09:17:55.911Z"
   },
   {
    "duration": 9,
    "start_time": "2024-02-24T09:17:55.918Z"
   },
   {
    "duration": 37,
    "start_time": "2024-02-24T09:17:55.929Z"
   },
   {
    "duration": 4,
    "start_time": "2024-02-24T09:17:55.969Z"
   },
   {
    "duration": 16,
    "start_time": "2024-02-24T09:17:55.974Z"
   },
   {
    "duration": 14,
    "start_time": "2024-02-24T09:17:55.992Z"
   },
   {
    "duration": 18,
    "start_time": "2024-02-24T09:17:56.007Z"
   },
   {
    "duration": 21,
    "start_time": "2024-02-24T09:17:56.027Z"
   },
   {
    "duration": 9,
    "start_time": "2024-02-24T09:17:56.050Z"
   },
   {
    "duration": 7,
    "start_time": "2024-02-24T09:17:56.060Z"
   },
   {
    "duration": 514,
    "start_time": "2024-02-24T09:17:56.068Z"
   },
   {
    "duration": 366,
    "start_time": "2024-02-24T09:17:56.584Z"
   },
   {
    "duration": 5,
    "start_time": "2024-02-24T09:17:56.952Z"
   },
   {
    "duration": 525,
    "start_time": "2024-02-24T09:17:56.959Z"
   },
   {
    "duration": 7,
    "start_time": "2024-02-24T09:17:57.485Z"
   },
   {
    "duration": 18,
    "start_time": "2024-02-24T09:17:57.494Z"
   },
   {
    "duration": 515,
    "start_time": "2024-02-24T09:17:57.513Z"
   },
   {
    "duration": 5,
    "start_time": "2024-02-24T09:17:58.030Z"
   },
   {
    "duration": 2615,
    "start_time": "2024-02-24T09:17:58.036Z"
   },
   {
    "duration": 25,
    "start_time": "2024-02-24T09:18:00.652Z"
   },
   {
    "duration": 53,
    "start_time": "2024-02-24T09:18:00.678Z"
   },
   {
    "duration": 46,
    "start_time": "2024-02-24T09:18:00.733Z"
   },
   {
    "duration": 1500,
    "start_time": "2024-02-24T09:18:00.781Z"
   },
   {
    "duration": 11,
    "start_time": "2024-02-24T09:18:02.283Z"
   },
   {
    "duration": 65,
    "start_time": "2024-02-24T09:18:02.296Z"
   },
   {
    "duration": 14,
    "start_time": "2024-02-24T09:18:02.362Z"
   },
   {
    "duration": 52,
    "start_time": "2024-02-24T09:18:02.378Z"
   },
   {
    "duration": 54,
    "start_time": "2024-02-24T09:18:02.432Z"
   },
   {
    "duration": 521,
    "start_time": "2024-02-24T09:18:02.488Z"
   },
   {
    "duration": 16,
    "start_time": "2024-02-24T09:18:03.010Z"
   },
   {
    "duration": 33,
    "start_time": "2024-02-24T09:18:03.027Z"
   },
   {
    "duration": 7,
    "start_time": "2024-02-24T09:18:33.999Z"
   },
   {
    "duration": 6,
    "start_time": "2024-02-24T09:18:55.141Z"
   },
   {
    "duration": 2661,
    "start_time": "2024-02-24T09:29:59.211Z"
   },
   {
    "duration": 1371,
    "start_time": "2024-02-24T09:30:01.874Z"
   },
   {
    "duration": 2,
    "start_time": "2024-02-24T09:30:03.247Z"
   },
   {
    "duration": 8,
    "start_time": "2024-02-24T09:30:03.251Z"
   },
   {
    "duration": 101,
    "start_time": "2024-02-24T09:30:03.260Z"
   },
   {
    "duration": 3,
    "start_time": "2024-02-24T09:30:03.363Z"
   },
   {
    "duration": 11,
    "start_time": "2024-02-24T09:30:03.368Z"
   },
   {
    "duration": 13,
    "start_time": "2024-02-24T09:30:03.380Z"
   },
   {
    "duration": 4,
    "start_time": "2024-02-24T09:30:03.394Z"
   },
   {
    "duration": 18,
    "start_time": "2024-02-24T09:30:03.401Z"
   },
   {
    "duration": 22,
    "start_time": "2024-02-24T09:30:03.421Z"
   },
   {
    "duration": 8,
    "start_time": "2024-02-24T09:30:03.445Z"
   },
   {
    "duration": 22,
    "start_time": "2024-02-24T09:30:03.455Z"
   },
   {
    "duration": 7,
    "start_time": "2024-02-24T09:30:03.478Z"
   },
   {
    "duration": 35,
    "start_time": "2024-02-24T09:30:03.486Z"
   },
   {
    "duration": 9,
    "start_time": "2024-02-24T09:30:03.522Z"
   },
   {
    "duration": 41,
    "start_time": "2024-02-24T09:30:03.533Z"
   },
   {
    "duration": 4,
    "start_time": "2024-02-24T09:30:03.576Z"
   },
   {
    "duration": 33,
    "start_time": "2024-02-24T09:30:03.582Z"
   },
   {
    "duration": 40,
    "start_time": "2024-02-24T09:30:03.617Z"
   },
   {
    "duration": 27,
    "start_time": "2024-02-24T09:30:03.658Z"
   },
   {
    "duration": 29,
    "start_time": "2024-02-24T09:30:03.686Z"
   },
   {
    "duration": 12,
    "start_time": "2024-02-24T09:30:03.717Z"
   },
   {
    "duration": 39,
    "start_time": "2024-02-24T09:30:03.731Z"
   },
   {
    "duration": 280,
    "start_time": "2024-02-24T09:30:03.772Z"
   },
   {
    "duration": 235,
    "start_time": "2024-02-24T09:30:04.054Z"
   },
   {
    "duration": 25,
    "start_time": "2024-02-24T09:30:04.291Z"
   },
   {
    "duration": 7,
    "start_time": "2024-02-24T09:30:04.320Z"
   },
   {
    "duration": 6,
    "start_time": "2024-02-24T09:30:04.329Z"
   },
   {
    "duration": 36,
    "start_time": "2024-02-24T09:30:04.337Z"
   },
   {
    "duration": 18,
    "start_time": "2024-02-24T09:30:04.375Z"
   },
   {
    "duration": 3,
    "start_time": "2024-02-24T09:30:04.395Z"
   },
   {
    "duration": 38,
    "start_time": "2024-02-24T09:30:04.399Z"
   },
   {
    "duration": 17,
    "start_time": "2024-02-24T09:30:04.439Z"
   },
   {
    "duration": 10,
    "start_time": "2024-02-24T09:30:04.457Z"
   },
   {
    "duration": 105,
    "start_time": "2024-02-24T09:30:04.469Z"
   },
   {
    "duration": 118,
    "start_time": "2024-02-24T09:30:04.576Z"
   },
   {
    "duration": 135,
    "start_time": "2024-02-24T09:30:04.695Z"
   },
   {
    "duration": 143,
    "start_time": "2024-02-24T09:30:04.831Z"
   },
   {
    "duration": 452,
    "start_time": "2024-02-24T09:30:04.976Z"
   },
   {
    "duration": 398,
    "start_time": "2024-02-24T09:30:05.430Z"
   },
   {
    "duration": 195,
    "start_time": "2024-02-24T09:30:05.830Z"
   },
   {
    "duration": 217,
    "start_time": "2024-02-24T09:30:06.026Z"
   },
   {
    "duration": 134,
    "start_time": "2024-02-24T09:30:06.245Z"
   },
   {
    "duration": 19,
    "start_time": "2024-02-24T09:30:06.381Z"
   },
   {
    "duration": 15,
    "start_time": "2024-02-24T09:30:06.401Z"
   },
   {
    "duration": 20,
    "start_time": "2024-02-24T09:30:06.417Z"
   },
   {
    "duration": 29,
    "start_time": "2024-02-24T09:30:06.438Z"
   },
   {
    "duration": 192,
    "start_time": "2024-02-24T09:30:06.469Z"
   },
   {
    "duration": 4,
    "start_time": "2024-02-24T09:30:06.663Z"
   },
   {
    "duration": 18,
    "start_time": "2024-02-24T09:30:06.672Z"
   },
   {
    "duration": 28,
    "start_time": "2024-02-24T09:30:06.692Z"
   },
   {
    "duration": 25,
    "start_time": "2024-02-24T09:30:06.721Z"
   },
   {
    "duration": 27,
    "start_time": "2024-02-24T09:30:06.748Z"
   },
   {
    "duration": 40,
    "start_time": "2024-02-24T09:30:06.777Z"
   },
   {
    "duration": 30,
    "start_time": "2024-02-24T09:30:06.818Z"
   },
   {
    "duration": 16,
    "start_time": "2024-02-24T09:30:06.849Z"
   },
   {
    "duration": 15,
    "start_time": "2024-02-24T09:30:06.867Z"
   },
   {
    "duration": 23,
    "start_time": "2024-02-24T09:30:06.883Z"
   },
   {
    "duration": 553,
    "start_time": "2024-02-24T09:30:06.908Z"
   },
   {
    "duration": 375,
    "start_time": "2024-02-24T09:30:07.463Z"
   },
   {
    "duration": 6,
    "start_time": "2024-02-24T09:30:07.840Z"
   },
   {
    "duration": 560,
    "start_time": "2024-02-24T09:30:07.847Z"
   },
   {
    "duration": 8,
    "start_time": "2024-02-24T09:30:08.409Z"
   },
   {
    "duration": 38,
    "start_time": "2024-02-24T09:30:08.419Z"
   },
   {
    "duration": 582,
    "start_time": "2024-02-24T09:30:08.459Z"
   },
   {
    "duration": 5,
    "start_time": "2024-02-24T09:30:09.043Z"
   },
   {
    "duration": 2653,
    "start_time": "2024-02-24T09:30:09.050Z"
   },
   {
    "duration": 12,
    "start_time": "2024-02-24T09:30:11.705Z"
   },
   {
    "duration": 31,
    "start_time": "2024-02-24T09:30:11.718Z"
   },
   {
    "duration": 27,
    "start_time": "2024-02-24T09:30:11.750Z"
   },
   {
    "duration": 1444,
    "start_time": "2024-02-24T09:30:11.778Z"
   },
   {
    "duration": 10,
    "start_time": "2024-02-24T09:30:13.223Z"
   },
   {
    "duration": 39,
    "start_time": "2024-02-24T09:30:13.234Z"
   },
   {
    "duration": 3,
    "start_time": "2024-02-24T09:30:13.275Z"
   },
   {
    "duration": 12,
    "start_time": "2024-02-24T09:30:13.280Z"
   },
   {
    "duration": 16,
    "start_time": "2024-02-24T09:30:13.294Z"
   },
   {
    "duration": 557,
    "start_time": "2024-02-24T09:30:13.311Z"
   },
   {
    "duration": 15,
    "start_time": "2024-02-24T09:30:13.870Z"
   },
   {
    "duration": 7,
    "start_time": "2024-02-24T09:30:13.887Z"
   },
   {
    "duration": 14,
    "start_time": "2024-02-24T09:30:13.896Z"
   },
   {
    "duration": 7,
    "start_time": "2024-02-24T09:30:13.915Z"
   },
   {
    "duration": 4,
    "start_time": "2024-02-24T09:33:32.295Z"
   },
   {
    "duration": 10,
    "start_time": "2024-02-24T09:34:19.329Z"
   },
   {
    "duration": 10,
    "start_time": "2024-02-24T09:34:32.395Z"
   },
   {
    "duration": 10,
    "start_time": "2024-02-24T09:34:49.435Z"
   },
   {
    "duration": 7,
    "start_time": "2024-02-24T09:36:33.108Z"
   },
   {
    "duration": 7,
    "start_time": "2024-02-24T09:36:55.059Z"
   },
   {
    "duration": 7,
    "start_time": "2024-02-24T09:37:06.501Z"
   },
   {
    "duration": 7,
    "start_time": "2024-02-24T09:40:57.861Z"
   },
   {
    "duration": 8,
    "start_time": "2024-02-24T09:40:58.476Z"
   },
   {
    "duration": 7,
    "start_time": "2024-02-24T09:42:19.900Z"
   },
   {
    "duration": 7,
    "start_time": "2024-02-24T09:42:20.881Z"
   },
   {
    "duration": 8,
    "start_time": "2024-02-24T09:42:57.734Z"
   },
   {
    "duration": 8,
    "start_time": "2024-02-24T09:42:58.499Z"
   },
   {
    "duration": 6,
    "start_time": "2024-02-24T09:43:18.256Z"
   },
   {
    "duration": 7,
    "start_time": "2024-02-24T09:47:27.726Z"
   },
   {
    "duration": 7,
    "start_time": "2024-02-24T09:47:28.533Z"
   },
   {
    "duration": 21,
    "start_time": "2024-02-24T09:49:29.232Z"
   },
   {
    "duration": 22,
    "start_time": "2024-02-24T09:49:34.119Z"
   },
   {
    "duration": 20,
    "start_time": "2024-02-24T09:49:38.334Z"
   },
   {
    "duration": 6,
    "start_time": "2024-02-24T09:49:58.272Z"
   },
   {
    "duration": 8,
    "start_time": "2024-02-24T09:50:15.698Z"
   },
   {
    "duration": 7,
    "start_time": "2024-02-24T09:51:05.633Z"
   },
   {
    "duration": 7,
    "start_time": "2024-02-24T09:51:06.590Z"
   },
   {
    "duration": 7,
    "start_time": "2024-02-24T09:55:02.103Z"
   },
   {
    "duration": 7,
    "start_time": "2024-02-24T09:55:13.314Z"
   },
   {
    "duration": 134,
    "start_time": "2024-02-24T09:56:20.162Z"
   },
   {
    "duration": 8,
    "start_time": "2024-02-24T10:03:55.928Z"
   },
   {
    "duration": 7,
    "start_time": "2024-02-24T10:04:17.713Z"
   },
   {
    "duration": 7,
    "start_time": "2024-02-24T10:05:57.729Z"
   },
   {
    "duration": 8,
    "start_time": "2024-02-24T10:05:59.223Z"
   },
   {
    "duration": 9,
    "start_time": "2024-02-24T10:06:29.379Z"
   },
   {
    "duration": 9,
    "start_time": "2024-02-24T10:06:30.932Z"
   },
   {
    "duration": 4,
    "start_time": "2024-02-24T10:22:54.574Z"
   },
   {
    "duration": 104,
    "start_time": "2024-02-24T10:25:17.295Z"
   },
   {
    "duration": 125,
    "start_time": "2024-02-24T10:26:10.419Z"
   },
   {
    "duration": 3,
    "start_time": "2024-02-24T10:26:16.692Z"
   },
   {
    "duration": 5,
    "start_time": "2024-02-24T10:26:19.262Z"
   },
   {
    "duration": 107,
    "start_time": "2024-02-24T10:28:29.091Z"
   },
   {
    "duration": 8,
    "start_time": "2024-02-24T10:28:35.178Z"
   },
   {
    "duration": 4,
    "start_time": "2024-02-24T10:28:39.453Z"
   },
   {
    "duration": 7,
    "start_time": "2024-02-24T10:29:09.858Z"
   },
   {
    "duration": 16,
    "start_time": "2024-02-24T10:29:47.609Z"
   },
   {
    "duration": 4,
    "start_time": "2024-02-24T10:29:52.034Z"
   },
   {
    "duration": 10,
    "start_time": "2024-02-24T10:30:25.028Z"
   },
   {
    "duration": 12,
    "start_time": "2024-02-24T10:30:35.863Z"
   },
   {
    "duration": 4,
    "start_time": "2024-02-24T10:30:38.538Z"
   },
   {
    "duration": 4,
    "start_time": "2024-02-24T10:30:40.473Z"
   },
   {
    "duration": 13,
    "start_time": "2024-02-24T10:32:08.468Z"
   },
   {
    "duration": 11,
    "start_time": "2024-02-24T10:32:20.384Z"
   },
   {
    "duration": 151,
    "start_time": "2024-02-24T10:33:01.559Z"
   },
   {
    "duration": 3,
    "start_time": "2024-02-24T10:33:37.097Z"
   },
   {
    "duration": 4,
    "start_time": "2024-02-24T10:33:42.856Z"
   },
   {
    "duration": 4,
    "start_time": "2024-02-24T10:34:00.454Z"
   },
   {
    "duration": 2,
    "start_time": "2024-02-24T10:37:37.366Z"
   },
   {
    "duration": 4,
    "start_time": "2024-02-24T10:42:09.570Z"
   },
   {
    "duration": 4,
    "start_time": "2024-02-24T10:43:19.197Z"
   },
   {
    "duration": 6,
    "start_time": "2024-02-24T10:43:30.220Z"
   },
   {
    "duration": 4,
    "start_time": "2024-02-24T10:43:58.020Z"
   },
   {
    "duration": 3,
    "start_time": "2024-02-24T10:44:02.588Z"
   },
   {
    "duration": 130,
    "start_time": "2024-02-24T11:03:58.076Z"
   },
   {
    "duration": 5,
    "start_time": "2024-02-24T11:30:05.308Z"
   },
   {
    "duration": 6,
    "start_time": "2024-02-24T11:30:10.099Z"
   },
   {
    "duration": 5,
    "start_time": "2024-02-24T11:35:58.108Z"
   },
   {
    "duration": 111,
    "start_time": "2024-02-24T11:36:12.587Z"
   },
   {
    "duration": 4,
    "start_time": "2024-02-24T11:36:16.084Z"
   },
   {
    "duration": 5,
    "start_time": "2024-02-24T11:36:30.532Z"
   },
   {
    "duration": 4,
    "start_time": "2024-02-24T11:37:35.096Z"
   },
   {
    "duration": 3,
    "start_time": "2024-02-24T11:37:49.866Z"
   },
   {
    "duration": 5,
    "start_time": "2024-02-24T11:38:09.888Z"
   },
   {
    "duration": 4,
    "start_time": "2024-02-24T11:38:40.615Z"
   },
   {
    "duration": 4,
    "start_time": "2024-02-24T11:39:02.707Z"
   },
   {
    "duration": 4,
    "start_time": "2024-02-24T11:39:16.748Z"
   },
   {
    "duration": 4,
    "start_time": "2024-02-24T11:39:26.117Z"
   },
   {
    "duration": 3,
    "start_time": "2024-02-24T11:39:45.058Z"
   },
   {
    "duration": 4,
    "start_time": "2024-02-24T11:39:45.664Z"
   },
   {
    "duration": 5,
    "start_time": "2024-02-24T11:39:48.329Z"
   },
   {
    "duration": 4,
    "start_time": "2024-02-24T11:39:59.861Z"
   },
   {
    "duration": 2,
    "start_time": "2024-02-24T11:40:29.646Z"
   },
   {
    "duration": 4,
    "start_time": "2024-02-24T11:40:30.472Z"
   },
   {
    "duration": 4,
    "start_time": "2024-02-24T11:40:31.165Z"
   },
   {
    "duration": 4,
    "start_time": "2024-02-24T11:40:38.679Z"
   },
   {
    "duration": 4,
    "start_time": "2024-02-24T11:40:42.428Z"
   },
   {
    "duration": 5,
    "start_time": "2024-02-24T11:40:55.249Z"
   },
   {
    "duration": 2,
    "start_time": "2024-02-24T11:40:59.934Z"
   },
   {
    "duration": 5,
    "start_time": "2024-02-24T11:41:00.734Z"
   },
   {
    "duration": 109,
    "start_time": "2024-02-24T12:53:25.982Z"
   },
   {
    "duration": 22,
    "start_time": "2024-02-24T13:08:06.559Z"
   },
   {
    "duration": 6,
    "start_time": "2024-02-24T13:09:01.718Z"
   },
   {
    "duration": 105,
    "start_time": "2024-02-24T13:09:22.997Z"
   },
   {
    "duration": 4,
    "start_time": "2024-02-24T13:10:08.086Z"
   },
   {
    "duration": 4,
    "start_time": "2024-02-24T13:10:41.341Z"
   },
   {
    "duration": 11,
    "start_time": "2024-02-24T13:11:51.290Z"
   },
   {
    "duration": 5,
    "start_time": "2024-02-24T13:12:10.853Z"
   },
   {
    "duration": 4,
    "start_time": "2024-02-24T13:12:11.167Z"
   },
   {
    "duration": 4,
    "start_time": "2024-02-24T13:12:11.716Z"
   },
   {
    "duration": 6,
    "start_time": "2024-02-24T13:12:12.356Z"
   },
   {
    "duration": 7,
    "start_time": "2024-02-24T13:15:53.515Z"
   },
   {
    "duration": 4,
    "start_time": "2024-02-24T13:16:00.220Z"
   },
   {
    "duration": 4,
    "start_time": "2024-02-24T13:16:16.371Z"
   },
   {
    "duration": 5,
    "start_time": "2024-02-24T13:16:39.710Z"
   },
   {
    "duration": 121,
    "start_time": "2024-02-24T13:23:28.919Z"
   },
   {
    "duration": 6,
    "start_time": "2024-02-24T13:23:41.232Z"
   },
   {
    "duration": 4,
    "start_time": "2024-02-24T13:23:47.759Z"
   },
   {
    "duration": 9,
    "start_time": "2024-02-24T13:35:28.310Z"
   },
   {
    "duration": 13,
    "start_time": "2024-02-24T13:46:23.435Z"
   },
   {
    "duration": 10,
    "start_time": "2024-02-24T13:47:22.291Z"
   },
   {
    "duration": 26,
    "start_time": "2024-02-24T13:54:54.186Z"
   },
   {
    "duration": 15,
    "start_time": "2024-02-24T13:55:10.549Z"
   },
   {
    "duration": 11,
    "start_time": "2024-02-24T13:55:23.200Z"
   },
   {
    "duration": 26,
    "start_time": "2024-02-24T13:55:33.864Z"
   },
   {
    "duration": 31,
    "start_time": "2024-02-24T14:00:40.549Z"
   },
   {
    "duration": 102,
    "start_time": "2024-02-24T14:03:16.342Z"
   },
   {
    "duration": 10,
    "start_time": "2024-02-24T14:04:27.910Z"
   },
   {
    "duration": 10,
    "start_time": "2024-02-24T14:04:47.977Z"
   },
   {
    "duration": 6,
    "start_time": "2024-02-24T14:15:33.161Z"
   },
   {
    "duration": 4,
    "start_time": "2024-02-24T14:15:33.947Z"
   },
   {
    "duration": 4,
    "start_time": "2024-02-24T14:16:03.094Z"
   },
   {
    "duration": 4,
    "start_time": "2024-02-24T14:16:09.420Z"
   },
   {
    "duration": 5,
    "start_time": "2024-02-24T14:16:33.269Z"
   },
   {
    "duration": 6,
    "start_time": "2024-02-24T14:19:59.539Z"
   },
   {
    "duration": 3,
    "start_time": "2024-02-24T14:20:08.640Z"
   },
   {
    "duration": 4,
    "start_time": "2024-02-24T14:20:51.012Z"
   },
   {
    "duration": 5,
    "start_time": "2024-02-24T14:21:31.507Z"
   },
   {
    "duration": 9,
    "start_time": "2024-02-24T14:24:03.477Z"
   },
   {
    "duration": 270,
    "start_time": "2024-02-24T14:24:06.450Z"
   },
   {
    "duration": 5,
    "start_time": "2024-02-24T14:24:21.039Z"
   },
   {
    "duration": 10,
    "start_time": "2024-02-24T14:24:26.141Z"
   },
   {
    "duration": 4,
    "start_time": "2024-02-24T14:24:34.869Z"
   },
   {
    "duration": 20,
    "start_time": "2024-02-24T14:27:19.523Z"
   },
   {
    "duration": 20,
    "start_time": "2024-02-24T14:27:30.669Z"
   },
   {
    "duration": 4,
    "start_time": "2024-02-24T14:27:53.398Z"
   },
   {
    "duration": 14,
    "start_time": "2024-02-24T14:28:54.654Z"
   },
   {
    "duration": 20,
    "start_time": "2024-02-24T14:29:16.344Z"
   },
   {
    "duration": 20,
    "start_time": "2024-02-24T14:29:27.587Z"
   },
   {
    "duration": 22,
    "start_time": "2024-02-24T14:30:39.862Z"
   },
   {
    "duration": 22,
    "start_time": "2024-02-24T14:30:53.741Z"
   },
   {
    "duration": 5,
    "start_time": "2024-02-24T14:31:17.486Z"
   },
   {
    "duration": 14,
    "start_time": "2024-02-24T14:31:33.661Z"
   },
   {
    "duration": 9,
    "start_time": "2024-02-24T14:31:42.983Z"
   },
   {
    "duration": 12,
    "start_time": "2024-02-24T14:32:32.530Z"
   },
   {
    "duration": 4,
    "start_time": "2024-02-24T14:34:17.598Z"
   },
   {
    "duration": 5,
    "start_time": "2024-02-24T14:34:26.080Z"
   },
   {
    "duration": 10,
    "start_time": "2024-02-24T14:35:51.186Z"
   },
   {
    "duration": 33,
    "start_time": "2024-02-24T14:37:40.819Z"
   },
   {
    "duration": 1657,
    "start_time": "2024-02-24T14:41:25.317Z"
   },
   {
    "duration": 9,
    "start_time": "2024-02-24T14:42:39.816Z"
   },
   {
    "duration": 100,
    "start_time": "2024-02-24T15:11:39.611Z"
   },
   {
    "duration": 4,
    "start_time": "2024-02-24T15:11:45.617Z"
   },
   {
    "duration": 82,
    "start_time": "2024-02-24T15:12:21.651Z"
   },
   {
    "duration": 3,
    "start_time": "2024-02-24T15:15:00.631Z"
   },
   {
    "duration": 1596,
    "start_time": "2024-02-24T15:15:12.152Z"
   },
   {
    "duration": 1642,
    "start_time": "2024-02-24T15:16:13.558Z"
   },
   {
    "duration": 19,
    "start_time": "2024-02-24T15:16:23.884Z"
   },
   {
    "duration": 7,
    "start_time": "2024-02-24T15:16:56.880Z"
   },
   {
    "duration": 21,
    "start_time": "2024-02-24T15:17:05.008Z"
   },
   {
    "duration": 7,
    "start_time": "2024-02-24T15:17:25.935Z"
   },
   {
    "duration": 4,
    "start_time": "2024-02-24T15:17:26.359Z"
   },
   {
    "duration": 4,
    "start_time": "2024-02-24T15:17:26.795Z"
   },
   {
    "duration": 6,
    "start_time": "2024-02-24T15:17:27.233Z"
   },
   {
    "duration": 6,
    "start_time": "2024-02-24T15:17:31.059Z"
   },
   {
    "duration": 5,
    "start_time": "2024-02-24T15:17:31.384Z"
   },
   {
    "duration": 4,
    "start_time": "2024-02-24T15:17:31.773Z"
   },
   {
    "duration": 6,
    "start_time": "2024-02-24T15:17:32.178Z"
   },
   {
    "duration": 7,
    "start_time": "2024-02-24T15:17:35.119Z"
   },
   {
    "duration": 4,
    "start_time": "2024-02-24T15:17:35.461Z"
   },
   {
    "duration": 5,
    "start_time": "2024-02-24T15:17:35.877Z"
   },
   {
    "duration": 4,
    "start_time": "2024-02-24T15:17:45.261Z"
   },
   {
    "duration": 105,
    "start_time": "2024-02-24T15:17:48.045Z"
   },
   {
    "duration": 3,
    "start_time": "2024-02-24T15:17:59.753Z"
   },
   {
    "duration": 290,
    "start_time": "2024-02-24T15:18:00.633Z"
   },
   {
    "duration": 3,
    "start_time": "2024-02-24T15:18:44.314Z"
   },
   {
    "duration": 256,
    "start_time": "2024-02-24T15:18:44.668Z"
   },
   {
    "duration": 5,
    "start_time": "2024-02-24T15:19:15.769Z"
   },
   {
    "duration": 12,
    "start_time": "2024-02-24T15:19:16.378Z"
   },
   {
    "duration": 3,
    "start_time": "2024-02-24T15:19:32.031Z"
   },
   {
    "duration": 12,
    "start_time": "2024-02-24T15:19:32.389Z"
   },
   {
    "duration": 16,
    "start_time": "2024-02-24T15:20:06.090Z"
   },
   {
    "duration": 17,
    "start_time": "2024-02-24T15:20:06.744Z"
   },
   {
    "duration": 10,
    "start_time": "2024-02-24T15:20:07.141Z"
   },
   {
    "duration": 7,
    "start_time": "2024-02-24T15:25:53.345Z"
   },
   {
    "duration": 5,
    "start_time": "2024-02-24T15:26:37.798Z"
   },
   {
    "duration": 18,
    "start_time": "2024-02-24T15:26:38.213Z"
   },
   {
    "duration": 21,
    "start_time": "2024-02-24T15:26:38.833Z"
   },
   {
    "duration": 11,
    "start_time": "2024-02-24T15:26:39.255Z"
   },
   {
    "duration": 10,
    "start_time": "2024-02-24T15:26:39.682Z"
   },
   {
    "duration": 12,
    "start_time": "2024-02-24T15:30:11.039Z"
   },
   {
    "duration": 20,
    "start_time": "2024-02-24T15:30:11.881Z"
   },
   {
    "duration": 3691,
    "start_time": "2024-02-24T18:21:19.021Z"
   },
   {
    "duration": 1498,
    "start_time": "2024-02-24T18:21:22.715Z"
   },
   {
    "duration": 3,
    "start_time": "2024-02-24T18:21:24.215Z"
   },
   {
    "duration": 7,
    "start_time": "2024-02-24T18:21:24.220Z"
   },
   {
    "duration": 127,
    "start_time": "2024-02-24T18:21:24.230Z"
   },
   {
    "duration": 7,
    "start_time": "2024-02-24T18:21:24.358Z"
   },
   {
    "duration": 6,
    "start_time": "2024-02-24T18:21:24.367Z"
   },
   {
    "duration": 11,
    "start_time": "2024-02-24T18:21:24.375Z"
   },
   {
    "duration": 31,
    "start_time": "2024-02-24T18:21:24.387Z"
   },
   {
    "duration": 6,
    "start_time": "2024-02-24T18:21:24.419Z"
   },
   {
    "duration": 17,
    "start_time": "2024-02-24T18:21:24.426Z"
   },
   {
    "duration": 11,
    "start_time": "2024-02-24T18:21:24.445Z"
   },
   {
    "duration": 5,
    "start_time": "2024-02-24T18:21:24.457Z"
   },
   {
    "duration": 3,
    "start_time": "2024-02-24T18:21:24.466Z"
   },
   {
    "duration": 63,
    "start_time": "2024-02-24T18:21:24.471Z"
   },
   {
    "duration": 11,
    "start_time": "2024-02-24T18:21:24.535Z"
   },
   {
    "duration": 29,
    "start_time": "2024-02-24T18:21:24.548Z"
   },
   {
    "duration": 5,
    "start_time": "2024-02-24T18:21:24.579Z"
   },
   {
    "duration": 44,
    "start_time": "2024-02-24T18:21:24.586Z"
   },
   {
    "duration": 6,
    "start_time": "2024-02-24T18:21:24.632Z"
   },
   {
    "duration": 10,
    "start_time": "2024-02-24T18:21:24.640Z"
   },
   {
    "duration": 12,
    "start_time": "2024-02-24T18:21:24.652Z"
   },
   {
    "duration": 3,
    "start_time": "2024-02-24T18:21:24.666Z"
   },
   {
    "duration": 62,
    "start_time": "2024-02-24T18:21:24.671Z"
   },
   {
    "duration": 335,
    "start_time": "2024-02-24T18:21:24.735Z"
   },
   {
    "duration": 290,
    "start_time": "2024-02-24T18:21:25.073Z"
   },
   {
    "duration": 27,
    "start_time": "2024-02-24T18:21:25.365Z"
   },
   {
    "duration": 4,
    "start_time": "2024-02-24T18:21:25.394Z"
   },
   {
    "duration": 18,
    "start_time": "2024-02-24T18:21:25.400Z"
   },
   {
    "duration": 12,
    "start_time": "2024-02-24T18:21:25.420Z"
   },
   {
    "duration": 24,
    "start_time": "2024-02-24T18:21:25.434Z"
   },
   {
    "duration": 5,
    "start_time": "2024-02-24T18:21:25.460Z"
   },
   {
    "duration": 9,
    "start_time": "2024-02-24T18:21:25.467Z"
   },
   {
    "duration": 5,
    "start_time": "2024-02-24T18:21:25.478Z"
   },
   {
    "duration": 34,
    "start_time": "2024-02-24T18:21:25.485Z"
   },
   {
    "duration": 106,
    "start_time": "2024-02-24T18:21:25.521Z"
   },
   {
    "duration": 136,
    "start_time": "2024-02-24T18:21:25.628Z"
   },
   {
    "duration": 132,
    "start_time": "2024-02-24T18:21:25.766Z"
   },
   {
    "duration": 145,
    "start_time": "2024-02-24T18:21:25.900Z"
   },
   {
    "duration": 465,
    "start_time": "2024-02-24T18:21:26.046Z"
   },
   {
    "duration": 416,
    "start_time": "2024-02-24T18:21:26.518Z"
   },
   {
    "duration": 178,
    "start_time": "2024-02-24T18:21:26.936Z"
   },
   {
    "duration": 195,
    "start_time": "2024-02-24T18:21:27.116Z"
   },
   {
    "duration": 134,
    "start_time": "2024-02-24T18:21:27.315Z"
   },
   {
    "duration": 21,
    "start_time": "2024-02-24T18:21:27.450Z"
   },
   {
    "duration": 6,
    "start_time": "2024-02-24T18:21:27.474Z"
   },
   {
    "duration": 7,
    "start_time": "2024-02-24T18:21:27.482Z"
   },
   {
    "duration": 39,
    "start_time": "2024-02-24T18:21:27.491Z"
   },
   {
    "duration": 202,
    "start_time": "2024-02-24T18:21:27.532Z"
   },
   {
    "duration": 6,
    "start_time": "2024-02-24T18:21:27.736Z"
   },
   {
    "duration": 17,
    "start_time": "2024-02-24T18:21:27.744Z"
   },
   {
    "duration": 22,
    "start_time": "2024-02-24T18:21:27.763Z"
   },
   {
    "duration": 6,
    "start_time": "2024-02-24T18:21:27.788Z"
   },
   {
    "duration": 21,
    "start_time": "2024-02-24T18:21:27.796Z"
   },
   {
    "duration": 18,
    "start_time": "2024-02-24T18:21:27.819Z"
   },
   {
    "duration": 8,
    "start_time": "2024-02-24T18:21:27.839Z"
   },
   {
    "duration": 12,
    "start_time": "2024-02-24T18:21:27.848Z"
   },
   {
    "duration": 8,
    "start_time": "2024-02-24T18:21:27.862Z"
   },
   {
    "duration": 42,
    "start_time": "2024-02-24T18:21:27.872Z"
   },
   {
    "duration": 576,
    "start_time": "2024-02-24T18:21:27.916Z"
   },
   {
    "duration": 399,
    "start_time": "2024-02-24T18:21:28.494Z"
   },
   {
    "duration": 5,
    "start_time": "2024-02-24T18:21:28.895Z"
   },
   {
    "duration": 542,
    "start_time": "2024-02-24T18:21:28.914Z"
   },
   {
    "duration": 9,
    "start_time": "2024-02-24T18:21:29.457Z"
   },
   {
    "duration": 18,
    "start_time": "2024-02-24T18:21:29.468Z"
   },
   {
    "duration": 548,
    "start_time": "2024-02-24T18:21:29.488Z"
   },
   {
    "duration": 5,
    "start_time": "2024-02-24T18:21:30.038Z"
   },
   {
    "duration": 2824,
    "start_time": "2024-02-24T18:21:30.045Z"
   },
   {
    "duration": 28,
    "start_time": "2024-02-24T18:21:32.871Z"
   },
   {
    "duration": 6,
    "start_time": "2024-02-24T18:21:32.901Z"
   },
   {
    "duration": 17,
    "start_time": "2024-02-24T18:21:32.918Z"
   },
   {
    "duration": 1482,
    "start_time": "2024-02-24T18:21:32.937Z"
   },
   {
    "duration": 12,
    "start_time": "2024-02-24T18:21:34.422Z"
   },
   {
    "duration": 47,
    "start_time": "2024-02-24T18:21:34.436Z"
   },
   {
    "duration": 4,
    "start_time": "2024-02-24T18:21:34.485Z"
   },
   {
    "duration": 44,
    "start_time": "2024-02-24T18:21:34.491Z"
   },
   {
    "duration": 25,
    "start_time": "2024-02-24T18:21:34.537Z"
   },
   {
    "duration": 573,
    "start_time": "2024-02-24T18:21:34.565Z"
   },
   {
    "duration": 29,
    "start_time": "2024-02-24T18:21:35.140Z"
   },
   {
    "duration": 9,
    "start_time": "2024-02-24T18:21:35.171Z"
   },
   {
    "duration": 41,
    "start_time": "2024-02-24T18:21:35.182Z"
   },
   {
    "duration": 5,
    "start_time": "2024-02-24T18:21:35.225Z"
   },
   {
    "duration": 19,
    "start_time": "2024-02-24T18:21:35.232Z"
   },
   {
    "duration": 23,
    "start_time": "2024-02-24T18:21:35.253Z"
   },
   {
    "duration": 12,
    "start_time": "2024-02-24T18:21:35.278Z"
   },
   {
    "duration": 10,
    "start_time": "2024-02-24T18:21:35.291Z"
   },
   {
    "duration": 9,
    "start_time": "2024-02-24T18:21:35.303Z"
   },
   {
    "duration": 8,
    "start_time": "2024-02-24T18:21:35.314Z"
   },
   {
    "duration": 5,
    "start_time": "2024-02-24T18:21:35.323Z"
   },
   {
    "duration": 4,
    "start_time": "2024-02-24T18:21:35.329Z"
   },
   {
    "duration": 6,
    "start_time": "2024-02-24T18:21:35.334Z"
   },
   {
    "duration": 14,
    "start_time": "2024-02-24T18:21:35.341Z"
   },
   {
    "duration": 4,
    "start_time": "2024-02-24T18:21:35.357Z"
   },
   {
    "duration": 4,
    "start_time": "2024-02-24T18:21:35.364Z"
   },
   {
    "duration": 47,
    "start_time": "2024-02-24T18:21:35.369Z"
   },
   {
    "duration": 6,
    "start_time": "2024-02-24T18:21:35.418Z"
   },
   {
    "duration": 7,
    "start_time": "2024-02-24T18:21:35.426Z"
   },
   {
    "duration": 6,
    "start_time": "2024-02-24T18:21:35.435Z"
   },
   {
    "duration": 12,
    "start_time": "2024-02-24T18:21:35.443Z"
   },
   {
    "duration": 5,
    "start_time": "2024-02-24T18:21:35.456Z"
   },
   {
    "duration": 13,
    "start_time": "2024-02-24T18:21:35.463Z"
   },
   {
    "duration": 42,
    "start_time": "2024-02-24T18:21:35.477Z"
   },
   {
    "duration": 14,
    "start_time": "2024-02-24T18:21:35.521Z"
   },
   {
    "duration": 15,
    "start_time": "2024-02-24T18:21:35.536Z"
   },
   {
    "duration": 2494,
    "start_time": "2024-02-24T19:08:10.977Z"
   },
   {
    "duration": 1147,
    "start_time": "2024-02-24T19:08:13.473Z"
   },
   {
    "duration": 3,
    "start_time": "2024-02-24T19:08:14.621Z"
   },
   {
    "duration": 10,
    "start_time": "2024-02-24T19:08:14.626Z"
   },
   {
    "duration": 99,
    "start_time": "2024-02-24T19:08:14.637Z"
   },
   {
    "duration": 3,
    "start_time": "2024-02-24T19:08:14.738Z"
   },
   {
    "duration": 10,
    "start_time": "2024-02-24T19:08:14.743Z"
   },
   {
    "duration": 12,
    "start_time": "2024-02-24T19:08:14.755Z"
   },
   {
    "duration": 4,
    "start_time": "2024-02-24T19:08:14.769Z"
   },
   {
    "duration": 5,
    "start_time": "2024-02-24T19:08:14.775Z"
   },
   {
    "duration": 44,
    "start_time": "2024-02-24T19:08:14.781Z"
   },
   {
    "duration": 8,
    "start_time": "2024-02-24T19:08:14.827Z"
   },
   {
    "duration": 5,
    "start_time": "2024-02-24T19:08:14.836Z"
   },
   {
    "duration": 3,
    "start_time": "2024-02-24T19:08:14.843Z"
   },
   {
    "duration": 28,
    "start_time": "2024-02-24T19:08:14.848Z"
   },
   {
    "duration": 38,
    "start_time": "2024-02-24T19:08:14.878Z"
   },
   {
    "duration": 20,
    "start_time": "2024-02-24T19:08:14.918Z"
   },
   {
    "duration": 4,
    "start_time": "2024-02-24T19:08:14.939Z"
   },
   {
    "duration": 22,
    "start_time": "2024-02-24T19:08:14.944Z"
   },
   {
    "duration": 4,
    "start_time": "2024-02-24T19:08:14.967Z"
   },
   {
    "duration": 7,
    "start_time": "2024-02-24T19:08:14.973Z"
   },
   {
    "duration": 39,
    "start_time": "2024-02-24T19:08:14.982Z"
   },
   {
    "duration": 43,
    "start_time": "2024-02-24T19:08:15.022Z"
   },
   {
    "duration": 52,
    "start_time": "2024-02-24T19:08:15.067Z"
   },
   {
    "duration": 276,
    "start_time": "2024-02-24T19:08:15.120Z"
   },
   {
    "duration": 229,
    "start_time": "2024-02-24T19:08:15.398Z"
   },
   {
    "duration": 24,
    "start_time": "2024-02-24T19:08:15.628Z"
   },
   {
    "duration": 4,
    "start_time": "2024-02-24T19:08:15.656Z"
   },
   {
    "duration": 9,
    "start_time": "2024-02-24T19:08:15.661Z"
   },
   {
    "duration": 16,
    "start_time": "2024-02-24T19:08:15.671Z"
   },
   {
    "duration": 33,
    "start_time": "2024-02-24T19:08:15.688Z"
   },
   {
    "duration": 4,
    "start_time": "2024-02-24T19:08:15.722Z"
   },
   {
    "duration": 11,
    "start_time": "2024-02-24T19:08:15.728Z"
   },
   {
    "duration": 3,
    "start_time": "2024-02-24T19:08:15.741Z"
   },
   {
    "duration": 4,
    "start_time": "2024-02-24T19:08:15.746Z"
   },
   {
    "duration": 124,
    "start_time": "2024-02-24T19:08:15.751Z"
   },
   {
    "duration": 114,
    "start_time": "2024-02-24T19:08:15.876Z"
   },
   {
    "duration": 123,
    "start_time": "2024-02-24T19:08:15.991Z"
   },
   {
    "duration": 125,
    "start_time": "2024-02-24T19:08:16.116Z"
   },
   {
    "duration": 426,
    "start_time": "2024-02-24T19:08:16.242Z"
   },
   {
    "duration": 359,
    "start_time": "2024-02-24T19:08:16.670Z"
   },
   {
    "duration": 171,
    "start_time": "2024-02-24T19:08:17.031Z"
   },
   {
    "duration": 181,
    "start_time": "2024-02-24T19:08:17.203Z"
   },
   {
    "duration": 127,
    "start_time": "2024-02-24T19:08:17.385Z"
   },
   {
    "duration": 18,
    "start_time": "2024-02-24T19:08:17.514Z"
   },
   {
    "duration": 16,
    "start_time": "2024-02-24T19:08:17.534Z"
   },
   {
    "duration": 8,
    "start_time": "2024-02-24T19:08:17.552Z"
   },
   {
    "duration": 16,
    "start_time": "2024-02-24T19:08:17.561Z"
   },
   {
    "duration": 174,
    "start_time": "2024-02-24T19:08:17.578Z"
   },
   {
    "duration": 5,
    "start_time": "2024-02-24T19:08:17.753Z"
   },
   {
    "duration": 5,
    "start_time": "2024-02-24T19:08:17.759Z"
   },
   {
    "duration": 12,
    "start_time": "2024-02-24T19:08:17.765Z"
   },
   {
    "duration": 3,
    "start_time": "2024-02-24T19:08:17.779Z"
   },
   {
    "duration": 31,
    "start_time": "2024-02-24T19:08:17.784Z"
   },
   {
    "duration": 12,
    "start_time": "2024-02-24T19:08:17.816Z"
   },
   {
    "duration": 6,
    "start_time": "2024-02-24T19:08:17.830Z"
   },
   {
    "duration": 6,
    "start_time": "2024-02-24T19:08:17.837Z"
   },
   {
    "duration": 9,
    "start_time": "2024-02-24T19:08:17.845Z"
   },
   {
    "duration": 7,
    "start_time": "2024-02-24T19:08:17.856Z"
   },
   {
    "duration": 574,
    "start_time": "2024-02-24T19:08:17.865Z"
   },
   {
    "duration": 363,
    "start_time": "2024-02-24T19:08:18.441Z"
   },
   {
    "duration": 12,
    "start_time": "2024-02-24T19:08:18.806Z"
   },
   {
    "duration": 530,
    "start_time": "2024-02-24T19:08:18.820Z"
   },
   {
    "duration": 8,
    "start_time": "2024-02-24T19:08:19.351Z"
   },
   {
    "duration": 6,
    "start_time": "2024-02-24T19:08:19.360Z"
   },
   {
    "duration": 519,
    "start_time": "2024-02-24T19:08:19.367Z"
   },
   {
    "duration": 5,
    "start_time": "2024-02-24T19:08:19.887Z"
   },
   {
    "duration": 2480,
    "start_time": "2024-02-24T19:08:19.893Z"
   },
   {
    "duration": 12,
    "start_time": "2024-02-24T19:08:22.375Z"
   },
   {
    "duration": 5,
    "start_time": "2024-02-24T19:08:22.388Z"
   },
   {
    "duration": 25,
    "start_time": "2024-02-24T19:08:22.395Z"
   },
   {
    "duration": 1385,
    "start_time": "2024-02-24T19:08:22.422Z"
   },
   {
    "duration": 9,
    "start_time": "2024-02-24T19:08:23.809Z"
   },
   {
    "duration": 37,
    "start_time": "2024-02-24T19:08:23.820Z"
   },
   {
    "duration": 4,
    "start_time": "2024-02-24T19:08:23.859Z"
   },
   {
    "duration": 14,
    "start_time": "2024-02-24T19:08:23.865Z"
   },
   {
    "duration": 16,
    "start_time": "2024-02-24T19:08:23.880Z"
   },
   {
    "duration": 528,
    "start_time": "2024-02-24T19:08:23.897Z"
   },
   {
    "duration": 29,
    "start_time": "2024-02-24T19:08:24.426Z"
   },
   {
    "duration": 7,
    "start_time": "2024-02-24T19:08:24.457Z"
   },
   {
    "duration": 18,
    "start_time": "2024-02-24T19:08:24.466Z"
   },
   {
    "duration": 21,
    "start_time": "2024-02-24T19:08:24.490Z"
   },
   {
    "duration": 10,
    "start_time": "2024-02-24T19:08:24.512Z"
   },
   {
    "duration": 22,
    "start_time": "2024-02-24T19:08:24.523Z"
   },
   {
    "duration": 29,
    "start_time": "2024-02-24T19:08:24.547Z"
   },
   {
    "duration": 11,
    "start_time": "2024-02-24T19:08:24.577Z"
   },
   {
    "duration": 28,
    "start_time": "2024-02-24T19:08:24.589Z"
   },
   {
    "duration": 18,
    "start_time": "2024-02-24T19:08:24.619Z"
   },
   {
    "duration": 26,
    "start_time": "2024-02-24T19:08:24.638Z"
   },
   {
    "duration": 6,
    "start_time": "2024-02-24T19:08:24.666Z"
   },
   {
    "duration": 25,
    "start_time": "2024-02-24T19:08:24.673Z"
   },
   {
    "duration": 18,
    "start_time": "2024-02-24T19:08:24.700Z"
   },
   {
    "duration": 29,
    "start_time": "2024-02-24T19:08:24.719Z"
   },
   {
    "duration": 25,
    "start_time": "2024-02-24T19:08:24.749Z"
   },
   {
    "duration": 37,
    "start_time": "2024-02-24T19:08:24.775Z"
   },
   {
    "duration": 30,
    "start_time": "2024-02-24T19:08:24.814Z"
   },
   {
    "duration": 13,
    "start_time": "2024-02-24T19:08:24.845Z"
   },
   {
    "duration": 28,
    "start_time": "2024-02-24T19:08:24.859Z"
   },
   {
    "duration": 20,
    "start_time": "2024-02-24T19:08:24.889Z"
   },
   {
    "duration": 17,
    "start_time": "2024-02-24T19:08:24.911Z"
   },
   {
    "duration": 34,
    "start_time": "2024-02-24T19:08:24.930Z"
   },
   {
    "duration": 38,
    "start_time": "2024-02-24T19:08:24.965Z"
   },
   {
    "duration": 21,
    "start_time": "2024-02-24T19:08:25.005Z"
   },
   {
    "duration": 29,
    "start_time": "2024-02-24T19:08:25.028Z"
   },
   {
    "duration": 4307,
    "start_time": "2024-02-25T10:58:41.039Z"
   },
   {
    "duration": 2286,
    "start_time": "2024-02-25T10:58:45.348Z"
   },
   {
    "duration": 4,
    "start_time": "2024-02-25T10:58:47.635Z"
   },
   {
    "duration": 5,
    "start_time": "2024-02-25T10:58:47.641Z"
   },
   {
    "duration": 152,
    "start_time": "2024-02-25T10:58:47.648Z"
   },
   {
    "duration": 4,
    "start_time": "2024-02-25T10:58:47.801Z"
   },
   {
    "duration": 11,
    "start_time": "2024-02-25T10:58:47.806Z"
   },
   {
    "duration": 13,
    "start_time": "2024-02-25T10:58:47.818Z"
   },
   {
    "duration": 4,
    "start_time": "2024-02-25T10:58:47.832Z"
   },
   {
    "duration": 9,
    "start_time": "2024-02-25T10:58:47.839Z"
   },
   {
    "duration": 36,
    "start_time": "2024-02-25T10:58:47.850Z"
   },
   {
    "duration": 8,
    "start_time": "2024-02-25T10:58:47.888Z"
   },
   {
    "duration": 6,
    "start_time": "2024-02-25T10:58:47.898Z"
   },
   {
    "duration": 6,
    "start_time": "2024-02-25T10:58:47.905Z"
   },
   {
    "duration": 24,
    "start_time": "2024-02-25T10:58:47.912Z"
   },
   {
    "duration": 8,
    "start_time": "2024-02-25T10:58:47.937Z"
   },
   {
    "duration": 48,
    "start_time": "2024-02-25T10:58:47.947Z"
   },
   {
    "duration": 6,
    "start_time": "2024-02-25T10:58:47.997Z"
   },
   {
    "duration": 20,
    "start_time": "2024-02-25T10:58:48.004Z"
   },
   {
    "duration": 4,
    "start_time": "2024-02-25T10:58:48.026Z"
   },
   {
    "duration": 9,
    "start_time": "2024-02-25T10:58:48.031Z"
   },
   {
    "duration": 40,
    "start_time": "2024-02-25T10:58:48.041Z"
   },
   {
    "duration": 3,
    "start_time": "2024-02-25T10:58:48.083Z"
   },
   {
    "duration": 33,
    "start_time": "2024-02-25T10:58:48.088Z"
   },
   {
    "duration": 294,
    "start_time": "2024-02-25T10:58:48.123Z"
   },
   {
    "duration": 264,
    "start_time": "2024-02-25T10:58:48.420Z"
   },
   {
    "duration": 33,
    "start_time": "2024-02-25T10:58:48.685Z"
   },
   {
    "duration": 6,
    "start_time": "2024-02-25T10:58:48.723Z"
   },
   {
    "duration": 17,
    "start_time": "2024-02-25T10:58:48.731Z"
   },
   {
    "duration": 17,
    "start_time": "2024-02-25T10:58:48.750Z"
   },
   {
    "duration": 29,
    "start_time": "2024-02-25T10:58:48.769Z"
   },
   {
    "duration": 4,
    "start_time": "2024-02-25T10:58:48.800Z"
   },
   {
    "duration": 10,
    "start_time": "2024-02-25T10:58:48.806Z"
   },
   {
    "duration": 10,
    "start_time": "2024-02-25T10:58:48.818Z"
   },
   {
    "duration": 7,
    "start_time": "2024-02-25T10:58:48.831Z"
   },
   {
    "duration": 126,
    "start_time": "2024-02-25T10:58:48.840Z"
   },
   {
    "duration": 119,
    "start_time": "2024-02-25T10:58:48.968Z"
   },
   {
    "duration": 153,
    "start_time": "2024-02-25T10:58:49.089Z"
   },
   {
    "duration": 144,
    "start_time": "2024-02-25T10:58:49.244Z"
   },
   {
    "duration": 447,
    "start_time": "2024-02-25T10:58:49.390Z"
   },
   {
    "duration": 387,
    "start_time": "2024-02-25T10:58:49.839Z"
   },
   {
    "duration": 187,
    "start_time": "2024-02-25T10:58:50.228Z"
   },
   {
    "duration": 216,
    "start_time": "2024-02-25T10:58:50.417Z"
   },
   {
    "duration": 124,
    "start_time": "2024-02-25T10:58:50.635Z"
   },
   {
    "duration": 27,
    "start_time": "2024-02-25T10:58:50.761Z"
   },
   {
    "duration": 4,
    "start_time": "2024-02-25T10:58:50.789Z"
   },
   {
    "duration": 6,
    "start_time": "2024-02-25T10:58:50.795Z"
   },
   {
    "duration": 14,
    "start_time": "2024-02-25T10:58:50.802Z"
   },
   {
    "duration": 180,
    "start_time": "2024-02-25T10:58:50.817Z"
   },
   {
    "duration": 4,
    "start_time": "2024-02-25T10:58:50.999Z"
   },
   {
    "duration": 6,
    "start_time": "2024-02-25T10:58:51.004Z"
   },
   {
    "duration": 12,
    "start_time": "2024-02-25T10:58:51.011Z"
   },
   {
    "duration": 3,
    "start_time": "2024-02-25T10:58:51.025Z"
   },
   {
    "duration": 8,
    "start_time": "2024-02-25T10:58:51.030Z"
   },
   {
    "duration": 13,
    "start_time": "2024-02-25T10:58:51.040Z"
   },
   {
    "duration": 7,
    "start_time": "2024-02-25T10:58:51.079Z"
   },
   {
    "duration": 7,
    "start_time": "2024-02-25T10:58:51.087Z"
   },
   {
    "duration": 9,
    "start_time": "2024-02-25T10:58:51.095Z"
   },
   {
    "duration": 6,
    "start_time": "2024-02-25T10:58:51.106Z"
   },
   {
    "duration": 568,
    "start_time": "2024-02-25T10:58:51.114Z"
   },
   {
    "duration": 387,
    "start_time": "2024-02-25T10:58:51.684Z"
   },
   {
    "duration": 8,
    "start_time": "2024-02-25T10:58:52.073Z"
   },
   {
    "duration": 551,
    "start_time": "2024-02-25T10:58:52.083Z"
   },
   {
    "duration": 8,
    "start_time": "2024-02-25T10:58:52.636Z"
   },
   {
    "duration": 12,
    "start_time": "2024-02-25T10:58:52.646Z"
   },
   {
    "duration": 554,
    "start_time": "2024-02-25T10:58:52.660Z"
   },
   {
    "duration": 5,
    "start_time": "2024-02-25T10:58:53.216Z"
   },
   {
    "duration": 2744,
    "start_time": "2024-02-25T10:58:53.223Z"
   },
   {
    "duration": 19,
    "start_time": "2024-02-25T10:58:55.969Z"
   },
   {
    "duration": 8,
    "start_time": "2024-02-25T10:58:55.990Z"
   },
   {
    "duration": 11,
    "start_time": "2024-02-25T10:58:56.000Z"
   },
   {
    "duration": 1468,
    "start_time": "2024-02-25T10:58:56.013Z"
   },
   {
    "duration": 11,
    "start_time": "2024-02-25T10:58:57.483Z"
   },
   {
    "duration": 34,
    "start_time": "2024-02-25T10:58:57.496Z"
   },
   {
    "duration": 4,
    "start_time": "2024-02-25T10:58:57.531Z"
   },
   {
    "duration": 10,
    "start_time": "2024-02-25T10:58:57.537Z"
   },
   {
    "duration": 45,
    "start_time": "2024-02-25T10:58:57.549Z"
   },
   {
    "duration": 520,
    "start_time": "2024-02-25T10:58:57.595Z"
   },
   {
    "duration": 30,
    "start_time": "2024-02-25T10:58:58.117Z"
   },
   {
    "duration": 8,
    "start_time": "2024-02-25T10:58:58.149Z"
   },
   {
    "duration": 32,
    "start_time": "2024-02-25T10:58:58.158Z"
   },
   {
    "duration": 4,
    "start_time": "2024-02-25T10:58:58.196Z"
   },
   {
    "duration": 14,
    "start_time": "2024-02-25T10:58:58.201Z"
   },
   {
    "duration": 11,
    "start_time": "2024-02-25T10:58:58.216Z"
   },
   {
    "duration": 21,
    "start_time": "2024-02-25T10:58:58.228Z"
   },
   {
    "duration": 10,
    "start_time": "2024-02-25T10:58:58.251Z"
   },
   {
    "duration": 5,
    "start_time": "2024-02-25T10:58:58.262Z"
   },
   {
    "duration": 7,
    "start_time": "2024-02-25T10:58:58.269Z"
   },
   {
    "duration": 6,
    "start_time": "2024-02-25T10:58:58.277Z"
   },
   {
    "duration": 5,
    "start_time": "2024-02-25T10:58:58.284Z"
   },
   {
    "duration": 5,
    "start_time": "2024-02-25T10:58:58.291Z"
   },
   {
    "duration": 7,
    "start_time": "2024-02-25T10:58:58.298Z"
   },
   {
    "duration": 4,
    "start_time": "2024-02-25T10:58:58.306Z"
   },
   {
    "duration": 9,
    "start_time": "2024-02-25T10:58:58.311Z"
   },
   {
    "duration": 16,
    "start_time": "2024-02-25T10:58:58.321Z"
   },
   {
    "duration": 7,
    "start_time": "2024-02-25T10:58:58.339Z"
   },
   {
    "duration": 6,
    "start_time": "2024-02-25T10:58:58.347Z"
   },
   {
    "duration": 28,
    "start_time": "2024-02-25T10:58:58.354Z"
   },
   {
    "duration": 8,
    "start_time": "2024-02-25T10:58:58.383Z"
   },
   {
    "duration": 5,
    "start_time": "2024-02-25T10:58:58.393Z"
   },
   {
    "duration": 13,
    "start_time": "2024-02-25T10:58:58.400Z"
   },
   {
    "duration": 15,
    "start_time": "2024-02-25T10:58:58.415Z"
   },
   {
    "duration": 11,
    "start_time": "2024-02-25T10:58:58.432Z"
   },
   {
    "duration": 40,
    "start_time": "2024-02-25T10:58:58.444Z"
   },
   {
    "duration": 58,
    "start_time": "2024-02-25T11:31:12.999Z"
   },
   {
    "duration": 3464,
    "start_time": "2024-02-25T11:31:21.761Z"
   },
   {
    "duration": 1344,
    "start_time": "2024-02-25T11:31:25.228Z"
   },
   {
    "duration": 3,
    "start_time": "2024-02-25T11:31:26.574Z"
   },
   {
    "duration": 25,
    "start_time": "2024-02-25T11:31:26.579Z"
   },
   {
    "duration": 118,
    "start_time": "2024-02-25T11:31:26.605Z"
   },
   {
    "duration": 3,
    "start_time": "2024-02-25T11:31:26.725Z"
   },
   {
    "duration": 10,
    "start_time": "2024-02-25T11:31:26.730Z"
   },
   {
    "duration": 13,
    "start_time": "2024-02-25T11:31:26.741Z"
   },
   {
    "duration": 11,
    "start_time": "2024-02-25T11:31:26.755Z"
   },
   {
    "duration": 5,
    "start_time": "2024-02-25T11:31:26.768Z"
   },
   {
    "duration": 17,
    "start_time": "2024-02-25T11:31:26.774Z"
   },
   {
    "duration": 7,
    "start_time": "2024-02-25T11:31:26.792Z"
   },
   {
    "duration": 6,
    "start_time": "2024-02-25T11:31:26.800Z"
   },
   {
    "duration": 11,
    "start_time": "2024-02-25T11:31:26.807Z"
   },
   {
    "duration": 49,
    "start_time": "2024-02-25T11:31:26.819Z"
   },
   {
    "duration": 31,
    "start_time": "2024-02-25T11:31:26.870Z"
   },
   {
    "duration": 23,
    "start_time": "2024-02-25T11:31:26.902Z"
   },
   {
    "duration": 11,
    "start_time": "2024-02-25T11:31:26.926Z"
   },
   {
    "duration": 24,
    "start_time": "2024-02-25T11:31:26.938Z"
   },
   {
    "duration": 10,
    "start_time": "2024-02-25T11:31:26.964Z"
   },
   {
    "duration": 15,
    "start_time": "2024-02-25T11:31:26.975Z"
   },
   {
    "duration": 21,
    "start_time": "2024-02-25T11:31:26.991Z"
   },
   {
    "duration": 3,
    "start_time": "2024-02-25T11:31:27.014Z"
   },
   {
    "duration": 33,
    "start_time": "2024-02-25T11:31:27.019Z"
   },
   {
    "duration": 290,
    "start_time": "2024-02-25T11:31:27.054Z"
   },
   {
    "duration": 111,
    "start_time": "2024-02-25T11:31:27.346Z"
   },
   {
    "duration": 0,
    "start_time": "2024-02-25T11:31:27.467Z"
   },
   {
    "duration": 0,
    "start_time": "2024-02-25T11:31:27.469Z"
   },
   {
    "duration": 0,
    "start_time": "2024-02-25T11:31:27.470Z"
   },
   {
    "duration": 0,
    "start_time": "2024-02-25T11:31:27.471Z"
   },
   {
    "duration": 0,
    "start_time": "2024-02-25T11:31:27.472Z"
   },
   {
    "duration": 0,
    "start_time": "2024-02-25T11:31:27.474Z"
   },
   {
    "duration": 0,
    "start_time": "2024-02-25T11:31:27.475Z"
   },
   {
    "duration": 0,
    "start_time": "2024-02-25T11:31:27.476Z"
   },
   {
    "duration": 0,
    "start_time": "2024-02-25T11:31:27.478Z"
   },
   {
    "duration": 0,
    "start_time": "2024-02-25T11:31:27.479Z"
   },
   {
    "duration": 0,
    "start_time": "2024-02-25T11:31:27.480Z"
   },
   {
    "duration": 0,
    "start_time": "2024-02-25T11:31:27.482Z"
   },
   {
    "duration": 0,
    "start_time": "2024-02-25T11:31:27.483Z"
   },
   {
    "duration": 0,
    "start_time": "2024-02-25T11:31:27.485Z"
   },
   {
    "duration": 0,
    "start_time": "2024-02-25T11:31:27.486Z"
   },
   {
    "duration": 0,
    "start_time": "2024-02-25T11:31:27.488Z"
   },
   {
    "duration": 0,
    "start_time": "2024-02-25T11:31:27.489Z"
   },
   {
    "duration": 1,
    "start_time": "2024-02-25T11:31:27.490Z"
   },
   {
    "duration": 0,
    "start_time": "2024-02-25T11:31:27.492Z"
   },
   {
    "duration": 0,
    "start_time": "2024-02-25T11:31:27.493Z"
   },
   {
    "duration": 0,
    "start_time": "2024-02-25T11:31:27.495Z"
   },
   {
    "duration": 0,
    "start_time": "2024-02-25T11:31:27.496Z"
   },
   {
    "duration": 0,
    "start_time": "2024-02-25T11:31:27.497Z"
   },
   {
    "duration": 0,
    "start_time": "2024-02-25T11:31:27.498Z"
   },
   {
    "duration": 0,
    "start_time": "2024-02-25T11:31:27.500Z"
   },
   {
    "duration": 0,
    "start_time": "2024-02-25T11:31:27.501Z"
   },
   {
    "duration": 0,
    "start_time": "2024-02-25T11:31:27.502Z"
   },
   {
    "duration": 0,
    "start_time": "2024-02-25T11:31:27.503Z"
   },
   {
    "duration": 0,
    "start_time": "2024-02-25T11:31:27.505Z"
   },
   {
    "duration": 0,
    "start_time": "2024-02-25T11:31:27.506Z"
   },
   {
    "duration": 0,
    "start_time": "2024-02-25T11:31:27.508Z"
   },
   {
    "duration": 0,
    "start_time": "2024-02-25T11:31:27.509Z"
   },
   {
    "duration": 0,
    "start_time": "2024-02-25T11:31:27.566Z"
   },
   {
    "duration": 0,
    "start_time": "2024-02-25T11:31:27.567Z"
   },
   {
    "duration": 0,
    "start_time": "2024-02-25T11:31:27.569Z"
   },
   {
    "duration": 0,
    "start_time": "2024-02-25T11:31:27.570Z"
   },
   {
    "duration": 0,
    "start_time": "2024-02-25T11:31:27.571Z"
   },
   {
    "duration": 0,
    "start_time": "2024-02-25T11:31:27.573Z"
   },
   {
    "duration": 0,
    "start_time": "2024-02-25T11:31:27.574Z"
   },
   {
    "duration": 0,
    "start_time": "2024-02-25T11:31:27.575Z"
   },
   {
    "duration": 0,
    "start_time": "2024-02-25T11:31:27.577Z"
   },
   {
    "duration": 0,
    "start_time": "2024-02-25T11:31:27.578Z"
   },
   {
    "duration": 0,
    "start_time": "2024-02-25T11:31:27.579Z"
   },
   {
    "duration": 0,
    "start_time": "2024-02-25T11:31:27.580Z"
   },
   {
    "duration": 0,
    "start_time": "2024-02-25T11:31:27.581Z"
   },
   {
    "duration": 0,
    "start_time": "2024-02-25T11:31:27.582Z"
   },
   {
    "duration": 0,
    "start_time": "2024-02-25T11:31:27.583Z"
   },
   {
    "duration": 0,
    "start_time": "2024-02-25T11:31:27.584Z"
   },
   {
    "duration": 0,
    "start_time": "2024-02-25T11:31:27.585Z"
   },
   {
    "duration": 0,
    "start_time": "2024-02-25T11:31:27.586Z"
   },
   {
    "duration": 0,
    "start_time": "2024-02-25T11:31:27.587Z"
   },
   {
    "duration": 0,
    "start_time": "2024-02-25T11:31:27.588Z"
   },
   {
    "duration": 0,
    "start_time": "2024-02-25T11:31:27.589Z"
   },
   {
    "duration": 0,
    "start_time": "2024-02-25T11:31:27.590Z"
   },
   {
    "duration": 0,
    "start_time": "2024-02-25T11:31:27.592Z"
   },
   {
    "duration": 0,
    "start_time": "2024-02-25T11:31:27.593Z"
   },
   {
    "duration": 0,
    "start_time": "2024-02-25T11:31:27.594Z"
   },
   {
    "duration": 0,
    "start_time": "2024-02-25T11:31:27.595Z"
   },
   {
    "duration": 0,
    "start_time": "2024-02-25T11:31:27.596Z"
   },
   {
    "duration": 0,
    "start_time": "2024-02-25T11:31:27.597Z"
   },
   {
    "duration": 0,
    "start_time": "2024-02-25T11:31:27.598Z"
   },
   {
    "duration": 0,
    "start_time": "2024-02-25T11:31:27.599Z"
   },
   {
    "duration": 0,
    "start_time": "2024-02-25T11:31:27.600Z"
   },
   {
    "duration": 0,
    "start_time": "2024-02-25T11:31:27.601Z"
   },
   {
    "duration": 0,
    "start_time": "2024-02-25T11:31:27.602Z"
   },
   {
    "duration": 0,
    "start_time": "2024-02-25T11:31:27.666Z"
   },
   {
    "duration": 0,
    "start_time": "2024-02-25T11:31:27.667Z"
   },
   {
    "duration": 0,
    "start_time": "2024-02-25T11:31:27.668Z"
   },
   {
    "duration": 0,
    "start_time": "2024-02-25T11:31:27.669Z"
   },
   {
    "duration": 0,
    "start_time": "2024-02-25T11:31:27.670Z"
   },
   {
    "duration": 0,
    "start_time": "2024-02-25T11:31:27.672Z"
   },
   {
    "duration": 0,
    "start_time": "2024-02-25T11:31:27.673Z"
   },
   {
    "duration": 0,
    "start_time": "2024-02-25T11:31:27.674Z"
   },
   {
    "duration": 0,
    "start_time": "2024-02-25T11:31:27.675Z"
   },
   {
    "duration": 0,
    "start_time": "2024-02-25T11:31:27.676Z"
   },
   {
    "duration": 0,
    "start_time": "2024-02-25T11:31:27.677Z"
   },
   {
    "duration": 0,
    "start_time": "2024-02-25T11:31:27.678Z"
   },
   {
    "duration": 0,
    "start_time": "2024-02-25T11:31:27.679Z"
   },
   {
    "duration": 0,
    "start_time": "2024-02-25T11:31:27.680Z"
   },
   {
    "duration": 2367,
    "start_time": "2024-02-25T11:31:46.408Z"
   },
   {
    "duration": 1161,
    "start_time": "2024-02-25T11:31:48.777Z"
   },
   {
    "duration": 3,
    "start_time": "2024-02-25T11:31:49.939Z"
   },
   {
    "duration": 12,
    "start_time": "2024-02-25T11:31:49.944Z"
   },
   {
    "duration": 142,
    "start_time": "2024-02-25T11:31:49.957Z"
   },
   {
    "duration": 4,
    "start_time": "2024-02-25T11:31:50.100Z"
   },
   {
    "duration": 10,
    "start_time": "2024-02-25T11:31:50.105Z"
   },
   {
    "duration": 11,
    "start_time": "2024-02-25T11:31:50.117Z"
   },
   {
    "duration": 4,
    "start_time": "2024-02-25T11:31:50.130Z"
   },
   {
    "duration": 6,
    "start_time": "2024-02-25T11:31:50.136Z"
   },
   {
    "duration": 33,
    "start_time": "2024-02-25T11:31:50.144Z"
   },
   {
    "duration": 16,
    "start_time": "2024-02-25T11:31:50.178Z"
   },
   {
    "duration": 8,
    "start_time": "2024-02-25T11:31:50.196Z"
   },
   {
    "duration": 5,
    "start_time": "2024-02-25T11:31:50.206Z"
   },
   {
    "duration": 28,
    "start_time": "2024-02-25T11:31:50.213Z"
   },
   {
    "duration": 26,
    "start_time": "2024-02-25T11:31:50.243Z"
   },
   {
    "duration": 21,
    "start_time": "2024-02-25T11:31:50.270Z"
   },
   {
    "duration": 28,
    "start_time": "2024-02-25T11:31:50.292Z"
   },
   {
    "duration": 25,
    "start_time": "2024-02-25T11:31:50.322Z"
   },
   {
    "duration": 14,
    "start_time": "2024-02-25T11:31:50.348Z"
   },
   {
    "duration": 10,
    "start_time": "2024-02-25T11:31:50.364Z"
   },
   {
    "duration": 10,
    "start_time": "2024-02-25T11:31:50.376Z"
   },
   {
    "duration": 13,
    "start_time": "2024-02-25T11:31:50.387Z"
   },
   {
    "duration": 44,
    "start_time": "2024-02-25T11:31:50.401Z"
   },
   {
    "duration": 267,
    "start_time": "2024-02-25T11:31:50.446Z"
   },
   {
    "duration": 206,
    "start_time": "2024-02-25T11:31:50.715Z"
   },
   {
    "duration": 23,
    "start_time": "2024-02-25T11:31:50.923Z"
   },
   {
    "duration": 4,
    "start_time": "2024-02-25T11:31:50.950Z"
   },
   {
    "duration": 3,
    "start_time": "2024-02-25T11:31:50.966Z"
   },
   {
    "duration": 13,
    "start_time": "2024-02-25T11:31:50.971Z"
   },
   {
    "duration": 16,
    "start_time": "2024-02-25T11:31:50.985Z"
   },
   {
    "duration": 21,
    "start_time": "2024-02-25T11:31:51.003Z"
   },
   {
    "duration": 46,
    "start_time": "2024-02-25T11:31:51.026Z"
   },
   {
    "duration": 25,
    "start_time": "2024-02-25T11:31:51.074Z"
   },
   {
    "duration": 6,
    "start_time": "2024-02-25T11:31:51.100Z"
   },
   {
    "duration": 119,
    "start_time": "2024-02-25T11:31:51.107Z"
   },
   {
    "duration": 110,
    "start_time": "2024-02-25T11:31:51.228Z"
   },
   {
    "duration": 121,
    "start_time": "2024-02-25T11:31:51.339Z"
   },
   {
    "duration": 127,
    "start_time": "2024-02-25T11:31:51.465Z"
   },
   {
    "duration": 437,
    "start_time": "2024-02-25T11:31:51.594Z"
   },
   {
    "duration": 342,
    "start_time": "2024-02-25T11:31:52.032Z"
   },
   {
    "duration": 169,
    "start_time": "2024-02-25T11:31:52.376Z"
   },
   {
    "duration": 181,
    "start_time": "2024-02-25T11:31:52.547Z"
   },
   {
    "duration": 120,
    "start_time": "2024-02-25T11:31:52.730Z"
   },
   {
    "duration": 26,
    "start_time": "2024-02-25T11:31:52.853Z"
   },
   {
    "duration": 5,
    "start_time": "2024-02-25T11:31:52.881Z"
   },
   {
    "duration": 11,
    "start_time": "2024-02-25T11:31:52.887Z"
   },
   {
    "duration": 21,
    "start_time": "2024-02-25T11:31:52.899Z"
   },
   {
    "duration": 167,
    "start_time": "2024-02-25T11:31:52.922Z"
   },
   {
    "duration": 7,
    "start_time": "2024-02-25T11:31:53.091Z"
   },
   {
    "duration": 21,
    "start_time": "2024-02-25T11:31:53.099Z"
   },
   {
    "duration": 15,
    "start_time": "2024-02-25T11:31:53.122Z"
   },
   {
    "duration": 13,
    "start_time": "2024-02-25T11:31:53.139Z"
   },
   {
    "duration": 7,
    "start_time": "2024-02-25T11:31:53.153Z"
   },
   {
    "duration": 28,
    "start_time": "2024-02-25T11:31:53.161Z"
   },
   {
    "duration": 17,
    "start_time": "2024-02-25T11:31:53.190Z"
   },
   {
    "duration": 12,
    "start_time": "2024-02-25T11:31:53.208Z"
   },
   {
    "duration": 13,
    "start_time": "2024-02-25T11:31:53.221Z"
   },
   {
    "duration": 23,
    "start_time": "2024-02-25T11:31:53.235Z"
   },
   {
    "duration": 479,
    "start_time": "2024-02-25T11:31:53.260Z"
   },
   {
    "duration": 331,
    "start_time": "2024-02-25T11:31:53.740Z"
   },
   {
    "duration": 4,
    "start_time": "2024-02-25T11:31:54.073Z"
   },
   {
    "duration": 477,
    "start_time": "2024-02-25T11:31:54.079Z"
   },
   {
    "duration": 11,
    "start_time": "2024-02-25T11:31:54.558Z"
   },
   {
    "duration": 24,
    "start_time": "2024-02-25T11:31:54.571Z"
   },
   {
    "duration": 501,
    "start_time": "2024-02-25T11:31:54.597Z"
   },
   {
    "duration": 5,
    "start_time": "2024-02-25T11:31:55.099Z"
   },
   {
    "duration": 2428,
    "start_time": "2024-02-25T11:31:55.105Z"
   },
   {
    "duration": 11,
    "start_time": "2024-02-25T11:31:57.534Z"
   },
   {
    "duration": 20,
    "start_time": "2024-02-25T11:31:57.546Z"
   },
   {
    "duration": 15,
    "start_time": "2024-02-25T11:31:57.567Z"
   },
   {
    "duration": 1343,
    "start_time": "2024-02-25T11:31:57.584Z"
   },
   {
    "duration": 9,
    "start_time": "2024-02-25T11:31:58.928Z"
   },
   {
    "duration": 34,
    "start_time": "2024-02-25T11:31:58.939Z"
   },
   {
    "duration": 4,
    "start_time": "2024-02-25T11:31:58.974Z"
   },
   {
    "duration": 34,
    "start_time": "2024-02-25T11:31:58.979Z"
   },
   {
    "duration": 18,
    "start_time": "2024-02-25T11:31:59.014Z"
   },
   {
    "duration": 774,
    "start_time": "2024-02-25T11:31:59.034Z"
   },
   {
    "duration": 79,
    "start_time": "2024-02-25T11:31:59.810Z"
   },
   {
    "duration": 8,
    "start_time": "2024-02-25T11:31:59.890Z"
   },
   {
    "duration": 72,
    "start_time": "2024-02-25T11:31:59.899Z"
   },
   {
    "duration": 5,
    "start_time": "2024-02-25T11:31:59.978Z"
   },
   {
    "duration": 12,
    "start_time": "2024-02-25T11:31:59.985Z"
   },
   {
    "duration": 6,
    "start_time": "2024-02-25T11:31:59.999Z"
   },
   {
    "duration": 60,
    "start_time": "2024-02-25T11:32:00.007Z"
   },
   {
    "duration": 27,
    "start_time": "2024-02-25T11:32:00.068Z"
   },
   {
    "duration": 23,
    "start_time": "2024-02-25T11:32:00.096Z"
   },
   {
    "duration": 60,
    "start_time": "2024-02-25T11:32:00.121Z"
   },
   {
    "duration": 33,
    "start_time": "2024-02-25T11:32:00.182Z"
   },
   {
    "duration": 27,
    "start_time": "2024-02-25T11:32:00.216Z"
   },
   {
    "duration": 47,
    "start_time": "2024-02-25T11:32:00.245Z"
   },
   {
    "duration": 95,
    "start_time": "2024-02-25T11:32:00.293Z"
   },
   {
    "duration": 55,
    "start_time": "2024-02-25T11:32:00.390Z"
   },
   {
    "duration": 55,
    "start_time": "2024-02-25T11:32:00.447Z"
   },
   {
    "duration": 55,
    "start_time": "2024-02-25T11:32:00.503Z"
   },
   {
    "duration": 43,
    "start_time": "2024-02-25T11:32:00.560Z"
   },
   {
    "duration": 71,
    "start_time": "2024-02-25T11:32:00.605Z"
   },
   {
    "duration": 65,
    "start_time": "2024-02-25T11:32:00.678Z"
   },
   {
    "duration": 46,
    "start_time": "2024-02-25T11:32:00.744Z"
   },
   {
    "duration": 55,
    "start_time": "2024-02-25T11:32:00.791Z"
   },
   {
    "duration": 60,
    "start_time": "2024-02-25T11:32:00.848Z"
   },
   {
    "duration": 74,
    "start_time": "2024-02-25T11:32:00.910Z"
   },
   {
    "duration": 75,
    "start_time": "2024-02-25T11:32:00.985Z"
   },
   {
    "duration": 71,
    "start_time": "2024-02-25T11:32:01.061Z"
   },
   {
    "duration": 72,
    "start_time": "2024-02-25T11:33:05.696Z"
   },
   {
    "duration": 329,
    "start_time": "2024-02-25T11:33:29.130Z"
   },
   {
    "duration": 240,
    "start_time": "2024-02-25T11:33:36.115Z"
   },
   {
    "duration": 209,
    "start_time": "2024-02-25T11:33:56.316Z"
   },
   {
    "duration": 328,
    "start_time": "2024-02-25T11:36:24.011Z"
   },
   {
    "duration": 252,
    "start_time": "2024-02-25T11:36:29.070Z"
   },
   {
    "duration": 258,
    "start_time": "2024-02-25T11:36:58.609Z"
   },
   {
    "duration": 371,
    "start_time": "2024-02-25T11:37:16.149Z"
   },
   {
    "duration": 293,
    "start_time": "2024-02-25T11:37:22.308Z"
   },
   {
    "duration": 256,
    "start_time": "2024-02-25T11:37:28.321Z"
   },
   {
    "duration": 270,
    "start_time": "2024-02-25T11:37:37.328Z"
   },
   {
    "duration": 71,
    "start_time": "2024-02-25T11:38:10.267Z"
   },
   {
    "duration": 241,
    "start_time": "2024-02-25T11:38:12.757Z"
   },
   {
    "duration": 74,
    "start_time": "2024-02-25T11:40:24.243Z"
   },
   {
    "duration": 121,
    "start_time": "2024-02-25T11:40:27.322Z"
   },
   {
    "duration": 235,
    "start_time": "2024-02-25T11:40:38.592Z"
   },
   {
    "duration": 124,
    "start_time": "2024-02-25T11:46:12.106Z"
   },
   {
    "duration": 133,
    "start_time": "2024-02-25T11:46:52.182Z"
   },
   {
    "duration": 180,
    "start_time": "2024-02-25T11:49:25.814Z"
   },
   {
    "duration": 142,
    "start_time": "2024-02-25T11:49:41.269Z"
   },
   {
    "duration": 24,
    "start_time": "2024-02-25T11:56:09.381Z"
   },
   {
    "duration": 3,
    "start_time": "2024-02-25T11:56:26.491Z"
   },
   {
    "duration": 7,
    "start_time": "2024-02-25T11:56:32.757Z"
   },
   {
    "duration": 11,
    "start_time": "2024-02-25T11:56:47.790Z"
   },
   {
    "duration": 1336,
    "start_time": "2024-02-25T11:59:13.566Z"
   },
   {
    "duration": 1337,
    "start_time": "2024-02-25T12:00:02.202Z"
   },
   {
    "duration": 1367,
    "start_time": "2024-02-25T12:04:22.798Z"
   },
   {
    "duration": 176,
    "start_time": "2024-02-25T13:04:10.726Z"
   },
   {
    "duration": 393,
    "start_time": "2024-02-25T13:06:49.186Z"
   },
   {
    "duration": 384,
    "start_time": "2024-02-25T13:07:41.765Z"
   },
   {
    "duration": 207,
    "start_time": "2024-02-25T13:08:55.206Z"
   },
   {
    "duration": 208,
    "start_time": "2024-02-25T13:10:27.860Z"
   },
   {
    "duration": 263,
    "start_time": "2024-02-25T13:12:16.365Z"
   },
   {
    "duration": 141,
    "start_time": "2024-02-25T13:12:26.101Z"
   },
   {
    "duration": 5,
    "start_time": "2024-02-25T13:13:12.868Z"
   },
   {
    "duration": 2498,
    "start_time": "2024-02-25T13:13:14.938Z"
   },
   {
    "duration": 6,
    "start_time": "2024-02-25T13:13:57.729Z"
   },
   {
    "duration": 2594,
    "start_time": "2024-02-25T13:13:59.713Z"
   },
   {
    "duration": 2491,
    "start_time": "2024-02-25T13:14:46.469Z"
   },
   {
    "duration": 1284,
    "start_time": "2024-02-25T13:14:48.962Z"
   },
   {
    "duration": 3,
    "start_time": "2024-02-25T13:14:50.247Z"
   },
   {
    "duration": 6,
    "start_time": "2024-02-25T13:14:50.252Z"
   },
   {
    "duration": 127,
    "start_time": "2024-02-25T13:14:50.260Z"
   },
   {
    "duration": 3,
    "start_time": "2024-02-25T13:14:50.389Z"
   },
   {
    "duration": 13,
    "start_time": "2024-02-25T13:14:50.393Z"
   },
   {
    "duration": 13,
    "start_time": "2024-02-25T13:14:50.407Z"
   },
   {
    "duration": 7,
    "start_time": "2024-02-25T13:14:50.421Z"
   },
   {
    "duration": 11,
    "start_time": "2024-02-25T13:14:50.430Z"
   },
   {
    "duration": 23,
    "start_time": "2024-02-25T13:14:50.443Z"
   },
   {
    "duration": 9,
    "start_time": "2024-02-25T13:14:50.467Z"
   },
   {
    "duration": 18,
    "start_time": "2024-02-25T13:14:50.478Z"
   },
   {
    "duration": 9,
    "start_time": "2024-02-25T13:14:50.498Z"
   },
   {
    "duration": 34,
    "start_time": "2024-02-25T13:14:50.508Z"
   },
   {
    "duration": 19,
    "start_time": "2024-02-25T13:14:50.543Z"
   },
   {
    "duration": 22,
    "start_time": "2024-02-25T13:14:50.563Z"
   },
   {
    "duration": 27,
    "start_time": "2024-02-25T13:14:50.586Z"
   },
   {
    "duration": 53,
    "start_time": "2024-02-25T13:14:50.614Z"
   },
   {
    "duration": 13,
    "start_time": "2024-02-25T13:14:50.668Z"
   },
   {
    "duration": 67,
    "start_time": "2024-02-25T13:14:50.683Z"
   },
   {
    "duration": 39,
    "start_time": "2024-02-25T13:14:50.752Z"
   },
   {
    "duration": 31,
    "start_time": "2024-02-25T13:14:50.793Z"
   },
   {
    "duration": 89,
    "start_time": "2024-02-25T13:14:50.825Z"
   },
   {
    "duration": 319,
    "start_time": "2024-02-25T13:14:50.915Z"
   },
   {
    "duration": 234,
    "start_time": "2024-02-25T13:14:51.235Z"
   },
   {
    "duration": 23,
    "start_time": "2024-02-25T13:14:51.471Z"
   },
   {
    "duration": 16,
    "start_time": "2024-02-25T13:14:51.498Z"
   },
   {
    "duration": 48,
    "start_time": "2024-02-25T13:14:51.515Z"
   },
   {
    "duration": 46,
    "start_time": "2024-02-25T13:14:51.565Z"
   },
   {
    "duration": 46,
    "start_time": "2024-02-25T13:14:51.612Z"
   },
   {
    "duration": 7,
    "start_time": "2024-02-25T13:14:51.659Z"
   },
   {
    "duration": 31,
    "start_time": "2024-02-25T13:14:51.668Z"
   },
   {
    "duration": 13,
    "start_time": "2024-02-25T13:14:51.700Z"
   },
   {
    "duration": 29,
    "start_time": "2024-02-25T13:14:51.715Z"
   },
   {
    "duration": 149,
    "start_time": "2024-02-25T13:14:51.746Z"
   },
   {
    "duration": 142,
    "start_time": "2024-02-25T13:14:51.896Z"
   },
   {
    "duration": 159,
    "start_time": "2024-02-25T13:14:52.040Z"
   },
   {
    "duration": 171,
    "start_time": "2024-02-25T13:14:52.200Z"
   },
   {
    "duration": 488,
    "start_time": "2024-02-25T13:14:52.373Z"
   },
   {
    "duration": 408,
    "start_time": "2024-02-25T13:14:52.862Z"
   },
   {
    "duration": 202,
    "start_time": "2024-02-25T13:14:53.272Z"
   },
   {
    "duration": 229,
    "start_time": "2024-02-25T13:14:53.476Z"
   },
   {
    "duration": 151,
    "start_time": "2024-02-25T13:14:53.707Z"
   },
   {
    "duration": 22,
    "start_time": "2024-02-25T13:14:53.860Z"
   },
   {
    "duration": 5,
    "start_time": "2024-02-25T13:14:53.884Z"
   },
   {
    "duration": 11,
    "start_time": "2024-02-25T13:14:53.890Z"
   },
   {
    "duration": 28,
    "start_time": "2024-02-25T13:14:53.903Z"
   },
   {
    "duration": 180,
    "start_time": "2024-02-25T13:14:53.933Z"
   },
   {
    "duration": 5,
    "start_time": "2024-02-25T13:14:54.114Z"
   },
   {
    "duration": 8,
    "start_time": "2024-02-25T13:14:54.120Z"
   },
   {
    "duration": 14,
    "start_time": "2024-02-25T13:14:54.131Z"
   },
   {
    "duration": 3,
    "start_time": "2024-02-25T13:14:54.147Z"
   },
   {
    "duration": 4,
    "start_time": "2024-02-25T13:14:54.166Z"
   },
   {
    "duration": 30,
    "start_time": "2024-02-25T13:14:54.172Z"
   },
   {
    "duration": 7,
    "start_time": "2024-02-25T13:14:54.204Z"
   },
   {
    "duration": 12,
    "start_time": "2024-02-25T13:14:54.213Z"
   },
   {
    "duration": 14,
    "start_time": "2024-02-25T13:14:54.227Z"
   },
   {
    "duration": 9,
    "start_time": "2024-02-25T13:14:54.242Z"
   },
   {
    "duration": 548,
    "start_time": "2024-02-25T13:14:54.252Z"
   },
   {
    "duration": 397,
    "start_time": "2024-02-25T13:14:54.802Z"
   },
   {
    "duration": 5,
    "start_time": "2024-02-25T13:14:55.201Z"
   },
   {
    "duration": 537,
    "start_time": "2024-02-25T13:14:55.208Z"
   },
   {
    "duration": 8,
    "start_time": "2024-02-25T13:14:55.747Z"
   },
   {
    "duration": 32,
    "start_time": "2024-02-25T13:14:55.766Z"
   },
   {
    "duration": 616,
    "start_time": "2024-02-25T13:14:55.800Z"
   },
   {
    "duration": 4,
    "start_time": "2024-02-25T13:14:56.418Z"
   },
   {
    "duration": 2713,
    "start_time": "2024-02-25T13:14:56.423Z"
   },
   {
    "duration": 12,
    "start_time": "2024-02-25T13:14:59.137Z"
   },
   {
    "duration": 79,
    "start_time": "2024-02-25T13:14:59.150Z"
   },
   {
    "duration": 32,
    "start_time": "2024-02-25T13:14:59.231Z"
   },
   {
    "duration": 1458,
    "start_time": "2024-02-25T13:14:59.265Z"
   },
   {
    "duration": 10,
    "start_time": "2024-02-25T13:15:00.725Z"
   },
   {
    "duration": 117,
    "start_time": "2024-02-25T13:15:00.737Z"
   },
   {
    "duration": 50,
    "start_time": "2024-02-25T13:15:00.855Z"
   },
   {
    "duration": 43,
    "start_time": "2024-02-25T13:15:00.906Z"
   },
   {
    "duration": 141,
    "start_time": "2024-02-25T13:15:00.950Z"
   },
   {
    "duration": 34,
    "start_time": "2024-02-25T13:15:01.092Z"
   },
   {
    "duration": 92,
    "start_time": "2024-02-25T13:15:01.128Z"
   },
   {
    "duration": 618,
    "start_time": "2024-02-25T13:15:01.222Z"
   },
   {
    "duration": 44,
    "start_time": "2024-02-25T13:15:01.842Z"
   },
   {
    "duration": 58,
    "start_time": "2024-02-25T13:15:01.892Z"
   },
   {
    "duration": 51,
    "start_time": "2024-02-25T13:15:01.951Z"
   },
   {
    "duration": 56,
    "start_time": "2024-02-25T13:15:02.004Z"
   },
   {
    "duration": 51,
    "start_time": "2024-02-25T13:15:02.062Z"
   },
   {
    "duration": 75,
    "start_time": "2024-02-25T13:15:02.115Z"
   },
   {
    "duration": 20,
    "start_time": "2024-02-25T13:15:02.191Z"
   },
   {
    "duration": 41,
    "start_time": "2024-02-25T13:15:02.213Z"
   },
   {
    "duration": 11,
    "start_time": "2024-02-25T13:15:02.256Z"
   },
   {
    "duration": 15,
    "start_time": "2024-02-25T13:15:02.269Z"
   },
   {
    "duration": 11,
    "start_time": "2024-02-25T13:15:02.286Z"
   },
   {
    "duration": 24,
    "start_time": "2024-02-25T13:15:02.298Z"
   },
   {
    "duration": 12,
    "start_time": "2024-02-25T13:15:02.323Z"
   },
   {
    "duration": 38,
    "start_time": "2024-02-25T13:15:02.336Z"
   },
   {
    "duration": 32,
    "start_time": "2024-02-25T13:15:02.376Z"
   },
   {
    "duration": 63,
    "start_time": "2024-02-25T13:15:02.410Z"
   },
   {
    "duration": 17,
    "start_time": "2024-02-25T13:15:02.474Z"
   },
   {
    "duration": 22,
    "start_time": "2024-02-25T13:15:02.492Z"
   },
   {
    "duration": 12,
    "start_time": "2024-02-25T13:15:02.515Z"
   },
   {
    "duration": 14,
    "start_time": "2024-02-25T13:15:02.529Z"
   },
   {
    "duration": 9,
    "start_time": "2024-02-25T13:15:02.544Z"
   },
   {
    "duration": 32,
    "start_time": "2024-02-25T13:15:02.555Z"
   },
   {
    "duration": 47,
    "start_time": "2024-02-25T13:15:02.589Z"
   },
   {
    "duration": 76,
    "start_time": "2024-02-25T13:15:02.638Z"
   },
   {
    "duration": 15,
    "start_time": "2024-02-25T13:15:02.716Z"
   },
   {
    "duration": 26,
    "start_time": "2024-02-25T13:15:02.732Z"
   },
   {
    "duration": 2370,
    "start_time": "2024-02-25T18:06:05.915Z"
   },
   {
    "duration": 1165,
    "start_time": "2024-02-25T18:06:08.287Z"
   },
   {
    "duration": 3,
    "start_time": "2024-02-25T18:06:09.454Z"
   },
   {
    "duration": 21,
    "start_time": "2024-02-25T18:06:09.458Z"
   },
   {
    "duration": 93,
    "start_time": "2024-02-25T18:06:09.480Z"
   },
   {
    "duration": 3,
    "start_time": "2024-02-25T18:06:09.575Z"
   },
   {
    "duration": 11,
    "start_time": "2024-02-25T18:06:09.579Z"
   },
   {
    "duration": 31,
    "start_time": "2024-02-25T18:06:09.592Z"
   },
   {
    "duration": 4,
    "start_time": "2024-02-25T18:06:09.625Z"
   },
   {
    "duration": 21,
    "start_time": "2024-02-25T18:06:09.630Z"
   },
   {
    "duration": 23,
    "start_time": "2024-02-25T18:06:09.652Z"
   },
   {
    "duration": 15,
    "start_time": "2024-02-25T18:06:09.677Z"
   },
   {
    "duration": 16,
    "start_time": "2024-02-25T18:06:09.693Z"
   },
   {
    "duration": 5,
    "start_time": "2024-02-25T18:06:09.712Z"
   },
   {
    "duration": 31,
    "start_time": "2024-02-25T18:06:09.719Z"
   },
   {
    "duration": 8,
    "start_time": "2024-02-25T18:06:09.752Z"
   },
   {
    "duration": 24,
    "start_time": "2024-02-25T18:06:09.762Z"
   },
   {
    "duration": 4,
    "start_time": "2024-02-25T18:06:09.788Z"
   },
   {
    "duration": 36,
    "start_time": "2024-02-25T18:06:09.794Z"
   },
   {
    "duration": 22,
    "start_time": "2024-02-25T18:06:09.832Z"
   },
   {
    "duration": 30,
    "start_time": "2024-02-25T18:06:09.855Z"
   },
   {
    "duration": 35,
    "start_time": "2024-02-25T18:06:09.887Z"
   },
   {
    "duration": 21,
    "start_time": "2024-02-25T18:06:09.923Z"
   },
   {
    "duration": 41,
    "start_time": "2024-02-25T18:06:09.945Z"
   },
   {
    "duration": 291,
    "start_time": "2024-02-25T18:06:09.988Z"
   },
   {
    "duration": 242,
    "start_time": "2024-02-25T18:06:10.282Z"
   },
   {
    "duration": 43,
    "start_time": "2024-02-25T18:06:10.526Z"
   },
   {
    "duration": 4,
    "start_time": "2024-02-25T18:06:10.571Z"
   },
   {
    "duration": 24,
    "start_time": "2024-02-25T18:06:10.577Z"
   },
   {
    "duration": 39,
    "start_time": "2024-02-25T18:06:10.603Z"
   },
   {
    "duration": 53,
    "start_time": "2024-02-25T18:06:10.643Z"
   },
   {
    "duration": 18,
    "start_time": "2024-02-25T18:06:10.698Z"
   },
   {
    "duration": 30,
    "start_time": "2024-02-25T18:06:10.718Z"
   },
   {
    "duration": 30,
    "start_time": "2024-02-25T18:06:10.749Z"
   },
   {
    "duration": 46,
    "start_time": "2024-02-25T18:06:10.780Z"
   },
   {
    "duration": 145,
    "start_time": "2024-02-25T18:06:10.828Z"
   },
   {
    "duration": 147,
    "start_time": "2024-02-25T18:06:10.974Z"
   },
   {
    "duration": 152,
    "start_time": "2024-02-25T18:06:11.122Z"
   },
   {
    "duration": 158,
    "start_time": "2024-02-25T18:06:11.275Z"
   },
   {
    "duration": 459,
    "start_time": "2024-02-25T18:06:11.435Z"
   },
   {
    "duration": 399,
    "start_time": "2024-02-25T18:06:11.899Z"
   },
   {
    "duration": 197,
    "start_time": "2024-02-25T18:06:12.300Z"
   },
   {
    "duration": 218,
    "start_time": "2024-02-25T18:06:12.499Z"
   },
   {
    "duration": 149,
    "start_time": "2024-02-25T18:06:12.719Z"
   },
   {
    "duration": 18,
    "start_time": "2024-02-25T18:06:12.869Z"
   },
   {
    "duration": 5,
    "start_time": "2024-02-25T18:06:12.888Z"
   },
   {
    "duration": 30,
    "start_time": "2024-02-25T18:06:12.894Z"
   },
   {
    "duration": 28,
    "start_time": "2024-02-25T18:06:12.925Z"
   },
   {
    "duration": 154,
    "start_time": "2024-02-25T18:06:12.954Z"
   },
   {
    "duration": 5,
    "start_time": "2024-02-25T18:06:13.110Z"
   },
   {
    "duration": 15,
    "start_time": "2024-02-25T18:06:13.116Z"
   },
   {
    "duration": 20,
    "start_time": "2024-02-25T18:06:13.132Z"
   },
   {
    "duration": 9,
    "start_time": "2024-02-25T18:06:13.153Z"
   },
   {
    "duration": 14,
    "start_time": "2024-02-25T18:06:13.164Z"
   },
   {
    "duration": 13,
    "start_time": "2024-02-25T18:06:13.179Z"
   },
   {
    "duration": 7,
    "start_time": "2024-02-25T18:06:13.193Z"
   },
   {
    "duration": 6,
    "start_time": "2024-02-25T18:06:13.201Z"
   },
   {
    "duration": 9,
    "start_time": "2024-02-25T18:06:13.208Z"
   },
   {
    "duration": 6,
    "start_time": "2024-02-25T18:06:13.219Z"
   },
   {
    "duration": 523,
    "start_time": "2024-02-25T18:06:13.227Z"
   },
   {
    "duration": 337,
    "start_time": "2024-02-25T18:06:13.752Z"
   },
   {
    "duration": 4,
    "start_time": "2024-02-25T18:06:14.091Z"
   },
   {
    "duration": 477,
    "start_time": "2024-02-25T18:06:14.096Z"
   },
   {
    "duration": 8,
    "start_time": "2024-02-25T18:06:14.574Z"
   },
   {
    "duration": 9,
    "start_time": "2024-02-25T18:06:14.583Z"
   },
   {
    "duration": 544,
    "start_time": "2024-02-25T18:06:14.593Z"
   },
   {
    "duration": 5,
    "start_time": "2024-02-25T18:06:15.138Z"
   },
   {
    "duration": 2601,
    "start_time": "2024-02-25T18:06:15.145Z"
   },
   {
    "duration": 19,
    "start_time": "2024-02-25T18:06:17.748Z"
   },
   {
    "duration": 13,
    "start_time": "2024-02-25T18:06:17.768Z"
   },
   {
    "duration": 13,
    "start_time": "2024-02-25T18:06:17.782Z"
   },
   {
    "duration": 1338,
    "start_time": "2024-02-25T18:06:17.797Z"
   },
   {
    "duration": 9,
    "start_time": "2024-02-25T18:06:19.137Z"
   },
   {
    "duration": 41,
    "start_time": "2024-02-25T18:06:19.147Z"
   },
   {
    "duration": 3,
    "start_time": "2024-02-25T18:06:19.190Z"
   },
   {
    "duration": 13,
    "start_time": "2024-02-25T18:06:19.195Z"
   },
   {
    "duration": 22,
    "start_time": "2024-02-25T18:06:19.210Z"
   },
   {
    "duration": 3,
    "start_time": "2024-02-25T18:06:19.234Z"
   },
   {
    "duration": 45,
    "start_time": "2024-02-25T18:06:19.238Z"
   },
   {
    "duration": 496,
    "start_time": "2024-02-25T18:06:19.284Z"
   },
   {
    "duration": 33,
    "start_time": "2024-02-25T18:06:19.782Z"
   },
   {
    "duration": 7,
    "start_time": "2024-02-25T18:06:19.817Z"
   },
   {
    "duration": 21,
    "start_time": "2024-02-25T18:06:19.825Z"
   },
   {
    "duration": 19,
    "start_time": "2024-02-25T18:06:19.847Z"
   },
   {
    "duration": 12,
    "start_time": "2024-02-25T18:06:19.868Z"
   },
   {
    "duration": 8,
    "start_time": "2024-02-25T18:06:19.882Z"
   },
   {
    "duration": 16,
    "start_time": "2024-02-25T18:06:19.892Z"
   },
   {
    "duration": 19,
    "start_time": "2024-02-25T18:06:19.910Z"
   },
   {
    "duration": 13,
    "start_time": "2024-02-25T18:06:19.930Z"
   },
   {
    "duration": 9,
    "start_time": "2024-02-25T18:06:19.945Z"
   },
   {
    "duration": 5,
    "start_time": "2024-02-25T18:06:19.955Z"
   },
   {
    "duration": 39,
    "start_time": "2024-02-25T18:06:19.962Z"
   },
   {
    "duration": 13,
    "start_time": "2024-02-25T18:06:20.002Z"
   },
   {
    "duration": 22,
    "start_time": "2024-02-25T18:06:20.016Z"
   },
   {
    "duration": 5,
    "start_time": "2024-02-25T18:06:20.040Z"
   },
   {
    "duration": 16,
    "start_time": "2024-02-25T18:06:20.046Z"
   },
   {
    "duration": 13,
    "start_time": "2024-02-25T18:06:20.063Z"
   },
   {
    "duration": 10,
    "start_time": "2024-02-25T18:06:20.077Z"
   },
   {
    "duration": 22,
    "start_time": "2024-02-25T18:06:20.088Z"
   },
   {
    "duration": 11,
    "start_time": "2024-02-25T18:06:20.111Z"
   },
   {
    "duration": 14,
    "start_time": "2024-02-25T18:06:20.123Z"
   },
   {
    "duration": 16,
    "start_time": "2024-02-25T18:06:20.139Z"
   },
   {
    "duration": 20,
    "start_time": "2024-02-25T18:06:20.157Z"
   },
   {
    "duration": 25,
    "start_time": "2024-02-25T18:06:20.178Z"
   },
   {
    "duration": 30,
    "start_time": "2024-02-25T18:06:20.204Z"
   },
   {
    "duration": 13,
    "start_time": "2024-02-25T18:06:20.235Z"
   },
   {
    "duration": 3970,
    "start_time": "2024-02-26T08:52:36.713Z"
   },
   {
    "duration": 1810,
    "start_time": "2024-02-26T08:52:40.685Z"
   },
   {
    "duration": 3,
    "start_time": "2024-02-26T08:52:42.497Z"
   },
   {
    "duration": 6,
    "start_time": "2024-02-26T08:52:42.501Z"
   },
   {
    "duration": 104,
    "start_time": "2024-02-26T08:52:42.508Z"
   },
   {
    "duration": 3,
    "start_time": "2024-02-26T08:52:42.614Z"
   },
   {
    "duration": 6,
    "start_time": "2024-02-26T08:52:42.619Z"
   },
   {
    "duration": 9,
    "start_time": "2024-02-26T08:52:42.627Z"
   },
   {
    "duration": 4,
    "start_time": "2024-02-26T08:52:42.637Z"
   },
   {
    "duration": 5,
    "start_time": "2024-02-26T08:52:42.643Z"
   },
   {
    "duration": 16,
    "start_time": "2024-02-26T08:52:42.649Z"
   },
   {
    "duration": 7,
    "start_time": "2024-02-26T08:52:42.666Z"
   },
   {
    "duration": 40,
    "start_time": "2024-02-26T08:52:42.675Z"
   },
   {
    "duration": 4,
    "start_time": "2024-02-26T08:52:42.716Z"
   },
   {
    "duration": 22,
    "start_time": "2024-02-26T08:52:42.721Z"
   },
   {
    "duration": 8,
    "start_time": "2024-02-26T08:52:42.745Z"
   },
   {
    "duration": 19,
    "start_time": "2024-02-26T08:52:42.754Z"
   },
   {
    "duration": 5,
    "start_time": "2024-02-26T08:52:42.774Z"
   },
   {
    "duration": 47,
    "start_time": "2024-02-26T08:52:42.780Z"
   },
   {
    "duration": 7,
    "start_time": "2024-02-26T08:52:42.828Z"
   },
   {
    "duration": 9,
    "start_time": "2024-02-26T08:52:42.837Z"
   },
   {
    "duration": 9,
    "start_time": "2024-02-26T08:52:42.848Z"
   },
   {
    "duration": 3,
    "start_time": "2024-02-26T08:52:42.859Z"
   },
   {
    "duration": 26,
    "start_time": "2024-02-26T08:52:42.863Z"
   },
   {
    "duration": 316,
    "start_time": "2024-02-26T08:52:42.890Z"
   },
   {
    "duration": 254,
    "start_time": "2024-02-26T08:52:43.208Z"
   },
   {
    "duration": 24,
    "start_time": "2024-02-26T08:52:43.464Z"
   },
   {
    "duration": 4,
    "start_time": "2024-02-26T08:52:43.492Z"
   },
   {
    "duration": 19,
    "start_time": "2024-02-26T08:52:43.497Z"
   },
   {
    "duration": 9,
    "start_time": "2024-02-26T08:52:43.518Z"
   },
   {
    "duration": 14,
    "start_time": "2024-02-26T08:52:43.528Z"
   },
   {
    "duration": 5,
    "start_time": "2024-02-26T08:52:43.543Z"
   },
   {
    "duration": 12,
    "start_time": "2024-02-26T08:52:43.550Z"
   },
   {
    "duration": 3,
    "start_time": "2024-02-26T08:52:43.564Z"
   },
   {
    "duration": 6,
    "start_time": "2024-02-26T08:52:43.568Z"
   },
   {
    "duration": 150,
    "start_time": "2024-02-26T08:52:43.575Z"
   },
   {
    "duration": 140,
    "start_time": "2024-02-26T08:52:43.726Z"
   },
   {
    "duration": 167,
    "start_time": "2024-02-26T08:52:43.868Z"
   },
   {
    "duration": 168,
    "start_time": "2024-02-26T08:52:44.036Z"
   },
   {
    "duration": 507,
    "start_time": "2024-02-26T08:52:44.206Z"
   },
   {
    "duration": 397,
    "start_time": "2024-02-26T08:52:44.715Z"
   },
   {
    "duration": 206,
    "start_time": "2024-02-26T08:52:45.114Z"
   },
   {
    "duration": 217,
    "start_time": "2024-02-26T08:52:45.321Z"
   },
   {
    "duration": 152,
    "start_time": "2024-02-26T08:52:45.539Z"
   },
   {
    "duration": 26,
    "start_time": "2024-02-26T08:52:45.693Z"
   },
   {
    "duration": 35,
    "start_time": "2024-02-26T08:52:45.721Z"
   },
   {
    "duration": 41,
    "start_time": "2024-02-26T08:52:45.757Z"
   },
   {
    "duration": 48,
    "start_time": "2024-02-26T08:52:45.799Z"
   },
   {
    "duration": 171,
    "start_time": "2024-02-26T08:52:45.848Z"
   },
   {
    "duration": 4,
    "start_time": "2024-02-26T08:52:46.021Z"
   },
   {
    "duration": 4,
    "start_time": "2024-02-26T08:52:46.026Z"
   },
   {
    "duration": 11,
    "start_time": "2024-02-26T08:52:46.031Z"
   },
   {
    "duration": 11,
    "start_time": "2024-02-26T08:52:46.043Z"
   },
   {
    "duration": 5,
    "start_time": "2024-02-26T08:52:46.055Z"
   },
   {
    "duration": 16,
    "start_time": "2024-02-26T08:52:46.061Z"
   },
   {
    "duration": 6,
    "start_time": "2024-02-26T08:52:46.079Z"
   },
   {
    "duration": 6,
    "start_time": "2024-02-26T08:52:46.086Z"
   },
   {
    "duration": 7,
    "start_time": "2024-02-26T08:52:46.114Z"
   },
   {
    "duration": 5,
    "start_time": "2024-02-26T08:52:46.122Z"
   },
   {
    "duration": 493,
    "start_time": "2024-02-26T08:52:46.129Z"
   },
   {
    "duration": 345,
    "start_time": "2024-02-26T08:52:46.623Z"
   },
   {
    "duration": 5,
    "start_time": "2024-02-26T08:52:46.969Z"
   },
   {
    "duration": 494,
    "start_time": "2024-02-26T08:52:46.976Z"
   },
   {
    "duration": 7,
    "start_time": "2024-02-26T08:52:47.472Z"
   },
   {
    "duration": 8,
    "start_time": "2024-02-26T08:52:47.481Z"
   },
   {
    "duration": 515,
    "start_time": "2024-02-26T08:52:47.490Z"
   },
   {
    "duration": 8,
    "start_time": "2024-02-26T08:52:48.006Z"
   },
   {
    "duration": 2512,
    "start_time": "2024-02-26T08:52:48.016Z"
   },
   {
    "duration": 11,
    "start_time": "2024-02-26T08:52:50.529Z"
   },
   {
    "duration": 5,
    "start_time": "2024-02-26T08:52:50.542Z"
   },
   {
    "duration": 11,
    "start_time": "2024-02-26T08:52:50.548Z"
   },
   {
    "duration": 1314,
    "start_time": "2024-02-26T08:52:50.561Z"
   },
   {
    "duration": 10,
    "start_time": "2024-02-26T08:52:51.876Z"
   },
   {
    "duration": 34,
    "start_time": "2024-02-26T08:52:51.887Z"
   },
   {
    "duration": 4,
    "start_time": "2024-02-26T08:52:51.922Z"
   },
   {
    "duration": 14,
    "start_time": "2024-02-26T08:52:51.927Z"
   },
   {
    "duration": 14,
    "start_time": "2024-02-26T08:52:51.943Z"
   },
   {
    "duration": 4,
    "start_time": "2024-02-26T08:52:51.958Z"
   },
   {
    "duration": 12,
    "start_time": "2024-02-26T08:52:51.963Z"
   },
   {
    "duration": 508,
    "start_time": "2024-02-26T08:52:51.976Z"
   },
   {
    "duration": 36,
    "start_time": "2024-02-26T08:52:52.486Z"
   },
   {
    "duration": 7,
    "start_time": "2024-02-26T08:52:52.528Z"
   },
   {
    "duration": 10,
    "start_time": "2024-02-26T08:52:52.536Z"
   },
   {
    "duration": 5,
    "start_time": "2024-02-26T08:52:52.548Z"
   },
   {
    "duration": 6,
    "start_time": "2024-02-26T08:52:52.554Z"
   },
   {
    "duration": 6,
    "start_time": "2024-02-26T08:52:52.561Z"
   },
   {
    "duration": 5,
    "start_time": "2024-02-26T08:52:52.569Z"
   },
   {
    "duration": 40,
    "start_time": "2024-02-26T08:52:52.575Z"
   },
   {
    "duration": 7,
    "start_time": "2024-02-26T08:52:52.617Z"
   },
   {
    "duration": 5,
    "start_time": "2024-02-26T08:52:52.625Z"
   },
   {
    "duration": 4,
    "start_time": "2024-02-26T08:52:52.631Z"
   },
   {
    "duration": 5,
    "start_time": "2024-02-26T08:52:52.636Z"
   },
   {
    "duration": 7,
    "start_time": "2024-02-26T08:52:52.642Z"
   },
   {
    "duration": 5,
    "start_time": "2024-02-26T08:52:52.650Z"
   },
   {
    "duration": 3,
    "start_time": "2024-02-26T08:52:52.656Z"
   },
   {
    "duration": 4,
    "start_time": "2024-02-26T08:52:52.661Z"
   },
   {
    "duration": 5,
    "start_time": "2024-02-26T08:52:52.666Z"
   },
   {
    "duration": 43,
    "start_time": "2024-02-26T08:52:52.672Z"
   },
   {
    "duration": 6,
    "start_time": "2024-02-26T08:52:52.716Z"
   },
   {
    "duration": 4,
    "start_time": "2024-02-26T08:52:52.724Z"
   },
   {
    "duration": 12,
    "start_time": "2024-02-26T08:52:52.730Z"
   },
   {
    "duration": 5,
    "start_time": "2024-02-26T08:52:52.743Z"
   },
   {
    "duration": 13,
    "start_time": "2024-02-26T08:52:52.750Z"
   },
   {
    "duration": 15,
    "start_time": "2024-02-26T08:52:52.765Z"
   },
   {
    "duration": 11,
    "start_time": "2024-02-26T08:52:52.781Z"
   },
   {
    "duration": 37,
    "start_time": "2024-02-26T08:52:52.793Z"
   },
   {
    "duration": 6,
    "start_time": "2024-02-26T08:54:09.671Z"
   },
   {
    "duration": 16,
    "start_time": "2024-02-26T08:54:11.573Z"
   },
   {
    "duration": 2571,
    "start_time": "2024-02-26T08:54:17.057Z"
   }
  ],
  "kernelspec": {
   "display_name": "Python 3 (ipykernel)",
   "language": "python",
   "name": "python3"
  },
  "language_info": {
   "codemirror_mode": {
    "name": "ipython",
    "version": 3
   },
   "file_extension": ".py",
   "mimetype": "text/x-python",
   "name": "python",
   "nbconvert_exporter": "python",
   "pygments_lexer": "ipython3",
   "version": "3.9.5"
  },
  "toc": {
   "base_numbering": 1,
   "nav_menu": {},
   "number_sections": false,
   "sideBar": true,
   "skip_h1_title": false,
   "title_cell": "Table of Contents",
   "title_sidebar": "Contents",
   "toc_cell": false,
   "toc_position": {
    "height": "calc(100% - 180px)",
    "left": "10px",
    "top": "150px",
    "width": "354.187px"
   },
   "toc_section_display": true,
   "toc_window_display": true
  }
 },
 "nbformat": 4,
 "nbformat_minor": 2
}
